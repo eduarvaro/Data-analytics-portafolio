{
 "cells": [
  {
   "cell_type": "markdown",
   "id": "3Xg_RQfnafXz",
   "metadata": {
    "id": "3Xg_RQfnafXz"
   },
   "source": [
    "# ¡Llena ese carrito!"
   ]
  },
  {
   "cell_type": "markdown",
   "id": "mhIvmmkW414q",
   "metadata": {
    "id": "mhIvmmkW414q"
   },
   "source": [
    "# Introducción\n",
    "\n",
    "Instacart es una plataforma de entregas de comestibles donde la clientela puede registrar un pedido y hacer que se lo entreguen, similar a Uber Eats y Door Dash.\n",
    "El conjunto de datos que te hemos proporcionado tiene modificaciones del original. Redujimos el tamaño del conjunto para que tus cálculos se hicieran más rápido e introdujimos valores ausentes y duplicados. Tuvimos cuidado de conservar las distribuciones de los datos originales cuando hicimos los cambios.\n",
    "\n",
    "Debes completar tres pasos. Para cada uno de ellos, escribe una breve introducción que refleje con claridad cómo pretendes resolver cada paso, y escribe párrafos explicatorios que justifiquen tus decisiones al tiempo que avanzas en tu solución.  También escribe una conclusión que resuma tus hallazgos y elecciones.\n"
   ]
  },
  {
   "cell_type": "markdown",
   "id": "3MbyzpOQZ5Or",
   "metadata": {
    "id": "3MbyzpOQZ5Or"
   },
   "source": [
    "## Diccionario de datos\n",
    "\n",
    "Hay cinco tablas en el conjunto de datos, y tendrás que usarlas todas para hacer el preprocesamiento de datos y el análisis exploratorio de datos. A continuación se muestra un diccionario de datos que enumera las columnas de cada tabla y describe los datos que contienen.\n",
    "\n",
    "- `instacart_orders.csv`: cada fila corresponde a un pedido en la aplicación Instacart.\n",
    "    - `'order_id'`: número de ID que identifica de manera única cada pedido.\n",
    "    - `'user_id'`: número de ID que identifica de manera única la cuenta de cada cliente.\n",
    "    - `'order_number'`: el número de veces que este cliente ha hecho un pedido.\n",
    "    - `'order_dow'`: día de la semana en que se hizo el pedido (0 si es domingo).\n",
    "    - `'order_hour_of_day'`: hora del día en que se hizo el pedido.\n",
    "    - `'days_since_prior_order'`: número de días transcurridos desde que este cliente hizo su pedido anterior.\n",
    "- `products.csv`: cada fila corresponde a un producto único que pueden comprar los clientes.\n",
    "    - `'product_id'`: número ID que identifica de manera única cada producto.\n",
    "    - `'product_name'`: nombre del producto.\n",
    "    - `'aisle_id'`: número ID que identifica de manera única cada categoría de pasillo de víveres.\n",
    "    - `'department_id'`: número ID que identifica de manera única cada departamento de víveres.\n",
    "- `order_products.csv`: cada fila corresponde a un artículo pedido en un pedido.\n",
    "    - `'order_id'`: número de ID que identifica de manera única cada pedido.\n",
    "    - `'product_id'`: número ID que identifica de manera única cada producto.\n",
    "    - `'add_to_cart_order'`: el orden secuencial en el que se añadió cada artículo en el carrito.\n",
    "    - `'reordered'`: 0 si el cliente nunca ha pedido este producto antes, 1 si lo ha pedido.\n",
    "- `aisles.csv`\n",
    "    - `'aisle_id'`: número ID que identifica de manera única cada categoría de pasillo de víveres.\n",
    "    - `'aisle'`: nombre del pasillo.\n",
    "- `departments.csv`\n",
    "    - `'department_id'`: número ID que identifica de manera única cada departamento de víveres.\n",
    "    - `'department'`: nombre del departamento."
   ]
  },
  {
   "cell_type": "markdown",
   "id": "n3Ha_cNSZ8lK",
   "metadata": {
    "id": "n3Ha_cNSZ8lK"
   },
   "source": [
    "# Paso 1. Descripción de los datos\n",
    "\n",
    "Lee los archivos de datos (`/datasets/instacart_orders.csv`, `/datasets/products.csv`, `/datasets/aisles.csv`, `/datasets/departments.csv` y `/datasets/order_products.csv`) con `pd.read_csv()` usando los parámetros adecuados para leer los datos correctamente. Verifica la información para cada DataFrame creado.\n"
   ]
  },
  {
   "cell_type": "markdown",
   "id": "OmlQPLlyaAfR",
   "metadata": {
    "id": "OmlQPLlyaAfR"
   },
   "source": [
    "## Plan de solución\n",
    "\n",
    "Escribe aquí tu plan de solución para el Paso 1. Descripción de los datos."
   ]
  },
  {
   "cell_type": "code",
   "execution_count": 4,
   "id": "ad36396d",
   "metadata": {
    "id": "ad36396d"
   },
   "outputs": [],
   "source": [
    "orders = pd.read_csv('./Datasets/instacart_orders.csv', sep=\";\")\n",
    "products = pd.read_csv('./Datasets/products.csv', sep=\";\")\n",
    "aisles = pd.read_csv('aisles.csv', sep=\";\")\n",
    "departments = pd.read_csv('./Datasets/departments.csv', sep=\";\")\n",
    "order_products = pd.read_csv('./Datasets/order_products.csv', sep=\";\")\n",
    "# leer conjuntos de datos en los DataFrames"
   ]
  },
  {
   "cell_type": "code",
   "execution_count": 5,
   "id": "ad6a1efa",
   "metadata": {
    "id": "ad6a1efa"
   },
   "outputs": [
    {
     "name": "stdout",
     "output_type": "stream",
     "text": [
      "<class 'pandas.core.frame.DataFrame'>\n",
      "RangeIndex: 478967 entries, 0 to 478966\n",
      "Data columns (total 6 columns):\n",
      " #   Column                  Non-Null Count   Dtype  \n",
      "---  ------                  --------------   -----  \n",
      " 0   order_id                478967 non-null  int64  \n",
      " 1   user_id                 478967 non-null  int64  \n",
      " 2   order_number            478967 non-null  int64  \n",
      " 3   order_dow               478967 non-null  int64  \n",
      " 4   order_hour_of_day       478967 non-null  int64  \n",
      " 5   days_since_prior_order  450148 non-null  float64\n",
      "dtypes: float64(1), int64(5)\n",
      "memory usage: 21.9 MB\n",
      "None\n",
      "   order_id  user_id  order_number  order_dow  order_hour_of_day  \\\n",
      "0   1515936   183418            11          6                 13   \n",
      "1   1690866   163593             5          5                 12   \n",
      "2   1454967    39980             4          5                 19   \n",
      "3   1768857    82516            56          0                 20   \n",
      "4   3007858   196724             2          4                 12   \n",
      "\n",
      "   days_since_prior_order  \n",
      "0                    30.0  \n",
      "1                     9.0  \n",
      "2                     2.0  \n",
      "3                    10.0  \n",
      "4                    17.0  \n",
      "           order_id        user_id   order_number      order_dow  \\\n",
      "count  4.789670e+05  478967.000000  478967.000000  478967.000000   \n",
      "mean   1.709947e+06  102966.537475      17.157808       2.775058   \n",
      "std    9.869480e+05   59525.328991      17.704688       2.045869   \n",
      "min    4.000000e+00       2.000000       1.000000       0.000000   \n",
      "25%    8.564685e+05   51414.000000       5.000000       1.000000   \n",
      "50%    1.709522e+06  102633.000000      11.000000       3.000000   \n",
      "75%    2.562990e+06  154419.000000      23.000000       5.000000   \n",
      "max    3.421079e+06  206209.000000     100.000000       6.000000   \n",
      "\n",
      "       order_hour_of_day  days_since_prior_order  \n",
      "count      478967.000000           450148.000000  \n",
      "mean           13.446676               11.101751  \n",
      "std             4.224986                9.189975  \n",
      "min             0.000000                0.000000  \n",
      "25%            10.000000                4.000000  \n",
      "50%            13.000000                7.000000  \n",
      "75%            16.000000               15.000000  \n",
      "max            23.000000               30.000000  \n"
     ]
    }
   ],
   "source": [
    "print(orders.info())\n",
    "print(orders.head())\n",
    "print(orders.describe(include=\"all\"))# mostrar información del DataFrame"
   ]
  },
  {
   "cell_type": "code",
   "execution_count": 6,
   "id": "5130e05e",
   "metadata": {
    "id": "5130e05e"
   },
   "outputs": [
    {
     "name": "stdout",
     "output_type": "stream",
     "text": [
      "<class 'pandas.core.frame.DataFrame'>\n",
      "RangeIndex: 49694 entries, 0 to 49693\n",
      "Data columns (total 4 columns):\n",
      " #   Column         Non-Null Count  Dtype \n",
      "---  ------         --------------  ----- \n",
      " 0   product_id     49694 non-null  int64 \n",
      " 1   product_name   48436 non-null  object\n",
      " 2   aisle_id       49694 non-null  int64 \n",
      " 3   department_id  49694 non-null  int64 \n",
      "dtypes: int64(3), object(1)\n",
      "memory usage: 1.5+ MB\n",
      "None\n",
      "   product_id                                       product_name  aisle_id  \\\n",
      "0           1                         Chocolate Sandwich Cookies        61   \n",
      "1           2                                   All-Seasons Salt       104   \n",
      "2           3               Robust Golden Unsweetened Oolong Tea        94   \n",
      "3           4  Smart Ones Classic Favorites Mini Rigatoni Wit...        38   \n",
      "4           5                          Green Chile Anytime Sauce         5   \n",
      "\n",
      "   department_id  \n",
      "0             19  \n",
      "1             13  \n",
      "2              7  \n",
      "3              1  \n",
      "4             13  \n",
      "          product_id                product_name      aisle_id  department_id\n",
      "count   49694.000000                       48436  49694.000000   49694.000000\n",
      "unique           NaN                       48436           NaN            NaN\n",
      "top              NaN  Chocolate Sandwich Cookies           NaN            NaN\n",
      "freq             NaN                           1           NaN            NaN\n",
      "mean    24847.500000                         NaN     67.773192      11.728478\n",
      "std     14345.566475                         NaN     38.317265       5.850314\n",
      "min         1.000000                         NaN      1.000000       1.000000\n",
      "25%     12424.250000                         NaN     35.000000       7.000000\n",
      "50%     24847.500000                         NaN     69.000000      13.000000\n",
      "75%     37270.750000                         NaN    100.000000      17.000000\n",
      "max     49694.000000                         NaN    134.000000      21.000000\n"
     ]
    }
   ],
   "source": [
    "print(products.info())\n",
    "print(products.head())\n",
    "print(products.describe(include=\"all\"))\n",
    "# mostrar información del DataFrame"
   ]
  },
  {
   "cell_type": "code",
   "execution_count": 7,
   "id": "d8370c05",
   "metadata": {
    "id": "d8370c05"
   },
   "outputs": [
    {
     "name": "stdout",
     "output_type": "stream",
     "text": [
      "<class 'pandas.core.frame.DataFrame'>\n",
      "RangeIndex: 134 entries, 0 to 133\n",
      "Data columns (total 2 columns):\n",
      " #   Column    Non-Null Count  Dtype \n",
      "---  ------    --------------  ----- \n",
      " 0   aisle_id  134 non-null    int64 \n",
      " 1   aisle     134 non-null    object\n",
      "dtypes: int64(1), object(1)\n",
      "memory usage: 2.2+ KB\n",
      "   aisle_id                       aisle\n",
      "0         1       prepared soups salads\n",
      "1         2           specialty cheeses\n",
      "2         3         energy granola bars\n",
      "3         4               instant foods\n",
      "4         5  marinades meat preparation\n",
      "          aisle_id                  aisle\n",
      "count   134.000000                    134\n",
      "unique         NaN                    134\n",
      "top            NaN  prepared soups salads\n",
      "freq           NaN                      1\n",
      "mean     67.500000                    NaN\n",
      "std      38.826537                    NaN\n",
      "min       1.000000                    NaN\n",
      "25%      34.250000                    NaN\n",
      "50%      67.500000                    NaN\n",
      "75%     100.750000                    NaN\n",
      "max     134.000000                    NaN\n"
     ]
    }
   ],
   "source": [
    "aisles.info()\n",
    "print(aisles.head())\n",
    "print(aisles.describe(include=\"all\"))"
   ]
  },
  {
   "cell_type": "code",
   "execution_count": 8,
   "id": "59e2090f",
   "metadata": {
    "id": "59e2090f"
   },
   "outputs": [
    {
     "name": "stdout",
     "output_type": "stream",
     "text": [
      "<class 'pandas.core.frame.DataFrame'>\n",
      "RangeIndex: 21 entries, 0 to 20\n",
      "Data columns (total 2 columns):\n",
      " #   Column         Non-Null Count  Dtype \n",
      "---  ------         --------------  ----- \n",
      " 0   department_id  21 non-null     int64 \n",
      " 1   department     21 non-null     object\n",
      "dtypes: int64(1), object(1)\n",
      "memory usage: 468.0+ bytes\n",
      "   department_id department\n",
      "0              1     frozen\n",
      "1              2      other\n",
      "2              3     bakery\n",
      "3              4    produce\n",
      "4              5    alcohol\n",
      "       department_id\n",
      "count      21.000000\n",
      "mean       11.000000\n",
      "std         6.204837\n",
      "min         1.000000\n",
      "25%         6.000000\n",
      "50%        11.000000\n",
      "75%        16.000000\n",
      "max        21.000000\n"
     ]
    }
   ],
   "source": [
    "departments.info()\n",
    "print(departments.head())\n",
    "print(departments.describe())"
   ]
  },
  {
   "cell_type": "code",
   "execution_count": 9,
   "id": "6fc81694",
   "metadata": {
    "id": "6fc81694"
   },
   "outputs": [
    {
     "name": "stdout",
     "output_type": "stream",
     "text": [
      "<class 'pandas.core.frame.DataFrame'>\n",
      "RangeIndex: 4545007 entries, 0 to 4545006\n",
      "Data columns (total 4 columns):\n",
      " #   Column             Dtype  \n",
      "---  ------             -----  \n",
      " 0   order_id           int64  \n",
      " 1   product_id         int64  \n",
      " 2   add_to_cart_order  float64\n",
      " 3   reordered          int64  \n",
      "dtypes: float64(1), int64(3)\n",
      "memory usage: 138.7 MB\n",
      "   order_id  product_id  add_to_cart_order  reordered\n",
      "0   2141543       11440               17.0          0\n",
      "1    567889        1560                1.0          1\n",
      "2   2261212       26683                1.0          1\n",
      "3    491251        8670               35.0          1\n",
      "4   2571142        1940                5.0          1\n",
      "           order_id    product_id  add_to_cart_order     reordered\n",
      "count  4.545007e+06  4.545007e+06       4.544171e+06  4.545007e+06\n",
      "mean   1.711166e+06  2.558084e+04       8.351669e+00  5.905025e-01\n",
      "std    9.850955e+05  1.409552e+04       7.080368e+00  4.917411e-01\n",
      "min    4.000000e+00  1.000000e+00       1.000000e+00  0.000000e+00\n",
      "25%    8.608170e+05  1.353500e+04       3.000000e+00  0.000000e+00\n",
      "50%    1.711530e+06  2.527200e+04       6.000000e+00  1.000000e+00\n",
      "75%    2.561311e+06  3.793500e+04       1.100000e+01  1.000000e+00\n",
      "max    3.421079e+06  4.969400e+04       6.400000e+01  1.000000e+00\n"
     ]
    }
   ],
   "source": [
    "order_products.info()\n",
    "print(order_products.head())\n",
    "print(order_products.describe())"
   ]
  },
  {
   "cell_type": "markdown",
   "id": "t75BD19oaR5f",
   "metadata": {
    "id": "t75BD19oaR5f"
   },
   "source": [
    "## Conclusiones\n",
    "\n",
    "Escribe aquí tus conclusiones intermedias sobre el Paso 1. Descripción de los datos.\n",
    "se utiliza el metodo info() para proporcionar un resumen que nos da las columnas, los indices, tipo de datos etc\n",
    "se utiliza el metodo head() para imprimir los encabezados generales y las primeras 5 filas \n",
    "se utiliza el metodo describe() nos muestra los datos estadisticos \n",
    "\n",
    "como ejemplo en departments al imprimir info() existen 21 filas y solo una columnas, debio a que esta es una separacion distinta y usamos el metodo sep=\";\" los datos correctos en primera instancia serian 21 filas y dos columnas (department_id y department) las cuales no tiene valores nulos, la columna department continen el nombre de cada departamento, para este caso y con los datos estadisticos podriamos decir que es correcta la infomracion, sin embargo hay archivos no se pueden obtener conclusiones claras  ya que existen valores ausentes/nulos que tendremos que limpiar por ejemplo en  en products la columna product_name tiene valores ausentes"
   ]
  },
  {
   "cell_type": "markdown",
   "id": "8RJHqxVmaVsF",
   "metadata": {
    "id": "8RJHqxVmaVsF"
   },
   "source": [
    "# Paso 2. Preprocesamiento de los datos\n",
    "\n",
    "Preprocesa los datos de la siguiente manera:\n",
    "\n",
    "- Verifica y corrige los tipos de datos (por ejemplo, asegúrate de que las columnas de ID sean números enteros).\n",
    "- Identifica y completa los valores ausentes.\n",
    "- Identifica y elimina los valores duplicados.\n",
    "\n",
    "Asegúrate de explicar qué tipos de valores ausentes y duplicados encontraste, cómo los completaste o eliminaste y por qué usaste esos métodos. ¿Por qué crees que estos valores ausentes y duplicados pueden haber estado presentes en el conjunto de datos?"
   ]
  },
  {
   "cell_type": "markdown",
   "id": "p6poABZQaZYb",
   "metadata": {
    "id": "p6poABZQaZYb"
   },
   "source": [
    "## Plan de solución\n",
    "\n",
    "Escribe aquí tu plan para el Paso 2. Preprocesamiento de los datos.\n",
    "para obtener informacion de todas las clumnas debemos usar describe(inlcude\"all\") esto ya lo hemos echo, debemos verificar los valres unicos, para encontrar valores ausentes de una forma mas especifica usamos insa() o isnull() rellenar los valores ausentes con fillna(value=\"\") y si hay duplicados utilizaremos el metodo duplicated()\n"
   ]
  },
  {
   "cell_type": "markdown",
   "id": "07357848-dc64-4156-9cc3-01ff4365226d",
   "metadata": {
    "id": "07357848-dc64-4156-9cc3-01ff4365226d"
   },
   "source": [
    "## Encuentra y elimina los valores duplicados (y describe cómo tomaste tus decisiones)."
   ]
  },
  {
   "cell_type": "markdown",
   "id": "f179f0a9",
   "metadata": {
    "id": "f179f0a9"
   },
   "source": [
    "### `instacart_orders` data frame"
   ]
  },
  {
   "cell_type": "code",
   "execution_count": 10,
   "id": "b99297a5-405a-463d-8535-9adc3da4ad74",
   "metadata": {
    "id": "b99297a5-405a-463d-8535-9adc3da4ad74",
    "scrolled": true
   },
   "outputs": [
    {
     "name": "stdout",
     "output_type": "stream",
     "text": [
      "        order_id  user_id  order_number  order_dow  order_hour_of_day  \\\n",
      "145574    794638    50898            24          3                  2   \n",
      "223105   2160484   107525            16          3                  2   \n",
      "230807   1918001   188546            14          3                  2   \n",
      "266232   1782114   106752             1          3                  2   \n",
      "273805   1112182   202304            84          3                  2   \n",
      "284038   2845099    31189            11          3                  2   \n",
      "311713   1021560    53767             3          3                  2   \n",
      "321100    408114    68324             4          3                  2   \n",
      "323900   1919531   191501            32          3                  2   \n",
      "345917   2232988    82565             1          3                  2   \n",
      "371905    391768    57671            19          3                  2   \n",
      "394347    467134    63189            21          3                  2   \n",
      "411408   1286742   183220            48          3                  2   \n",
      "415163   2282673    86751            49          3                  2   \n",
      "441599   2125197    14050            48          3                  2   \n",
      "\n",
      "        days_since_prior_order  \n",
      "145574                     2.0  \n",
      "223105                    30.0  \n",
      "230807                    16.0  \n",
      "266232                     NaN  \n",
      "273805                     6.0  \n",
      "284038                     7.0  \n",
      "311713                     9.0  \n",
      "321100                    18.0  \n",
      "323900                     7.0  \n",
      "345917                     NaN  \n",
      "371905                    10.0  \n",
      "394347                     2.0  \n",
      "411408                     4.0  \n",
      "415163                     2.0  \n",
      "441599                     3.0  \n",
      "15\n",
      "        order_id  user_id  order_number  order_dow  order_hour_of_day  \\\n",
      "0          False    False         False      False              False   \n",
      "1          False    False         False      False              False   \n",
      "2          False    False         False      False              False   \n",
      "3          False    False         False      False              False   \n",
      "4          False    False         False      False              False   \n",
      "...          ...      ...           ...        ...                ...   \n",
      "478962     False    False         False      False              False   \n",
      "478963     False    False         False      False              False   \n",
      "478964     False    False         False      False              False   \n",
      "478965     False    False         False      False              False   \n",
      "478966     False    False         False      False              False   \n",
      "\n",
      "        days_since_prior_order  \n",
      "0                        False  \n",
      "1                        False  \n",
      "2                        False  \n",
      "3                        False  \n",
      "4                        False  \n",
      "...                        ...  \n",
      "478962                   False  \n",
      "478963                   False  \n",
      "478964                   False  \n",
      "478965                   False  \n",
      "478966                   False  \n",
      "\n",
      "[450148 rows x 6 columns]\n",
      "order_id                  0\n",
      "user_id                   0\n",
      "order_number              0\n",
      "order_dow                 0\n",
      "order_hour_of_day         0\n",
      "days_since_prior_order    0\n",
      "dtype: int64\n"
     ]
    },
    {
     "ename": "NameError",
     "evalue": "name 'order_days_since_prior_order' is not defined",
     "output_type": "error",
     "traceback": [
      "\u001b[1;31m---------------------------------------------------------------------------\u001b[0m",
      "\u001b[1;31mNameError\u001b[0m                                 Traceback (most recent call last)",
      "Cell \u001b[1;32mIn[10], line 17\u001b[0m\n\u001b[0;32m     15\u001b[0m \u001b[38;5;66;03m#rellenar los valores ausentes\u001b[39;00m\n\u001b[0;32m     16\u001b[0m orders[\u001b[38;5;124m'\u001b[39m\u001b[38;5;124mdays_since_prior_order\u001b[39m\u001b[38;5;124m'\u001b[39m]\u001b[38;5;241m.\u001b[39mfillna(value\u001b[38;5;241m=\u001b[39m\u001b[38;5;124m\"\u001b[39m\u001b[38;5;124m\"\u001b[39m, inplace\u001b[38;5;241m=\u001b[39m\u001b[38;5;28;01mTrue\u001b[39;00m)\n\u001b[1;32m---> 17\u001b[0m \u001b[38;5;28mprint\u001b[39m(order_days_since_prior_order)\n\u001b[0;32m     18\u001b[0m orders\u001b[38;5;241m.\u001b[39minfo()\n",
      "\u001b[1;31mNameError\u001b[0m: name 'order_days_since_prior_order' is not defined"
     ]
    }
   ],
   "source": [
    "# Revisa si hay pedidos duplicados\n",
    "duplicates = orders[orders.duplicated()]\n",
    "print(duplicates)\n",
    "#Calcula el número de filas duplicadas\n",
    "num_duplicates = duplicates.shape[0]\n",
    "print(num_duplicates)\n",
    "#eliminar valores duplicados\n",
    "orders.dropna(inplace=True)\n",
    "#identificamos los valores ausentes\n",
    "valores_ausentes=orders.isnull()\n",
    "print(valores_ausentes)\n",
    "#especificar los valores ausentes\n",
    "sum_missing_values=orders.isnull().sum()\n",
    "print(sum_missing_values)\n",
    "#rellenar los valores ausentes\n",
    "orders['days_since_prior_order'].fillna(value=\"\", inplace=True)\n",
    "print(order_days_since_prior_order)\n",
    "orders.info()\n"
   ]
  },
  {
   "cell_type": "markdown",
   "id": "PEkwUX_gvt5A",
   "metadata": {
    "id": "PEkwUX_gvt5A"
   },
   "source": [
    "¿Tienes líneas duplicadas? Si sí, ¿qué tienen en común?\n",
    "\n",
    "Existen 15 lineas duplicadas y en todas las columnas se duplican valores, en la columna days_since_prior_order existen 28819 valores ausentes los cuales se vamos a  rellenar fillna(value=\"\")"
   ]
  },
  {
   "cell_type": "code",
   "execution_count": null,
   "id": "0d44de5d",
   "metadata": {
    "id": "0d44de5d"
   },
   "outputs": [],
   "source": [
    "# Basándote en tus hallazgos,\n",
    "# Verifica todos los pedidos que se hicieron el miércoles a las 2:00 a.m.\n",
    "#el metodo map me agregra una nueva columna para identificar los dias \n",
    "days= {0: 'Sunday', 1: 'Monday', 2: 'Tuesday', 3: 'Wednesday', 4: 'Thursday', 5: 'Friday', 6: 'Saturday'}\n",
    "orders['day'] = orders['order_dow'].map(days)\n",
    "\n",
    "wednesday = orders[(orders['order_dow'] == 3) & (orders['order_hour_of_day'] == 2)]\n",
    "print(wednesday)"
   ]
  },
  {
   "cell_type": "markdown",
   "id": "vu2OWyoqwOx5",
   "metadata": {
    "id": "vu2OWyoqwOx5"
   },
   "source": [
    "¿Qué sugiere este resultado?\n",
    "\n",
    "para el dia Wednesday existen 114 compras en el horarios de las 2 am "
   ]
  },
  {
   "cell_type": "code",
   "execution_count": null,
   "id": "480563c7",
   "metadata": {
    "id": "480563c7"
   },
   "outputs": [],
   "source": [
    "# Elimina los pedidos duplicados\n",
    "orders.drop_duplicates(inplace=True)\n"
   ]
  },
  {
   "cell_type": "code",
   "execution_count": null,
   "id": "0b2396a2",
   "metadata": {
    "id": "0b2396a2"
   },
   "outputs": [],
   "source": [
    "# Vuelve a verificar si hay filas duplicadas\n",
    "#shape dara como resultado el numero exacto de las filas restantes al quitar duplicados\n",
    "num_rows = orders.shape[0]\n",
    "orders.info()"
   ]
  },
  {
   "cell_type": "code",
   "execution_count": null,
   "id": "f6113ef1",
   "metadata": {
    "id": "f6113ef1"
   },
   "outputs": [],
   "source": [
    "# Vuelve a verificar únicamente si hay IDs duplicados de pedidos\n",
    "duplicates_order_id = orders[orders.duplicated([\"order_id\"])]\n",
    "print(duplicates_order_id)\n",
    "\n",
    "orders.info()"
   ]
  },
  {
   "cell_type": "markdown",
   "id": "5e8905ae",
   "metadata": {
    "id": "5e8905ae"
   },
   "source": [
    "Describe brevemente tus hallazgos y lo que hiciste con ellos\n",
    "\n",
    "una vez realizada la limpieza ya no se encuntran valores duplicados, tampoco en los pedidos esto los eliminamos con drop, utilizamos el metodo map que agregra una nueva columna para identificar los dias con mas claridad para orders solamente teniamos vaores ausentes los cuales los rellenamos con fillna(value=\"\") con lo cual todos lo datos ya no tienen duplicados y cuentan con la misma cantidad en non-null count"
   ]
  },
  {
   "cell_type": "markdown",
   "id": "45e6bc46",
   "metadata": {
    "id": "45e6bc46"
   },
   "source": [
    "### `products` data frame"
   ]
  },
  {
   "cell_type": "code",
   "execution_count": null,
   "id": "5f526b5b-8175-46fa-a0fd-441767d50e64",
   "metadata": {
    "id": "5f526b5b-8175-46fa-a0fd-441767d50e64"
   },
   "outputs": [
    {
     "name": "stdout",
     "output_type": "stream",
     "text": [
      "Empty DataFrame\n",
      "Columns: [product_id, product_name, aisle_id, department_id]\n",
      "Index: []\n",
      "       product_id  product_name  aisle_id  department_id\n",
      "0           False         False     False          False\n",
      "1           False         False     False          False\n",
      "2           False         False     False          False\n",
      "3           False         False     False          False\n",
      "4           False         False     False          False\n",
      "...           ...           ...       ...            ...\n",
      "49689       False         False     False          False\n",
      "49690       False         False     False          False\n",
      "49691       False         False     False          False\n",
      "49692       False         False     False          False\n",
      "49693       False         False     False          False\n",
      "\n",
      "[49694 rows x 4 columns]\n"
     ]
    }
   ],
   "source": [
    "# Verifica si hay filas totalmente duplicadas\n",
    "products['product_name'] = products['product_name'].str.upper()\n",
    "duplicates = products[products.duplicated()]\n",
    "print(duplicates)\n",
    "print(products.isna())"
   ]
  },
  {
   "cell_type": "code",
   "execution_count": null,
   "id": "88daa4f4",
   "metadata": {
    "id": "88daa4f4"
   },
   "outputs": [
    {
     "name": "stdout",
     "output_type": "stream",
     "text": [
      "0        False\n",
      "1        False\n",
      "2        False\n",
      "3        False\n",
      "4         True\n",
      "         ...  \n",
      "49689     True\n",
      "49690     True\n",
      "49691     True\n",
      "49692     True\n",
      "49693     True\n",
      "Name: department_id, Length: 49694, dtype: bool\n"
     ]
    }
   ],
   "source": [
    "# Revisa únicamente si hay ID de departamentos duplicados\n",
    "#departmet arrojara true si hay duplilcado y false sino lo hay\n",
    "duplicates_department = products['department_id'].duplicated()\n",
    "print(duplicates_department)"
   ]
  },
  {
   "cell_type": "code",
   "execution_count": null,
   "id": "c773f0bf",
   "metadata": {
    "id": "c773f0bf"
   },
   "outputs": [
    {
     "name": "stdout",
     "output_type": "stream",
     "text": [
      "0        False\n",
      "1        False\n",
      "2        False\n",
      "3        False\n",
      "4        False\n",
      "         ...  \n",
      "49689     True\n",
      "49690     True\n",
      "49691     True\n",
      "49692     True\n",
      "49693     True\n",
      "Name: product_name, Length: 49694, dtype: bool\n",
      "0                               CHOCOLATE SANDWICH COOKIES\n",
      "1                                         ALL-SEASONS SALT\n",
      "2                     ROBUST GOLDEN UNSWEETENED OOLONG TEA\n",
      "3        SMART ONES CLASSIC FAVORITES MINI RIGATONI WIT...\n",
      "4                                GREEN CHILE ANYTIME SAUCE\n",
      "                               ...                        \n",
      "49689                        HIGH PERFORMANCE ENERGY DRINK\n",
      "49690                        ORIGINAL PANCAKE & WAFFLE MIX\n",
      "49691      ORGANIC INSTANT OATMEAL LIGHT MAPLE BROWN SUGAR\n",
      "49692                               SPRING WATER BODY WASH\n",
      "49693                              BURRITO- STEAK & CHEESE\n",
      "Name: product_name, Length: 49694, dtype: object\n",
      "0        False\n",
      "1        False\n",
      "2        False\n",
      "3        False\n",
      "4        False\n",
      "         ...  \n",
      "49689     True\n",
      "49690     True\n",
      "49691     True\n",
      "49692     True\n",
      "49693     True\n",
      "Name: product_name, Length: 49694, dtype: bool\n"
     ]
    }
   ],
   "source": [
    "# Revisa únicamente si hay nombres duplicados de productos (convierte los nombres a letras mayúsculas para compararlos mejor)\n",
    "duplicates_name=products[\"product_name\"].duplicated()\n",
    "print(duplicates_name)\n",
    "# en primera instancia no aparecen duplicados, pero debemos convertir los nombres en mayusculas y verificamos si hay duplicados en product_name\n",
    "uppers_name=products[\"product_name\"].str.upper()\n",
    "print(uppers_name)\n",
    "duplicates_product_name=products[\"product_name\"].duplicated()\n",
    "print(duplicates_product_name)"
   ]
  },
  {
   "cell_type": "code",
   "execution_count": null,
   "id": "01efd02e",
   "metadata": {
    "id": "01efd02e"
   },
   "outputs": [
    {
     "name": "stdout",
     "output_type": "stream",
     "text": [
      "       product_id                                     product_name  aisle_id  \\\n",
      "2058         2059                                  BIOTIN 1000 MCG        47   \n",
      "5455         5456                 GREEN TEA WITH GINSENG AND HONEY        96   \n",
      "5558         5559                           CREAM OF MUSHROOM SOUP        69   \n",
      "7558         7559                        CINNAMON ROLLS WITH ICING       105   \n",
      "9037         9038                           AMERICAN CHEESE SLICES        21   \n",
      "...           ...                                              ...       ...   \n",
      "49689       49690                    HIGH PERFORMANCE ENERGY DRINK        64   \n",
      "49690       49691                    ORIGINAL PANCAKE & WAFFLE MIX       130   \n",
      "49691       49692  ORGANIC INSTANT OATMEAL LIGHT MAPLE BROWN SUGAR       130   \n",
      "49692       49693                           SPRING WATER BODY WASH       127   \n",
      "49693       49694                          BURRITO- STEAK & CHEESE        38   \n",
      "\n",
      "       department_id  \n",
      "2058              11  \n",
      "5455              20  \n",
      "5558              15  \n",
      "7558              13  \n",
      "9037              16  \n",
      "...              ...  \n",
      "49689              7  \n",
      "49690             14  \n",
      "49691             14  \n",
      "49692             11  \n",
      "49693              1  \n",
      "\n",
      "[104 rows x 4 columns]\n"
     ]
    }
   ],
   "source": [
    "# Revisa si hay nombres duplicados de productos no faltantes\n",
    "valores_duplicados=products[(~products['product_name'].isna()) & products['product_name'].duplicated()]\n",
    "print(valores_duplicados)\n",
    "#no existen valores duplicados en productos no faltantes"
   ]
  },
  {
   "cell_type": "markdown",
   "id": "60f30db1",
   "metadata": {
    "id": "60f30db1"
   },
   "source": [
    "### `departments` data frame"
   ]
  },
  {
   "cell_type": "code",
   "execution_count": null,
   "id": "fb410ad4-0fbf-4b80-bb09-23fdea79afe3",
   "metadata": {
    "id": "fb410ad4-0fbf-4b80-bb09-23fdea79afe3"
   },
   "outputs": [
    {
     "name": "stdout",
     "output_type": "stream",
     "text": [
      "0     False\n",
      "1     False\n",
      "2     False\n",
      "3     False\n",
      "4     False\n",
      "5     False\n",
      "6     False\n",
      "7     False\n",
      "8     False\n",
      "9     False\n",
      "10    False\n",
      "11    False\n",
      "12    False\n",
      "13    False\n",
      "14    False\n",
      "15    False\n",
      "16    False\n",
      "17    False\n",
      "18    False\n",
      "19    False\n",
      "20    False\n",
      "dtype: bool\n"
     ]
    }
   ],
   "source": [
    "# Revisa si hay filas totalmente duplicadas\n",
    "duplicates=departments.duplicated()\n",
    "print(duplicates)"
   ]
  },
  {
   "cell_type": "code",
   "execution_count": null,
   "id": "332b12bb",
   "metadata": {
    "id": "332b12bb"
   },
   "outputs": [
    {
     "name": "stdout",
     "output_type": "stream",
     "text": [
      "0     False\n",
      "1     False\n",
      "2     False\n",
      "3     False\n",
      "4     False\n",
      "5     False\n",
      "6     False\n",
      "7     False\n",
      "8     False\n",
      "9     False\n",
      "10    False\n",
      "11    False\n",
      "12    False\n",
      "13    False\n",
      "14    False\n",
      "15    False\n",
      "16    False\n",
      "17    False\n",
      "18    False\n",
      "19    False\n",
      "20    False\n",
      "dtype: bool\n"
     ]
    }
   ],
   "source": [
    "# Revisa únicamente si hay IDs duplicadas de productos\n",
    "duplicates_products=departments.duplicated([\"department_id\"])\n",
    "print(duplicates_products)\n",
    "#no hay duplicados tampoco en esta columna"
   ]
  },
  {
   "cell_type": "markdown",
   "id": "bd30d78e",
   "metadata": {
    "id": "bd30d78e"
   },
   "source": [
    "Describe brevemente tus hallazgos y lo que hiciste con ellos.\n",
    "\n",
    "no existen duplicados es ninguna de las columnas, para un data frame pequeño era solo necesario identificar si habia valores duplicados, pero para rectificar comprobamos en la comlumna \"department_id\" "
   ]
  },
  {
   "cell_type": "markdown",
   "id": "889349c1",
   "metadata": {
    "id": "889349c1"
   },
   "source": [
    "### `aisles` data frame"
   ]
  },
  {
   "cell_type": "code",
   "execution_count": null,
   "id": "9da89fb9-4679-40f5-ad0d-c34df753a3f8",
   "metadata": {
    "id": "9da89fb9-4679-40f5-ad0d-c34df753a3f8"
   },
   "outputs": [
    {
     "name": "stdout",
     "output_type": "stream",
     "text": [
      "0      False\n",
      "1      False\n",
      "2      False\n",
      "3      False\n",
      "4      False\n",
      "       ...  \n",
      "129    False\n",
      "130    False\n",
      "131    False\n",
      "132    False\n",
      "133    False\n",
      "Length: 134, dtype: bool\n"
     ]
    }
   ],
   "source": [
    "# Revisa si hay filas totalmente duplicadas\n",
    "duplicates_aisles=aisles.duplicated()\n",
    "print(duplicates_aisles)"
   ]
  },
  {
   "cell_type": "code",
   "execution_count": null,
   "id": "da7c2822",
   "metadata": {
    "id": "da7c2822"
   },
   "outputs": [
    {
     "name": "stdout",
     "output_type": "stream",
     "text": [
      "0      False\n",
      "1      False\n",
      "2      False\n",
      "3      False\n",
      "4      False\n",
      "       ...  \n",
      "129    False\n",
      "130    False\n",
      "131    False\n",
      "132    False\n",
      "133    False\n",
      "Length: 134, dtype: bool\n"
     ]
    }
   ],
   "source": [
    "# Revisa únicamente si hay IDs duplicadas de productos\n",
    "duplicates_products=aisles.duplicated([\"aisle_id\"])\n",
    "print(duplicates_products)"
   ]
  },
  {
   "cell_type": "markdown",
   "id": "ac63826f",
   "metadata": {
    "id": "ac63826f"
   },
   "source": [
    "Describe brevemente tus hallazgos y lo que hiciste con ellos.\n",
    "el data frame de asiles no presenta duplicados mediante el metodo duplicated(), se comprueba tambien que no haya duplicados en la columna \"aisle_id\""
   ]
  },
  {
   "cell_type": "markdown",
   "id": "274cd06a",
   "metadata": {
    "id": "274cd06a"
   },
   "source": [
    "### `order_products` data frame"
   ]
  },
  {
   "cell_type": "code",
   "execution_count": null,
   "id": "52326689-84a8-4b8f-a881-7c68780f62c9",
   "metadata": {
    "id": "52326689-84a8-4b8f-a881-7c68780f62c9"
   },
   "outputs": [
    {
     "name": "stdout",
     "output_type": "stream",
     "text": [
      "0          False\n",
      "1          False\n",
      "2          False\n",
      "3          False\n",
      "4          False\n",
      "           ...  \n",
      "4545002    False\n",
      "4545003    False\n",
      "4545004    False\n",
      "4545005    False\n",
      "4545006    False\n",
      "Length: 4545007, dtype: bool\n"
     ]
    }
   ],
   "source": [
    "# Revisa si hay filas totalmente duplicadas\n",
    "duplicates_order_products=order_products.duplicated()\n",
    "print(duplicates_order_products)"
   ]
  },
  {
   "cell_type": "code",
   "execution_count": null,
   "id": "7b861391",
   "metadata": {
    "id": "7b861391"
   },
   "outputs": [
    {
     "name": "stdout",
     "output_type": "stream",
     "text": [
      "0          False\n",
      "1          False\n",
      "2          False\n",
      "3          False\n",
      "4          False\n",
      "           ...  \n",
      "4545002     True\n",
      "4545003     True\n",
      "4545004     True\n",
      "4545005     True\n",
      "4545006     True\n",
      "Length: 4545007, dtype: bool\n",
      "         order_id  product_id  add_to_cart_order  reordered\n",
      "0         2141543       11440               17.0          0\n",
      "1          567889        1560                1.0          1\n",
      "2         2261212       26683                1.0          1\n",
      "3          491251        8670               35.0          1\n",
      "4         2571142        1940                5.0          1\n",
      "...           ...         ...                ...        ...\n",
      "4543424   1790509       43739                1.0          1\n",
      "4543722   1274005       38275                1.0          1\n",
      "4543749    812418       46149                1.0          1\n",
      "4544396   2666881         196                1.0          1\n",
      "4544839   1461911       33198                1.0          1\n",
      "\n",
      "[450046 rows x 4 columns]\n",
      "0          False\n",
      "1          False\n",
      "2          False\n",
      "3          False\n",
      "4          False\n",
      "           ...  \n",
      "4543424    False\n",
      "4543722    False\n",
      "4543749    False\n",
      "4544396    False\n",
      "4544839    False\n",
      "Length: 450046, dtype: bool\n"
     ]
    }
   ],
   "source": [
    "# Vuelve a verificar si hay cualquier otro duplicado engañoso\n",
    "duplicates_order_id=order_products.duplicated([\"order_id\"])\n",
    "print(duplicates_order_id)\n",
    "order_products_unique = order_products.drop_duplicates([\"order_id\"])\n",
    "print(order_products_unique)\n",
    "#volvemos a verificar\n",
    "verification=order_products_unique.duplicated(['order_id'])\n",
    "print(verification)"
   ]
  },
  {
   "cell_type": "markdown",
   "id": "0b890492",
   "metadata": {
    "id": "0b890492"
   },
   "source": [
    "Describe brevemente tus hallazgos y lo que hiciste con ellos.\n",
    "al usar el metodo duplicated()  este nos arroja False y da a entender que no hay duplicados a pesar de esto verificamos el numero de ordenes para saber si esto es verdadero, sin embargo encontramos que existen duplicados en el numero de ordenes por lo cual procedemos a eliminarlos y  verificarmos nuevamentes"
   ]
  },
  {
   "cell_type": "markdown",
   "id": "1e46de76",
   "metadata": {
    "id": "1e46de76"
   },
   "source": [
    "## Encuentra y elimina los valores ausentes\n",
    "\n",
    "Al trabajar con valores duplicados, pudimos observar que también nos falta investigar valores ausentes:\n",
    "\n",
    "* La columna `'product_name'` de la tabla products.\n",
    "* La columna `'days_since_prior_order'` de la tabla orders.\n",
    "* La columna `'add_to_cart_order'` de la tabla order_productos."
   ]
  },
  {
   "cell_type": "markdown",
   "id": "c0aebd78",
   "metadata": {
    "id": "c0aebd78"
   },
   "source": [
    "### `products` data frame"
   ]
  },
  {
   "cell_type": "code",
   "execution_count": null,
   "id": "fe4a8b0f",
   "metadata": {
    "id": "fe4a8b0f"
   },
   "outputs": [
    {
     "name": "stdout",
     "output_type": "stream",
     "text": [
      "<class 'pandas.core.frame.DataFrame'>\n",
      "RangeIndex: 49694 entries, 0 to 49693\n",
      "Data columns (total 4 columns):\n",
      " #   Column         Non-Null Count  Dtype \n",
      "---  ------         --------------  ----- \n",
      " 0   product_id     49694 non-null  int64 \n",
      " 1   product_name   48436 non-null  object\n",
      " 2   aisle_id       49694 non-null  int64 \n",
      " 3   department_id  49694 non-null  int64 \n",
      "dtypes: int64(3), object(1)\n",
      "memory usage: 1.5+ MB\n",
      "       product_id  product_name  aisle_id  department_id\n",
      "0           False         False     False          False\n",
      "1           False         False     False          False\n",
      "2           False         False     False          False\n",
      "3           False         False     False          False\n",
      "4           False         False     False          False\n",
      "...           ...           ...       ...            ...\n",
      "49689       False         False     False          False\n",
      "49690       False         False     False          False\n",
      "49691       False         False     False          False\n",
      "49692       False         False     False          False\n",
      "49693       False         False     False          False\n",
      "\n",
      "[49694 rows x 4 columns]\n",
      "product_id          0\n",
      "product_name     1258\n",
      "aisle_id            0\n",
      "department_id       0\n",
      "dtype: int64\n"
     ]
    }
   ],
   "source": [
    "# Encuentra los valores ausentes en la columna 'product_name'\n",
    "#revisamos la informacion\n",
    "products.info()\n",
    "#buscamos los valores ausentes\n",
    "valores_ausentes=products.isnull()\n",
    "print(valores_ausentes)\n",
    "sum_value_absent=products.isnull().sum()\n",
    "print(sum_value_absent)\n"
   ]
  },
  {
   "cell_type": "markdown",
   "id": "-A6x1AbJhjkp",
   "metadata": {
    "id": "-A6x1AbJhjkp"
   },
   "source": [
    "Describe brevemente cuáles son tus hallazgos.\n",
    "escontramos que existe 1258 filas que tienen valores ausentes en la columna \"product_name\""
   ]
  },
  {
   "cell_type": "code",
   "execution_count": null,
   "id": "e96167bc",
   "metadata": {
    "id": "e96167bc"
   },
   "outputs": [
    {
     "name": "stdout",
     "output_type": "stream",
     "text": [
      "       product_id product_name  aisle_id  department_id\n",
      "37             38          NaN       100             21\n",
      "71             72          NaN       100             21\n",
      "109           110          NaN       100             21\n",
      "296           297          NaN       100             21\n",
      "416           417          NaN       100             21\n",
      "...           ...          ...       ...            ...\n",
      "49552       49553          NaN       100             21\n",
      "49574       49575          NaN       100             21\n",
      "49640       49641          NaN       100             21\n",
      "49663       49664          NaN       100             21\n",
      "49668       49669          NaN       100             21\n",
      "\n",
      "[1258 rows x 4 columns]\n",
      "       product_id  product_name  aisle_id  department_id\n",
      "37          False         False     False          False\n",
      "71          False         False     False          False\n",
      "109         False         False     False          False\n",
      "296         False         False     False          False\n",
      "416         False         False     False          False\n",
      "...           ...           ...       ...            ...\n",
      "49552       False         False     False          False\n",
      "49574       False         False     False          False\n",
      "49640       False         False     False          False\n",
      "49663       False         False     False          False\n",
      "49668       False         False     False          False\n",
      "\n",
      "[1258 rows x 4 columns]\n"
     ]
    }
   ],
   "source": [
    "#  ¿Todos los nombres de productos ausentes están relacionados con el pasillo con ID 100?\n",
    "ausentes=products.loc[products['product_name'].isnull() & (products['aisle_id'] == 100)]\n",
    "print(ausentes)\n",
    "#para verificar que todos los nombres de los productos estan en el pasillo ID 100\n",
    "todos_ausentesid100 = ausentes == sum_value_absent['product_name']\n",
    "print(todos_ausentesid100)\n"
   ]
  },
  {
   "cell_type": "markdown",
   "id": "WRpIfXRphpSL",
   "metadata": {
    "id": "WRpIfXRphpSL"
   },
   "source": [
    "Describe brevemente cuáles son tus hallazgos.\n",
    "al buscar la columna \"pruducts_name\" con el metodo loc encontramos que existen valores ausentes en el pasillo id 100 sin embargo al verificar si solos valores asuentes solo se encontraban en id 100 el resultado demuestra FALSE, esto significa que no todos los valores ausentes se encuentran en el pasillo id 100"
   ]
  },
  {
   "cell_type": "code",
   "execution_count": null,
   "id": "8fd0a541",
   "metadata": {
    "id": "8fd0a541"
   },
   "outputs": [
    {
     "name": "stdout",
     "output_type": "stream",
     "text": [
      "       product_id product_name  aisle_id  department_id\n",
      "37             38          NaN       100             21\n",
      "71             72          NaN       100             21\n",
      "109           110          NaN       100             21\n",
      "296           297          NaN       100             21\n",
      "416           417          NaN       100             21\n",
      "...           ...          ...       ...            ...\n",
      "49552       49553          NaN       100             21\n",
      "49574       49575          NaN       100             21\n",
      "49640       49641          NaN       100             21\n",
      "49663       49664          NaN       100             21\n",
      "49668       49669          NaN       100             21\n",
      "\n",
      "[1258 rows x 4 columns]\n",
      "True\n"
     ]
    }
   ],
   "source": [
    "# ¿Todos los nombres de productos ausentes están relacionados con el departamento con ID 21?\n",
    "ausentes=products.loc[products['product_name'].isnull() & (products['department_id'] == 21)]\n",
    "print(ausentes)\n",
    "dept_21 = len(ausentes)\n",
    "todos_ausentes_21 = dept_21 == sum_value_absent['product_name']\n",
    "print(todos_ausentes_21)"
   ]
  },
  {
   "cell_type": "markdown",
   "id": "qDpdYn1Fht_I",
   "metadata": {
    "id": "qDpdYn1Fht_I"
   },
   "source": [
    "Describe brevemente cuáles son tus hallazgos.\n",
    "\n",
    "Al hacer la comparacion entre la columna products_anem y deparments_id encontramos que existen valores ausentes al usar el metodo \"len\" para encontrar cuales son las filas que encontramos con los criterrios requeridos a primera vista podriamos decir que si hay una relacion entre esto, para comproba que esto es verdad realizamos una igualacion == y el resultado al imprimir Tru significa que todos los nombres de productos ausentes están específicamente asociados con el departamento con ID 21"
   ]
  },
  {
   "cell_type": "code",
   "execution_count": null,
   "id": "325c3464",
   "metadata": {
    "id": "325c3464"
   },
   "outputs": [
    {
     "name": "stdout",
     "output_type": "stream",
     "text": [
      "       product_id product_name  aisle_id  department_id\n",
      "37             38          NaN       100             21\n",
      "71             72          NaN       100             21\n",
      "109           110          NaN       100             21\n",
      "296           297          NaN       100             21\n",
      "416           417          NaN       100             21\n",
      "...           ...          ...       ...            ...\n",
      "49552       49553          NaN       100             21\n",
      "49574       49575          NaN       100             21\n",
      "49640       49641          NaN       100             21\n",
      "49663       49664          NaN       100             21\n",
      "49668       49669          NaN       100             21\n",
      "\n",
      "[1258 rows x 4 columns]\n",
      "       product_id product_name  aisle_id  department_id\n",
      "37             38          NaN       100             21\n",
      "71             72          NaN       100             21\n",
      "109           110          NaN       100             21\n",
      "296           297          NaN       100             21\n",
      "416           417          NaN       100             21\n",
      "...           ...          ...       ...            ...\n",
      "49552       49553          NaN       100             21\n",
      "49574       49575          NaN       100             21\n",
      "49640       49641          NaN       100             21\n",
      "49663       49664          NaN       100             21\n",
      "49668       49669          NaN       100             21\n",
      "\n",
      "[1258 rows x 4 columns]\n"
     ]
    }
   ],
   "source": [
    "# Usa las tablas department y aisle para revisar los datos del pasillo con ID 100 y el departamento con ID 21.\n",
    "aisle_100 = products.loc[products['aisle_id'] == 100]\n",
    "\n",
    "# Filtrar la tabla department para obtener información del departamento con ID 21\n",
    "dept_21 = products.loc[products['department_id'] == 21]\n",
    "\n",
    "print(aisle_100)\n",
    "print(dept_21)"
   ]
  },
  {
   "cell_type": "markdown",
   "id": "nqhSTUPhhvEJ",
   "metadata": {
    "id": "nqhSTUPhhvEJ"
   },
   "source": [
    "Describe brevemente cuáles son tus hallazgos.\n",
    "existe 1258 falas con valores ausentes entra la relacion de las columnas asile_id y deparment_id"
   ]
  },
  {
   "cell_type": "code",
   "execution_count": null,
   "id": "6b295120",
   "metadata": {
    "id": "6b295120"
   },
   "outputs": [
    {
     "name": "stdout",
     "output_type": "stream",
     "text": [
      "<class 'pandas.core.frame.DataFrame'>\n",
      "RangeIndex: 49694 entries, 0 to 49693\n",
      "Data columns (total 4 columns):\n",
      " #   Column         Non-Null Count  Dtype \n",
      "---  ------         --------------  ----- \n",
      " 0   product_id     49694 non-null  int64 \n",
      " 1   product_name   49694 non-null  object\n",
      " 2   aisle_id       49694 non-null  int64 \n",
      " 3   department_id  49694 non-null  int64 \n",
      "dtypes: int64(3), object(1)\n",
      "memory usage: 1.5+ MB\n"
     ]
    }
   ],
   "source": [
    "# Completa los nombres de productos ausentes con 'Unknown'\n",
    "products['product_name'].fillna(value=\"Unknown\", inplace=True)\n",
    "products.info()"
   ]
  },
  {
   "cell_type": "markdown",
   "id": "fc70e5ad",
   "metadata": {
    "id": "fc70e5ad"
   },
   "source": [
    "Describe brevemente tus hallazgos y lo que hiciste con ellos.\n",
    "para rellenar las filas con valores ausentes se utilizao el metdo fillna(value=\"Unknow\" segui do inplcae=True para que reemplzara sobre el archvio original y al imprimir products.info() podemos observa que ya no existen valores ausentes y todas las columnas cuentas con un total de 49694 filas\n"
   ]
  },
  {
   "cell_type": "markdown",
   "id": "7eb45c86",
   "metadata": {
    "id": "7eb45c86"
   },
   "source": [
    "### `orders` data frame"
   ]
  },
  {
   "cell_type": "code",
   "execution_count": null,
   "id": "93e41d96",
   "metadata": {
    "id": "93e41d96"
   },
   "outputs": [
    {
     "name": "stdout",
     "output_type": "stream",
     "text": [
      "<class 'pandas.core.frame.DataFrame'>\n",
      "Int64Index: 450148 entries, 0 to 478966\n",
      "Data columns (total 6 columns):\n",
      " #   Column                  Non-Null Count   Dtype  \n",
      "---  ------                  --------------   -----  \n",
      " 0   order_id                450148 non-null  int64  \n",
      " 1   user_id                 450148 non-null  int64  \n",
      " 2   order_number            450148 non-null  int64  \n",
      " 3   order_dow               450148 non-null  int64  \n",
      " 4   order_hour_of_day       450148 non-null  int64  \n",
      " 5   days_since_prior_order  450148 non-null  float64\n",
      "dtypes: float64(1), int64(5)\n",
      "memory usage: 24.0 MB\n",
      "        order_id  user_id  order_number  order_dow  order_hour_of_day  \\\n",
      "0          False    False         False      False              False   \n",
      "1          False    False         False      False              False   \n",
      "2          False    False         False      False              False   \n",
      "3          False    False         False      False              False   \n",
      "4          False    False         False      False              False   \n",
      "...          ...      ...           ...        ...                ...   \n",
      "478962     False    False         False      False              False   \n",
      "478963     False    False         False      False              False   \n",
      "478964     False    False         False      False              False   \n",
      "478965     False    False         False      False              False   \n",
      "478966     False    False         False      False              False   \n",
      "\n",
      "        days_since_prior_order  \n",
      "0                        False  \n",
      "1                        False  \n",
      "2                        False  \n",
      "3                        False  \n",
      "4                        False  \n",
      "...                        ...  \n",
      "478962                   False  \n",
      "478963                   False  \n",
      "478964                   False  \n",
      "478965                   False  \n",
      "478966                   False  \n",
      "\n",
      "[450148 rows x 6 columns]\n",
      "order_id                  0\n",
      "user_id                   0\n",
      "order_number              0\n",
      "order_dow                 0\n",
      "order_hour_of_day         0\n",
      "days_since_prior_order    0\n",
      "dtype: int64\n"
     ]
    }
   ],
   "source": [
    "# Encuentra los valores ausentes\n",
    "#revisamos la informacion\n",
    "orders.info()\n",
    "#buscamos los valores ausentes\n",
    "valores_ausentes_orders=orders.isnull()\n",
    "print(valores_ausentes_orders)\n",
    "ausentes=orders.isnull().sum()\n",
    "print(ausentes)"
   ]
  },
  {
   "cell_type": "code",
   "execution_count": null,
   "id": "166e5a86",
   "metadata": {
    "id": "166e5a86"
   },
   "outputs": [
    {
     "name": "stdout",
     "output_type": "stream",
     "text": [
      "0\n"
     ]
    }
   ],
   "source": [
    "# ¿Hay algún valor ausente que no sea el primer pedido del cliente?\n",
    "missing_values = orders[orders['days_since_prior_order'].isnull()]\n",
    "first_missing = missing_values[missing_values['order_number'] > 1]['order_id'].count()\n",
    "print(first_missing)"
   ]
  },
  {
   "cell_type": "markdown",
   "id": "4e23d089",
   "metadata": {
    "id": "4e23d089"
   },
   "source": [
    "Describe brevemente tus hallazgos y lo que hiciste con ellos.\n",
    "al imprimir la suma de los valores ausentes no se encontro ninguno, como queremos saber si existe algun valos ausente que no sea el primer pedido tomamos como referencia la columna days_since_prior_order ya que esta indica los ultimos pedidos utilizamos el \">1\" para saber si hay mas de una orden con ese numero de pedido al encontrar que no existe esto y arrjarnos 0 deducimos que no existe NAN "
   ]
  },
  {
   "cell_type": "markdown",
   "id": "69dc9ca4",
   "metadata": {
    "id": "69dc9ca4"
   },
   "source": [
    "### `order_products` data frame"
   ]
  },
  {
   "cell_type": "code",
   "execution_count": null,
   "id": "b8240253",
   "metadata": {
    "id": "b8240253"
   },
   "outputs": [
    {
     "name": "stdout",
     "output_type": "stream",
     "text": [
      "<class 'pandas.core.frame.DataFrame'>\n",
      "RangeIndex: 4545007 entries, 0 to 4545006\n",
      "Data columns (total 4 columns):\n",
      " #   Column             Dtype  \n",
      "---  ------             -----  \n",
      " 0   order_id           int64  \n",
      " 1   product_id         int64  \n",
      " 2   add_to_cart_order  float64\n",
      " 3   reordered          int64  \n",
      "dtypes: float64(1), int64(3)\n",
      "memory usage: 138.7 MB\n",
      "         order_id  product_id  add_to_cart_order  reordered\n",
      "0           False       False              False      False\n",
      "1           False       False              False      False\n",
      "2           False       False              False      False\n",
      "3           False       False              False      False\n",
      "4           False       False              False      False\n",
      "...           ...         ...                ...        ...\n",
      "4545002     False       False              False      False\n",
      "4545003     False       False              False      False\n",
      "4545004     False       False              False      False\n",
      "4545005     False       False              False      False\n",
      "4545006     False       False              False      False\n",
      "\n",
      "[4545007 rows x 4 columns]\n",
      "order_id               0\n",
      "product_id             0\n",
      "add_to_cart_order    836\n",
      "reordered              0\n",
      "dtype: int64\n"
     ]
    }
   ],
   "source": [
    "# Encuentra los valores ausentes\n",
    "order_products.info()\n",
    "missing_value_order_products=order_products.isnull()\n",
    "print(missing_value_order_products)\n",
    "sum_order_products=order_products.isnull().sum()\n",
    "print(sum_order_products)\n"
   ]
  },
  {
   "cell_type": "code",
   "execution_count": null,
   "id": "9a78e5ee",
   "metadata": {
    "id": "9a78e5ee"
   },
   "outputs": [
    {
     "name": "stdout",
     "output_type": "stream",
     "text": [
      "order_id               0\n",
      "product_id             0\n",
      "add_to_cart_order    836\n",
      "reordered              0\n",
      "dtype: int64\n",
      "1.0\n",
      "64.0\n"
     ]
    }
   ],
   "source": [
    "# ¿Cuáles son los valores mínimos y máximos en esta columna?\n",
    "sum_order_products=order_products.isnull().sum()\n",
    "order_products.drop_duplicates(inplace=True)\n",
    "print(sum_order_products)\n",
    "min_value = order_products['add_to_cart_order'].min()\n",
    "max_value = order_products['add_to_cart_order'].max()\n",
    "print(min_value)\n",
    "print(max_value)"
   ]
  },
  {
   "cell_type": "markdown",
   "id": "-Z2Ja215jW78",
   "metadata": {
    "id": "-Z2Ja215jW78"
   },
   "source": [
    "Describe brevemente cuáles son tus hallazgos.\n",
    "el valor minimo indica que la orden uno fue la menos pedida y la maxima, la orden mas alta"
   ]
  },
  {
   "cell_type": "code",
   "execution_count": null,
   "id": "ab9d0c2b",
   "metadata": {
    "id": "ab9d0c2b"
   },
   "outputs": [
    {
     "name": "stdout",
     "output_type": "stream",
     "text": [
      "737        2449164\n",
      "9926       1968313\n",
      "14394      2926893\n",
      "16418      1717990\n",
      "30114      1959075\n",
      "            ...   \n",
      "4505662    1800005\n",
      "4511400    1633337\n",
      "4517562     404157\n",
      "4534112    1673227\n",
      "4535739    1832957\n",
      "Name: order_id, Length: 836, dtype: int64\n",
      "[2449164, 1968313, 2926893, 1717990, 1959075, 844733, 61355, 936852, 264710, 1717990, 1564093, 129627, 264710, 293169, 2849370, 1386261, 3308010, 903110, 2136777, 3347453, 1888628, 165801, 2449164, 2094761, 3347453, 1038146, 2136777, 2997021, 844733, 844733, 2136777, 813364, 165801, 2256933, 171934, 264710, 2449164, 2409109, 3347453, 813364, 2926893, 936852, 1730767, 1169835, 733526, 844733, 293169, 61355, 903110, 1968313, 733526, 2136777, 2926893, 404157, 1386261, 171934, 3125735, 747668, 3308010, 1169835, 1800005, 1961723, 936852, 2849370, 3308010, 61355, 871281, 1717990, 813364, 388234, 61355, 3125735, 1959075, 61355, 3125735, 1648217, 171934, 3125735, 61355, 1477139, 1959075, 1717990, 1717990, 61355, 1717990, 171934, 1038146, 3308010, 3347453, 102236, 936852, 171934, 1730767, 2926893, 1021563, 1832957, 1959075, 2256933, 1968313, 2721963, 293169, 102236, 3125735, 1959075, 264710, 678116, 1220886, 1386261, 171934, 1959075, 61355, 3308010, 61355, 102236, 388234, 171934, 3308010, 1961723, 2721963, 3308010, 1564093, 264710, 404157, 1673227, 813364, 2094761, 844733, 1386261, 1959075, 3125735, 61355, 102236, 3308010, 1386261, 936852, 2999801, 1038146, 1888628, 813364, 1800005, 1968313, 3308010, 2449164, 388234, 3125735, 102236, 903110, 1832957, 102236, 3308010, 2926893, 388234, 1800005, 2094761, 2721963, 844733, 2136777, 2926893, 813364, 2136777, 1673227, 1633337, 1021563, 102236, 1800005, 1477139, 2470674, 1220886, 2470674, 1648217, 264710, 1832957, 2721963, 2849370, 2625444, 871281, 1717990, 1220886, 1677118, 1730767, 1730767, 678116, 102236, 2136777, 61355, 2136777, 903110, 844733, 2849370, 1832957, 1730767, 2479011, 3383594, 61355, 1832957, 1021563, 1021563, 1959075, 1832957, 813364, 61355, 61355, 2926893, 1959075, 1648217, 2136777, 264710, 1800005, 2094761, 2926893, 1959075, 264710, 61355, 3308010, 2256933, 936852, 3308010, 1038146, 1183255, 2256933, 1832957, 1386261, 1713430, 1730767, 2136777, 3308010, 1717990, 171934, 1968313, 1717990, 2136777, 1648217, 1968313, 2652650, 733526, 1673227, 2849370, 61355, 3308010, 1169835, 3308010, 171934, 2999801, 1717990, 1386261, 936852, 1968313, 1713430, 1800005, 2136777, 264710, 264710, 2926893, 165801, 1598369, 2997021, 1730767, 61355, 1916118, 1730767, 3308010, 2479011, 2449164, 61355, 3125735, 2094761, 1888628, 3125735, 264710, 171934, 1800005, 1038146, 1959075, 102236, 3308010, 1386261, 1800005, 2470674, 2926893, 2470674, 102236, 3308010, 1717990, 903110, 2997021, 129627, 3383594, 3308010, 1386261, 854647, 102236, 1038146, 3308010, 936852, 264710, 264710, 1800005, 61355, 1220886, 2136777, 293169, 1800005, 1888628, 813364, 2136777, 61355, 1730767, 1021563, 2721963, 1730767, 1564093, 3308010, 2849370, 3308010, 1302315, 1888628, 61355, 1959075, 61355, 2136777, 733526, 3308010, 1730767, 1183255, 264710, 1730767, 678116, 2721963, 2136777, 3308010, 2721963, 2409109, 871281, 171934, 678116, 2849370, 813364, 3125735, 1730767, 61355, 2999801, 1648217, 936852, 3125735, 61355, 2849370, 1220886, 1959075, 2256933, 171934, 2926893, 2926893, 404157, 2136777, 3308010, 1021563, 404157, 171934, 61355, 2094761, 1832957, 293169, 813364, 293169, 3125735, 1021563, 1800005, 3308010, 936852, 264710, 171934, 888470, 1673227, 871281, 1800005, 3308010, 1730767, 180546, 2621907, 1730767, 936852, 1959075, 1169835, 1730767, 2926893, 854647, 2449164, 3308010, 2470674, 1183255, 61355, 1386261, 903110, 2094761, 903110, 264710, 1648217, 293169, 2479011, 1730767, 1730767, 2926893, 61355, 3125735, 1959075, 2409109, 2926893, 1021563, 1386261, 3308010, 2926893, 1800005, 61355, 2449164, 102236, 3308010, 1308785, 1800005, 2926893, 61355, 2136777, 1717990, 3308010, 1730767, 871281, 1673227, 102236, 2136777, 1717990, 813364, 1800005, 1959075, 813364, 165801, 2136777, 2729254, 1673227, 1961723, 61355, 1183255, 2136777, 1302315, 1386261, 2849370, 171934, 2136777, 3308010, 733526, 1959075, 9310, 813364, 2170451, 1800005, 404157, 871281, 3125735, 2721963, 404157, 129627, 678116, 2926893, 264710, 2256933, 102236, 102236, 1021563, 264710, 2926893, 936852, 102236, 1968313, 936852, 293169, 2136777, 2136777, 61355, 1183255, 1730767, 1800005, 2479011, 1386261, 1800005, 1673227, 3308010, 2926893, 2926893, 61355, 1832957, 1717990, 813364, 2999801, 264710, 3308010, 3347453, 3308010, 936852, 813364, 404157, 171934, 903110, 871281, 102236, 61355, 813364, 102236, 3308010, 1800005, 1832957, 2479011, 171934, 171934, 844733, 3308010, 171934, 1800005, 404157, 1673227, 3383594, 3308010, 2136777, 102236, 1717990, 2094761, 102236, 1959075, 171934, 2136777, 1386261, 2136777, 2449164, 171934, 3308010, 1220886, 2136777, 1959075, 2136777, 171934, 936852, 3308010, 2470674, 871281, 2721963, 102236, 61355, 3125735, 3308010, 1386261, 1717990, 293169, 61355, 1386261, 2721963, 2136777, 1888628, 264710, 1564093, 2136777, 1730767, 2849370, 2721963, 293169, 264710, 2721963, 3125735, 1959075, 404157, 171934, 61355, 1959075, 871281, 61355, 1183255, 1673227, 2849370, 1477139, 1730767, 903110, 844733, 3308010, 1673227, 61355, 171934, 2926893, 2926893, 1959075, 2479011, 3347453, 2721963, 2625444, 171934, 813364, 102236, 61355, 844733, 2721963, 1302315, 813364, 61355, 2926893, 1968313, 1968313, 264710, 1717990, 1730767, 2136777, 2721963, 2136777, 2721963, 171934, 171934, 2979697, 1730767, 1888628, 1625713, 2136777, 1800005, 2094761, 1961723, 1564093, 1959075, 1916118, 61355, 2997021, 293169, 3308010, 1529171, 61355, 2256933, 1959075, 2449164, 1673227, 2479011, 1888628, 1800005, 2470674, 1386261, 3125735, 2721963, 2926893, 1800005, 1386261, 2136777, 61355, 171934, 3308010, 61355, 936852, 61355, 936852, 293169, 1386261, 171934, 1800005, 871281, 3125735, 61355, 1959075, 1968313, 1717990, 3308010, 844733, 129627, 844733, 264710, 165801, 1386261, 2136777, 2721963, 1730767, 3125735, 2136777, 1183255, 171934, 936852, 854647, 1386261, 2926893, 1961723, 61355, 1730767, 1633337, 61355, 1959075, 102236, 404157, 1968313, 1386261, 2136777, 2999801, 1529171, 2721963, 61355, 3383594, 1730767, 936852, 2926893, 102236, 1959075, 102236, 1713430, 3383594, 102236, 1959075, 678116, 2449164, 844733, 61355, 3308010, 61355, 2136777, 264710, 171934, 813364, 3308010, 1730767, 61355, 102236, 61355, 1717990, 3308010, 1968313, 129627, 936852, 61355, 61355, 165801, 2409109, 2926893, 61355, 1961723, 1832957, 1961723, 1183255, 61355, 2999801, 1220886, 3125735, 171934, 388234, 102236, 102236, 61355, 2721963, 1800005, 1968313, 2136777, 61355, 1220886, 61355, 936852, 1673227, 936852, 1673227, 1625713, 171934, 2136777, 1800005, 1730767, 264710, 102236, 61355, 903110, 2136777, 1959075, 3125735, 171934, 1169835, 3308010, 61355, 1959075, 2721963, 813364, 1477139, 1888628, 1730767, 1959075, 2479011, 3308010, 2721963, 1717990, 2409109, 171934, 171934, 1183255, 1800005, 171934, 2136777, 388234, 264710, 61355, 1730767, 1717990, 1916118, 264710, 3125735, 1959075, 813364, 3347453, 293169, 171934, 1386261, 1183255, 1717990, 1308785, 2625444, 171934, 102236, 1386261, 1968313, 1386261, 404157, 1959075, 1832957, 1961723, 936852, 1386261, 2449164, 171934, 1959075, 2449164, 180546, 1183255, 1386261, 1968313, 2136777, 3308010, 2479011, 2979697, 1888628, 1832957, 1961723, 1800005, 1633337, 404157, 1673227, 1832957]\n"
     ]
    }
   ],
   "source": [
    "# Guarda todas las IDs de pedidos que tengan un valor ausente en 'add_to_cart_order'\n",
    "save_orders = order_products.loc[order_products['add_to_cart_order'].isnull(), 'order_id']\n",
    "print(save_orders)\n",
    "save_orders = save_orders.tolist()\n",
    "print(save_orders)\n"
   ]
  },
  {
   "cell_type": "code",
   "execution_count": null,
   "id": "54c31695",
   "metadata": {
    "id": "54c31695"
   },
   "outputs": [
    {
     "name": "stdout",
     "output_type": "stream",
     "text": [
      "False\n",
      "order_id\n",
      "9310        1\n",
      "61355      63\n",
      "102236     31\n",
      "129627      5\n",
      "165801      6\n",
      "           ..\n",
      "2999801     6\n",
      "3125735    22\n",
      "3308010    51\n",
      "3347453     7\n",
      "3383594     5\n",
      "Length: 70, dtype: int64\n",
      "1\n"
     ]
    }
   ],
   "source": [
    "# ¿Todos los pedidos con valores ausentes tienen más de 64 productos?\n",
    "# Agrupa todos los pedidos con datos ausentes por su ID de pedido.\n",
    "# Cuenta el número de 'product_id' en cada pedido y revisa el valor mínimo del conteo.\n",
    "missing_values = order_products.loc[order_products['add_to_cart_order'].isnull()]\n",
    "order_counts = missing_values.groupby('order_id')['product_id'].count()\n",
    "all_orders= (order_counts > 64).all()\n",
    "print(all_orders)\n",
    "grouped_orders_with_missing = missing_values.groupby('order_id').size()\n",
    "print(grouped_orders_with_missing)\n",
    "min_product_count = order_counts.min()\n",
    "print(min_product_count)"
   ]
  },
  {
   "cell_type": "markdown",
   "id": "p9V6pddtjglj",
   "metadata": {
    "id": "p9V6pddtjglj"
   },
   "source": [
    "Describe brevemente cuáles son tus hallazgos.\n",
    "existen valores ausentes con pedidos que tienen mas de 64 productos"
   ]
  },
  {
   "cell_type": "code",
   "execution_count": null,
   "id": "7a987d08",
   "metadata": {
    "id": "7a987d08"
   },
   "outputs": [
    {
     "name": "stdout",
     "output_type": "stream",
     "text": [
      "int64\n"
     ]
    }
   ],
   "source": [
    "# Remplaza los valores ausentes en la columna 'add_to_cart? con 999 y convierte la columna al tipo entero.\n",
    "order_products['add_to_cart_order'].fillna(999, inplace=True)\n",
    "order_products['add_to_cart_order'] = order_products['add_to_cart_order'].astype(int)\n",
    "print(order_products['add_to_cart_order'].dtype)"
   ]
  },
  {
   "cell_type": "markdown",
   "id": "fea4bcc7",
   "metadata": {
    "id": "fea4bcc7"
   },
   "source": [
    "Describe brevemente tus hallazgos y lo que hiciste con ellos.\n",
    "usamos fillna() para reemplazar los valores asuentes por 99 y inplace=True para que el reemplazo lo realize en el archivo original, usamos astype para convertir los valores a int (enteros)"
   ]
  },
  {
   "cell_type": "markdown",
   "id": "RnplPFY1gSrb",
   "metadata": {
    "id": "RnplPFY1gSrb"
   },
   "source": [
    "## Conclusiones\n",
    "\n",
    "Escribe aquí tus conclusiones intermedias sobre el Paso 2. Preprocesamiento de los datos\n",
    "\n",
    "ya que verificamos los tipos de datos que tenemos  y realizamos la limpieza de los datos (quitamos duplicados y valores ausentes) ya podemos trabajar correctamente con los datos y hacer graficos\n"
   ]
  },
  {
   "cell_type": "markdown",
   "id": "UjrOIwTcz3ri",
   "metadata": {
    "id": "UjrOIwTcz3ri"
   },
   "source": [
    "# Paso 3. Análisis de los datos\n",
    "\n",
    "Una vez los datos estén procesados y listos, haz el siguiente análisis:"
   ]
  },
  {
   "cell_type": "markdown",
   "id": "turkish-kidney",
   "metadata": {
    "id": "turkish-kidney"
   },
   "source": [
    "# [A] Fácil (deben completarse todos para aprobar)\n",
    "\n",
    "1. Verifica que los valores en las columnas `'order_hour_of_day'` y `'order_dow'` en la tabla orders sean razonables (es decir, `'order_hour_of_day'` oscile entre 0 y 23 y `'order_dow'` oscile entre 0 y 6).\n",
    "2. Crea un gráfico que muestre el número de personas que hacen pedidos dependiendo de la hora del día.\n",
    "3. Crea un gráfico que muestre qué día de la semana la gente hace sus compras.\n",
    "4. Crea un gráfico que muestre el tiempo que la gente espera hasta hacer su siguiente pedido, y comenta sobre los valores mínimos y máximos."
   ]
  },
  {
   "cell_type": "markdown",
   "id": "short-capability",
   "metadata": {
    "id": "short-capability"
   },
   "source": [
    "### [A1] Verifica que los valores sean sensibles"
   ]
  },
  {
   "cell_type": "code",
   "execution_count": null,
   "id": "growing-fruit",
   "metadata": {
    "id": "growing-fruit"
   },
   "outputs": [],
   "source": [
    "import pandas as pd\n",
    "import matplotlib.pyplot as plt\n",
    "valid_hour_range = orders['order_hour_of_day'].between(0, 23).all()\n",
    "valid_dow_range = orders['order_dow'].between(0, 6).all()"
   ]
  },
  {
   "cell_type": "code",
   "execution_count": null,
   "id": "accessory-malaysia",
   "metadata": {
    "id": "accessory-malaysia"
   },
   "outputs": [
    {
     "name": "stdout",
     "output_type": "stream",
     "text": [
      "True\n",
      "True\n"
     ]
    }
   ],
   "source": [
    "print(valid_hour_range)\n",
    "print(valid_dow_range)"
   ]
  },
  {
   "cell_type": "markdown",
   "id": "hmR2GNQ6lCsX",
   "metadata": {
    "id": "hmR2GNQ6lCsX"
   },
   "source": [
    "Escribe aquí tus conclusiones\n",
    "ya que ambos resultados son True, significa que todos los valores en esas columnas están dentro de los rangos esperados"
   ]
  },
  {
   "cell_type": "markdown",
   "id": "a6743a70",
   "metadata": {
    "id": "a6743a70"
   },
   "source": [
    "### [A2] Para cada hora del día, ¿cuántas personas hacen órdenes?"
   ]
  },
  {
   "cell_type": "code",
   "execution_count": null,
   "id": "a36cca27",
   "metadata": {
    "id": "a36cca27"
   },
   "outputs": [
    {
     "data": {
      "image/png": "[encoded data removed]",
      "text/plain": [
       "<Figure size 1000x600 with 1 Axes>"
      ]
     },
     "metadata": {},
     "output_type": "display_data"
    }
   ],
   "source": [
    "orders_per_hour = orders['order_hour_of_day'].value_counts().sort_index()\n",
    "plt.figure(figsize=(10, 6))\n",
    "plt.bar(orders_per_hour.index, orders_per_hour.values, color='green')\n",
    "plt.xlabel('Hora del día')\n",
    "plt.ylabel('Número de pedidos')\n",
    "plt.title('Número de pedidos por hora del día')\n",
    "plt.xticks(range(24))\n",
    "plt.grid(axis='y')\n",
    "plt.show()\n"
   ]
  },
  {
   "cell_type": "markdown",
   "id": "11270eed",
   "metadata": {
    "id": "11270eed"
   },
   "source": [
    "Escribe aquí tus conclusiones\n",
    "El grafico muestra el número de pedidos durante las 24 hrs del dia donde el mayor numero de pedidios es entre las 10 am y las 16 pm\n",
    "\n"
   ]
  },
  {
   "cell_type": "markdown",
   "id": "documented-command",
   "metadata": {
    "id": "documented-command"
   },
   "source": [
    "### [A3] ¿Qué día de la semana compran víveres las personas?"
   ]
  },
  {
   "cell_type": "code",
   "execution_count": null,
   "id": "chief-digit",
   "metadata": {
    "id": "chief-digit"
   },
   "outputs": [
    {
     "data": {
      "image/png": "[encoded data removed]",
      "text/plain": [
       "<Figure size 1000x600 with 1 Axes>"
      ]
     },
     "metadata": {},
     "output_type": "display_data"
    }
   ],
   "source": [
    "orders_per_dow = orders['order_dow'].value_counts().sort_index()\n",
    "plt.figure(figsize=(10, 6))\n",
    "plt.scatter(['Lunes', 'Martes', 'Miércoles', 'Jueves', 'Viernes', 'Sábado', 'Domingo'], orders_per_dow.values, color='green')\n",
    "\n",
    "plt.xlabel('Día de la semana')\n",
    "plt.ylabel('Número de pedidos')\n",
    "plt.title('Número de pedidos por día de la semana')\n",
    "plt.grid(axis='y')\n",
    "plt.show()\n"
   ]
  },
  {
   "cell_type": "markdown",
   "id": "dominant-lightning",
   "metadata": {
    "id": "dominant-lightning"
   },
   "source": [
    "Escribe aquí tus conclusiones\n",
    "\n",
    "se usa una grafica tipo scatter para que se vea una tendencia mas clara para los dias mas altos y bajos por ordenes de pedidios el dia que mas se consume son los lunes, realizandose mas de 75 mil pedidos y los dias vienes es el dia que menos de consume con menos de 60 mil numero de ordenes\n",
    "\n",
    "el numero de personas esta entre menos de 500 hasta mas del 30 mil, en el horario de de 11 a las 17 horas es el mas concurrido por una gran cantidad de ordenes por persona de es mayor o igual a los 30 mil "
   ]
  },
  {
   "cell_type": "markdown",
   "id": "cutting-concert",
   "metadata": {
    "id": "cutting-concert"
   },
   "source": [
    "### [A4] ¿Cuánto tiempo esperan las personas hasta hacer otro pedido? Comenta sobre los valores mínimos y máximos."
   ]
  },
  {
   "cell_type": "code",
   "execution_count": null,
   "id": "c231f523",
   "metadata": {
    "id": "c231f523"
   },
   "outputs": [
    {
     "data": {
      "image/png": "[encoded data removed]",
      "text/plain": [
       "<Figure size 1000x600 with 1 Axes>"
      ]
     },
     "metadata": {},
     "output_type": "display_data"
    },
    {
     "name": "stdout",
     "output_type": "stream",
     "text": [
      "Mínimo días entre pedidos: -30.0\n",
      "Máximo días entre pedidos: 30.0\n"
     ]
    }
   ],
   "source": [
    "orders.sort_values(['user_id', 'order_number'], inplace=True)\n",
    "orders['days_between_orders'] = orders.groupby('user_id')['days_since_prior_order'].diff()\n",
    "\n",
    "# Elimina los valores nulos resultantes de la diferencia\n",
    "orders['days_between_orders'].dropna(inplace=True)\n",
    "\n",
    "# Grafica el histograma\n",
    "plt.figure(figsize=(10, 6))\n",
    "plt.hist(orders['days_between_orders'], bins=50, color='lightblue', edgecolor='black')\n",
    "plt.title('Distribución de días entre pedidos')\n",
    "plt.xlabel('Días entre pedidos consecutivos')\n",
    "plt.ylabel('Frecuencia')\n",
    "plt.show()\n",
    "\n",
    "# Imprime los valores mínimo y máximo de días entre pedidos para referencia\n",
    "min_time = orders['days_between_orders'].min()\n",
    "max_time = orders['days_between_orders'].max()\n",
    "print(f'Mínimo días entre pedidos: {min_time}')\n",
    "print(f'Máximo días entre pedidos: {max_time}')"
   ]
  },
  {
   "cell_type": "markdown",
   "id": "discrete-vertex",
   "metadata": {
    "id": "discrete-vertex"
   },
   "source": [
    "Escribe aquí tus conclusiones\n",
    "el numero de personas esta entre menos de 500 hasta mas del 30 mil, en el horario de de 11 a las 17 horas es el mas concurrido por una gran cantidad de ordenes por persona de es mayor o igual a los 30 mil \n",
    "al obtener los valores mínimos y máximos del tiempo que las personas esperan hasta hacer otro pedido"
   ]
  },
  {
   "cell_type": "markdown",
   "id": "tight-staff",
   "metadata": {
    "id": "tight-staff"
   },
   "source": [
    "# [B] Intermedio (deben completarse todos para aprobar)\n",
    "\n",
    "1. ¿Existe alguna diferencia entre las distribuciones `'order_hour_of_day'` de los miércoles y los sábados? Traza gráficos de barra de `'order_hour_of_day'` para ambos días en la misma figura y describe las diferencias que observes.\n",
    "2. Grafica la distribución para el número de órdenes que hacen los clientes (es decir, cuántos clientes hicieron solo 1 pedido, cuántos hicieron 2, cuántos 3, y así sucesivamente...).\n",
    "3. ¿Cuáles son los 20 principales productos que se piden con más frecuencia (muestra su identificación y nombre)?"
   ]
  },
  {
   "cell_type": "markdown",
   "id": "packed-classic",
   "metadata": {
    "id": "packed-classic"
   },
   "source": [
    "### [B1] Diferencia entre miércoles y sábados para  `'order_hour_of_day'`. Traza gráficos de barra para los dos días y describe las diferencias que veas."
   ]
  },
  {
   "cell_type": "code",
   "execution_count": null,
   "id": "d89b8403",
   "metadata": {
    "id": "d89b8403"
   },
   "outputs": [],
   "source": [
    "wednesday_orders = orders[orders['order_dow'] == 2]\n",
    "saturday_orders = orders[orders['order_dow'] == 5]"
   ]
  },
  {
   "cell_type": "code",
   "execution_count": null,
   "id": "94e54e8a",
   "metadata": {
    "id": "94e54e8a"
   },
   "outputs": [],
   "source": [
    "wednesday_hour_counts = wednesday_orders['order_hour_of_day'].value_counts().sort_index()\n",
    "saturday_hour_counts = saturday_orders['order_hour_of_day'].value_counts().sort_index()\n"
   ]
  },
  {
   "cell_type": "code",
   "execution_count": null,
   "id": "797c90a8",
   "metadata": {
    "id": "797c90a8"
   },
   "outputs": [
    {
     "data": {
      "image/png": "[encoded data removed]",
      "text/plain": [
       "<Figure size 1500x800 with 1 Axes>"
      ]
     },
     "metadata": {},
     "output_type": "display_data"
    }
   ],
   "source": [
    "plt.figure(figsize=(15, 8))\n",
    "plt.bar(wednesday_hour_counts.index, wednesday_hour_counts.values, color='orange', label='Miércoles')\n",
    "plt.bar(saturday_hour_counts.index + 0.4, saturday_hour_counts.values, color='green', label='Sábado')\n",
    "plt.title('Distribución de pedidos por hora del día (Miércoles vs Sábado)')\n",
    "plt.xlabel('Hora del día')\n",
    "plt.ylabel('Número de pedidos')\n",
    "plt.xticks(range(24))\n",
    "plt.show()\n"
   ]
  },
  {
   "cell_type": "code",
   "execution_count": null,
   "id": "35bcea30",
   "metadata": {
    "id": "35bcea30"
   },
   "outputs": [],
   "source": []
  },
  {
   "cell_type": "markdown",
   "id": "charitable-congo",
   "metadata": {
    "id": "charitable-congo"
   },
   "source": [
    "Escribe aquí tus conclusiones\n",
    "las graficas muestran las 24 horas con respecto al numero de pedidos que se realizan, aqui podemos observar que el dia miercoles y sabdo son dias muy parecidos en el numero de compras e incluso el horario "
   ]
  },
  {
   "cell_type": "markdown",
   "id": "e3891143",
   "metadata": {
    "id": "e3891143"
   },
   "source": [
    "### [B2] ¿Cuál es la distribución para el número de pedidos por cliente?"
   ]
  },
  {
   "cell_type": "code",
   "execution_count": null,
   "id": "d8c26c23",
   "metadata": {
    "id": "d8c26c23"
   },
   "outputs": [],
   "source": [
    "orders_per_customer = orders.groupby('user_id')['order_id'].count()\n",
    "orders_count = orders_per_customer.value_counts().sort_index()"
   ]
  },
  {
   "cell_type": "code",
   "execution_count": null,
   "id": "00e69a66",
   "metadata": {
    "id": "00e69a66"
   },
   "outputs": [
    {
     "data": {
      "image/png": "[encoded data removed]",
      "text/plain": [
       "<Figure size 1000x500 with 1 Axes>"
      ]
     },
     "metadata": {},
     "output_type": "display_data"
    }
   ],
   "source": [
    "plt.figure(figsize=(10, 5))\n",
    "plt.bar(orders_count.index, orders_count.values, color='b')\n",
    "plt.title('Distribución del número de órdenes por cliente')\n",
    "plt.xlabel('Número de órdenes por cliente')\n",
    "plt.ylabel('Número de clientes')\n",
    "plt.show()"
   ]
  },
  {
   "cell_type": "markdown",
   "id": "d2eff7d5",
   "metadata": {
    "id": "d2eff7d5"
   },
   "source": [
    "Escribe aquí tus conclusiones\n",
    "existe una relacion entre el numero de ordenes con el numero de clientes donde usando la funcion sort.index nos ayuda a acomodar ascendentemente para saber cuantos clientes tiene una orden, dos ordenes etc"
   ]
  },
  {
   "cell_type": "markdown",
   "id": "54a0319c",
   "metadata": {
    "id": "54a0319c"
   },
   "source": [
    "### [B3] ¿Cuáles son los 20 productos más populares (muestra su ID y nombre)?"
   ]
  },
  {
   "cell_type": "code",
   "execution_count": null,
   "id": "exterior-arizona",
   "metadata": {
    "id": "exterior-arizona",
    "scrolled": true
   },
   "outputs": [],
   "source": [
    "top_products = order_products['product_id'].value_counts().head(20)\n",
    "top_products_ids = top_products.index.tolist()\n"
   ]
  },
  {
   "cell_type": "code",
   "execution_count": null,
   "id": "universal-facial",
   "metadata": {
    "id": "universal-facial"
   },
   "outputs": [],
   "source": [
    "top_products_info = products[products['product_id'].isin(top_products_ids)][['product_id', 'product_name']]\n",
    "top_products_info = top_products_info.merge(top_products, left_on='product_id', right_index=True)\n",
    "top_products_info = top_products_info.sort_values(by='product_id')"
   ]
  },
  {
   "cell_type": "code",
   "execution_count": null,
   "id": "bbcdd20b",
   "metadata": {
    "id": "bbcdd20b"
   },
   "outputs": [
    {
     "name": "stdout",
     "output_type": "stream",
     "text": [
      "    ranking  product_id              product_name  frequency\n",
      "0         1        5876             ORGANIC LEMON      12232\n",
      "1         2        8277  APPLE HONEYCRISP ORGANIC      11993\n",
      "2         3       13176    BAG OF ORGANIC BANANAS      53297\n",
      "3         4       16797              STRAWBERRIES      20018\n",
      "4         5       21137      ORGANIC STRAWBERRIES      37039\n",
      "5         6       21903      ORGANIC BABY SPINACH      33971\n",
      "6         7       22935      ORGANIC YELLOW ONION      15898\n",
      "7         8       24852                    BANANA      66050\n",
      "8         9       24964            ORGANIC GARLIC      15292\n",
      "9        10       26209                     LIMES      19690\n",
      "10       11       27845        ORGANIC WHOLE MILK      19600\n",
      "11       12       27966       ORGANIC RASPBERRIES      19197\n",
      "12       13       28204        ORGANIC FUJI APPLE      12544\n",
      "13       14       39275       ORGANIC BLUEBERRIES      13879\n",
      "14       15       40706    ORGANIC GRAPE TOMATOES      11781\n",
      "15       16       45007          ORGANIC ZUCCHINI      14584\n",
      "16       17       47209      ORGANIC HASS AVOCADO      29773\n",
      "17       18       47626               LARGE LEMON      21495\n",
      "18       19       47766           ORGANIC AVOCADO      24689\n",
      "19       20       49683            CUCUMBER KIRBY      13675\n"
     ]
    }
   ],
   "source": [
    "top_products_info['ranking'] = range(1, len(top_products_info) + 1)\n",
    "top_products_info = top_products_info.sort_values(by='product_id')\n",
    "top_products_info.reset_index(drop=True, inplace=True)\n",
    "print(top_products_info[['ranking', 'product_id', 'product_name', 'product_id_y']].rename(columns={'product_id_y': 'frequency'}))\n",
    "\n"
   ]
  },
  {
   "cell_type": "markdown",
   "id": "7df00f47",
   "metadata": {
    "id": "7df00f47"
   },
   "source": [
    "Escribe aquí tus conclusiones\n",
    "\n",
    "la diferiencia entre los dias viernes y sabados no varia mucho ya que como se obervo en la grafica donde se muestra ¿que dia de la seman compran mas viveres las personas? el numero de compras es casi menos o igual a 60 mil, por lo que podemos determinar que estos datos son ciertos y no obstante son similares incluso el numero de pedido con respecto al horario al mostrar los 20 pedidos mas populares puden existir diferentes formas de comodar los datos por su ranking ya se por \"product_id\" que o \"frequency\" ya que nos da los datos con mas frecuencias se compra ese producto, para este caso lo he ordenado por \"product_id\" puesto que este va desde el primer cliente hasta el ultimo, sin embargo haria mas sentido con \"frequency\" ya es son los productos con mas frecuencia, esto dependera de los datos excatos que queremos obtener o en su caso relaizarlo de ambas formas"
   ]
  },
  {
   "cell_type": "markdown",
   "id": "gross-theme",
   "metadata": {
    "id": "gross-theme"
   },
   "source": [
    "# [C] Difícil (deben completarse todos para aprobar)\n",
    "\n",
    "1. ¿Cuántos artículos suelen comprar las personas en un pedido? ¿Cómo es la distribución?\n",
    "2. ¿Cuáles son los 20 principales artículos que vuelven a pedirse con mayor frecuencia (muestra sus nombres e IDs de los productos)?\n",
    "3. Para cada producto, ¿cuál es la tasa de repetición del pedido (número de repeticiones de pedido/total de pedidos?\n",
    "4. Para cada cliente, ¿qué proporción de los productos que pidió ya los había pedido? Calcula la tasa de repetición de pedido para cada usuario en lugar de para cada producto.\n",
    "5. ¿Cuáles son los 20 principales artículos que la gente pone primero en sus carritos (muestra las IDs de los productos, sus nombres, y el número de veces en que fueron el primer artículo en añadirse al carrito)?"
   ]
  },
  {
   "cell_type": "markdown",
   "id": "romantic-deposit",
   "metadata": {
    "id": "romantic-deposit"
   },
   "source": [
    "### [C1] ¿Cuántos artículos compran normalmente las personas en un pedido? ¿Cómo es la distribución?"
   ]
  },
  {
   "cell_type": "code",
   "execution_count": null,
   "id": "virtual-punch",
   "metadata": {
    "id": "virtual-punch"
   },
   "outputs": [],
   "source": [
    "import matplotlib.pyplot as plt\n",
    "import seaborn as sns"
   ]
  },
  {
   "cell_type": "code",
   "execution_count": null,
   "id": "sensitive-breathing",
   "metadata": {
    "id": "sensitive-breathing"
   },
   "outputs": [
    {
     "name": "stdout",
     "output_type": "stream",
     "text": [
      "10.242555205467886\n"
     ]
    }
   ],
   "source": [
    "average_items_per_order = order_products.groupby('order_id')['add_to_cart_order'].max().mean()\n",
    "\n",
    "print(average_items_per_order)"
   ]
  },
  {
   "cell_type": "code",
   "execution_count": null,
   "id": "completed-frank",
   "metadata": {
    "id": "completed-frank"
   },
   "outputs": [
    {
     "data": {
      "image/png": "[encoded data removed]",
      "text/plain": [
       "<Figure size 1000x600 with 1 Axes>"
      ]
     },
     "metadata": {},
     "output_type": "display_data"
    }
   ],
   "source": [
    "plt.figure(figsize=(10, 6))\n",
    "sns.histplot(order_products.groupby('order_id')['add_to_cart_order'].max(), bins=50, kde=True)\n",
    "plt.title('Distribución del número de artículos por pedido')\n",
    "plt.xlabel('Número de artículos por pedido')\n",
    "plt.ylabel('Frecuencia')\n",
    "plt.show()"
   ]
  },
  {
   "cell_type": "markdown",
   "id": "designed-mortality",
   "metadata": {
    "id": "designed-mortality"
   },
   "source": [
    "Escribe aquí tus conclusiones\n",
    "Las personas compran en un promedio de 10 articulos por pedido"
   ]
  },
  {
   "cell_type": "markdown",
   "id": "5e6b5537",
   "metadata": {
    "id": "5e6b5537"
   },
   "source": [
    "### [C2] ¿Cuáles son los 20 principales artículos que vuelven a pedirse con mayor frecuencia (muestra sus nombres e IDs de los productos)?"
   ]
  },
  {
   "cell_type": "code",
   "execution_count": null,
   "id": "9374e55a",
   "metadata": {
    "id": "9374e55a"
   },
   "outputs": [],
   "source": [
    "top_order_products = order_products.groupby('product_id')['reordered'].sum().reset_index()"
   ]
  },
  {
   "cell_type": "code",
   "execution_count": null,
   "id": "possible-change",
   "metadata": {
    "id": "possible-change",
    "scrolled": true
   },
   "outputs": [],
   "source": [
    "top_order_products = top_order_products.sort_values(by='reordered', ascending=False).head(20)"
   ]
  },
  {
   "cell_type": "code",
   "execution_count": null,
   "id": "professional-surfing",
   "metadata": {
    "id": "professional-surfing",
    "scrolled": true
   },
   "outputs": [],
   "source": [
    "top_order_products_info = top_order_products.merge(products, on='product_id')[['product_id', 'product_name']]"
   ]
  },
  {
   "cell_type": "code",
   "execution_count": null,
   "id": "48dd3658",
   "metadata": {
    "id": "48dd3658"
   },
   "outputs": [
    {
     "name": "stdout",
     "output_type": "stream",
     "text": [
      "       product_id  reordered\n",
      "22808       24852      55763\n",
      "12025       13176      44450\n",
      "19370       21137      28639\n",
      "20077       21903      26233\n",
      "43271       47209      23629\n",
      "43788       47766      18743\n",
      "25556       27845      16251\n",
      "43663       47626      15044\n",
      "25666       27966      14748\n",
      "15364       16797      13945\n",
      "24047       26209      13327\n",
      "21025       22935      11145\n",
      "22908       24964      10411\n",
      "41244       45007      10076\n",
      "45561       49683       9538\n",
      "25889       28204       8989\n",
      "7543         8277       8836\n",
      "35996       39275       8799\n",
      "5375         5876       8412\n",
      "45155       49235       8389\n"
     ]
    }
   ],
   "source": [
    "print(top_order_products)\n"
   ]
  },
  {
   "cell_type": "markdown",
   "id": "80e70c74",
   "metadata": {
    "id": "80e70c74"
   },
   "source": [
    "Escribe aquí tus conclusiones"
   ]
  },
  {
   "cell_type": "markdown",
   "id": "9d312b14",
   "metadata": {
    "id": "9d312b14"
   },
   "source": [
    "### [C3] Para cada producto, ¿cuál es la proporción de las veces que se pide y que se vuelve a pedir?"
   ]
  },
  {
   "cell_type": "code",
   "execution_count": null,
   "id": "8ae9f4b1",
   "metadata": {
    "id": "8ae9f4b1"
   },
   "outputs": [],
   "source": [
    "total_orders_per_product = order_products.groupby('product_id')['order_id'].nunique()\n",
    "reordered_orders_per_product = order_products.groupby('product_id')['reordered'].sum()\n",
    "reorder_rate_per_product = (reordered_orders_per_product / total_orders_per_product).reset_index()"
   ]
  },
  {
   "cell_type": "code",
   "execution_count": null,
   "id": "103e7fe1",
   "metadata": {
    "id": "103e7fe1"
   },
   "outputs": [
    {
     "ename": "KeyError",
     "evalue": "\"['reordered'] not in index\"",
     "output_type": "error",
     "traceback": [
      "\u001b[0;31m---------------------------------------------------------------------------\u001b[0m",
      "\u001b[0;31mKeyError\u001b[0m                                  Traceback (most recent call last)",
      "Cell \u001b[0;32mIn[86], line 2\u001b[0m\n\u001b[1;32m      1\u001b[0m reorder_rate_per_product \u001b[38;5;241m=\u001b[39m reorder_rate_per_product\u001b[38;5;241m.\u001b[39mmerge(products, on\u001b[38;5;241m=\u001b[39m\u001b[38;5;124m'\u001b[39m\u001b[38;5;124mproduct_id\u001b[39m\u001b[38;5;124m'\u001b[39m, how\u001b[38;5;241m=\u001b[39m\u001b[38;5;124m'\u001b[39m\u001b[38;5;124mleft\u001b[39m\u001b[38;5;124m'\u001b[39m)\n\u001b[0;32m----> 2\u001b[0m reorder_rate_per_product \u001b[38;5;241m=\u001b[39m \u001b[43mreorder_rate_per_product\u001b[49m\u001b[43m[\u001b[49m\u001b[43m[\u001b[49m\u001b[38;5;124;43m'\u001b[39;49m\u001b[38;5;124;43mproduct_id\u001b[39;49m\u001b[38;5;124;43m'\u001b[39;49m\u001b[43m,\u001b[49m\u001b[43m \u001b[49m\u001b[38;5;124;43m'\u001b[39;49m\u001b[38;5;124;43mproduct_name\u001b[39;49m\u001b[38;5;124;43m'\u001b[39;49m\u001b[43m,\u001b[49m\u001b[43m \u001b[49m\u001b[38;5;124;43m'\u001b[39;49m\u001b[38;5;124;43mreordered\u001b[39;49m\u001b[38;5;124;43m'\u001b[39;49m\u001b[43m]\u001b[49m\u001b[43m]\u001b[49m\n\u001b[1;32m      3\u001b[0m reorder_rate_per_product \u001b[38;5;241m=\u001b[39m reorder_rate_per_product\u001b[38;5;241m.\u001b[39msort_values(by\u001b[38;5;241m=\u001b[39m\u001b[38;5;124m'\u001b[39m\u001b[38;5;124mreordered\u001b[39m\u001b[38;5;124m'\u001b[39m, ascending\u001b[38;5;241m=\u001b[39m\u001b[38;5;28;01mFalse\u001b[39;00m)\n",
      "File \u001b[0;32m/opt/conda/envs/python3/lib/python3.9/site-packages/pandas/core/frame.py:3030\u001b[0m, in \u001b[0;36mDataFrame.__getitem__\u001b[0;34m(self, key)\u001b[0m\n\u001b[1;32m   3028\u001b[0m     \u001b[38;5;28;01mif\u001b[39;00m is_iterator(key):\n\u001b[1;32m   3029\u001b[0m         key \u001b[38;5;241m=\u001b[39m \u001b[38;5;28mlist\u001b[39m(key)\n\u001b[0;32m-> 3030\u001b[0m     indexer \u001b[38;5;241m=\u001b[39m \u001b[38;5;28;43mself\u001b[39;49m\u001b[38;5;241;43m.\u001b[39;49m\u001b[43mloc\u001b[49m\u001b[38;5;241;43m.\u001b[39;49m\u001b[43m_get_listlike_indexer\u001b[49m\u001b[43m(\u001b[49m\u001b[43mkey\u001b[49m\u001b[43m,\u001b[49m\u001b[43m \u001b[49m\u001b[43maxis\u001b[49m\u001b[38;5;241;43m=\u001b[39;49m\u001b[38;5;241;43m1\u001b[39;49m\u001b[43m,\u001b[49m\u001b[43m \u001b[49m\u001b[43mraise_missing\u001b[49m\u001b[38;5;241;43m=\u001b[39;49m\u001b[38;5;28;43;01mTrue\u001b[39;49;00m\u001b[43m)\u001b[49m[\u001b[38;5;241m1\u001b[39m]\n\u001b[1;32m   3032\u001b[0m \u001b[38;5;66;03m# take() does not accept boolean indexers\u001b[39;00m\n\u001b[1;32m   3033\u001b[0m \u001b[38;5;28;01mif\u001b[39;00m \u001b[38;5;28mgetattr\u001b[39m(indexer, \u001b[38;5;124m\"\u001b[39m\u001b[38;5;124mdtype\u001b[39m\u001b[38;5;124m\"\u001b[39m, \u001b[38;5;28;01mNone\u001b[39;00m) \u001b[38;5;241m==\u001b[39m \u001b[38;5;28mbool\u001b[39m:\n",
      "File \u001b[0;32m/opt/conda/envs/python3/lib/python3.9/site-packages/pandas/core/indexing.py:1266\u001b[0m, in \u001b[0;36m_LocIndexer._get_listlike_indexer\u001b[0;34m(self, key, axis, raise_missing)\u001b[0m\n\u001b[1;32m   1263\u001b[0m \u001b[38;5;28;01melse\u001b[39;00m:\n\u001b[1;32m   1264\u001b[0m     keyarr, indexer, new_indexer \u001b[38;5;241m=\u001b[39m ax\u001b[38;5;241m.\u001b[39m_reindex_non_unique(keyarr)\n\u001b[0;32m-> 1266\u001b[0m \u001b[38;5;28;43mself\u001b[39;49m\u001b[38;5;241;43m.\u001b[39;49m\u001b[43m_validate_read_indexer\u001b[49m\u001b[43m(\u001b[49m\u001b[43mkeyarr\u001b[49m\u001b[43m,\u001b[49m\u001b[43m \u001b[49m\u001b[43mindexer\u001b[49m\u001b[43m,\u001b[49m\u001b[43m \u001b[49m\u001b[43maxis\u001b[49m\u001b[43m,\u001b[49m\u001b[43m \u001b[49m\u001b[43mraise_missing\u001b[49m\u001b[38;5;241;43m=\u001b[39;49m\u001b[43mraise_missing\u001b[49m\u001b[43m)\u001b[49m\n\u001b[1;32m   1267\u001b[0m \u001b[38;5;28;01mreturn\u001b[39;00m keyarr, indexer\n",
      "File \u001b[0;32m/opt/conda/envs/python3/lib/python3.9/site-packages/pandas/core/indexing.py:1316\u001b[0m, in \u001b[0;36m_LocIndexer._validate_read_indexer\u001b[0;34m(self, key, indexer, axis, raise_missing)\u001b[0m\n\u001b[1;32m   1314\u001b[0m \u001b[38;5;28;01mif\u001b[39;00m raise_missing:\n\u001b[1;32m   1315\u001b[0m     not_found \u001b[38;5;241m=\u001b[39m \u001b[38;5;28mlist\u001b[39m(\u001b[38;5;28mset\u001b[39m(key) \u001b[38;5;241m-\u001b[39m \u001b[38;5;28mset\u001b[39m(ax))\n\u001b[0;32m-> 1316\u001b[0m     \u001b[38;5;28;01mraise\u001b[39;00m \u001b[38;5;167;01mKeyError\u001b[39;00m(\u001b[38;5;124mf\u001b[39m\u001b[38;5;124m\"\u001b[39m\u001b[38;5;132;01m{\u001b[39;00mnot_found\u001b[38;5;132;01m}\u001b[39;00m\u001b[38;5;124m not in index\u001b[39m\u001b[38;5;124m\"\u001b[39m)\n\u001b[1;32m   1318\u001b[0m not_found \u001b[38;5;241m=\u001b[39m key[missing_mask]\n\u001b[1;32m   1320\u001b[0m \u001b[38;5;28;01mwith\u001b[39;00m option_context(\u001b[38;5;124m\"\u001b[39m\u001b[38;5;124mdisplay.max_seq_items\u001b[39m\u001b[38;5;124m\"\u001b[39m, \u001b[38;5;241m10\u001b[39m, \u001b[38;5;124m\"\u001b[39m\u001b[38;5;124mdisplay.width\u001b[39m\u001b[38;5;124m\"\u001b[39m, \u001b[38;5;241m80\u001b[39m):\n",
      "\u001b[0;31mKeyError\u001b[0m: \"['reordered'] not in index\""
     ]
    }
   ],
   "source": [
    "reorder_rate_per_product = reorder_rate_per_product.merge(products, on='product_id', how='left')\n",
    "reorder_rate_per_product = reorder_rate_per_product[['product_id', 'product_name', 'reordered']]\n",
    "reorder_rate_per_product = reorder_rate_per_product.sort_values(by='reordered', ascending=False)"
   ]
  },
  {
   "cell_type": "code",
   "execution_count": null,
   "id": "social-individual",
   "metadata": {
    "id": "social-individual"
   },
   "outputs": [
    {
     "name": "stdout",
     "output_type": "stream",
     "text": [
      "       product_id         0  \\\n",
      "0               1  0.564286   \n",
      "1               2  0.000000   \n",
      "2               3  0.738095   \n",
      "3               4  0.510204   \n",
      "4               7  0.500000   \n",
      "...           ...       ...   \n",
      "45568       49690  0.800000   \n",
      "45569       49691  0.430556   \n",
      "45570       49692  0.416667   \n",
      "45571       49693  0.440000   \n",
      "45572       49694  0.333333   \n",
      "\n",
      "                                            product_name  aisle_id  \\\n",
      "0                             CHOCOLATE SANDWICH COOKIES        61   \n",
      "1                                       ALL-SEASONS SALT       104   \n",
      "2                   ROBUST GOLDEN UNSWEETENED OOLONG TEA        94   \n",
      "3      SMART ONES CLASSIC FAVORITES MINI RIGATONI WIT...        38   \n",
      "4                         PURE COCONUT WATER WITH ORANGE        98   \n",
      "...                                                  ...       ...   \n",
      "45568                      HIGH PERFORMANCE ENERGY DRINK        64   \n",
      "45569                      ORIGINAL PANCAKE & WAFFLE MIX       130   \n",
      "45570    ORGANIC INSTANT OATMEAL LIGHT MAPLE BROWN SUGAR       130   \n",
      "45571                             SPRING WATER BODY WASH       127   \n",
      "45572                            BURRITO- STEAK & CHEESE        38   \n",
      "\n",
      "       department_id  \n",
      "0                 19  \n",
      "1                 13  \n",
      "2                  7  \n",
      "3                  1  \n",
      "4                  7  \n",
      "...              ...  \n",
      "45568              7  \n",
      "45569             14  \n",
      "45570             14  \n",
      "45571             11  \n",
      "45572              1  \n",
      "\n",
      "[45573 rows x 5 columns]\n"
     ]
    }
   ],
   "source": [
    "print(reorder_rate_per_product)"
   ]
  },
  {
   "cell_type": "markdown",
   "id": "I10dEIAyldcO",
   "metadata": {
    "id": "I10dEIAyldcO"
   },
   "source": [
    "Escribe aquí tus conclusiones"
   ]
  },
  {
   "cell_type": "markdown",
   "id": "subject-boxing",
   "metadata": {
    "id": "subject-boxing"
   },
   "source": [
    "### [C4] Para cada cliente, ¿qué proporción de sus productos ya los había pedido?"
   ]
  },
  {
   "cell_type": "code",
   "execution_count": null,
   "id": "medical-couple",
   "metadata": {
    "id": "medical-couple",
    "scrolled": true
   },
   "outputs": [
    {
     "name": "stdout",
     "output_type": "stream",
     "text": [
      "        user_id  reordered\n",
      "0             2   0.076923\n",
      "1             4   0.000000\n",
      "2             5   0.666667\n",
      "3             7   0.928571\n",
      "4            11   0.200000\n",
      "...         ...        ...\n",
      "140509   206203   0.222222\n",
      "140510   206206   0.714286\n",
      "140511   206207   0.891304\n",
      "140512   206208   0.696000\n",
      "140513   206209   0.320000\n",
      "\n",
      "[140514 rows x 2 columns]\n"
     ]
    }
   ],
   "source": [
    "df_merge = order_products.merge(orders)\n",
    "average_reorder_proportion_per_customer = df_merge.groupby('user_id')['reordered'].mean().reset_index()\n",
    "print(average_reorder_proportion_per_customer)"
   ]
  },
  {
   "cell_type": "markdown",
   "id": "92d35137",
   "metadata": {
    "id": "92d35137"
   },
   "source": [
    "### [C5] ¿Cuáles son los 20 principales artículos que las personas ponen primero en sus carritos?"
   ]
  },
  {
   "cell_type": "code",
   "execution_count": null,
   "id": "0ae57274",
   "metadata": {
    "id": "0ae57274",
    "scrolled": true
   },
   "outputs": [
    {
     "name": "stdout",
     "output_type": "stream",
     "text": [
      "    product_id                 product_name  count\n",
      "0        24852                       BANANA  15562\n",
      "1        13176       BAG OF ORGANIC BANANAS  11026\n",
      "2        27845           ORGANIC WHOLE MILK   4363\n",
      "3        21137         ORGANIC STRAWBERRIES   3946\n",
      "4        47209         ORGANIC HASS AVOCADO   3390\n",
      "5        21903         ORGANIC BABY SPINACH   3336\n",
      "6        47766              ORGANIC AVOCADO   3044\n",
      "7        19660                 SPRING WATER   2336\n",
      "8        16797                 STRAWBERRIES   2308\n",
      "9        27966          ORGANIC RASPBERRIES   2024\n",
      "10       44632   SPARKLING WATER GRAPEFRUIT   1914\n",
      "11       49235          ORGANIC HALF & HALF   1797\n",
      "12       47626                  LARGE LEMON   1737\n",
      "13         196                         SODA   1733\n",
      "14       38689     ORGANIC REDUCED FAT MILK   1397\n",
      "15       26209                        LIMES   1370\n",
      "16       12341                HASS AVOCADOS   1340\n",
      "17        5785  ORGANIC REDUCED FAT 2% MILK   1310\n",
      "18       27086                  HALF & HALF   1309\n",
      "19       22935         ORGANIC YELLOW ONION   1246\n"
     ]
    }
   ],
   "source": [
    "first_in_cart = order_products[order_products['add_to_cart_order'] == 1]\n",
    "top_first_in_cart = first_in_cart['product_id'].value_counts().head(20).reset_index()\n",
    "top_first_in_cart.columns = ['product_id', 'count']\n",
    "top_first_in_cart = top_first_in_cart.merge(products, on='product_id')[['product_id', 'product_name', 'count']]\n",
    "print(top_first_in_cart)"
   ]
  },
  {
   "cell_type": "markdown",
   "id": "28ce9872",
   "metadata": {
    "id": "28ce9872"
   },
   "source": [
    "Escribe aquí tus conclusiones\n",
    "la informacion proporciona una lista de los 20 principales artículos que las personas ponen primero en sus carritos, lo que te ayudará a entender qué productos son más comúnmente seleccionados primero por los clientes al realizar un pedido"
   ]
  },
  {
   "cell_type": "markdown",
   "id": "uITbFCEoDosC",
   "metadata": {
    "id": "uITbFCEoDosC"
   },
   "source": [
    "### Conclusion general del proyecto:"
   ]
  },
  {
   "cell_type": "markdown",
   "id": "7d6e91f6-49a0-45f4-ae83-98d0257770c6",
   "metadata": {
    "id": "Nk-4GS7mDwqY"
   },
   "source": [
    "una vez que realizamos la limpieza de los datos, quitamos duplicados etc. los que queremos mostrtar es el comportamiento de los clientes como en que horario compran mas, que dia suelen comprar mas productos, cuales son los productos que mas se piden (pupulares) y cuantos articulos en promedio por pedido se llegan a comprar y cuáles se reordenan con más frecuencia y qué productos se añaden primero al carrito. los demas de los dias que mas se venden que principalmente son los lunes encontra que el producto Banana y bag of organic bananas son los dos productos que mas consumen los clientes seguido en tercer luagr con organic whole milk que apartir de aqui podemos determinar que los desendentes productos que las personas ponen pirmero en sus carritos ya no es tan alta o frecuente la cantidad como los dos primeros mencionados"
   ]
  }
 ],
 "metadata": {
  "ExecuteTimeLog": [
   {
    "duration": 326,
    "start_time": "2024-07-05T05:27:40.443Z"
   },
   {
    "duration": 483,
    "start_time": "2024-07-05T05:27:59.893Z"
   },
   {
    "duration": 4501,
    "start_time": "2024-07-05T05:28:10.382Z"
   },
   {
    "duration": 695,
    "start_time": "2024-07-05T05:28:14.887Z"
   },
   {
    "duration": 70,
    "start_time": "2024-07-05T05:30:15.928Z"
   },
   {
    "duration": 24,
    "start_time": "2024-07-05T05:31:43.962Z"
   },
   {
    "duration": 92,
    "start_time": "2024-07-05T05:33:25.567Z"
   },
   {
    "duration": 30,
    "start_time": "2024-07-05T05:33:49.647Z"
   },
   {
    "duration": 7879,
    "start_time": "2024-07-05T05:34:35.847Z"
   },
   {
    "duration": 7236,
    "start_time": "2024-07-05T05:35:02.808Z"
   },
   {
    "duration": 13,
    "start_time": "2024-07-05T05:55:01.277Z"
   },
   {
    "duration": 7097,
    "start_time": "2024-07-05T05:55:43.379Z"
   },
   {
    "duration": 7157,
    "start_time": "2024-07-05T05:55:56.341Z"
   },
   {
    "duration": 13,
    "start_time": "2024-07-05T05:57:02.987Z"
   },
   {
    "duration": 17,
    "start_time": "2024-07-05T05:57:30.636Z"
   },
   {
    "duration": 25,
    "start_time": "2024-07-05T05:58:08.819Z"
   },
   {
    "duration": 20,
    "start_time": "2024-07-05T05:58:17.531Z"
   },
   {
    "duration": 489,
    "start_time": "2024-07-05T23:57:39.798Z"
   },
   {
    "duration": 343,
    "start_time": "2024-07-05T23:57:41.903Z"
   },
   {
    "duration": 4114,
    "start_time": "2024-07-05T23:57:52.728Z"
   },
   {
    "duration": 3730,
    "start_time": "2024-07-05T23:58:27.218Z"
   },
   {
    "duration": 3927,
    "start_time": "2024-07-05T23:58:35.504Z"
   },
   {
    "duration": 638,
    "start_time": "2024-07-05T23:58:42.184Z"
   },
   {
    "duration": 3878,
    "start_time": "2024-07-05T23:59:08.075Z"
   },
   {
    "duration": 638,
    "start_time": "2024-07-05T23:59:11.957Z"
   },
   {
    "duration": 3641,
    "start_time": "2024-07-05T23:59:43.671Z"
   },
   {
    "duration": 163,
    "start_time": "2024-07-05T23:59:47.315Z"
   },
   {
    "duration": 1631,
    "start_time": "2024-07-06T00:00:22.081Z"
   },
   {
    "duration": 152,
    "start_time": "2024-07-06T00:00:31.488Z"
   },
   {
    "duration": 34,
    "start_time": "2024-07-06T00:00:37.643Z"
   },
   {
    "duration": 21,
    "start_time": "2024-07-06T00:00:47.160Z"
   },
   {
    "duration": 24,
    "start_time": "2024-07-06T00:00:53.276Z"
   },
   {
    "duration": 24,
    "start_time": "2024-07-06T00:00:58.220Z"
   },
   {
    "duration": 30,
    "start_time": "2024-07-06T00:01:19.204Z"
   },
   {
    "duration": 801,
    "start_time": "2024-07-06T00:01:28.940Z"
   },
   {
    "duration": 598,
    "start_time": "2024-07-06T00:20:08.188Z"
   },
   {
    "duration": 135,
    "start_time": "2024-07-06T00:20:22.536Z"
   },
   {
    "duration": 145,
    "start_time": "2024-07-06T00:35:11.067Z"
   },
   {
    "duration": 151,
    "start_time": "2024-07-06T00:43:13.393Z"
   },
   {
    "duration": 11,
    "start_time": "2024-07-06T00:43:34.898Z"
   },
   {
    "duration": 37,
    "start_time": "2024-07-06T00:43:40.385Z"
   },
   {
    "duration": 67,
    "start_time": "2024-07-06T00:43:49.377Z"
   },
   {
    "duration": 23,
    "start_time": "2024-07-06T00:45:00.028Z"
   },
   {
    "duration": 144,
    "start_time": "2024-07-06T00:50:57.786Z"
   },
   {
    "duration": 159,
    "start_time": "2024-07-06T00:55:03.031Z"
   },
   {
    "duration": 140,
    "start_time": "2024-07-06T00:56:21.854Z"
   },
   {
    "duration": 170,
    "start_time": "2024-07-06T00:57:45.817Z"
   },
   {
    "duration": 152,
    "start_time": "2024-07-06T01:07:09.513Z"
   },
   {
    "duration": 292,
    "start_time": "2024-07-06T01:07:59.265Z"
   },
   {
    "duration": 283,
    "start_time": "2024-07-06T01:08:14.839Z"
   },
   {
    "duration": 296,
    "start_time": "2024-07-06T01:09:19.935Z"
   },
   {
    "duration": 278,
    "start_time": "2024-07-06T01:10:10.140Z"
   },
   {
    "duration": 157,
    "start_time": "2024-07-06T01:10:29.769Z"
   },
   {
    "duration": 154,
    "start_time": "2024-07-06T01:13:49.680Z"
   },
   {
    "duration": 135,
    "start_time": "2024-07-06T01:14:06.031Z"
   },
   {
    "duration": 333,
    "start_time": "2024-07-06T01:16:41.587Z"
   },
   {
    "duration": 298,
    "start_time": "2024-07-06T01:16:56.233Z"
   },
   {
    "duration": 348,
    "start_time": "2024-07-06T01:17:06.816Z"
   },
   {
    "duration": 159,
    "start_time": "2024-07-06T01:17:15.492Z"
   },
   {
    "duration": 1468,
    "start_time": "2024-07-06T01:17:24.705Z"
   },
   {
    "duration": 154,
    "start_time": "2024-07-06T01:17:30.180Z"
   },
   {
    "duration": 73,
    "start_time": "2024-07-06T01:17:33.784Z"
   },
   {
    "duration": 24,
    "start_time": "2024-07-06T01:17:36.623Z"
   },
   {
    "duration": 21,
    "start_time": "2024-07-06T01:17:41.021Z"
   },
   {
    "duration": 798,
    "start_time": "2024-07-06T01:17:44.327Z"
   },
   {
    "duration": 139,
    "start_time": "2024-07-06T01:17:50.729Z"
   },
   {
    "duration": 143,
    "start_time": "2024-07-06T01:26:45.985Z"
   },
   {
    "duration": 175,
    "start_time": "2024-07-06T01:31:37.557Z"
   },
   {
    "duration": 143,
    "start_time": "2024-07-06T01:32:45.061Z"
   },
   {
    "duration": 147,
    "start_time": "2024-07-06T01:33:30.939Z"
   },
   {
    "duration": 168,
    "start_time": "2024-07-06T01:34:06.995Z"
   },
   {
    "duration": 146,
    "start_time": "2024-07-06T01:36:16.189Z"
   },
   {
    "duration": 164,
    "start_time": "2024-07-06T01:36:31.532Z"
   },
   {
    "duration": 307,
    "start_time": "2024-07-06T01:40:06.436Z"
   },
   {
    "duration": 312,
    "start_time": "2024-07-06T01:40:46.740Z"
   },
   {
    "duration": 406,
    "start_time": "2024-07-06T01:45:17.556Z"
   },
   {
    "duration": 7,
    "start_time": "2024-07-06T01:45:46.439Z"
   },
   {
    "duration": 342,
    "start_time": "2024-07-06T01:45:53.518Z"
   },
   {
    "duration": 414,
    "start_time": "2024-07-06T01:46:41.909Z"
   },
   {
    "duration": 348,
    "start_time": "2024-07-06T01:48:52.377Z"
   },
   {
    "duration": 281,
    "start_time": "2024-07-06T01:49:51.808Z"
   },
   {
    "duration": 5,
    "start_time": "2024-07-06T01:50:07.149Z"
   },
   {
    "duration": 1497,
    "start_time": "2024-07-06T01:50:09.045Z"
   },
   {
    "duration": 62,
    "start_time": "2024-07-06T01:50:15.559Z"
   },
   {
    "duration": 25,
    "start_time": "2024-07-06T01:50:18.238Z"
   },
   {
    "duration": 24,
    "start_time": "2024-07-06T01:50:21.237Z"
   },
   {
    "duration": 767,
    "start_time": "2024-07-06T01:50:24.482Z"
   },
   {
    "duration": 240,
    "start_time": "2024-07-06T01:50:29.243Z"
   },
   {
    "duration": 333,
    "start_time": "2024-07-06T01:57:07.626Z"
   },
   {
    "duration": 7,
    "start_time": "2024-07-06T02:01:36.723Z"
   },
   {
    "duration": 5,
    "start_time": "2024-07-06T02:01:53.589Z"
   },
   {
    "duration": 7,
    "start_time": "2024-07-06T02:02:14.821Z"
   },
   {
    "duration": 5,
    "start_time": "2024-07-06T02:02:28.275Z"
   },
   {
    "duration": 8,
    "start_time": "2024-07-06T02:09:29.930Z"
   },
   {
    "duration": 6,
    "start_time": "2024-07-06T02:10:06.114Z"
   },
   {
    "duration": 8,
    "start_time": "2024-07-06T02:11:30.465Z"
   },
   {
    "duration": 7,
    "start_time": "2024-07-06T02:11:59.859Z"
   },
   {
    "duration": 32,
    "start_time": "2024-07-06T02:12:35.916Z"
   },
   {
    "duration": 25,
    "start_time": "2024-07-06T02:13:08.322Z"
   },
   {
    "duration": 30,
    "start_time": "2024-07-06T02:13:39.036Z"
   },
   {
    "duration": 858,
    "start_time": "2024-07-06T02:13:49.134Z"
   },
   {
    "duration": 84,
    "start_time": "2024-07-06T02:14:18.284Z"
   },
   {
    "duration": 77,
    "start_time": "2024-07-06T02:14:28.995Z"
   },
   {
    "duration": 8,
    "start_time": "2024-07-06T02:15:16.611Z"
   },
   {
    "duration": 76,
    "start_time": "2024-07-06T02:16:19.805Z"
   },
   {
    "duration": 46,
    "start_time": "2024-07-06T02:19:14.660Z"
   },
   {
    "duration": 25,
    "start_time": "2024-07-06T02:19:27.320Z"
   },
   {
    "duration": 62,
    "start_time": "2024-07-06T02:20:52.573Z"
   },
   {
    "duration": 13,
    "start_time": "2024-07-06T02:25:03.420Z"
   },
   {
    "duration": 258,
    "start_time": "2024-07-06T02:28:01.183Z"
   },
   {
    "duration": 241,
    "start_time": "2024-07-06T02:29:05.806Z"
   },
   {
    "duration": 52,
    "start_time": "2024-07-06T02:29:08.111Z"
   },
   {
    "duration": 86,
    "start_time": "2024-07-06T02:35:10.291Z"
   },
   {
    "duration": 79,
    "start_time": "2024-07-06T02:35:30.611Z"
   },
   {
    "duration": 59,
    "start_time": "2024-07-06T02:36:41.987Z"
   },
   {
    "duration": 451,
    "start_time": "2024-07-06T02:37:35.565Z"
   },
   {
    "duration": 12,
    "start_time": "2024-07-06T02:37:39.347Z"
   },
   {
    "duration": 3,
    "start_time": "2024-07-06T02:37:58.331Z"
   },
   {
    "duration": 1492,
    "start_time": "2024-07-06T02:38:00.252Z"
   },
   {
    "duration": 81,
    "start_time": "2024-07-06T02:38:03.163Z"
   },
   {
    "duration": 23,
    "start_time": "2024-07-06T02:38:05.682Z"
   },
   {
    "duration": 22,
    "start_time": "2024-07-06T02:38:08.314Z"
   },
   {
    "duration": 787,
    "start_time": "2024-07-06T02:38:10.987Z"
   },
   {
    "duration": 181,
    "start_time": "2024-07-06T02:38:16.284Z"
   },
   {
    "duration": 11,
    "start_time": "2024-07-06T02:38:21.579Z"
   },
   {
    "duration": 30,
    "start_time": "2024-07-06T02:41:09.940Z"
   },
   {
    "duration": 30,
    "start_time": "2024-07-06T02:41:31.580Z"
   },
   {
    "duration": 31,
    "start_time": "2024-07-06T02:42:15.388Z"
   },
   {
    "duration": 37,
    "start_time": "2024-07-06T02:44:28.461Z"
   },
   {
    "duration": 149,
    "start_time": "2024-07-06T02:47:19.149Z"
   },
   {
    "duration": 183,
    "start_time": "2024-07-06T02:47:54.703Z"
   },
   {
    "duration": 137,
    "start_time": "2024-07-06T02:50:21.405Z"
   },
   {
    "duration": 117,
    "start_time": "2024-07-06T02:51:42.166Z"
   },
   {
    "duration": 1461,
    "start_time": "2024-07-06T02:53:31.278Z"
   },
   {
    "duration": 61,
    "start_time": "2024-07-06T02:53:34.561Z"
   },
   {
    "duration": 22,
    "start_time": "2024-07-06T02:53:37.179Z"
   },
   {
    "duration": 25,
    "start_time": "2024-07-06T02:53:40.263Z"
   },
   {
    "duration": 789,
    "start_time": "2024-07-06T02:53:43.387Z"
   },
   {
    "duration": 176,
    "start_time": "2024-07-06T02:53:47.135Z"
   },
   {
    "duration": 29,
    "start_time": "2024-07-06T02:53:50.485Z"
   },
   {
    "duration": 33,
    "start_time": "2024-07-06T02:53:55.881Z"
   },
   {
    "duration": 182,
    "start_time": "2024-07-06T02:54:05.718Z"
   },
   {
    "duration": 34,
    "start_time": "2024-07-06T02:54:08.141Z"
   },
   {
    "duration": 31,
    "start_time": "2024-07-06T02:54:21.302Z"
   },
   {
    "duration": 178,
    "start_time": "2024-07-06T02:54:25.614Z"
   },
   {
    "duration": 39,
    "start_time": "2024-07-06T02:54:27.494Z"
   },
   {
    "duration": 27,
    "start_time": "2024-07-06T02:59:05.911Z"
   },
   {
    "duration": 23,
    "start_time": "2024-07-06T03:00:09.439Z"
   },
   {
    "duration": 20,
    "start_time": "2024-07-06T03:00:45.246Z"
   },
   {
    "duration": 29,
    "start_time": "2024-07-06T03:01:48.735Z"
   },
   {
    "duration": 18,
    "start_time": "2024-07-06T03:03:51.985Z"
   },
   {
    "duration": 86,
    "start_time": "2024-07-06T03:04:39.040Z"
   },
   {
    "duration": 19,
    "start_time": "2024-07-06T03:04:51.008Z"
   },
   {
    "duration": 20,
    "start_time": "2024-07-06T03:05:22.281Z"
   },
   {
    "duration": 27,
    "start_time": "2024-07-06T03:05:47.961Z"
   },
   {
    "duration": 13,
    "start_time": "2024-07-06T03:06:48.864Z"
   },
   {
    "duration": 17,
    "start_time": "2024-07-06T03:07:16.752Z"
   },
   {
    "duration": 8,
    "start_time": "2024-07-06T03:07:41.245Z"
   },
   {
    "duration": 13,
    "start_time": "2024-07-06T03:07:48.448Z"
   },
   {
    "duration": 23,
    "start_time": "2024-07-06T03:10:31.675Z"
   },
   {
    "duration": 6,
    "start_time": "2024-07-06T03:11:23.298Z"
   },
   {
    "duration": 8,
    "start_time": "2024-07-06T03:11:46.874Z"
   },
   {
    "duration": 10,
    "start_time": "2024-07-06T03:15:11.292Z"
   },
   {
    "duration": 30,
    "start_time": "2024-07-06T03:16:36.914Z"
   },
   {
    "duration": 29,
    "start_time": "2024-07-06T03:18:29.669Z"
   },
   {
    "duration": 28,
    "start_time": "2024-07-06T03:18:43.765Z"
   },
   {
    "duration": 26,
    "start_time": "2024-07-06T03:22:01.626Z"
   },
   {
    "duration": 40,
    "start_time": "2024-07-06T03:22:24.002Z"
   },
   {
    "duration": 51,
    "start_time": "2024-07-06T03:23:30.974Z"
   },
   {
    "duration": 38,
    "start_time": "2024-07-06T03:23:44.380Z"
   },
   {
    "duration": 49,
    "start_time": "2024-07-06T03:23:59.430Z"
   },
   {
    "duration": 38,
    "start_time": "2024-07-06T03:26:57.894Z"
   },
   {
    "duration": 37,
    "start_time": "2024-07-06T03:27:24.908Z"
   },
   {
    "duration": 17,
    "start_time": "2024-07-06T03:34:50.077Z"
   },
   {
    "duration": 21,
    "start_time": "2024-07-06T03:36:30.750Z"
   },
   {
    "duration": 5,
    "start_time": "2024-07-06T03:36:39.434Z"
   },
   {
    "duration": 4,
    "start_time": "2024-07-06T03:37:20.758Z"
   },
   {
    "duration": 5,
    "start_time": "2024-07-06T03:39:04.062Z"
   },
   {
    "duration": 7,
    "start_time": "2024-07-06T03:39:21.581Z"
   },
   {
    "duration": 5,
    "start_time": "2024-07-06T03:42:35.449Z"
   },
   {
    "duration": 8,
    "start_time": "2024-07-06T03:43:19.672Z"
   },
   {
    "duration": 4,
    "start_time": "2024-07-06T03:43:27.242Z"
   },
   {
    "duration": 40,
    "start_time": "2024-07-06T03:45:06.228Z"
   },
   {
    "duration": 6,
    "start_time": "2024-07-06T03:45:11.995Z"
   },
   {
    "duration": 1277,
    "start_time": "2024-07-06T03:46:54.992Z"
   },
   {
    "duration": 37,
    "start_time": "2024-07-06T03:48:50.153Z"
   },
   {
    "duration": 42,
    "start_time": "2024-07-06T03:49:04.968Z"
   },
   {
    "duration": 40,
    "start_time": "2024-07-06T03:49:39.896Z"
   },
   {
    "duration": 366,
    "start_time": "2024-07-06T03:51:39.416Z"
   },
   {
    "duration": 991,
    "start_time": "2024-07-06T03:54:14.234Z"
   },
   {
    "duration": 597,
    "start_time": "2024-07-06T03:54:26.305Z"
   },
   {
    "duration": 1237,
    "start_time": "2024-07-06T03:54:46.234Z"
   },
   {
    "duration": 1247,
    "start_time": "2024-07-06T03:54:56.297Z"
   },
   {
    "duration": 439,
    "start_time": "2024-07-06T03:57:32.922Z"
   },
   {
    "duration": 386,
    "start_time": "2024-07-06T03:57:42.298Z"
   },
   {
    "duration": 1301,
    "start_time": "2024-07-06T03:59:14.131Z"
   },
   {
    "duration": 855,
    "start_time": "2024-07-06T03:59:22.818Z"
   },
   {
    "duration": 1002,
    "start_time": "2024-07-06T04:00:43.698Z"
   },
   {
    "duration": 927,
    "start_time": "2024-07-06T04:01:01.618Z"
   },
   {
    "duration": 311,
    "start_time": "2024-07-07T20:06:09.658Z"
   },
   {
    "duration": 22,
    "start_time": "2024-07-07T20:06:57.679Z"
   },
   {
    "duration": 479,
    "start_time": "2024-07-07T20:07:07.807Z"
   },
   {
    "duration": 1695,
    "start_time": "2024-07-07T20:07:09.424Z"
   },
   {
    "duration": 158,
    "start_time": "2024-07-07T20:07:11.122Z"
   },
   {
    "duration": 64,
    "start_time": "2024-07-07T20:07:11.350Z"
   },
   {
    "duration": 24,
    "start_time": "2024-07-07T20:07:12.093Z"
   },
   {
    "duration": 23,
    "start_time": "2024-07-07T20:07:12.990Z"
   },
   {
    "duration": 780,
    "start_time": "2024-07-07T20:07:13.782Z"
   },
   {
    "duration": 265,
    "start_time": "2024-07-07T20:07:19.301Z"
   },
   {
    "duration": 29,
    "start_time": "2024-07-07T20:07:21.646Z"
   },
   {
    "duration": 214,
    "start_time": "2024-07-07T20:07:25.016Z"
   },
   {
    "duration": 33,
    "start_time": "2024-07-07T20:07:26.320Z"
   },
   {
    "duration": 120,
    "start_time": "2024-07-07T20:07:27.396Z"
   },
   {
    "duration": 26,
    "start_time": "2024-07-07T20:07:31.871Z"
   },
   {
    "duration": 6,
    "start_time": "2024-07-07T20:07:33.166Z"
   },
   {
    "duration": 39,
    "start_time": "2024-07-07T20:07:34.575Z"
   },
   {
    "duration": 16,
    "start_time": "2024-07-07T20:07:35.742Z"
   },
   {
    "duration": 6,
    "start_time": "2024-07-07T20:07:38.740Z"
   },
   {
    "duration": 6,
    "start_time": "2024-07-07T20:07:40.039Z"
   },
   {
    "duration": 7,
    "start_time": "2024-07-07T20:07:42.734Z"
   },
   {
    "duration": 7,
    "start_time": "2024-07-07T20:07:43.741Z"
   },
   {
    "duration": 1305,
    "start_time": "2024-07-07T20:07:46.149Z"
   },
   {
    "duration": 1003,
    "start_time": "2024-07-07T20:07:47.576Z"
   },
   {
    "duration": 24,
    "start_time": "2024-07-07T20:07:56.925Z"
   },
   {
    "duration": 38,
    "start_time": "2024-07-07T20:09:17.462Z"
   },
   {
    "duration": 901,
    "start_time": "2024-07-07T20:09:52.557Z"
   },
   {
    "duration": 10,
    "start_time": "2024-07-07T20:10:19.312Z"
   },
   {
    "duration": 7,
    "start_time": "2024-07-07T20:10:29.087Z"
   },
   {
    "duration": 636,
    "start_time": "2024-07-07T20:10:52.030Z"
   },
   {
    "duration": 25,
    "start_time": "2024-07-07T20:11:43.679Z"
   },
   {
    "duration": 7,
    "start_time": "2024-07-07T20:13:27.779Z"
   },
   {
    "duration": 6,
    "start_time": "2024-07-07T20:13:39.391Z"
   },
   {
    "duration": 27,
    "start_time": "2024-07-07T20:14:19.447Z"
   },
   {
    "duration": 26,
    "start_time": "2024-07-07T20:19:26.597Z"
   },
   {
    "duration": 13,
    "start_time": "2024-07-07T20:19:33.949Z"
   },
   {
    "duration": 36,
    "start_time": "2024-07-07T20:20:25.977Z"
   },
   {
    "duration": 18,
    "start_time": "2024-07-07T20:22:54.147Z"
   },
   {
    "duration": 21,
    "start_time": "2024-07-07T20:24:25.465Z"
   },
   {
    "duration": 18,
    "start_time": "2024-07-07T20:25:30.074Z"
   },
   {
    "duration": 18,
    "start_time": "2024-07-07T20:27:40.804Z"
   },
   {
    "duration": 19,
    "start_time": "2024-07-07T20:28:02.787Z"
   },
   {
    "duration": 3,
    "start_time": "2024-07-07T20:28:14.122Z"
   },
   {
    "duration": 1456,
    "start_time": "2024-07-07T20:28:14.507Z"
   },
   {
    "duration": 149,
    "start_time": "2024-07-07T20:28:15.967Z"
   },
   {
    "duration": 62,
    "start_time": "2024-07-07T20:28:16.118Z"
   },
   {
    "duration": 40,
    "start_time": "2024-07-07T20:28:16.185Z"
   },
   {
    "duration": 22,
    "start_time": "2024-07-07T20:28:16.227Z"
   },
   {
    "duration": 831,
    "start_time": "2024-07-07T20:28:16.252Z"
   },
   {
    "duration": 196,
    "start_time": "2024-07-07T20:28:17.087Z"
   },
   {
    "duration": 0,
    "start_time": "2024-07-07T20:28:17.286Z"
   },
   {
    "duration": 154,
    "start_time": "2024-07-07T20:28:17.307Z"
   },
   {
    "duration": 17,
    "start_time": "2024-07-07T20:28:17.492Z"
   },
   {
    "duration": 76,
    "start_time": "2024-07-07T20:28:17.649Z"
   },
   {
    "duration": 30,
    "start_time": "2024-07-07T20:28:18.803Z"
   },
   {
    "duration": 7,
    "start_time": "2024-07-07T20:28:23.442Z"
   },
   {
    "duration": 40,
    "start_time": "2024-07-07T20:28:24.250Z"
   },
   {
    "duration": 17,
    "start_time": "2024-07-07T20:28:24.722Z"
   },
   {
    "duration": 5,
    "start_time": "2024-07-07T20:28:28.146Z"
   },
   {
    "duration": 6,
    "start_time": "2024-07-07T20:28:28.771Z"
   },
   {
    "duration": 6,
    "start_time": "2024-07-07T20:28:30.634Z"
   },
   {
    "duration": 7,
    "start_time": "2024-07-07T20:28:31.178Z"
   },
   {
    "duration": 1242,
    "start_time": "2024-07-07T20:28:33.468Z"
   },
   {
    "duration": 903,
    "start_time": "2024-07-07T20:28:34.714Z"
   },
   {
    "duration": 27,
    "start_time": "2024-07-07T20:28:39.683Z"
   },
   {
    "duration": 18,
    "start_time": "2024-07-07T20:28:43.442Z"
   },
   {
    "duration": 278,
    "start_time": "2024-07-07T20:34:41.558Z"
   },
   {
    "duration": 92,
    "start_time": "2024-07-07T20:35:28.252Z"
   },
   {
    "duration": 32,
    "start_time": "2024-07-07T20:37:00.064Z"
   },
   {
    "duration": 13,
    "start_time": "2024-07-07T20:37:57.942Z"
   },
   {
    "duration": 19,
    "start_time": "2024-07-07T20:47:55.384Z"
   },
   {
    "duration": 24,
    "start_time": "2024-07-07T20:51:45.985Z"
   },
   {
    "duration": 23,
    "start_time": "2024-07-07T20:57:23.268Z"
   },
   {
    "duration": 24,
    "start_time": "2024-07-07T21:04:01.499Z"
   },
   {
    "duration": 14,
    "start_time": "2024-07-07T21:04:04.802Z"
   },
   {
    "duration": 22,
    "start_time": "2024-07-07T21:04:09.548Z"
   },
   {
    "duration": 3,
    "start_time": "2024-07-07T21:06:35.316Z"
   },
   {
    "duration": 1473,
    "start_time": "2024-07-07T21:06:35.533Z"
   },
   {
    "duration": 146,
    "start_time": "2024-07-07T21:06:37.009Z"
   },
   {
    "duration": 85,
    "start_time": "2024-07-07T21:06:37.159Z"
   },
   {
    "duration": 22,
    "start_time": "2024-07-07T21:06:37.248Z"
   },
   {
    "duration": 48,
    "start_time": "2024-07-07T21:06:37.273Z"
   },
   {
    "duration": 812,
    "start_time": "2024-07-07T21:06:37.324Z"
   },
   {
    "duration": 208,
    "start_time": "2024-07-07T21:06:38.141Z"
   },
   {
    "duration": 0,
    "start_time": "2024-07-07T21:06:38.352Z"
   },
   {
    "duration": 159,
    "start_time": "2024-07-07T21:06:38.411Z"
   },
   {
    "duration": 18,
    "start_time": "2024-07-07T21:06:38.603Z"
   },
   {
    "duration": 80,
    "start_time": "2024-07-07T21:06:38.799Z"
   },
   {
    "duration": 27,
    "start_time": "2024-07-07T21:06:39.355Z"
   },
   {
    "duration": 7,
    "start_time": "2024-07-07T21:06:39.556Z"
   },
   {
    "duration": 41,
    "start_time": "2024-07-07T21:06:39.731Z"
   },
   {
    "duration": 18,
    "start_time": "2024-07-07T21:06:39.915Z"
   },
   {
    "duration": 7,
    "start_time": "2024-07-07T21:06:40.467Z"
   },
   {
    "duration": 7,
    "start_time": "2024-07-07T21:06:40.651Z"
   },
   {
    "duration": 7,
    "start_time": "2024-07-07T21:06:41.327Z"
   },
   {
    "duration": 7,
    "start_time": "2024-07-07T21:06:41.435Z"
   },
   {
    "duration": 1358,
    "start_time": "2024-07-07T21:06:42.051Z"
   },
   {
    "duration": 868,
    "start_time": "2024-07-07T21:06:43.412Z"
   },
   {
    "duration": 39,
    "start_time": "2024-07-07T21:06:44.284Z"
   },
   {
    "duration": 22,
    "start_time": "2024-07-07T21:06:44.327Z"
   },
   {
    "duration": 14,
    "start_time": "2024-07-07T21:06:44.708Z"
   },
   {
    "duration": 25,
    "start_time": "2024-07-07T21:06:48.962Z"
   },
   {
    "duration": 29,
    "start_time": "2024-07-07T21:07:08.098Z"
   },
   {
    "duration": 23,
    "start_time": "2024-07-07T21:08:28.372Z"
   },
   {
    "duration": 25,
    "start_time": "2024-07-07T21:08:43.532Z"
   },
   {
    "duration": 27,
    "start_time": "2024-07-07T21:09:15.183Z"
   },
   {
    "duration": 16,
    "start_time": "2024-07-07T21:09:32.969Z"
   },
   {
    "duration": 20,
    "start_time": "2024-07-07T21:21:27.329Z"
   },
   {
    "duration": 20,
    "start_time": "2024-07-07T21:21:53.569Z"
   },
   {
    "duration": 20,
    "start_time": "2024-07-07T21:22:12.914Z"
   },
   {
    "duration": 19,
    "start_time": "2024-07-07T21:25:43.162Z"
   },
   {
    "duration": 456,
    "start_time": "2024-07-10T03:46:51.922Z"
   },
   {
    "duration": 1703,
    "start_time": "2024-07-10T03:46:52.599Z"
   },
   {
    "duration": 148,
    "start_time": "2024-07-10T03:46:54.305Z"
   },
   {
    "duration": 92,
    "start_time": "2024-07-10T03:46:54.456Z"
   },
   {
    "duration": 47,
    "start_time": "2024-07-10T03:46:54.555Z"
   },
   {
    "duration": 24,
    "start_time": "2024-07-10T03:46:55.068Z"
   },
   {
    "duration": 821,
    "start_time": "2024-07-10T03:46:55.859Z"
   },
   {
    "duration": 540,
    "start_time": "2024-07-10T03:47:00.336Z"
   },
   {
    "duration": 31,
    "start_time": "2024-07-10T03:47:01.966Z"
   },
   {
    "duration": 212,
    "start_time": "2024-07-10T03:47:03.464Z"
   },
   {
    "duration": 33,
    "start_time": "2024-07-10T03:47:04.087Z"
   },
   {
    "duration": 108,
    "start_time": "2024-07-10T03:47:04.965Z"
   },
   {
    "duration": 26,
    "start_time": "2024-07-10T03:47:07.409Z"
   },
   {
    "duration": 7,
    "start_time": "2024-07-10T03:47:08.103Z"
   },
   {
    "duration": 39,
    "start_time": "2024-07-10T03:47:08.892Z"
   },
   {
    "duration": 17,
    "start_time": "2024-07-10T03:47:09.712Z"
   },
   {
    "duration": 6,
    "start_time": "2024-07-10T03:47:12.799Z"
   },
   {
    "duration": 7,
    "start_time": "2024-07-10T03:47:13.801Z"
   },
   {
    "duration": 7,
    "start_time": "2024-07-10T03:47:16.153Z"
   },
   {
    "duration": 7,
    "start_time": "2024-07-10T03:47:16.935Z"
   },
   {
    "duration": 1317,
    "start_time": "2024-07-10T03:47:19.566Z"
   },
   {
    "duration": 988,
    "start_time": "2024-07-10T03:47:20.893Z"
   },
   {
    "duration": 26,
    "start_time": "2024-07-10T03:47:56.716Z"
   },
   {
    "duration": 21,
    "start_time": "2024-07-10T03:47:59.690Z"
   },
   {
    "duration": 14,
    "start_time": "2024-07-10T03:48:02.455Z"
   },
   {
    "duration": 21,
    "start_time": "2024-07-10T03:48:04.729Z"
   },
   {
    "duration": 19,
    "start_time": "2024-07-10T03:48:06.763Z"
   },
   {
    "duration": 53,
    "start_time": "2024-07-10T03:52:45.000Z"
   },
   {
    "duration": 73,
    "start_time": "2024-07-10T03:53:58.331Z"
   },
   {
    "duration": 86,
    "start_time": "2024-07-10T03:54:10.692Z"
   },
   {
    "duration": 5,
    "start_time": "2024-07-10T03:56:53.161Z"
   },
   {
    "duration": 7,
    "start_time": "2024-07-10T03:58:46.753Z"
   },
   {
    "duration": 23,
    "start_time": "2024-07-10T04:02:30.778Z"
   },
   {
    "duration": 7,
    "start_time": "2024-07-10T04:02:37.941Z"
   },
   {
    "duration": 9,
    "start_time": "2024-07-10T04:03:33.868Z"
   },
   {
    "duration": 18,
    "start_time": "2024-07-10T04:07:09.291Z"
   },
   {
    "duration": 34,
    "start_time": "2024-07-10T04:08:17.225Z"
   },
   {
    "duration": 21,
    "start_time": "2024-07-10T04:10:54.302Z"
   },
   {
    "duration": 68,
    "start_time": "2024-07-10T04:11:50.466Z"
   },
   {
    "duration": 42,
    "start_time": "2024-07-10T04:12:14.755Z"
   },
   {
    "duration": 61,
    "start_time": "2024-07-10T04:16:12.158Z"
   },
   {
    "duration": 53,
    "start_time": "2024-07-10T04:16:40.642Z"
   },
   {
    "duration": 230,
    "start_time": "2024-07-10T04:17:45.189Z"
   },
   {
    "duration": 243,
    "start_time": "2024-07-10T04:18:01.690Z"
   },
   {
    "duration": 267,
    "start_time": "2024-07-10T04:18:22.966Z"
   },
   {
    "duration": 1090,
    "start_time": "2024-07-10T04:21:39.621Z"
   },
   {
    "duration": 261,
    "start_time": "2024-07-10T04:22:34.693Z"
   },
   {
    "duration": 257,
    "start_time": "2024-07-10T04:22:58.120Z"
   },
   {
    "duration": 57,
    "start_time": "2024-07-10T04:26:14.927Z"
   },
   {
    "duration": 46,
    "start_time": "2024-07-10T04:26:22.599Z"
   },
   {
    "duration": 9,
    "start_time": "2024-07-10T04:28:39.984Z"
   },
   {
    "duration": 9,
    "start_time": "2024-07-10T04:30:10.728Z"
   },
   {
    "duration": 25,
    "start_time": "2024-07-10T04:30:24.433Z"
   },
   {
    "duration": 530,
    "start_time": "2024-07-10T04:33:05.945Z"
   },
   {
    "duration": 8,
    "start_time": "2024-07-10T04:36:54.170Z"
   },
   {
    "duration": 7,
    "start_time": "2024-07-10T04:37:13.964Z"
   },
   {
    "duration": 1066,
    "start_time": "2024-07-10T04:37:41.127Z"
   },
   {
    "duration": 79,
    "start_time": "2024-07-10T04:43:22.481Z"
   },
   {
    "duration": 80,
    "start_time": "2024-07-10T04:43:27.096Z"
   },
   {
    "duration": 8,
    "start_time": "2024-07-10T04:44:02.605Z"
   },
   {
    "duration": 12,
    "start_time": "2024-07-10T04:45:02.481Z"
   },
   {
    "duration": 13,
    "start_time": "2024-07-10T04:45:40.218Z"
   },
   {
    "duration": 13,
    "start_time": "2024-07-10T04:48:57.521Z"
   },
   {
    "duration": 35,
    "start_time": "2024-07-10T04:49:34.708Z"
   },
   {
    "duration": 9,
    "start_time": "2024-07-10T05:04:48.532Z"
   },
   {
    "duration": 4147,
    "start_time": "2024-07-10T05:06:20.830Z"
   },
   {
    "duration": 254,
    "start_time": "2024-07-10T05:06:38.302Z"
   },
   {
    "duration": 394,
    "start_time": "2024-07-10T05:06:49.567Z"
   },
   {
    "duration": 562,
    "start_time": "2024-07-10T05:07:05.366Z"
   },
   {
    "duration": 588,
    "start_time": "2024-07-10T05:07:30.231Z"
   },
   {
    "duration": 540,
    "start_time": "2024-07-10T05:08:16.961Z"
   },
   {
    "duration": 9,
    "start_time": "2024-07-10T05:11:32.422Z"
   },
   {
    "duration": 2807,
    "start_time": "2024-07-10T05:12:16.077Z"
   },
   {
    "duration": 397,
    "start_time": "2024-07-10T05:12:24.351Z"
   },
   {
    "duration": 380,
    "start_time": "2024-07-10T05:13:31.141Z"
   },
   {
    "duration": 9,
    "start_time": "2024-07-10T05:13:49.547Z"
   },
   {
    "duration": 326,
    "start_time": "2024-07-10T05:14:12.682Z"
   },
   {
    "duration": 339,
    "start_time": "2024-07-10T05:14:30.318Z"
   },
   {
    "duration": 322,
    "start_time": "2024-07-10T05:15:15.198Z"
   },
   {
    "duration": 339,
    "start_time": "2024-07-10T05:15:43.207Z"
   },
   {
    "duration": 376,
    "start_time": "2024-07-10T05:16:12.322Z"
   },
   {
    "duration": 6,
    "start_time": "2024-07-10T05:16:51.182Z"
   },
   {
    "duration": 537,
    "start_time": "2024-07-10T05:17:42.303Z"
   },
   {
    "duration": 372,
    "start_time": "2024-07-10T05:17:59.654Z"
   },
   {
    "duration": 41453,
    "start_time": "2024-07-10T05:20:29.563Z"
   },
   {
    "duration": 42479,
    "start_time": "2024-07-10T05:21:45.525Z"
   },
   {
    "duration": 41741,
    "start_time": "2024-07-10T05:28:27.513Z"
   },
   {
    "duration": 413,
    "start_time": "2024-07-10T05:31:24.561Z"
   },
   {
    "duration": 81,
    "start_time": "2024-07-10T05:31:33.049Z"
   },
   {
    "duration": 368,
    "start_time": "2024-07-10T05:31:55.489Z"
   },
   {
    "duration": 889,
    "start_time": "2024-07-10T05:32:43.758Z"
   },
   {
    "duration": 372,
    "start_time": "2024-07-10T05:33:06.689Z"
   },
   {
    "duration": 40344,
    "start_time": "2024-07-10T05:40:56.426Z"
   },
   {
    "duration": 215,
    "start_time": "2024-07-10T05:43:02.339Z"
   },
   {
    "duration": 379,
    "start_time": "2024-07-10T05:43:26.758Z"
   },
   {
    "duration": 10,
    "start_time": "2024-07-10T05:43:52.406Z"
   },
   {
    "duration": 221,
    "start_time": "2024-07-10T05:45:05.675Z"
   },
   {
    "duration": 251,
    "start_time": "2024-07-10T05:47:16.675Z"
   },
   {
    "duration": 221,
    "start_time": "2024-07-10T05:47:46.573Z"
   },
   {
    "duration": 397,
    "start_time": "2024-07-10T05:49:58.092Z"
   },
   {
    "duration": 214,
    "start_time": "2024-07-10T05:50:22.553Z"
   },
   {
    "duration": 217,
    "start_time": "2024-07-10T05:50:31.395Z"
   },
   {
    "duration": 309,
    "start_time": "2024-07-10T05:51:20.508Z"
   },
   {
    "duration": 375,
    "start_time": "2024-07-10T05:51:34.571Z"
   },
   {
    "duration": 9,
    "start_time": "2024-07-10T05:55:48.020Z"
   },
   {
    "duration": 4,
    "start_time": "2024-07-10T05:55:51.135Z"
   },
   {
    "duration": 358,
    "start_time": "2024-07-10T05:56:22.165Z"
   },
   {
    "duration": 399,
    "start_time": "2024-07-10T05:57:04.742Z"
   },
   {
    "duration": 347,
    "start_time": "2024-07-10T06:00:25.566Z"
   },
   {
    "duration": 40173,
    "start_time": "2024-07-10T06:01:44.328Z"
   },
   {
    "duration": 429,
    "start_time": "2024-07-11T05:18:22.756Z"
   },
   {
    "duration": 1709,
    "start_time": "2024-07-11T05:18:23.188Z"
   },
   {
    "duration": 146,
    "start_time": "2024-07-11T05:18:24.900Z"
   },
   {
    "duration": 83,
    "start_time": "2024-07-11T05:18:25.050Z"
   },
   {
    "duration": 25,
    "start_time": "2024-07-11T05:18:25.136Z"
   },
   {
    "duration": 23,
    "start_time": "2024-07-11T05:18:25.164Z"
   },
   {
    "duration": 827,
    "start_time": "2024-07-11T05:18:25.190Z"
   },
   {
    "duration": 561,
    "start_time": "2024-07-11T05:18:26.020Z"
   },
   {
    "duration": 0,
    "start_time": "2024-07-11T05:18:26.584Z"
   },
   {
    "duration": 179,
    "start_time": "2024-07-11T05:18:26.593Z"
   },
   {
    "duration": 22,
    "start_time": "2024-07-11T05:18:26.815Z"
   },
   {
    "duration": 96,
    "start_time": "2024-07-11T05:18:26.997Z"
   },
   {
    "duration": 25,
    "start_time": "2024-07-11T05:18:27.611Z"
   },
   {
    "duration": 10,
    "start_time": "2024-07-11T05:18:27.853Z"
   },
   {
    "duration": 42,
    "start_time": "2024-07-11T05:18:28.043Z"
   },
   {
    "duration": 18,
    "start_time": "2024-07-11T05:18:28.269Z"
   },
   {
    "duration": 6,
    "start_time": "2024-07-11T05:18:29.562Z"
   },
   {
    "duration": 7,
    "start_time": "2024-07-11T05:18:29.863Z"
   },
   {
    "duration": 7,
    "start_time": "2024-07-11T05:18:30.716Z"
   },
   {
    "duration": 6,
    "start_time": "2024-07-11T05:18:30.947Z"
   },
   {
    "duration": 1314,
    "start_time": "2024-07-11T05:18:31.594Z"
   },
   {
    "duration": 1018,
    "start_time": "2024-07-11T05:18:32.911Z"
   },
   {
    "duration": 26,
    "start_time": "2024-07-11T05:18:33.933Z"
   },
   {
    "duration": 19,
    "start_time": "2024-07-11T05:18:34.867Z"
   },
   {
    "duration": 14,
    "start_time": "2024-07-11T05:18:36.486Z"
   },
   {
    "duration": 17,
    "start_time": "2024-07-11T05:18:37.618Z"
   },
   {
    "duration": 19,
    "start_time": "2024-07-11T05:18:38.675Z"
   },
   {
    "duration": 25,
    "start_time": "2024-07-11T05:18:40.762Z"
   },
   {
    "duration": 7,
    "start_time": "2024-07-11T05:18:41.452Z"
   },
   {
    "duration": 45,
    "start_time": "2024-07-11T05:18:45.138Z"
   },
   {
    "duration": 72,
    "start_time": "2024-07-11T05:18:45.883Z"
   },
   {
    "duration": 11,
    "start_time": "2024-07-11T05:18:47.770Z"
   },
   {
    "duration": 34,
    "start_time": "2024-07-11T05:18:49.109Z"
   },
   {
    "duration": 13,
    "start_time": "2024-07-11T05:21:55.597Z"
   },
   {
    "duration": 14,
    "start_time": "2024-07-11T05:21:59.214Z"
   },
   {
    "duration": 16,
    "start_time": "2024-07-11T05:22:32.660Z"
   },
   {
    "duration": 35,
    "start_time": "2024-07-11T05:22:35.462Z"
   },
   {
    "duration": 3924,
    "start_time": "2024-07-11T05:22:43.736Z"
   },
   {
    "duration": 5,
    "start_time": "2024-07-11T05:22:47.860Z"
   },
   {
    "duration": 479,
    "start_time": "2024-07-11T05:22:53.028Z"
   },
   {
    "duration": 219,
    "start_time": "2024-07-11T05:22:58.414Z"
   },
   {
    "duration": 40407,
    "start_time": "2024-07-11T05:23:03.090Z"
   },
   {
    "duration": 73,
    "start_time": "2024-07-11T05:32:55.236Z"
   },
   {
    "duration": 30,
    "start_time": "2024-07-11T05:32:58.262Z"
   },
   {
    "duration": 362,
    "start_time": "2024-07-11T05:43:43.247Z"
   },
   {
    "duration": 225,
    "start_time": "2024-07-11T05:43:47.440Z"
   },
   {
    "duration": 40384,
    "start_time": "2024-07-11T05:43:52.639Z"
   },
   {
    "duration": 40498,
    "start_time": "2024-07-11T05:46:40.088Z"
   },
   {
    "duration": 41214,
    "start_time": "2024-07-11T05:47:39.809Z"
   },
   {
    "duration": 9,
    "start_time": "2024-07-11T05:50:29.333Z"
   },
   {
    "duration": 17,
    "start_time": "2024-07-11T05:51:20.423Z"
   },
   {
    "duration": 8,
    "start_time": "2024-07-11T05:51:22.175Z"
   },
   {
    "duration": 333,
    "start_time": "2024-07-11T05:51:23.697Z"
   },
   {
    "duration": 262,
    "start_time": "2024-07-11T05:51:28.184Z"
   },
   {
    "duration": 289,
    "start_time": "2024-07-11T05:51:45.705Z"
   },
   {
    "duration": 15,
    "start_time": "2024-07-11T05:54:31.617Z"
   },
   {
    "duration": 8,
    "start_time": "2024-07-11T05:54:32.505Z"
   },
   {
    "duration": 8,
    "start_time": "2024-07-11T05:54:35.872Z"
   },
   {
    "duration": 496,
    "start_time": "2024-07-11T05:54:47.297Z"
   },
   {
    "duration": 527,
    "start_time": "2024-07-11T05:56:59.658Z"
   },
   {
    "duration": 535,
    "start_time": "2024-07-11T05:57:17.909Z"
   },
   {
    "duration": 481,
    "start_time": "2024-07-11T05:57:26.880Z"
   },
   {
    "duration": 15,
    "start_time": "2024-07-11T05:57:58.825Z"
   },
   {
    "duration": 9,
    "start_time": "2024-07-11T05:57:59.492Z"
   },
   {
    "duration": 487,
    "start_time": "2024-07-11T05:58:00.520Z"
   },
   {
    "duration": 470,
    "start_time": "2024-07-11T06:02:20.308Z"
   },
   {
    "duration": 27,
    "start_time": "2024-07-11T06:02:28.153Z"
   },
   {
    "duration": 364,
    "start_time": "2024-07-11T06:03:00.018Z"
   },
   {
    "duration": 310,
    "start_time": "2024-07-11T06:03:10.034Z"
   },
   {
    "duration": 297,
    "start_time": "2024-07-11T06:03:17.090Z"
   },
   {
    "duration": 360,
    "start_time": "2024-07-11T06:03:23.703Z"
   },
   {
    "duration": 261,
    "start_time": "2024-07-11T06:03:35.027Z"
   },
   {
    "duration": 263,
    "start_time": "2024-07-11T06:07:18.522Z"
   },
   {
    "duration": 156,
    "start_time": "2024-07-11T06:09:17.682Z"
   },
   {
    "duration": 15,
    "start_time": "2024-07-11T06:09:19.268Z"
   },
   {
    "duration": 9,
    "start_time": "2024-07-11T06:09:20.465Z"
   },
   {
    "duration": 418,
    "start_time": "2024-07-12T04:32:48.396Z"
   },
   {
    "duration": 1685,
    "start_time": "2024-07-12T04:32:48.817Z"
   },
   {
    "duration": 152,
    "start_time": "2024-07-12T04:32:50.505Z"
   },
   {
    "duration": 75,
    "start_time": "2024-07-12T04:32:50.662Z"
   },
   {
    "duration": 25,
    "start_time": "2024-07-12T04:32:50.740Z"
   },
   {
    "duration": 23,
    "start_time": "2024-07-12T04:32:50.768Z"
   },
   {
    "duration": 827,
    "start_time": "2024-07-12T04:32:50.794Z"
   },
   {
    "duration": 590,
    "start_time": "2024-07-12T04:32:51.624Z"
   },
   {
    "duration": 1,
    "start_time": "2024-07-12T04:32:52.217Z"
   },
   {
    "duration": 0,
    "start_time": "2024-07-12T04:32:52.219Z"
   },
   {
    "duration": 0,
    "start_time": "2024-07-12T04:32:52.233Z"
   },
   {
    "duration": 0,
    "start_time": "2024-07-12T04:32:52.237Z"
   },
   {
    "duration": 0,
    "start_time": "2024-07-12T04:32:52.240Z"
   },
   {
    "duration": 0,
    "start_time": "2024-07-12T04:32:52.241Z"
   },
   {
    "duration": 48,
    "start_time": "2024-07-12T04:32:52.318Z"
   },
   {
    "duration": 17,
    "start_time": "2024-07-12T04:32:52.483Z"
   },
   {
    "duration": 6,
    "start_time": "2024-07-12T04:32:53.024Z"
   },
   {
    "duration": 6,
    "start_time": "2024-07-12T04:32:53.197Z"
   },
   {
    "duration": 7,
    "start_time": "2024-07-12T04:32:53.741Z"
   },
   {
    "duration": 7,
    "start_time": "2024-07-12T04:32:53.908Z"
   },
   {
    "duration": 1311,
    "start_time": "2024-07-12T04:32:55.039Z"
   },
   {
    "duration": 1015,
    "start_time": "2024-07-12T04:32:56.354Z"
   },
   {
    "duration": 27,
    "start_time": "2024-07-12T04:32:57.371Z"
   },
   {
    "duration": 37,
    "start_time": "2024-07-12T04:32:57.403Z"
   },
   {
    "duration": 14,
    "start_time": "2024-07-12T04:32:57.446Z"
   },
   {
    "duration": 18,
    "start_time": "2024-07-12T04:32:57.463Z"
   },
   {
    "duration": 52,
    "start_time": "2024-07-12T04:32:57.485Z"
   },
   {
    "duration": 26,
    "start_time": "2024-07-12T04:32:57.972Z"
   },
   {
    "duration": 7,
    "start_time": "2024-07-12T04:32:58.159Z"
   },
   {
    "duration": 48,
    "start_time": "2024-07-12T04:32:58.901Z"
   },
   {
    "duration": 75,
    "start_time": "2024-07-12T04:32:59.085Z"
   },
   {
    "duration": 11,
    "start_time": "2024-07-12T04:33:03.500Z"
   },
   {
    "duration": 14,
    "start_time": "2024-07-12T04:33:04.324Z"
   },
   {
    "duration": 34,
    "start_time": "2024-07-12T04:33:05.724Z"
   },
   {
    "duration": 3918,
    "start_time": "2024-07-12T04:33:09.299Z"
   },
   {
    "duration": 10,
    "start_time": "2024-07-12T04:33:13.222Z"
   },
   {
    "duration": 451,
    "start_time": "2024-07-12T04:33:13.235Z"
   },
   {
    "duration": 227,
    "start_time": "2024-07-12T04:33:13.689Z"
   },
   {
    "duration": 41963,
    "start_time": "2024-07-12T04:33:16.812Z"
   },
   {
    "duration": 19,
    "start_time": "2024-07-12T04:33:58.779Z"
   },
   {
    "duration": 32,
    "start_time": "2024-07-12T04:33:58.800Z"
   },
   {
    "duration": 444,
    "start_time": "2024-07-12T04:33:58.836Z"
   },
   {
    "duration": 28,
    "start_time": "2024-07-12T04:33:59.283Z"
   },
   {
    "duration": 267,
    "start_time": "2024-07-12T04:33:59.331Z"
   },
   {
    "duration": 174,
    "start_time": "2024-07-12T04:33:59.601Z"
   },
   {
    "duration": 12,
    "start_time": "2024-07-12T04:33:59.778Z"
   },
   {
    "duration": 21,
    "start_time": "2024-07-12T04:33:59.793Z"
   },
   {
    "duration": 59,
    "start_time": "2024-07-12T04:42:13.731Z"
   },
   {
    "duration": 32,
    "start_time": "2024-07-12T04:42:37.889Z"
   },
   {
    "duration": 624,
    "start_time": "2024-07-12T04:43:17.037Z"
   },
   {
    "duration": 183,
    "start_time": "2024-07-12T04:43:26.739Z"
   },
   {
    "duration": 13,
    "start_time": "2024-07-12T04:43:27.383Z"
   },
   {
    "duration": 71,
    "start_time": "2024-07-12T04:43:28.736Z"
   },
   {
    "duration": 13,
    "start_time": "2024-07-12T04:44:06.912Z"
   },
   {
    "duration": 328,
    "start_time": "2024-07-12T04:45:05.863Z"
   },
   {
    "duration": 18,
    "start_time": "2024-07-12T04:45:11.768Z"
   },
   {
    "duration": 1825,
    "start_time": "2024-07-12T04:47:57.252Z"
   },
   {
    "duration": 7,
    "start_time": "2024-07-12T04:49:08.897Z"
   },
   {
    "duration": 660,
    "start_time": "2024-07-12T04:49:22.108Z"
   },
   {
    "duration": 568,
    "start_time": "2024-07-12T04:49:25.265Z"
   },
   {
    "duration": 4204,
    "start_time": "2024-07-12T04:50:18.293Z"
   },
   {
    "duration": 183,
    "start_time": "2024-07-12T04:52:19.336Z"
   },
   {
    "duration": 9,
    "start_time": "2024-07-12T04:52:19.913Z"
   },
   {
    "duration": 16,
    "start_time": "2024-07-12T04:52:20.744Z"
   },
   {
    "duration": 165,
    "start_time": "2024-07-12T04:52:21.803Z"
   },
   {
    "duration": 21,
    "start_time": "2024-07-12T04:52:45.284Z"
   },
   {
    "duration": 6,
    "start_time": "2024-07-12T04:52:50.801Z"
   },
   {
    "duration": 7,
    "start_time": "2024-07-12T04:56:00.424Z"
   },
   {
    "duration": 5,
    "start_time": "2024-07-12T04:56:08.123Z"
   },
   {
    "duration": 29,
    "start_time": "2024-07-12T04:56:27.081Z"
   },
   {
    "duration": 7,
    "start_time": "2024-07-12T04:56:37.185Z"
   },
   {
    "duration": 6,
    "start_time": "2024-07-12T04:56:44.560Z"
   },
   {
    "duration": 4,
    "start_time": "2024-07-12T04:56:55.531Z"
   },
   {
    "duration": 1456,
    "start_time": "2024-07-12T04:56:55.706Z"
   },
   {
    "duration": 146,
    "start_time": "2024-07-12T04:56:57.166Z"
   },
   {
    "duration": 86,
    "start_time": "2024-07-12T04:56:57.315Z"
   },
   {
    "duration": 44,
    "start_time": "2024-07-12T04:56:57.405Z"
   },
   {
    "duration": 22,
    "start_time": "2024-07-12T04:56:57.452Z"
   },
   {
    "duration": 814,
    "start_time": "2024-07-12T04:56:57.476Z"
   },
   {
    "duration": 215,
    "start_time": "2024-07-12T04:56:58.293Z"
   },
   {
    "duration": 0,
    "start_time": "2024-07-12T04:56:58.512Z"
   },
   {
    "duration": 0,
    "start_time": "2024-07-12T04:56:58.515Z"
   },
   {
    "duration": 0,
    "start_time": "2024-07-12T04:56:58.530Z"
   },
   {
    "duration": 81,
    "start_time": "2024-07-12T04:56:58.662Z"
   },
   {
    "duration": 28,
    "start_time": "2024-07-12T04:56:59.168Z"
   },
   {
    "duration": 7,
    "start_time": "2024-07-12T04:56:59.357Z"
   },
   {
    "duration": 47,
    "start_time": "2024-07-12T04:56:59.543Z"
   },
   {
    "duration": 18,
    "start_time": "2024-07-12T04:56:59.710Z"
   },
   {
    "duration": 6,
    "start_time": "2024-07-12T04:57:00.233Z"
   },
   {
    "duration": 6,
    "start_time": "2024-07-12T04:57:00.411Z"
   },
   {
    "duration": 7,
    "start_time": "2024-07-12T04:57:00.970Z"
   },
   {
    "duration": 7,
    "start_time": "2024-07-12T04:57:01.153Z"
   },
   {
    "duration": 1266,
    "start_time": "2024-07-12T04:57:01.690Z"
   },
   {
    "duration": 870,
    "start_time": "2024-07-12T04:57:02.960Z"
   },
   {
    "duration": 28,
    "start_time": "2024-07-12T04:57:03.833Z"
   },
   {
    "duration": 18,
    "start_time": "2024-07-12T04:57:03.866Z"
   },
   {
    "duration": 49,
    "start_time": "2024-07-12T04:57:03.887Z"
   },
   {
    "duration": 16,
    "start_time": "2024-07-12T04:57:03.939Z"
   },
   {
    "duration": 24,
    "start_time": "2024-07-12T04:57:04.044Z"
   },
   {
    "duration": 27,
    "start_time": "2024-07-12T04:57:04.600Z"
   },
   {
    "duration": 8,
    "start_time": "2024-07-12T04:57:04.790Z"
   },
   {
    "duration": 44,
    "start_time": "2024-07-12T04:57:05.322Z"
   },
   {
    "duration": 1527,
    "start_time": "2024-07-12T04:57:05.506Z"
   },
   {
    "duration": 13,
    "start_time": "2024-07-12T04:57:07.036Z"
   },
   {
    "duration": 16,
    "start_time": "2024-07-12T04:57:07.051Z"
   },
   {
    "duration": 68,
    "start_time": "2024-07-12T04:57:07.070Z"
   },
   {
    "duration": 9,
    "start_time": "2024-07-12T04:57:08.041Z"
   },
   {
    "duration": 4,
    "start_time": "2024-07-12T04:57:08.226Z"
   },
   {
    "duration": 364,
    "start_time": "2024-07-12T04:57:08.826Z"
   },
   {
    "duration": 237,
    "start_time": "2024-07-12T04:57:09.443Z"
   },
   {
    "duration": 41600,
    "start_time": "2024-07-12T04:57:10.019Z"
   },
   {
    "duration": 18,
    "start_time": "2024-07-12T04:57:51.632Z"
   },
   {
    "duration": 15,
    "start_time": "2024-07-12T04:57:51.653Z"
   },
   {
    "duration": 484,
    "start_time": "2024-07-12T04:57:51.672Z"
   },
   {
    "duration": 29,
    "start_time": "2024-07-12T04:57:52.162Z"
   },
   {
    "duration": 287,
    "start_time": "2024-07-12T04:57:52.195Z"
   },
   {
    "duration": 180,
    "start_time": "2024-07-12T04:57:52.486Z"
   },
   {
    "duration": 11,
    "start_time": "2024-07-12T04:57:52.669Z"
   },
   {
    "duration": 13,
    "start_time": "2024-07-12T04:57:52.683Z"
   },
   {
    "duration": 29,
    "start_time": "2024-07-12T04:57:52.701Z"
   },
   {
    "duration": 650,
    "start_time": "2024-07-12T04:57:52.733Z"
   },
   {
    "duration": 4073,
    "start_time": "2024-07-12T04:57:53.387Z"
   },
   {
    "duration": 182,
    "start_time": "2024-07-12T04:57:57.463Z"
   },
   {
    "duration": 11,
    "start_time": "2024-07-12T04:57:57.648Z"
   },
   {
    "duration": 15,
    "start_time": "2024-07-12T04:57:57.662Z"
   },
   {
    "duration": 6,
    "start_time": "2024-07-12T04:57:57.680Z"
   },
   {
    "duration": 2674,
    "start_time": "2024-07-12T04:59:33.778Z"
   },
   {
    "duration": 89,
    "start_time": "2024-07-12T04:59:36.456Z"
   },
   {
    "duration": 0,
    "start_time": "2024-07-12T04:59:36.548Z"
   },
   {
    "duration": 9,
    "start_time": "2024-07-12T04:59:48.923Z"
   },
   {
    "duration": 2722,
    "start_time": "2024-07-12T05:00:01.426Z"
   },
   {
    "duration": 76,
    "start_time": "2024-07-12T05:00:10.736Z"
   },
   {
    "duration": 2689,
    "start_time": "2024-07-12T05:01:12.402Z"
   },
   {
    "duration": 81,
    "start_time": "2024-07-12T05:01:15.095Z"
   },
   {
    "duration": 362,
    "start_time": "2024-07-12T05:02:22.103Z"
   },
   {
    "duration": 87,
    "start_time": "2024-07-12T05:03:17.323Z"
   },
   {
    "duration": 120,
    "start_time": "2024-07-12T05:04:21.088Z"
   },
   {
    "duration": 771,
    "start_time": "2024-07-13T05:00:52.449Z"
   },
   {
    "duration": 7,
    "start_time": "2024-07-13T05:01:48.538Z"
   },
   {
    "duration": 25363,
    "start_time": "2024-07-13T05:02:15.218Z"
   },
   {
    "duration": 2495,
    "start_time": "2024-07-13T05:25:45.335Z"
   },
   {
    "duration": 1738,
    "start_time": "2024-07-13T05:25:52.807Z"
   },
   {
    "duration": 146,
    "start_time": "2024-07-13T05:25:54.774Z"
   },
   {
    "duration": 69,
    "start_time": "2024-07-13T05:25:56.471Z"
   },
   {
    "duration": 22,
    "start_time": "2024-07-13T05:25:57.849Z"
   },
   {
    "duration": 22,
    "start_time": "2024-07-13T05:25:59.126Z"
   },
   {
    "duration": 785,
    "start_time": "2024-07-13T05:26:00.247Z"
   },
   {
    "duration": 263,
    "start_time": "2024-07-13T05:26:13.286Z"
   },
   {
    "duration": 29,
    "start_time": "2024-07-13T05:26:22.672Z"
   },
   {
    "duration": 222,
    "start_time": "2024-07-13T05:26:26.726Z"
   },
   {
    "duration": 33,
    "start_time": "2024-07-13T05:26:27.382Z"
   },
   {
    "duration": 107,
    "start_time": "2024-07-13T05:26:28.343Z"
   },
   {
    "duration": 26,
    "start_time": "2024-07-13T05:26:37.585Z"
   },
   {
    "duration": 7,
    "start_time": "2024-07-13T05:26:38.615Z"
   },
   {
    "duration": 41,
    "start_time": "2024-07-13T05:26:39.737Z"
   },
   {
    "duration": 17,
    "start_time": "2024-07-13T05:26:41.513Z"
   },
   {
    "duration": 13,
    "start_time": "2024-07-13T05:29:46.311Z"
   },
   {
    "duration": 6,
    "start_time": "2024-07-13T05:30:04.266Z"
   },
   {
    "duration": 6,
    "start_time": "2024-07-13T05:30:05.519Z"
   },
   {
    "duration": 7,
    "start_time": "2024-07-13T05:30:09.263Z"
   },
   {
    "duration": 6,
    "start_time": "2024-07-13T05:30:10.041Z"
   },
   {
    "duration": 1277,
    "start_time": "2024-07-13T05:30:12.539Z"
   },
   {
    "duration": 961,
    "start_time": "2024-07-13T05:30:13.824Z"
   },
   {
    "duration": 26,
    "start_time": "2024-07-13T05:30:18.457Z"
   },
   {
    "duration": 18,
    "start_time": "2024-07-13T05:30:21.048Z"
   },
   {
    "duration": 14,
    "start_time": "2024-07-13T05:30:23.901Z"
   },
   {
    "duration": 15,
    "start_time": "2024-07-13T05:30:27.127Z"
   },
   {
    "duration": 20,
    "start_time": "2024-07-13T05:30:29.935Z"
   },
   {
    "duration": 77,
    "start_time": "2024-07-13T05:30:34.007Z"
   },
   {
    "duration": 8,
    "start_time": "2024-07-13T05:30:35.006Z"
   },
   {
    "duration": 51,
    "start_time": "2024-07-13T05:30:37.720Z"
   },
   {
    "duration": 1567,
    "start_time": "2024-07-13T05:30:38.912Z"
   },
   {
    "duration": 12,
    "start_time": "2024-07-13T05:30:41.103Z"
   },
   {
    "duration": 14,
    "start_time": "2024-07-13T05:30:42.591Z"
   },
   {
    "duration": 35,
    "start_time": "2024-07-13T05:30:44.800Z"
   },
   {
    "duration": 9,
    "start_time": "2024-07-13T05:30:50.066Z"
   },
   {
    "duration": 4,
    "start_time": "2024-07-13T05:30:55.431Z"
   },
   {
    "duration": 441,
    "start_time": "2024-07-13T05:30:58.640Z"
   },
   {
    "duration": 219,
    "start_time": "2024-07-13T05:31:08.415Z"
   },
   {
    "duration": 41014,
    "start_time": "2024-07-13T05:31:12.546Z"
   },
   {
    "duration": 21,
    "start_time": "2024-07-13T05:31:53.564Z"
   },
   {
    "duration": 35,
    "start_time": "2024-07-13T05:31:53.588Z"
   },
   {
    "duration": 465,
    "start_time": "2024-07-13T05:31:53.627Z"
   },
   {
    "duration": 40,
    "start_time": "2024-07-13T05:31:54.095Z"
   },
   {
    "duration": 280,
    "start_time": "2024-07-13T05:31:54.137Z"
   },
   {
    "duration": 177,
    "start_time": "2024-07-13T05:31:54.423Z"
   },
   {
    "duration": 21,
    "start_time": "2024-07-13T05:31:54.602Z"
   },
   {
    "duration": 13,
    "start_time": "2024-07-13T05:31:54.626Z"
   },
   {
    "duration": 548,
    "start_time": "2024-07-13T05:31:54.645Z"
   },
   {
    "duration": 724,
    "start_time": "2024-07-13T05:31:55.195Z"
   },
   {
    "duration": 4343,
    "start_time": "2024-07-13T05:31:55.924Z"
   },
   {
    "duration": 216,
    "start_time": "2024-07-13T05:32:00.271Z"
   },
   {
    "duration": 11,
    "start_time": "2024-07-13T05:32:00.490Z"
   },
   {
    "duration": 32,
    "start_time": "2024-07-13T05:32:00.505Z"
   },
   {
    "duration": 8,
    "start_time": "2024-07-13T05:32:00.540Z"
   },
   {
    "duration": 3029,
    "start_time": "2024-07-13T05:32:00.553Z"
   },
   {
    "duration": 658,
    "start_time": "2024-07-13T05:32:03.584Z"
   },
   {
    "duration": 0,
    "start_time": "2024-07-13T05:32:04.245Z"
   },
   {
    "duration": 0,
    "start_time": "2024-07-13T05:32:04.246Z"
   },
   {
    "duration": 129,
    "start_time": "2024-07-13T05:32:07.799Z"
   },
   {
    "duration": 7,
    "start_time": "2024-07-13T05:32:12.303Z"
   },
   {
    "duration": 39354,
    "start_time": "2024-07-13T05:36:51.802Z"
   },
   {
    "duration": 39137,
    "start_time": "2024-07-13T05:39:14.088Z"
   },
   {
    "duration": 39316,
    "start_time": "2024-07-13T05:41:30.249Z"
   },
   {
    "duration": 348,
    "start_time": "2024-07-13T06:03:40.310Z"
   },
   {
    "duration": 2522,
    "start_time": "2024-07-13T06:03:57.040Z"
   },
   {
    "duration": 1463,
    "start_time": "2024-07-13T06:04:00.941Z"
   },
   {
    "duration": 152,
    "start_time": "2024-07-13T06:04:02.407Z"
   },
   {
    "duration": 76,
    "start_time": "2024-07-13T06:04:02.562Z"
   },
   {
    "duration": 23,
    "start_time": "2024-07-13T06:04:02.643Z"
   },
   {
    "duration": 23,
    "start_time": "2024-07-13T06:04:02.668Z"
   },
   {
    "duration": 833,
    "start_time": "2024-07-13T06:04:02.723Z"
   },
   {
    "duration": 230,
    "start_time": "2024-07-13T06:04:03.561Z"
   },
   {
    "duration": 0,
    "start_time": "2024-07-13T06:04:03.794Z"
   },
   {
    "duration": 145,
    "start_time": "2024-07-13T06:04:03.998Z"
   },
   {
    "duration": 16,
    "start_time": "2024-07-13T06:04:04.190Z"
   },
   {
    "duration": 82,
    "start_time": "2024-07-13T06:04:04.397Z"
   },
   {
    "duration": 26,
    "start_time": "2024-07-13T06:04:05.261Z"
   },
   {
    "duration": 6,
    "start_time": "2024-07-13T06:04:05.709Z"
   },
   {
    "duration": 43,
    "start_time": "2024-07-13T06:04:05.893Z"
   },
   {
    "duration": 13,
    "start_time": "2024-07-13T06:04:06.093Z"
   },
   {
    "duration": 6,
    "start_time": "2024-07-13T06:04:08.396Z"
   },
   {
    "duration": 6,
    "start_time": "2024-07-13T06:04:09.046Z"
   },
   {
    "duration": 8,
    "start_time": "2024-07-13T06:04:10.702Z"
   },
   {
    "duration": 7,
    "start_time": "2024-07-13T06:04:11.167Z"
   },
   {
    "duration": 1366,
    "start_time": "2024-07-13T06:04:11.957Z"
   },
   {
    "duration": 1011,
    "start_time": "2024-07-13T06:04:13.326Z"
   },
   {
    "duration": 27,
    "start_time": "2024-07-13T06:04:14.340Z"
   },
   {
    "duration": 18,
    "start_time": "2024-07-13T06:04:14.371Z"
   },
   {
    "duration": 15,
    "start_time": "2024-07-13T06:04:14.424Z"
   },
   {
    "duration": 16,
    "start_time": "2024-07-13T06:04:14.443Z"
   },
   {
    "duration": 19,
    "start_time": "2024-07-13T06:04:14.877Z"
   },
   {
    "duration": 28,
    "start_time": "2024-07-13T06:04:16.052Z"
   },
   {
    "duration": 8,
    "start_time": "2024-07-13T06:04:16.244Z"
   },
   {
    "duration": 44,
    "start_time": "2024-07-13T06:04:16.858Z"
   },
   {
    "duration": 1543,
    "start_time": "2024-07-13T06:04:17.092Z"
   },
   {
    "duration": 13,
    "start_time": "2024-07-13T06:04:18.638Z"
   },
   {
    "duration": 15,
    "start_time": "2024-07-13T06:04:18.654Z"
   },
   {
    "duration": 73,
    "start_time": "2024-07-13T06:04:18.673Z"
   },
   {
    "duration": 8,
    "start_time": "2024-07-13T06:04:19.789Z"
   },
   {
    "duration": 5,
    "start_time": "2024-07-13T06:04:19.988Z"
   },
   {
    "duration": 362,
    "start_time": "2024-07-13T06:04:20.576Z"
   },
   {
    "duration": 213,
    "start_time": "2024-07-13T06:04:23.254Z"
   },
   {
    "duration": 39461,
    "start_time": "2024-07-13T06:04:25.032Z"
   },
   {
    "duration": 34,
    "start_time": "2024-07-13T06:05:04.497Z"
   },
   {
    "duration": 8,
    "start_time": "2024-07-13T06:05:04.534Z"
   },
   {
    "duration": 455,
    "start_time": "2024-07-13T06:05:04.546Z"
   },
   {
    "duration": 39,
    "start_time": "2024-07-13T06:05:05.004Z"
   },
   {
    "duration": 259,
    "start_time": "2024-07-13T06:05:05.047Z"
   },
   {
    "duration": 166,
    "start_time": "2024-07-13T06:05:05.309Z"
   },
   {
    "duration": 11,
    "start_time": "2024-07-13T06:05:05.478Z"
   },
   {
    "duration": 34,
    "start_time": "2024-07-13T06:05:05.492Z"
   },
   {
    "duration": 4,
    "start_time": "2024-07-13T06:05:05.532Z"
   },
   {
    "duration": 598,
    "start_time": "2024-07-13T06:05:05.538Z"
   },
   {
    "duration": 4102,
    "start_time": "2024-07-13T06:05:06.139Z"
   },
   {
    "duration": 180,
    "start_time": "2024-07-13T06:05:10.245Z"
   },
   {
    "duration": 10,
    "start_time": "2024-07-13T06:05:10.430Z"
   },
   {
    "duration": 15,
    "start_time": "2024-07-13T06:05:10.443Z"
   },
   {
    "duration": 6,
    "start_time": "2024-07-13T06:05:10.461Z"
   },
   {
    "duration": 2671,
    "start_time": "2024-07-13T06:05:10.470Z"
   },
   {
    "duration": 88,
    "start_time": "2024-07-13T06:05:13.143Z"
   },
   {
    "duration": 0,
    "start_time": "2024-07-13T06:05:13.234Z"
   },
   {
    "duration": 0,
    "start_time": "2024-07-13T06:05:13.237Z"
   },
   {
    "duration": 90,
    "start_time": "2024-07-13T06:05:16.158Z"
   },
   {
    "duration": 123,
    "start_time": "2024-07-13T06:05:22.070Z"
   },
   {
    "duration": 23980,
    "start_time": "2024-07-14T18:50:31.314Z"
   },
   {
    "duration": 1671,
    "start_time": "2024-07-14T18:50:55.297Z"
   },
   {
    "duration": 151,
    "start_time": "2024-07-14T18:50:56.970Z"
   },
   {
    "duration": 64,
    "start_time": "2024-07-14T18:50:57.125Z"
   },
   {
    "duration": 43,
    "start_time": "2024-07-14T18:50:57.193Z"
   },
   {
    "duration": 23,
    "start_time": "2024-07-14T18:50:57.239Z"
   },
   {
    "duration": 816,
    "start_time": "2024-07-14T18:50:57.265Z"
   },
   {
    "duration": 622,
    "start_time": "2024-07-14T18:50:58.083Z"
   },
   {
    "duration": 0,
    "start_time": "2024-07-14T18:50:58.708Z"
   },
   {
    "duration": 0,
    "start_time": "2024-07-14T18:50:58.710Z"
   },
   {
    "duration": 0,
    "start_time": "2024-07-14T18:50:58.711Z"
   },
   {
    "duration": 0,
    "start_time": "2024-07-14T18:50:58.714Z"
   },
   {
    "duration": 0,
    "start_time": "2024-07-14T18:50:58.716Z"
   },
   {
    "duration": 0,
    "start_time": "2024-07-14T18:50:58.717Z"
   },
   {
    "duration": 0,
    "start_time": "2024-07-14T18:50:58.730Z"
   },
   {
    "duration": 0,
    "start_time": "2024-07-14T18:50:58.732Z"
   },
   {
    "duration": 5,
    "start_time": "2024-07-14T18:51:09.012Z"
   },
   {
    "duration": 7,
    "start_time": "2024-07-14T18:51:09.915Z"
   },
   {
    "duration": 11,
    "start_time": "2024-07-14T18:51:12.023Z"
   },
   {
    "duration": 7,
    "start_time": "2024-07-14T18:51:12.639Z"
   },
   {
    "duration": 1318,
    "start_time": "2024-07-14T18:51:14.375Z"
   },
   {
    "duration": 965,
    "start_time": "2024-07-14T18:51:15.697Z"
   },
   {
    "duration": 51,
    "start_time": "2024-07-14T18:51:23.761Z"
   },
   {
    "duration": 6,
    "start_time": "2024-07-14T18:51:28.777Z"
   },
   {
    "duration": 38,
    "start_time": "2024-07-14T18:51:31.543Z"
   },
   {
    "duration": 17,
    "start_time": "2024-07-14T18:51:35.841Z"
   },
   {
    "duration": 7,
    "start_time": "2024-07-14T18:51:40.145Z"
   },
   {
    "duration": 5,
    "start_time": "2024-07-14T18:51:43.600Z"
   },
   {
    "duration": 6,
    "start_time": "2024-07-14T18:51:49.216Z"
   },
   {
    "duration": 7,
    "start_time": "2024-07-14T18:51:51.536Z"
   },
   {
    "duration": 1309,
    "start_time": "2024-07-14T18:51:53.567Z"
   },
   {
    "duration": 966,
    "start_time": "2024-07-14T18:51:57.360Z"
   },
   {
    "duration": 28,
    "start_time": "2024-07-14T18:52:06.375Z"
   },
   {
    "duration": 22,
    "start_time": "2024-07-14T18:52:10.192Z"
   },
   {
    "duration": 15,
    "start_time": "2024-07-14T18:52:15.006Z"
   },
   {
    "duration": 16,
    "start_time": "2024-07-14T18:52:18.567Z"
   },
   {
    "duration": 21,
    "start_time": "2024-07-14T18:52:22.431Z"
   },
   {
    "duration": 26,
    "start_time": "2024-07-14T18:52:28.593Z"
   },
   {
    "duration": 8,
    "start_time": "2024-07-14T18:52:31.529Z"
   },
   {
    "duration": 41,
    "start_time": "2024-07-14T18:52:33.984Z"
   },
   {
    "duration": 1503,
    "start_time": "2024-07-14T18:52:36.593Z"
   },
   {
    "duration": 12,
    "start_time": "2024-07-14T18:52:40.283Z"
   },
   {
    "duration": 11,
    "start_time": "2024-07-14T18:52:47.184Z"
   },
   {
    "duration": 14,
    "start_time": "2024-07-14T18:52:50.384Z"
   },
   {
    "duration": 34,
    "start_time": "2024-07-14T18:52:53.232Z"
   },
   {
    "duration": 10,
    "start_time": "2024-07-14T18:52:59.559Z"
   },
   {
    "duration": 4,
    "start_time": "2024-07-14T18:53:02.664Z"
   },
   {
    "duration": 386,
    "start_time": "2024-07-14T18:53:07.016Z"
   },
   {
    "duration": 224,
    "start_time": "2024-07-14T18:53:11.336Z"
   },
   {
    "duration": 38307,
    "start_time": "2024-07-14T18:53:16.671Z"
   },
   {
    "duration": 17,
    "start_time": "2024-07-14T18:54:00.528Z"
   },
   {
    "duration": 7,
    "start_time": "2024-07-14T18:54:02.960Z"
   },
   {
    "duration": 448,
    "start_time": "2024-07-14T18:54:07.184Z"
   },
   {
    "duration": 27,
    "start_time": "2024-07-14T18:54:10.953Z"
   },
   {
    "duration": 310,
    "start_time": "2024-07-14T18:54:12.953Z"
   },
   {
    "duration": 158,
    "start_time": "2024-07-14T18:54:16.615Z"
   },
   {
    "duration": 11,
    "start_time": "2024-07-14T18:54:19.065Z"
   },
   {
    "duration": 11,
    "start_time": "2024-07-14T18:54:25.056Z"
   },
   {
    "duration": 587,
    "start_time": "2024-07-14T18:54:35.408Z"
   },
   {
    "duration": 632,
    "start_time": "2024-07-14T18:54:37.571Z"
   },
   {
    "duration": 4200,
    "start_time": "2024-07-14T18:54:40.192Z"
   },
   {
    "duration": 175,
    "start_time": "2024-07-14T18:54:44.792Z"
   },
   {
    "duration": 9,
    "start_time": "2024-07-14T18:54:45.464Z"
   },
   {
    "duration": 14,
    "start_time": "2024-07-14T18:54:46.055Z"
   },
   {
    "duration": 6,
    "start_time": "2024-07-14T18:54:47.224Z"
   },
   {
    "duration": 2716,
    "start_time": "2024-07-14T18:54:51.455Z"
   },
   {
    "duration": 725,
    "start_time": "2024-07-14T18:54:54.174Z"
   },
   {
    "duration": 0,
    "start_time": "2024-07-14T18:54:54.901Z"
   },
   {
    "duration": 0,
    "start_time": "2024-07-14T18:54:54.904Z"
   },
   {
    "duration": 134,
    "start_time": "2024-07-14T18:55:15.014Z"
   },
   {
    "duration": 9,
    "start_time": "2024-07-14T18:55:27.952Z"
   },
   {
    "duration": 54,
    "start_time": "2024-07-14T18:56:05.945Z"
   },
   {
    "duration": 5,
    "start_time": "2024-07-14T18:56:07.121Z"
   },
   {
    "duration": 44,
    "start_time": "2024-07-14T18:56:08.336Z"
   },
   {
    "duration": 17,
    "start_time": "2024-07-14T18:56:09.920Z"
   },
   {
    "duration": 426,
    "start_time": "2024-07-14T18:57:50.726Z"
   },
   {
    "duration": 4,
    "start_time": "2024-07-14T18:57:58.608Z"
   },
   {
    "duration": 667,
    "start_time": "2024-07-14T18:58:01.533Z"
   },
   {
    "duration": 4180,
    "start_time": "2024-07-14T18:58:04.281Z"
   },
   {
    "duration": 186,
    "start_time": "2024-07-14T18:58:11.608Z"
   },
   {
    "duration": 9,
    "start_time": "2024-07-14T18:58:13.929Z"
   },
   {
    "duration": 5,
    "start_time": "2024-07-14T18:58:15.769Z"
   },
   {
    "duration": 6,
    "start_time": "2024-07-14T18:58:19.704Z"
   },
   {
    "duration": 2656,
    "start_time": "2024-07-14T18:58:23.121Z"
   },
   {
    "duration": 74,
    "start_time": "2024-07-14T18:58:26.072Z"
   },
   {
    "duration": 11,
    "start_time": "2024-07-14T18:58:34.288Z"
   },
   {
    "duration": 76,
    "start_time": "2024-07-14T18:58:46.569Z"
   },
   {
    "duration": 25009,
    "start_time": "2024-07-20T05:35:57.568Z"
   },
   {
    "duration": 1726,
    "start_time": "2024-07-20T05:36:22.580Z"
   },
   {
    "duration": 172,
    "start_time": "2024-07-20T05:36:24.309Z"
   },
   {
    "duration": 91,
    "start_time": "2024-07-20T05:36:24.486Z"
   },
   {
    "duration": 23,
    "start_time": "2024-07-20T05:36:24.582Z"
   },
   {
    "duration": 44,
    "start_time": "2024-07-20T05:36:24.609Z"
   },
   {
    "duration": 815,
    "start_time": "2024-07-20T05:36:24.658Z"
   },
   {
    "duration": 653,
    "start_time": "2024-07-20T05:36:25.477Z"
   },
   {
    "duration": 0,
    "start_time": "2024-07-20T05:36:26.136Z"
   },
   {
    "duration": 0,
    "start_time": "2024-07-20T05:36:26.137Z"
   },
   {
    "duration": 0,
    "start_time": "2024-07-20T05:36:26.140Z"
   },
   {
    "duration": 0,
    "start_time": "2024-07-20T05:36:26.142Z"
   },
   {
    "duration": 0,
    "start_time": "2024-07-20T05:36:26.144Z"
   },
   {
    "duration": 0,
    "start_time": "2024-07-20T05:36:26.146Z"
   },
   {
    "duration": 0,
    "start_time": "2024-07-20T05:36:26.148Z"
   },
   {
    "duration": 0,
    "start_time": "2024-07-20T05:36:26.150Z"
   },
   {
    "duration": 0,
    "start_time": "2024-07-20T05:36:26.152Z"
   },
   {
    "duration": 0,
    "start_time": "2024-07-20T05:36:26.154Z"
   },
   {
    "duration": 0,
    "start_time": "2024-07-20T05:36:26.156Z"
   },
   {
    "duration": 1,
    "start_time": "2024-07-20T05:36:26.157Z"
   },
   {
    "duration": 0,
    "start_time": "2024-07-20T05:36:26.160Z"
   },
   {
    "duration": 0,
    "start_time": "2024-07-20T05:36:26.162Z"
   },
   {
    "duration": 0,
    "start_time": "2024-07-20T05:36:26.163Z"
   },
   {
    "duration": 0,
    "start_time": "2024-07-20T05:36:26.165Z"
   },
   {
    "duration": 0,
    "start_time": "2024-07-20T05:36:26.167Z"
   },
   {
    "duration": 0,
    "start_time": "2024-07-20T05:36:26.168Z"
   },
   {
    "duration": 0,
    "start_time": "2024-07-20T05:36:26.171Z"
   },
   {
    "duration": 0,
    "start_time": "2024-07-20T05:36:26.173Z"
   },
   {
    "duration": 0,
    "start_time": "2024-07-20T05:36:26.176Z"
   },
   {
    "duration": 0,
    "start_time": "2024-07-20T05:36:26.178Z"
   },
   {
    "duration": 0,
    "start_time": "2024-07-20T05:36:26.232Z"
   },
   {
    "duration": 0,
    "start_time": "2024-07-20T05:36:26.235Z"
   },
   {
    "duration": 0,
    "start_time": "2024-07-20T05:36:26.236Z"
   },
   {
    "duration": 0,
    "start_time": "2024-07-20T05:36:26.238Z"
   },
   {
    "duration": 0,
    "start_time": "2024-07-20T05:36:26.240Z"
   },
   {
    "duration": 0,
    "start_time": "2024-07-20T05:36:26.242Z"
   },
   {
    "duration": 0,
    "start_time": "2024-07-20T05:36:26.245Z"
   },
   {
    "duration": 0,
    "start_time": "2024-07-20T05:36:26.247Z"
   },
   {
    "duration": 0,
    "start_time": "2024-07-20T05:36:26.249Z"
   },
   {
    "duration": 15,
    "start_time": "2024-07-20T05:36:36.923Z"
   },
   {
    "duration": 9,
    "start_time": "2024-07-20T05:36:37.255Z"
   },
   {
    "duration": 457,
    "start_time": "2024-07-20T05:36:38.196Z"
   },
   {
    "duration": 70,
    "start_time": "2024-07-20T05:36:41.473Z"
   },
   {
    "duration": 263,
    "start_time": "2024-07-20T05:36:42.379Z"
   },
   {
    "duration": 213,
    "start_time": "2024-07-20T05:36:45.616Z"
   },
   {
    "duration": 12,
    "start_time": "2024-07-20T05:36:46.011Z"
   },
   {
    "duration": 22,
    "start_time": "2024-07-20T05:36:47.908Z"
   },
   {
    "duration": 658,
    "start_time": "2024-07-20T05:36:54.443Z"
   },
   {
    "duration": 694,
    "start_time": "2024-07-20T05:36:55.308Z"
   },
   {
    "duration": 4145,
    "start_time": "2024-07-20T05:36:56.476Z"
   },
   {
    "duration": 219,
    "start_time": "2024-07-20T05:37:00.624Z"
   },
   {
    "duration": 10,
    "start_time": "2024-07-20T05:37:00.851Z"
   },
   {
    "duration": 17,
    "start_time": "2024-07-20T05:37:00.865Z"
   },
   {
    "duration": 5,
    "start_time": "2024-07-20T05:37:00.934Z"
   },
   {
    "duration": 3190,
    "start_time": "2024-07-20T05:37:07.363Z"
   },
   {
    "duration": 767,
    "start_time": "2024-07-20T05:37:10.556Z"
   },
   {
    "duration": 12,
    "start_time": "2024-07-20T05:37:12.852Z"
   },
   {
    "duration": 534,
    "start_time": "2024-07-20T05:37:18.977Z"
   },
   {
    "duration": 90,
    "start_time": "2024-07-20T05:37:27.310Z"
   },
   {
    "duration": 23609,
    "start_time": "2024-07-31T04:27:36.024Z"
   },
   {
    "duration": 1699,
    "start_time": "2024-07-31T04:27:59.636Z"
   },
   {
    "duration": 149,
    "start_time": "2024-07-31T04:28:01.337Z"
   },
   {
    "duration": 80,
    "start_time": "2024-07-31T04:28:01.490Z"
   },
   {
    "duration": 26,
    "start_time": "2024-07-31T04:28:01.572Z"
   },
   {
    "duration": 22,
    "start_time": "2024-07-31T04:28:01.624Z"
   },
   {
    "duration": 797,
    "start_time": "2024-07-31T04:28:01.650Z"
   },
   {
    "duration": 588,
    "start_time": "2024-07-31T04:28:02.451Z"
   },
   {
    "duration": 0,
    "start_time": "2024-07-31T04:28:03.045Z"
   },
   {
    "duration": 0,
    "start_time": "2024-07-31T04:28:03.047Z"
   },
   {
    "duration": 0,
    "start_time": "2024-07-31T04:28:03.049Z"
   },
   {
    "duration": 0,
    "start_time": "2024-07-31T04:28:03.051Z"
   },
   {
    "duration": 0,
    "start_time": "2024-07-31T04:28:03.054Z"
   },
   {
    "duration": 0,
    "start_time": "2024-07-31T04:28:03.056Z"
   },
   {
    "duration": 0,
    "start_time": "2024-07-31T04:28:03.059Z"
   },
   {
    "duration": 0,
    "start_time": "2024-07-31T04:28:03.061Z"
   },
   {
    "duration": 0,
    "start_time": "2024-07-31T04:28:03.064Z"
   },
   {
    "duration": 0,
    "start_time": "2024-07-31T04:28:03.066Z"
   },
   {
    "duration": 0,
    "start_time": "2024-07-31T04:28:03.069Z"
   },
   {
    "duration": 0,
    "start_time": "2024-07-31T04:28:03.071Z"
   },
   {
    "duration": 0,
    "start_time": "2024-07-31T04:28:03.074Z"
   },
   {
    "duration": 0,
    "start_time": "2024-07-31T04:28:03.076Z"
   },
   {
    "duration": 0,
    "start_time": "2024-07-31T04:28:03.077Z"
   },
   {
    "duration": 0,
    "start_time": "2024-07-31T04:28:03.124Z"
   },
   {
    "duration": 0,
    "start_time": "2024-07-31T04:28:03.126Z"
   },
   {
    "duration": 0,
    "start_time": "2024-07-31T04:28:03.128Z"
   },
   {
    "duration": 0,
    "start_time": "2024-07-31T04:28:03.131Z"
   },
   {
    "duration": 0,
    "start_time": "2024-07-31T04:28:03.133Z"
   },
   {
    "duration": 0,
    "start_time": "2024-07-31T04:28:03.136Z"
   },
   {
    "duration": 0,
    "start_time": "2024-07-31T04:28:03.138Z"
   },
   {
    "duration": 0,
    "start_time": "2024-07-31T04:28:03.141Z"
   },
   {
    "duration": 0,
    "start_time": "2024-07-31T04:28:03.143Z"
   },
   {
    "duration": 0,
    "start_time": "2024-07-31T04:28:03.145Z"
   },
   {
    "duration": 0,
    "start_time": "2024-07-31T04:28:03.148Z"
   },
   {
    "duration": 0,
    "start_time": "2024-07-31T04:28:03.151Z"
   },
   {
    "duration": 0,
    "start_time": "2024-07-31T04:28:03.153Z"
   },
   {
    "duration": 0,
    "start_time": "2024-07-31T04:28:03.155Z"
   },
   {
    "duration": 0,
    "start_time": "2024-07-31T04:28:03.157Z"
   },
   {
    "duration": 0,
    "start_time": "2024-07-31T04:28:03.159Z"
   },
   {
    "duration": 0,
    "start_time": "2024-07-31T04:28:03.161Z"
   },
   {
    "duration": 0,
    "start_time": "2024-07-31T04:28:03.222Z"
   },
   {
    "duration": 0,
    "start_time": "2024-07-31T04:28:03.224Z"
   },
   {
    "duration": 0,
    "start_time": "2024-07-31T04:28:03.226Z"
   },
   {
    "duration": 0,
    "start_time": "2024-07-31T04:28:03.228Z"
   },
   {
    "duration": 0,
    "start_time": "2024-07-31T04:28:03.230Z"
   },
   {
    "duration": 0,
    "start_time": "2024-07-31T04:28:03.231Z"
   },
   {
    "duration": 0,
    "start_time": "2024-07-31T04:28:03.233Z"
   },
   {
    "duration": 0,
    "start_time": "2024-07-31T04:28:03.236Z"
   },
   {
    "duration": 0,
    "start_time": "2024-07-31T04:28:03.238Z"
   },
   {
    "duration": 0,
    "start_time": "2024-07-31T04:28:03.239Z"
   },
   {
    "duration": 0,
    "start_time": "2024-07-31T04:28:03.241Z"
   },
   {
    "duration": 0,
    "start_time": "2024-07-31T04:28:03.243Z"
   },
   {
    "duration": 0,
    "start_time": "2024-07-31T04:28:03.245Z"
   },
   {
    "duration": 0,
    "start_time": "2024-07-31T04:28:03.246Z"
   },
   {
    "duration": 2686,
    "start_time": "2024-07-31T04:28:03.927Z"
   },
   {
    "duration": 656,
    "start_time": "2024-07-31T04:28:06.616Z"
   },
   {
    "duration": 0,
    "start_time": "2024-07-31T04:28:07.274Z"
   },
   {
    "duration": 0,
    "start_time": "2024-07-31T04:28:07.276Z"
   },
   {
    "duration": 73,
    "start_time": "2024-07-31T04:28:08.164Z"
   },
   {
    "duration": 9,
    "start_time": "2024-07-31T04:28:09.075Z"
   },
   {
    "duration": 13,
    "start_time": "2024-07-31T04:28:51.951Z"
   },
   {
    "duration": 346,
    "start_time": "2024-07-31T04:29:18.180Z"
   },
   {
    "duration": 25035,
    "start_time": "2024-08-02T23:16:49.499Z"
   },
   {
    "duration": 1685,
    "start_time": "2024-08-02T23:17:14.538Z"
   },
   {
    "duration": 152,
    "start_time": "2024-08-02T23:17:16.226Z"
   },
   {
    "duration": 78,
    "start_time": "2024-08-02T23:17:16.383Z"
   },
   {
    "duration": 44,
    "start_time": "2024-08-02T23:17:16.464Z"
   },
   {
    "duration": 30,
    "start_time": "2024-08-02T23:17:16.512Z"
   },
   {
    "duration": 821,
    "start_time": "2024-08-02T23:17:16.545Z"
   },
   {
    "duration": 649,
    "start_time": "2024-08-02T23:17:18.262Z"
   },
   {
    "duration": 30,
    "start_time": "2024-08-02T23:17:21.890Z"
   },
   {
    "duration": 231,
    "start_time": "2024-08-02T23:17:25.386Z"
   },
   {
    "duration": 34,
    "start_time": "2024-08-02T23:17:26.123Z"
   },
   {
    "duration": 115,
    "start_time": "2024-08-02T23:17:28.115Z"
   },
   {
    "duration": 59,
    "start_time": "2024-08-02T23:17:33.868Z"
   },
   {
    "duration": 7,
    "start_time": "2024-08-02T23:17:35.102Z"
   },
   {
    "duration": 40,
    "start_time": "2024-08-02T23:17:36.139Z"
   },
   {
    "duration": 18,
    "start_time": "2024-08-02T23:17:37.692Z"
   },
   {
    "duration": 6,
    "start_time": "2024-08-02T23:17:48.066Z"
   },
   {
    "duration": 6,
    "start_time": "2024-08-02T23:17:49.551Z"
   },
   {
    "duration": 7,
    "start_time": "2024-08-02T23:17:52.482Z"
   },
   {
    "duration": 7,
    "start_time": "2024-08-02T23:17:53.841Z"
   },
   {
    "duration": 1354,
    "start_time": "2024-08-02T23:17:56.483Z"
   },
   {
    "duration": 1051,
    "start_time": "2024-08-02T23:17:59.220Z"
   },
   {
    "duration": 28,
    "start_time": "2024-08-02T23:18:04.403Z"
   },
   {
    "duration": 19,
    "start_time": "2024-08-02T23:18:07.287Z"
   },
   {
    "duration": 14,
    "start_time": "2024-08-02T23:18:09.921Z"
   },
   {
    "duration": 16,
    "start_time": "2024-08-02T23:18:13.132Z"
   },
   {
    "duration": 19,
    "start_time": "2024-08-02T23:18:15.957Z"
   },
   {
    "duration": 87,
    "start_time": "2024-08-02T23:18:20.493Z"
   },
   {
    "duration": 7,
    "start_time": "2024-08-02T23:18:22.274Z"
   },
   {
    "duration": 49,
    "start_time": "2024-08-02T23:18:25.410Z"
   },
   {
    "duration": 1584,
    "start_time": "2024-08-02T23:18:29.428Z"
   },
   {
    "duration": 12,
    "start_time": "2024-08-02T23:18:34.469Z"
   },
   {
    "duration": 15,
    "start_time": "2024-08-02T23:18:37.771Z"
   },
   {
    "duration": 39,
    "start_time": "2024-08-02T23:18:40.338Z"
   },
   {
    "duration": 8,
    "start_time": "2024-08-02T23:18:44.343Z"
   },
   {
    "duration": 4,
    "start_time": "2024-08-02T23:18:45.668Z"
   },
   {
    "duration": 378,
    "start_time": "2024-08-02T23:18:49.198Z"
   },
   {
    "duration": 220,
    "start_time": "2024-08-02T23:18:57.462Z"
   },
   {
    "duration": 39743,
    "start_time": "2024-08-02T23:19:06.997Z"
   },
   {
    "duration": 19,
    "start_time": "2024-08-02T23:21:32.403Z"
   },
   {
    "duration": 8,
    "start_time": "2024-08-02T23:21:33.744Z"
   },
   {
    "duration": 444,
    "start_time": "2024-08-02T23:21:34.708Z"
   },
   {
    "duration": 27,
    "start_time": "2024-08-02T23:21:41.787Z"
   },
   {
    "duration": 309,
    "start_time": "2024-08-02T23:21:43.360Z"
   },
   {
    "duration": 159,
    "start_time": "2024-08-02T23:21:49.578Z"
   },
   {
    "duration": 12,
    "start_time": "2024-08-02T23:21:50.732Z"
   },
   {
    "duration": 13,
    "start_time": "2024-08-02T23:21:51.907Z"
   },
   {
    "duration": 556,
    "start_time": "2024-08-02T23:21:59.044Z"
   },
   {
    "duration": 656,
    "start_time": "2024-08-02T23:22:02.231Z"
   },
   {
    "duration": 4114,
    "start_time": "2024-08-02T23:22:04.838Z"
   },
   {
    "duration": 187,
    "start_time": "2024-08-02T23:22:16.192Z"
   },
   {
    "duration": 9,
    "start_time": "2024-08-02T23:22:17.200Z"
   },
   {
    "duration": 16,
    "start_time": "2024-08-02T23:22:17.964Z"
   },
   {
    "duration": 6,
    "start_time": "2024-08-02T23:22:18.745Z"
   },
   {
    "duration": 2786,
    "start_time": "2024-08-02T23:22:24.931Z"
   },
   {
    "duration": 766,
    "start_time": "2024-08-02T23:22:27.721Z"
   },
   {
    "duration": 11,
    "start_time": "2024-08-02T23:22:33.052Z"
   },
   {
    "duration": 438,
    "start_time": "2024-08-02T23:23:17.370Z"
   },
   {
    "duration": 144,
    "start_time": "2024-08-02T23:23:23.620Z"
   },
   {
    "duration": 10,
    "start_time": "2024-08-02T23:23:29.329Z"
   },
   {
    "duration": 96,
    "start_time": "2024-08-02T23:26:39.336Z"
   },
   {
    "duration": 310,
    "start_time": "2024-08-03T02:18:36.512Z"
   },
   {
    "duration": 21,
    "start_time": "2024-08-03T02:18:54.235Z"
   },
   {
    "duration": 23,
    "start_time": "2024-08-03T02:19:06.706Z"
   },
   {
    "duration": 23612,
    "start_time": "2024-08-03T02:19:41.518Z"
   },
   {
    "duration": 1745,
    "start_time": "2024-08-03T02:20:05.134Z"
   },
   {
    "duration": 151,
    "start_time": "2024-08-03T02:20:06.883Z"
   },
   {
    "duration": 67,
    "start_time": "2024-08-03T02:20:07.038Z"
   },
   {
    "duration": 24,
    "start_time": "2024-08-03T02:20:07.124Z"
   },
   {
    "duration": 22,
    "start_time": "2024-08-03T02:20:07.151Z"
   },
   {
    "duration": 823,
    "start_time": "2024-08-03T02:20:07.176Z"
   },
   {
    "duration": 303,
    "start_time": "2024-08-03T02:20:08.003Z"
   },
   {
    "duration": 0,
    "start_time": "2024-08-03T02:20:08.311Z"
   },
   {
    "duration": 0,
    "start_time": "2024-08-03T02:20:08.313Z"
   },
   {
    "duration": 0,
    "start_time": "2024-08-03T02:20:08.324Z"
   },
   {
    "duration": 0,
    "start_time": "2024-08-03T02:20:08.326Z"
   },
   {
    "duration": 0,
    "start_time": "2024-08-03T02:20:08.329Z"
   },
   {
    "duration": 0,
    "start_time": "2024-08-03T02:20:08.331Z"
   },
   {
    "duration": 0,
    "start_time": "2024-08-03T02:20:08.332Z"
   },
   {
    "duration": 0,
    "start_time": "2024-08-03T02:20:08.334Z"
   },
   {
    "duration": 0,
    "start_time": "2024-08-03T02:20:08.337Z"
   },
   {
    "duration": 0,
    "start_time": "2024-08-03T02:20:08.339Z"
   },
   {
    "duration": 0,
    "start_time": "2024-08-03T02:20:08.342Z"
   },
   {
    "duration": 0,
    "start_time": "2024-08-03T02:20:08.344Z"
   },
   {
    "duration": 0,
    "start_time": "2024-08-03T02:20:08.346Z"
   },
   {
    "duration": 0,
    "start_time": "2024-08-03T02:20:08.348Z"
   },
   {
    "duration": 0,
    "start_time": "2024-08-03T02:20:08.351Z"
   },
   {
    "duration": 0,
    "start_time": "2024-08-03T02:20:08.353Z"
   },
   {
    "duration": 0,
    "start_time": "2024-08-03T02:20:08.355Z"
   },
   {
    "duration": 0,
    "start_time": "2024-08-03T02:20:08.356Z"
   },
   {
    "duration": 0,
    "start_time": "2024-08-03T02:20:08.358Z"
   },
   {
    "duration": 0,
    "start_time": "2024-08-03T02:20:08.361Z"
   },
   {
    "duration": 0,
    "start_time": "2024-08-03T02:20:08.363Z"
   },
   {
    "duration": 0,
    "start_time": "2024-08-03T02:20:08.424Z"
   },
   {
    "duration": 0,
    "start_time": "2024-08-03T02:20:08.425Z"
   },
   {
    "duration": 0,
    "start_time": "2024-08-03T02:20:08.427Z"
   },
   {
    "duration": 0,
    "start_time": "2024-08-03T02:20:08.430Z"
   },
   {
    "duration": 0,
    "start_time": "2024-08-03T02:20:08.432Z"
   },
   {
    "duration": 0,
    "start_time": "2024-08-03T02:20:08.434Z"
   },
   {
    "duration": 0,
    "start_time": "2024-08-03T02:20:08.437Z"
   },
   {
    "duration": 0,
    "start_time": "2024-08-03T02:20:08.439Z"
   },
   {
    "duration": 387,
    "start_time": "2024-08-03T02:53:20.447Z"
   },
   {
    "duration": 220,
    "start_time": "2024-08-03T02:53:24.624Z"
   },
   {
    "duration": 39763,
    "start_time": "2024-08-03T02:53:27.149Z"
   },
   {
    "duration": 22,
    "start_time": "2024-08-03T03:32:40.918Z"
   },
   {
    "duration": 7,
    "start_time": "2024-08-03T03:32:43.265Z"
   },
   {
    "duration": 469,
    "start_time": "2024-08-03T03:32:44.010Z"
   },
   {
    "duration": 29,
    "start_time": "2024-08-03T03:32:47.289Z"
   },
   {
    "duration": 275,
    "start_time": "2024-08-03T03:32:47.915Z"
   },
   {
    "duration": 153,
    "start_time": "2024-08-03T03:32:49.970Z"
   },
   {
    "duration": 14,
    "start_time": "2024-08-03T03:32:50.536Z"
   },
   {
    "duration": 13,
    "start_time": "2024-08-03T03:32:51.052Z"
   },
   {
    "duration": 574,
    "start_time": "2024-08-03T03:32:54.609Z"
   },
   {
    "duration": 683,
    "start_time": "2024-08-03T03:32:56.247Z"
   },
   {
    "duration": 4255,
    "start_time": "2024-08-03T03:32:56.956Z"
   },
   {
    "duration": 196,
    "start_time": "2024-08-03T03:33:04.801Z"
   },
   {
    "duration": 9,
    "start_time": "2024-08-03T03:33:05.446Z"
   },
   {
    "duration": 17,
    "start_time": "2024-08-03T03:33:06.743Z"
   },
   {
    "duration": 8,
    "start_time": "2024-08-03T03:33:10.142Z"
   },
   {
    "duration": 2938,
    "start_time": "2024-08-03T03:33:12.497Z"
   },
   {
    "duration": 695,
    "start_time": "2024-08-03T03:33:15.448Z"
   },
   {
    "duration": 0,
    "start_time": "2024-08-03T03:33:16.146Z"
   },
   {
    "duration": 10,
    "start_time": "2024-08-03T03:33:22.347Z"
   },
   {
    "duration": 479,
    "start_time": "2024-08-03T03:33:30.028Z"
   },
   {
    "duration": 270,
    "start_time": "2024-08-03T03:34:14.186Z"
   },
   {
    "duration": 2492,
    "start_time": "2024-08-03T03:40:04.861Z"
   },
   {
    "duration": 1480,
    "start_time": "2024-08-03T03:40:07.357Z"
   },
   {
    "duration": 148,
    "start_time": "2024-08-03T03:40:08.840Z"
   },
   {
    "duration": 75,
    "start_time": "2024-08-03T03:40:08.992Z"
   },
   {
    "duration": 23,
    "start_time": "2024-08-03T03:40:09.070Z"
   },
   {
    "duration": 42,
    "start_time": "2024-08-03T03:40:09.096Z"
   },
   {
    "duration": 817,
    "start_time": "2024-08-03T03:40:09.141Z"
   },
   {
    "duration": 212,
    "start_time": "2024-08-03T03:40:09.961Z"
   },
   {
    "duration": 0,
    "start_time": "2024-08-03T03:40:10.177Z"
   },
   {
    "duration": 0,
    "start_time": "2024-08-03T03:40:10.179Z"
   },
   {
    "duration": 0,
    "start_time": "2024-08-03T03:40:10.181Z"
   },
   {
    "duration": 0,
    "start_time": "2024-08-03T03:40:10.184Z"
   },
   {
    "duration": 57,
    "start_time": "2024-08-03T03:40:10.289Z"
   },
   {
    "duration": 6,
    "start_time": "2024-08-03T03:40:10.482Z"
   },
   {
    "duration": 41,
    "start_time": "2024-08-03T03:40:10.679Z"
   },
   {
    "duration": 18,
    "start_time": "2024-08-03T03:40:10.875Z"
   },
   {
    "duration": 6,
    "start_time": "2024-08-03T03:40:13.826Z"
   },
   {
    "duration": 7,
    "start_time": "2024-08-03T03:40:14.042Z"
   },
   {
    "duration": 7,
    "start_time": "2024-08-03T03:40:14.612Z"
   },
   {
    "duration": 7,
    "start_time": "2024-08-03T03:40:14.804Z"
   },
   {
    "duration": 1330,
    "start_time": "2024-08-03T03:40:15.370Z"
   },
   {
    "duration": 970,
    "start_time": "2024-08-03T03:40:16.704Z"
   },
   {
    "duration": 27,
    "start_time": "2024-08-03T03:40:17.678Z"
   },
   {
    "duration": 24,
    "start_time": "2024-08-03T03:40:17.725Z"
   },
   {
    "duration": 17,
    "start_time": "2024-08-03T03:40:17.753Z"
   },
   {
    "duration": 15,
    "start_time": "2024-08-03T03:40:17.863Z"
   },
   {
    "duration": 20,
    "start_time": "2024-08-03T03:40:18.233Z"
   },
   {
    "duration": 27,
    "start_time": "2024-08-03T03:40:19.203Z"
   },
   {
    "duration": 8,
    "start_time": "2024-08-03T03:40:19.411Z"
   },
   {
    "duration": 43,
    "start_time": "2024-08-03T03:40:21.322Z"
   },
   {
    "duration": 1508,
    "start_time": "2024-08-03T03:40:22.631Z"
   },
   {
    "duration": 12,
    "start_time": "2024-08-03T03:40:24.142Z"
   },
   {
    "duration": 16,
    "start_time": "2024-08-03T03:40:24.297Z"
   },
   {
    "duration": 32,
    "start_time": "2024-08-03T03:40:26.483Z"
   },
   {
    "duration": 8,
    "start_time": "2024-08-03T03:40:29.660Z"
   },
   {
    "duration": 4,
    "start_time": "2024-08-03T03:40:29.869Z"
   },
   {
    "duration": 364,
    "start_time": "2024-08-03T03:40:31.762Z"
   },
   {
    "duration": 229,
    "start_time": "2024-08-03T03:40:35.323Z"
   },
   {
    "duration": 39743,
    "start_time": "2024-08-03T03:40:38.180Z"
   },
   {
    "duration": 18,
    "start_time": "2024-08-03T03:49:55.859Z"
   },
   {
    "duration": 7,
    "start_time": "2024-08-03T03:49:56.744Z"
   },
   {
    "duration": 435,
    "start_time": "2024-08-03T03:49:58.180Z"
   },
   {
    "duration": 28,
    "start_time": "2024-08-03T03:50:02.396Z"
   },
   {
    "duration": 263,
    "start_time": "2024-08-03T03:50:03.413Z"
   },
   {
    "duration": 156,
    "start_time": "2024-08-03T03:50:06.230Z"
   },
   {
    "duration": 12,
    "start_time": "2024-08-03T03:50:06.661Z"
   },
   {
    "duration": 13,
    "start_time": "2024-08-03T03:50:07.604Z"
   },
   {
    "duration": 4,
    "start_time": "2024-08-03T03:50:14.187Z"
   },
   {
    "duration": 613,
    "start_time": "2024-08-03T03:50:14.910Z"
   },
   {
    "duration": 4126,
    "start_time": "2024-08-03T03:50:16.202Z"
   },
   {
    "duration": 179,
    "start_time": "2024-08-03T03:50:23.287Z"
   },
   {
    "duration": 9,
    "start_time": "2024-08-03T03:50:23.494Z"
   },
   {
    "duration": 14,
    "start_time": "2024-08-03T03:50:23.672Z"
   },
   {
    "duration": 6,
    "start_time": "2024-08-03T03:50:23.898Z"
   },
   {
    "duration": 2703,
    "start_time": "2024-08-03T03:50:28.244Z"
   },
   {
    "duration": 84,
    "start_time": "2024-08-03T03:50:30.950Z"
   },
   {
    "duration": 10,
    "start_time": "2024-08-03T03:50:32.693Z"
   },
   {
    "duration": 242,
    "start_time": "2024-08-03T03:50:43.060Z"
   },
   {
    "duration": 94,
    "start_time": "2024-08-03T03:51:00.799Z"
   },
   {
    "duration": 1214,
    "start_time": "2024-08-03T03:53:17.612Z"
   },
   {
    "duration": 26,
    "start_time": "2024-08-03T03:55:26.152Z"
   },
   {
    "duration": 25,
    "start_time": "2024-08-03T03:57:48.350Z"
   },
   {
    "duration": 6,
    "start_time": "2024-08-03T03:58:53.270Z"
   },
   {
    "duration": 6,
    "start_time": "2024-08-03T03:59:05.912Z"
   },
   {
    "duration": 5,
    "start_time": "2024-08-03T04:00:44.639Z"
   },
   {
    "duration": 63,
    "start_time": "2024-08-03T04:00:59.862Z"
   },
   {
    "duration": 36,
    "start_time": "2024-08-03T04:08:59.461Z"
   },
   {
    "duration": 1572,
    "start_time": "2024-08-03T04:09:41.968Z"
   },
   {
    "duration": 1568,
    "start_time": "2024-08-03T04:10:36.647Z"
   },
   {
    "duration": 1443,
    "start_time": "2024-08-03T04:12:16.645Z"
   },
   {
    "duration": 1448,
    "start_time": "2024-08-03T04:12:59.344Z"
   },
   {
    "duration": 64,
    "start_time": "2024-08-03T04:13:04.956Z"
   },
   {
    "duration": 12,
    "start_time": "2024-08-03T04:13:08.739Z"
   },
   {
    "duration": 12,
    "start_time": "2024-08-04T17:37:24.635Z"
   }
  ],
  "colab": {
   "provenance": []
  },
  "kernelspec": {
   "display_name": "base",
   "language": "python",
   "name": "python3"
  },
  "language_info": {
   "codemirror_mode": {
    "name": "ipython",
    "version": 3
   },
   "file_extension": ".py",
   "mimetype": "text/x-python",
   "name": "python",
   "nbconvert_exporter": "python",
   "pygments_lexer": "ipython3",
   "version": "3.11.7"
  },
  "toc": {
   "base_numbering": 1,
   "nav_menu": {},
   "number_sections": true,
   "sideBar": true,
   "skip_h1_title": true,
   "title_cell": "Table of Contents",
   "title_sidebar": "Contents",
   "toc_cell": false,
   "toc_position": {},
   "toc_section_display": true,
   "toc_window_display": false
  }
 },
 "nbformat": 4,
 "nbformat_minor": 5
}
