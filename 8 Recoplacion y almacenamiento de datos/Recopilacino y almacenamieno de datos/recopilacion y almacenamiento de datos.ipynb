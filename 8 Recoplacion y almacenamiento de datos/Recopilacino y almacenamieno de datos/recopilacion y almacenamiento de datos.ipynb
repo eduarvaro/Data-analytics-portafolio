{
 "cells": [
  {
   "cell_type": "code",
   "execution_count": 1,
   "id": "7c28955b-b917-4d82-8081-f6c78b6c4d46",
   "metadata": {},
   "outputs": [],
   "source": [
    "import pandas as pd\n",
    "import matplotlib.pyplot as plt\n",
    "import numpy as np\n",
    "import seaborn as sns"
   ]
  },
  {
   "cell_type": "code",
   "execution_count": 2,
   "id": "8dca01ba-d2b5-4042-b038-8efa42023022",
   "metadata": {},
   "outputs": [],
   "source": [
    "company_df= pd.read_csv('moved.csv')\n",
    "trips_df = pd.read_csv('moved04.csv')"
   ]
  },
  {
   "cell_type": "code",
   "execution_count": 3,
   "id": "972999f5-2ba0-450a-b033-f1296004658a",
   "metadata": {
    "scrolled": true
   },
   "outputs": [
    {
     "name": "stdout",
     "output_type": "stream",
     "text": [
      "<class 'pandas.core.frame.DataFrame'>\n",
      "RangeIndex: 64 entries, 0 to 63\n",
      "Data columns (total 2 columns):\n",
      " #   Column        Non-Null Count  Dtype \n",
      "---  ------        --------------  ----- \n",
      " 0   company_name  64 non-null     object\n",
      " 1   trips_amount  64 non-null     int64 \n",
      "dtypes: int64(1), object(1)\n",
      "memory usage: 1.1+ KB\n"
     ]
    }
   ],
   "source": [
    "company_df.info()"
   ]
  },
  {
   "cell_type": "code",
   "execution_count": 4,
   "id": "0ba32012-dc08-4692-95ea-9c2ec9c4ece5",
   "metadata": {},
   "outputs": [
    {
     "data": {
      "text/html": [
       "<div>\n",
       "<style scoped>\n",
       "    .dataframe tbody tr th:only-of-type {\n",
       "        vertical-align: middle;\n",
       "    }\n",
       "\n",
       "    .dataframe tbody tr th {\n",
       "        vertical-align: top;\n",
       "    }\n",
       "\n",
       "    .dataframe thead th {\n",
       "        text-align: right;\n",
       "    }\n",
       "</style>\n",
       "<table border=\"1\" class=\"dataframe\">\n",
       "  <thead>\n",
       "    <tr style=\"text-align: right;\">\n",
       "      <th></th>\n",
       "      <th>company_name</th>\n",
       "      <th>trips_amount</th>\n",
       "    </tr>\n",
       "  </thead>\n",
       "  <tbody>\n",
       "    <tr>\n",
       "      <th>0</th>\n",
       "      <td>Flash Cab</td>\n",
       "      <td>19558</td>\n",
       "    </tr>\n",
       "    <tr>\n",
       "      <th>1</th>\n",
       "      <td>Taxi Affiliation Services</td>\n",
       "      <td>11422</td>\n",
       "    </tr>\n",
       "    <tr>\n",
       "      <th>2</th>\n",
       "      <td>Medallion Leasing</td>\n",
       "      <td>10367</td>\n",
       "    </tr>\n",
       "    <tr>\n",
       "      <th>3</th>\n",
       "      <td>Yellow Cab</td>\n",
       "      <td>9888</td>\n",
       "    </tr>\n",
       "    <tr>\n",
       "      <th>4</th>\n",
       "      <td>Taxi Affiliation Service Yellow</td>\n",
       "      <td>9299</td>\n",
       "    </tr>\n",
       "  </tbody>\n",
       "</table>\n",
       "</div>"
      ],
      "text/plain": [
       "                      company_name  trips_amount\n",
       "0                        Flash Cab         19558\n",
       "1        Taxi Affiliation Services         11422\n",
       "2                Medallion Leasing         10367\n",
       "3                       Yellow Cab          9888\n",
       "4  Taxi Affiliation Service Yellow          9299"
      ]
     },
     "execution_count": 4,
     "metadata": {},
     "output_type": "execute_result"
    }
   ],
   "source": [
    "company_df.head()"
   ]
  },
  {
   "cell_type": "code",
   "execution_count": 5,
   "id": "b6b04ae4-d4c1-4899-ac09-b55d53fdbb5c",
   "metadata": {},
   "outputs": [
    {
     "data": {
      "text/html": [
       "<div>\n",
       "<style scoped>\n",
       "    .dataframe tbody tr th:only-of-type {\n",
       "        vertical-align: middle;\n",
       "    }\n",
       "\n",
       "    .dataframe tbody tr th {\n",
       "        vertical-align: top;\n",
       "    }\n",
       "\n",
       "    .dataframe thead th {\n",
       "        text-align: right;\n",
       "    }\n",
       "</style>\n",
       "<table border=\"1\" class=\"dataframe\">\n",
       "  <thead>\n",
       "    <tr style=\"text-align: right;\">\n",
       "      <th></th>\n",
       "      <th>trips_amount</th>\n",
       "    </tr>\n",
       "  </thead>\n",
       "  <tbody>\n",
       "    <tr>\n",
       "      <th>count</th>\n",
       "      <td>64.000000</td>\n",
       "    </tr>\n",
       "    <tr>\n",
       "      <th>mean</th>\n",
       "      <td>2145.484375</td>\n",
       "    </tr>\n",
       "    <tr>\n",
       "      <th>std</th>\n",
       "      <td>3812.310186</td>\n",
       "    </tr>\n",
       "    <tr>\n",
       "      <th>min</th>\n",
       "      <td>2.000000</td>\n",
       "    </tr>\n",
       "    <tr>\n",
       "      <th>25%</th>\n",
       "      <td>20.750000</td>\n",
       "    </tr>\n",
       "    <tr>\n",
       "      <th>50%</th>\n",
       "      <td>178.500000</td>\n",
       "    </tr>\n",
       "    <tr>\n",
       "      <th>75%</th>\n",
       "      <td>2106.500000</td>\n",
       "    </tr>\n",
       "    <tr>\n",
       "      <th>max</th>\n",
       "      <td>19558.000000</td>\n",
       "    </tr>\n",
       "  </tbody>\n",
       "</table>\n",
       "</div>"
      ],
      "text/plain": [
       "       trips_amount\n",
       "count     64.000000\n",
       "mean    2145.484375\n",
       "std     3812.310186\n",
       "min        2.000000\n",
       "25%       20.750000\n",
       "50%      178.500000\n",
       "75%     2106.500000\n",
       "max    19558.000000"
      ]
     },
     "execution_count": 5,
     "metadata": {},
     "output_type": "execute_result"
    }
   ],
   "source": [
    "company_df.describe()"
   ]
  },
  {
   "cell_type": "code",
   "execution_count": 6,
   "id": "c1db2456-8cb4-4fb2-89fb-35cba318d5f6",
   "metadata": {},
   "outputs": [
    {
     "data": {
      "text/html": [
       "<div>\n",
       "<style scoped>\n",
       "    .dataframe tbody tr th:only-of-type {\n",
       "        vertical-align: middle;\n",
       "    }\n",
       "\n",
       "    .dataframe tbody tr th {\n",
       "        vertical-align: top;\n",
       "    }\n",
       "\n",
       "    .dataframe thead th {\n",
       "        text-align: right;\n",
       "    }\n",
       "</style>\n",
       "<table border=\"1\" class=\"dataframe\">\n",
       "  <thead>\n",
       "    <tr style=\"text-align: right;\">\n",
       "      <th></th>\n",
       "      <th>company_name</th>\n",
       "      <th>trips_amount</th>\n",
       "    </tr>\n",
       "  </thead>\n",
       "  <tbody>\n",
       "    <tr>\n",
       "      <th>0</th>\n",
       "      <td>Flash Cab</td>\n",
       "      <td>19558</td>\n",
       "    </tr>\n",
       "    <tr>\n",
       "      <th>1</th>\n",
       "      <td>Taxi Affiliation Services</td>\n",
       "      <td>11422</td>\n",
       "    </tr>\n",
       "    <tr>\n",
       "      <th>2</th>\n",
       "      <td>Medallion Leasing</td>\n",
       "      <td>10367</td>\n",
       "    </tr>\n",
       "    <tr>\n",
       "      <th>3</th>\n",
       "      <td>Yellow Cab</td>\n",
       "      <td>9888</td>\n",
       "    </tr>\n",
       "    <tr>\n",
       "      <th>4</th>\n",
       "      <td>Taxi Affiliation Service Yellow</td>\n",
       "      <td>9299</td>\n",
       "    </tr>\n",
       "    <tr>\n",
       "      <th>5</th>\n",
       "      <td>Chicago Carriage Cab Corp</td>\n",
       "      <td>9181</td>\n",
       "    </tr>\n",
       "    <tr>\n",
       "      <th>6</th>\n",
       "      <td>City Service</td>\n",
       "      <td>8448</td>\n",
       "    </tr>\n",
       "    <tr>\n",
       "      <th>7</th>\n",
       "      <td>Sun Taxi</td>\n",
       "      <td>7701</td>\n",
       "    </tr>\n",
       "    <tr>\n",
       "      <th>8</th>\n",
       "      <td>Star North Management LLC</td>\n",
       "      <td>7455</td>\n",
       "    </tr>\n",
       "    <tr>\n",
       "      <th>9</th>\n",
       "      <td>Blue Ribbon Taxi Association Inc.</td>\n",
       "      <td>5953</td>\n",
       "    </tr>\n",
       "  </tbody>\n",
       "</table>\n",
       "</div>"
      ],
      "text/plain": [
       "                        company_name  trips_amount\n",
       "0                          Flash Cab         19558\n",
       "1          Taxi Affiliation Services         11422\n",
       "2                  Medallion Leasing         10367\n",
       "3                         Yellow Cab          9888\n",
       "4    Taxi Affiliation Service Yellow          9299\n",
       "5          Chicago Carriage Cab Corp          9181\n",
       "6                       City Service          8448\n",
       "7                           Sun Taxi          7701\n",
       "8          Star North Management LLC          7455\n",
       "9  Blue Ribbon Taxi Association Inc.          5953"
      ]
     },
     "execution_count": 6,
     "metadata": {},
     "output_type": "execute_result"
    }
   ],
   "source": [
    "top_10_empresas = company_df.sort_values('trips_amount', ascending=False).head(10)\n",
    "top_10_empresas"
   ]
  },
  {
   "cell_type": "code",
   "execution_count": 7,
   "id": "d2755c9b-9fea-450b-a546-a9824c8e2fae",
   "metadata": {},
   "outputs": [],
   "source": [
    "top_10_empresas = top_10_empresas.set_index('company_name')"
   ]
  },
  {
   "cell_type": "code",
   "execution_count": 8,
   "id": "9d360034-1f63-421c-a19b-93abc16ef1d1",
   "metadata": {},
   "outputs": [
    {
     "data": {
      "image/png": "[encoded data removed]",
      "text/plain": [
       "<Figure size 640x480 with 1 Axes>"
      ]
     },
     "metadata": {},
     "output_type": "display_data"
    }
   ],
   "source": [
    "top_10_empresas.plot(kind = \"barh\").set_title('Numero de viajes por empresa de viajes')\n",
    "plt.xlabel('Numero de viajes')\n",
    "plt.ylabel('Empresas')\n",
    "plt.show()"
   ]
  },
  {
   "cell_type": "markdown",
   "id": "d2d4183d-5314-4b6c-a1bd-6a643710c8bf",
   "metadata": {},
   "source": [
    "La grafica nos muestra la relacion entre el numemro de viajes y la empresas donde podemos resaltar que flash cab es la empresa que mas viajes hace por encima de 17500 por otro lado la empresa con menor numeor de viajes dentro del top 10 es Blue Ribbon Taxi Association Inc con 5953 viajes\n"
   ]
  },
  {
   "cell_type": "code",
   "execution_count": 10,
   "id": "0de18b63-4daf-4157-980b-9a63e341a602",
   "metadata": {},
   "outputs": [
    {
     "name": "stdout",
     "output_type": "stream",
     "text": [
      "<class 'pandas.core.frame.DataFrame'>\n",
      "RangeIndex: 94 entries, 0 to 93\n",
      "Data columns (total 2 columns):\n",
      " #   Column                 Non-Null Count  Dtype  \n",
      "---  ------                 --------------  -----  \n",
      " 0   dropoff_location_name  94 non-null     object \n",
      " 1   average_trips          94 non-null     float64\n",
      "dtypes: float64(1), object(1)\n",
      "memory usage: 1.6+ KB\n"
     ]
    }
   ],
   "source": [
    "trips_df.info()"
   ]
  },
  {
   "cell_type": "code",
   "execution_count": 11,
   "id": "54846011-298d-4d46-ba1c-1c9381a8e4e7",
   "metadata": {},
   "outputs": [],
   "source": [
    "trips_df['average_trips'] = trips_df['average_trips'].astype(int)"
   ]
  },
  {
   "cell_type": "code",
   "execution_count": 12,
   "id": "4ee6bf73-a385-4f57-97ec-c5d21d4743cc",
   "metadata": {},
   "outputs": [
    {
     "name": "stdout",
     "output_type": "stream",
     "text": [
      "<class 'pandas.core.frame.DataFrame'>\n",
      "RangeIndex: 94 entries, 0 to 93\n",
      "Data columns (total 2 columns):\n",
      " #   Column                 Non-Null Count  Dtype \n",
      "---  ------                 --------------  ----- \n",
      " 0   dropoff_location_name  94 non-null     object\n",
      " 1   average_trips          94 non-null     int64 \n",
      "dtypes: int64(1), object(1)\n",
      "memory usage: 1.6+ KB\n"
     ]
    }
   ],
   "source": [
    "trips_df.info()"
   ]
  },
  {
   "cell_type": "code",
   "execution_count": 13,
   "id": "8afa7e94-9c6f-413d-9199-cc434ddd2aaa",
   "metadata": {},
   "outputs": [
    {
     "data": {
      "text/html": [
       "<div>\n",
       "<style scoped>\n",
       "    .dataframe tbody tr th:only-of-type {\n",
       "        vertical-align: middle;\n",
       "    }\n",
       "\n",
       "    .dataframe tbody tr th {\n",
       "        vertical-align: top;\n",
       "    }\n",
       "\n",
       "    .dataframe thead th {\n",
       "        text-align: right;\n",
       "    }\n",
       "</style>\n",
       "<table border=\"1\" class=\"dataframe\">\n",
       "  <thead>\n",
       "    <tr style=\"text-align: right;\">\n",
       "      <th></th>\n",
       "      <th>dropoff_location_name</th>\n",
       "      <th>average_trips</th>\n",
       "    </tr>\n",
       "  </thead>\n",
       "  <tbody>\n",
       "    <tr>\n",
       "      <th>0</th>\n",
       "      <td>Loop</td>\n",
       "      <td>10727</td>\n",
       "    </tr>\n",
       "    <tr>\n",
       "      <th>1</th>\n",
       "      <td>River North</td>\n",
       "      <td>9523</td>\n",
       "    </tr>\n",
       "    <tr>\n",
       "      <th>2</th>\n",
       "      <td>Streeterville</td>\n",
       "      <td>6664</td>\n",
       "    </tr>\n",
       "    <tr>\n",
       "      <th>3</th>\n",
       "      <td>West Loop</td>\n",
       "      <td>5163</td>\n",
       "    </tr>\n",
       "    <tr>\n",
       "      <th>4</th>\n",
       "      <td>O'Hare</td>\n",
       "      <td>2546</td>\n",
       "    </tr>\n",
       "  </tbody>\n",
       "</table>\n",
       "</div>"
      ],
      "text/plain": [
       "  dropoff_location_name  average_trips\n",
       "0                  Loop          10727\n",
       "1           River North           9523\n",
       "2         Streeterville           6664\n",
       "3             West Loop           5163\n",
       "4                O'Hare           2546"
      ]
     },
     "execution_count": 13,
     "metadata": {},
     "output_type": "execute_result"
    }
   ],
   "source": [
    "trips_df.head()"
   ]
  },
  {
   "cell_type": "code",
   "execution_count": 14,
   "id": "4fcf65f6-7515-4bbf-a201-9c32b8cf8eb7",
   "metadata": {},
   "outputs": [
    {
     "data": {
      "text/html": [
       "<div>\n",
       "<style scoped>\n",
       "    .dataframe tbody tr th:only-of-type {\n",
       "        vertical-align: middle;\n",
       "    }\n",
       "\n",
       "    .dataframe tbody tr th {\n",
       "        vertical-align: top;\n",
       "    }\n",
       "\n",
       "    .dataframe thead th {\n",
       "        text-align: right;\n",
       "    }\n",
       "</style>\n",
       "<table border=\"1\" class=\"dataframe\">\n",
       "  <thead>\n",
       "    <tr style=\"text-align: right;\">\n",
       "      <th></th>\n",
       "      <th>average_trips</th>\n",
       "    </tr>\n",
       "  </thead>\n",
       "  <tbody>\n",
       "    <tr>\n",
       "      <th>count</th>\n",
       "      <td>94.000000</td>\n",
       "    </tr>\n",
       "    <tr>\n",
       "      <th>mean</th>\n",
       "      <td>599.478723</td>\n",
       "    </tr>\n",
       "    <tr>\n",
       "      <th>std</th>\n",
       "      <td>1714.555974</td>\n",
       "    </tr>\n",
       "    <tr>\n",
       "      <th>min</th>\n",
       "      <td>1.000000</td>\n",
       "    </tr>\n",
       "    <tr>\n",
       "      <th>25%</th>\n",
       "      <td>14.000000</td>\n",
       "    </tr>\n",
       "    <tr>\n",
       "      <th>50%</th>\n",
       "      <td>51.500000</td>\n",
       "    </tr>\n",
       "    <tr>\n",
       "      <th>75%</th>\n",
       "      <td>298.750000</td>\n",
       "    </tr>\n",
       "    <tr>\n",
       "      <th>max</th>\n",
       "      <td>10727.000000</td>\n",
       "    </tr>\n",
       "  </tbody>\n",
       "</table>\n",
       "</div>"
      ],
      "text/plain": [
       "       average_trips\n",
       "count      94.000000\n",
       "mean      599.478723\n",
       "std      1714.555974\n",
       "min         1.000000\n",
       "25%        14.000000\n",
       "50%        51.500000\n",
       "75%       298.750000\n",
       "max     10727.000000"
      ]
     },
     "execution_count": 14,
     "metadata": {},
     "output_type": "execute_result"
    }
   ],
   "source": [
    "trips_df.describe()"
   ]
  },
  {
   "cell_type": "code",
   "execution_count": 15,
   "id": "0cb930f5-5b6f-45be-805f-3ca6e6d19f01",
   "metadata": {},
   "outputs": [
    {
     "data": {
      "image/png": "[encoded data removed]",
      "text/plain": [
       "<Figure size 640x480 with 1 Axes>"
      ]
     },
     "metadata": {},
     "output_type": "display_data"
    }
   ],
   "source": [
    "plt.boxplot(trips_df['average_trips'])\n",
    "plt.show()"
   ]
  },
  {
   "cell_type": "markdown",
   "id": "98db35a5-2b5f-4056-ae04-903f3ae410df",
   "metadata": {},
   "source": [
    "Podemos encontrar valores atipicos, estos no los eliminamos ya que nos puede decir que esos lugares exclusivamente hacen mas viajes que los otros "
   ]
  },
  {
   "cell_type": "code",
   "execution_count": 17,
   "id": "bb37c722-6832-4b68-8a4f-4b3e491a7fdf",
   "metadata": {},
   "outputs": [
    {
     "data": {
      "text/html": [
       "<div>\n",
       "<style scoped>\n",
       "    .dataframe tbody tr th:only-of-type {\n",
       "        vertical-align: middle;\n",
       "    }\n",
       "\n",
       "    .dataframe tbody tr th {\n",
       "        vertical-align: top;\n",
       "    }\n",
       "\n",
       "    .dataframe thead th {\n",
       "        text-align: right;\n",
       "    }\n",
       "</style>\n",
       "<table border=\"1\" class=\"dataframe\">\n",
       "  <thead>\n",
       "    <tr style=\"text-align: right;\">\n",
       "      <th></th>\n",
       "      <th>dropoff_location_name</th>\n",
       "      <th>average_trips</th>\n",
       "    </tr>\n",
       "  </thead>\n",
       "  <tbody>\n",
       "    <tr>\n",
       "      <th>0</th>\n",
       "      <td>Loop</td>\n",
       "      <td>10727</td>\n",
       "    </tr>\n",
       "    <tr>\n",
       "      <th>1</th>\n",
       "      <td>River North</td>\n",
       "      <td>9523</td>\n",
       "    </tr>\n",
       "    <tr>\n",
       "      <th>2</th>\n",
       "      <td>Streeterville</td>\n",
       "      <td>6664</td>\n",
       "    </tr>\n",
       "    <tr>\n",
       "      <th>3</th>\n",
       "      <td>West Loop</td>\n",
       "      <td>5163</td>\n",
       "    </tr>\n",
       "    <tr>\n",
       "      <th>4</th>\n",
       "      <td>O'Hare</td>\n",
       "      <td>2546</td>\n",
       "    </tr>\n",
       "    <tr>\n",
       "      <th>5</th>\n",
       "      <td>Lake View</td>\n",
       "      <td>2420</td>\n",
       "    </tr>\n",
       "    <tr>\n",
       "      <th>6</th>\n",
       "      <td>Grant Park</td>\n",
       "      <td>2068</td>\n",
       "    </tr>\n",
       "    <tr>\n",
       "      <th>7</th>\n",
       "      <td>Museum Campus</td>\n",
       "      <td>1510</td>\n",
       "    </tr>\n",
       "    <tr>\n",
       "      <th>8</th>\n",
       "      <td>Gold Coast</td>\n",
       "      <td>1364</td>\n",
       "    </tr>\n",
       "    <tr>\n",
       "      <th>9</th>\n",
       "      <td>Sheffield &amp; DePaul</td>\n",
       "      <td>1259</td>\n",
       "    </tr>\n",
       "  </tbody>\n",
       "</table>\n",
       "</div>"
      ],
      "text/plain": [
       "  dropoff_location_name  average_trips\n",
       "0                  Loop          10727\n",
       "1           River North           9523\n",
       "2         Streeterville           6664\n",
       "3             West Loop           5163\n",
       "4                O'Hare           2546\n",
       "5             Lake View           2420\n",
       "6            Grant Park           2068\n",
       "7         Museum Campus           1510\n",
       "8            Gold Coast           1364\n",
       "9    Sheffield & DePaul           1259"
      ]
     },
     "execution_count": 17,
     "metadata": {},
     "output_type": "execute_result"
    }
   ],
   "source": [
    "top_10_destinos = trips_df.sort_values('average_trips', ascending=False).head(10)\n",
    "top_10_destinos"
   ]
  },
  {
   "cell_type": "code",
   "execution_count": 18,
   "id": "077aecee-90e5-4a8e-b256-a3b5ec3dbe9a",
   "metadata": {},
   "outputs": [],
   "source": [
    "top_10_destinos.set_index('dropoff_location_name', inplace = True)\n"
   ]
  },
  {
   "cell_type": "code",
   "execution_count": 19,
   "id": "637c9fac-49c0-4712-b218-32d942e2b357",
   "metadata": {},
   "outputs": [
    {
     "data": {
      "image/png": "[encoded data removed]",
      "text/plain": [
       "<Figure size 640x480 with 1 Axes>"
      ]
     },
     "metadata": {},
     "output_type": "display_data"
    }
   ],
   "source": [
    "top_10_destinos.plot(kind='barh', color = 'green')\n",
    "plt.title('Numero promedio de viajes por direccion de salida')\n",
    "plt.xlabel('Viajes promedio')\n",
    "plt.ylabel('Localizacion')\n",
    "plt.show()"
   ]
  },
  {
   "cell_type": "markdown",
   "id": "04130648-0f85-4b55-829b-023b11be8651",
   "metadata": {},
   "source": [
    "En la grafica mostramos un top 10 entre  una relacion de los viajes con respecto a la localizacion donde podemos observar que loop es el lugar con mas de 1000 viajes promedio"
   ]
  },
  {
   "cell_type": "code",
   "execution_count": 21,
   "id": "41e8cd22-8135-464a-b20c-9211d2087811",
   "metadata": {},
   "outputs": [],
   "source": [
    "data_viaje_loop_ohara = pd.read_csv('moved_project_sql_result_07.csv')"
   ]
  },
  {
   "cell_type": "code",
   "execution_count": 22,
   "id": "672032c4-6e25-47ed-9eaf-bb7587c56a03",
   "metadata": {},
   "outputs": [
    {
     "name": "stdout",
     "output_type": "stream",
     "text": [
      "<class 'pandas.core.frame.DataFrame'>\n",
      "RangeIndex: 1068 entries, 0 to 1067\n",
      "Data columns (total 3 columns):\n",
      " #   Column              Non-Null Count  Dtype  \n",
      "---  ------              --------------  -----  \n",
      " 0   start_ts            1068 non-null   object \n",
      " 1   weather_conditions  1068 non-null   object \n",
      " 2   duration_seconds    1068 non-null   float64\n",
      "dtypes: float64(1), object(2)\n",
      "memory usage: 25.2+ KB\n"
     ]
    }
   ],
   "source": [
    "data_viaje_loop_ohara.info()"
   ]
  },
  {
   "cell_type": "code",
   "execution_count": 23,
   "id": "57619ad3-5960-44e3-9dc1-3278f24e211b",
   "metadata": {},
   "outputs": [
    {
     "data": {
      "text/html": [
       "<div>\n",
       "<style scoped>\n",
       "    .dataframe tbody tr th:only-of-type {\n",
       "        vertical-align: middle;\n",
       "    }\n",
       "\n",
       "    .dataframe tbody tr th {\n",
       "        vertical-align: top;\n",
       "    }\n",
       "\n",
       "    .dataframe thead th {\n",
       "        text-align: right;\n",
       "    }\n",
       "</style>\n",
       "<table border=\"1\" class=\"dataframe\">\n",
       "  <thead>\n",
       "    <tr style=\"text-align: right;\">\n",
       "      <th></th>\n",
       "      <th>start_ts</th>\n",
       "      <th>weather_conditions</th>\n",
       "      <th>duration_seconds</th>\n",
       "    </tr>\n",
       "  </thead>\n",
       "  <tbody>\n",
       "    <tr>\n",
       "      <th>0</th>\n",
       "      <td>2017-11-25 16:00:00</td>\n",
       "      <td>Good</td>\n",
       "      <td>2410.0</td>\n",
       "    </tr>\n",
       "    <tr>\n",
       "      <th>1</th>\n",
       "      <td>2017-11-25 14:00:00</td>\n",
       "      <td>Good</td>\n",
       "      <td>1920.0</td>\n",
       "    </tr>\n",
       "    <tr>\n",
       "      <th>2</th>\n",
       "      <td>2017-11-25 12:00:00</td>\n",
       "      <td>Good</td>\n",
       "      <td>1543.0</td>\n",
       "    </tr>\n",
       "    <tr>\n",
       "      <th>3</th>\n",
       "      <td>2017-11-04 10:00:00</td>\n",
       "      <td>Good</td>\n",
       "      <td>2512.0</td>\n",
       "    </tr>\n",
       "    <tr>\n",
       "      <th>4</th>\n",
       "      <td>2017-11-11 07:00:00</td>\n",
       "      <td>Good</td>\n",
       "      <td>1440.0</td>\n",
       "    </tr>\n",
       "  </tbody>\n",
       "</table>\n",
       "</div>"
      ],
      "text/plain": [
       "              start_ts weather_conditions  duration_seconds\n",
       "0  2017-11-25 16:00:00               Good            2410.0\n",
       "1  2017-11-25 14:00:00               Good            1920.0\n",
       "2  2017-11-25 12:00:00               Good            1543.0\n",
       "3  2017-11-04 10:00:00               Good            2512.0\n",
       "4  2017-11-11 07:00:00               Good            1440.0"
      ]
     },
     "execution_count": 23,
     "metadata": {},
     "output_type": "execute_result"
    }
   ],
   "source": [
    "data_viaje_loop_ohara.head()"
   ]
  },
  {
   "cell_type": "code",
   "execution_count": 24,
   "id": "0300c70a-7eec-45cb-8bfd-bb43c6b48126",
   "metadata": {},
   "outputs": [
    {
     "data": {
      "text/html": [
       "<div>\n",
       "<style scoped>\n",
       "    .dataframe tbody tr th:only-of-type {\n",
       "        vertical-align: middle;\n",
       "    }\n",
       "\n",
       "    .dataframe tbody tr th {\n",
       "        vertical-align: top;\n",
       "    }\n",
       "\n",
       "    .dataframe thead th {\n",
       "        text-align: right;\n",
       "    }\n",
       "</style>\n",
       "<table border=\"1\" class=\"dataframe\">\n",
       "  <thead>\n",
       "    <tr style=\"text-align: right;\">\n",
       "      <th></th>\n",
       "      <th>duration_seconds</th>\n",
       "    </tr>\n",
       "  </thead>\n",
       "  <tbody>\n",
       "    <tr>\n",
       "      <th>count</th>\n",
       "      <td>1068.000000</td>\n",
       "    </tr>\n",
       "    <tr>\n",
       "      <th>mean</th>\n",
       "      <td>2071.731273</td>\n",
       "    </tr>\n",
       "    <tr>\n",
       "      <th>std</th>\n",
       "      <td>769.461125</td>\n",
       "    </tr>\n",
       "    <tr>\n",
       "      <th>min</th>\n",
       "      <td>0.000000</td>\n",
       "    </tr>\n",
       "    <tr>\n",
       "      <th>25%</th>\n",
       "      <td>1438.250000</td>\n",
       "    </tr>\n",
       "    <tr>\n",
       "      <th>50%</th>\n",
       "      <td>1980.000000</td>\n",
       "    </tr>\n",
       "    <tr>\n",
       "      <th>75%</th>\n",
       "      <td>2580.000000</td>\n",
       "    </tr>\n",
       "    <tr>\n",
       "      <th>max</th>\n",
       "      <td>7440.000000</td>\n",
       "    </tr>\n",
       "  </tbody>\n",
       "</table>\n",
       "</div>"
      ],
      "text/plain": [
       "       duration_seconds\n",
       "count       1068.000000\n",
       "mean        2071.731273\n",
       "std          769.461125\n",
       "min            0.000000\n",
       "25%         1438.250000\n",
       "50%         1980.000000\n",
       "75%         2580.000000\n",
       "max         7440.000000"
      ]
     },
     "execution_count": 24,
     "metadata": {},
     "output_type": "execute_result"
    }
   ],
   "source": [
    "data_viaje_loop_ohara.describe()"
   ]
  },
  {
   "cell_type": "code",
   "execution_count": 25,
   "id": "005d9232-882d-4542-a169-cdf161e2d0fa",
   "metadata": {},
   "outputs": [
    {
     "data": {
      "text/plain": [
       "<AxesSubplot:xlabel='duration_seconds', ylabel='weather_conditions'>"
      ]
     },
     "execution_count": 25,
     "metadata": {},
     "output_type": "execute_result"
    },
    {
     "data": {
      "image/png": "[encoded data removed]",
      "text/plain": [
       "<Figure size 640x480 with 1 Axes>"
      ]
     },
     "metadata": {},
     "output_type": "display_data"
    }
   ],
   "source": [
    "sns.boxplot(x='duration_seconds', y= 'weather_conditions', data =data_viaje_loop_ohara)"
   ]
  },
  {
   "cell_type": "markdown",
   "id": "bfd9f301-2702-4ec4-8275-e036a9b5d982",
   "metadata": {},
   "source": [
    "Estos graficos de cajas me muestra la relacion entre la condiciones del clima y la duracion de lo cual, cuando hay un clima malo, me lleva mas tiempo "
   ]
  },
  {
   "cell_type": "code",
   "execution_count": 27,
   "id": "dc639188-4939-49b5-b716-19615d832895",
   "metadata": {},
   "outputs": [
    {
     "data": {
      "text/plain": [
       "<AxesSubplot:xlabel='duration_seconds'>"
      ]
     },
     "execution_count": 27,
     "metadata": {},
     "output_type": "execute_result"
    },
    {
     "data": {
      "image/png": "[encoded data removed]",
      "text/plain": [
       "<Figure size 640x480 with 1 Axes>"
      ]
     },
     "metadata": {},
     "output_type": "display_data"
    }
   ],
   "source": [
    "sns.boxplot(x='duration_seconds', data =data_viaje_loop_ohara)"
   ]
  },
  {
   "cell_type": "code",
   "execution_count": 28,
   "id": "1c09b162-be04-455d-b7a6-601b72b4df86",
   "metadata": {},
   "outputs": [],
   "source": [
    "Q1 = data_viaje_loop_ohara['duration_seconds'].quantile(0.25)"
   ]
  },
  {
   "cell_type": "code",
   "execution_count": 29,
   "id": "93d511b7-457d-4c17-9b42-b77a90734799",
   "metadata": {},
   "outputs": [],
   "source": [
    "Q3 = data_viaje_loop_ohara['duration_seconds'].quantile(0.75)"
   ]
  },
  {
   "cell_type": "code",
   "execution_count": 30,
   "id": "1b96093b-289d-488d-81dd-570409f41af5",
   "metadata": {},
   "outputs": [],
   "source": [
    "IQR = Q3 - Q1"
   ]
  },
  {
   "cell_type": "code",
   "execution_count": 31,
   "id": "7b0ad42c-fde9-4fee-95fb-9edb2c6bb30a",
   "metadata": {},
   "outputs": [],
   "source": [
    "LIMITE_SUPERIOR = Q3 + (1.5*IQR)"
   ]
  },
  {
   "cell_type": "code",
   "execution_count": 32,
   "id": "0ef58e75-f7ce-48f0-b006-b29c1131880a",
   "metadata": {},
   "outputs": [
    {
     "data": {
      "text/plain": [
       "4292.625"
      ]
     },
     "execution_count": 32,
     "metadata": {},
     "output_type": "execute_result"
    }
   ],
   "source": [
    "LIMITE_SUPERIOR"
   ]
  },
  {
   "cell_type": "markdown",
   "id": "6b175917-7b66-4a98-8f11-aa483d5541be",
   "metadata": {},
   "source": [
    "EN ESTA GRAFICA PODEMOS OBSERVAR QUE LOS OUTLIERS ESTAN POR ARRIBE DE 4292.625"
   ]
  },
  {
   "cell_type": "code",
   "execution_count": 34,
   "id": "992fbe35-659a-4e78-b82c-0fe894e7e573",
   "metadata": {},
   "outputs": [],
   "source": [
    "date_hipotesis= data_viaje_loop_ohara.query('duration_seconds <= @LIMITE_SUPERIOR')"
   ]
  },
  {
   "cell_type": "code",
   "execution_count": 35,
   "id": "75ea19fb-24ee-41b8-92bd-4337c126d8ec",
   "metadata": {},
   "outputs": [
    {
     "data": {
      "text/plain": [
       "<AxesSubplot:xlabel='duration_seconds'>"
      ]
     },
     "execution_count": 35,
     "metadata": {},
     "output_type": "execute_result"
    },
    {
     "data": {
      "image/png": "[encoded data removed]",
      "text/plain": [
       "<Figure size 640x480 with 1 Axes>"
      ]
     },
     "metadata": {},
     "output_type": "display_data"
    }
   ],
   "source": [
    "sns.boxplot(x='duration_seconds', data=date_hipotesis)"
   ]
  },
  {
   "cell_type": "code",
   "execution_count": 36,
   "id": "665bad42-93d2-46ba-ab44-cf488bd9eb1e",
   "metadata": {},
   "outputs": [
    {
     "data": {
      "text/plain": [
       "<AxesSubplot:xlabel='duration_seconds', ylabel='weather_conditions'>"
      ]
     },
     "execution_count": 36,
     "metadata": {},
     "output_type": "execute_result"
    },
    {
     "data": {
      "image/png": "[encoded data removed]",
      "text/plain": [
       "<Figure size 640x480 with 1 Axes>"
      ]
     },
     "metadata": {},
     "output_type": "display_data"
    }
   ],
   "source": [
    "sns.boxplot(x='duration_seconds', y= 'weather_conditions', data = date_hipotesis)"
   ]
  },
  {
   "cell_type": "markdown",
   "id": "f6a2a525-6682-49e2-ad7d-fb777fc8b4ad",
   "metadata": {},
   "source": [
    "Estos graficos de cajas nosmuestran la relacion entre las condiones climaticas y la duration en segundos donde la media para el clima bueno es menor a 200 y para la mala ('bad'), se encunentra cerca de 3000"
   ]
  },
  {
   "cell_type": "code",
   "execution_count": 38,
   "id": "9a43d681-6425-4e41-b341-f8591ffbe18c",
   "metadata": {},
   "outputs": [
    {
     "name": "stdout",
     "output_type": "stream",
     "text": [
      "1.2430038032744411e-13\n"
     ]
    }
   ],
   "source": [
    "from scipy import stats as st\n",
    "alpha= 0.05\n",
    "sample = date_hipotesis.query('weather_conditions == \"Good\"')\n",
    "rain_sample = date_hipotesis.query('weather_conditions == \"Bad\"')\n",
    "\n",
    "results = st.ttest_ind(sample.duration_seconds, rain_sample.duration_seconds)\n",
    "\n",
    "print(results.pvalue)"
   ]
  },
  {
   "cell_type": "markdown",
   "id": "7d07b748",
   "metadata": {},
   "source": [
    "ho = el valor de alpha es mayor a results.pvalue\n",
    "h1 = el valor de alpha es menor a results.pval\n",
    "se rechaza la hipotesis nula ya los pormedios son diferente ya que aumenta la duracion de segundos cuando el clima es malo "
   ]
  },
  {
   "cell_type": "code",
   "execution_count": 40,
   "id": "4db42657-f3c8-4d8f-a338-817a01482b26",
   "metadata": {},
   "outputs": [
    {
     "name": "stdout",
     "output_type": "stream",
     "text": [
      "0.6196707782686355\n"
     ]
    }
   ],
   "source": [
    "results_levene= st.levene(sample.duration_seconds, rain_sample.duration_seconds)\n",
    "print(results_levene.pvalue)"
   ]
  },
  {
   "cell_type": "markdown",
   "id": "3c283ced-8533-443b-b4df-2b6a484d963b",
   "metadata": {},
   "source": [
    "No se puede rechazar ya que la prueba levene no es menor al alpha , por tanto las varianzas son iguales"
   ]
  },
  {
   "cell_type": "markdown",
   "id": "2f4343dd-0dc0-4535-ab3c-dcc1e1ac99e1",
   "metadata": {},
   "source": [
    "### Conclusión"
   ]
  },
  {
   "cell_type": "code",
   "execution_count": 42,
   "id": "89605720-ca6b-4d9f-a69e-78e4c9832cf3",
   "metadata": {},
   "outputs": [],
   "source": [
    "los datos utilizados en este analisis son los viajes, empresas, lugares y climas y la relacion que existe entre estos. Analizamos cuales son las empresas con mas numeros de viejes y estos viejes donde concurren masa, demas de que el clima es un factor externo peor que si afecta al analisis , ya que si  existe un buen clima la duracion de vieje es menor y si el malo este tiende a durar mas"
   ]
  },
  {
   "cell_type": "markdown",
   "id": "8032d25f",
   "metadata": {},
   "source": [
    "<div class=\"alert alert-block alert-warning\">\n",
    "<b>Comentario del revisor (1ra Iteracion)</b> <a class=“tocSkip”></a>\n",
    "\n",
    "Excelente Alvaro! Realizaste una correcta aplicación de las pruebas estadísticas para identificar si la hipótesis de la duración de los viajes era estadísticamente significativa en su diferencia. Esto es importante especialmente en proyectos de pruebas AB donde tienes que determinar que grupo experimental tuvo mejor resultado, así que estas pruebas serán una muy buena herramienta y es importante que comprendas su uso e interpretación.\n",
    "    \n",
    "Te recomendaría para tus próximos proyectos utilizar los títulos de Markdown para separar cada sección así cómo cada uno de tus comentarios igual en una celda tipo Markdown en lugar de código. Y sobre todo mantén un orden en tu proyecto que sea claro, es decir, la importación de los datos se debe realizar una sola celda o sección, en otra se debe realizar la exploración, en otra las pruebas de hipótesis y así con el resto de secciones que se necesite.\n",
    "    \n",
    "Saludos!\n",
    "</div>"
   ]
  }
 ],
 "metadata": {
  "ExecuteTimeLog": [
   {
    "duration": 795,
    "start_time": "2024-10-27T19:21:39.477Z"
   },
   {
    "duration": 12,
    "start_time": "2024-10-27T19:21:40.274Z"
   },
   {
    "duration": 9,
    "start_time": "2024-10-27T19:21:40.287Z"
   },
   {
    "duration": 8,
    "start_time": "2024-10-27T19:21:40.297Z"
   },
   {
    "duration": 8,
    "start_time": "2024-10-27T19:21:40.308Z"
   },
   {
    "duration": 6,
    "start_time": "2024-10-27T19:21:40.318Z"
   },
   {
    "duration": 2,
    "start_time": "2024-10-27T19:21:40.326Z"
   },
   {
    "duration": 192,
    "start_time": "2024-10-27T19:21:40.330Z"
   },
   {
    "duration": 3,
    "start_time": "2024-10-27T19:21:40.523Z"
   },
   {
    "duration": 8,
    "start_time": "2024-10-27T19:21:40.528Z"
   },
   {
    "duration": 2,
    "start_time": "2024-10-27T19:21:40.539Z"
   },
   {
    "duration": 27,
    "start_time": "2024-10-27T19:21:40.543Z"
   },
   {
    "duration": 6,
    "start_time": "2024-10-27T19:21:40.572Z"
   },
   {
    "duration": 9,
    "start_time": "2024-10-27T19:21:40.581Z"
   },
   {
    "duration": 92,
    "start_time": "2024-10-27T19:21:40.592Z"
   },
   {
    "duration": 2,
    "start_time": "2024-10-27T19:21:40.686Z"
   },
   {
    "duration": 6,
    "start_time": "2024-10-27T19:21:40.690Z"
   },
   {
    "duration": 3,
    "start_time": "2024-10-27T19:21:40.698Z"
   },
   {
    "duration": 207,
    "start_time": "2024-10-27T19:21:40.703Z"
   },
   {
    "duration": 2,
    "start_time": "2024-10-27T19:21:40.912Z"
   },
   {
    "duration": 7,
    "start_time": "2024-10-27T19:21:40.916Z"
   },
   {
    "duration": 8,
    "start_time": "2024-10-27T19:21:40.925Z"
   },
   {
    "duration": 7,
    "start_time": "2024-10-27T19:21:40.935Z"
   },
   {
    "duration": 32,
    "start_time": "2024-10-27T19:21:40.944Z"
   },
   {
    "duration": 106,
    "start_time": "2024-10-27T19:21:40.978Z"
   },
   {
    "duration": 2,
    "start_time": "2024-10-27T19:21:41.086Z"
   },
   {
    "duration": 106,
    "start_time": "2024-10-27T19:21:41.090Z"
   },
   {
    "duration": 3,
    "start_time": "2024-10-27T19:21:41.198Z"
   },
   {
    "duration": 5,
    "start_time": "2024-10-27T19:21:41.203Z"
   },
   {
    "duration": 3,
    "start_time": "2024-10-27T19:21:41.209Z"
   },
   {
    "duration": 3,
    "start_time": "2024-10-27T19:21:41.214Z"
   },
   {
    "duration": 3,
    "start_time": "2024-10-27T19:21:41.219Z"
   },
   {
    "duration": 3,
    "start_time": "2024-10-27T19:21:41.224Z"
   },
   {
    "duration": 42,
    "start_time": "2024-10-27T19:21:41.228Z"
   },
   {
    "duration": 70,
    "start_time": "2024-10-27T19:21:41.271Z"
   },
   {
    "duration": 103,
    "start_time": "2024-10-27T19:21:41.343Z"
   },
   {
    "duration": 3,
    "start_time": "2024-10-27T19:21:41.448Z"
   },
   {
    "duration": 21,
    "start_time": "2024-10-27T19:21:41.452Z"
   },
   {
    "duration": 2,
    "start_time": "2024-10-27T19:21:41.474Z"
   },
   {
    "duration": 3,
    "start_time": "2024-10-27T19:21:41.478Z"
   },
   {
    "duration": 2,
    "start_time": "2024-10-27T19:21:41.485Z"
   },
   {
    "duration": 2,
    "start_time": "2024-10-27T19:21:41.490Z"
   }
  ],
  "kernelspec": {
   "display_name": "Python 3 (ipykernel)",
   "language": "python",
   "name": "python3"
  },
  "language_info": {
   "codemirror_mode": {
    "name": "ipython",
    "version": 3
   },
   "file_extension": ".py",
   "mimetype": "text/x-python",
   "name": "python",
   "nbconvert_exporter": "python",
   "pygments_lexer": "ipython3",
   "version": "3.11.7"
  },
  "toc": {
   "base_numbering": 1,
   "nav_menu": {},
   "number_sections": true,
   "sideBar": true,
   "skip_h1_title": true,
   "title_cell": "Table of Contents",
   "title_sidebar": "Contents",
   "toc_cell": false,
   "toc_position": {},
   "toc_section_display": true,
   "toc_window_display": false
  }
 },
 "nbformat": 4,
 "nbformat_minor": 5
}
