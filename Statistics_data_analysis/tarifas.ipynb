{
 "cells": [
  {
   "cell_type": "markdown",
   "metadata": {
    "id": "3rYiDeEH0q0f"
   },
   "source": [
    "# ¿Cuál es la mejor tarifa?\n",
    "\n",
    "Trabajas como analista para el operador de telecomunicaciones Megaline. La empresa ofrece a sus clientes dos tarifas de prepago, Surf y Ultimate. El departamento comercial quiere saber cuál de las tarifas genera más ingresos para poder ajustar el presupuesto de publicidad.\n",
    "\n",
    "Vas a realizar un análisis preliminar de las tarifas basado en una selección de clientes relativamente pequeña. Tendrás los datos de 500 clientes de Megaline: quiénes son los clientes, de dónde son, qué tarifa usan, así como la cantidad de llamadas que hicieron y los mensajes de texto que enviaron en 2018. Tu trabajo es analizar el comportamiento de los clientes y determinar qué tarifa de prepago genera más ingresos."
   ]
  },
  {
   "cell_type": "markdown",
   "metadata": {
    "id": "MQi4IPy70q0y"
   },
   "source": [
    "## Inicialización"
   ]
  },
  {
   "cell_type": "code",
   "execution_count": 1,
   "metadata": {
    "id": "MtYIuBxu0q0z"
   },
   "outputs": [],
   "source": [
    "# Cargar todas las librerías\n",
    "import pandas as pd\n",
    "import numpy as np\n",
    "import matplotlib as plt\n"
   ]
  },
  {
   "cell_type": "markdown",
   "metadata": {
    "id": "4ysWWC5i0q00"
   },
   "source": [
    "## Cargar datos"
   ]
  },
  {
   "cell_type": "code",
   "execution_count": 2,
   "metadata": {
    "id": "CCqPW7rS0q01"
   },
   "outputs": [],
   "source": [
    "# Carga los archivos de datos en diferentes DataFrames\n",
    "calls=pd.read_csv(\"./Dataset/megaline_calls.csv\")\n",
    "internet=pd.read_csv(\"./Dataset/megaline_internet.csv\")\n",
    "messages=pd.read_csv(\"./Dataset/megaline_messages.csv\")\n",
    "users=pd.read_csv(\"./Dataset/megaline_users.csv\")\n",
    "plans=pd.read_csv(\"./Dataset/megaline_plans.csv\")"
   ]
  },
  {
   "cell_type": "markdown",
   "metadata": {
    "id": "69qqoJ3r0q01"
   },
   "source": [
    "## Preparar los datos"
   ]
  },
  {
   "cell_type": "markdown",
   "metadata": {
    "id": "ohBhimvH0q01"
   },
   "source": [
    "## Tarifas"
   ]
  },
  {
   "cell_type": "code",
   "execution_count": 3,
   "metadata": {
    "id": "GptqP3Q40q02"
   },
   "outputs": [
    {
     "name": "stdout",
     "output_type": "stream",
     "text": [
      "<class 'pandas.core.frame.DataFrame'>\n",
      "RangeIndex: 2 entries, 0 to 1\n",
      "Data columns (total 8 columns):\n",
      " #   Column                 Non-Null Count  Dtype  \n",
      "---  ------                 --------------  -----  \n",
      " 0   messages_included      2 non-null      int64  \n",
      " 1   mb_per_month_included  2 non-null      int64  \n",
      " 2   minutes_included       2 non-null      int64  \n",
      " 3   usd_monthly_pay        2 non-null      int64  \n",
      " 4   usd_per_gb             2 non-null      int64  \n",
      " 5   usd_per_message        2 non-null      float64\n",
      " 6   usd_per_minute         2 non-null      float64\n",
      " 7   plan_name              2 non-null      object \n",
      "dtypes: float64(2), int64(5), object(1)\n",
      "memory usage: 260.0+ bytes\n",
      "None\n"
     ]
    }
   ],
   "source": [
    "print(plans.info())"
   ]
  },
  {
   "cell_type": "code",
   "execution_count": 4,
   "metadata": {},
   "outputs": [
    {
     "data": {
      "text/html": [
       "<div>\n",
       "<style scoped>\n",
       "    .dataframe tbody tr th:only-of-type {\n",
       "        vertical-align: middle;\n",
       "    }\n",
       "\n",
       "    .dataframe tbody tr th {\n",
       "        vertical-align: top;\n",
       "    }\n",
       "\n",
       "    .dataframe thead th {\n",
       "        text-align: right;\n",
       "    }\n",
       "</style>\n",
       "<table border=\"1\" class=\"dataframe\">\n",
       "  <thead>\n",
       "    <tr style=\"text-align: right;\">\n",
       "      <th></th>\n",
       "      <th>messages_included</th>\n",
       "      <th>mb_per_month_included</th>\n",
       "      <th>minutes_included</th>\n",
       "      <th>usd_monthly_pay</th>\n",
       "      <th>usd_per_gb</th>\n",
       "      <th>usd_per_message</th>\n",
       "      <th>usd_per_minute</th>\n",
       "      <th>plan_name</th>\n",
       "    </tr>\n",
       "  </thead>\n",
       "  <tbody>\n",
       "    <tr>\n",
       "      <th>0</th>\n",
       "      <td>50</td>\n",
       "      <td>15360</td>\n",
       "      <td>500</td>\n",
       "      <td>20</td>\n",
       "      <td>10</td>\n",
       "      <td>0.03</td>\n",
       "      <td>0.03</td>\n",
       "      <td>surf</td>\n",
       "    </tr>\n",
       "    <tr>\n",
       "      <th>1</th>\n",
       "      <td>1000</td>\n",
       "      <td>30720</td>\n",
       "      <td>3000</td>\n",
       "      <td>70</td>\n",
       "      <td>7</td>\n",
       "      <td>0.01</td>\n",
       "      <td>0.01</td>\n",
       "      <td>ultimate</td>\n",
       "    </tr>\n",
       "  </tbody>\n",
       "</table>\n",
       "</div>"
      ],
      "text/plain": [
       "   messages_included  mb_per_month_included  minutes_included  \\\n",
       "0                 50                  15360               500   \n",
       "1               1000                  30720              3000   \n",
       "\n",
       "   usd_monthly_pay  usd_per_gb  usd_per_message  usd_per_minute plan_name  \n",
       "0               20          10             0.03            0.03      surf  \n",
       "1               70           7             0.01            0.01  ultimate  "
      ]
     },
     "execution_count": 4,
     "metadata": {},
     "output_type": "execute_result"
    }
   ],
   "source": [
    "## tener en cuenta los pagos de mg y gb\n",
    "plans.head()"
   ]
  },
  {
   "cell_type": "code",
   "execution_count": 5,
   "metadata": {},
   "outputs": [
    {
     "data": {
      "text/html": [
       "<div>\n",
       "<style scoped>\n",
       "    .dataframe tbody tr th:only-of-type {\n",
       "        vertical-align: middle;\n",
       "    }\n",
       "\n",
       "    .dataframe tbody tr th {\n",
       "        vertical-align: top;\n",
       "    }\n",
       "\n",
       "    .dataframe thead th {\n",
       "        text-align: right;\n",
       "    }\n",
       "</style>\n",
       "<table border=\"1\" class=\"dataframe\">\n",
       "  <thead>\n",
       "    <tr style=\"text-align: right;\">\n",
       "      <th></th>\n",
       "      <th>messages_included</th>\n",
       "      <th>mb_per_month_included</th>\n",
       "      <th>minutes_included</th>\n",
       "      <th>usd_monthly_pay</th>\n",
       "      <th>usd_per_gb</th>\n",
       "      <th>usd_per_message</th>\n",
       "      <th>usd_per_minute</th>\n",
       "    </tr>\n",
       "  </thead>\n",
       "  <tbody>\n",
       "    <tr>\n",
       "      <th>count</th>\n",
       "      <td>2.000000</td>\n",
       "      <td>2.000000</td>\n",
       "      <td>2.000000</td>\n",
       "      <td>2.000000</td>\n",
       "      <td>2.00000</td>\n",
       "      <td>2.000000</td>\n",
       "      <td>2.000000</td>\n",
       "    </tr>\n",
       "    <tr>\n",
       "      <th>mean</th>\n",
       "      <td>525.000000</td>\n",
       "      <td>23040.000000</td>\n",
       "      <td>1750.000000</td>\n",
       "      <td>45.000000</td>\n",
       "      <td>8.50000</td>\n",
       "      <td>0.020000</td>\n",
       "      <td>0.020000</td>\n",
       "    </tr>\n",
       "    <tr>\n",
       "      <th>std</th>\n",
       "      <td>671.751442</td>\n",
       "      <td>10861.160159</td>\n",
       "      <td>1767.766953</td>\n",
       "      <td>35.355339</td>\n",
       "      <td>2.12132</td>\n",
       "      <td>0.014142</td>\n",
       "      <td>0.014142</td>\n",
       "    </tr>\n",
       "    <tr>\n",
       "      <th>min</th>\n",
       "      <td>50.000000</td>\n",
       "      <td>15360.000000</td>\n",
       "      <td>500.000000</td>\n",
       "      <td>20.000000</td>\n",
       "      <td>7.00000</td>\n",
       "      <td>0.010000</td>\n",
       "      <td>0.010000</td>\n",
       "    </tr>\n",
       "    <tr>\n",
       "      <th>25%</th>\n",
       "      <td>287.500000</td>\n",
       "      <td>19200.000000</td>\n",
       "      <td>1125.000000</td>\n",
       "      <td>32.500000</td>\n",
       "      <td>7.75000</td>\n",
       "      <td>0.015000</td>\n",
       "      <td>0.015000</td>\n",
       "    </tr>\n",
       "    <tr>\n",
       "      <th>50%</th>\n",
       "      <td>525.000000</td>\n",
       "      <td>23040.000000</td>\n",
       "      <td>1750.000000</td>\n",
       "      <td>45.000000</td>\n",
       "      <td>8.50000</td>\n",
       "      <td>0.020000</td>\n",
       "      <td>0.020000</td>\n",
       "    </tr>\n",
       "    <tr>\n",
       "      <th>75%</th>\n",
       "      <td>762.500000</td>\n",
       "      <td>26880.000000</td>\n",
       "      <td>2375.000000</td>\n",
       "      <td>57.500000</td>\n",
       "      <td>9.25000</td>\n",
       "      <td>0.025000</td>\n",
       "      <td>0.025000</td>\n",
       "    </tr>\n",
       "    <tr>\n",
       "      <th>max</th>\n",
       "      <td>1000.000000</td>\n",
       "      <td>30720.000000</td>\n",
       "      <td>3000.000000</td>\n",
       "      <td>70.000000</td>\n",
       "      <td>10.00000</td>\n",
       "      <td>0.030000</td>\n",
       "      <td>0.030000</td>\n",
       "    </tr>\n",
       "  </tbody>\n",
       "</table>\n",
       "</div>"
      ],
      "text/plain": [
       "       messages_included  mb_per_month_included  minutes_included  \\\n",
       "count           2.000000               2.000000          2.000000   \n",
       "mean          525.000000           23040.000000       1750.000000   \n",
       "std           671.751442           10861.160159       1767.766953   \n",
       "min            50.000000           15360.000000        500.000000   \n",
       "25%           287.500000           19200.000000       1125.000000   \n",
       "50%           525.000000           23040.000000       1750.000000   \n",
       "75%           762.500000           26880.000000       2375.000000   \n",
       "max          1000.000000           30720.000000       3000.000000   \n",
       "\n",
       "       usd_monthly_pay  usd_per_gb  usd_per_message  usd_per_minute  \n",
       "count         2.000000     2.00000         2.000000        2.000000  \n",
       "mean         45.000000     8.50000         0.020000        0.020000  \n",
       "std          35.355339     2.12132         0.014142        0.014142  \n",
       "min          20.000000     7.00000         0.010000        0.010000  \n",
       "25%          32.500000     7.75000         0.015000        0.015000  \n",
       "50%          45.000000     8.50000         0.020000        0.020000  \n",
       "75%          57.500000     9.25000         0.025000        0.025000  \n",
       "max          70.000000    10.00000         0.030000        0.030000  "
      ]
     },
     "execution_count": 5,
     "metadata": {},
     "output_type": "execute_result"
    }
   ],
   "source": [
    "plans.describe()"
   ]
  },
  {
   "cell_type": "code",
   "execution_count": 6,
   "metadata": {},
   "outputs": [
    {
     "data": {
      "text/html": [
       "<div>\n",
       "<style scoped>\n",
       "    .dataframe tbody tr th:only-of-type {\n",
       "        vertical-align: middle;\n",
       "    }\n",
       "\n",
       "    .dataframe tbody tr th {\n",
       "        vertical-align: top;\n",
       "    }\n",
       "\n",
       "    .dataframe thead th {\n",
       "        text-align: right;\n",
       "    }\n",
       "</style>\n",
       "<table border=\"1\" class=\"dataframe\">\n",
       "  <thead>\n",
       "    <tr style=\"text-align: right;\">\n",
       "      <th></th>\n",
       "      <th>messages_included</th>\n",
       "      <th>mb_per_month_included</th>\n",
       "      <th>minutes_included</th>\n",
       "      <th>usd_monthly_pay</th>\n",
       "      <th>usd_per_gb</th>\n",
       "      <th>usd_per_message</th>\n",
       "      <th>usd_per_minute</th>\n",
       "      <th>plan_name</th>\n",
       "    </tr>\n",
       "  </thead>\n",
       "  <tbody>\n",
       "    <tr>\n",
       "      <th>0</th>\n",
       "      <td>False</td>\n",
       "      <td>False</td>\n",
       "      <td>False</td>\n",
       "      <td>False</td>\n",
       "      <td>False</td>\n",
       "      <td>False</td>\n",
       "      <td>False</td>\n",
       "      <td>False</td>\n",
       "    </tr>\n",
       "    <tr>\n",
       "      <th>1</th>\n",
       "      <td>False</td>\n",
       "      <td>False</td>\n",
       "      <td>False</td>\n",
       "      <td>False</td>\n",
       "      <td>False</td>\n",
       "      <td>False</td>\n",
       "      <td>False</td>\n",
       "      <td>False</td>\n",
       "    </tr>\n",
       "  </tbody>\n",
       "</table>\n",
       "</div>"
      ],
      "text/plain": [
       "   messages_included  mb_per_month_included  minutes_included  \\\n",
       "0              False                  False             False   \n",
       "1              False                  False             False   \n",
       "\n",
       "   usd_monthly_pay  usd_per_gb  usd_per_message  usd_per_minute  plan_name  \n",
       "0            False       False            False           False      False  \n",
       "1            False       False            False           False      False  "
      ]
     },
     "execution_count": 6,
     "metadata": {},
     "output_type": "execute_result"
    }
   ],
   "source": [
    "plans.isnull()"
   ]
  },
  {
   "cell_type": "code",
   "execution_count": 7,
   "metadata": {},
   "outputs": [
    {
     "data": {
      "text/plain": [
       "messages_included        0\n",
       "mb_per_month_included    0\n",
       "minutes_included         0\n",
       "usd_monthly_pay          0\n",
       "usd_per_gb               0\n",
       "usd_per_message          0\n",
       "usd_per_minute           0\n",
       "plan_name                0\n",
       "dtype: int64"
      ]
     },
     "execution_count": 7,
     "metadata": {},
     "output_type": "execute_result"
    }
   ],
   "source": [
    "plans.isnull().sum()"
   ]
  },
  {
   "cell_type": "markdown",
   "metadata": {},
   "source": [
    "existen 8 columnas y dos entradas (planes) \"ultimate\" y \"susf\" en pirmera instancia no aparecen datos nulos pero verificamos con isnull para saber si no los hay o si existen datos nulos, con lo cual confimamos que no existen"
   ]
  },
  {
   "cell_type": "code",
   "execution_count": 8,
   "metadata": {},
   "outputs": [
    {
     "data": {
      "text/plain": [
       "0"
      ]
     },
     "execution_count": 8,
     "metadata": {},
     "output_type": "execute_result"
    }
   ],
   "source": [
    "plans.duplicated().sum()"
   ]
  },
  {
   "cell_type": "markdown",
   "metadata": {},
   "source": [
    "Con el metodo duplicated podemos confirmar que no hay datos duplicados"
   ]
  },
  {
   "cell_type": "markdown",
   "metadata": {
    "id": "R3C05i1l0q03"
   },
   "source": [
    "## Corregir datos"
   ]
  },
  {
   "cell_type": "markdown",
   "metadata": {
    "id": "LJir7bml0q03"
   },
   "source": [
    "## Enriquecer los datos"
   ]
  },
  {
   "cell_type": "markdown",
   "metadata": {
    "id": "eqADpCfg0q04"
   },
   "source": [
    "[Agrega factores adicionales a los datos si crees que pudieran ser útiles.]"
   ]
  },
  {
   "cell_type": "code",
   "execution_count": 9,
   "metadata": {
    "id": "gfcIEuXV0q04"
   },
   "outputs": [
    {
     "data": {
      "text/html": [
       "<div>\n",
       "<style scoped>\n",
       "    .dataframe tbody tr th:only-of-type {\n",
       "        vertical-align: middle;\n",
       "    }\n",
       "\n",
       "    .dataframe tbody tr th {\n",
       "        vertical-align: top;\n",
       "    }\n",
       "\n",
       "    .dataframe thead th {\n",
       "        text-align: right;\n",
       "    }\n",
       "</style>\n",
       "<table border=\"1\" class=\"dataframe\">\n",
       "  <thead>\n",
       "    <tr style=\"text-align: right;\">\n",
       "      <th></th>\n",
       "      <th>messages_included</th>\n",
       "      <th>mb_per_month_included</th>\n",
       "      <th>minutes_included</th>\n",
       "      <th>usd_monthly_pay</th>\n",
       "      <th>usd_per_gb</th>\n",
       "      <th>usd_per_message</th>\n",
       "      <th>usd_per_minute</th>\n",
       "      <th>plan_id</th>\n",
       "    </tr>\n",
       "  </thead>\n",
       "  <tbody>\n",
       "    <tr>\n",
       "      <th>0</th>\n",
       "      <td>50</td>\n",
       "      <td>15360</td>\n",
       "      <td>500</td>\n",
       "      <td>20</td>\n",
       "      <td>10</td>\n",
       "      <td>0.03</td>\n",
       "      <td>0.03</td>\n",
       "      <td>surf</td>\n",
       "    </tr>\n",
       "    <tr>\n",
       "      <th>1</th>\n",
       "      <td>1000</td>\n",
       "      <td>30720</td>\n",
       "      <td>3000</td>\n",
       "      <td>70</td>\n",
       "      <td>7</td>\n",
       "      <td>0.01</td>\n",
       "      <td>0.01</td>\n",
       "      <td>ultimate</td>\n",
       "    </tr>\n",
       "  </tbody>\n",
       "</table>\n",
       "</div>"
      ],
      "text/plain": [
       "   messages_included  mb_per_month_included  minutes_included  \\\n",
       "0                 50                  15360               500   \n",
       "1               1000                  30720              3000   \n",
       "\n",
       "   usd_monthly_pay  usd_per_gb  usd_per_message  usd_per_minute   plan_id  \n",
       "0               20          10             0.03            0.03      surf  \n",
       "1               70           7             0.01            0.01  ultimate  "
      ]
     },
     "execution_count": 9,
     "metadata": {},
     "output_type": "execute_result"
    }
   ],
   "source": [
    "plans.rename(columns={\"plan_name\":\"plan_id\"},inplace=True)\n",
    "plans.head()"
   ]
  },
  {
   "cell_type": "markdown",
   "metadata": {
    "id": "1n2X6WXf0q04"
   },
   "source": [
    "## Usuarios/as"
   ]
  },
  {
   "cell_type": "code",
   "execution_count": 10,
   "metadata": {
    "id": "2NgjWFqx0q05"
   },
   "outputs": [
    {
     "name": "stdout",
     "output_type": "stream",
     "text": [
      "<class 'pandas.core.frame.DataFrame'>\n",
      "RangeIndex: 500 entries, 0 to 499\n",
      "Data columns (total 8 columns):\n",
      " #   Column      Non-Null Count  Dtype \n",
      "---  ------      --------------  ----- \n",
      " 0   user_id     500 non-null    int64 \n",
      " 1   first_name  500 non-null    object\n",
      " 2   last_name   500 non-null    object\n",
      " 3   age         500 non-null    int64 \n",
      " 4   city        500 non-null    object\n",
      " 5   reg_date    500 non-null    object\n",
      " 6   plan        500 non-null    object\n",
      " 7   churn_date  34 non-null     object\n",
      "dtypes: int64(2), object(6)\n",
      "memory usage: 31.4+ KB\n"
     ]
    }
   ],
   "source": [
    "users.info()"
   ]
  },
  {
   "cell_type": "code",
   "execution_count": 11,
   "metadata": {
    "id": "1IN1L9uh0q05"
   },
   "outputs": [
    {
     "data": {
      "text/html": [
       "<div>\n",
       "<style scoped>\n",
       "    .dataframe tbody tr th:only-of-type {\n",
       "        vertical-align: middle;\n",
       "    }\n",
       "\n",
       "    .dataframe tbody tr th {\n",
       "        vertical-align: top;\n",
       "    }\n",
       "\n",
       "    .dataframe thead th {\n",
       "        text-align: right;\n",
       "    }\n",
       "</style>\n",
       "<table border=\"1\" class=\"dataframe\">\n",
       "  <thead>\n",
       "    <tr style=\"text-align: right;\">\n",
       "      <th></th>\n",
       "      <th>user_id</th>\n",
       "      <th>first_name</th>\n",
       "      <th>last_name</th>\n",
       "      <th>age</th>\n",
       "      <th>city</th>\n",
       "      <th>reg_date</th>\n",
       "      <th>plan</th>\n",
       "      <th>churn_date</th>\n",
       "    </tr>\n",
       "  </thead>\n",
       "  <tbody>\n",
       "    <tr>\n",
       "      <th>0</th>\n",
       "      <td>1000</td>\n",
       "      <td>Anamaria</td>\n",
       "      <td>Bauer</td>\n",
       "      <td>45</td>\n",
       "      <td>Atlanta-Sandy Springs-Roswell, GA MSA</td>\n",
       "      <td>2018-12-24</td>\n",
       "      <td>ultimate</td>\n",
       "      <td>NaN</td>\n",
       "    </tr>\n",
       "    <tr>\n",
       "      <th>1</th>\n",
       "      <td>1001</td>\n",
       "      <td>Mickey</td>\n",
       "      <td>Wilkerson</td>\n",
       "      <td>28</td>\n",
       "      <td>Seattle-Tacoma-Bellevue, WA MSA</td>\n",
       "      <td>2018-08-13</td>\n",
       "      <td>surf</td>\n",
       "      <td>NaN</td>\n",
       "    </tr>\n",
       "    <tr>\n",
       "      <th>2</th>\n",
       "      <td>1002</td>\n",
       "      <td>Carlee</td>\n",
       "      <td>Hoffman</td>\n",
       "      <td>36</td>\n",
       "      <td>Las Vegas-Henderson-Paradise, NV MSA</td>\n",
       "      <td>2018-10-21</td>\n",
       "      <td>surf</td>\n",
       "      <td>NaN</td>\n",
       "    </tr>\n",
       "    <tr>\n",
       "      <th>3</th>\n",
       "      <td>1003</td>\n",
       "      <td>Reynaldo</td>\n",
       "      <td>Jenkins</td>\n",
       "      <td>52</td>\n",
       "      <td>Tulsa, OK MSA</td>\n",
       "      <td>2018-01-28</td>\n",
       "      <td>surf</td>\n",
       "      <td>NaN</td>\n",
       "    </tr>\n",
       "    <tr>\n",
       "      <th>4</th>\n",
       "      <td>1004</td>\n",
       "      <td>Leonila</td>\n",
       "      <td>Thompson</td>\n",
       "      <td>40</td>\n",
       "      <td>Seattle-Tacoma-Bellevue, WA MSA</td>\n",
       "      <td>2018-05-23</td>\n",
       "      <td>surf</td>\n",
       "      <td>NaN</td>\n",
       "    </tr>\n",
       "  </tbody>\n",
       "</table>\n",
       "</div>"
      ],
      "text/plain": [
       "   user_id first_name  last_name  age                                   city  \\\n",
       "0     1000   Anamaria      Bauer   45  Atlanta-Sandy Springs-Roswell, GA MSA   \n",
       "1     1001     Mickey  Wilkerson   28        Seattle-Tacoma-Bellevue, WA MSA   \n",
       "2     1002     Carlee    Hoffman   36   Las Vegas-Henderson-Paradise, NV MSA   \n",
       "3     1003   Reynaldo    Jenkins   52                          Tulsa, OK MSA   \n",
       "4     1004    Leonila   Thompson   40        Seattle-Tacoma-Bellevue, WA MSA   \n",
       "\n",
       "     reg_date      plan churn_date  \n",
       "0  2018-12-24  ultimate        NaN  \n",
       "1  2018-08-13      surf        NaN  \n",
       "2  2018-10-21      surf        NaN  \n",
       "3  2018-01-28      surf        NaN  \n",
       "4  2018-05-23      surf        NaN  "
      ]
     },
     "execution_count": 11,
     "metadata": {},
     "output_type": "execute_result"
    }
   ],
   "source": [
    "users.head()"
   ]
  },
  {
   "cell_type": "code",
   "execution_count": 12,
   "metadata": {},
   "outputs": [
    {
     "data": {
      "text/plain": [
       "0"
      ]
     },
     "execution_count": 12,
     "metadata": {},
     "output_type": "execute_result"
    }
   ],
   "source": [
    "users.duplicated().sum()"
   ]
  },
  {
   "cell_type": "markdown",
   "metadata": {
    "id": "BX5FQh_I0q06"
   },
   "source": [
    "### Corregir los datos"
   ]
  },
  {
   "cell_type": "code",
   "execution_count": 13,
   "metadata": {
    "id": "yUqX-K0C0q07"
   },
   "outputs": [],
   "source": [
    "users[\"reg_date\"] = pd.to_datetime(users[\"reg_date\"], format=\"%Y-%m-%d\")\n",
    "users[\"reg_mes\"] = pd.DatetimeIndex(users[\"reg_date\"]).month"
   ]
  },
  {
   "cell_type": "code",
   "execution_count": 14,
   "metadata": {},
   "outputs": [],
   "source": [
    "users[\"churn_date\"] = pd.to_datetime(users[\"churn_date\"], format=\"%Y-%m-%d\")\n",
    "users[\"churn_mes\"] = pd.DatetimeIndex(users[\"churn_date\"]).month"
   ]
  },
  {
   "cell_type": "code",
   "execution_count": 15,
   "metadata": {},
   "outputs": [
    {
     "name": "stdout",
     "output_type": "stream",
     "text": [
      "<class 'pandas.core.frame.DataFrame'>\n",
      "RangeIndex: 500 entries, 0 to 499\n",
      "Data columns (total 10 columns):\n",
      " #   Column      Non-Null Count  Dtype         \n",
      "---  ------      --------------  -----         \n",
      " 0   user_id     500 non-null    int64         \n",
      " 1   first_name  500 non-null    object        \n",
      " 2   last_name   500 non-null    object        \n",
      " 3   age         500 non-null    int64         \n",
      " 4   city        500 non-null    object        \n",
      " 5   reg_date    500 non-null    datetime64[ns]\n",
      " 6   plan        500 non-null    object        \n",
      " 7   churn_date  34 non-null     datetime64[ns]\n",
      " 8   reg_mes     500 non-null    int32         \n",
      " 9   churn_mes   34 non-null     float64       \n",
      "dtypes: datetime64[ns](2), float64(1), int32(1), int64(2), object(4)\n",
      "memory usage: 37.2+ KB\n"
     ]
    }
   ],
   "source": [
    "users.info()"
   ]
  },
  {
   "cell_type": "code",
   "execution_count": 16,
   "metadata": {},
   "outputs": [
    {
     "data": {
      "text/html": [
       "<div>\n",
       "<style scoped>\n",
       "    .dataframe tbody tr th:only-of-type {\n",
       "        vertical-align: middle;\n",
       "    }\n",
       "\n",
       "    .dataframe tbody tr th {\n",
       "        vertical-align: top;\n",
       "    }\n",
       "\n",
       "    .dataframe thead th {\n",
       "        text-align: right;\n",
       "    }\n",
       "</style>\n",
       "<table border=\"1\" class=\"dataframe\">\n",
       "  <thead>\n",
       "    <tr style=\"text-align: right;\">\n",
       "      <th></th>\n",
       "      <th>user_id</th>\n",
       "      <th>age</th>\n",
       "      <th>reg_date</th>\n",
       "      <th>churn_date</th>\n",
       "      <th>reg_mes</th>\n",
       "      <th>churn_mes</th>\n",
       "    </tr>\n",
       "  </thead>\n",
       "  <tbody>\n",
       "    <tr>\n",
       "      <th>count</th>\n",
       "      <td>500.000000</td>\n",
       "      <td>500.000000</td>\n",
       "      <td>500</td>\n",
       "      <td>34</td>\n",
       "      <td>500.000000</td>\n",
       "      <td>34.000000</td>\n",
       "    </tr>\n",
       "    <tr>\n",
       "      <th>mean</th>\n",
       "      <td>1249.500000</td>\n",
       "      <td>45.486000</td>\n",
       "      <td>2018-06-24 16:30:43.200000</td>\n",
       "      <td>2018-11-10 22:35:17.647058944</td>\n",
       "      <td>6.290000</td>\n",
       "      <td>10.764706</td>\n",
       "    </tr>\n",
       "    <tr>\n",
       "      <th>min</th>\n",
       "      <td>1000.000000</td>\n",
       "      <td>18.000000</td>\n",
       "      <td>2018-01-01 00:00:00</td>\n",
       "      <td>2018-07-31 00:00:00</td>\n",
       "      <td>1.000000</td>\n",
       "      <td>7.000000</td>\n",
       "    </tr>\n",
       "    <tr>\n",
       "      <th>25%</th>\n",
       "      <td>1124.750000</td>\n",
       "      <td>30.000000</td>\n",
       "      <td>2018-03-25 18:00:00</td>\n",
       "      <td>2018-10-08 12:00:00</td>\n",
       "      <td>3.000000</td>\n",
       "      <td>10.000000</td>\n",
       "    </tr>\n",
       "    <tr>\n",
       "      <th>50%</th>\n",
       "      <td>1249.500000</td>\n",
       "      <td>46.000000</td>\n",
       "      <td>2018-06-20 00:00:00</td>\n",
       "      <td>2018-11-22 12:00:00</td>\n",
       "      <td>6.000000</td>\n",
       "      <td>11.000000</td>\n",
       "    </tr>\n",
       "    <tr>\n",
       "      <th>75%</th>\n",
       "      <td>1374.250000</td>\n",
       "      <td>61.000000</td>\n",
       "      <td>2018-09-20 06:00:00</td>\n",
       "      <td>2018-12-18 00:00:00</td>\n",
       "      <td>9.000000</td>\n",
       "      <td>12.000000</td>\n",
       "    </tr>\n",
       "    <tr>\n",
       "      <th>max</th>\n",
       "      <td>1499.000000</td>\n",
       "      <td>75.000000</td>\n",
       "      <td>2018-12-31 00:00:00</td>\n",
       "      <td>2018-12-31 00:00:00</td>\n",
       "      <td>12.000000</td>\n",
       "      <td>12.000000</td>\n",
       "    </tr>\n",
       "    <tr>\n",
       "      <th>std</th>\n",
       "      <td>144.481833</td>\n",
       "      <td>16.972269</td>\n",
       "      <td>NaN</td>\n",
       "      <td>NaN</td>\n",
       "      <td>3.438247</td>\n",
       "      <td>1.415473</td>\n",
       "    </tr>\n",
       "  </tbody>\n",
       "</table>\n",
       "</div>"
      ],
      "text/plain": [
       "           user_id         age                    reg_date  \\\n",
       "count   500.000000  500.000000                         500   \n",
       "mean   1249.500000   45.486000  2018-06-24 16:30:43.200000   \n",
       "min    1000.000000   18.000000         2018-01-01 00:00:00   \n",
       "25%    1124.750000   30.000000         2018-03-25 18:00:00   \n",
       "50%    1249.500000   46.000000         2018-06-20 00:00:00   \n",
       "75%    1374.250000   61.000000         2018-09-20 06:00:00   \n",
       "max    1499.000000   75.000000         2018-12-31 00:00:00   \n",
       "std     144.481833   16.972269                         NaN   \n",
       "\n",
       "                          churn_date     reg_mes  churn_mes  \n",
       "count                             34  500.000000  34.000000  \n",
       "mean   2018-11-10 22:35:17.647058944    6.290000  10.764706  \n",
       "min              2018-07-31 00:00:00    1.000000   7.000000  \n",
       "25%              2018-10-08 12:00:00    3.000000  10.000000  \n",
       "50%              2018-11-22 12:00:00    6.000000  11.000000  \n",
       "75%              2018-12-18 00:00:00    9.000000  12.000000  \n",
       "max              2018-12-31 00:00:00   12.000000  12.000000  \n",
       "std                              NaN    3.438247   1.415473  "
      ]
     },
     "execution_count": 16,
     "metadata": {},
     "output_type": "execute_result"
    }
   ],
   "source": [
    "users.describe()"
   ]
  },
  {
   "cell_type": "code",
   "execution_count": 17,
   "metadata": {},
   "outputs": [
    {
     "data": {
      "text/plain": [
       "user_id         0\n",
       "first_name      0\n",
       "last_name       0\n",
       "age             0\n",
       "city            0\n",
       "reg_date        0\n",
       "plan            0\n",
       "churn_date    466\n",
       "reg_mes         0\n",
       "churn_mes     466\n",
       "dtype: int64"
      ]
     },
     "execution_count": 17,
     "metadata": {},
     "output_type": "execute_result"
    }
   ],
   "source": [
    "users.isnull().sum()"
   ]
  },
  {
   "cell_type": "markdown",
   "metadata": {},
   "source": [
    "Con el metodo isnull.sum encontramos que existen valores nulos (NANS)  466 el la columna churn_date y chur_mes que mas adelnate corregire"
   ]
  },
  {
   "cell_type": "markdown",
   "metadata": {
    "id": "ycwuARJp0q07"
   },
   "source": [
    "### Enriquecer los datos"
   ]
  },
  {
   "cell_type": "code",
   "execution_count": 18,
   "metadata": {
    "id": "iq0AaBS90q08"
   },
   "outputs": [
    {
     "data": {
      "text/html": [
       "<div>\n",
       "<style scoped>\n",
       "    .dataframe tbody tr th:only-of-type {\n",
       "        vertical-align: middle;\n",
       "    }\n",
       "\n",
       "    .dataframe tbody tr th {\n",
       "        vertical-align: top;\n",
       "    }\n",
       "\n",
       "    .dataframe thead th {\n",
       "        text-align: right;\n",
       "    }\n",
       "</style>\n",
       "<table border=\"1\" class=\"dataframe\">\n",
       "  <thead>\n",
       "    <tr style=\"text-align: right;\">\n",
       "      <th></th>\n",
       "      <th>user_id</th>\n",
       "      <th>first_name</th>\n",
       "      <th>last_name</th>\n",
       "      <th>age</th>\n",
       "      <th>city</th>\n",
       "      <th>reg_date</th>\n",
       "      <th>plan_id</th>\n",
       "      <th>churn_date</th>\n",
       "      <th>reg_mes</th>\n",
       "      <th>churn_mes</th>\n",
       "    </tr>\n",
       "  </thead>\n",
       "  <tbody>\n",
       "    <tr>\n",
       "      <th>0</th>\n",
       "      <td>1000</td>\n",
       "      <td>Anamaria</td>\n",
       "      <td>Bauer</td>\n",
       "      <td>45</td>\n",
       "      <td>Atlanta-Sandy Springs-Roswell, GA MSA</td>\n",
       "      <td>2018-12-24</td>\n",
       "      <td>ultimate</td>\n",
       "      <td>NaT</td>\n",
       "      <td>12</td>\n",
       "      <td>NaN</td>\n",
       "    </tr>\n",
       "    <tr>\n",
       "      <th>1</th>\n",
       "      <td>1001</td>\n",
       "      <td>Mickey</td>\n",
       "      <td>Wilkerson</td>\n",
       "      <td>28</td>\n",
       "      <td>Seattle-Tacoma-Bellevue, WA MSA</td>\n",
       "      <td>2018-08-13</td>\n",
       "      <td>surf</td>\n",
       "      <td>NaT</td>\n",
       "      <td>8</td>\n",
       "      <td>NaN</td>\n",
       "    </tr>\n",
       "    <tr>\n",
       "      <th>2</th>\n",
       "      <td>1002</td>\n",
       "      <td>Carlee</td>\n",
       "      <td>Hoffman</td>\n",
       "      <td>36</td>\n",
       "      <td>Las Vegas-Henderson-Paradise, NV MSA</td>\n",
       "      <td>2018-10-21</td>\n",
       "      <td>surf</td>\n",
       "      <td>NaT</td>\n",
       "      <td>10</td>\n",
       "      <td>NaN</td>\n",
       "    </tr>\n",
       "    <tr>\n",
       "      <th>3</th>\n",
       "      <td>1003</td>\n",
       "      <td>Reynaldo</td>\n",
       "      <td>Jenkins</td>\n",
       "      <td>52</td>\n",
       "      <td>Tulsa, OK MSA</td>\n",
       "      <td>2018-01-28</td>\n",
       "      <td>surf</td>\n",
       "      <td>NaT</td>\n",
       "      <td>1</td>\n",
       "      <td>NaN</td>\n",
       "    </tr>\n",
       "    <tr>\n",
       "      <th>4</th>\n",
       "      <td>1004</td>\n",
       "      <td>Leonila</td>\n",
       "      <td>Thompson</td>\n",
       "      <td>40</td>\n",
       "      <td>Seattle-Tacoma-Bellevue, WA MSA</td>\n",
       "      <td>2018-05-23</td>\n",
       "      <td>surf</td>\n",
       "      <td>NaT</td>\n",
       "      <td>5</td>\n",
       "      <td>NaN</td>\n",
       "    </tr>\n",
       "  </tbody>\n",
       "</table>\n",
       "</div>"
      ],
      "text/plain": [
       "   user_id first_name  last_name  age                                   city  \\\n",
       "0     1000   Anamaria      Bauer   45  Atlanta-Sandy Springs-Roswell, GA MSA   \n",
       "1     1001     Mickey  Wilkerson   28        Seattle-Tacoma-Bellevue, WA MSA   \n",
       "2     1002     Carlee    Hoffman   36   Las Vegas-Henderson-Paradise, NV MSA   \n",
       "3     1003   Reynaldo    Jenkins   52                          Tulsa, OK MSA   \n",
       "4     1004    Leonila   Thompson   40        Seattle-Tacoma-Bellevue, WA MSA   \n",
       "\n",
       "    reg_date   plan_id churn_date  reg_mes  churn_mes  \n",
       "0 2018-12-24  ultimate        NaT       12        NaN  \n",
       "1 2018-08-13      surf        NaT        8        NaN  \n",
       "2 2018-10-21      surf        NaT       10        NaN  \n",
       "3 2018-01-28      surf        NaT        1        NaN  \n",
       "4 2018-05-23      surf        NaT        5        NaN  "
      ]
     },
     "execution_count": 18,
     "metadata": {},
     "output_type": "execute_result"
    }
   ],
   "source": [
    "users.rename(columns={\"plan\":\"plan_id\"},inplace=True)\n",
    "users.head()"
   ]
  },
  {
   "cell_type": "code",
   "execution_count": 19,
   "metadata": {},
   "outputs": [
    {
     "name": "stdout",
     "output_type": "stream",
     "text": [
      "<class 'pandas.core.frame.DataFrame'>\n",
      "RangeIndex: 500 entries, 0 to 499\n",
      "Data columns (total 10 columns):\n",
      " #   Column      Non-Null Count  Dtype         \n",
      "---  ------      --------------  -----         \n",
      " 0   user_id     500 non-null    int64         \n",
      " 1   first_name  500 non-null    object        \n",
      " 2   last_name   500 non-null    object        \n",
      " 3   age         500 non-null    int64         \n",
      " 4   city        500 non-null    object        \n",
      " 5   reg_date    500 non-null    datetime64[ns]\n",
      " 6   plan_id     500 non-null    object        \n",
      " 7   churn_date  34 non-null     datetime64[ns]\n",
      " 8   reg_mes     500 non-null    int32         \n",
      " 9   churn_mes   34 non-null     float64       \n",
      "dtypes: datetime64[ns](2), float64(1), int32(1), int64(2), object(4)\n",
      "memory usage: 37.2+ KB\n"
     ]
    }
   ],
   "source": [
    "users.info()"
   ]
  },
  {
   "cell_type": "markdown",
   "metadata": {},
   "source": [
    "Al enriquecer los datos existen aun datos NAN pero estos son correctos ya que podria ser que son aun los suscritores aun suscritos y es por eso que esto esta bien\n"
   ]
  },
  {
   "cell_type": "markdown",
   "metadata": {
    "id": "o7MeKCid0q08"
   },
   "source": [
    "## Llamadas"
   ]
  },
  {
   "cell_type": "code",
   "execution_count": 20,
   "metadata": {
    "id": "6dDlnoDm0q08"
   },
   "outputs": [],
   "source": [
    "calls.head()\n",
    "calls.rename(columns={\"id\":\"calls_id\"},inplace=True)"
   ]
  },
  {
   "cell_type": "code",
   "execution_count": 21,
   "metadata": {
    "id": "kuh1vlNB0q09"
   },
   "outputs": [
    {
     "name": "stdout",
     "output_type": "stream",
     "text": [
      "<class 'pandas.core.frame.DataFrame'>\n",
      "RangeIndex: 137735 entries, 0 to 137734\n",
      "Data columns (total 4 columns):\n",
      " #   Column     Non-Null Count   Dtype  \n",
      "---  ------     --------------   -----  \n",
      " 0   calls_id   137735 non-null  object \n",
      " 1   user_id    137735 non-null  int64  \n",
      " 2   call_date  137735 non-null  object \n",
      " 3   duration   137735 non-null  float64\n",
      "dtypes: float64(1), int64(1), object(2)\n",
      "memory usage: 4.2+ MB\n"
     ]
    }
   ],
   "source": [
    "calls.info()"
   ]
  },
  {
   "cell_type": "markdown",
   "metadata": {},
   "source": [
    "los datos parecen consistentes y no existen valores nulos o ausentes"
   ]
  },
  {
   "cell_type": "code",
   "execution_count": 22,
   "metadata": {},
   "outputs": [
    {
     "data": {
      "text/plain": [
       "calls_id     0\n",
       "user_id      0\n",
       "call_date    0\n",
       "duration     0\n",
       "dtype: int64"
      ]
     },
     "execution_count": 22,
     "metadata": {},
     "output_type": "execute_result"
    }
   ],
   "source": [
    "calls.isna().sum()"
   ]
  },
  {
   "cell_type": "code",
   "execution_count": 23,
   "metadata": {},
   "outputs": [
    {
     "data": {
      "text/plain": [
       "0"
      ]
     },
     "execution_count": 23,
     "metadata": {},
     "output_type": "execute_result"
    }
   ],
   "source": [
    "calls.duplicated(subset=[\"calls_id\", \"user_id\"]).sum()"
   ]
  },
  {
   "cell_type": "code",
   "execution_count": 24,
   "metadata": {},
   "outputs": [
    {
     "data": {
      "text/html": [
       "<div>\n",
       "<style scoped>\n",
       "    .dataframe tbody tr th:only-of-type {\n",
       "        vertical-align: middle;\n",
       "    }\n",
       "\n",
       "    .dataframe tbody tr th {\n",
       "        vertical-align: top;\n",
       "    }\n",
       "\n",
       "    .dataframe thead th {\n",
       "        text-align: right;\n",
       "    }\n",
       "</style>\n",
       "<table border=\"1\" class=\"dataframe\">\n",
       "  <thead>\n",
       "    <tr style=\"text-align: right;\">\n",
       "      <th></th>\n",
       "      <th>user_id</th>\n",
       "      <th>duration</th>\n",
       "    </tr>\n",
       "  </thead>\n",
       "  <tbody>\n",
       "    <tr>\n",
       "      <th>count</th>\n",
       "      <td>137735.000000</td>\n",
       "      <td>137735.000000</td>\n",
       "    </tr>\n",
       "    <tr>\n",
       "      <th>mean</th>\n",
       "      <td>1247.658046</td>\n",
       "      <td>6.745927</td>\n",
       "    </tr>\n",
       "    <tr>\n",
       "      <th>std</th>\n",
       "      <td>139.416268</td>\n",
       "      <td>5.839241</td>\n",
       "    </tr>\n",
       "    <tr>\n",
       "      <th>min</th>\n",
       "      <td>1000.000000</td>\n",
       "      <td>0.000000</td>\n",
       "    </tr>\n",
       "    <tr>\n",
       "      <th>25%</th>\n",
       "      <td>1128.000000</td>\n",
       "      <td>1.290000</td>\n",
       "    </tr>\n",
       "    <tr>\n",
       "      <th>50%</th>\n",
       "      <td>1247.000000</td>\n",
       "      <td>5.980000</td>\n",
       "    </tr>\n",
       "    <tr>\n",
       "      <th>75%</th>\n",
       "      <td>1365.000000</td>\n",
       "      <td>10.690000</td>\n",
       "    </tr>\n",
       "    <tr>\n",
       "      <th>max</th>\n",
       "      <td>1499.000000</td>\n",
       "      <td>37.600000</td>\n",
       "    </tr>\n",
       "  </tbody>\n",
       "</table>\n",
       "</div>"
      ],
      "text/plain": [
       "             user_id       duration\n",
       "count  137735.000000  137735.000000\n",
       "mean     1247.658046       6.745927\n",
       "std       139.416268       5.839241\n",
       "min      1000.000000       0.000000\n",
       "25%      1128.000000       1.290000\n",
       "50%      1247.000000       5.980000\n",
       "75%      1365.000000      10.690000\n",
       "max      1499.000000      37.600000"
      ]
     },
     "execution_count": 24,
     "metadata": {},
     "output_type": "execute_result"
    }
   ],
   "source": [
    "calls.describe()"
   ]
  },
  {
   "cell_type": "markdown",
   "metadata": {},
   "source": [
    "los datos parecen consistentes y no existen valores nulos o ausentes, sin embargo la columna call_date es object y deberia ser fecha"
   ]
  },
  {
   "cell_type": "markdown",
   "metadata": {
    "id": "S7hzxmbX0q0-"
   },
   "source": [
    "### Corregir los datos"
   ]
  },
  {
   "cell_type": "code",
   "execution_count": 25,
   "metadata": {
    "id": "S2r8xA4f0q0-"
   },
   "outputs": [],
   "source": [
    "#se debe cambiar el formato fecha\n",
    "calls[\"call_date\"]= pd.to_datetime(calls[\"call_date\"], format=\"%Y-%m-%d\")"
   ]
  },
  {
   "cell_type": "code",
   "execution_count": 26,
   "metadata": {},
   "outputs": [
    {
     "name": "stdout",
     "output_type": "stream",
     "text": [
      "<class 'pandas.core.frame.DataFrame'>\n",
      "RangeIndex: 137735 entries, 0 to 137734\n",
      "Data columns (total 4 columns):\n",
      " #   Column     Non-Null Count   Dtype         \n",
      "---  ------     --------------   -----         \n",
      " 0   calls_id   137735 non-null  object        \n",
      " 1   user_id    137735 non-null  int64         \n",
      " 2   call_date  137735 non-null  datetime64[ns]\n",
      " 3   duration   137735 non-null  float64       \n",
      "dtypes: datetime64[ns](1), float64(1), int64(1), object(1)\n",
      "memory usage: 4.2+ MB\n"
     ]
    }
   ],
   "source": [
    "calls.info()"
   ]
  },
  {
   "cell_type": "code",
   "execution_count": 27,
   "metadata": {},
   "outputs": [
    {
     "data": {
      "text/html": [
       "<div>\n",
       "<style scoped>\n",
       "    .dataframe tbody tr th:only-of-type {\n",
       "        vertical-align: middle;\n",
       "    }\n",
       "\n",
       "    .dataframe tbody tr th {\n",
       "        vertical-align: top;\n",
       "    }\n",
       "\n",
       "    .dataframe thead th {\n",
       "        text-align: right;\n",
       "    }\n",
       "</style>\n",
       "<table border=\"1\" class=\"dataframe\">\n",
       "  <thead>\n",
       "    <tr style=\"text-align: right;\">\n",
       "      <th></th>\n",
       "      <th>calls_id</th>\n",
       "      <th>user_id</th>\n",
       "      <th>call_date</th>\n",
       "      <th>duration</th>\n",
       "    </tr>\n",
       "  </thead>\n",
       "  <tbody>\n",
       "    <tr>\n",
       "      <th>0</th>\n",
       "      <td>1000_93</td>\n",
       "      <td>1000</td>\n",
       "      <td>2018-12-27</td>\n",
       "      <td>8.52</td>\n",
       "    </tr>\n",
       "    <tr>\n",
       "      <th>1</th>\n",
       "      <td>1000_145</td>\n",
       "      <td>1000</td>\n",
       "      <td>2018-12-27</td>\n",
       "      <td>13.66</td>\n",
       "    </tr>\n",
       "    <tr>\n",
       "      <th>2</th>\n",
       "      <td>1000_247</td>\n",
       "      <td>1000</td>\n",
       "      <td>2018-12-27</td>\n",
       "      <td>14.48</td>\n",
       "    </tr>\n",
       "    <tr>\n",
       "      <th>3</th>\n",
       "      <td>1000_309</td>\n",
       "      <td>1000</td>\n",
       "      <td>2018-12-28</td>\n",
       "      <td>5.76</td>\n",
       "    </tr>\n",
       "    <tr>\n",
       "      <th>4</th>\n",
       "      <td>1000_380</td>\n",
       "      <td>1000</td>\n",
       "      <td>2018-12-30</td>\n",
       "      <td>4.22</td>\n",
       "    </tr>\n",
       "  </tbody>\n",
       "</table>\n",
       "</div>"
      ],
      "text/plain": [
       "   calls_id  user_id  call_date  duration\n",
       "0   1000_93     1000 2018-12-27      8.52\n",
       "1  1000_145     1000 2018-12-27     13.66\n",
       "2  1000_247     1000 2018-12-27     14.48\n",
       "3  1000_309     1000 2018-12-28      5.76\n",
       "4  1000_380     1000 2018-12-30      4.22"
      ]
     },
     "execution_count": 27,
     "metadata": {},
     "output_type": "execute_result"
    }
   ],
   "source": [
    "calls.head()"
   ]
  },
  {
   "cell_type": "markdown",
   "metadata": {
    "id": "KrMgTrlG0q0_"
   },
   "source": [
    "### Enriquecer los datos"
   ]
  },
  {
   "cell_type": "code",
   "execution_count": 28,
   "metadata": {
    "id": "iZ1avpA_0q0_"
   },
   "outputs": [
    {
     "name": "stdout",
     "output_type": "stream",
     "text": [
      "<class 'pandas.core.frame.DataFrame'>\n",
      "RangeIndex: 137735 entries, 0 to 137734\n",
      "Data columns (total 5 columns):\n",
      " #   Column     Non-Null Count   Dtype         \n",
      "---  ------     --------------   -----         \n",
      " 0   calls_id   137735 non-null  object        \n",
      " 1   user_id    137735 non-null  int64         \n",
      " 2   call_date  137735 non-null  datetime64[ns]\n",
      " 3   duration   137735 non-null  float64       \n",
      " 4   mes        137735 non-null  int32         \n",
      "dtypes: datetime64[ns](1), float64(1), int32(1), int64(1), object(1)\n",
      "memory usage: 4.7+ MB\n"
     ]
    },
    {
     "data": {
      "text/html": [
       "<div>\n",
       "<style scoped>\n",
       "    .dataframe tbody tr th:only-of-type {\n",
       "        vertical-align: middle;\n",
       "    }\n",
       "\n",
       "    .dataframe tbody tr th {\n",
       "        vertical-align: top;\n",
       "    }\n",
       "\n",
       "    .dataframe thead th {\n",
       "        text-align: right;\n",
       "    }\n",
       "</style>\n",
       "<table border=\"1\" class=\"dataframe\">\n",
       "  <thead>\n",
       "    <tr style=\"text-align: right;\">\n",
       "      <th></th>\n",
       "      <th>calls_id</th>\n",
       "      <th>user_id</th>\n",
       "      <th>call_date</th>\n",
       "      <th>duration</th>\n",
       "      <th>mes</th>\n",
       "    </tr>\n",
       "  </thead>\n",
       "  <tbody>\n",
       "    <tr>\n",
       "      <th>0</th>\n",
       "      <td>1000_93</td>\n",
       "      <td>1000</td>\n",
       "      <td>2018-12-27</td>\n",
       "      <td>8.52</td>\n",
       "      <td>12</td>\n",
       "    </tr>\n",
       "    <tr>\n",
       "      <th>1</th>\n",
       "      <td>1000_145</td>\n",
       "      <td>1000</td>\n",
       "      <td>2018-12-27</td>\n",
       "      <td>13.66</td>\n",
       "      <td>12</td>\n",
       "    </tr>\n",
       "    <tr>\n",
       "      <th>2</th>\n",
       "      <td>1000_247</td>\n",
       "      <td>1000</td>\n",
       "      <td>2018-12-27</td>\n",
       "      <td>14.48</td>\n",
       "      <td>12</td>\n",
       "    </tr>\n",
       "    <tr>\n",
       "      <th>3</th>\n",
       "      <td>1000_309</td>\n",
       "      <td>1000</td>\n",
       "      <td>2018-12-28</td>\n",
       "      <td>5.76</td>\n",
       "      <td>12</td>\n",
       "    </tr>\n",
       "    <tr>\n",
       "      <th>4</th>\n",
       "      <td>1000_380</td>\n",
       "      <td>1000</td>\n",
       "      <td>2018-12-30</td>\n",
       "      <td>4.22</td>\n",
       "      <td>12</td>\n",
       "    </tr>\n",
       "  </tbody>\n",
       "</table>\n",
       "</div>"
      ],
      "text/plain": [
       "   calls_id  user_id  call_date  duration  mes\n",
       "0   1000_93     1000 2018-12-27      8.52   12\n",
       "1  1000_145     1000 2018-12-27     13.66   12\n",
       "2  1000_247     1000 2018-12-27     14.48   12\n",
       "3  1000_309     1000 2018-12-28      5.76   12\n",
       "4  1000_380     1000 2018-12-30      4.22   12"
      ]
     },
     "execution_count": 28,
     "metadata": {},
     "output_type": "execute_result"
    }
   ],
   "source": [
    "calls[\"mes\"]= pd.DatetimeIndex(calls[\"call_date\"]).month\n",
    "calls.info()\n",
    "calls.head()"
   ]
  },
  {
   "cell_type": "code",
   "execution_count": 29,
   "metadata": {},
   "outputs": [
    {
     "name": "stdout",
     "output_type": "stream",
     "text": [
      "Requirement already satisfied: numpy in e:\\users\\guillen\\anaconda3\\lib\\site-packages (1.26.4)\n"
     ]
    }
   ],
   "source": [
    "!pip install numpy\n",
    "\n",
    "import numpy as np\n",
    "\n",
    "def redondeo_calls(duracion):\n",
    "    redonde = np.ceil(duracion)\n",
    "    return redonde"
   ]
  },
  {
   "cell_type": "code",
   "execution_count": 30,
   "metadata": {},
   "outputs": [],
   "source": [
    "calls['duracion_redondeo'] = calls['duration'].apply(redondeo_calls)"
   ]
  },
  {
   "cell_type": "code",
   "execution_count": 31,
   "metadata": {},
   "outputs": [
    {
     "name": "stdout",
     "output_type": "stream",
     "text": [
      "<class 'pandas.core.frame.DataFrame'>\n",
      "RangeIndex: 137735 entries, 0 to 137734\n",
      "Data columns (total 6 columns):\n",
      " #   Column             Non-Null Count   Dtype         \n",
      "---  ------             --------------   -----         \n",
      " 0   calls_id           137735 non-null  object        \n",
      " 1   user_id            137735 non-null  int64         \n",
      " 2   call_date          137735 non-null  datetime64[ns]\n",
      " 3   duration           137735 non-null  float64       \n",
      " 4   mes                137735 non-null  int32         \n",
      " 5   duracion_redondeo  137735 non-null  float64       \n",
      "dtypes: datetime64[ns](1), float64(2), int32(1), int64(1), object(1)\n",
      "memory usage: 5.8+ MB\n"
     ]
    }
   ],
   "source": [
    "calls.info()"
   ]
  },
  {
   "cell_type": "code",
   "execution_count": 32,
   "metadata": {},
   "outputs": [
    {
     "data": {
      "text/html": [
       "<div>\n",
       "<style scoped>\n",
       "    .dataframe tbody tr th:only-of-type {\n",
       "        vertical-align: middle;\n",
       "    }\n",
       "\n",
       "    .dataframe tbody tr th {\n",
       "        vertical-align: top;\n",
       "    }\n",
       "\n",
       "    .dataframe thead th {\n",
       "        text-align: right;\n",
       "    }\n",
       "</style>\n",
       "<table border=\"1\" class=\"dataframe\">\n",
       "  <thead>\n",
       "    <tr style=\"text-align: right;\">\n",
       "      <th></th>\n",
       "      <th>calls_id</th>\n",
       "      <th>user_id</th>\n",
       "      <th>call_date</th>\n",
       "      <th>duration</th>\n",
       "      <th>mes</th>\n",
       "      <th>duracion_redondeo</th>\n",
       "    </tr>\n",
       "  </thead>\n",
       "  <tbody>\n",
       "    <tr>\n",
       "      <th>0</th>\n",
       "      <td>1000_93</td>\n",
       "      <td>1000</td>\n",
       "      <td>2018-12-27</td>\n",
       "      <td>8.52</td>\n",
       "      <td>12</td>\n",
       "      <td>9.0</td>\n",
       "    </tr>\n",
       "    <tr>\n",
       "      <th>1</th>\n",
       "      <td>1000_145</td>\n",
       "      <td>1000</td>\n",
       "      <td>2018-12-27</td>\n",
       "      <td>13.66</td>\n",
       "      <td>12</td>\n",
       "      <td>14.0</td>\n",
       "    </tr>\n",
       "    <tr>\n",
       "      <th>2</th>\n",
       "      <td>1000_247</td>\n",
       "      <td>1000</td>\n",
       "      <td>2018-12-27</td>\n",
       "      <td>14.48</td>\n",
       "      <td>12</td>\n",
       "      <td>15.0</td>\n",
       "    </tr>\n",
       "    <tr>\n",
       "      <th>3</th>\n",
       "      <td>1000_309</td>\n",
       "      <td>1000</td>\n",
       "      <td>2018-12-28</td>\n",
       "      <td>5.76</td>\n",
       "      <td>12</td>\n",
       "      <td>6.0</td>\n",
       "    </tr>\n",
       "    <tr>\n",
       "      <th>4</th>\n",
       "      <td>1000_380</td>\n",
       "      <td>1000</td>\n",
       "      <td>2018-12-30</td>\n",
       "      <td>4.22</td>\n",
       "      <td>12</td>\n",
       "      <td>5.0</td>\n",
       "    </tr>\n",
       "  </tbody>\n",
       "</table>\n",
       "</div>"
      ],
      "text/plain": [
       "   calls_id  user_id  call_date  duration  mes  duracion_redondeo\n",
       "0   1000_93     1000 2018-12-27      8.52   12                9.0\n",
       "1  1000_145     1000 2018-12-27     13.66   12               14.0\n",
       "2  1000_247     1000 2018-12-27     14.48   12               15.0\n",
       "3  1000_309     1000 2018-12-28      5.76   12                6.0\n",
       "4  1000_380     1000 2018-12-30      4.22   12                5.0"
      ]
     },
     "execution_count": 32,
     "metadata": {},
     "output_type": "execute_result"
    }
   ],
   "source": [
    "calls.head()"
   ]
  },
  {
   "cell_type": "code",
   "execution_count": 33,
   "metadata": {},
   "outputs": [
    {
     "data": {
      "text/plain": [
       "0"
      ]
     },
     "execution_count": 33,
     "metadata": {},
     "output_type": "execute_result"
    }
   ],
   "source": [
    "calls.duplicated().sum()"
   ]
  },
  {
   "cell_type": "markdown",
   "metadata": {},
   "source": [
    "Para call existen 4 columnas con 137734 filas las cuales no hay valores duplicados y se a relizado el redonde de la duracion de las llamadas ya que por algun decimanl que arrebase el plan, este se cobrara como el subsecuente\n"
   ]
  },
  {
   "cell_type": "code",
   "execution_count": 34,
   "metadata": {},
   "outputs": [],
   "source": [
    "calls_analytics = calls.pivot_table(\n",
    "    index=[\"user_id\", \"mes\"],\n",
    "    values='duracion_redondeo',\n",
    "    aggfunc={'duracion_redondeo': ['sum', 'count']}\n",
    ")"
   ]
  },
  {
   "cell_type": "code",
   "execution_count": 35,
   "metadata": {},
   "outputs": [
    {
     "data": {
      "text/html": [
       "<div>\n",
       "<style scoped>\n",
       "    .dataframe tbody tr th:only-of-type {\n",
       "        vertical-align: middle;\n",
       "    }\n",
       "\n",
       "    .dataframe tbody tr th {\n",
       "        vertical-align: top;\n",
       "    }\n",
       "\n",
       "    .dataframe thead th {\n",
       "        text-align: right;\n",
       "    }\n",
       "</style>\n",
       "<table border=\"1\" class=\"dataframe\">\n",
       "  <thead>\n",
       "    <tr style=\"text-align: right;\">\n",
       "      <th></th>\n",
       "      <th></th>\n",
       "      <th>count</th>\n",
       "      <th>sum</th>\n",
       "    </tr>\n",
       "    <tr>\n",
       "      <th>user_id</th>\n",
       "      <th>mes</th>\n",
       "      <th></th>\n",
       "      <th></th>\n",
       "    </tr>\n",
       "  </thead>\n",
       "  <tbody>\n",
       "    <tr>\n",
       "      <th>1000</th>\n",
       "      <th>12</th>\n",
       "      <td>16</td>\n",
       "      <td>124.0</td>\n",
       "    </tr>\n",
       "    <tr>\n",
       "      <th rowspan=\"5\" valign=\"top\">1001</th>\n",
       "      <th>8</th>\n",
       "      <td>27</td>\n",
       "      <td>182.0</td>\n",
       "    </tr>\n",
       "    <tr>\n",
       "      <th>9</th>\n",
       "      <td>49</td>\n",
       "      <td>315.0</td>\n",
       "    </tr>\n",
       "    <tr>\n",
       "      <th>10</th>\n",
       "      <td>65</td>\n",
       "      <td>393.0</td>\n",
       "    </tr>\n",
       "    <tr>\n",
       "      <th>11</th>\n",
       "      <td>64</td>\n",
       "      <td>426.0</td>\n",
       "    </tr>\n",
       "    <tr>\n",
       "      <th>12</th>\n",
       "      <td>56</td>\n",
       "      <td>412.0</td>\n",
       "    </tr>\n",
       "    <tr>\n",
       "      <th rowspan=\"3\" valign=\"top\">1002</th>\n",
       "      <th>10</th>\n",
       "      <td>11</td>\n",
       "      <td>59.0</td>\n",
       "    </tr>\n",
       "    <tr>\n",
       "      <th>11</th>\n",
       "      <td>55</td>\n",
       "      <td>386.0</td>\n",
       "    </tr>\n",
       "    <tr>\n",
       "      <th>12</th>\n",
       "      <td>47</td>\n",
       "      <td>384.0</td>\n",
       "    </tr>\n",
       "    <tr>\n",
       "      <th>1003</th>\n",
       "      <th>12</th>\n",
       "      <td>149</td>\n",
       "      <td>1104.0</td>\n",
       "    </tr>\n",
       "  </tbody>\n",
       "</table>\n",
       "</div>"
      ],
      "text/plain": [
       "             count     sum\n",
       "user_id mes               \n",
       "1000    12      16   124.0\n",
       "1001    8       27   182.0\n",
       "        9       49   315.0\n",
       "        10      65   393.0\n",
       "        11      64   426.0\n",
       "        12      56   412.0\n",
       "1002    10      11    59.0\n",
       "        11      55   386.0\n",
       "        12      47   384.0\n",
       "1003    12     149  1104.0"
      ]
     },
     "execution_count": 35,
     "metadata": {},
     "output_type": "execute_result"
    }
   ],
   "source": [
    "calls_analytics.head(10)"
   ]
  },
  {
   "cell_type": "code",
   "execution_count": 36,
   "metadata": {},
   "outputs": [
    {
     "name": "stdout",
     "output_type": "stream",
     "text": [
      "             minutos_usados  llamadas_hechas\n",
      "user_id mes                                 \n",
      "1000    12               16            124.0\n",
      "1001    8                27            182.0\n",
      "        9                49            315.0\n",
      "        10               65            393.0\n",
      "        11               64            426.0\n"
     ]
    }
   ],
   "source": [
    "calls_analytics.columns = [\"minutos_usados\", \"llamadas_hechas\"]\n",
    "print(calls_analytics.head())"
   ]
  },
  {
   "cell_type": "code",
   "execution_count": 37,
   "metadata": {},
   "outputs": [],
   "source": [
    "calls_analytics=calls_analytics.reset_index()"
   ]
  },
  {
   "cell_type": "code",
   "execution_count": 38,
   "metadata": {},
   "outputs": [
    {
     "name": "stdout",
     "output_type": "stream",
     "text": [
      "      user_id  mes  minutos_usados  llamadas_hechas\n",
      "0        1000   12              16            124.0\n",
      "1        1001    8              27            182.0\n",
      "2        1001    9              49            315.0\n",
      "3        1001   10              65            393.0\n",
      "4        1001   11              64            426.0\n",
      "...       ...  ...             ...              ...\n",
      "2253     1498   12              39            339.0\n",
      "2254     1499    9              41            346.0\n",
      "2255     1499   10              53            385.0\n",
      "2256     1499   11              45            308.0\n",
      "2257     1499   12              65            496.0\n",
      "\n",
      "[2258 rows x 4 columns]\n"
     ]
    }
   ],
   "source": [
    "print(calls_analytics)"
   ]
  },
  {
   "cell_type": "markdown",
   "metadata": {},
   "source": [
    "Unimos minutos_usados y llamadas_usadas ya que estos datos no daran un mejor entendimiento del uso del plan por usuario y este se agrega mensualmente como se realizo en los otros datos para tener una fecha exata de tiempo\n"
   ]
  },
  {
   "cell_type": "markdown",
   "metadata": {
    "id": "mOUZSi180q0_"
   },
   "source": [
    "## Mensajes"
   ]
  },
  {
   "cell_type": "code",
   "execution_count": 39,
   "metadata": {
    "id": "R-bYJpdV0q1A"
   },
   "outputs": [
    {
     "name": "stdout",
     "output_type": "stream",
     "text": [
      "<class 'pandas.core.frame.DataFrame'>\n",
      "RangeIndex: 76051 entries, 0 to 76050\n",
      "Data columns (total 3 columns):\n",
      " #   Column        Non-Null Count  Dtype \n",
      "---  ------        --------------  ----- \n",
      " 0   id            76051 non-null  object\n",
      " 1   user_id       76051 non-null  int64 \n",
      " 2   message_date  76051 non-null  object\n",
      "dtypes: int64(1), object(2)\n",
      "memory usage: 1.7+ MB\n",
      "None\n",
      "         id  user_id message_date\n",
      "0  1000_125     1000   2018-12-27\n",
      "1  1000_160     1000   2018-12-31\n",
      "2  1000_223     1000   2018-12-31\n",
      "3  1000_251     1000   2018-12-27\n",
      "4  1000_255     1000   2018-12-26\n"
     ]
    }
   ],
   "source": [
    "# Imprime la información general/resumida sobre el DataFrame de los mensajes\n",
    "print(messages.info())\n",
    "print(messages.head())\n",
    "messages.rename(columns={\"id\":\"messages_id\"},inplace=True)"
   ]
  },
  {
   "cell_type": "code",
   "execution_count": 40,
   "metadata": {},
   "outputs": [
    {
     "data": {
      "text/html": [
       "<div>\n",
       "<style scoped>\n",
       "    .dataframe tbody tr th:only-of-type {\n",
       "        vertical-align: middle;\n",
       "    }\n",
       "\n",
       "    .dataframe tbody tr th {\n",
       "        vertical-align: top;\n",
       "    }\n",
       "\n",
       "    .dataframe thead th {\n",
       "        text-align: right;\n",
       "    }\n",
       "</style>\n",
       "<table border=\"1\" class=\"dataframe\">\n",
       "  <thead>\n",
       "    <tr style=\"text-align: right;\">\n",
       "      <th></th>\n",
       "      <th>user_id</th>\n",
       "    </tr>\n",
       "  </thead>\n",
       "  <tbody>\n",
       "    <tr>\n",
       "      <th>count</th>\n",
       "      <td>76051.000000</td>\n",
       "    </tr>\n",
       "    <tr>\n",
       "      <th>mean</th>\n",
       "      <td>1245.972768</td>\n",
       "    </tr>\n",
       "    <tr>\n",
       "      <th>std</th>\n",
       "      <td>139.843635</td>\n",
       "    </tr>\n",
       "    <tr>\n",
       "      <th>min</th>\n",
       "      <td>1000.000000</td>\n",
       "    </tr>\n",
       "    <tr>\n",
       "      <th>25%</th>\n",
       "      <td>1123.000000</td>\n",
       "    </tr>\n",
       "    <tr>\n",
       "      <th>50%</th>\n",
       "      <td>1251.000000</td>\n",
       "    </tr>\n",
       "    <tr>\n",
       "      <th>75%</th>\n",
       "      <td>1362.000000</td>\n",
       "    </tr>\n",
       "    <tr>\n",
       "      <th>max</th>\n",
       "      <td>1497.000000</td>\n",
       "    </tr>\n",
       "  </tbody>\n",
       "</table>\n",
       "</div>"
      ],
      "text/plain": [
       "            user_id\n",
       "count  76051.000000\n",
       "mean    1245.972768\n",
       "std      139.843635\n",
       "min     1000.000000\n",
       "25%     1123.000000\n",
       "50%     1251.000000\n",
       "75%     1362.000000\n",
       "max     1497.000000"
      ]
     },
     "execution_count": 40,
     "metadata": {},
     "output_type": "execute_result"
    }
   ],
   "source": [
    "messages.describe()"
   ]
  },
  {
   "cell_type": "code",
   "execution_count": 41,
   "metadata": {
    "id": "mCEl2iGE0q1A"
   },
   "outputs": [
    {
     "name": "stdout",
     "output_type": "stream",
     "text": [
      "0\n",
      "0\n"
     ]
    }
   ],
   "source": [
    "print(messages.duplicated(subset=[\"messages_id\", \"user_id\"]).sum())\n",
    "print(messages.duplicated(subset=[\"messages_id\"]).sum())"
   ]
  },
  {
   "cell_type": "markdown",
   "metadata": {
    "id": "04xDj7KH0q1A"
   },
   "source": [
    "[Describe lo que ves y observas en la información general y en la muestra de datos impresa para el precio de datos anterior. ¿Hay algún problema (tipos de datos no adecuados, datos ausentes, etc.) que pudieran necesitar investigación y cambios adicionales? ¿Cómo se puede arreglar?]"
   ]
  },
  {
   "cell_type": "markdown",
   "metadata": {},
   "source": [
    "Para el data frame de mensajes existen 4 columnas con 76051 filas de las cuales no se encontraron valores nulos asi cmo duplicados en el caso de describe podemos conlcuir que los mesajes minumos por usurios es de 1000 por mes mientras que la cantidad maxima por mensajes es de 1497 por mes"
   ]
  },
  {
   "cell_type": "markdown",
   "metadata": {
    "id": "Sprfak900q1B"
   },
   "source": [
    "### Corregir los datos"
   ]
  },
  {
   "cell_type": "code",
   "execution_count": 42,
   "metadata": {
    "id": "vsllvkoa0q1B"
   },
   "outputs": [
    {
     "name": "stdout",
     "output_type": "stream",
     "text": [
      "<class 'pandas.core.frame.DataFrame'>\n",
      "RangeIndex: 76051 entries, 0 to 76050\n",
      "Data columns (total 4 columns):\n",
      " #   Column        Non-Null Count  Dtype         \n",
      "---  ------        --------------  -----         \n",
      " 0   messages_id   76051 non-null  object        \n",
      " 1   user_id       76051 non-null  int64         \n",
      " 2   message_date  76051 non-null  datetime64[ns]\n",
      " 3   mes           76051 non-null  int32         \n",
      "dtypes: datetime64[ns](1), int32(1), int64(1), object(1)\n",
      "memory usage: 2.0+ MB\n",
      "None\n",
      "  messages_id  user_id message_date  mes\n",
      "0    1000_125     1000   2018-12-27   12\n",
      "1    1000_160     1000   2018-12-31   12\n",
      "2    1000_223     1000   2018-12-31   12\n",
      "3    1000_251     1000   2018-12-27   12\n",
      "4    1000_255     1000   2018-12-26   12\n"
     ]
    }
   ],
   "source": [
    "messages[\"message_date\"] = pd.to_datetime(messages[\"message_date\"], format=\"%Y-%m-%d\")\n",
    "messages[\"mes\"] = pd.DatetimeIndex(messages[\"message_date\"]).month\n",
    "\n",
    "print(messages.info())\n",
    "print(messages.head())"
   ]
  },
  {
   "cell_type": "code",
   "execution_count": 43,
   "metadata": {},
   "outputs": [
    {
     "name": "stdout",
     "output_type": "stream",
     "text": [
      "42808\n",
      "0\n"
     ]
    }
   ],
   "source": [
    "print(messages.duplicated(subset=[\"user_id\",\"message_date\"]).sum())\n",
    "print(messages.duplicated().sum())"
   ]
  },
  {
   "cell_type": "markdown",
   "metadata": {
    "id": "HvLid7iD0q1B"
   },
   "source": [
    "### Enriquecer los datos"
   ]
  },
  {
   "cell_type": "markdown",
   "metadata": {
    "id": "bStkaxn40q1C"
   },
   "source": [
    "## Internet"
   ]
  },
  {
   "cell_type": "code",
   "execution_count": 44,
   "metadata": {
    "id": "e-Uz5qyn0q1C"
   },
   "outputs": [
    {
     "name": "stdout",
     "output_type": "stream",
     "text": [
      "<class 'pandas.core.frame.DataFrame'>\n",
      "RangeIndex: 104825 entries, 0 to 104824\n",
      "Data columns (total 4 columns):\n",
      " #   Column        Non-Null Count   Dtype  \n",
      "---  ------        --------------   -----  \n",
      " 0   id            104825 non-null  object \n",
      " 1   user_id       104825 non-null  int64  \n",
      " 2   session_date  104825 non-null  object \n",
      " 3   mb_used       104825 non-null  float64\n",
      "dtypes: float64(1), int64(1), object(2)\n",
      "memory usage: 3.2+ MB\n"
     ]
    }
   ],
   "source": [
    "# Imprime la información general/resumida sobre el DataFrame de internet\n",
    "internet.info()\n",
    "internet.rename(columns={\"id\":\"internets_id\"},inplace=True)"
   ]
  },
  {
   "cell_type": "code",
   "execution_count": 45,
   "metadata": {},
   "outputs": [
    {
     "name": "stdout",
     "output_type": "stream",
     "text": [
      "  internets_id  user_id session_date  mb_used\n",
      "0      1000_13     1000   2018-12-29    89.86\n",
      "1     1000_204     1000   2018-12-31     0.00\n",
      "2     1000_379     1000   2018-12-28   660.40\n",
      "3     1000_413     1000   2018-12-26   270.99\n",
      "4     1000_442     1000   2018-12-27   880.22\n",
      "internets_id    0\n",
      "user_id         0\n",
      "session_date    0\n",
      "mb_used         0\n",
      "dtype: int64\n",
      "0\n"
     ]
    }
   ],
   "source": [
    "print(internet.head())\n",
    "print(internet.isnull().sum())\n",
    "print(internet.duplicated(subset=[\"internets_id\", \"user_id\"]).sum())"
   ]
  },
  {
   "cell_type": "code",
   "execution_count": 46,
   "metadata": {
    "id": "9r3x_XLw0q1C"
   },
   "outputs": [
    {
     "name": "stdout",
     "output_type": "stream",
     "text": [
      "<class 'pandas.core.frame.DataFrame'>\n",
      "RangeIndex: 104825 entries, 0 to 104824\n",
      "Data columns (total 4 columns):\n",
      " #   Column        Non-Null Count   Dtype         \n",
      "---  ------        --------------   -----         \n",
      " 0   internets_id  104825 non-null  object        \n",
      " 1   user_id       104825 non-null  int64         \n",
      " 2   session_date  104825 non-null  datetime64[ns]\n",
      " 3   mb_used       104825 non-null  float64       \n",
      "dtypes: datetime64[ns](1), float64(1), int64(1), object(1)\n",
      "memory usage: 3.2+ MB\n"
     ]
    }
   ],
   "source": [
    "internet[\"session_date\"]= pd.to_datetime(internet[\"session_date\"], format=\"%Y-%m-%d\")\n",
    "internet.info()"
   ]
  },
  {
   "cell_type": "markdown",
   "metadata": {},
   "source": [
    "Para estos datos existen 6 columnas con 104824 filas de las cuales concluimos para este caso que nohay datos nulos ni duplicados por lo cual ya podemos trabajar  con este data frame\n"
   ]
  },
  {
   "cell_type": "markdown",
   "metadata": {
    "id": "yA0tkPFg0q1D"
   },
   "source": [
    "### Corregir los datos"
   ]
  },
  {
   "cell_type": "code",
   "execution_count": 47,
   "metadata": {
    "id": "zVeanzdd0q1E"
   },
   "outputs": [
    {
     "name": "stdout",
     "output_type": "stream",
     "text": [
      "<class 'pandas.core.frame.DataFrame'>\n",
      "RangeIndex: 104825 entries, 0 to 104824\n",
      "Data columns (total 5 columns):\n",
      " #   Column         Non-Null Count   Dtype         \n",
      "---  ------         --------------   -----         \n",
      " 0   internets_id   104825 non-null  object        \n",
      " 1   user_id        104825 non-null  int64         \n",
      " 2   session_date   104825 non-null  datetime64[ns]\n",
      " 3   mb_used        104825 non-null  float64       \n",
      " 4   internet_date  104825 non-null  datetime64[ns]\n",
      "dtypes: datetime64[ns](2), float64(1), int64(1), object(1)\n",
      "memory usage: 4.0+ MB\n"
     ]
    }
   ],
   "source": [
    "#se debe cambiar el formato fecha\n",
    "internet[\"internet_date\"]= pd.to_datetime(internet[\"session_date\"], format=\"%Y-%m-%d\")\n",
    "internet.info()"
   ]
  },
  {
   "cell_type": "markdown",
   "metadata": {
    "id": "e8_mLF4a0q1E"
   },
   "source": [
    "### Enriquecer los datos"
   ]
  },
  {
   "cell_type": "code",
   "execution_count": 48,
   "metadata": {
    "id": "ESiYPIEK0q1E"
   },
   "outputs": [
    {
     "name": "stdout",
     "output_type": "stream",
     "text": [
      "<class 'pandas.core.frame.DataFrame'>\n",
      "RangeIndex: 104825 entries, 0 to 104824\n",
      "Data columns (total 6 columns):\n",
      " #   Column         Non-Null Count   Dtype         \n",
      "---  ------         --------------   -----         \n",
      " 0   internets_id   104825 non-null  object        \n",
      " 1   user_id        104825 non-null  int64         \n",
      " 2   session_date   104825 non-null  datetime64[ns]\n",
      " 3   mb_used        104825 non-null  float64       \n",
      " 4   internet_date  104825 non-null  datetime64[ns]\n",
      " 5   mes            104825 non-null  int32         \n",
      "dtypes: datetime64[ns](2), float64(1), int32(1), int64(1), object(1)\n",
      "memory usage: 4.4+ MB\n"
     ]
    },
    {
     "data": {
      "text/html": [
       "<div>\n",
       "<style scoped>\n",
       "    .dataframe tbody tr th:only-of-type {\n",
       "        vertical-align: middle;\n",
       "    }\n",
       "\n",
       "    .dataframe tbody tr th {\n",
       "        vertical-align: top;\n",
       "    }\n",
       "\n",
       "    .dataframe thead th {\n",
       "        text-align: right;\n",
       "    }\n",
       "</style>\n",
       "<table border=\"1\" class=\"dataframe\">\n",
       "  <thead>\n",
       "    <tr style=\"text-align: right;\">\n",
       "      <th></th>\n",
       "      <th>internets_id</th>\n",
       "      <th>user_id</th>\n",
       "      <th>session_date</th>\n",
       "      <th>mb_used</th>\n",
       "      <th>internet_date</th>\n",
       "      <th>mes</th>\n",
       "    </tr>\n",
       "  </thead>\n",
       "  <tbody>\n",
       "    <tr>\n",
       "      <th>0</th>\n",
       "      <td>1000_13</td>\n",
       "      <td>1000</td>\n",
       "      <td>2018-12-29</td>\n",
       "      <td>89.86</td>\n",
       "      <td>2018-12-29</td>\n",
       "      <td>12</td>\n",
       "    </tr>\n",
       "    <tr>\n",
       "      <th>1</th>\n",
       "      <td>1000_204</td>\n",
       "      <td>1000</td>\n",
       "      <td>2018-12-31</td>\n",
       "      <td>0.00</td>\n",
       "      <td>2018-12-31</td>\n",
       "      <td>12</td>\n",
       "    </tr>\n",
       "    <tr>\n",
       "      <th>2</th>\n",
       "      <td>1000_379</td>\n",
       "      <td>1000</td>\n",
       "      <td>2018-12-28</td>\n",
       "      <td>660.40</td>\n",
       "      <td>2018-12-28</td>\n",
       "      <td>12</td>\n",
       "    </tr>\n",
       "    <tr>\n",
       "      <th>3</th>\n",
       "      <td>1000_413</td>\n",
       "      <td>1000</td>\n",
       "      <td>2018-12-26</td>\n",
       "      <td>270.99</td>\n",
       "      <td>2018-12-26</td>\n",
       "      <td>12</td>\n",
       "    </tr>\n",
       "    <tr>\n",
       "      <th>4</th>\n",
       "      <td>1000_442</td>\n",
       "      <td>1000</td>\n",
       "      <td>2018-12-27</td>\n",
       "      <td>880.22</td>\n",
       "      <td>2018-12-27</td>\n",
       "      <td>12</td>\n",
       "    </tr>\n",
       "  </tbody>\n",
       "</table>\n",
       "</div>"
      ],
      "text/plain": [
       "  internets_id  user_id session_date  mb_used internet_date  mes\n",
       "0      1000_13     1000   2018-12-29    89.86    2018-12-29   12\n",
       "1     1000_204     1000   2018-12-31     0.00    2018-12-31   12\n",
       "2     1000_379     1000   2018-12-28   660.40    2018-12-28   12\n",
       "3     1000_413     1000   2018-12-26   270.99    2018-12-26   12\n",
       "4     1000_442     1000   2018-12-27   880.22    2018-12-27   12"
      ]
     },
     "execution_count": 48,
     "metadata": {},
     "output_type": "execute_result"
    }
   ],
   "source": [
    "internet[\"mes\"]= pd.DatetimeIndex(internet[\"session_date\"]).month\n",
    "internet.info()\n",
    "internet.head()"
   ]
  },
  {
   "cell_type": "code",
   "execution_count": 49,
   "metadata": {},
   "outputs": [
    {
     "data": {
      "text/html": [
       "<div>\n",
       "<style scoped>\n",
       "    .dataframe tbody tr th:only-of-type {\n",
       "        vertical-align: middle;\n",
       "    }\n",
       "\n",
       "    .dataframe tbody tr th {\n",
       "        vertical-align: top;\n",
       "    }\n",
       "\n",
       "    .dataframe thead th {\n",
       "        text-align: right;\n",
       "    }\n",
       "</style>\n",
       "<table border=\"1\" class=\"dataframe\">\n",
       "  <thead>\n",
       "    <tr style=\"text-align: right;\">\n",
       "      <th></th>\n",
       "      <th>user_id</th>\n",
       "      <th>session_date</th>\n",
       "      <th>mb_used</th>\n",
       "      <th>internet_date</th>\n",
       "      <th>mes</th>\n",
       "    </tr>\n",
       "  </thead>\n",
       "  <tbody>\n",
       "    <tr>\n",
       "      <th>count</th>\n",
       "      <td>104825.000000</td>\n",
       "      <td>104825</td>\n",
       "      <td>104825.000000</td>\n",
       "      <td>104825</td>\n",
       "      <td>104825.000000</td>\n",
       "    </tr>\n",
       "    <tr>\n",
       "      <th>mean</th>\n",
       "      <td>1242.496361</td>\n",
       "      <td>2018-09-26 11:37:55.048890880</td>\n",
       "      <td>366.713701</td>\n",
       "      <td>2018-09-26 11:37:55.048890880</td>\n",
       "      <td>9.342552</td>\n",
       "    </tr>\n",
       "    <tr>\n",
       "      <th>min</th>\n",
       "      <td>1000.000000</td>\n",
       "      <td>2018-01-15 00:00:00</td>\n",
       "      <td>0.000000</td>\n",
       "      <td>2018-01-15 00:00:00</td>\n",
       "      <td>1.000000</td>\n",
       "    </tr>\n",
       "    <tr>\n",
       "      <th>25%</th>\n",
       "      <td>1122.000000</td>\n",
       "      <td>2018-08-11 00:00:00</td>\n",
       "      <td>136.080000</td>\n",
       "      <td>2018-08-11 00:00:00</td>\n",
       "      <td>8.000000</td>\n",
       "    </tr>\n",
       "    <tr>\n",
       "      <th>50%</th>\n",
       "      <td>1236.000000</td>\n",
       "      <td>2018-10-13 00:00:00</td>\n",
       "      <td>343.980000</td>\n",
       "      <td>2018-10-13 00:00:00</td>\n",
       "      <td>10.000000</td>\n",
       "    </tr>\n",
       "    <tr>\n",
       "      <th>75%</th>\n",
       "      <td>1367.000000</td>\n",
       "      <td>2018-11-27 00:00:00</td>\n",
       "      <td>554.610000</td>\n",
       "      <td>2018-11-27 00:00:00</td>\n",
       "      <td>11.000000</td>\n",
       "    </tr>\n",
       "    <tr>\n",
       "      <th>max</th>\n",
       "      <td>1499.000000</td>\n",
       "      <td>2018-12-31 00:00:00</td>\n",
       "      <td>1693.470000</td>\n",
       "      <td>2018-12-31 00:00:00</td>\n",
       "      <td>12.000000</td>\n",
       "    </tr>\n",
       "    <tr>\n",
       "      <th>std</th>\n",
       "      <td>142.053913</td>\n",
       "      <td>NaN</td>\n",
       "      <td>277.170542</td>\n",
       "      <td>NaN</td>\n",
       "      <td>2.400404</td>\n",
       "    </tr>\n",
       "  </tbody>\n",
       "</table>\n",
       "</div>"
      ],
      "text/plain": [
       "             user_id                   session_date        mb_used  \\\n",
       "count  104825.000000                         104825  104825.000000   \n",
       "mean     1242.496361  2018-09-26 11:37:55.048890880     366.713701   \n",
       "min      1000.000000            2018-01-15 00:00:00       0.000000   \n",
       "25%      1122.000000            2018-08-11 00:00:00     136.080000   \n",
       "50%      1236.000000            2018-10-13 00:00:00     343.980000   \n",
       "75%      1367.000000            2018-11-27 00:00:00     554.610000   \n",
       "max      1499.000000            2018-12-31 00:00:00    1693.470000   \n",
       "std       142.053913                            NaN     277.170542   \n",
       "\n",
       "                       internet_date            mes  \n",
       "count                         104825  104825.000000  \n",
       "mean   2018-09-26 11:37:55.048890880       9.342552  \n",
       "min              2018-01-15 00:00:00       1.000000  \n",
       "25%              2018-08-11 00:00:00       8.000000  \n",
       "50%              2018-10-13 00:00:00      10.000000  \n",
       "75%              2018-11-27 00:00:00      11.000000  \n",
       "max              2018-12-31 00:00:00      12.000000  \n",
       "std                              NaN       2.400404  "
      ]
     },
     "execution_count": 49,
     "metadata": {},
     "output_type": "execute_result"
    }
   ],
   "source": [
    "internet.describe()"
   ]
  },
  {
   "cell_type": "code",
   "execution_count": 50,
   "metadata": {},
   "outputs": [
    {
     "name": "stdout",
     "output_type": "stream",
     "text": [
      "       internets_id  user_id session_date  mb_used internet_date  mes\n",
      "1          1000_204     1000   2018-12-31      0.0    2018-12-31   12\n",
      "14          1001_26     1001   2018-09-17      0.0    2018-09-17    9\n",
      "16          1001_28     1001   2018-10-17      0.0    2018-10-17   10\n",
      "34          1001_54     1001   2018-09-02      0.0    2018-09-02    9\n",
      "43          1001_77     1001   2018-10-31      0.0    2018-10-31   10\n",
      "...             ...      ...          ...      ...           ...  ...\n",
      "104797     1499_192     1499   2018-09-19      0.0    2018-09-19    9\n",
      "104804     1499_199     1499   2018-12-09      0.0    2018-12-09   12\n",
      "104816     1499_211     1499   2018-09-26      0.0    2018-09-26    9\n",
      "104817     1499_212     1499   2018-09-11      0.0    2018-09-11    9\n",
      "104823     1499_218     1499   2018-12-07      0.0    2018-12-07   12\n",
      "\n",
      "[13747 rows x 6 columns]\n",
      "\n",
      "13.11423801574052\n"
     ]
    }
   ],
   "source": [
    "#la cantidad minima de los usuarios con respecto a los mb es cero, queremos saber por que\n",
    "#query lo usamos para filtar\n",
    "print(internet.query(\"mb_used==0\"))\n",
    "print()\n",
    "print(len(internet.query(\"mb_used==0\"))/len(internet)*100)"
   ]
  },
  {
   "cell_type": "markdown",
   "metadata": {},
   "source": [
    "El mas de 13% de los datos no usan mb "
   ]
  },
  {
   "cell_type": "markdown",
   "metadata": {
    "id": "3UA2cqIW0q1E"
   },
   "source": [
    "## Estudiar las condiciones de las tarifas"
   ]
  },
  {
   "cell_type": "code",
   "execution_count": 51,
   "metadata": {
    "id": "A332cedB0q1G"
   },
   "outputs": [
    {
     "name": "stdout",
     "output_type": "stream",
     "text": [
      "      user_id  mes  minutos_usados  llamadas_hechas\n",
      "0        1000   12              16            124.0\n",
      "1        1001    8              27            182.0\n",
      "2        1001    9              49            315.0\n",
      "3        1001   10              65            393.0\n",
      "4        1001   11              64            426.0\n",
      "...       ...  ...             ...              ...\n",
      "2253     1498   12              39            339.0\n",
      "2254     1499    9              41            346.0\n",
      "2255     1499   10              53            385.0\n",
      "2256     1499   11              45            308.0\n",
      "2257     1499   12              65            496.0\n",
      "\n",
      "[2258 rows x 4 columns]\n"
     ]
    }
   ],
   "source": [
    "print(calls_analytics)\n"
   ]
  },
  {
   "cell_type": "code",
   "execution_count": 52,
   "metadata": {
    "id": "CcQvNHn60q1G"
   },
   "outputs": [],
   "source": [
    "# Calcula el número de mensajes enviados por cada usuario al mes. Guarda el resultado.\n",
    "messages_analytics = messages.pivot_table(index=[\"user_id\", \"mes\"], values=\"messages_id\", aggfunc=\"count\")"
   ]
  },
  {
   "cell_type": "code",
   "execution_count": 53,
   "metadata": {},
   "outputs": [
    {
     "data": {
      "text/html": [
       "<div>\n",
       "<style scoped>\n",
       "    .dataframe tbody tr th:only-of-type {\n",
       "        vertical-align: middle;\n",
       "    }\n",
       "\n",
       "    .dataframe tbody tr th {\n",
       "        vertical-align: top;\n",
       "    }\n",
       "\n",
       "    .dataframe thead th {\n",
       "        text-align: right;\n",
       "    }\n",
       "</style>\n",
       "<table border=\"1\" class=\"dataframe\">\n",
       "  <thead>\n",
       "    <tr style=\"text-align: right;\">\n",
       "      <th></th>\n",
       "      <th></th>\n",
       "      <th>messages_id</th>\n",
       "    </tr>\n",
       "    <tr>\n",
       "      <th>user_id</th>\n",
       "      <th>mes</th>\n",
       "      <th></th>\n",
       "    </tr>\n",
       "  </thead>\n",
       "  <tbody>\n",
       "    <tr>\n",
       "      <th>1000</th>\n",
       "      <th>12</th>\n",
       "      <td>11</td>\n",
       "    </tr>\n",
       "    <tr>\n",
       "      <th rowspan=\"4\" valign=\"top\">1001</th>\n",
       "      <th>8</th>\n",
       "      <td>30</td>\n",
       "    </tr>\n",
       "    <tr>\n",
       "      <th>9</th>\n",
       "      <td>44</td>\n",
       "    </tr>\n",
       "    <tr>\n",
       "      <th>10</th>\n",
       "      <td>53</td>\n",
       "    </tr>\n",
       "    <tr>\n",
       "      <th>11</th>\n",
       "      <td>36</td>\n",
       "    </tr>\n",
       "  </tbody>\n",
       "</table>\n",
       "</div>"
      ],
      "text/plain": [
       "             messages_id\n",
       "user_id mes             \n",
       "1000    12            11\n",
       "1001    8             30\n",
       "        9             44\n",
       "        10            53\n",
       "        11            36"
      ]
     },
     "execution_count": 53,
     "metadata": {},
     "output_type": "execute_result"
    }
   ],
   "source": [
    "messages_analytics.head()"
   ]
  },
  {
   "cell_type": "code",
   "execution_count": 54,
   "metadata": {},
   "outputs": [],
   "source": [
    "messages_analytics.columns = ['numero_de_mensajes']"
   ]
  },
  {
   "cell_type": "code",
   "execution_count": 55,
   "metadata": {},
   "outputs": [],
   "source": [
    "messages_analytics=messages_analytics.reset_index()"
   ]
  },
  {
   "cell_type": "code",
   "execution_count": 56,
   "metadata": {},
   "outputs": [
    {
     "data": {
      "text/html": [
       "<div>\n",
       "<style scoped>\n",
       "    .dataframe tbody tr th:only-of-type {\n",
       "        vertical-align: middle;\n",
       "    }\n",
       "\n",
       "    .dataframe tbody tr th {\n",
       "        vertical-align: top;\n",
       "    }\n",
       "\n",
       "    .dataframe thead th {\n",
       "        text-align: right;\n",
       "    }\n",
       "</style>\n",
       "<table border=\"1\" class=\"dataframe\">\n",
       "  <thead>\n",
       "    <tr style=\"text-align: right;\">\n",
       "      <th></th>\n",
       "      <th>user_id</th>\n",
       "      <th>mes</th>\n",
       "      <th>numero_de_mensajes</th>\n",
       "    </tr>\n",
       "  </thead>\n",
       "  <tbody>\n",
       "    <tr>\n",
       "      <th>0</th>\n",
       "      <td>1000</td>\n",
       "      <td>12</td>\n",
       "      <td>11</td>\n",
       "    </tr>\n",
       "    <tr>\n",
       "      <th>1</th>\n",
       "      <td>1001</td>\n",
       "      <td>8</td>\n",
       "      <td>30</td>\n",
       "    </tr>\n",
       "    <tr>\n",
       "      <th>2</th>\n",
       "      <td>1001</td>\n",
       "      <td>9</td>\n",
       "      <td>44</td>\n",
       "    </tr>\n",
       "    <tr>\n",
       "      <th>3</th>\n",
       "      <td>1001</td>\n",
       "      <td>10</td>\n",
       "      <td>53</td>\n",
       "    </tr>\n",
       "    <tr>\n",
       "      <th>4</th>\n",
       "      <td>1001</td>\n",
       "      <td>11</td>\n",
       "      <td>36</td>\n",
       "    </tr>\n",
       "    <tr>\n",
       "      <th>...</th>\n",
       "      <td>...</td>\n",
       "      <td>...</td>\n",
       "      <td>...</td>\n",
       "    </tr>\n",
       "    <tr>\n",
       "      <th>1801</th>\n",
       "      <td>1496</td>\n",
       "      <td>9</td>\n",
       "      <td>21</td>\n",
       "    </tr>\n",
       "    <tr>\n",
       "      <th>1802</th>\n",
       "      <td>1496</td>\n",
       "      <td>10</td>\n",
       "      <td>18</td>\n",
       "    </tr>\n",
       "    <tr>\n",
       "      <th>1803</th>\n",
       "      <td>1496</td>\n",
       "      <td>11</td>\n",
       "      <td>13</td>\n",
       "    </tr>\n",
       "    <tr>\n",
       "      <th>1804</th>\n",
       "      <td>1496</td>\n",
       "      <td>12</td>\n",
       "      <td>11</td>\n",
       "    </tr>\n",
       "    <tr>\n",
       "      <th>1805</th>\n",
       "      <td>1497</td>\n",
       "      <td>12</td>\n",
       "      <td>50</td>\n",
       "    </tr>\n",
       "  </tbody>\n",
       "</table>\n",
       "<p>1806 rows × 3 columns</p>\n",
       "</div>"
      ],
      "text/plain": [
       "      user_id  mes  numero_de_mensajes\n",
       "0        1000   12                  11\n",
       "1        1001    8                  30\n",
       "2        1001    9                  44\n",
       "3        1001   10                  53\n",
       "4        1001   11                  36\n",
       "...       ...  ...                 ...\n",
       "1801     1496    9                  21\n",
       "1802     1496   10                  18\n",
       "1803     1496   11                  13\n",
       "1804     1496   12                  11\n",
       "1805     1497   12                  50\n",
       "\n",
       "[1806 rows x 3 columns]"
      ]
     },
     "execution_count": 56,
     "metadata": {},
     "output_type": "execute_result"
    }
   ],
   "source": [
    "messages_analytics"
   ]
  },
  {
   "cell_type": "code",
   "execution_count": 57,
   "metadata": {
    "id": "H1AqN2eG0q1H"
   },
   "outputs": [],
   "source": [
    "# Calcula el volumen del tráfico de Internet usado por cada usuario al mes. Guarda el resultado.\n",
    "internet_analytics=internet.pivot_table(index=[\"user_id\",\"mes\"], values=\"mb_used\", aggfunc=\"sum\")"
   ]
  },
  {
   "cell_type": "code",
   "execution_count": 58,
   "metadata": {},
   "outputs": [],
   "source": [
    "internet_analytics.columns=[\"total_de_datos_usados\"]"
   ]
  },
  {
   "cell_type": "code",
   "execution_count": 59,
   "metadata": {},
   "outputs": [],
   "source": [
    "internet_analytics=internet_analytics.reset_index()"
   ]
  },
  {
   "cell_type": "code",
   "execution_count": 60,
   "metadata": {},
   "outputs": [
    {
     "data": {
      "text/html": [
       "<div>\n",
       "<style scoped>\n",
       "    .dataframe tbody tr th:only-of-type {\n",
       "        vertical-align: middle;\n",
       "    }\n",
       "\n",
       "    .dataframe tbody tr th {\n",
       "        vertical-align: top;\n",
       "    }\n",
       "\n",
       "    .dataframe thead th {\n",
       "        text-align: right;\n",
       "    }\n",
       "</style>\n",
       "<table border=\"1\" class=\"dataframe\">\n",
       "  <thead>\n",
       "    <tr style=\"text-align: right;\">\n",
       "      <th></th>\n",
       "      <th>user_id</th>\n",
       "      <th>mes</th>\n",
       "      <th>total_de_datos_usados</th>\n",
       "    </tr>\n",
       "  </thead>\n",
       "  <tbody>\n",
       "    <tr>\n",
       "      <th>0</th>\n",
       "      <td>1000</td>\n",
       "      <td>12</td>\n",
       "      <td>1901.47</td>\n",
       "    </tr>\n",
       "    <tr>\n",
       "      <th>1</th>\n",
       "      <td>1001</td>\n",
       "      <td>8</td>\n",
       "      <td>6919.15</td>\n",
       "    </tr>\n",
       "    <tr>\n",
       "      <th>2</th>\n",
       "      <td>1001</td>\n",
       "      <td>9</td>\n",
       "      <td>13314.82</td>\n",
       "    </tr>\n",
       "    <tr>\n",
       "      <th>3</th>\n",
       "      <td>1001</td>\n",
       "      <td>10</td>\n",
       "      <td>22330.49</td>\n",
       "    </tr>\n",
       "    <tr>\n",
       "      <th>4</th>\n",
       "      <td>1001</td>\n",
       "      <td>11</td>\n",
       "      <td>18504.30</td>\n",
       "    </tr>\n",
       "    <tr>\n",
       "      <th>...</th>\n",
       "      <td>...</td>\n",
       "      <td>...</td>\n",
       "      <td>...</td>\n",
       "    </tr>\n",
       "    <tr>\n",
       "      <th>2272</th>\n",
       "      <td>1498</td>\n",
       "      <td>12</td>\n",
       "      <td>23137.69</td>\n",
       "    </tr>\n",
       "    <tr>\n",
       "      <th>2273</th>\n",
       "      <td>1499</td>\n",
       "      <td>9</td>\n",
       "      <td>12984.76</td>\n",
       "    </tr>\n",
       "    <tr>\n",
       "      <th>2274</th>\n",
       "      <td>1499</td>\n",
       "      <td>10</td>\n",
       "      <td>19492.43</td>\n",
       "    </tr>\n",
       "    <tr>\n",
       "      <th>2275</th>\n",
       "      <td>1499</td>\n",
       "      <td>11</td>\n",
       "      <td>16813.83</td>\n",
       "    </tr>\n",
       "    <tr>\n",
       "      <th>2276</th>\n",
       "      <td>1499</td>\n",
       "      <td>12</td>\n",
       "      <td>22059.21</td>\n",
       "    </tr>\n",
       "  </tbody>\n",
       "</table>\n",
       "<p>2277 rows × 3 columns</p>\n",
       "</div>"
      ],
      "text/plain": [
       "      user_id  mes  total_de_datos_usados\n",
       "0        1000   12                1901.47\n",
       "1        1001    8                6919.15\n",
       "2        1001    9               13314.82\n",
       "3        1001   10               22330.49\n",
       "4        1001   11               18504.30\n",
       "...       ...  ...                    ...\n",
       "2272     1498   12               23137.69\n",
       "2273     1499    9               12984.76\n",
       "2274     1499   10               19492.43\n",
       "2275     1499   11               16813.83\n",
       "2276     1499   12               22059.21\n",
       "\n",
       "[2277 rows x 3 columns]"
      ]
     },
     "execution_count": 60,
     "metadata": {},
     "output_type": "execute_result"
    }
   ],
   "source": [
    "internet_analytics"
   ]
  },
  {
   "cell_type": "code",
   "execution_count": 61,
   "metadata": {},
   "outputs": [],
   "source": [
    "def datos_redondeo(mb):\n",
    "    redondeo=math.ceil(mb/1024)\n",
    "    return redondeo"
   ]
  },
  {
   "cell_type": "code",
   "execution_count": 62,
   "metadata": {},
   "outputs": [
    {
     "ename": "NameError",
     "evalue": "name 'math' is not defined",
     "output_type": "error",
     "traceback": [
      "\u001b[1;31m---------------------------------------------------------------------------\u001b[0m",
      "\u001b[1;31mNameError\u001b[0m                                 Traceback (most recent call last)",
      "Cell \u001b[1;32mIn[62], line 1\u001b[0m\n\u001b[1;32m----> 1\u001b[0m internet_analytics[\u001b[38;5;124m\"\u001b[39m\u001b[38;5;124mtotal_de_datos_usados_redondeado\u001b[39m\u001b[38;5;124m\"\u001b[39m]\u001b[38;5;241m=\u001b[39minternet_analytics[\u001b[38;5;124m\"\u001b[39m\u001b[38;5;124mtotal_de_datos_usados\u001b[39m\u001b[38;5;124m\"\u001b[39m]\u001b[38;5;241m.\u001b[39mapply(datos_redondeo)\n",
      "File \u001b[1;32me:\\Users\\Guillen\\anaconda3\\Lib\\site-packages\\pandas\\core\\series.py:4764\u001b[0m, in \u001b[0;36mSeries.apply\u001b[1;34m(self, func, convert_dtype, args, by_row, **kwargs)\u001b[0m\n\u001b[0;32m   4629\u001b[0m \u001b[38;5;28;01mdef\u001b[39;00m \u001b[38;5;21mapply\u001b[39m(\n\u001b[0;32m   4630\u001b[0m     \u001b[38;5;28mself\u001b[39m,\n\u001b[0;32m   4631\u001b[0m     func: AggFuncType,\n\u001b[1;32m   (...)\u001b[0m\n\u001b[0;32m   4636\u001b[0m     \u001b[38;5;241m*\u001b[39m\u001b[38;5;241m*\u001b[39mkwargs,\n\u001b[0;32m   4637\u001b[0m ) \u001b[38;5;241m-\u001b[39m\u001b[38;5;241m>\u001b[39m DataFrame \u001b[38;5;241m|\u001b[39m Series:\n\u001b[0;32m   4638\u001b[0m \u001b[38;5;250m    \u001b[39m\u001b[38;5;124;03m\"\"\"\u001b[39;00m\n\u001b[0;32m   4639\u001b[0m \u001b[38;5;124;03m    Invoke function on values of Series.\u001b[39;00m\n\u001b[0;32m   4640\u001b[0m \n\u001b[1;32m   (...)\u001b[0m\n\u001b[0;32m   4755\u001b[0m \u001b[38;5;124;03m    dtype: float64\u001b[39;00m\n\u001b[0;32m   4756\u001b[0m \u001b[38;5;124;03m    \"\"\"\u001b[39;00m\n\u001b[0;32m   4757\u001b[0m     \u001b[38;5;28;01mreturn\u001b[39;00m SeriesApply(\n\u001b[0;32m   4758\u001b[0m         \u001b[38;5;28mself\u001b[39m,\n\u001b[0;32m   4759\u001b[0m         func,\n\u001b[0;32m   4760\u001b[0m         convert_dtype\u001b[38;5;241m=\u001b[39mconvert_dtype,\n\u001b[0;32m   4761\u001b[0m         by_row\u001b[38;5;241m=\u001b[39mby_row,\n\u001b[0;32m   4762\u001b[0m         args\u001b[38;5;241m=\u001b[39margs,\n\u001b[0;32m   4763\u001b[0m         kwargs\u001b[38;5;241m=\u001b[39mkwargs,\n\u001b[1;32m-> 4764\u001b[0m     )\u001b[38;5;241m.\u001b[39mapply()\n",
      "File \u001b[1;32me:\\Users\\Guillen\\anaconda3\\Lib\\site-packages\\pandas\\core\\apply.py:1209\u001b[0m, in \u001b[0;36mSeriesApply.apply\u001b[1;34m(self)\u001b[0m\n\u001b[0;32m   1206\u001b[0m     \u001b[38;5;28;01mreturn\u001b[39;00m \u001b[38;5;28mself\u001b[39m\u001b[38;5;241m.\u001b[39mapply_compat()\n\u001b[0;32m   1208\u001b[0m \u001b[38;5;66;03m# self.func is Callable\u001b[39;00m\n\u001b[1;32m-> 1209\u001b[0m \u001b[38;5;28;01mreturn\u001b[39;00m \u001b[38;5;28mself\u001b[39m\u001b[38;5;241m.\u001b[39mapply_standard()\n",
      "File \u001b[1;32me:\\Users\\Guillen\\anaconda3\\Lib\\site-packages\\pandas\\core\\apply.py:1289\u001b[0m, in \u001b[0;36mSeriesApply.apply_standard\u001b[1;34m(self)\u001b[0m\n\u001b[0;32m   1283\u001b[0m \u001b[38;5;66;03m# row-wise access\u001b[39;00m\n\u001b[0;32m   1284\u001b[0m \u001b[38;5;66;03m# apply doesn't have a `na_action` keyword and for backward compat reasons\u001b[39;00m\n\u001b[0;32m   1285\u001b[0m \u001b[38;5;66;03m# we need to give `na_action=\"ignore\"` for categorical data.\u001b[39;00m\n\u001b[0;32m   1286\u001b[0m \u001b[38;5;66;03m# TODO: remove the `na_action=\"ignore\"` when that default has been changed in\u001b[39;00m\n\u001b[0;32m   1287\u001b[0m \u001b[38;5;66;03m#  Categorical (GH51645).\u001b[39;00m\n\u001b[0;32m   1288\u001b[0m action \u001b[38;5;241m=\u001b[39m \u001b[38;5;124m\"\u001b[39m\u001b[38;5;124mignore\u001b[39m\u001b[38;5;124m\"\u001b[39m \u001b[38;5;28;01mif\u001b[39;00m \u001b[38;5;28misinstance\u001b[39m(obj\u001b[38;5;241m.\u001b[39mdtype, CategoricalDtype) \u001b[38;5;28;01melse\u001b[39;00m \u001b[38;5;28;01mNone\u001b[39;00m\n\u001b[1;32m-> 1289\u001b[0m mapped \u001b[38;5;241m=\u001b[39m obj\u001b[38;5;241m.\u001b[39m_map_values(\n\u001b[0;32m   1290\u001b[0m     mapper\u001b[38;5;241m=\u001b[39mcurried, na_action\u001b[38;5;241m=\u001b[39maction, convert\u001b[38;5;241m=\u001b[39m\u001b[38;5;28mself\u001b[39m\u001b[38;5;241m.\u001b[39mconvert_dtype\n\u001b[0;32m   1291\u001b[0m )\n\u001b[0;32m   1293\u001b[0m \u001b[38;5;28;01mif\u001b[39;00m \u001b[38;5;28mlen\u001b[39m(mapped) \u001b[38;5;129;01mand\u001b[39;00m \u001b[38;5;28misinstance\u001b[39m(mapped[\u001b[38;5;241m0\u001b[39m], ABCSeries):\n\u001b[0;32m   1294\u001b[0m     \u001b[38;5;66;03m# GH#43986 Need to do list(mapped) in order to get treated as nested\u001b[39;00m\n\u001b[0;32m   1295\u001b[0m     \u001b[38;5;66;03m#  See also GH#25959 regarding EA support\u001b[39;00m\n\u001b[0;32m   1296\u001b[0m     \u001b[38;5;28;01mreturn\u001b[39;00m obj\u001b[38;5;241m.\u001b[39m_constructor_expanddim(\u001b[38;5;28mlist\u001b[39m(mapped), index\u001b[38;5;241m=\u001b[39mobj\u001b[38;5;241m.\u001b[39mindex)\n",
      "File \u001b[1;32me:\\Users\\Guillen\\anaconda3\\Lib\\site-packages\\pandas\\core\\base.py:921\u001b[0m, in \u001b[0;36mIndexOpsMixin._map_values\u001b[1;34m(self, mapper, na_action, convert)\u001b[0m\n\u001b[0;32m    918\u001b[0m \u001b[38;5;28;01mif\u001b[39;00m \u001b[38;5;28misinstance\u001b[39m(arr, ExtensionArray):\n\u001b[0;32m    919\u001b[0m     \u001b[38;5;28;01mreturn\u001b[39;00m arr\u001b[38;5;241m.\u001b[39mmap(mapper, na_action\u001b[38;5;241m=\u001b[39mna_action)\n\u001b[1;32m--> 921\u001b[0m \u001b[38;5;28;01mreturn\u001b[39;00m algorithms\u001b[38;5;241m.\u001b[39mmap_array(arr, mapper, na_action\u001b[38;5;241m=\u001b[39mna_action, convert\u001b[38;5;241m=\u001b[39mconvert)\n",
      "File \u001b[1;32me:\\Users\\Guillen\\anaconda3\\Lib\\site-packages\\pandas\\core\\algorithms.py:1814\u001b[0m, in \u001b[0;36mmap_array\u001b[1;34m(arr, mapper, na_action, convert)\u001b[0m\n\u001b[0;32m   1812\u001b[0m values \u001b[38;5;241m=\u001b[39m arr\u001b[38;5;241m.\u001b[39mastype(\u001b[38;5;28mobject\u001b[39m, copy\u001b[38;5;241m=\u001b[39m\u001b[38;5;28;01mFalse\u001b[39;00m)\n\u001b[0;32m   1813\u001b[0m \u001b[38;5;28;01mif\u001b[39;00m na_action \u001b[38;5;129;01mis\u001b[39;00m \u001b[38;5;28;01mNone\u001b[39;00m:\n\u001b[1;32m-> 1814\u001b[0m     \u001b[38;5;28;01mreturn\u001b[39;00m lib\u001b[38;5;241m.\u001b[39mmap_infer(values, mapper, convert\u001b[38;5;241m=\u001b[39mconvert)\n\u001b[0;32m   1815\u001b[0m \u001b[38;5;28;01melse\u001b[39;00m:\n\u001b[0;32m   1816\u001b[0m     \u001b[38;5;28;01mreturn\u001b[39;00m lib\u001b[38;5;241m.\u001b[39mmap_infer_mask(\n\u001b[0;32m   1817\u001b[0m         values, mapper, mask\u001b[38;5;241m=\u001b[39misna(values)\u001b[38;5;241m.\u001b[39mview(np\u001b[38;5;241m.\u001b[39muint8), convert\u001b[38;5;241m=\u001b[39mconvert\n\u001b[0;32m   1818\u001b[0m     )\n",
      "File \u001b[1;32mlib.pyx:2926\u001b[0m, in \u001b[0;36mpandas._libs.lib.map_infer\u001b[1;34m()\u001b[0m\n",
      "Cell \u001b[1;32mIn[61], line 2\u001b[0m, in \u001b[0;36mdatos_redondeo\u001b[1;34m(mb)\u001b[0m\n\u001b[0;32m      1\u001b[0m \u001b[38;5;28;01mdef\u001b[39;00m \u001b[38;5;21mdatos_redondeo\u001b[39m(mb):\n\u001b[1;32m----> 2\u001b[0m     redondeo\u001b[38;5;241m=\u001b[39mmath\u001b[38;5;241m.\u001b[39mceil(mb\u001b[38;5;241m/\u001b[39m\u001b[38;5;241m1024\u001b[39m)\n\u001b[0;32m      3\u001b[0m     \u001b[38;5;28;01mreturn\u001b[39;00m redondeo\n",
      "\u001b[1;31mNameError\u001b[0m: name 'math' is not defined"
     ]
    }
   ],
   "source": [
    "internet_analytics[\"total_de_datos_usados_redondeado\"]=internet_analytics[\"total_de_datos_usados\"].apply(datos_redondeo)"
   ]
  },
  {
   "cell_type": "code",
   "execution_count": null,
   "metadata": {},
   "outputs": [
    {
     "data": {
      "text/html": [
       "<div>\n",
       "<style scoped>\n",
       "    .dataframe tbody tr th:only-of-type {\n",
       "        vertical-align: middle;\n",
       "    }\n",
       "\n",
       "    .dataframe tbody tr th {\n",
       "        vertical-align: top;\n",
       "    }\n",
       "\n",
       "    .dataframe thead th {\n",
       "        text-align: right;\n",
       "    }\n",
       "</style>\n",
       "<table border=\"1\" class=\"dataframe\">\n",
       "  <thead>\n",
       "    <tr style=\"text-align: right;\">\n",
       "      <th></th>\n",
       "      <th>user_id</th>\n",
       "      <th>mes</th>\n",
       "      <th>total_de_datos_usados</th>\n",
       "      <th>total_de_datos_usados_redondeado</th>\n",
       "    </tr>\n",
       "  </thead>\n",
       "  <tbody>\n",
       "    <tr>\n",
       "      <th>0</th>\n",
       "      <td>1000</td>\n",
       "      <td>12</td>\n",
       "      <td>1901.47</td>\n",
       "      <td>2</td>\n",
       "    </tr>\n",
       "    <tr>\n",
       "      <th>1</th>\n",
       "      <td>1001</td>\n",
       "      <td>8</td>\n",
       "      <td>6919.15</td>\n",
       "      <td>7</td>\n",
       "    </tr>\n",
       "    <tr>\n",
       "      <th>2</th>\n",
       "      <td>1001</td>\n",
       "      <td>9</td>\n",
       "      <td>13314.82</td>\n",
       "      <td>14</td>\n",
       "    </tr>\n",
       "    <tr>\n",
       "      <th>3</th>\n",
       "      <td>1001</td>\n",
       "      <td>10</td>\n",
       "      <td>22330.49</td>\n",
       "      <td>22</td>\n",
       "    </tr>\n",
       "    <tr>\n",
       "      <th>4</th>\n",
       "      <td>1001</td>\n",
       "      <td>11</td>\n",
       "      <td>18504.30</td>\n",
       "      <td>19</td>\n",
       "    </tr>\n",
       "    <tr>\n",
       "      <th>...</th>\n",
       "      <td>...</td>\n",
       "      <td>...</td>\n",
       "      <td>...</td>\n",
       "      <td>...</td>\n",
       "    </tr>\n",
       "    <tr>\n",
       "      <th>2272</th>\n",
       "      <td>1498</td>\n",
       "      <td>12</td>\n",
       "      <td>23137.69</td>\n",
       "      <td>23</td>\n",
       "    </tr>\n",
       "    <tr>\n",
       "      <th>2273</th>\n",
       "      <td>1499</td>\n",
       "      <td>9</td>\n",
       "      <td>12984.76</td>\n",
       "      <td>13</td>\n",
       "    </tr>\n",
       "    <tr>\n",
       "      <th>2274</th>\n",
       "      <td>1499</td>\n",
       "      <td>10</td>\n",
       "      <td>19492.43</td>\n",
       "      <td>20</td>\n",
       "    </tr>\n",
       "    <tr>\n",
       "      <th>2275</th>\n",
       "      <td>1499</td>\n",
       "      <td>11</td>\n",
       "      <td>16813.83</td>\n",
       "      <td>17</td>\n",
       "    </tr>\n",
       "    <tr>\n",
       "      <th>2276</th>\n",
       "      <td>1499</td>\n",
       "      <td>12</td>\n",
       "      <td>22059.21</td>\n",
       "      <td>22</td>\n",
       "    </tr>\n",
       "  </tbody>\n",
       "</table>\n",
       "<p>2277 rows × 4 columns</p>\n",
       "</div>"
      ],
      "text/plain": [
       "      user_id  mes  total_de_datos_usados  total_de_datos_usados_redondeado\n",
       "0        1000   12                1901.47                                 2\n",
       "1        1001    8                6919.15                                 7\n",
       "2        1001    9               13314.82                                14\n",
       "3        1001   10               22330.49                                22\n",
       "4        1001   11               18504.30                                19\n",
       "...       ...  ...                    ...                               ...\n",
       "2272     1498   12               23137.69                                23\n",
       "2273     1499    9               12984.76                                13\n",
       "2274     1499   10               19492.43                                20\n",
       "2275     1499   11               16813.83                                17\n",
       "2276     1499   12               22059.21                                22\n",
       "\n",
       "[2277 rows x 4 columns]"
      ]
     },
     "execution_count": 74,
     "metadata": {},
     "output_type": "execute_result"
    }
   ],
   "source": [
    "internet_analytics"
   ]
  },
  {
   "cell_type": "code",
   "execution_count": null,
   "metadata": {},
   "outputs": [
    {
     "data": {
      "text/html": [
       "<div>\n",
       "<style scoped>\n",
       "    .dataframe tbody tr th:only-of-type {\n",
       "        vertical-align: middle;\n",
       "    }\n",
       "\n",
       "    .dataframe tbody tr th {\n",
       "        vertical-align: top;\n",
       "    }\n",
       "\n",
       "    .dataframe thead th {\n",
       "        text-align: right;\n",
       "    }\n",
       "</style>\n",
       "<table border=\"1\" class=\"dataframe\">\n",
       "  <thead>\n",
       "    <tr style=\"text-align: right;\">\n",
       "      <th></th>\n",
       "      <th>user_id</th>\n",
       "      <th>mes</th>\n",
       "      <th>numero_de_mensajes</th>\n",
       "    </tr>\n",
       "  </thead>\n",
       "  <tbody>\n",
       "    <tr>\n",
       "      <th>0</th>\n",
       "      <td>1000</td>\n",
       "      <td>12</td>\n",
       "      <td>11</td>\n",
       "    </tr>\n",
       "    <tr>\n",
       "      <th>1</th>\n",
       "      <td>1001</td>\n",
       "      <td>8</td>\n",
       "      <td>30</td>\n",
       "    </tr>\n",
       "    <tr>\n",
       "      <th>2</th>\n",
       "      <td>1001</td>\n",
       "      <td>9</td>\n",
       "      <td>44</td>\n",
       "    </tr>\n",
       "    <tr>\n",
       "      <th>3</th>\n",
       "      <td>1001</td>\n",
       "      <td>10</td>\n",
       "      <td>53</td>\n",
       "    </tr>\n",
       "    <tr>\n",
       "      <th>4</th>\n",
       "      <td>1001</td>\n",
       "      <td>11</td>\n",
       "      <td>36</td>\n",
       "    </tr>\n",
       "    <tr>\n",
       "      <th>...</th>\n",
       "      <td>...</td>\n",
       "      <td>...</td>\n",
       "      <td>...</td>\n",
       "    </tr>\n",
       "    <tr>\n",
       "      <th>1801</th>\n",
       "      <td>1496</td>\n",
       "      <td>9</td>\n",
       "      <td>21</td>\n",
       "    </tr>\n",
       "    <tr>\n",
       "      <th>1802</th>\n",
       "      <td>1496</td>\n",
       "      <td>10</td>\n",
       "      <td>18</td>\n",
       "    </tr>\n",
       "    <tr>\n",
       "      <th>1803</th>\n",
       "      <td>1496</td>\n",
       "      <td>11</td>\n",
       "      <td>13</td>\n",
       "    </tr>\n",
       "    <tr>\n",
       "      <th>1804</th>\n",
       "      <td>1496</td>\n",
       "      <td>12</td>\n",
       "      <td>11</td>\n",
       "    </tr>\n",
       "    <tr>\n",
       "      <th>1805</th>\n",
       "      <td>1497</td>\n",
       "      <td>12</td>\n",
       "      <td>50</td>\n",
       "    </tr>\n",
       "  </tbody>\n",
       "</table>\n",
       "<p>1806 rows × 3 columns</p>\n",
       "</div>"
      ],
      "text/plain": [
       "      user_id  mes  numero_de_mensajes\n",
       "0        1000   12                  11\n",
       "1        1001    8                  30\n",
       "2        1001    9                  44\n",
       "3        1001   10                  53\n",
       "4        1001   11                  36\n",
       "...       ...  ...                 ...\n",
       "1801     1496    9                  21\n",
       "1802     1496   10                  18\n",
       "1803     1496   11                  13\n",
       "1804     1496   12                  11\n",
       "1805     1497   12                  50\n",
       "\n",
       "[1806 rows x 3 columns]"
      ]
     },
     "execution_count": 75,
     "metadata": {},
     "output_type": "execute_result"
    }
   ],
   "source": [
    "messages_analytics"
   ]
  },
  {
   "cell_type": "code",
   "execution_count": null,
   "metadata": {},
   "outputs": [
    {
     "data": {
      "text/html": [
       "<div>\n",
       "<style scoped>\n",
       "    .dataframe tbody tr th:only-of-type {\n",
       "        vertical-align: middle;\n",
       "    }\n",
       "\n",
       "    .dataframe tbody tr th {\n",
       "        vertical-align: top;\n",
       "    }\n",
       "\n",
       "    .dataframe thead th {\n",
       "        text-align: right;\n",
       "    }\n",
       "</style>\n",
       "<table border=\"1\" class=\"dataframe\">\n",
       "  <thead>\n",
       "    <tr style=\"text-align: right;\">\n",
       "      <th></th>\n",
       "      <th>user_id</th>\n",
       "      <th>mes</th>\n",
       "      <th>minutos_usados</th>\n",
       "      <th>llamadas_hechas</th>\n",
       "    </tr>\n",
       "  </thead>\n",
       "  <tbody>\n",
       "    <tr>\n",
       "      <th>0</th>\n",
       "      <td>1000</td>\n",
       "      <td>12</td>\n",
       "      <td>16</td>\n",
       "      <td>124</td>\n",
       "    </tr>\n",
       "    <tr>\n",
       "      <th>1</th>\n",
       "      <td>1001</td>\n",
       "      <td>8</td>\n",
       "      <td>27</td>\n",
       "      <td>182</td>\n",
       "    </tr>\n",
       "    <tr>\n",
       "      <th>2</th>\n",
       "      <td>1001</td>\n",
       "      <td>9</td>\n",
       "      <td>49</td>\n",
       "      <td>315</td>\n",
       "    </tr>\n",
       "    <tr>\n",
       "      <th>3</th>\n",
       "      <td>1001</td>\n",
       "      <td>10</td>\n",
       "      <td>65</td>\n",
       "      <td>393</td>\n",
       "    </tr>\n",
       "    <tr>\n",
       "      <th>4</th>\n",
       "      <td>1001</td>\n",
       "      <td>11</td>\n",
       "      <td>64</td>\n",
       "      <td>426</td>\n",
       "    </tr>\n",
       "    <tr>\n",
       "      <th>...</th>\n",
       "      <td>...</td>\n",
       "      <td>...</td>\n",
       "      <td>...</td>\n",
       "      <td>...</td>\n",
       "    </tr>\n",
       "    <tr>\n",
       "      <th>2253</th>\n",
       "      <td>1498</td>\n",
       "      <td>12</td>\n",
       "      <td>39</td>\n",
       "      <td>339</td>\n",
       "    </tr>\n",
       "    <tr>\n",
       "      <th>2254</th>\n",
       "      <td>1499</td>\n",
       "      <td>9</td>\n",
       "      <td>41</td>\n",
       "      <td>346</td>\n",
       "    </tr>\n",
       "    <tr>\n",
       "      <th>2255</th>\n",
       "      <td>1499</td>\n",
       "      <td>10</td>\n",
       "      <td>53</td>\n",
       "      <td>385</td>\n",
       "    </tr>\n",
       "    <tr>\n",
       "      <th>2256</th>\n",
       "      <td>1499</td>\n",
       "      <td>11</td>\n",
       "      <td>45</td>\n",
       "      <td>308</td>\n",
       "    </tr>\n",
       "    <tr>\n",
       "      <th>2257</th>\n",
       "      <td>1499</td>\n",
       "      <td>12</td>\n",
       "      <td>65</td>\n",
       "      <td>496</td>\n",
       "    </tr>\n",
       "  </tbody>\n",
       "</table>\n",
       "<p>2258 rows × 4 columns</p>\n",
       "</div>"
      ],
      "text/plain": [
       "      user_id  mes  minutos_usados  llamadas_hechas\n",
       "0        1000   12              16              124\n",
       "1        1001    8              27              182\n",
       "2        1001    9              49              315\n",
       "3        1001   10              65              393\n",
       "4        1001   11              64              426\n",
       "...       ...  ...             ...              ...\n",
       "2253     1498   12              39              339\n",
       "2254     1499    9              41              346\n",
       "2255     1499   10              53              385\n",
       "2256     1499   11              45              308\n",
       "2257     1499   12              65              496\n",
       "\n",
       "[2258 rows x 4 columns]"
      ]
     },
     "execution_count": 76,
     "metadata": {},
     "output_type": "execute_result"
    }
   ],
   "source": [
    "calls_analytics"
   ]
  },
  {
   "cell_type": "code",
   "execution_count": null,
   "metadata": {
    "id": "FW99ykyf0q1H"
   },
   "outputs": [],
   "source": [
    "# Fusiona los datos de llamadas, minutos, mensajes e Internet con base en user_id y month\n",
    "calls_and_messages = calls_analytics.merge(messages_analytics, on=[\"user_id\", \"mes\"], how=\"outer\")"
   ]
  },
  {
   "cell_type": "code",
   "execution_count": null,
   "metadata": {},
   "outputs": [
    {
     "data": {
      "text/html": [
       "<div>\n",
       "<style scoped>\n",
       "    .dataframe tbody tr th:only-of-type {\n",
       "        vertical-align: middle;\n",
       "    }\n",
       "\n",
       "    .dataframe tbody tr th {\n",
       "        vertical-align: top;\n",
       "    }\n",
       "\n",
       "    .dataframe thead th {\n",
       "        text-align: right;\n",
       "    }\n",
       "</style>\n",
       "<table border=\"1\" class=\"dataframe\">\n",
       "  <thead>\n",
       "    <tr style=\"text-align: right;\">\n",
       "      <th></th>\n",
       "      <th>user_id</th>\n",
       "      <th>mes</th>\n",
       "      <th>minutos_usados</th>\n",
       "      <th>llamadas_hechas</th>\n",
       "      <th>numero_de_mensajes</th>\n",
       "    </tr>\n",
       "  </thead>\n",
       "  <tbody>\n",
       "    <tr>\n",
       "      <th>0</th>\n",
       "      <td>1000</td>\n",
       "      <td>12</td>\n",
       "      <td>16.0</td>\n",
       "      <td>124.0</td>\n",
       "      <td>11.0</td>\n",
       "    </tr>\n",
       "    <tr>\n",
       "      <th>1</th>\n",
       "      <td>1001</td>\n",
       "      <td>8</td>\n",
       "      <td>27.0</td>\n",
       "      <td>182.0</td>\n",
       "      <td>30.0</td>\n",
       "    </tr>\n",
       "    <tr>\n",
       "      <th>2</th>\n",
       "      <td>1001</td>\n",
       "      <td>9</td>\n",
       "      <td>49.0</td>\n",
       "      <td>315.0</td>\n",
       "      <td>44.0</td>\n",
       "    </tr>\n",
       "    <tr>\n",
       "      <th>3</th>\n",
       "      <td>1001</td>\n",
       "      <td>10</td>\n",
       "      <td>65.0</td>\n",
       "      <td>393.0</td>\n",
       "      <td>53.0</td>\n",
       "    </tr>\n",
       "    <tr>\n",
       "      <th>4</th>\n",
       "      <td>1001</td>\n",
       "      <td>11</td>\n",
       "      <td>64.0</td>\n",
       "      <td>426.0</td>\n",
       "      <td>36.0</td>\n",
       "    </tr>\n",
       "    <tr>\n",
       "      <th>...</th>\n",
       "      <td>...</td>\n",
       "      <td>...</td>\n",
       "      <td>...</td>\n",
       "      <td>...</td>\n",
       "      <td>...</td>\n",
       "    </tr>\n",
       "    <tr>\n",
       "      <th>2286</th>\n",
       "      <td>1349</td>\n",
       "      <td>10</td>\n",
       "      <td>NaN</td>\n",
       "      <td>NaN</td>\n",
       "      <td>76.0</td>\n",
       "    </tr>\n",
       "    <tr>\n",
       "      <th>2287</th>\n",
       "      <td>1349</td>\n",
       "      <td>11</td>\n",
       "      <td>NaN</td>\n",
       "      <td>NaN</td>\n",
       "      <td>72.0</td>\n",
       "    </tr>\n",
       "    <tr>\n",
       "      <th>2288</th>\n",
       "      <td>1349</td>\n",
       "      <td>12</td>\n",
       "      <td>NaN</td>\n",
       "      <td>NaN</td>\n",
       "      <td>61.0</td>\n",
       "    </tr>\n",
       "    <tr>\n",
       "      <th>2289</th>\n",
       "      <td>1361</td>\n",
       "      <td>5</td>\n",
       "      <td>NaN</td>\n",
       "      <td>NaN</td>\n",
       "      <td>2.0</td>\n",
       "    </tr>\n",
       "    <tr>\n",
       "      <th>2290</th>\n",
       "      <td>1482</td>\n",
       "      <td>10</td>\n",
       "      <td>NaN</td>\n",
       "      <td>NaN</td>\n",
       "      <td>2.0</td>\n",
       "    </tr>\n",
       "  </tbody>\n",
       "</table>\n",
       "<p>2291 rows × 5 columns</p>\n",
       "</div>"
      ],
      "text/plain": [
       "      user_id  mes  minutos_usados  llamadas_hechas  numero_de_mensajes\n",
       "0        1000   12            16.0            124.0                11.0\n",
       "1        1001    8            27.0            182.0                30.0\n",
       "2        1001    9            49.0            315.0                44.0\n",
       "3        1001   10            65.0            393.0                53.0\n",
       "4        1001   11            64.0            426.0                36.0\n",
       "...       ...  ...             ...              ...                 ...\n",
       "2286     1349   10             NaN              NaN                76.0\n",
       "2287     1349   11             NaN              NaN                72.0\n",
       "2288     1349   12             NaN              NaN                61.0\n",
       "2289     1361    5             NaN              NaN                 2.0\n",
       "2290     1482   10             NaN              NaN                 2.0\n",
       "\n",
       "[2291 rows x 5 columns]"
      ]
     },
     "execution_count": 78,
     "metadata": {},
     "output_type": "execute_result"
    }
   ],
   "source": [
    "calls_and_messages"
   ]
  },
  {
   "cell_type": "code",
   "execution_count": null,
   "metadata": {},
   "outputs": [],
   "source": [
    "tabla_de_consumo= calls_and_messages.merge(internet_analytics, on=[\"user_id\",\"mes\"], how=\"outer\")"
   ]
  },
  {
   "cell_type": "code",
   "execution_count": null,
   "metadata": {},
   "outputs": [
    {
     "data": {
      "text/html": [
       "<div>\n",
       "<style scoped>\n",
       "    .dataframe tbody tr th:only-of-type {\n",
       "        vertical-align: middle;\n",
       "    }\n",
       "\n",
       "    .dataframe tbody tr th {\n",
       "        vertical-align: top;\n",
       "    }\n",
       "\n",
       "    .dataframe thead th {\n",
       "        text-align: right;\n",
       "    }\n",
       "</style>\n",
       "<table border=\"1\" class=\"dataframe\">\n",
       "  <thead>\n",
       "    <tr style=\"text-align: right;\">\n",
       "      <th></th>\n",
       "      <th>user_id</th>\n",
       "      <th>mes</th>\n",
       "      <th>minutos_usados</th>\n",
       "      <th>llamadas_hechas</th>\n",
       "      <th>numero_de_mensajes</th>\n",
       "      <th>total_de_datos_usados</th>\n",
       "      <th>total_de_datos_usados_redondeado</th>\n",
       "    </tr>\n",
       "  </thead>\n",
       "  <tbody>\n",
       "    <tr>\n",
       "      <th>0</th>\n",
       "      <td>1000</td>\n",
       "      <td>12</td>\n",
       "      <td>16.0</td>\n",
       "      <td>124.0</td>\n",
       "      <td>11.0</td>\n",
       "      <td>1901.47</td>\n",
       "      <td>2.0</td>\n",
       "    </tr>\n",
       "    <tr>\n",
       "      <th>1</th>\n",
       "      <td>1001</td>\n",
       "      <td>8</td>\n",
       "      <td>27.0</td>\n",
       "      <td>182.0</td>\n",
       "      <td>30.0</td>\n",
       "      <td>6919.15</td>\n",
       "      <td>7.0</td>\n",
       "    </tr>\n",
       "    <tr>\n",
       "      <th>2</th>\n",
       "      <td>1001</td>\n",
       "      <td>9</td>\n",
       "      <td>49.0</td>\n",
       "      <td>315.0</td>\n",
       "      <td>44.0</td>\n",
       "      <td>13314.82</td>\n",
       "      <td>14.0</td>\n",
       "    </tr>\n",
       "    <tr>\n",
       "      <th>3</th>\n",
       "      <td>1001</td>\n",
       "      <td>10</td>\n",
       "      <td>65.0</td>\n",
       "      <td>393.0</td>\n",
       "      <td>53.0</td>\n",
       "      <td>22330.49</td>\n",
       "      <td>22.0</td>\n",
       "    </tr>\n",
       "    <tr>\n",
       "      <th>4</th>\n",
       "      <td>1001</td>\n",
       "      <td>11</td>\n",
       "      <td>64.0</td>\n",
       "      <td>426.0</td>\n",
       "      <td>36.0</td>\n",
       "      <td>18504.30</td>\n",
       "      <td>19.0</td>\n",
       "    </tr>\n",
       "    <tr>\n",
       "      <th>...</th>\n",
       "      <td>...</td>\n",
       "      <td>...</td>\n",
       "      <td>...</td>\n",
       "      <td>...</td>\n",
       "      <td>...</td>\n",
       "      <td>...</td>\n",
       "      <td>...</td>\n",
       "    </tr>\n",
       "    <tr>\n",
       "      <th>2288</th>\n",
       "      <td>1349</td>\n",
       "      <td>12</td>\n",
       "      <td>NaN</td>\n",
       "      <td>NaN</td>\n",
       "      <td>61.0</td>\n",
       "      <td>13039.91</td>\n",
       "      <td>13.0</td>\n",
       "    </tr>\n",
       "    <tr>\n",
       "      <th>2289</th>\n",
       "      <td>1361</td>\n",
       "      <td>5</td>\n",
       "      <td>NaN</td>\n",
       "      <td>NaN</td>\n",
       "      <td>2.0</td>\n",
       "      <td>1519.69</td>\n",
       "      <td>2.0</td>\n",
       "    </tr>\n",
       "    <tr>\n",
       "      <th>2290</th>\n",
       "      <td>1482</td>\n",
       "      <td>10</td>\n",
       "      <td>NaN</td>\n",
       "      <td>NaN</td>\n",
       "      <td>2.0</td>\n",
       "      <td>NaN</td>\n",
       "      <td>NaN</td>\n",
       "    </tr>\n",
       "    <tr>\n",
       "      <th>2291</th>\n",
       "      <td>1108</td>\n",
       "      <td>12</td>\n",
       "      <td>NaN</td>\n",
       "      <td>NaN</td>\n",
       "      <td>NaN</td>\n",
       "      <td>233.17</td>\n",
       "      <td>1.0</td>\n",
       "    </tr>\n",
       "    <tr>\n",
       "      <th>2292</th>\n",
       "      <td>1311</td>\n",
       "      <td>6</td>\n",
       "      <td>NaN</td>\n",
       "      <td>NaN</td>\n",
       "      <td>NaN</td>\n",
       "      <td>1498.83</td>\n",
       "      <td>2.0</td>\n",
       "    </tr>\n",
       "  </tbody>\n",
       "</table>\n",
       "<p>2293 rows × 7 columns</p>\n",
       "</div>"
      ],
      "text/plain": [
       "      user_id  mes  minutos_usados  llamadas_hechas  numero_de_mensajes  \\\n",
       "0        1000   12            16.0            124.0                11.0   \n",
       "1        1001    8            27.0            182.0                30.0   \n",
       "2        1001    9            49.0            315.0                44.0   \n",
       "3        1001   10            65.0            393.0                53.0   \n",
       "4        1001   11            64.0            426.0                36.0   \n",
       "...       ...  ...             ...              ...                 ...   \n",
       "2288     1349   12             NaN              NaN                61.0   \n",
       "2289     1361    5             NaN              NaN                 2.0   \n",
       "2290     1482   10             NaN              NaN                 2.0   \n",
       "2291     1108   12             NaN              NaN                 NaN   \n",
       "2292     1311    6             NaN              NaN                 NaN   \n",
       "\n",
       "      total_de_datos_usados  total_de_datos_usados_redondeado  \n",
       "0                   1901.47                               2.0  \n",
       "1                   6919.15                               7.0  \n",
       "2                  13314.82                              14.0  \n",
       "3                  22330.49                              22.0  \n",
       "4                  18504.30                              19.0  \n",
       "...                     ...                               ...  \n",
       "2288               13039.91                              13.0  \n",
       "2289                1519.69                               2.0  \n",
       "2290                    NaN                               NaN  \n",
       "2291                 233.17                               1.0  \n",
       "2292                1498.83                               2.0  \n",
       "\n",
       "[2293 rows x 7 columns]"
      ]
     },
     "execution_count": 80,
     "metadata": {},
     "output_type": "execute_result"
    }
   ],
   "source": [
    "tabla_de_consumo"
   ]
  },
  {
   "cell_type": "code",
   "execution_count": null,
   "metadata": {
    "id": "0dNOXHag0q1H"
   },
   "outputs": [],
   "source": [
    "#Añade la información de la tarifa\n",
    "plan_analytics=users[[\"user_id\",\"plan_id\",\"city\"]]\n"
   ]
  },
  {
   "cell_type": "code",
   "execution_count": null,
   "metadata": {},
   "outputs": [],
   "source": [
    "tabla_de_consumo_planes=tabla_de_consumo.merge(plan_analytics, on=\"user_id\", how=\"outer\")"
   ]
  },
  {
   "cell_type": "code",
   "execution_count": null,
   "metadata": {},
   "outputs": [
    {
     "data": {
      "text/html": [
       "<div>\n",
       "<style scoped>\n",
       "    .dataframe tbody tr th:only-of-type {\n",
       "        vertical-align: middle;\n",
       "    }\n",
       "\n",
       "    .dataframe tbody tr th {\n",
       "        vertical-align: top;\n",
       "    }\n",
       "\n",
       "    .dataframe thead th {\n",
       "        text-align: right;\n",
       "    }\n",
       "</style>\n",
       "<table border=\"1\" class=\"dataframe\">\n",
       "  <thead>\n",
       "    <tr style=\"text-align: right;\">\n",
       "      <th></th>\n",
       "      <th>user_id</th>\n",
       "      <th>mes</th>\n",
       "      <th>minutos_usados</th>\n",
       "      <th>llamadas_hechas</th>\n",
       "      <th>numero_de_mensajes</th>\n",
       "      <th>total_de_datos_usados</th>\n",
       "      <th>total_de_datos_usados_redondeado</th>\n",
       "      <th>plan_id</th>\n",
       "      <th>city</th>\n",
       "    </tr>\n",
       "  </thead>\n",
       "  <tbody>\n",
       "    <tr>\n",
       "      <th>0</th>\n",
       "      <td>1000</td>\n",
       "      <td>12.0</td>\n",
       "      <td>16.0</td>\n",
       "      <td>124.0</td>\n",
       "      <td>11.0</td>\n",
       "      <td>1901.47</td>\n",
       "      <td>2.0</td>\n",
       "      <td>ultimate</td>\n",
       "      <td>Atlanta-Sandy Springs-Roswell, GA MSA</td>\n",
       "    </tr>\n",
       "    <tr>\n",
       "      <th>1</th>\n",
       "      <td>1001</td>\n",
       "      <td>8.0</td>\n",
       "      <td>27.0</td>\n",
       "      <td>182.0</td>\n",
       "      <td>30.0</td>\n",
       "      <td>6919.15</td>\n",
       "      <td>7.0</td>\n",
       "      <td>surf</td>\n",
       "      <td>Seattle-Tacoma-Bellevue, WA MSA</td>\n",
       "    </tr>\n",
       "    <tr>\n",
       "      <th>2</th>\n",
       "      <td>1001</td>\n",
       "      <td>9.0</td>\n",
       "      <td>49.0</td>\n",
       "      <td>315.0</td>\n",
       "      <td>44.0</td>\n",
       "      <td>13314.82</td>\n",
       "      <td>14.0</td>\n",
       "      <td>surf</td>\n",
       "      <td>Seattle-Tacoma-Bellevue, WA MSA</td>\n",
       "    </tr>\n",
       "    <tr>\n",
       "      <th>3</th>\n",
       "      <td>1001</td>\n",
       "      <td>10.0</td>\n",
       "      <td>65.0</td>\n",
       "      <td>393.0</td>\n",
       "      <td>53.0</td>\n",
       "      <td>22330.49</td>\n",
       "      <td>22.0</td>\n",
       "      <td>surf</td>\n",
       "      <td>Seattle-Tacoma-Bellevue, WA MSA</td>\n",
       "    </tr>\n",
       "    <tr>\n",
       "      <th>4</th>\n",
       "      <td>1001</td>\n",
       "      <td>11.0</td>\n",
       "      <td>64.0</td>\n",
       "      <td>426.0</td>\n",
       "      <td>36.0</td>\n",
       "      <td>18504.30</td>\n",
       "      <td>19.0</td>\n",
       "      <td>surf</td>\n",
       "      <td>Seattle-Tacoma-Bellevue, WA MSA</td>\n",
       "    </tr>\n",
       "    <tr>\n",
       "      <th>...</th>\n",
       "      <td>...</td>\n",
       "      <td>...</td>\n",
       "      <td>...</td>\n",
       "      <td>...</td>\n",
       "      <td>...</td>\n",
       "      <td>...</td>\n",
       "      <td>...</td>\n",
       "      <td>...</td>\n",
       "      <td>...</td>\n",
       "    </tr>\n",
       "    <tr>\n",
       "      <th>2298</th>\n",
       "      <td>1307</td>\n",
       "      <td>NaN</td>\n",
       "      <td>NaN</td>\n",
       "      <td>NaN</td>\n",
       "      <td>NaN</td>\n",
       "      <td>NaN</td>\n",
       "      <td>NaN</td>\n",
       "      <td>surf</td>\n",
       "      <td>Boston-Cambridge-Newton, MA-NH MSA</td>\n",
       "    </tr>\n",
       "    <tr>\n",
       "      <th>2299</th>\n",
       "      <td>1319</td>\n",
       "      <td>NaN</td>\n",
       "      <td>NaN</td>\n",
       "      <td>NaN</td>\n",
       "      <td>NaN</td>\n",
       "      <td>NaN</td>\n",
       "      <td>NaN</td>\n",
       "      <td>surf</td>\n",
       "      <td>Colorado Springs, CO MSA</td>\n",
       "    </tr>\n",
       "    <tr>\n",
       "      <th>2300</th>\n",
       "      <td>1378</td>\n",
       "      <td>NaN</td>\n",
       "      <td>NaN</td>\n",
       "      <td>NaN</td>\n",
       "      <td>NaN</td>\n",
       "      <td>NaN</td>\n",
       "      <td>NaN</td>\n",
       "      <td>surf</td>\n",
       "      <td>Denver-Aurora-Lakewood, CO MSA</td>\n",
       "    </tr>\n",
       "    <tr>\n",
       "      <th>2301</th>\n",
       "      <td>1463</td>\n",
       "      <td>NaN</td>\n",
       "      <td>NaN</td>\n",
       "      <td>NaN</td>\n",
       "      <td>NaN</td>\n",
       "      <td>NaN</td>\n",
       "      <td>NaN</td>\n",
       "      <td>ultimate</td>\n",
       "      <td>Atlanta-Sandy Springs-Roswell, GA MSA</td>\n",
       "    </tr>\n",
       "    <tr>\n",
       "      <th>2302</th>\n",
       "      <td>1473</td>\n",
       "      <td>NaN</td>\n",
       "      <td>NaN</td>\n",
       "      <td>NaN</td>\n",
       "      <td>NaN</td>\n",
       "      <td>NaN</td>\n",
       "      <td>NaN</td>\n",
       "      <td>surf</td>\n",
       "      <td>Louisville/Jefferson County, KY-IN MSA</td>\n",
       "    </tr>\n",
       "  </tbody>\n",
       "</table>\n",
       "<p>2303 rows × 9 columns</p>\n",
       "</div>"
      ],
      "text/plain": [
       "      user_id   mes  minutos_usados  llamadas_hechas  numero_de_mensajes  \\\n",
       "0        1000  12.0            16.0            124.0                11.0   \n",
       "1        1001   8.0            27.0            182.0                30.0   \n",
       "2        1001   9.0            49.0            315.0                44.0   \n",
       "3        1001  10.0            65.0            393.0                53.0   \n",
       "4        1001  11.0            64.0            426.0                36.0   \n",
       "...       ...   ...             ...              ...                 ...   \n",
       "2298     1307   NaN             NaN              NaN                 NaN   \n",
       "2299     1319   NaN             NaN              NaN                 NaN   \n",
       "2300     1378   NaN             NaN              NaN                 NaN   \n",
       "2301     1463   NaN             NaN              NaN                 NaN   \n",
       "2302     1473   NaN             NaN              NaN                 NaN   \n",
       "\n",
       "      total_de_datos_usados  total_de_datos_usados_redondeado   plan_id  \\\n",
       "0                   1901.47                               2.0  ultimate   \n",
       "1                   6919.15                               7.0      surf   \n",
       "2                  13314.82                              14.0      surf   \n",
       "3                  22330.49                              22.0      surf   \n",
       "4                  18504.30                              19.0      surf   \n",
       "...                     ...                               ...       ...   \n",
       "2298                    NaN                               NaN      surf   \n",
       "2299                    NaN                               NaN      surf   \n",
       "2300                    NaN                               NaN      surf   \n",
       "2301                    NaN                               NaN  ultimate   \n",
       "2302                    NaN                               NaN      surf   \n",
       "\n",
       "                                        city  \n",
       "0      Atlanta-Sandy Springs-Roswell, GA MSA  \n",
       "1            Seattle-Tacoma-Bellevue, WA MSA  \n",
       "2            Seattle-Tacoma-Bellevue, WA MSA  \n",
       "3            Seattle-Tacoma-Bellevue, WA MSA  \n",
       "4            Seattle-Tacoma-Bellevue, WA MSA  \n",
       "...                                      ...  \n",
       "2298      Boston-Cambridge-Newton, MA-NH MSA  \n",
       "2299                Colorado Springs, CO MSA  \n",
       "2300          Denver-Aurora-Lakewood, CO MSA  \n",
       "2301   Atlanta-Sandy Springs-Roswell, GA MSA  \n",
       "2302  Louisville/Jefferson County, KY-IN MSA  \n",
       "\n",
       "[2303 rows x 9 columns]"
      ]
     },
     "execution_count": 83,
     "metadata": {},
     "output_type": "execute_result"
    }
   ],
   "source": [
    "tabla_de_consumo_planes"
   ]
  },
  {
   "cell_type": "code",
   "execution_count": null,
   "metadata": {},
   "outputs": [],
   "source": [
    "surf_monthly_charge = 20\n",
    "surf_monthly_minutes = 500\n",
    "surf_monthly_messages = 50\n",
    "surf_monthly_data = 15\n",
    "surf_call_charge = 0.03\n",
    "surf_message_charge = 0.03\n",
    "surf_date_charge = 10\n",
    "\n",
    "ultimate_monthly_charge=70\n",
    "ultimate_monthly_minutes=3000\n",
    "ultimate_monthly_messages=1000\n",
    "ultimate_monthly_data=30\n",
    "ultimate_call_charge=0.01\n",
    "ultimate_message_charge=0.01\n",
    "ultimate_date_charge=7"
   ]
  },
  {
   "cell_type": "code",
   "execution_count": null,
   "metadata": {},
   "outputs": [],
   "source": [
    "def llamadas_por_cobrar(fila):\n",
    "    plan = fila[\"plan_id\"]  \n",
    "    minutos_usados = fila[\"minutos_usados\"]\n",
    "    \n",
    "    minutos_cobrables = 0\n",
    "    \n",
    "    if plan == \"surf\":\n",
    "        if minutos_usados > surf_monthly_minutes:\n",
    "            minutos_cobrables = minutos_usados - surf_monthly_minutes\n",
    "    elif plan == \"ultimate\":\n",
    "        if minutos_usados > ultimate_monthly_minutes:\n",
    "            minutos_cobrables = minutos_usados - ultimate_monthly_minutes\n",
    "    \n",
    "    return minutos_cobrables\n",
    "    "
   ]
  },
  {
   "cell_type": "code",
   "execution_count": null,
   "metadata": {},
   "outputs": [
    {
     "data": {
      "text/html": [
       "<div>\n",
       "<style scoped>\n",
       "    .dataframe tbody tr th:only-of-type {\n",
       "        vertical-align: middle;\n",
       "    }\n",
       "\n",
       "    .dataframe tbody tr th {\n",
       "        vertical-align: top;\n",
       "    }\n",
       "\n",
       "    .dataframe thead th {\n",
       "        text-align: right;\n",
       "    }\n",
       "</style>\n",
       "<table border=\"1\" class=\"dataframe\">\n",
       "  <thead>\n",
       "    <tr style=\"text-align: right;\">\n",
       "      <th></th>\n",
       "      <th>user_id</th>\n",
       "      <th>mes</th>\n",
       "      <th>minutos_usados</th>\n",
       "      <th>llamadas_hechas</th>\n",
       "      <th>numero_de_mensajes</th>\n",
       "      <th>total_de_datos_usados</th>\n",
       "      <th>total_de_datos_usados_redondeado</th>\n",
       "      <th>plan_id</th>\n",
       "      <th>city</th>\n",
       "      <th>minutos_cobrables</th>\n",
       "    </tr>\n",
       "  </thead>\n",
       "  <tbody>\n",
       "    <tr>\n",
       "      <th>0</th>\n",
       "      <td>1000</td>\n",
       "      <td>12.0</td>\n",
       "      <td>16.0</td>\n",
       "      <td>124.0</td>\n",
       "      <td>11.0</td>\n",
       "      <td>1901.47</td>\n",
       "      <td>2.0</td>\n",
       "      <td>ultimate</td>\n",
       "      <td>Atlanta-Sandy Springs-Roswell, GA MSA</td>\n",
       "      <td>0</td>\n",
       "    </tr>\n",
       "    <tr>\n",
       "      <th>1</th>\n",
       "      <td>1001</td>\n",
       "      <td>8.0</td>\n",
       "      <td>27.0</td>\n",
       "      <td>182.0</td>\n",
       "      <td>30.0</td>\n",
       "      <td>6919.15</td>\n",
       "      <td>7.0</td>\n",
       "      <td>surf</td>\n",
       "      <td>Seattle-Tacoma-Bellevue, WA MSA</td>\n",
       "      <td>0</td>\n",
       "    </tr>\n",
       "    <tr>\n",
       "      <th>2</th>\n",
       "      <td>1001</td>\n",
       "      <td>9.0</td>\n",
       "      <td>49.0</td>\n",
       "      <td>315.0</td>\n",
       "      <td>44.0</td>\n",
       "      <td>13314.82</td>\n",
       "      <td>14.0</td>\n",
       "      <td>surf</td>\n",
       "      <td>Seattle-Tacoma-Bellevue, WA MSA</td>\n",
       "      <td>0</td>\n",
       "    </tr>\n",
       "    <tr>\n",
       "      <th>3</th>\n",
       "      <td>1001</td>\n",
       "      <td>10.0</td>\n",
       "      <td>65.0</td>\n",
       "      <td>393.0</td>\n",
       "      <td>53.0</td>\n",
       "      <td>22330.49</td>\n",
       "      <td>22.0</td>\n",
       "      <td>surf</td>\n",
       "      <td>Seattle-Tacoma-Bellevue, WA MSA</td>\n",
       "      <td>0</td>\n",
       "    </tr>\n",
       "    <tr>\n",
       "      <th>4</th>\n",
       "      <td>1001</td>\n",
       "      <td>11.0</td>\n",
       "      <td>64.0</td>\n",
       "      <td>426.0</td>\n",
       "      <td>36.0</td>\n",
       "      <td>18504.30</td>\n",
       "      <td>19.0</td>\n",
       "      <td>surf</td>\n",
       "      <td>Seattle-Tacoma-Bellevue, WA MSA</td>\n",
       "      <td>0</td>\n",
       "    </tr>\n",
       "    <tr>\n",
       "      <th>...</th>\n",
       "      <td>...</td>\n",
       "      <td>...</td>\n",
       "      <td>...</td>\n",
       "      <td>...</td>\n",
       "      <td>...</td>\n",
       "      <td>...</td>\n",
       "      <td>...</td>\n",
       "      <td>...</td>\n",
       "      <td>...</td>\n",
       "      <td>...</td>\n",
       "    </tr>\n",
       "    <tr>\n",
       "      <th>2298</th>\n",
       "      <td>1307</td>\n",
       "      <td>NaN</td>\n",
       "      <td>NaN</td>\n",
       "      <td>NaN</td>\n",
       "      <td>NaN</td>\n",
       "      <td>NaN</td>\n",
       "      <td>NaN</td>\n",
       "      <td>surf</td>\n",
       "      <td>Boston-Cambridge-Newton, MA-NH MSA</td>\n",
       "      <td>0</td>\n",
       "    </tr>\n",
       "    <tr>\n",
       "      <th>2299</th>\n",
       "      <td>1319</td>\n",
       "      <td>NaN</td>\n",
       "      <td>NaN</td>\n",
       "      <td>NaN</td>\n",
       "      <td>NaN</td>\n",
       "      <td>NaN</td>\n",
       "      <td>NaN</td>\n",
       "      <td>surf</td>\n",
       "      <td>Colorado Springs, CO MSA</td>\n",
       "      <td>0</td>\n",
       "    </tr>\n",
       "    <tr>\n",
       "      <th>2300</th>\n",
       "      <td>1378</td>\n",
       "      <td>NaN</td>\n",
       "      <td>NaN</td>\n",
       "      <td>NaN</td>\n",
       "      <td>NaN</td>\n",
       "      <td>NaN</td>\n",
       "      <td>NaN</td>\n",
       "      <td>surf</td>\n",
       "      <td>Denver-Aurora-Lakewood, CO MSA</td>\n",
       "      <td>0</td>\n",
       "    </tr>\n",
       "    <tr>\n",
       "      <th>2301</th>\n",
       "      <td>1463</td>\n",
       "      <td>NaN</td>\n",
       "      <td>NaN</td>\n",
       "      <td>NaN</td>\n",
       "      <td>NaN</td>\n",
       "      <td>NaN</td>\n",
       "      <td>NaN</td>\n",
       "      <td>ultimate</td>\n",
       "      <td>Atlanta-Sandy Springs-Roswell, GA MSA</td>\n",
       "      <td>0</td>\n",
       "    </tr>\n",
       "    <tr>\n",
       "      <th>2302</th>\n",
       "      <td>1473</td>\n",
       "      <td>NaN</td>\n",
       "      <td>NaN</td>\n",
       "      <td>NaN</td>\n",
       "      <td>NaN</td>\n",
       "      <td>NaN</td>\n",
       "      <td>NaN</td>\n",
       "      <td>surf</td>\n",
       "      <td>Louisville/Jefferson County, KY-IN MSA</td>\n",
       "      <td>0</td>\n",
       "    </tr>\n",
       "  </tbody>\n",
       "</table>\n",
       "<p>2303 rows × 10 columns</p>\n",
       "</div>"
      ],
      "text/plain": [
       "      user_id   mes  minutos_usados  llamadas_hechas  numero_de_mensajes  \\\n",
       "0        1000  12.0            16.0            124.0                11.0   \n",
       "1        1001   8.0            27.0            182.0                30.0   \n",
       "2        1001   9.0            49.0            315.0                44.0   \n",
       "3        1001  10.0            65.0            393.0                53.0   \n",
       "4        1001  11.0            64.0            426.0                36.0   \n",
       "...       ...   ...             ...              ...                 ...   \n",
       "2298     1307   NaN             NaN              NaN                 NaN   \n",
       "2299     1319   NaN             NaN              NaN                 NaN   \n",
       "2300     1378   NaN             NaN              NaN                 NaN   \n",
       "2301     1463   NaN             NaN              NaN                 NaN   \n",
       "2302     1473   NaN             NaN              NaN                 NaN   \n",
       "\n",
       "      total_de_datos_usados  total_de_datos_usados_redondeado   plan_id  \\\n",
       "0                   1901.47                               2.0  ultimate   \n",
       "1                   6919.15                               7.0      surf   \n",
       "2                  13314.82                              14.0      surf   \n",
       "3                  22330.49                              22.0      surf   \n",
       "4                  18504.30                              19.0      surf   \n",
       "...                     ...                               ...       ...   \n",
       "2298                    NaN                               NaN      surf   \n",
       "2299                    NaN                               NaN      surf   \n",
       "2300                    NaN                               NaN      surf   \n",
       "2301                    NaN                               NaN  ultimate   \n",
       "2302                    NaN                               NaN      surf   \n",
       "\n",
       "                                        city  minutos_cobrables  \n",
       "0      Atlanta-Sandy Springs-Roswell, GA MSA                  0  \n",
       "1            Seattle-Tacoma-Bellevue, WA MSA                  0  \n",
       "2            Seattle-Tacoma-Bellevue, WA MSA                  0  \n",
       "3            Seattle-Tacoma-Bellevue, WA MSA                  0  \n",
       "4            Seattle-Tacoma-Bellevue, WA MSA                  0  \n",
       "...                                      ...                ...  \n",
       "2298      Boston-Cambridge-Newton, MA-NH MSA                  0  \n",
       "2299                Colorado Springs, CO MSA                  0  \n",
       "2300          Denver-Aurora-Lakewood, CO MSA                  0  \n",
       "2301   Atlanta-Sandy Springs-Roswell, GA MSA                  0  \n",
       "2302  Louisville/Jefferson County, KY-IN MSA                  0  \n",
       "\n",
       "[2303 rows x 10 columns]"
      ]
     },
     "execution_count": 86,
     "metadata": {},
     "output_type": "execute_result"
    }
   ],
   "source": [
    "tabla_de_consumo_planes[\"minutos_cobrables\"] = tabla_de_consumo_planes.apply(llamadas_por_cobrar, axis=1)\n",
    "tabla_de_consumo_planes"
   ]
  },
  {
   "cell_type": "code",
   "execution_count": null,
   "metadata": {},
   "outputs": [
    {
     "data": {
      "text/plain": [
       "0.0"
      ]
     },
     "execution_count": 87,
     "metadata": {},
     "output_type": "execute_result"
    }
   ],
   "source": [
    "len(tabla_de_consumo_planes.query(\"minutos_cobrables > 0\"))/len(tabla_de_consumo_planes)"
   ]
  },
  {
   "cell_type": "markdown",
   "metadata": {
    "id": "-jtyHzJb0q1I"
   },
   "source": [
    "## Estudia el comportamiento de usuario"
   ]
  },
  {
   "cell_type": "markdown",
   "metadata": {
    "id": "vtW4CJEe0q1J"
   },
   "source": [
    "### Llamadas"
   ]
  },
  {
   "cell_type": "markdown",
   "metadata": {
    "id": "8idKy8Wh0q1L"
   },
   "source": [
    "### Mensajes"
   ]
  },
  {
   "cell_type": "code",
   "execution_count": null,
   "metadata": {
    "id": "NXLxiTit0q1L"
   },
   "outputs": [],
   "source": [
    "# Comprara el número de mensajes que tienden a enviar cada mes los usuarios de cada plan\n",
    "def llamadas_por_cobrar(fila):\n",
    "    plan = fila[\"plan_id\"]  \n",
    "    number_of_texts = fila[\"numero_de_mensajes\"]\n",
    "    \n",
    "    chargeable = 0\n",
    "    \n",
    "    if plan == \"surf\":\n",
    "        if number_of_texts > surf_monthly_messages:\n",
    "            chargeable = number_of_texts - surf_monthly_messages\n",
    "    elif plan == \"ultimate\":\n",
    "        if number_of_texts > ultimate_monthly_messages:\n",
    "            minutos_cobrables = minutos_usados - ultimate_monthly_messages\n",
    "    \n",
    "    return chargeable"
   ]
  },
  {
   "cell_type": "code",
   "execution_count": null,
   "metadata": {},
   "outputs": [
    {
     "data": {
      "text/html": [
       "<div>\n",
       "<style scoped>\n",
       "    .dataframe tbody tr th:only-of-type {\n",
       "        vertical-align: middle;\n",
       "    }\n",
       "\n",
       "    .dataframe tbody tr th {\n",
       "        vertical-align: top;\n",
       "    }\n",
       "\n",
       "    .dataframe thead th {\n",
       "        text-align: right;\n",
       "    }\n",
       "</style>\n",
       "<table border=\"1\" class=\"dataframe\">\n",
       "  <thead>\n",
       "    <tr style=\"text-align: right;\">\n",
       "      <th></th>\n",
       "      <th>user_id</th>\n",
       "      <th>mes</th>\n",
       "      <th>minutos_usados</th>\n",
       "      <th>llamadas_hechas</th>\n",
       "      <th>numero_de_mensajes</th>\n",
       "      <th>total_de_datos_usados</th>\n",
       "      <th>total_de_datos_usados_redondeado</th>\n",
       "      <th>plan_id</th>\n",
       "      <th>city</th>\n",
       "      <th>minutos_cobrables</th>\n",
       "      <th>mensajes_cobrables</th>\n",
       "    </tr>\n",
       "  </thead>\n",
       "  <tbody>\n",
       "    <tr>\n",
       "      <th>0</th>\n",
       "      <td>1000</td>\n",
       "      <td>12.0</td>\n",
       "      <td>16.0</td>\n",
       "      <td>124.0</td>\n",
       "      <td>11.0</td>\n",
       "      <td>1901.47</td>\n",
       "      <td>2.0</td>\n",
       "      <td>ultimate</td>\n",
       "      <td>Atlanta-Sandy Springs-Roswell, GA MSA</td>\n",
       "      <td>0</td>\n",
       "      <td>0.0</td>\n",
       "    </tr>\n",
       "    <tr>\n",
       "      <th>1</th>\n",
       "      <td>1001</td>\n",
       "      <td>8.0</td>\n",
       "      <td>27.0</td>\n",
       "      <td>182.0</td>\n",
       "      <td>30.0</td>\n",
       "      <td>6919.15</td>\n",
       "      <td>7.0</td>\n",
       "      <td>surf</td>\n",
       "      <td>Seattle-Tacoma-Bellevue, WA MSA</td>\n",
       "      <td>0</td>\n",
       "      <td>0.0</td>\n",
       "    </tr>\n",
       "    <tr>\n",
       "      <th>2</th>\n",
       "      <td>1001</td>\n",
       "      <td>9.0</td>\n",
       "      <td>49.0</td>\n",
       "      <td>315.0</td>\n",
       "      <td>44.0</td>\n",
       "      <td>13314.82</td>\n",
       "      <td>14.0</td>\n",
       "      <td>surf</td>\n",
       "      <td>Seattle-Tacoma-Bellevue, WA MSA</td>\n",
       "      <td>0</td>\n",
       "      <td>0.0</td>\n",
       "    </tr>\n",
       "    <tr>\n",
       "      <th>3</th>\n",
       "      <td>1001</td>\n",
       "      <td>10.0</td>\n",
       "      <td>65.0</td>\n",
       "      <td>393.0</td>\n",
       "      <td>53.0</td>\n",
       "      <td>22330.49</td>\n",
       "      <td>22.0</td>\n",
       "      <td>surf</td>\n",
       "      <td>Seattle-Tacoma-Bellevue, WA MSA</td>\n",
       "      <td>0</td>\n",
       "      <td>3.0</td>\n",
       "    </tr>\n",
       "    <tr>\n",
       "      <th>4</th>\n",
       "      <td>1001</td>\n",
       "      <td>11.0</td>\n",
       "      <td>64.0</td>\n",
       "      <td>426.0</td>\n",
       "      <td>36.0</td>\n",
       "      <td>18504.30</td>\n",
       "      <td>19.0</td>\n",
       "      <td>surf</td>\n",
       "      <td>Seattle-Tacoma-Bellevue, WA MSA</td>\n",
       "      <td>0</td>\n",
       "      <td>0.0</td>\n",
       "    </tr>\n",
       "    <tr>\n",
       "      <th>...</th>\n",
       "      <td>...</td>\n",
       "      <td>...</td>\n",
       "      <td>...</td>\n",
       "      <td>...</td>\n",
       "      <td>...</td>\n",
       "      <td>...</td>\n",
       "      <td>...</td>\n",
       "      <td>...</td>\n",
       "      <td>...</td>\n",
       "      <td>...</td>\n",
       "      <td>...</td>\n",
       "    </tr>\n",
       "    <tr>\n",
       "      <th>2298</th>\n",
       "      <td>1307</td>\n",
       "      <td>NaN</td>\n",
       "      <td>NaN</td>\n",
       "      <td>NaN</td>\n",
       "      <td>NaN</td>\n",
       "      <td>NaN</td>\n",
       "      <td>NaN</td>\n",
       "      <td>surf</td>\n",
       "      <td>Boston-Cambridge-Newton, MA-NH MSA</td>\n",
       "      <td>0</td>\n",
       "      <td>0.0</td>\n",
       "    </tr>\n",
       "    <tr>\n",
       "      <th>2299</th>\n",
       "      <td>1319</td>\n",
       "      <td>NaN</td>\n",
       "      <td>NaN</td>\n",
       "      <td>NaN</td>\n",
       "      <td>NaN</td>\n",
       "      <td>NaN</td>\n",
       "      <td>NaN</td>\n",
       "      <td>surf</td>\n",
       "      <td>Colorado Springs, CO MSA</td>\n",
       "      <td>0</td>\n",
       "      <td>0.0</td>\n",
       "    </tr>\n",
       "    <tr>\n",
       "      <th>2300</th>\n",
       "      <td>1378</td>\n",
       "      <td>NaN</td>\n",
       "      <td>NaN</td>\n",
       "      <td>NaN</td>\n",
       "      <td>NaN</td>\n",
       "      <td>NaN</td>\n",
       "      <td>NaN</td>\n",
       "      <td>surf</td>\n",
       "      <td>Denver-Aurora-Lakewood, CO MSA</td>\n",
       "      <td>0</td>\n",
       "      <td>0.0</td>\n",
       "    </tr>\n",
       "    <tr>\n",
       "      <th>2301</th>\n",
       "      <td>1463</td>\n",
       "      <td>NaN</td>\n",
       "      <td>NaN</td>\n",
       "      <td>NaN</td>\n",
       "      <td>NaN</td>\n",
       "      <td>NaN</td>\n",
       "      <td>NaN</td>\n",
       "      <td>ultimate</td>\n",
       "      <td>Atlanta-Sandy Springs-Roswell, GA MSA</td>\n",
       "      <td>0</td>\n",
       "      <td>0.0</td>\n",
       "    </tr>\n",
       "    <tr>\n",
       "      <th>2302</th>\n",
       "      <td>1473</td>\n",
       "      <td>NaN</td>\n",
       "      <td>NaN</td>\n",
       "      <td>NaN</td>\n",
       "      <td>NaN</td>\n",
       "      <td>NaN</td>\n",
       "      <td>NaN</td>\n",
       "      <td>surf</td>\n",
       "      <td>Louisville/Jefferson County, KY-IN MSA</td>\n",
       "      <td>0</td>\n",
       "      <td>0.0</td>\n",
       "    </tr>\n",
       "  </tbody>\n",
       "</table>\n",
       "<p>2303 rows × 11 columns</p>\n",
       "</div>"
      ],
      "text/plain": [
       "      user_id   mes  minutos_usados  llamadas_hechas  numero_de_mensajes  \\\n",
       "0        1000  12.0            16.0            124.0                11.0   \n",
       "1        1001   8.0            27.0            182.0                30.0   \n",
       "2        1001   9.0            49.0            315.0                44.0   \n",
       "3        1001  10.0            65.0            393.0                53.0   \n",
       "4        1001  11.0            64.0            426.0                36.0   \n",
       "...       ...   ...             ...              ...                 ...   \n",
       "2298     1307   NaN             NaN              NaN                 NaN   \n",
       "2299     1319   NaN             NaN              NaN                 NaN   \n",
       "2300     1378   NaN             NaN              NaN                 NaN   \n",
       "2301     1463   NaN             NaN              NaN                 NaN   \n",
       "2302     1473   NaN             NaN              NaN                 NaN   \n",
       "\n",
       "      total_de_datos_usados  total_de_datos_usados_redondeado   plan_id  \\\n",
       "0                   1901.47                               2.0  ultimate   \n",
       "1                   6919.15                               7.0      surf   \n",
       "2                  13314.82                              14.0      surf   \n",
       "3                  22330.49                              22.0      surf   \n",
       "4                  18504.30                              19.0      surf   \n",
       "...                     ...                               ...       ...   \n",
       "2298                    NaN                               NaN      surf   \n",
       "2299                    NaN                               NaN      surf   \n",
       "2300                    NaN                               NaN      surf   \n",
       "2301                    NaN                               NaN  ultimate   \n",
       "2302                    NaN                               NaN      surf   \n",
       "\n",
       "                                        city  minutos_cobrables  \\\n",
       "0      Atlanta-Sandy Springs-Roswell, GA MSA                  0   \n",
       "1            Seattle-Tacoma-Bellevue, WA MSA                  0   \n",
       "2            Seattle-Tacoma-Bellevue, WA MSA                  0   \n",
       "3            Seattle-Tacoma-Bellevue, WA MSA                  0   \n",
       "4            Seattle-Tacoma-Bellevue, WA MSA                  0   \n",
       "...                                      ...                ...   \n",
       "2298      Boston-Cambridge-Newton, MA-NH MSA                  0   \n",
       "2299                Colorado Springs, CO MSA                  0   \n",
       "2300          Denver-Aurora-Lakewood, CO MSA                  0   \n",
       "2301   Atlanta-Sandy Springs-Roswell, GA MSA                  0   \n",
       "2302  Louisville/Jefferson County, KY-IN MSA                  0   \n",
       "\n",
       "      mensajes_cobrables  \n",
       "0                    0.0  \n",
       "1                    0.0  \n",
       "2                    0.0  \n",
       "3                    3.0  \n",
       "4                    0.0  \n",
       "...                  ...  \n",
       "2298                 0.0  \n",
       "2299                 0.0  \n",
       "2300                 0.0  \n",
       "2301                 0.0  \n",
       "2302                 0.0  \n",
       "\n",
       "[2303 rows x 11 columns]"
      ]
     },
     "execution_count": 89,
     "metadata": {},
     "output_type": "execute_result"
    }
   ],
   "source": [
    "tabla_de_consumo_planes[\"mensajes_cobrables\"] = tabla_de_consumo_planes.apply(llamadas_por_cobrar, axis=1)\n",
    "tabla_de_consumo_planes"
   ]
  },
  {
   "cell_type": "code",
   "execution_count": null,
   "metadata": {},
   "outputs": [
    {
     "data": {
      "text/plain": [
       "0.14763352149370387"
      ]
     },
     "execution_count": 90,
     "metadata": {},
     "output_type": "execute_result"
    }
   ],
   "source": [
    "len(tabla_de_consumo_planes.query(\"mensajes_cobrables > 0\"))/len(tabla_de_consumo_planes)"
   ]
  },
  {
   "cell_type": "markdown",
   "metadata": {
    "id": "42YSypXz0q1M"
   },
   "source": [
    "### Internet"
   ]
  },
  {
   "cell_type": "code",
   "execution_count": null,
   "metadata": {
    "id": "lSuKPtjh0q1M"
   },
   "outputs": [],
   "source": [
    "def rentabilidad_mensual(fila):\n",
    "    plan = fila[\"plan_id\"]  \n",
    "    datos_consumidos = fila[\"total_de_datos_usados_redondeado\"]\n",
    "    \n",
    "    datos_cobrables = 0\n",
    "    \n",
    "    if plan == \"surf\":\n",
    "        if datos_consumidos > surf_monthly_data:\n",
    "            datos_cobrables = datos_consumidos - surf_monthly_data\n",
    "    elif plan == \"ultimate\":\n",
    "        if datos_consumidos > ultimate_monthly_data:\n",
    "            datos_cobrabless = datos_consumidos - ultimate_monthly_data\n",
    "    \n",
    "    return datos_cobrables"
   ]
  },
  {
   "cell_type": "code",
   "execution_count": null,
   "metadata": {
    "id": "wnh8jYXi0q1N"
   },
   "outputs": [
    {
     "data": {
      "text/html": [
       "<div>\n",
       "<style scoped>\n",
       "    .dataframe tbody tr th:only-of-type {\n",
       "        vertical-align: middle;\n",
       "    }\n",
       "\n",
       "    .dataframe tbody tr th {\n",
       "        vertical-align: top;\n",
       "    }\n",
       "\n",
       "    .dataframe thead th {\n",
       "        text-align: right;\n",
       "    }\n",
       "</style>\n",
       "<table border=\"1\" class=\"dataframe\">\n",
       "  <thead>\n",
       "    <tr style=\"text-align: right;\">\n",
       "      <th></th>\n",
       "      <th>user_id</th>\n",
       "      <th>mes</th>\n",
       "      <th>minutos_usados</th>\n",
       "      <th>llamadas_hechas</th>\n",
       "      <th>numero_de_mensajes</th>\n",
       "      <th>total_de_datos_usados</th>\n",
       "      <th>total_de_datos_usados_redondeado</th>\n",
       "      <th>plan_id</th>\n",
       "      <th>city</th>\n",
       "      <th>minutos_cobrables</th>\n",
       "      <th>mensajes_cobrables</th>\n",
       "      <th>datos_cobrables</th>\n",
       "    </tr>\n",
       "  </thead>\n",
       "  <tbody>\n",
       "    <tr>\n",
       "      <th>0</th>\n",
       "      <td>1000</td>\n",
       "      <td>12.0</td>\n",
       "      <td>16.0</td>\n",
       "      <td>124.0</td>\n",
       "      <td>11.0</td>\n",
       "      <td>1901.47</td>\n",
       "      <td>2.0</td>\n",
       "      <td>ultimate</td>\n",
       "      <td>Atlanta-Sandy Springs-Roswell, GA MSA</td>\n",
       "      <td>0</td>\n",
       "      <td>0.0</td>\n",
       "      <td>0.0</td>\n",
       "    </tr>\n",
       "    <tr>\n",
       "      <th>1</th>\n",
       "      <td>1001</td>\n",
       "      <td>8.0</td>\n",
       "      <td>27.0</td>\n",
       "      <td>182.0</td>\n",
       "      <td>30.0</td>\n",
       "      <td>6919.15</td>\n",
       "      <td>7.0</td>\n",
       "      <td>surf</td>\n",
       "      <td>Seattle-Tacoma-Bellevue, WA MSA</td>\n",
       "      <td>0</td>\n",
       "      <td>0.0</td>\n",
       "      <td>0.0</td>\n",
       "    </tr>\n",
       "    <tr>\n",
       "      <th>2</th>\n",
       "      <td>1001</td>\n",
       "      <td>9.0</td>\n",
       "      <td>49.0</td>\n",
       "      <td>315.0</td>\n",
       "      <td>44.0</td>\n",
       "      <td>13314.82</td>\n",
       "      <td>14.0</td>\n",
       "      <td>surf</td>\n",
       "      <td>Seattle-Tacoma-Bellevue, WA MSA</td>\n",
       "      <td>0</td>\n",
       "      <td>0.0</td>\n",
       "      <td>0.0</td>\n",
       "    </tr>\n",
       "    <tr>\n",
       "      <th>3</th>\n",
       "      <td>1001</td>\n",
       "      <td>10.0</td>\n",
       "      <td>65.0</td>\n",
       "      <td>393.0</td>\n",
       "      <td>53.0</td>\n",
       "      <td>22330.49</td>\n",
       "      <td>22.0</td>\n",
       "      <td>surf</td>\n",
       "      <td>Seattle-Tacoma-Bellevue, WA MSA</td>\n",
       "      <td>0</td>\n",
       "      <td>3.0</td>\n",
       "      <td>7.0</td>\n",
       "    </tr>\n",
       "    <tr>\n",
       "      <th>4</th>\n",
       "      <td>1001</td>\n",
       "      <td>11.0</td>\n",
       "      <td>64.0</td>\n",
       "      <td>426.0</td>\n",
       "      <td>36.0</td>\n",
       "      <td>18504.30</td>\n",
       "      <td>19.0</td>\n",
       "      <td>surf</td>\n",
       "      <td>Seattle-Tacoma-Bellevue, WA MSA</td>\n",
       "      <td>0</td>\n",
       "      <td>0.0</td>\n",
       "      <td>4.0</td>\n",
       "    </tr>\n",
       "    <tr>\n",
       "      <th>...</th>\n",
       "      <td>...</td>\n",
       "      <td>...</td>\n",
       "      <td>...</td>\n",
       "      <td>...</td>\n",
       "      <td>...</td>\n",
       "      <td>...</td>\n",
       "      <td>...</td>\n",
       "      <td>...</td>\n",
       "      <td>...</td>\n",
       "      <td>...</td>\n",
       "      <td>...</td>\n",
       "      <td>...</td>\n",
       "    </tr>\n",
       "    <tr>\n",
       "      <th>2298</th>\n",
       "      <td>1307</td>\n",
       "      <td>NaN</td>\n",
       "      <td>NaN</td>\n",
       "      <td>NaN</td>\n",
       "      <td>NaN</td>\n",
       "      <td>NaN</td>\n",
       "      <td>NaN</td>\n",
       "      <td>surf</td>\n",
       "      <td>Boston-Cambridge-Newton, MA-NH MSA</td>\n",
       "      <td>0</td>\n",
       "      <td>0.0</td>\n",
       "      <td>0.0</td>\n",
       "    </tr>\n",
       "    <tr>\n",
       "      <th>2299</th>\n",
       "      <td>1319</td>\n",
       "      <td>NaN</td>\n",
       "      <td>NaN</td>\n",
       "      <td>NaN</td>\n",
       "      <td>NaN</td>\n",
       "      <td>NaN</td>\n",
       "      <td>NaN</td>\n",
       "      <td>surf</td>\n",
       "      <td>Colorado Springs, CO MSA</td>\n",
       "      <td>0</td>\n",
       "      <td>0.0</td>\n",
       "      <td>0.0</td>\n",
       "    </tr>\n",
       "    <tr>\n",
       "      <th>2300</th>\n",
       "      <td>1378</td>\n",
       "      <td>NaN</td>\n",
       "      <td>NaN</td>\n",
       "      <td>NaN</td>\n",
       "      <td>NaN</td>\n",
       "      <td>NaN</td>\n",
       "      <td>NaN</td>\n",
       "      <td>surf</td>\n",
       "      <td>Denver-Aurora-Lakewood, CO MSA</td>\n",
       "      <td>0</td>\n",
       "      <td>0.0</td>\n",
       "      <td>0.0</td>\n",
       "    </tr>\n",
       "    <tr>\n",
       "      <th>2301</th>\n",
       "      <td>1463</td>\n",
       "      <td>NaN</td>\n",
       "      <td>NaN</td>\n",
       "      <td>NaN</td>\n",
       "      <td>NaN</td>\n",
       "      <td>NaN</td>\n",
       "      <td>NaN</td>\n",
       "      <td>ultimate</td>\n",
       "      <td>Atlanta-Sandy Springs-Roswell, GA MSA</td>\n",
       "      <td>0</td>\n",
       "      <td>0.0</td>\n",
       "      <td>0.0</td>\n",
       "    </tr>\n",
       "    <tr>\n",
       "      <th>2302</th>\n",
       "      <td>1473</td>\n",
       "      <td>NaN</td>\n",
       "      <td>NaN</td>\n",
       "      <td>NaN</td>\n",
       "      <td>NaN</td>\n",
       "      <td>NaN</td>\n",
       "      <td>NaN</td>\n",
       "      <td>surf</td>\n",
       "      <td>Louisville/Jefferson County, KY-IN MSA</td>\n",
       "      <td>0</td>\n",
       "      <td>0.0</td>\n",
       "      <td>0.0</td>\n",
       "    </tr>\n",
       "  </tbody>\n",
       "</table>\n",
       "<p>2303 rows × 12 columns</p>\n",
       "</div>"
      ],
      "text/plain": [
       "      user_id   mes  minutos_usados  llamadas_hechas  numero_de_mensajes  \\\n",
       "0        1000  12.0            16.0            124.0                11.0   \n",
       "1        1001   8.0            27.0            182.0                30.0   \n",
       "2        1001   9.0            49.0            315.0                44.0   \n",
       "3        1001  10.0            65.0            393.0                53.0   \n",
       "4        1001  11.0            64.0            426.0                36.0   \n",
       "...       ...   ...             ...              ...                 ...   \n",
       "2298     1307   NaN             NaN              NaN                 NaN   \n",
       "2299     1319   NaN             NaN              NaN                 NaN   \n",
       "2300     1378   NaN             NaN              NaN                 NaN   \n",
       "2301     1463   NaN             NaN              NaN                 NaN   \n",
       "2302     1473   NaN             NaN              NaN                 NaN   \n",
       "\n",
       "      total_de_datos_usados  total_de_datos_usados_redondeado   plan_id  \\\n",
       "0                   1901.47                               2.0  ultimate   \n",
       "1                   6919.15                               7.0      surf   \n",
       "2                  13314.82                              14.0      surf   \n",
       "3                  22330.49                              22.0      surf   \n",
       "4                  18504.30                              19.0      surf   \n",
       "...                     ...                               ...       ...   \n",
       "2298                    NaN                               NaN      surf   \n",
       "2299                    NaN                               NaN      surf   \n",
       "2300                    NaN                               NaN      surf   \n",
       "2301                    NaN                               NaN  ultimate   \n",
       "2302                    NaN                               NaN      surf   \n",
       "\n",
       "                                        city  minutos_cobrables  \\\n",
       "0      Atlanta-Sandy Springs-Roswell, GA MSA                  0   \n",
       "1            Seattle-Tacoma-Bellevue, WA MSA                  0   \n",
       "2            Seattle-Tacoma-Bellevue, WA MSA                  0   \n",
       "3            Seattle-Tacoma-Bellevue, WA MSA                  0   \n",
       "4            Seattle-Tacoma-Bellevue, WA MSA                  0   \n",
       "...                                      ...                ...   \n",
       "2298      Boston-Cambridge-Newton, MA-NH MSA                  0   \n",
       "2299                Colorado Springs, CO MSA                  0   \n",
       "2300          Denver-Aurora-Lakewood, CO MSA                  0   \n",
       "2301   Atlanta-Sandy Springs-Roswell, GA MSA                  0   \n",
       "2302  Louisville/Jefferson County, KY-IN MSA                  0   \n",
       "\n",
       "      mensajes_cobrables  datos_cobrables  \n",
       "0                    0.0              0.0  \n",
       "1                    0.0              0.0  \n",
       "2                    0.0              0.0  \n",
       "3                    3.0              7.0  \n",
       "4                    0.0              4.0  \n",
       "...                  ...              ...  \n",
       "2298                 0.0              0.0  \n",
       "2299                 0.0              0.0  \n",
       "2300                 0.0              0.0  \n",
       "2301                 0.0              0.0  \n",
       "2302                 0.0              0.0  \n",
       "\n",
       "[2303 rows x 12 columns]"
      ]
     },
     "execution_count": 92,
     "metadata": {},
     "output_type": "execute_result"
    }
   ],
   "source": [
    "tabla_de_consumo_planes[\"datos_cobrables\"] = tabla_de_consumo_planes.apply(rentabilidad_mensual, axis=1)\n",
    "tabla_de_consumo_planes"
   ]
  },
  {
   "cell_type": "code",
   "execution_count": null,
   "metadata": {
    "id": "5VlyJ9ry0q1N"
   },
   "outputs": [
    {
     "data": {
      "text/plain": [
       "0.3955709943551889"
      ]
     },
     "execution_count": 93,
     "metadata": {},
     "output_type": "execute_result"
    }
   ],
   "source": [
    "len(tabla_de_consumo_planes.query(\"datos_cobrables > 0\"))/len(tabla_de_consumo_planes)"
   ]
  },
  {
   "cell_type": "code",
   "execution_count": null,
   "metadata": {},
   "outputs": [],
   "source": [
    "def rentabilidad_mensual(fila):\n",
    "    plan = fila[\"plan_id\"]  \n",
    "    llamadas_cobrables = fila[\"minutos_cobrables\"]\n",
    "    mensajes_cobrables = fila[\"mensajes_cobrables\"]\n",
    "    datos_cobrables = fila[\"datos_cobrables\"]\n",
    "                             \n",
    "    rentabilidad = 0\n",
    "    \n",
    "    if plan == \"surf\":\n",
    "        rentabilidad = (surf_monthly_charge \n",
    "                        + (llamadas_cobrables * surf_call_charge) \n",
    "                        + (mensajes_cobrables * surf_message_charge) \n",
    "                        + (datos_cobrables * surf_date_charge))\n",
    "    elif plan == \"ultimate\":\n",
    "        rentabilidad = (ultimate_monthly_charge \n",
    "                        + (llamadas_cobrables * ultimate_call_charge) \n",
    "                        + (mensajes_cobrables * ultimate_message_charge) \n",
    "                        + (datos_cobrables * ultimate_date_charge))\n",
    "    \n",
    "    return rentabilidad                     \n",
    "                                        "
   ]
  },
  {
   "cell_type": "code",
   "execution_count": null,
   "metadata": {},
   "outputs": [],
   "source": [
    "tabla_de_consumo_planes[\"rentabilidad_mensual\"]=tabla_de_consumo_planes.apply(rentabilidad_mensual, axis=1)"
   ]
  },
  {
   "cell_type": "code",
   "execution_count": null,
   "metadata": {},
   "outputs": [
    {
     "data": {
      "text/html": [
       "<div>\n",
       "<style scoped>\n",
       "    .dataframe tbody tr th:only-of-type {\n",
       "        vertical-align: middle;\n",
       "    }\n",
       "\n",
       "    .dataframe tbody tr th {\n",
       "        vertical-align: top;\n",
       "    }\n",
       "\n",
       "    .dataframe thead th {\n",
       "        text-align: right;\n",
       "    }\n",
       "</style>\n",
       "<table border=\"1\" class=\"dataframe\">\n",
       "  <thead>\n",
       "    <tr style=\"text-align: right;\">\n",
       "      <th></th>\n",
       "      <th>user_id</th>\n",
       "      <th>mes</th>\n",
       "      <th>minutos_usados</th>\n",
       "      <th>llamadas_hechas</th>\n",
       "      <th>numero_de_mensajes</th>\n",
       "      <th>total_de_datos_usados</th>\n",
       "      <th>total_de_datos_usados_redondeado</th>\n",
       "      <th>plan_id</th>\n",
       "      <th>city</th>\n",
       "      <th>minutos_cobrables</th>\n",
       "      <th>mensajes_cobrables</th>\n",
       "      <th>datos_cobrables</th>\n",
       "      <th>rentabilidad_mensual</th>\n",
       "    </tr>\n",
       "  </thead>\n",
       "  <tbody>\n",
       "    <tr>\n",
       "      <th>0</th>\n",
       "      <td>1000</td>\n",
       "      <td>12.0</td>\n",
       "      <td>16.0</td>\n",
       "      <td>124.0</td>\n",
       "      <td>11.0</td>\n",
       "      <td>1901.47</td>\n",
       "      <td>2.0</td>\n",
       "      <td>ultimate</td>\n",
       "      <td>Atlanta-Sandy Springs-Roswell, GA MSA</td>\n",
       "      <td>0</td>\n",
       "      <td>0.0</td>\n",
       "      <td>0.0</td>\n",
       "      <td>70.00</td>\n",
       "    </tr>\n",
       "    <tr>\n",
       "      <th>1</th>\n",
       "      <td>1001</td>\n",
       "      <td>8.0</td>\n",
       "      <td>27.0</td>\n",
       "      <td>182.0</td>\n",
       "      <td>30.0</td>\n",
       "      <td>6919.15</td>\n",
       "      <td>7.0</td>\n",
       "      <td>surf</td>\n",
       "      <td>Seattle-Tacoma-Bellevue, WA MSA</td>\n",
       "      <td>0</td>\n",
       "      <td>0.0</td>\n",
       "      <td>0.0</td>\n",
       "      <td>20.00</td>\n",
       "    </tr>\n",
       "    <tr>\n",
       "      <th>2</th>\n",
       "      <td>1001</td>\n",
       "      <td>9.0</td>\n",
       "      <td>49.0</td>\n",
       "      <td>315.0</td>\n",
       "      <td>44.0</td>\n",
       "      <td>13314.82</td>\n",
       "      <td>14.0</td>\n",
       "      <td>surf</td>\n",
       "      <td>Seattle-Tacoma-Bellevue, WA MSA</td>\n",
       "      <td>0</td>\n",
       "      <td>0.0</td>\n",
       "      <td>0.0</td>\n",
       "      <td>20.00</td>\n",
       "    </tr>\n",
       "    <tr>\n",
       "      <th>3</th>\n",
       "      <td>1001</td>\n",
       "      <td>10.0</td>\n",
       "      <td>65.0</td>\n",
       "      <td>393.0</td>\n",
       "      <td>53.0</td>\n",
       "      <td>22330.49</td>\n",
       "      <td>22.0</td>\n",
       "      <td>surf</td>\n",
       "      <td>Seattle-Tacoma-Bellevue, WA MSA</td>\n",
       "      <td>0</td>\n",
       "      <td>3.0</td>\n",
       "      <td>7.0</td>\n",
       "      <td>90.09</td>\n",
       "    </tr>\n",
       "    <tr>\n",
       "      <th>4</th>\n",
       "      <td>1001</td>\n",
       "      <td>11.0</td>\n",
       "      <td>64.0</td>\n",
       "      <td>426.0</td>\n",
       "      <td>36.0</td>\n",
       "      <td>18504.30</td>\n",
       "      <td>19.0</td>\n",
       "      <td>surf</td>\n",
       "      <td>Seattle-Tacoma-Bellevue, WA MSA</td>\n",
       "      <td>0</td>\n",
       "      <td>0.0</td>\n",
       "      <td>4.0</td>\n",
       "      <td>60.00</td>\n",
       "    </tr>\n",
       "  </tbody>\n",
       "</table>\n",
       "</div>"
      ],
      "text/plain": [
       "   user_id   mes  minutos_usados  llamadas_hechas  numero_de_mensajes  \\\n",
       "0     1000  12.0            16.0            124.0                11.0   \n",
       "1     1001   8.0            27.0            182.0                30.0   \n",
       "2     1001   9.0            49.0            315.0                44.0   \n",
       "3     1001  10.0            65.0            393.0                53.0   \n",
       "4     1001  11.0            64.0            426.0                36.0   \n",
       "\n",
       "   total_de_datos_usados  total_de_datos_usados_redondeado   plan_id  \\\n",
       "0                1901.47                               2.0  ultimate   \n",
       "1                6919.15                               7.0      surf   \n",
       "2               13314.82                              14.0      surf   \n",
       "3               22330.49                              22.0      surf   \n",
       "4               18504.30                              19.0      surf   \n",
       "\n",
       "                                    city  minutos_cobrables  \\\n",
       "0  Atlanta-Sandy Springs-Roswell, GA MSA                  0   \n",
       "1        Seattle-Tacoma-Bellevue, WA MSA                  0   \n",
       "2        Seattle-Tacoma-Bellevue, WA MSA                  0   \n",
       "3        Seattle-Tacoma-Bellevue, WA MSA                  0   \n",
       "4        Seattle-Tacoma-Bellevue, WA MSA                  0   \n",
       "\n",
       "   mensajes_cobrables  datos_cobrables  rentabilidad_mensual  \n",
       "0                 0.0              0.0                 70.00  \n",
       "1                 0.0              0.0                 20.00  \n",
       "2                 0.0              0.0                 20.00  \n",
       "3                 3.0              7.0                 90.09  \n",
       "4                 0.0              4.0                 60.00  "
      ]
     },
     "execution_count": 96,
     "metadata": {},
     "output_type": "execute_result"
    }
   ],
   "source": [
    "tabla_de_consumo_planes.head(5)"
   ]
  },
  {
   "cell_type": "code",
   "execution_count": null,
   "metadata": {
    "id": "tz-dq_V00q1O"
   },
   "outputs": [],
   "source": [
    "variables=[\"minutos_usados\",\"numero_de_mensajes\",\"total_de_datos_usados_redondeado\"]"
   ]
  },
  {
   "cell_type": "code",
   "execution_count": null,
   "metadata": {
    "id": "0Y1v8ZUz0q1P"
   },
   "outputs": [],
   "source": [
    "plans=[\"surf\",\"ultimate\"]"
   ]
  },
  {
   "cell_type": "code",
   "execution_count": null,
   "metadata": {
    "id": "bYmwxyVh0q1P"
   },
   "outputs": [
    {
     "data": {
      "image/png": "[encoded data removed]",
      "text/plain": [
       "<Figure size 640x480 with 1 Axes>"
      ]
     },
     "metadata": {},
     "output_type": "display_data"
    },
    {
     "data": {
      "image/png": "[encoded data removed]",
      "text/plain": [
       "<Figure size 640x480 with 1 Axes>"
      ]
     },
     "metadata": {},
     "output_type": "display_data"
    },
    {
     "data": {
      "image/png": "[encoded data removed]",
      "text/plain": [
       "<Figure size 640x480 with 1 Axes>"
      ]
     },
     "metadata": {},
     "output_type": "display_data"
    },
    {
     "data": {
      "image/png": "[encoded data removed]",
      "text/plain": [
       "<Figure size 640x480 with 1 Axes>"
      ]
     },
     "metadata": {},
     "output_type": "display_data"
    },
    {
     "data": {
      "image/png": "[encoded data removed]",
      "text/plain": [
       "<Figure size 640x480 with 1 Axes>"
      ]
     },
     "metadata": {},
     "output_type": "display_data"
    },
    {
     "data": {
      "image/png": "[encoded data removed]",
      "text/plain": [
       "<Figure size 640x480 with 1 Axes>"
      ]
     },
     "metadata": {},
     "output_type": "display_data"
    },
    {
     "data": {
      "image/png": "[encoded data removed]",
      "text/plain": [
       "<Figure size 640x480 with 1 Axes>"
      ]
     },
     "metadata": {},
     "output_type": "display_data"
    },
    {
     "data": {
      "image/png": "[encoded data removed]",
      "text/plain": [
       "<Figure size 640x480 with 1 Axes>"
      ]
     },
     "metadata": {},
     "output_type": "display_data"
    },
    {
     "data": {
      "image/png": "[encoded data removed]",
      "text/plain": [
       "<Figure size 640x480 with 1 Axes>"
      ]
     },
     "metadata": {},
     "output_type": "display_data"
    }
   ],
   "source": [
    "import matplotlib.pyplot as plt\n",
    "\n",
    "for metrica in variables:\n",
    "    for plan in plans:\n",
    "        tabla_de_consumo_planes[tabla_de_consumo_planes[\"plan_id\"] == plan][metrica].plot(kind=\"hist\")\n",
    "                                \n",
    "    plt.title(metrica)\n",
    "    plt.legend(plans)\n",
    "    plt.show()\n",
    "    \n",
    "    for plan in plans: \n",
    "        plt.boxplot(tabla_de_consumo_planes[tabla_de_consumo_planes[\"plan_id\"] == plan][metrica].dropna())\n",
    "        plt.title(plan)\n",
    "        plt.show()"
   ]
  },
  {
   "cell_type": "markdown",
   "metadata": {},
   "source": [
    "en la distribucion de uso de metrica y plan podemos concluir que el plan surf muestra un rango mas amplio de minutos usados\n",
    "esto indica que los usuariosde este plan tienden a usar más minutos de manera más diversa en comparación con los usuarios del plan ultimate.\n",
    "de igual forma es mas alto el numero de mensajes en \"surf\" Esto da a entender que el  plan ofrece más o mensajes y si los usuarios de un plan envían significativamente más mensajes que los de otro plan. llegando a los 500 mensajes mientras que ultimate llega a un poco  mas de 100 \n",
    "el total de datos usados puede dar una idea de si un plan tiende a consumir más datos que otro y si hay una gran variabilidad en el consumo de datos entre los usuarios de cada plan.nuevamente siendo mas usado \"surf\" por mas de 600, aqui deberiamos evaluar muchos factores ya que surf puede ser por ejemplo mas rentable por precio o por calidad, por lo tanto a simple vista, podriamos ver que \"surf\" es mejor pero tendriamos que evaluar si en efecto es mejor "
   ]
  },
  {
   "cell_type": "code",
   "execution_count": null,
   "metadata": {},
   "outputs": [
    {
     "name": "stdout",
     "output_type": "stream",
     "text": [
      "la rentabiliad mensual del plan surf es de : 92710.93\n",
      "la rentabiliad mensual del plan ultimate es de : 50680.0\n"
     ]
    }
   ],
   "source": [
    "plans=[\"surf\",\"ultimate\"]\n",
    "\n",
    "for plan in plans:\n",
    "        rentabilidad = tabla_de_consumo_planes[tabla_de_consumo_planes[\"plan_id\"] == plan] [\"rentabilidad_mensual\"].sum()\n",
    "        print(f\"la rentabiliad mensual del plan {plan} es de : {rentabilidad}\")"
   ]
  },
  {
   "cell_type": "markdown",
   "metadata": {
    "id": "ajJ7VKeI0q1Q"
   },
   "source": [
    "## Prueba las hipótesis estadísticas"
   ]
  },
  {
   "cell_type": "markdown",
   "metadata": {
    "id": "IQwa_hsh0q1Q"
   },
   "source": [
    "[Elabora las hipótesis nula y alternativa, escoge la prueba estadística, determina el valor alfa.]"
   ]
  },
  {
   "cell_type": "code",
   "execution_count": null,
   "metadata": {
    "id": "nFoPNlPq0q1R"
   },
   "outputs": [],
   "source": [
    "# Prueba las hipótesis\n",
    "alpha=0.05\n",
    "sample_1 = tabla_de_consumo_planes.query(\"plan_id == 'surf'\")[\"rentabilidad_mensual\"]"
   ]
  },
  {
   "cell_type": "code",
   "execution_count": null,
   "metadata": {},
   "outputs": [
    {
     "data": {
      "text/plain": [
       "1       20.00\n",
       "2       20.00\n",
       "3       90.09\n",
       "4       60.00\n",
       "5       60.00\n",
       "        ...  \n",
       "2295    20.00\n",
       "2298    20.00\n",
       "2299    20.00\n",
       "2300    20.00\n",
       "2302    20.00\n",
       "Name: rentabilidad_mensual, Length: 1579, dtype: float64"
      ]
     },
     "execution_count": 103,
     "metadata": {},
     "output_type": "execute_result"
    }
   ],
   "source": [
    "sample_1"
   ]
  },
  {
   "cell_type": "code",
   "execution_count": null,
   "metadata": {},
   "outputs": [],
   "source": [
    "sample_2 = tabla_de_consumo_planes.query(\"plan_id == 'ultimate'\")[\"rentabilidad_mensual\"]"
   ]
  },
  {
   "cell_type": "code",
   "execution_count": null,
   "metadata": {},
   "outputs": [
    {
     "data": {
      "text/plain": [
       "0       70.0\n",
       "19      70.0\n",
       "20      70.0\n",
       "26      70.0\n",
       "27      70.0\n",
       "        ... \n",
       "2292    70.0\n",
       "2293    70.0\n",
       "2296    70.0\n",
       "2297    70.0\n",
       "2301    70.0\n",
       "Name: rentabilidad_mensual, Length: 724, dtype: float64"
      ]
     },
     "execution_count": 105,
     "metadata": {},
     "output_type": "execute_result"
    }
   ],
   "source": [
    "sample_2"
   ]
  },
  {
   "cell_type": "code",
   "execution_count": null,
   "metadata": {},
   "outputs": [
    {
     "name": "stdout",
     "output_type": "stream",
     "text": [
      "la rentabiliad mensual del plan surf es de : 92710.93\n",
      "la rentabiliad mensual promedio del plan surf es de : 58.714965167827735\n",
      "la rentabiliad mensual del plan ultimate es de : 50680.0\n",
      "la rentabiliad mensual promedio del plan ultimate es de : 70.0\n"
     ]
    }
   ],
   "source": [
    "plans=[\"surf\",\"ultimate\"]\n",
    "\n",
    "for plan in plans:\n",
    "        rentabilidad_suma = tabla_de_consumo_planes[tabla_de_consumo_planes[\"plan_id\"] == plan] [\"rentabilidad_mensual\"].sum()\n",
    "        rentabilidad_promedio_mensual = tabla_de_consumo_planes[tabla_de_consumo_planes[\"plan_id\"] == plan] [\"rentabilidad_mensual\"].mean()\n",
    "        print(f\"la rentabiliad mensual del plan {plan} es de : {rentabilidad_suma}\")\n",
    "        print(f\"la rentabiliad mensual promedio del plan {plan} es de : {rentabilidad_promedio_mensual}\")"
   ]
  },
  {
   "cell_type": "markdown",
   "metadata": {},
   "source": [
    "podemos concluir que el plan Surf tiene una rentabilidad total mensual mayor que el plan Ultimate, lo que sugiere que, en total, genera más ingresos mensuales sin embargo, el plan Ultimate tiene una rentabilidad mensual promedio más alta, lo que indica que, en promedio, cada unidad o instancia de este plan es más rentable que el plan Surf. por tanto lo que general \"ultimate\" es mucho mayor que \"surf\""
   ]
  },
  {
   "cell_type": "markdown",
   "metadata": {},
   "source": [
    "h0= los promedios mensaules del plan surf son igaules al plan ultimate \n",
    "h0x=los promedios mensaules del plan surf tienen una varianza igual a la de plan ultimate"
   ]
  },
  {
   "cell_type": "code",
   "execution_count": null,
   "metadata": {},
   "outputs": [
    {
     "name": "stdout",
     "output_type": "stream",
     "text": [
      "p-value: 3.925205457071692e-16\n",
      "p-value: 1.0263728654244505e-97\n"
     ]
    },
    {
     "name": "stderr",
     "output_type": "stream",
     "text": [
      "/tmp/ipykernel_32/283607869.py:3: RuntimeWarning: Precision loss occurred in moment calculation due to catastrophic cancellation. This occurs when the data are nearly identical. Results may be unreliable.\n",
      "  resultados=st.ttest_ind(sample_1, sample_2, equal_var=False)\n"
     ]
    }
   ],
   "source": [
    "from scipy import stats as st\n",
    "\n",
    "resultados=st.ttest_ind(sample_1, sample_2, equal_var=False)\n",
    "resultados_levene=st.levene(sample_1, sample_2)\n",
    "print(f\"p-value: {resultados.pvalue}\")\n",
    "print(f\"p-value: {resultados_levene.pvalue}\")\n"
   ]
  },
  {
   "cell_type": "code",
   "execution_count": null,
   "metadata": {},
   "outputs": [
    {
     "name": "stdout",
     "output_type": "stream",
     "text": [
      "podemos rechazar la hipotesis nula 1\n"
     ]
    }
   ],
   "source": [
    "if resultados.pvalue < alpha:\n",
    "    print(\"podemos rechazar la hipotesis nula 1\")\n",
    "else:\n",
    "    print(\"No podemos rechazar la hipotesis nula\")"
   ]
  },
  {
   "cell_type": "code",
   "execution_count": null,
   "metadata": {},
   "outputs": [
    {
     "name": "stdout",
     "output_type": "stream",
     "text": [
      "podemos rechazar la hipotesis nula 2\n"
     ]
    }
   ],
   "source": [
    "if resultados_levene.pvalue < alpha:\n",
    "    print(\"podemos rechazar la hipotesis nula 2\")\n",
    "else:\n",
    "    print(\"No podemos rechazar la hipotesis nula\")"
   ]
  },
  {
   "cell_type": "markdown",
   "metadata": {
    "id": "bbTR8UQO0q1T"
   },
   "source": [
    "## Conclusión general\n",
    "\n",
    "[En esta sección final, enumera tus conclusiones importantes. Asegúrate de que estas abarquen todas las decisiones (suposiciones) importantes que adoptaste y que determinaron la forma elegida para procesar y analizar los datos.]"
   ]
  },
  {
   "cell_type": "markdown",
   "metadata": {},
   "source": [
    "Al hacer las correcciones y agregar informacion que enriquesciera los datos trabajados se concluye que apesar de que estadisticamente en primera instancia pareciera que \"surf\" es un mejor plan que \"ultimate\" el valor promedio concluye que \"ultimate\" es mejor ya que una rentabilidad mensual mejor, realizan las pruebas de hipotesis con un alpha = 0.05 (esto para que permita aceptar un cierto margen de error) nos demuestra q"
   ]
  },
  {
   "cell_type": "markdown",
   "metadata": {},
   "source": [
    "Hhacer las correcciones y agregar informacion que enriquesciera los datos como el crear una variable mes para tener una fecha mas especifica del uso de planes hacia los usuarios se concluye que apesar de que estadisticamente en primera instancia pareciera que \"surf\" es un mejor plan que \"ultimate\" que es la forma en que lo muestra los graficos y las cajas de dispercion\n",
    "El plan \"surf\" genera una rentabilidad mensual total mayor que el plan \"ultimate\". Esto sugiere que, en términos absolutos, el plan \"surf\" es más rentable que el plan \"ultimate\". sin embrago La rentabilidad mensual promedio es de aproximadamente 58.71. mientras que Plan Ultimate La rentabilidad mensual promedio es de 70.00 es por esto que: \n",
    "AUnque el plan \"surf\" tiene una rentabilidad total mayor, el plan \"ultimate\" tiene una rentabilidad mensual promedio más alta. Esto indica que, en promedio, cada instancia del plan \"ultimate\" genera más rentabilidad por mes que cada instancia del plan \"surf\".\n",
    "#En resumen, mientras que el plan \"surf\" genera más rentabilidad total, el plan \"ultimate\" ofrece una rentabilidad promedio superior. Esto puede influir en decisiones sobre cómo gestionar y promocionar cada plan para optimizar tanto la rentabilidad total como la rentabilidad promedio."
   ]
  }
 ],
 "metadata": {
  "ExecuteTimeLog": [
   {
    "duration": 828,
    "start_time": "2021-11-16T09:21:11.304Z"
   },
   {
    "duration": 893,
    "start_time": "2021-11-16T09:21:17.728Z"
   },
   {
    "duration": 1150,
    "start_time": "2021-11-16T09:21:29.568Z"
   },
   {
    "duration": 3,
    "start_time": "2021-11-16T09:24:14.495Z"
   },
   {
    "duration": 120,
    "start_time": "2021-11-16T09:24:46.630Z"
   },
   {
    "duration": 3,
    "start_time": "2021-11-16T09:28:27.882Z"
   },
   {
    "duration": 4,
    "start_time": "2021-11-16T09:29:54.281Z"
   },
   {
    "duration": 3,
    "start_time": "2021-11-16T09:30:45.936Z"
   },
   {
    "duration": 4,
    "start_time": "2021-11-16T09:31:06.300Z"
   },
   {
    "duration": 113,
    "start_time": "2021-11-16T09:31:37.208Z"
   },
   {
    "duration": 143,
    "start_time": "2021-11-16T09:31:48.656Z"
   },
   {
    "duration": 98,
    "start_time": "2021-11-16T09:31:55.678Z"
   },
   {
    "duration": 3,
    "start_time": "2021-11-16T09:32:08.535Z"
   },
   {
    "duration": 111,
    "start_time": "2021-11-16T09:32:10.120Z"
   },
   {
    "duration": 3,
    "start_time": "2021-11-16T09:32:15.732Z"
   },
   {
    "duration": 4,
    "start_time": "2021-11-16T09:32:29.423Z"
   },
   {
    "duration": 3,
    "start_time": "2021-11-16T10:03:03.074Z"
   },
   {
    "duration": 3,
    "start_time": "2021-11-16T10:10:01.288Z"
   },
   {
    "duration": 3,
    "start_time": "2021-11-16T10:10:46.923Z"
   },
   {
    "duration": 121,
    "start_time": "2021-11-16T10:37:46.494Z"
   },
   {
    "duration": 125,
    "start_time": "2021-11-16T10:38:20.632Z"
   },
   {
    "duration": 112,
    "start_time": "2021-11-16T10:46:53.001Z"
   },
   {
    "duration": 110,
    "start_time": "2021-11-16T10:48:25.775Z"
   },
   {
    "duration": 3,
    "start_time": "2021-11-16T10:50:18.720Z"
   },
   {
    "duration": 4,
    "start_time": "2021-11-16T10:50:37.649Z"
   },
   {
    "duration": 2,
    "start_time": "2021-11-16T10:50:51.884Z"
   },
   {
    "duration": 3,
    "start_time": "2021-11-16T10:51:56.237Z"
   },
   {
    "duration": 101,
    "start_time": "2021-11-16T10:53:13.791Z"
   },
   {
    "duration": 3,
    "start_time": "2021-11-16T10:55:59.186Z"
   },
   {
    "duration": 3,
    "start_time": "2021-11-16T10:56:10.751Z"
   },
   {
    "duration": 3,
    "start_time": "2021-11-16T10:56:49.038Z"
   },
   {
    "duration": 3,
    "start_time": "2021-11-16T10:56:49.174Z"
   },
   {
    "duration": 4,
    "start_time": "2021-11-16T10:56:49.414Z"
   },
   {
    "duration": 3,
    "start_time": "2021-11-16T10:56:49.680Z"
   },
   {
    "duration": 3,
    "start_time": "2021-11-16T10:56:50.370Z"
   },
   {
    "duration": 114,
    "start_time": "2021-11-16T10:59:34.518Z"
   },
   {
    "duration": 3,
    "start_time": "2021-11-16T11:01:41.201Z"
   },
   {
    "duration": 116,
    "start_time": "2021-11-16T11:01:48.754Z"
   },
   {
    "duration": 3,
    "start_time": "2021-11-16T11:02:16.685Z"
   },
   {
    "duration": 3,
    "start_time": "2021-11-16T11:02:19.479Z"
   },
   {
    "duration": 3,
    "start_time": "2021-11-16T11:02:47.067Z"
   },
   {
    "duration": 3,
    "start_time": "2021-11-16T11:02:49.353Z"
   },
   {
    "duration": 3,
    "start_time": "2021-11-16T11:03:07.835Z"
   },
   {
    "duration": 3,
    "start_time": "2021-11-16T11:03:07.953Z"
   },
   {
    "duration": 112,
    "start_time": "2021-11-16T11:07:52.072Z"
   },
   {
    "duration": 187,
    "start_time": "2021-11-16T11:09:23.468Z"
   },
   {
    "duration": 4,
    "start_time": "2021-11-16T11:10:01.455Z"
   },
   {
    "duration": 3,
    "start_time": "2021-11-16T11:10:05.069Z"
   },
   {
    "duration": 4,
    "start_time": "2021-11-16T11:10:13.376Z"
   },
   {
    "duration": 3,
    "start_time": "2021-11-16T11:10:14.434Z"
   },
   {
    "duration": 3,
    "start_time": "2021-11-16T11:10:22.853Z"
   },
   {
    "duration": 4,
    "start_time": "2021-11-16T11:27:29.279Z"
   },
   {
    "duration": 4,
    "start_time": "2021-11-16T11:29:08.919Z"
   },
   {
    "duration": 118,
    "start_time": "2021-11-16T11:29:46.703Z"
   },
   {
    "duration": 437,
    "start_time": "2021-11-16T11:36:02.181Z"
   },
   {
    "duration": 157,
    "start_time": "2021-11-16T11:36:14.388Z"
   },
   {
    "duration": 207,
    "start_time": "2021-11-16T11:47:15.898Z"
   },
   {
    "duration": 3,
    "start_time": "2021-11-16T11:53:52.092Z"
   },
   {
    "duration": 3,
    "start_time": "2021-11-16T11:53:52.236Z"
   },
   {
    "duration": 3,
    "start_time": "2021-11-16T11:59:12.005Z"
   },
   {
    "duration": 112,
    "start_time": "2021-11-16T12:00:33.446Z"
   },
   {
    "duration": 3,
    "start_time": "2021-11-16T12:02:14.453Z"
   },
   {
    "duration": 3,
    "start_time": "2021-11-16T12:02:39.512Z"
   },
   {
    "duration": 106,
    "start_time": "2021-11-16T12:03:03.460Z"
   },
   {
    "duration": 3,
    "start_time": "2021-11-17T20:37:21.139Z"
   },
   {
    "duration": 3,
    "start_time": "2021-11-17T20:37:22.229Z"
   },
   {
    "duration": 3,
    "start_time": "2021-11-17T20:38:38.806Z"
   },
   {
    "duration": 3,
    "start_time": "2021-11-17T20:38:41.958Z"
   },
   {
    "duration": 3,
    "start_time": "2021-11-17T20:43:46.551Z"
   },
   {
    "duration": 4,
    "start_time": "2021-11-17T20:58:21.835Z"
   },
   {
    "duration": 3,
    "start_time": "2021-11-17T20:59:21.872Z"
   },
   {
    "duration": 4,
    "start_time": "2021-11-17T20:59:45.352Z"
   },
   {
    "duration": 4,
    "start_time": "2021-11-17T20:59:49.646Z"
   },
   {
    "duration": 159,
    "start_time": "2021-11-17T21:02:26.949Z"
   },
   {
    "duration": 3,
    "start_time": "2021-11-17T21:03:53.461Z"
   },
   {
    "duration": 3,
    "start_time": "2021-11-17T21:03:53.694Z"
   },
   {
    "duration": 3,
    "start_time": "2021-11-17T21:05:28.145Z"
   },
   {
    "duration": 116,
    "start_time": "2021-11-17T21:05:57.787Z"
   },
   {
    "duration": 3,
    "start_time": "2021-11-17T21:06:37.993Z"
   },
   {
    "duration": 3,
    "start_time": "2021-11-17T21:06:38.261Z"
   },
   {
    "duration": 3,
    "start_time": "2021-11-17T21:11:54.358Z"
   },
   {
    "duration": 3,
    "start_time": "2021-11-17T21:12:43.846Z"
   },
   {
    "duration": 4,
    "start_time": "2021-11-17T21:13:08.773Z"
   },
   {
    "duration": 3,
    "start_time": "2021-11-17T21:14:44.441Z"
   },
   {
    "duration": 3,
    "start_time": "2021-11-17T21:15:42.059Z"
   },
   {
    "duration": 4,
    "start_time": "2021-11-17T21:15:51.995Z"
   },
   {
    "duration": 3,
    "start_time": "2021-11-17T21:15:53.923Z"
   },
   {
    "duration": 3,
    "start_time": "2021-11-17T21:15:55.282Z"
   },
   {
    "duration": 3,
    "start_time": "2021-11-17T21:16:28.492Z"
   },
   {
    "duration": 3,
    "start_time": "2021-11-17T21:16:32.603Z"
   },
   {
    "duration": 3,
    "start_time": "2021-11-17T21:17:06.941Z"
   },
   {
    "duration": 98,
    "start_time": "2021-11-17T21:18:05.733Z"
   },
   {
    "duration": 4,
    "start_time": "2021-11-17T21:21:35.255Z"
   },
   {
    "duration": 3,
    "start_time": "2021-11-17T21:21:37.804Z"
   },
   {
    "duration": 4,
    "start_time": "2021-11-17T21:23:06.071Z"
   },
   {
    "duration": 3,
    "start_time": "2021-11-17T21:23:24.799Z"
   },
   {
    "duration": 3,
    "start_time": "2021-11-17T21:23:32.591Z"
   },
   {
    "duration": 98,
    "start_time": "2021-11-17T21:28:31.559Z"
   },
   {
    "duration": 3,
    "start_time": "2021-11-17T21:28:45.448Z"
   },
   {
    "duration": 3,
    "start_time": "2021-11-17T21:29:17.303Z"
   },
   {
    "duration": 3,
    "start_time": "2021-11-17T21:29:29.617Z"
   },
   {
    "duration": 3,
    "start_time": "2021-11-17T21:29:32.681Z"
   },
   {
    "duration": 3,
    "start_time": "2021-11-17T21:36:11.474Z"
   },
   {
    "duration": 3,
    "start_time": "2021-11-17T21:36:14.791Z"
   },
   {
    "duration": 3,
    "start_time": "2021-11-17T21:36:53.943Z"
   },
   {
    "duration": 3,
    "start_time": "2021-11-17T21:36:56.165Z"
   },
   {
    "duration": 4,
    "start_time": "2021-11-17T21:37:16.590Z"
   },
   {
    "duration": 3,
    "start_time": "2021-11-17T21:37:22.702Z"
   },
   {
    "duration": 4,
    "start_time": "2021-11-17T21:38:03.479Z"
   },
   {
    "duration": 3,
    "start_time": "2021-11-17T21:38:08.601Z"
   },
   {
    "duration": 3,
    "start_time": "2021-11-17T21:38:12.928Z"
   },
   {
    "duration": 3,
    "start_time": "2021-11-17T21:38:48.896Z"
   },
   {
    "duration": 2,
    "start_time": "2021-11-17T21:38:49.171Z"
   },
   {
    "duration": 4,
    "start_time": "2021-11-17T21:39:57.889Z"
   },
   {
    "duration": 3,
    "start_time": "2021-11-17T21:39:58.057Z"
   },
   {
    "duration": 3,
    "start_time": "2021-11-17T21:41:20.108Z"
   },
   {
    "duration": 3,
    "start_time": "2021-11-17T21:41:20.629Z"
   },
   {
    "duration": 3,
    "start_time": "2021-11-17T21:42:49.136Z"
   },
   {
    "duration": 3,
    "start_time": "2021-11-17T21:43:15.137Z"
   },
   {
    "duration": 4,
    "start_time": "2021-11-17T21:43:16.766Z"
   },
   {
    "duration": 4,
    "start_time": "2021-11-17T21:43:31.711Z"
   },
   {
    "duration": 3,
    "start_time": "2021-11-17T21:43:36.312Z"
   },
   {
    "duration": 4,
    "start_time": "2021-11-17T21:45:08.825Z"
   },
   {
    "duration": 4,
    "start_time": "2021-11-17T21:45:10.119Z"
   },
   {
    "duration": 4,
    "start_time": "2021-11-17T21:45:13.748Z"
   },
   {
    "duration": 3,
    "start_time": "2021-11-17T21:45:22.219Z"
   },
   {
    "duration": 3,
    "start_time": "2021-11-17T21:45:33.412Z"
   },
   {
    "duration": 2,
    "start_time": "2021-11-17T21:46:01.885Z"
   },
   {
    "duration": 3,
    "start_time": "2021-11-17T21:46:03.628Z"
   },
   {
    "duration": 107,
    "start_time": "2021-11-17T21:47:32.512Z"
   },
   {
    "duration": 103,
    "start_time": "2021-11-17T21:50:36.243Z"
   },
   {
    "duration": 3,
    "start_time": "2021-11-18T06:28:31.440Z"
   },
   {
    "duration": 3,
    "start_time": "2021-11-18T06:29:00.168Z"
   },
   {
    "duration": 3,
    "start_time": "2021-11-18T06:31:27.008Z"
   },
   {
    "duration": 2,
    "start_time": "2021-11-18T06:35:34.288Z"
   },
   {
    "duration": 2,
    "start_time": "2021-11-18T06:38:04.527Z"
   },
   {
    "duration": 776,
    "start_time": "2024-08-04T21:44:28.759Z"
   },
   {
    "duration": 24,
    "start_time": "2024-08-04T21:44:56.277Z"
   },
   {
    "duration": 60,
    "start_time": "2024-08-04T21:45:05.420Z"
   },
   {
    "duration": 3,
    "start_time": "2024-08-04T21:45:21.210Z"
   },
   {
    "duration": 7,
    "start_time": "2024-08-04T21:46:12.555Z"
   },
   {
    "duration": 6,
    "start_time": "2024-08-04T22:37:48.592Z"
   },
   {
    "duration": 6,
    "start_time": "2024-08-04T22:38:01.080Z"
   },
   {
    "duration": 5,
    "start_time": "2024-08-04T22:38:56.145Z"
   },
   {
    "duration": 788,
    "start_time": "2024-08-04T22:39:01.642Z"
   },
   {
    "duration": 140,
    "start_time": "2024-08-04T22:39:21.507Z"
   },
   {
    "duration": 124,
    "start_time": "2024-08-04T22:39:33.535Z"
   },
   {
    "duration": 3,
    "start_time": "2024-08-04T22:40:52.399Z"
   },
   {
    "duration": 13,
    "start_time": "2024-08-06T04:33:13.239Z"
   },
   {
    "duration": 5,
    "start_time": "2024-08-06T04:33:19.906Z"
   },
   {
    "duration": 6,
    "start_time": "2024-08-06T04:33:43.816Z"
   },
   {
    "duration": 4,
    "start_time": "2024-08-06T04:34:00.968Z"
   },
   {
    "duration": 315,
    "start_time": "2024-08-06T04:34:07.196Z"
   },
   {
    "duration": 3,
    "start_time": "2024-08-06T04:34:13.591Z"
   },
   {
    "duration": 4,
    "start_time": "2024-08-06T04:34:38.482Z"
   },
   {
    "duration": 5,
    "start_time": "2024-08-06T04:35:22.047Z"
   },
   {
    "duration": 20,
    "start_time": "2024-08-06T04:40:24.728Z"
   },
   {
    "duration": 22,
    "start_time": "2024-08-06T04:40:48.192Z"
   },
   {
    "duration": 20,
    "start_time": "2024-08-06T04:41:02.601Z"
   },
   {
    "duration": 21,
    "start_time": "2024-08-06T04:41:25.517Z"
   },
   {
    "duration": 21,
    "start_time": "2024-08-06T04:42:15.125Z"
   },
   {
    "duration": 8,
    "start_time": "2024-08-06T04:42:32.952Z"
   },
   {
    "duration": 22,
    "start_time": "2024-08-06T04:42:41.700Z"
   },
   {
    "duration": 58,
    "start_time": "2024-08-06T04:43:19.018Z"
   },
   {
    "duration": 171,
    "start_time": "2024-08-06T04:44:22.249Z"
   },
   {
    "duration": 33,
    "start_time": "2024-08-06T04:44:37.753Z"
   },
   {
    "duration": 19,
    "start_time": "2024-08-06T04:48:04.890Z"
   },
   {
    "duration": 480,
    "start_time": "2024-08-06T04:48:10.774Z"
   },
   {
    "duration": 149,
    "start_time": "2024-08-06T04:48:13.202Z"
   },
   {
    "duration": 26,
    "start_time": "2024-08-06T04:48:21.835Z"
   },
   {
    "duration": 1023,
    "start_time": "2024-08-06T04:50:11.178Z"
   },
   {
    "duration": 276,
    "start_time": "2024-08-06T04:50:28.738Z"
   },
   {
    "duration": 10,
    "start_time": "2024-08-06T04:50:51.628Z"
   },
   {
    "duration": 18,
    "start_time": "2024-08-06T04:51:08.226Z"
   },
   {
    "duration": 14,
    "start_time": "2024-08-06T04:51:32.627Z"
   },
   {
    "duration": 8,
    "start_time": "2024-08-06T04:51:34.921Z"
   },
   {
    "duration": 14,
    "start_time": "2024-08-06T05:03:12.494Z"
   },
   {
    "duration": 12,
    "start_time": "2024-08-06T05:03:32.865Z"
   },
   {
    "duration": 19,
    "start_time": "2024-08-06T05:21:46.240Z"
   },
   {
    "duration": 15,
    "start_time": "2024-08-06T05:22:08.202Z"
   },
   {
    "duration": 18,
    "start_time": "2024-08-06T05:22:18.684Z"
   },
   {
    "duration": 30,
    "start_time": "2024-08-06T05:22:26.519Z"
   },
   {
    "duration": 7,
    "start_time": "2024-08-06T05:51:22.743Z"
   },
   {
    "duration": 311,
    "start_time": "2024-08-07T03:44:25.908Z"
   },
   {
    "duration": 22,
    "start_time": "2024-08-07T03:46:04.213Z"
   },
   {
    "duration": 20,
    "start_time": "2024-08-07T03:46:18.201Z"
   },
   {
    "duration": 21,
    "start_time": "2024-08-07T03:46:20.101Z"
   },
   {
    "duration": 536,
    "start_time": "2024-08-07T03:46:31.312Z"
   },
   {
    "duration": 391,
    "start_time": "2024-08-07T03:46:32.988Z"
   },
   {
    "duration": 21,
    "start_time": "2024-08-07T03:46:35.456Z"
   },
   {
    "duration": 30,
    "start_time": "2024-08-07T03:46:36.601Z"
   },
   {
    "duration": 16,
    "start_time": "2024-08-07T03:46:42.448Z"
   },
   {
    "duration": 11,
    "start_time": "2024-08-07T03:46:44.067Z"
   },
   {
    "duration": 3,
    "start_time": "2024-08-07T03:46:47.024Z"
   },
   {
    "duration": 12,
    "start_time": "2024-08-07T03:46:50.113Z"
   },
   {
    "duration": 63,
    "start_time": "2024-08-07T03:47:38.119Z"
   },
   {
    "duration": 23,
    "start_time": "2024-08-07T03:49:08.367Z"
   },
   {
    "duration": 25,
    "start_time": "2024-08-07T03:49:18.391Z"
   },
   {
    "duration": 16,
    "start_time": "2024-08-07T03:51:11.969Z"
   },
   {
    "duration": 18,
    "start_time": "2024-08-07T03:51:31.857Z"
   },
   {
    "duration": 18,
    "start_time": "2024-08-07T03:51:41.465Z"
   },
   {
    "duration": 16,
    "start_time": "2024-08-07T03:51:49.539Z"
   },
   {
    "duration": 7,
    "start_time": "2024-08-07T03:52:05.153Z"
   },
   {
    "duration": 17,
    "start_time": "2024-08-07T03:52:11.984Z"
   },
   {
    "duration": 10,
    "start_time": "2024-08-07T03:52:19.865Z"
   },
   {
    "duration": 16,
    "start_time": "2024-08-07T03:53:58.502Z"
   },
   {
    "duration": 25,
    "start_time": "2024-08-07T03:54:01.497Z"
   },
   {
    "duration": 7,
    "start_time": "2024-08-07T03:54:08.997Z"
   },
   {
    "duration": 31,
    "start_time": "2024-08-07T04:05:08.052Z"
   },
   {
    "duration": 19,
    "start_time": "2024-08-07T04:05:53.674Z"
   },
   {
    "duration": 16,
    "start_time": "2024-08-07T04:06:08.342Z"
   },
   {
    "duration": 11,
    "start_time": "2024-08-07T04:06:30.047Z"
   },
   {
    "duration": 4,
    "start_time": "2024-08-07T04:09:07.908Z"
   },
   {
    "duration": 14,
    "start_time": "2024-08-07T04:09:17.231Z"
   },
   {
    "duration": 13,
    "start_time": "2024-08-07T04:09:33.772Z"
   },
   {
    "duration": 6,
    "start_time": "2024-08-07T04:10:46.923Z"
   },
   {
    "duration": 24,
    "start_time": "2024-08-07T04:14:07.938Z"
   },
   {
    "duration": 27,
    "start_time": "2024-08-07T04:14:15.247Z"
   },
   {
    "duration": 26,
    "start_time": "2024-08-07T04:14:26.561Z"
   },
   {
    "duration": 26,
    "start_time": "2024-08-07T04:14:38.042Z"
   },
   {
    "duration": 6,
    "start_time": "2024-08-07T04:16:21.500Z"
   },
   {
    "duration": 7,
    "start_time": "2024-08-07T04:16:30.432Z"
   },
   {
    "duration": 9,
    "start_time": "2024-08-07T04:16:36.342Z"
   },
   {
    "duration": 4,
    "start_time": "2024-08-07T04:16:45.993Z"
   },
   {
    "duration": 270,
    "start_time": "2024-08-07T04:16:46.393Z"
   },
   {
    "duration": 22,
    "start_time": "2024-08-07T04:16:47.305Z"
   },
   {
    "duration": 30,
    "start_time": "2024-08-07T04:16:47.578Z"
   },
   {
    "duration": 14,
    "start_time": "2024-08-07T04:16:50.914Z"
   },
   {
    "duration": 12,
    "start_time": "2024-08-07T04:16:52.329Z"
   },
   {
    "duration": 4,
    "start_time": "2024-08-07T04:16:54.815Z"
   },
   {
    "duration": 11,
    "start_time": "2024-08-07T04:16:57.287Z"
   },
   {
    "duration": 25,
    "start_time": "2024-08-07T04:18:02.303Z"
   },
   {
    "duration": 22,
    "start_time": "2024-08-07T04:18:19.934Z"
   },
   {
    "duration": 25,
    "start_time": "2024-08-07T04:18:29.511Z"
   },
   {
    "duration": 25,
    "start_time": "2024-08-07T04:18:39.225Z"
   },
   {
    "duration": 28,
    "start_time": "2024-08-07T04:18:56.474Z"
   },
   {
    "duration": 33,
    "start_time": "2024-08-07T04:20:42.293Z"
   },
   {
    "duration": 23,
    "start_time": "2024-08-07T04:20:46.169Z"
   },
   {
    "duration": 4,
    "start_time": "2024-08-07T04:24:31.776Z"
   },
   {
    "duration": 525,
    "start_time": "2024-08-13T00:23:48.907Z"
   },
   {
    "duration": 364,
    "start_time": "2024-08-13T00:23:50.738Z"
   },
   {
    "duration": 244,
    "start_time": "2024-08-13T00:24:16.227Z"
   },
   {
    "duration": 16,
    "start_time": "2024-08-13T00:24:21.578Z"
   },
   {
    "duration": 12,
    "start_time": "2024-08-13T00:24:32.203Z"
   },
   {
    "duration": 269,
    "start_time": "2024-08-13T00:25:19.362Z"
   },
   {
    "duration": 278,
    "start_time": "2024-08-13T01:27:08.377Z"
   },
   {
    "duration": 20,
    "start_time": "2024-08-13T01:27:14.934Z"
   },
   {
    "duration": 26,
    "start_time": "2024-08-13T01:27:34.374Z"
   },
   {
    "duration": 16,
    "start_time": "2024-08-13T01:28:14.961Z"
   },
   {
    "duration": 25,
    "start_time": "2024-08-13T01:29:55.559Z"
   },
   {
    "duration": 4,
    "start_time": "2024-08-13T01:30:53.795Z"
   },
   {
    "duration": 19,
    "start_time": "2024-08-13T01:31:17.255Z"
   },
   {
    "duration": 60,
    "start_time": "2024-08-13T01:33:45.369Z"
   },
   {
    "duration": 35,
    "start_time": "2024-08-13T01:34:56.906Z"
   },
   {
    "duration": 6,
    "start_time": "2024-08-13T01:35:44.161Z"
   },
   {
    "duration": 5,
    "start_time": "2024-08-13T01:36:12.609Z"
   },
   {
    "duration": 36,
    "start_time": "2024-08-13T01:36:39.999Z"
   },
   {
    "duration": 26,
    "start_time": "2024-08-13T01:37:19.184Z"
   },
   {
    "duration": 5,
    "start_time": "2024-08-13T01:58:09.267Z"
   },
   {
    "duration": 6,
    "start_time": "2024-08-13T01:58:33.015Z"
   },
   {
    "duration": 579,
    "start_time": "2024-08-13T01:58:45.715Z"
   },
   {
    "duration": 230,
    "start_time": "2024-08-13T01:59:14.781Z"
   },
   {
    "duration": 160,
    "start_time": "2024-08-13T02:00:14.270Z"
   },
   {
    "duration": 26,
    "start_time": "2024-08-13T02:00:50.171Z"
   },
   {
    "duration": 25,
    "start_time": "2024-08-13T02:01:10.604Z"
   },
   {
    "duration": 28,
    "start_time": "2024-08-13T02:03:22.278Z"
   },
   {
    "duration": 13,
    "start_time": "2024-08-13T02:03:36.608Z"
   },
   {
    "duration": 26,
    "start_time": "2024-08-13T02:03:38.208Z"
   },
   {
    "duration": 5,
    "start_time": "2024-08-13T02:03:40.918Z"
   },
   {
    "duration": 20,
    "start_time": "2024-08-13T02:03:41.621Z"
   },
   {
    "duration": 36,
    "start_time": "2024-08-13T02:03:42.845Z"
   },
   {
    "duration": 30,
    "start_time": "2024-08-13T02:03:43.936Z"
   },
   {
    "duration": 4,
    "start_time": "2024-08-13T02:03:47.045Z"
   },
   {
    "duration": 26,
    "start_time": "2024-08-13T02:03:49.710Z"
   },
   {
    "duration": 25,
    "start_time": "2024-08-13T02:03:50.702Z"
   },
   {
    "duration": 6,
    "start_time": "2024-08-13T02:04:24.644Z"
   },
   {
    "duration": 43,
    "start_time": "2024-08-13T02:04:34.228Z"
   },
   {
    "duration": 27,
    "start_time": "2024-08-13T02:04:58.676Z"
   },
   {
    "duration": 19,
    "start_time": "2024-08-13T02:05:01.412Z"
   },
   {
    "duration": 11,
    "start_time": "2024-08-13T02:05:37.036Z"
   },
   {
    "duration": 24,
    "start_time": "2024-08-13T02:08:31.983Z"
   },
   {
    "duration": 90,
    "start_time": "2024-08-13T02:09:59.358Z"
   },
   {
    "duration": 14,
    "start_time": "2024-08-13T02:10:47.571Z"
   },
   {
    "duration": 21,
    "start_time": "2024-08-13T02:10:58.653Z"
   },
   {
    "duration": 27,
    "start_time": "2024-08-13T02:12:14.293Z"
   },
   {
    "duration": 37,
    "start_time": "2024-08-13T02:14:03.272Z"
   },
   {
    "duration": 23,
    "start_time": "2024-08-13T02:15:10.070Z"
   },
   {
    "duration": 11,
    "start_time": "2024-08-13T02:15:32.038Z"
   },
   {
    "duration": 18,
    "start_time": "2024-08-13T02:17:45.599Z"
   },
   {
    "duration": 25,
    "start_time": "2024-08-13T02:18:01.512Z"
   },
   {
    "duration": 18,
    "start_time": "2024-08-13T02:18:07.535Z"
   },
   {
    "duration": 114,
    "start_time": "2024-08-13T02:18:27.215Z"
   },
   {
    "duration": 8,
    "start_time": "2024-08-13T02:19:09.646Z"
   },
   {
    "duration": 6,
    "start_time": "2024-08-13T02:19:22.735Z"
   },
   {
    "duration": 6,
    "start_time": "2024-08-13T02:19:26.390Z"
   },
   {
    "duration": 6,
    "start_time": "2024-08-13T02:19:32.487Z"
   },
   {
    "duration": 5,
    "start_time": "2024-08-13T02:19:35.391Z"
   },
   {
    "duration": 6,
    "start_time": "2024-08-13T02:19:59.281Z"
   },
   {
    "duration": 6,
    "start_time": "2024-08-13T02:20:04.023Z"
   },
   {
    "duration": 65,
    "start_time": "2024-08-13T02:20:40.055Z"
   },
   {
    "duration": 21,
    "start_time": "2024-08-13T02:22:50.399Z"
   },
   {
    "duration": 20,
    "start_time": "2024-08-13T02:22:52.775Z"
   },
   {
    "duration": 38,
    "start_time": "2024-08-13T02:24:17.007Z"
   },
   {
    "duration": 830,
    "start_time": "2024-08-13T02:24:21.856Z"
   },
   {
    "duration": 72,
    "start_time": "2024-08-13T02:24:38.351Z"
   },
   {
    "duration": 61,
    "start_time": "2024-08-13T02:25:04.304Z"
   },
   {
    "duration": 33,
    "start_time": "2024-08-13T02:28:09.200Z"
   },
   {
    "duration": 23,
    "start_time": "2024-08-13T02:31:31.689Z"
   },
   {
    "duration": 668,
    "start_time": "2024-08-13T02:33:09.373Z"
   },
   {
    "duration": 6,
    "start_time": "2024-08-13T02:34:08.826Z"
   },
   {
    "duration": 21,
    "start_time": "2024-08-13T02:34:31.154Z"
   },
   {
    "duration": 20,
    "start_time": "2024-08-13T02:34:44.306Z"
   },
   {
    "duration": 25,
    "start_time": "2024-08-13T02:37:07.387Z"
   },
   {
    "duration": 38,
    "start_time": "2024-08-13T02:37:38.542Z"
   },
   {
    "duration": 30,
    "start_time": "2024-08-13T02:37:52.307Z"
   },
   {
    "duration": 16,
    "start_time": "2024-08-13T02:38:33.715Z"
   },
   {
    "duration": 21,
    "start_time": "2024-08-13T02:38:37.618Z"
   },
   {
    "duration": 59,
    "start_time": "2024-08-13T02:39:31.059Z"
   },
   {
    "duration": 34,
    "start_time": "2024-08-13T02:39:59.067Z"
   },
   {
    "duration": 40,
    "start_time": "2024-08-13T02:41:05.963Z"
   },
   {
    "duration": 38,
    "start_time": "2024-08-13T03:16:47.801Z"
   },
   {
    "duration": 37,
    "start_time": "2024-08-13T03:16:57.929Z"
   },
   {
    "duration": 537,
    "start_time": "2024-08-15T04:54:51.735Z"
   },
   {
    "duration": 422,
    "start_time": "2024-08-15T04:54:53.279Z"
   },
   {
    "duration": 21,
    "start_time": "2024-08-15T04:54:59.671Z"
   },
   {
    "duration": 26,
    "start_time": "2024-08-15T04:54:59.848Z"
   },
   {
    "duration": 5,
    "start_time": "2024-08-15T04:55:00.509Z"
   },
   {
    "duration": 19,
    "start_time": "2024-08-15T04:55:00.834Z"
   },
   {
    "duration": 43,
    "start_time": "2024-08-15T04:55:01.043Z"
   },
   {
    "duration": 35,
    "start_time": "2024-08-15T04:55:01.239Z"
   },
   {
    "duration": 4,
    "start_time": "2024-08-15T04:55:01.433Z"
   },
   {
    "duration": 43,
    "start_time": "2024-08-15T04:55:02.009Z"
   },
   {
    "duration": 21,
    "start_time": "2024-08-15T04:55:02.183Z"
   },
   {
    "duration": 14,
    "start_time": "2024-08-15T04:55:02.377Z"
   },
   {
    "duration": 38,
    "start_time": "2024-08-15T04:55:02.936Z"
   },
   {
    "duration": 23,
    "start_time": "2024-08-15T04:55:03.328Z"
   },
   {
    "duration": 20,
    "start_time": "2024-08-15T04:55:03.567Z"
   },
   {
    "duration": 40,
    "start_time": "2024-08-15T04:55:04.760Z"
   },
   {
    "duration": 24,
    "start_time": "2024-08-15T04:55:07.758Z"
   },
   {
    "duration": 71,
    "start_time": "2024-08-15T04:55:07.967Z"
   },
   {
    "duration": 40,
    "start_time": "2024-08-15T04:55:08.164Z"
   },
   {
    "duration": 40,
    "start_time": "2024-08-15T04:55:08.727Z"
   },
   {
    "duration": 83,
    "start_time": "2024-08-15T04:55:10.396Z"
   },
   {
    "duration": 40,
    "start_time": "2024-08-15T04:55:10.876Z"
   },
   {
    "duration": 24,
    "start_time": "2024-08-15T04:55:11.136Z"
   },
   {
    "duration": 3,
    "start_time": "2024-08-15T04:55:11.299Z"
   },
   {
    "duration": 1180,
    "start_time": "2024-08-15T05:02:07.195Z"
   },
   {
    "duration": 73,
    "start_time": "2024-08-15T05:02:25.051Z"
   },
   {
    "duration": 72,
    "start_time": "2024-08-15T05:02:35.634Z"
   },
   {
    "duration": 75,
    "start_time": "2024-08-15T05:03:17.481Z"
   },
   {
    "duration": 4,
    "start_time": "2024-08-15T05:03:29.420Z"
   },
   {
    "duration": 264,
    "start_time": "2024-08-15T05:03:29.912Z"
   },
   {
    "duration": 12,
    "start_time": "2024-08-15T05:03:34.894Z"
   },
   {
    "duration": 26,
    "start_time": "2024-08-15T05:03:35.739Z"
   },
   {
    "duration": 3,
    "start_time": "2024-08-15T05:03:36.321Z"
   },
   {
    "duration": 19,
    "start_time": "2024-08-15T05:03:36.829Z"
   },
   {
    "duration": 41,
    "start_time": "2024-08-15T05:03:37.587Z"
   },
   {
    "duration": 26,
    "start_time": "2024-08-15T05:03:38.257Z"
   },
   {
    "duration": 3,
    "start_time": "2024-08-15T05:03:38.737Z"
   },
   {
    "duration": 31,
    "start_time": "2024-08-15T05:03:40.881Z"
   },
   {
    "duration": 20,
    "start_time": "2024-08-15T05:03:41.441Z"
   },
   {
    "duration": 12,
    "start_time": "2024-08-15T05:03:42.106Z"
   },
   {
    "duration": 45,
    "start_time": "2024-08-15T05:03:45.049Z"
   },
   {
    "duration": 27,
    "start_time": "2024-08-15T05:03:48.189Z"
   },
   {
    "duration": 16,
    "start_time": "2024-08-15T05:03:49.335Z"
   },
   {
    "duration": 37,
    "start_time": "2024-08-15T05:03:50.306Z"
   },
   {
    "duration": 84,
    "start_time": "2024-08-15T05:03:54.585Z"
   },
   {
    "duration": 70,
    "start_time": "2024-08-15T05:03:57.209Z"
   },
   {
    "duration": 105,
    "start_time": "2024-08-15T05:04:58.325Z"
   },
   {
    "duration": 142,
    "start_time": "2024-08-15T05:05:12.628Z"
   },
   {
    "duration": 72,
    "start_time": "2024-08-15T05:06:01.530Z"
   },
   {
    "duration": 73,
    "start_time": "2024-08-15T05:06:03.993Z"
   },
   {
    "duration": 21,
    "start_time": "2024-08-15T05:06:06.498Z"
   },
   {
    "duration": 60,
    "start_time": "2024-08-15T05:06:07.187Z"
   },
   {
    "duration": 42,
    "start_time": "2024-08-15T05:06:07.912Z"
   },
   {
    "duration": 76,
    "start_time": "2024-08-15T05:06:59.878Z"
   },
   {
    "duration": 36,
    "start_time": "2024-08-15T05:07:46.497Z"
   },
   {
    "duration": 35,
    "start_time": "2024-08-15T05:08:22.554Z"
   },
   {
    "duration": 34,
    "start_time": "2024-08-15T05:08:32.491Z"
   },
   {
    "duration": 76,
    "start_time": "2024-08-15T05:08:42.261Z"
   },
   {
    "duration": 264,
    "start_time": "2024-08-15T05:10:32.402Z"
   },
   {
    "duration": 78,
    "start_time": "2024-08-15T05:11:11.584Z"
   },
   {
    "duration": 94,
    "start_time": "2024-08-15T05:13:20.460Z"
   },
   {
    "duration": 4,
    "start_time": "2024-08-15T05:14:03.332Z"
   },
   {
    "duration": 264,
    "start_time": "2024-08-15T05:14:04.222Z"
   },
   {
    "duration": 12,
    "start_time": "2024-08-15T05:14:19.684Z"
   },
   {
    "duration": 26,
    "start_time": "2024-08-15T05:14:19.859Z"
   },
   {
    "duration": 3,
    "start_time": "2024-08-15T05:14:20.044Z"
   },
   {
    "duration": 20,
    "start_time": "2024-08-15T05:14:20.228Z"
   },
   {
    "duration": 45,
    "start_time": "2024-08-15T05:14:20.432Z"
   },
   {
    "duration": 26,
    "start_time": "2024-08-15T05:14:20.620Z"
   },
   {
    "duration": 3,
    "start_time": "2024-08-15T05:14:20.822Z"
   },
   {
    "duration": 29,
    "start_time": "2024-08-15T05:14:21.859Z"
   },
   {
    "duration": 19,
    "start_time": "2024-08-15T05:14:22.107Z"
   },
   {
    "duration": 12,
    "start_time": "2024-08-15T05:14:22.364Z"
   },
   {
    "duration": 38,
    "start_time": "2024-08-15T05:14:24.574Z"
   },
   {
    "duration": 21,
    "start_time": "2024-08-15T05:14:26.105Z"
   },
   {
    "duration": 16,
    "start_time": "2024-08-15T05:14:27.236Z"
   },
   {
    "duration": 32,
    "start_time": "2024-08-15T05:14:28.907Z"
   },
   {
    "duration": 87,
    "start_time": "2024-08-15T05:14:32.139Z"
   },
   {
    "duration": 22,
    "start_time": "2024-08-15T05:14:35.770Z"
   },
   {
    "duration": 59,
    "start_time": "2024-08-15T05:14:36.005Z"
   },
   {
    "duration": 37,
    "start_time": "2024-08-15T05:14:36.306Z"
   },
   {
    "duration": 35,
    "start_time": "2024-08-15T05:14:36.923Z"
   },
   {
    "duration": 34,
    "start_time": "2024-08-15T05:14:37.531Z"
   },
   {
    "duration": 33,
    "start_time": "2024-08-15T05:14:37.721Z"
   },
   {
    "duration": 24,
    "start_time": "2024-08-15T05:14:37.899Z"
   },
   {
    "duration": 4,
    "start_time": "2024-08-15T05:14:38.281Z"
   },
   {
    "duration": 87,
    "start_time": "2024-08-15T05:15:35.960Z"
   },
   {
    "duration": 36,
    "start_time": "2024-08-15T05:16:18.034Z"
   },
   {
    "duration": 129,
    "start_time": "2024-08-15T05:16:47.315Z"
   },
   {
    "duration": 38,
    "start_time": "2024-08-15T05:16:54.387Z"
   },
   {
    "duration": 22,
    "start_time": "2024-08-15T05:17:41.268Z"
   },
   {
    "duration": 22,
    "start_time": "2024-08-15T05:17:49.413Z"
   },
   {
    "duration": 23,
    "start_time": "2024-08-15T05:18:03.423Z"
   },
   {
    "duration": 22,
    "start_time": "2024-08-15T05:18:39.811Z"
   },
   {
    "duration": 23,
    "start_time": "2024-08-15T05:19:05.283Z"
   },
   {
    "duration": 12,
    "start_time": "2024-08-15T05:20:05.158Z"
   },
   {
    "duration": 28,
    "start_time": "2024-08-15T05:22:12.319Z"
   },
   {
    "duration": 28,
    "start_time": "2024-08-15T05:22:26.525Z"
   },
   {
    "duration": 61,
    "start_time": "2024-08-15T05:25:16.078Z"
   },
   {
    "duration": 4,
    "start_time": "2024-08-15T05:25:34.808Z"
   },
   {
    "duration": 22,
    "start_time": "2024-08-15T05:26:02.853Z"
   },
   {
    "duration": 18,
    "start_time": "2024-08-15T05:26:12.634Z"
   },
   {
    "duration": 14,
    "start_time": "2024-08-15T05:28:31.879Z"
   },
   {
    "duration": 13,
    "start_time": "2024-08-15T05:28:39.782Z"
   },
   {
    "duration": 14,
    "start_time": "2024-08-15T05:28:53.814Z"
   },
   {
    "duration": 15,
    "start_time": "2024-08-15T05:29:04.240Z"
   },
   {
    "duration": 14,
    "start_time": "2024-08-15T05:29:18.854Z"
   },
   {
    "duration": 17,
    "start_time": "2024-08-15T05:29:42.138Z"
   },
   {
    "duration": 8,
    "start_time": "2024-08-15T05:29:55.861Z"
   },
   {
    "duration": 15,
    "start_time": "2024-08-15T05:30:01.197Z"
   },
   {
    "duration": 8,
    "start_time": "2024-08-15T05:30:03.546Z"
   },
   {
    "duration": 12,
    "start_time": "2024-08-15T05:30:10.770Z"
   },
   {
    "duration": 22,
    "start_time": "2024-08-15T05:33:25.950Z"
   },
   {
    "duration": 14,
    "start_time": "2024-08-15T05:33:29.678Z"
   },
   {
    "duration": 19,
    "start_time": "2024-08-15T05:35:42.111Z"
   },
   {
    "duration": 9,
    "start_time": "2024-08-15T05:35:49.369Z"
   },
   {
    "duration": 14,
    "start_time": "2024-08-15T05:36:27.043Z"
   },
   {
    "duration": 12,
    "start_time": "2024-08-15T05:37:09.634Z"
   },
   {
    "duration": 5,
    "start_time": "2024-08-15T05:37:30.529Z"
   },
   {
    "duration": 9,
    "start_time": "2024-08-15T05:37:48.073Z"
   },
   {
    "duration": 4,
    "start_time": "2024-08-15T05:37:56.345Z"
   },
   {
    "duration": 4,
    "start_time": "2024-08-15T05:38:12.848Z"
   },
   {
    "duration": 20,
    "start_time": "2024-08-15T05:38:16.793Z"
   },
   {
    "duration": 12,
    "start_time": "2024-08-15T05:38:20.667Z"
   },
   {
    "duration": 12,
    "start_time": "2024-08-15T05:39:45.145Z"
   },
   {
    "duration": 14,
    "start_time": "2024-08-15T05:39:50.800Z"
   },
   {
    "duration": 14,
    "start_time": "2024-08-15T05:40:25.724Z"
   },
   {
    "duration": 14,
    "start_time": "2024-08-15T05:40:26.600Z"
   },
   {
    "duration": 6,
    "start_time": "2024-08-15T05:40:35.560Z"
   },
   {
    "duration": 24,
    "start_time": "2024-08-15T05:40:46.282Z"
   },
   {
    "duration": 16,
    "start_time": "2024-08-15T05:41:36.955Z"
   },
   {
    "duration": 74,
    "start_time": "2024-08-15T05:56:20.653Z"
   },
   {
    "duration": 73,
    "start_time": "2024-08-15T05:56:35.124Z"
   },
   {
    "duration": 6,
    "start_time": "2024-08-15T05:57:54.983Z"
   },
   {
    "duration": 75,
    "start_time": "2024-08-15T05:58:25.188Z"
   },
   {
    "duration": 7,
    "start_time": "2024-08-15T05:58:34.205Z"
   },
   {
    "duration": 15,
    "start_time": "2024-08-15T05:59:29.588Z"
   },
   {
    "duration": 22,
    "start_time": "2024-08-15T06:01:40.709Z"
   },
   {
    "duration": 6,
    "start_time": "2024-08-15T06:02:02.526Z"
   },
   {
    "duration": 690,
    "start_time": "2024-08-15T06:02:14.566Z"
   },
   {
    "duration": 68,
    "start_time": "2024-08-15T06:02:21.429Z"
   },
   {
    "duration": 7,
    "start_time": "2024-08-15T06:03:06.093Z"
   },
   {
    "duration": 7,
    "start_time": "2024-08-15T06:03:06.761Z"
   },
   {
    "duration": 15,
    "start_time": "2024-08-15T06:03:07.301Z"
   },
   {
    "duration": 15,
    "start_time": "2024-08-15T06:03:10.401Z"
   },
   {
    "duration": 5,
    "start_time": "2024-08-15T06:03:11.558Z"
   },
   {
    "duration": 14,
    "start_time": "2024-08-15T06:03:20.959Z"
   },
   {
    "duration": 7,
    "start_time": "2024-08-15T06:04:58.773Z"
   },
   {
    "duration": 7,
    "start_time": "2024-08-15T06:04:59.317Z"
   },
   {
    "duration": 15,
    "start_time": "2024-08-15T06:05:00.110Z"
   },
   {
    "duration": 7,
    "start_time": "2024-08-15T06:08:34.992Z"
   },
   {
    "duration": 8,
    "start_time": "2024-08-15T06:08:35.734Z"
   },
   {
    "duration": 16,
    "start_time": "2024-08-15T06:08:37.126Z"
   },
   {
    "duration": 24,
    "start_time": "2024-08-15T06:09:40.974Z"
   },
   {
    "duration": 28,
    "start_time": "2024-08-15T06:09:54.766Z"
   },
   {
    "duration": 4,
    "start_time": "2024-08-15T06:10:09.784Z"
   },
   {
    "duration": 66,
    "start_time": "2024-08-15T06:10:12.462Z"
   },
   {
    "duration": 67,
    "start_time": "2024-08-15T06:10:22.851Z"
   },
   {
    "duration": 67,
    "start_time": "2024-08-15T06:10:36.215Z"
   },
   {
    "duration": 68,
    "start_time": "2024-08-15T06:10:49.246Z"
   },
   {
    "duration": 7,
    "start_time": "2024-08-15T06:11:02.654Z"
   },
   {
    "duration": 7,
    "start_time": "2024-08-15T06:11:03.215Z"
   },
   {
    "duration": 15,
    "start_time": "2024-08-15T06:11:03.751Z"
   },
   {
    "duration": 65,
    "start_time": "2024-08-15T06:11:04.703Z"
   },
   {
    "duration": 23,
    "start_time": "2024-08-15T06:12:35.959Z"
   },
   {
    "duration": 5,
    "start_time": "2024-08-15T06:12:46.640Z"
   },
   {
    "duration": 20,
    "start_time": "2024-08-15T06:12:57.897Z"
   },
   {
    "duration": 485,
    "start_time": "2024-08-17T04:23:22.367Z"
   },
   {
    "duration": 400,
    "start_time": "2024-08-17T04:23:23.323Z"
   },
   {
    "duration": 17,
    "start_time": "2024-08-17T04:23:26.092Z"
   },
   {
    "duration": 19,
    "start_time": "2024-08-17T04:23:26.766Z"
   },
   {
    "duration": 13,
    "start_time": "2024-08-17T04:23:29.701Z"
   },
   {
    "duration": 15,
    "start_time": "2024-08-17T04:23:30.263Z"
   },
   {
    "duration": 13,
    "start_time": "2024-08-17T04:23:30.953Z"
   },
   {
    "duration": 9,
    "start_time": "2024-08-17T04:23:31.676Z"
   },
   {
    "duration": 8,
    "start_time": "2024-08-17T04:23:33.235Z"
   },
   {
    "duration": 8,
    "start_time": "2024-08-17T04:23:33.436Z"
   },
   {
    "duration": 17,
    "start_time": "2024-08-17T04:23:33.637Z"
   },
   {
    "duration": 15,
    "start_time": "2024-08-17T04:23:34.205Z"
   },
   {
    "duration": 1749,
    "start_time": "2024-08-17T04:23:34.400Z"
   },
   {
    "duration": 0,
    "start_time": "2024-08-17T04:23:36.153Z"
   },
   {
    "duration": 0,
    "start_time": "2024-08-17T04:23:36.155Z"
   },
   {
    "duration": 0,
    "start_time": "2024-08-17T04:23:36.158Z"
   },
   {
    "duration": 0,
    "start_time": "2024-08-17T04:23:36.160Z"
   },
   {
    "duration": 0,
    "start_time": "2024-08-17T04:23:36.163Z"
   },
   {
    "duration": 0,
    "start_time": "2024-08-17T04:23:36.165Z"
   },
   {
    "duration": 0,
    "start_time": "2024-08-17T04:23:36.168Z"
   },
   {
    "duration": 3,
    "start_time": "2024-08-17T04:23:36.274Z"
   },
   {
    "duration": 31,
    "start_time": "2024-08-17T04:23:36.814Z"
   },
   {
    "duration": 20,
    "start_time": "2024-08-17T04:23:38.231Z"
   },
   {
    "duration": 14,
    "start_time": "2024-08-17T04:23:38.445Z"
   },
   {
    "duration": 39,
    "start_time": "2024-08-17T04:23:39.559Z"
   },
   {
    "duration": 25,
    "start_time": "2024-08-17T04:23:40.003Z"
   },
   {
    "duration": 18,
    "start_time": "2024-08-17T04:23:40.621Z"
   },
   {
    "duration": 50,
    "start_time": "2024-08-17T04:23:40.842Z"
   },
   {
    "duration": 42,
    "start_time": "2024-08-17T04:23:43.299Z"
   },
   {
    "duration": 35,
    "start_time": "2024-08-17T04:23:43.491Z"
   },
   {
    "duration": 25,
    "start_time": "2024-08-17T04:23:44.270Z"
   },
   {
    "duration": 56,
    "start_time": "2024-08-17T04:23:44.459Z"
   },
   {
    "duration": 40,
    "start_time": "2024-08-17T04:23:44.665Z"
   },
   {
    "duration": 36,
    "start_time": "2024-08-17T04:23:45.867Z"
   },
   {
    "duration": 36,
    "start_time": "2024-08-17T04:23:46.442Z"
   },
   {
    "duration": 37,
    "start_time": "2024-08-17T04:23:47.139Z"
   },
   {
    "duration": 34,
    "start_time": "2024-08-17T04:23:47.899Z"
   },
   {
    "duration": 3,
    "start_time": "2024-08-17T04:23:48.599Z"
   },
   {
    "duration": 7,
    "start_time": "2024-08-17T04:26:38.405Z"
   },
   {
    "duration": 7,
    "start_time": "2024-08-17T04:26:38.924Z"
   },
   {
    "duration": 15,
    "start_time": "2024-08-17T04:26:39.572Z"
   },
   {
    "duration": 17,
    "start_time": "2024-08-17T04:27:31.007Z"
   },
   {
    "duration": 17,
    "start_time": "2024-08-17T04:27:37.513Z"
   },
   {
    "duration": 5,
    "start_time": "2024-08-17T04:34:16.997Z"
   },
   {
    "duration": 9,
    "start_time": "2024-08-17T04:34:38.763Z"
   },
   {
    "duration": 4,
    "start_time": "2024-08-17T04:35:02.142Z"
   },
   {
    "duration": 276,
    "start_time": "2024-08-17T04:35:02.485Z"
   },
   {
    "duration": 15,
    "start_time": "2024-08-17T04:35:03.170Z"
   },
   {
    "duration": 13,
    "start_time": "2024-08-17T04:35:03.352Z"
   },
   {
    "duration": 13,
    "start_time": "2024-08-17T04:35:04.454Z"
   },
   {
    "duration": 15,
    "start_time": "2024-08-17T04:35:04.806Z"
   },
   {
    "duration": 14,
    "start_time": "2024-08-17T04:35:04.998Z"
   },
   {
    "duration": 13,
    "start_time": "2024-08-17T04:35:05.193Z"
   },
   {
    "duration": 11,
    "start_time": "2024-08-17T04:35:05.953Z"
   },
   {
    "duration": 8,
    "start_time": "2024-08-17T04:35:06.158Z"
   },
   {
    "duration": 16,
    "start_time": "2024-08-17T04:35:06.321Z"
   },
   {
    "duration": 17,
    "start_time": "2024-08-17T04:35:06.861Z"
   },
   {
    "duration": 20,
    "start_time": "2024-08-17T04:35:08.181Z"
   },
   {
    "duration": 5,
    "start_time": "2024-08-17T04:35:09.879Z"
   },
   {
    "duration": 25,
    "start_time": "2024-08-17T04:35:10.694Z"
   },
   {
    "duration": 4,
    "start_time": "2024-08-17T04:35:11.615Z"
   },
   {
    "duration": 20,
    "start_time": "2024-08-17T04:35:12.096Z"
   },
   {
    "duration": 40,
    "start_time": "2024-08-17T04:35:12.518Z"
   },
   {
    "duration": 28,
    "start_time": "2024-08-17T04:35:13.282Z"
   },
   {
    "duration": 3,
    "start_time": "2024-08-17T04:35:14.031Z"
   },
   {
    "duration": 30,
    "start_time": "2024-08-17T04:35:15.789Z"
   },
   {
    "duration": 22,
    "start_time": "2024-08-17T04:35:16.333Z"
   },
   {
    "duration": 12,
    "start_time": "2024-08-17T04:35:16.999Z"
   },
   {
    "duration": 40,
    "start_time": "2024-08-17T04:35:19.113Z"
   },
   {
    "duration": 4,
    "start_time": "2024-08-17T04:35:20.030Z"
   },
   {
    "duration": 6,
    "start_time": "2024-08-17T04:35:20.742Z"
   },
   {
    "duration": 22,
    "start_time": "2024-08-17T04:35:21.918Z"
   },
   {
    "duration": 16,
    "start_time": "2024-08-17T04:35:22.120Z"
   },
   {
    "duration": 45,
    "start_time": "2024-08-17T04:35:22.307Z"
   },
   {
    "duration": 41,
    "start_time": "2024-08-17T04:35:23.045Z"
   },
   {
    "duration": 27,
    "start_time": "2024-08-17T04:35:23.231Z"
   },
   {
    "duration": 23,
    "start_time": "2024-08-17T04:35:23.949Z"
   },
   {
    "duration": 62,
    "start_time": "2024-08-17T04:35:24.119Z"
   },
   {
    "duration": 52,
    "start_time": "2024-08-17T04:35:24.315Z"
   },
   {
    "duration": 46,
    "start_time": "2024-08-17T04:35:26.251Z"
   },
   {
    "duration": 37,
    "start_time": "2024-08-17T04:35:26.816Z"
   },
   {
    "duration": 41,
    "start_time": "2024-08-17T04:35:26.990Z"
   },
   {
    "duration": 24,
    "start_time": "2024-08-17T04:35:27.686Z"
   },
   {
    "duration": 4,
    "start_time": "2024-08-17T04:35:27.901Z"
   },
   {
    "duration": 5,
    "start_time": "2024-08-17T04:35:28.436Z"
   },
   {
    "duration": 39,
    "start_time": "2024-08-17T04:36:23.790Z"
   },
   {
    "duration": 5,
    "start_time": "2024-08-17T04:36:24.830Z"
   },
   {
    "duration": 5,
    "start_time": "2024-08-17T04:36:25.951Z"
   },
   {
    "duration": 24,
    "start_time": "2024-08-17T04:36:27.563Z"
   },
   {
    "duration": 229,
    "start_time": "2024-08-17T04:38:01.786Z"
   },
   {
    "duration": 4,
    "start_time": "2024-08-17T04:38:42.289Z"
   },
   {
    "duration": 81,
    "start_time": "2024-08-17T04:38:52.084Z"
   },
   {
    "duration": 22,
    "start_time": "2024-08-17T04:44:02.718Z"
   },
   {
    "duration": 13,
    "start_time": "2024-08-17T04:44:24.263Z"
   },
   {
    "duration": 5,
    "start_time": "2024-08-17T05:44:04.074Z"
   },
   {
    "duration": 6,
    "start_time": "2024-08-17T05:44:15.467Z"
   },
   {
    "duration": 5,
    "start_time": "2024-08-17T05:44:22.842Z"
   },
   {
    "duration": 34,
    "start_time": "2024-08-17T05:44:55.411Z"
   },
   {
    "duration": 20,
    "start_time": "2024-08-17T05:46:19.323Z"
   },
   {
    "duration": 11,
    "start_time": "2024-08-17T05:46:28.913Z"
   },
   {
    "duration": 11,
    "start_time": "2024-08-17T05:47:07.472Z"
   },
   {
    "duration": 12,
    "start_time": "2024-08-17T05:49:21.297Z"
   },
   {
    "duration": 7,
    "start_time": "2024-08-17T05:50:26.889Z"
   },
   {
    "duration": 23,
    "start_time": "2024-08-17T05:51:47.897Z"
   },
   {
    "duration": 5,
    "start_time": "2024-08-17T05:51:54.540Z"
   },
   {
    "duration": 21,
    "start_time": "2024-08-17T05:52:06.769Z"
   },
   {
    "duration": 23,
    "start_time": "2024-08-17T05:52:21.842Z"
   },
   {
    "duration": 8,
    "start_time": "2024-08-17T05:52:28.082Z"
   },
   {
    "duration": 415,
    "start_time": "2024-08-17T05:55:05.482Z"
   },
   {
    "duration": 2,
    "start_time": "2024-08-17T05:57:23.309Z"
   },
   {
    "duration": 10,
    "start_time": "2024-08-17T05:57:58.536Z"
   },
   {
    "duration": 601,
    "start_time": "2024-08-19T04:31:10.390Z"
   },
   {
    "duration": 382,
    "start_time": "2024-08-19T04:31:11.553Z"
   },
   {
    "duration": 16,
    "start_time": "2024-08-19T04:31:14.296Z"
   },
   {
    "duration": 19,
    "start_time": "2024-08-19T04:31:14.945Z"
   },
   {
    "duration": 13,
    "start_time": "2024-08-19T04:31:17.860Z"
   },
   {
    "duration": 17,
    "start_time": "2024-08-19T04:31:18.918Z"
   },
   {
    "duration": 14,
    "start_time": "2024-08-19T04:31:19.386Z"
   },
   {
    "duration": 10,
    "start_time": "2024-08-19T04:31:19.905Z"
   },
   {
    "duration": 7,
    "start_time": "2024-08-19T04:31:22.066Z"
   },
   {
    "duration": 7,
    "start_time": "2024-08-19T04:31:22.593Z"
   },
   {
    "duration": 15,
    "start_time": "2024-08-19T04:31:23.139Z"
   },
   {
    "duration": 16,
    "start_time": "2024-08-19T04:31:24.743Z"
   },
   {
    "duration": 15,
    "start_time": "2024-08-19T04:31:25.281Z"
   },
   {
    "duration": 5,
    "start_time": "2024-08-19T04:31:26.338Z"
   },
   {
    "duration": 25,
    "start_time": "2024-08-19T04:31:26.860Z"
   },
   {
    "duration": 2,
    "start_time": "2024-08-19T04:31:27.410Z"
   },
   {
    "duration": 21,
    "start_time": "2024-08-19T04:31:27.986Z"
   },
   {
    "duration": 777,
    "start_time": "2024-08-19T04:31:28.586Z"
   },
   {
    "duration": 34,
    "start_time": "2024-08-19T04:31:29.722Z"
   },
   {
    "duration": 2,
    "start_time": "2024-08-19T04:31:31.018Z"
   },
   {
    "duration": 30,
    "start_time": "2024-08-19T04:31:33.176Z"
   },
   {
    "duration": 20,
    "start_time": "2024-08-19T04:31:33.753Z"
   },
   {
    "duration": 12,
    "start_time": "2024-08-19T04:31:34.897Z"
   },
   {
    "duration": 38,
    "start_time": "2024-08-19T04:31:36.769Z"
   },
   {
    "duration": 3,
    "start_time": "2024-08-19T04:31:37.625Z"
   },
   {
    "duration": 78,
    "start_time": "2024-08-19T04:31:38.228Z"
   },
   {
    "duration": 21,
    "start_time": "2024-08-19T04:31:38.788Z"
   },
   {
    "duration": 13,
    "start_time": "2024-08-19T04:31:39.373Z"
   },
   {
    "duration": 36,
    "start_time": "2024-08-19T04:31:40.026Z"
   },
   {
    "duration": 13,
    "start_time": "2024-08-19T04:31:40.551Z"
   },
   {
    "duration": 8,
    "start_time": "2024-08-19T04:31:41.249Z"
   },
   {
    "duration": 6,
    "start_time": "2024-08-19T04:31:41.913Z"
   },
   {
    "duration": 8,
    "start_time": "2024-08-19T04:31:42.491Z"
   },
   {
    "duration": 23,
    "start_time": "2024-08-19T04:31:44.064Z"
   },
   {
    "duration": 16,
    "start_time": "2024-08-19T04:31:44.898Z"
   },
   {
    "duration": 47,
    "start_time": "2024-08-19T04:31:45.737Z"
   },
   {
    "duration": 40,
    "start_time": "2024-08-19T04:31:48.689Z"
   },
   {
    "duration": 40,
    "start_time": "2024-08-19T04:31:49.531Z"
   },
   {
    "duration": 23,
    "start_time": "2024-08-19T04:31:53.867Z"
   },
   {
    "duration": 52,
    "start_time": "2024-08-19T04:31:54.842Z"
   },
   {
    "duration": 36,
    "start_time": "2024-08-19T04:31:55.657Z"
   },
   {
    "duration": 32,
    "start_time": "2024-08-19T04:31:58.209Z"
   },
   {
    "duration": 34,
    "start_time": "2024-08-19T04:32:01.565Z"
   },
   {
    "duration": 33,
    "start_time": "2024-08-19T04:32:02.642Z"
   },
   {
    "duration": 28,
    "start_time": "2024-08-19T04:32:03.648Z"
   },
   {
    "duration": 3,
    "start_time": "2024-08-19T04:32:05.274Z"
   },
   {
    "duration": 3,
    "start_time": "2024-08-19T04:32:11.932Z"
   },
   {
    "duration": 9,
    "start_time": "2024-08-19T04:32:13.623Z"
   },
   {
    "duration": 529,
    "start_time": "2024-08-19T04:44:44.660Z"
   },
   {
    "duration": 9,
    "start_time": "2024-08-19T04:46:08.366Z"
   },
   {
    "duration": 69,
    "start_time": "2024-08-19T04:46:19.619Z"
   },
   {
    "duration": 127,
    "start_time": "2024-08-19T04:46:35.747Z"
   },
   {
    "duration": 59,
    "start_time": "2024-08-19T04:46:41.424Z"
   },
   {
    "duration": 58,
    "start_time": "2024-08-19T04:47:22.811Z"
   },
   {
    "duration": 22,
    "start_time": "2024-08-19T04:48:29.425Z"
   },
   {
    "duration": 20,
    "start_time": "2024-08-19T04:48:35.585Z"
   },
   {
    "duration": 25,
    "start_time": "2024-08-19T04:48:59.492Z"
   },
   {
    "duration": 9,
    "start_time": "2024-08-19T04:50:30.983Z"
   },
   {
    "duration": 10,
    "start_time": "2024-08-19T04:52:15.826Z"
   },
   {
    "duration": 23,
    "start_time": "2024-08-19T04:52:34.614Z"
   },
   {
    "duration": 21,
    "start_time": "2024-08-19T04:52:44.331Z"
   },
   {
    "duration": 22,
    "start_time": "2024-08-19T04:52:58.332Z"
   },
   {
    "duration": 22,
    "start_time": "2024-08-19T04:53:04.243Z"
   },
   {
    "duration": 974,
    "start_time": "2024-08-19T04:53:30.794Z"
   },
   {
    "duration": 83,
    "start_time": "2024-08-19T04:53:55.357Z"
   },
   {
    "duration": 80,
    "start_time": "2024-08-19T04:54:27.974Z"
   },
   {
    "duration": 83,
    "start_time": "2024-08-19T04:54:46.642Z"
   },
   {
    "duration": 4,
    "start_time": "2024-08-19T04:56:03.370Z"
   },
   {
    "duration": 10,
    "start_time": "2024-08-19T04:56:06.365Z"
   },
   {
    "duration": 5,
    "start_time": "2024-08-19T04:57:09.017Z"
   },
   {
    "duration": 14,
    "start_time": "2024-08-19T04:57:25.052Z"
   },
   {
    "duration": 22,
    "start_time": "2024-08-19T05:07:21.626Z"
   },
   {
    "duration": 21,
    "start_time": "2024-08-19T05:07:33.238Z"
   },
   {
    "duration": 26,
    "start_time": "2024-08-19T05:08:24.239Z"
   },
   {
    "duration": 19,
    "start_time": "2024-08-19T05:08:35.730Z"
   },
   {
    "duration": 51,
    "start_time": "2024-08-19T05:08:36.602Z"
   },
   {
    "duration": 33,
    "start_time": "2024-08-19T05:08:37.486Z"
   },
   {
    "duration": 32,
    "start_time": "2024-08-19T05:08:38.351Z"
   },
   {
    "duration": 35,
    "start_time": "2024-08-19T05:08:38.881Z"
   },
   {
    "duration": 33,
    "start_time": "2024-08-19T05:08:39.080Z"
   },
   {
    "duration": 22,
    "start_time": "2024-08-19T05:08:39.250Z"
   },
   {
    "duration": 3,
    "start_time": "2024-08-19T05:08:39.976Z"
   },
   {
    "duration": 3,
    "start_time": "2024-08-19T05:08:40.535Z"
   },
   {
    "duration": 8,
    "start_time": "2024-08-19T05:08:40.911Z"
   },
   {
    "duration": 24,
    "start_time": "2024-08-19T05:08:41.096Z"
   },
   {
    "duration": 10,
    "start_time": "2024-08-19T05:08:41.272Z"
   },
   {
    "duration": 4,
    "start_time": "2024-08-19T05:08:41.460Z"
   },
   {
    "duration": 6,
    "start_time": "2024-08-19T05:08:41.672Z"
   },
   {
    "duration": 13,
    "start_time": "2024-08-19T05:08:42.218Z"
   },
   {
    "duration": 23,
    "start_time": "2024-08-19T05:08:42.446Z"
   },
   {
    "duration": 20,
    "start_time": "2024-08-19T05:08:42.632Z"
   },
   {
    "duration": 31,
    "start_time": "2024-08-19T05:08:51.360Z"
   },
   {
    "duration": 24,
    "start_time": "2024-08-19T05:09:05.965Z"
   },
   {
    "duration": 21,
    "start_time": "2024-08-19T05:09:09.788Z"
   },
   {
    "duration": 17,
    "start_time": "2024-08-19T05:09:17.392Z"
   },
   {
    "duration": 4,
    "start_time": "2024-08-19T05:10:24.687Z"
   },
   {
    "duration": 5,
    "start_time": "2024-08-19T05:11:12.990Z"
   },
   {
    "duration": 257,
    "start_time": "2024-08-19T05:11:19.259Z"
   },
   {
    "duration": 5,
    "start_time": "2024-08-19T05:11:19.800Z"
   },
   {
    "duration": 19,
    "start_time": "2024-08-19T05:13:10.089Z"
   },
   {
    "duration": 52,
    "start_time": "2024-08-19T05:13:25.168Z"
   },
   {
    "duration": 10,
    "start_time": "2024-08-19T05:13:42.483Z"
   },
   {
    "duration": 53,
    "start_time": "2024-08-19T05:13:56.800Z"
   },
   {
    "duration": 5,
    "start_time": "2024-08-19T05:14:00.740Z"
   },
   {
    "duration": 17,
    "start_time": "2024-08-19T05:14:14.309Z"
   },
   {
    "duration": 22,
    "start_time": "2024-08-19T05:15:06.706Z"
   },
   {
    "duration": 21,
    "start_time": "2024-08-19T05:15:42.710Z"
   },
   {
    "duration": 4,
    "start_time": "2024-08-19T05:15:45.905Z"
   },
   {
    "duration": 6,
    "start_time": "2024-08-19T05:15:48.625Z"
   },
   {
    "duration": 16,
    "start_time": "2024-08-19T05:15:49.449Z"
   },
   {
    "duration": 4,
    "start_time": "2024-08-19T05:19:13.024Z"
   },
   {
    "duration": 7,
    "start_time": "2024-08-19T05:21:00.620Z"
   },
   {
    "duration": 16,
    "start_time": "2024-08-19T05:21:12.988Z"
   },
   {
    "duration": 21,
    "start_time": "2024-08-19T05:24:36.187Z"
   },
   {
    "duration": 13,
    "start_time": "2024-08-19T05:24:41.961Z"
   },
   {
    "duration": 13,
    "start_time": "2024-08-19T05:25:14.946Z"
   },
   {
    "duration": 11,
    "start_time": "2024-08-19T05:31:08.275Z"
   },
   {
    "duration": 10,
    "start_time": "2024-08-19T05:31:19.829Z"
   },
   {
    "duration": 27,
    "start_time": "2024-08-19T05:31:29.771Z"
   },
   {
    "duration": 17,
    "start_time": "2024-08-19T05:31:34.171Z"
   },
   {
    "duration": 7,
    "start_time": "2024-08-19T05:33:48.860Z"
   },
   {
    "duration": 20,
    "start_time": "2024-08-19T05:34:32.066Z"
   },
   {
    "duration": 11,
    "start_time": "2024-08-19T05:35:11.484Z"
   },
   {
    "duration": 31,
    "start_time": "2024-08-19T05:35:20.131Z"
   },
   {
    "duration": 466,
    "start_time": "2024-08-21T03:04:44.984Z"
   },
   {
    "duration": 370,
    "start_time": "2024-08-21T03:04:45.454Z"
   },
   {
    "duration": 15,
    "start_time": "2024-08-21T03:04:46.088Z"
   },
   {
    "duration": 17,
    "start_time": "2024-08-21T03:04:46.265Z"
   },
   {
    "duration": 13,
    "start_time": "2024-08-21T03:04:47.376Z"
   },
   {
    "duration": 15,
    "start_time": "2024-08-21T03:04:47.729Z"
   },
   {
    "duration": 13,
    "start_time": "2024-08-21T03:04:47.914Z"
   },
   {
    "duration": 8,
    "start_time": "2024-08-21T03:04:48.097Z"
   },
   {
    "duration": 7,
    "start_time": "2024-08-21T03:04:48.832Z"
   },
   {
    "duration": 8,
    "start_time": "2024-08-21T03:04:49.017Z"
   },
   {
    "duration": 15,
    "start_time": "2024-08-21T03:04:49.176Z"
   },
   {
    "duration": 16,
    "start_time": "2024-08-21T03:04:49.745Z"
   },
   {
    "duration": 16,
    "start_time": "2024-08-21T03:04:51.137Z"
   },
   {
    "duration": 4,
    "start_time": "2024-08-21T03:04:51.626Z"
   },
   {
    "duration": 25,
    "start_time": "2024-08-21T03:04:51.840Z"
   },
   {
    "duration": 4,
    "start_time": "2024-08-21T03:04:52.032Z"
   },
   {
    "duration": 21,
    "start_time": "2024-08-21T03:04:52.642Z"
   },
   {
    "duration": 816,
    "start_time": "2024-08-21T03:04:52.856Z"
   },
   {
    "duration": 0,
    "start_time": "2024-08-21T03:04:53.675Z"
   },
   {
    "duration": 0,
    "start_time": "2024-08-21T03:04:53.679Z"
   },
   {
    "duration": 29,
    "start_time": "2024-08-21T03:04:54.938Z"
   },
   {
    "duration": 23,
    "start_time": "2024-08-21T03:04:55.136Z"
   },
   {
    "duration": 11,
    "start_time": "2024-08-21T03:04:55.353Z"
   },
   {
    "duration": 38,
    "start_time": "2024-08-21T03:04:55.960Z"
   },
   {
    "duration": 4,
    "start_time": "2024-08-21T03:04:56.482Z"
   },
   {
    "duration": 77,
    "start_time": "2024-08-21T03:04:56.688Z"
   },
   {
    "duration": 20,
    "start_time": "2024-08-21T03:04:56.888Z"
   },
   {
    "duration": 13,
    "start_time": "2024-08-21T03:04:57.700Z"
   },
   {
    "duration": 36,
    "start_time": "2024-08-21T03:04:57.896Z"
   },
   {
    "duration": 11,
    "start_time": "2024-08-21T03:04:58.090Z"
   },
   {
    "duration": 7,
    "start_time": "2024-08-21T03:04:59.224Z"
   },
   {
    "duration": 6,
    "start_time": "2024-08-21T03:04:59.881Z"
   },
   {
    "duration": 8,
    "start_time": "2024-08-21T03:05:00.369Z"
   },
   {
    "duration": 27,
    "start_time": "2024-08-21T03:05:01.808Z"
   },
   {
    "duration": 15,
    "start_time": "2024-08-21T03:05:02.513Z"
   },
   {
    "duration": 46,
    "start_time": "2024-08-21T03:05:03.073Z"
   },
   {
    "duration": 38,
    "start_time": "2024-08-21T03:05:06.562Z"
   },
   {
    "duration": 27,
    "start_time": "2024-08-21T03:05:07.209Z"
   },
   {
    "duration": 22,
    "start_time": "2024-08-21T03:05:09.600Z"
   },
   {
    "duration": 57,
    "start_time": "2024-08-21T03:05:10.265Z"
   },
   {
    "duration": 35,
    "start_time": "2024-08-21T03:05:11.073Z"
   },
   {
    "duration": 31,
    "start_time": "2024-08-21T03:05:16.604Z"
   },
   {
    "duration": 34,
    "start_time": "2024-08-21T03:05:19.096Z"
   },
   {
    "duration": 32,
    "start_time": "2024-08-21T03:05:19.969Z"
   },
   {
    "duration": 22,
    "start_time": "2024-08-21T03:05:20.956Z"
   },
   {
    "duration": 4,
    "start_time": "2024-08-21T03:05:22.728Z"
   },
   {
    "duration": 3,
    "start_time": "2024-08-21T03:06:07.158Z"
   },
   {
    "duration": 3,
    "start_time": "2024-08-21T03:06:08.184Z"
   },
   {
    "duration": 8,
    "start_time": "2024-08-21T03:06:09.088Z"
   },
   {
    "duration": 22,
    "start_time": "2024-08-21T03:06:09.626Z"
   },
   {
    "duration": 11,
    "start_time": "2024-08-21T03:06:10.156Z"
   },
   {
    "duration": 4,
    "start_time": "2024-08-21T03:06:10.672Z"
   },
   {
    "duration": 5,
    "start_time": "2024-08-21T03:06:11.356Z"
   },
   {
    "duration": 14,
    "start_time": "2024-08-21T03:06:11.843Z"
   },
   {
    "duration": 19,
    "start_time": "2024-08-21T03:06:12.570Z"
   },
   {
    "duration": 3,
    "start_time": "2024-08-21T03:06:13.195Z"
   },
   {
    "duration": 6,
    "start_time": "2024-08-21T03:06:13.643Z"
   },
   {
    "duration": 14,
    "start_time": "2024-08-21T03:06:13.865Z"
   },
   {
    "duration": 4,
    "start_time": "2024-08-21T03:06:14.770Z"
   },
   {
    "duration": 7,
    "start_time": "2024-08-21T03:06:15.416Z"
   },
   {
    "duration": 16,
    "start_time": "2024-08-21T03:06:15.673Z"
   },
   {
    "duration": 12,
    "start_time": "2024-08-21T03:06:17.065Z"
   },
   {
    "duration": 14,
    "start_time": "2024-08-21T03:06:17.665Z"
   },
   {
    "duration": 10,
    "start_time": "2024-08-21T03:06:18.244Z"
   },
   {
    "duration": 20,
    "start_time": "2024-08-21T03:06:18.946Z"
   },
   {
    "duration": 12,
    "start_time": "2024-08-21T03:06:19.417Z"
   },
   {
    "duration": 20,
    "start_time": "2024-08-21T03:06:19.665Z"
   },
   {
    "duration": 7,
    "start_time": "2024-08-21T03:06:21.001Z"
   },
   {
    "duration": 5,
    "start_time": "2024-08-21T03:08:59.461Z"
   },
   {
    "duration": 23,
    "start_time": "2024-08-21T03:09:09.597Z"
   },
   {
    "duration": 6,
    "start_time": "2024-08-21T03:09:19.955Z"
   },
   {
    "duration": 23,
    "start_time": "2024-08-21T03:09:30.645Z"
   },
   {
    "duration": 14,
    "start_time": "2024-08-21T03:09:32.637Z"
   },
   {
    "duration": 10,
    "start_time": "2024-08-21T03:14:33.814Z"
   },
   {
    "duration": 25,
    "start_time": "2024-08-21T03:14:45.144Z"
   },
   {
    "duration": 3,
    "start_time": "2024-08-21T03:17:38.925Z"
   },
   {
    "duration": 265,
    "start_time": "2024-08-21T03:17:39.248Z"
   },
   {
    "duration": 15,
    "start_time": "2024-08-21T03:17:39.908Z"
   },
   {
    "duration": 12,
    "start_time": "2024-08-21T03:17:40.066Z"
   },
   {
    "duration": 13,
    "start_time": "2024-08-21T03:17:41.074Z"
   },
   {
    "duration": 14,
    "start_time": "2024-08-21T03:17:41.415Z"
   },
   {
    "duration": 14,
    "start_time": "2024-08-21T03:17:41.607Z"
   },
   {
    "duration": 8,
    "start_time": "2024-08-21T03:17:41.796Z"
   },
   {
    "duration": 7,
    "start_time": "2024-08-21T03:17:42.479Z"
   },
   {
    "duration": 7,
    "start_time": "2024-08-21T03:17:42.665Z"
   },
   {
    "duration": 16,
    "start_time": "2024-08-21T03:17:42.846Z"
   },
   {
    "duration": 17,
    "start_time": "2024-08-21T03:17:43.386Z"
   },
   {
    "duration": 15,
    "start_time": "2024-08-21T03:17:43.580Z"
   },
   {
    "duration": 5,
    "start_time": "2024-08-21T03:17:43.937Z"
   },
   {
    "duration": 25,
    "start_time": "2024-08-21T03:17:44.123Z"
   },
   {
    "duration": 3,
    "start_time": "2024-08-21T03:17:44.314Z"
   },
   {
    "duration": 20,
    "start_time": "2024-08-21T03:17:44.505Z"
   },
   {
    "duration": 38,
    "start_time": "2024-08-21T03:17:44.690Z"
   },
   {
    "duration": 26,
    "start_time": "2024-08-21T03:17:44.873Z"
   },
   {
    "duration": 3,
    "start_time": "2024-08-21T03:17:45.064Z"
   },
   {
    "duration": 28,
    "start_time": "2024-08-21T03:17:45.649Z"
   },
   {
    "duration": 20,
    "start_time": "2024-08-21T03:17:45.843Z"
   },
   {
    "duration": 11,
    "start_time": "2024-08-21T03:17:46.042Z"
   },
   {
    "duration": 36,
    "start_time": "2024-08-21T03:17:46.586Z"
   },
   {
    "duration": 4,
    "start_time": "2024-08-21T03:17:46.778Z"
   },
   {
    "duration": 72,
    "start_time": "2024-08-21T03:17:46.969Z"
   },
   {
    "duration": 22,
    "start_time": "2024-08-21T03:17:47.153Z"
   },
   {
    "duration": 13,
    "start_time": "2024-08-21T03:17:47.338Z"
   },
   {
    "duration": 41,
    "start_time": "2024-08-21T03:17:47.528Z"
   },
   {
    "duration": 11,
    "start_time": "2024-08-21T03:17:47.712Z"
   },
   {
    "duration": 6,
    "start_time": "2024-08-21T03:17:47.896Z"
   },
   {
    "duration": 6,
    "start_time": "2024-08-21T03:17:48.099Z"
   },
   {
    "duration": 9,
    "start_time": "2024-08-21T03:17:48.274Z"
   },
   {
    "duration": 23,
    "start_time": "2024-08-21T03:17:48.664Z"
   },
   {
    "duration": 15,
    "start_time": "2024-08-21T03:17:48.825Z"
   },
   {
    "duration": 47,
    "start_time": "2024-08-21T03:17:49.000Z"
   },
   {
    "duration": 39,
    "start_time": "2024-08-21T03:17:50.937Z"
   },
   {
    "duration": 27,
    "start_time": "2024-08-21T03:17:51.130Z"
   },
   {
    "duration": 22,
    "start_time": "2024-08-21T03:17:51.887Z"
   },
   {
    "duration": 54,
    "start_time": "2024-08-21T03:17:52.072Z"
   },
   {
    "duration": 35,
    "start_time": "2024-08-21T03:17:52.272Z"
   },
   {
    "duration": 40,
    "start_time": "2024-08-21T03:17:52.864Z"
   },
   {
    "duration": 36,
    "start_time": "2024-08-21T03:17:53.426Z"
   },
   {
    "duration": 32,
    "start_time": "2024-08-21T03:17:53.609Z"
   },
   {
    "duration": 21,
    "start_time": "2024-08-21T03:17:53.797Z"
   },
   {
    "duration": 3,
    "start_time": "2024-08-21T03:17:54.001Z"
   },
   {
    "duration": 3,
    "start_time": "2024-08-21T03:17:54.557Z"
   },
   {
    "duration": 9,
    "start_time": "2024-08-21T03:17:54.991Z"
   },
   {
    "duration": 22,
    "start_time": "2024-08-21T03:17:55.793Z"
   },
   {
    "duration": 11,
    "start_time": "2024-08-21T03:17:56.007Z"
   },
   {
    "duration": 4,
    "start_time": "2024-08-21T03:17:56.212Z"
   },
   {
    "duration": 6,
    "start_time": "2024-08-21T03:17:56.404Z"
   },
   {
    "duration": 13,
    "start_time": "2024-08-21T03:17:56.585Z"
   },
   {
    "duration": 19,
    "start_time": "2024-08-21T03:17:56.776Z"
   },
   {
    "duration": 4,
    "start_time": "2024-08-21T03:17:56.968Z"
   },
   {
    "duration": 6,
    "start_time": "2024-08-21T03:17:57.656Z"
   },
   {
    "duration": 15,
    "start_time": "2024-08-21T03:17:57.848Z"
   },
   {
    "duration": 3,
    "start_time": "2024-08-21T03:17:58.048Z"
   },
   {
    "duration": 7,
    "start_time": "2024-08-21T03:17:59.297Z"
   },
   {
    "duration": 16,
    "start_time": "2024-08-21T03:18:00.201Z"
   },
   {
    "duration": 13,
    "start_time": "2024-08-21T03:18:01.703Z"
   },
   {
    "duration": 15,
    "start_time": "2024-08-21T03:18:02.385Z"
   },
   {
    "duration": 11,
    "start_time": "2024-08-21T03:18:03.002Z"
   },
   {
    "duration": 19,
    "start_time": "2024-08-21T03:18:03.672Z"
   },
   {
    "duration": 11,
    "start_time": "2024-08-21T03:18:04.288Z"
   },
   {
    "duration": 21,
    "start_time": "2024-08-21T03:18:04.769Z"
   },
   {
    "duration": 6,
    "start_time": "2024-08-21T03:18:04.969Z"
   },
   {
    "duration": 10,
    "start_time": "2024-08-21T03:18:06.313Z"
   },
   {
    "duration": 25,
    "start_time": "2024-08-21T03:18:07.592Z"
   },
   {
    "duration": 6,
    "start_time": "2024-08-21T03:22:21.729Z"
   },
   {
    "duration": 9,
    "start_time": "2024-08-21T03:24:40.268Z"
   },
   {
    "duration": 5,
    "start_time": "2024-08-21T03:28:49.768Z"
   },
   {
    "duration": 22,
    "start_time": "2024-08-21T03:30:07.890Z"
   },
   {
    "duration": 166,
    "start_time": "2024-08-21T03:30:12.741Z"
   },
   {
    "duration": 71,
    "start_time": "2024-08-21T03:31:30.070Z"
   },
   {
    "duration": 23,
    "start_time": "2024-08-21T03:33:04.857Z"
   },
   {
    "duration": 4,
    "start_time": "2024-08-21T03:40:37.809Z"
   },
   {
    "duration": 74,
    "start_time": "2024-08-21T03:40:53.473Z"
   },
   {
    "duration": 492,
    "start_time": "2024-08-21T03:41:05.012Z"
   },
   {
    "duration": 23,
    "start_time": "2024-08-21T03:41:13.009Z"
   },
   {
    "duration": 73,
    "start_time": "2024-08-21T03:43:52.932Z"
   },
   {
    "duration": 69,
    "start_time": "2024-08-21T03:44:38.591Z"
   },
   {
    "duration": 24,
    "start_time": "2024-08-21T03:44:46.938Z"
   },
   {
    "duration": 5,
    "start_time": "2024-08-21T03:45:39.197Z"
   },
   {
    "duration": 74,
    "start_time": "2024-08-21T03:45:40.049Z"
   },
   {
    "duration": 24,
    "start_time": "2024-08-21T03:45:42.368Z"
   },
   {
    "duration": 70,
    "start_time": "2024-08-21T03:45:57.754Z"
   },
   {
    "duration": 5,
    "start_time": "2024-08-21T03:46:45.480Z"
   },
   {
    "duration": 71,
    "start_time": "2024-08-21T03:46:47.963Z"
   },
   {
    "duration": 74,
    "start_time": "2024-08-21T03:47:20.659Z"
   },
   {
    "duration": 9,
    "start_time": "2024-08-21T03:47:27.890Z"
   },
   {
    "duration": 69,
    "start_time": "2024-08-21T03:47:44.689Z"
   },
   {
    "duration": 120,
    "start_time": "2024-08-21T03:49:28.111Z"
   },
   {
    "duration": 69,
    "start_time": "2024-08-21T03:49:33.953Z"
   },
   {
    "duration": 12,
    "start_time": "2024-08-21T03:51:38.274Z"
   },
   {
    "duration": 13,
    "start_time": "2024-08-21T03:52:07.585Z"
   },
   {
    "duration": 5,
    "start_time": "2024-08-21T03:53:37.579Z"
   },
   {
    "duration": 11,
    "start_time": "2024-08-21T03:53:55.565Z"
   },
   {
    "duration": 9,
    "start_time": "2024-08-21T03:55:36.296Z"
   },
   {
    "duration": 5,
    "start_time": "2024-08-21T03:55:49.801Z"
   },
   {
    "duration": 298,
    "start_time": "2024-08-21T03:55:50.720Z"
   },
   {
    "duration": 23,
    "start_time": "2024-08-21T03:55:51.522Z"
   },
   {
    "duration": 13,
    "start_time": "2024-08-21T03:55:51.713Z"
   },
   {
    "duration": 13,
    "start_time": "2024-08-21T03:55:52.784Z"
   },
   {
    "duration": 21,
    "start_time": "2024-08-21T03:55:53.144Z"
   },
   {
    "duration": 24,
    "start_time": "2024-08-21T03:55:53.320Z"
   },
   {
    "duration": 9,
    "start_time": "2024-08-21T03:55:53.505Z"
   },
   {
    "duration": 9,
    "start_time": "2024-08-21T03:55:54.224Z"
   },
   {
    "duration": 7,
    "start_time": "2024-08-21T03:55:54.401Z"
   },
   {
    "duration": 15,
    "start_time": "2024-08-21T03:55:54.584Z"
   },
   {
    "duration": 16,
    "start_time": "2024-08-21T03:55:55.111Z"
   },
   {
    "duration": 15,
    "start_time": "2024-08-21T03:55:55.282Z"
   },
   {
    "duration": 4,
    "start_time": "2024-08-21T03:55:55.666Z"
   },
   {
    "duration": 34,
    "start_time": "2024-08-21T03:55:55.844Z"
   },
   {
    "duration": 3,
    "start_time": "2024-08-21T03:55:56.015Z"
   },
   {
    "duration": 20,
    "start_time": "2024-08-21T03:55:56.207Z"
   },
   {
    "duration": 39,
    "start_time": "2024-08-21T03:55:56.393Z"
   },
   {
    "duration": 26,
    "start_time": "2024-08-21T03:55:56.572Z"
   },
   {
    "duration": 3,
    "start_time": "2024-08-21T03:55:56.769Z"
   },
   {
    "duration": 29,
    "start_time": "2024-08-21T03:55:57.807Z"
   },
   {
    "duration": 19,
    "start_time": "2024-08-21T03:55:57.993Z"
   },
   {
    "duration": 11,
    "start_time": "2024-08-21T03:55:58.185Z"
   },
   {
    "duration": 41,
    "start_time": "2024-08-21T03:55:59.368Z"
   },
   {
    "duration": 4,
    "start_time": "2024-08-21T03:55:59.569Z"
   },
   {
    "duration": 83,
    "start_time": "2024-08-21T03:55:59.768Z"
   },
   {
    "duration": 21,
    "start_time": "2024-08-21T03:55:59.964Z"
   },
   {
    "duration": 13,
    "start_time": "2024-08-21T03:56:00.153Z"
   },
   {
    "duration": 38,
    "start_time": "2024-08-21T03:56:00.336Z"
   },
   {
    "duration": 16,
    "start_time": "2024-08-21T03:56:00.537Z"
   },
   {
    "duration": 8,
    "start_time": "2024-08-21T03:56:00.728Z"
   },
   {
    "duration": 6,
    "start_time": "2024-08-21T03:56:00.919Z"
   },
   {
    "duration": 8,
    "start_time": "2024-08-21T03:56:01.119Z"
   },
   {
    "duration": 27,
    "start_time": "2024-08-21T03:56:01.512Z"
   },
   {
    "duration": 16,
    "start_time": "2024-08-21T03:56:01.695Z"
   },
   {
    "duration": 48,
    "start_time": "2024-08-21T03:56:01.887Z"
   },
   {
    "duration": 38,
    "start_time": "2024-08-21T03:56:02.675Z"
   },
   {
    "duration": 29,
    "start_time": "2024-08-21T03:56:03.088Z"
   },
   {
    "duration": 22,
    "start_time": "2024-08-21T03:56:03.865Z"
   },
   {
    "duration": 51,
    "start_time": "2024-08-21T03:56:04.055Z"
   },
   {
    "duration": 46,
    "start_time": "2024-08-21T03:56:04.224Z"
   },
   {
    "duration": 33,
    "start_time": "2024-08-21T03:56:04.799Z"
   },
   {
    "duration": 43,
    "start_time": "2024-08-21T03:56:06.608Z"
   },
   {
    "duration": 33,
    "start_time": "2024-08-21T03:56:06.811Z"
   },
   {
    "duration": 22,
    "start_time": "2024-08-21T03:56:07.026Z"
   },
   {
    "duration": 5,
    "start_time": "2024-08-21T03:56:08.009Z"
   },
   {
    "duration": 3,
    "start_time": "2024-08-21T03:56:10.068Z"
   },
   {
    "duration": 10,
    "start_time": "2024-08-21T03:56:15.864Z"
   },
   {
    "duration": 23,
    "start_time": "2024-08-21T03:56:16.775Z"
   },
   {
    "duration": 11,
    "start_time": "2024-08-21T03:56:17.537Z"
   },
   {
    "duration": 4,
    "start_time": "2024-08-21T03:56:18.410Z"
   },
   {
    "duration": 6,
    "start_time": "2024-08-21T03:56:19.336Z"
   },
   {
    "duration": 15,
    "start_time": "2024-08-21T03:56:20.045Z"
   },
   {
    "duration": 21,
    "start_time": "2024-08-21T03:56:21.028Z"
   },
   {
    "duration": 6,
    "start_time": "2024-08-21T03:56:21.849Z"
   },
   {
    "duration": 6,
    "start_time": "2024-08-21T03:56:22.118Z"
   },
   {
    "duration": 16,
    "start_time": "2024-08-21T03:56:22.331Z"
   },
   {
    "duration": 3,
    "start_time": "2024-08-21T03:56:23.928Z"
   },
   {
    "duration": 6,
    "start_time": "2024-08-21T03:56:24.719Z"
   },
   {
    "duration": 18,
    "start_time": "2024-08-21T03:56:25.360Z"
   },
   {
    "duration": 15,
    "start_time": "2024-08-21T03:56:27.383Z"
   },
   {
    "duration": 17,
    "start_time": "2024-08-21T03:56:28.161Z"
   },
   {
    "duration": 11,
    "start_time": "2024-08-21T03:56:28.938Z"
   },
   {
    "duration": 21,
    "start_time": "2024-08-21T03:56:29.669Z"
   },
   {
    "duration": 11,
    "start_time": "2024-08-21T03:56:30.248Z"
   },
   {
    "duration": 22,
    "start_time": "2024-08-21T03:56:30.888Z"
   },
   {
    "duration": 6,
    "start_time": "2024-08-21T03:56:32.129Z"
   },
   {
    "duration": 10,
    "start_time": "2024-08-21T03:56:32.939Z"
   },
   {
    "duration": 24,
    "start_time": "2024-08-21T03:56:33.280Z"
   },
   {
    "duration": 7,
    "start_time": "2024-08-21T03:56:35.913Z"
   },
   {
    "duration": 5,
    "start_time": "2024-08-21T03:56:37.056Z"
   },
   {
    "duration": 63,
    "start_time": "2024-08-21T03:56:37.943Z"
   },
   {
    "duration": 65,
    "start_time": "2024-08-21T03:56:50.528Z"
   },
   {
    "duration": 12,
    "start_time": "2024-08-21T03:58:24.122Z"
   },
   {
    "duration": 13,
    "start_time": "2024-08-21T03:58:33.242Z"
   },
   {
    "duration": 62,
    "start_time": "2024-08-21T03:58:51.501Z"
   },
   {
    "duration": 13,
    "start_time": "2024-08-21T03:59:25.435Z"
   },
   {
    "duration": 6,
    "start_time": "2024-08-21T03:59:50.446Z"
   },
   {
    "duration": 7,
    "start_time": "2024-08-21T04:00:05.208Z"
   },
   {
    "duration": 7,
    "start_time": "2024-08-21T04:00:56.283Z"
   },
   {
    "duration": 8,
    "start_time": "2024-08-21T04:01:34.160Z"
   },
   {
    "duration": 5,
    "start_time": "2024-08-21T04:10:21.474Z"
   },
   {
    "duration": 5,
    "start_time": "2024-08-21T04:11:03.788Z"
   },
   {
    "duration": 73,
    "start_time": "2024-08-21T04:11:40.015Z"
   },
   {
    "duration": 70,
    "start_time": "2024-08-21T04:12:04.806Z"
   },
   {
    "duration": 5,
    "start_time": "2024-08-21T04:12:42.748Z"
   },
   {
    "duration": 76,
    "start_time": "2024-08-21T04:12:44.973Z"
   },
   {
    "duration": 30,
    "start_time": "2024-08-21T04:13:44.351Z"
   },
   {
    "duration": 3,
    "start_time": "2024-08-21T04:14:29.208Z"
   },
   {
    "duration": 260,
    "start_time": "2024-08-21T04:14:30.237Z"
   },
   {
    "duration": 13,
    "start_time": "2024-08-21T04:14:30.972Z"
   },
   {
    "duration": 13,
    "start_time": "2024-08-21T04:14:31.162Z"
   },
   {
    "duration": 16,
    "start_time": "2024-08-21T04:14:32.426Z"
   },
   {
    "duration": 13,
    "start_time": "2024-08-21T04:14:32.780Z"
   },
   {
    "duration": 15,
    "start_time": "2024-08-21T04:14:32.948Z"
   },
   {
    "duration": 8,
    "start_time": "2024-08-21T04:14:33.124Z"
   },
   {
    "duration": 7,
    "start_time": "2024-08-21T04:14:33.809Z"
   },
   {
    "duration": 9,
    "start_time": "2024-08-21T04:14:33.989Z"
   },
   {
    "duration": 14,
    "start_time": "2024-08-21T04:14:34.162Z"
   },
   {
    "duration": 16,
    "start_time": "2024-08-21T04:14:34.738Z"
   },
   {
    "duration": 15,
    "start_time": "2024-08-21T04:14:34.931Z"
   },
   {
    "duration": 4,
    "start_time": "2024-08-21T04:14:35.301Z"
   },
   {
    "duration": 25,
    "start_time": "2024-08-21T04:14:35.473Z"
   },
   {
    "duration": 4,
    "start_time": "2024-08-21T04:14:35.659Z"
   },
   {
    "duration": 19,
    "start_time": "2024-08-21T04:14:35.851Z"
   },
   {
    "duration": 37,
    "start_time": "2024-08-21T04:14:36.051Z"
   },
   {
    "duration": 25,
    "start_time": "2024-08-21T04:14:36.227Z"
   },
   {
    "duration": 3,
    "start_time": "2024-08-21T04:14:36.418Z"
   },
   {
    "duration": 27,
    "start_time": "2024-08-21T04:14:36.979Z"
   },
   {
    "duration": 22,
    "start_time": "2024-08-21T04:14:37.171Z"
   },
   {
    "duration": 11,
    "start_time": "2024-08-21T04:14:37.377Z"
   },
   {
    "duration": 36,
    "start_time": "2024-08-21T04:14:37.943Z"
   },
   {
    "duration": 4,
    "start_time": "2024-08-21T04:14:38.140Z"
   },
   {
    "duration": 82,
    "start_time": "2024-08-21T04:14:38.324Z"
   },
   {
    "duration": 20,
    "start_time": "2024-08-21T04:14:38.514Z"
   },
   {
    "duration": 13,
    "start_time": "2024-08-21T04:14:38.709Z"
   },
   {
    "duration": 29,
    "start_time": "2024-08-21T04:14:38.891Z"
   },
   {
    "duration": 10,
    "start_time": "2024-08-21T04:14:39.077Z"
   },
   {
    "duration": 7,
    "start_time": "2024-08-21T04:14:39.260Z"
   },
   {
    "duration": 6,
    "start_time": "2024-08-21T04:14:39.435Z"
   },
   {
    "duration": 8,
    "start_time": "2024-08-21T04:14:39.627Z"
   },
   {
    "duration": 23,
    "start_time": "2024-08-21T04:14:39.994Z"
   },
   {
    "duration": 15,
    "start_time": "2024-08-21T04:14:40.183Z"
   },
   {
    "duration": 45,
    "start_time": "2024-08-21T04:14:40.385Z"
   },
   {
    "duration": 38,
    "start_time": "2024-08-21T04:14:41.157Z"
   },
   {
    "duration": 27,
    "start_time": "2024-08-21T04:14:41.346Z"
   },
   {
    "duration": 22,
    "start_time": "2024-08-21T04:14:42.106Z"
   },
   {
    "duration": 55,
    "start_time": "2024-08-21T04:14:42.285Z"
   },
   {
    "duration": 36,
    "start_time": "2024-08-21T04:14:42.474Z"
   },
   {
    "duration": 104,
    "start_time": "2024-08-21T04:14:43.628Z"
   },
   {
    "duration": 34,
    "start_time": "2024-08-21T04:14:44.195Z"
   },
   {
    "duration": 29,
    "start_time": "2024-08-21T04:14:44.387Z"
   },
   {
    "duration": 23,
    "start_time": "2024-08-21T04:14:44.586Z"
   },
   {
    "duration": 3,
    "start_time": "2024-08-21T04:14:44.787Z"
   },
   {
    "duration": 3,
    "start_time": "2024-08-21T04:14:46.581Z"
   },
   {
    "duration": 9,
    "start_time": "2024-08-21T04:14:47.356Z"
   },
   {
    "duration": 21,
    "start_time": "2024-08-21T04:14:47.550Z"
   },
   {
    "duration": 10,
    "start_time": "2024-08-21T04:14:48.120Z"
   },
   {
    "duration": 3,
    "start_time": "2024-08-21T04:14:48.358Z"
   },
   {
    "duration": 6,
    "start_time": "2024-08-21T04:14:48.554Z"
   },
   {
    "duration": 14,
    "start_time": "2024-08-21T04:14:48.751Z"
   },
   {
    "duration": 20,
    "start_time": "2024-08-21T04:14:48.930Z"
   },
   {
    "duration": 4,
    "start_time": "2024-08-21T04:14:49.564Z"
   },
   {
    "duration": 6,
    "start_time": "2024-08-21T04:14:49.754Z"
   },
   {
    "duration": 15,
    "start_time": "2024-08-21T04:14:49.954Z"
   },
   {
    "duration": 4,
    "start_time": "2024-08-21T04:14:50.143Z"
   },
   {
    "duration": 6,
    "start_time": "2024-08-21T04:14:50.323Z"
   },
   {
    "duration": 17,
    "start_time": "2024-08-21T04:14:51.019Z"
   },
   {
    "duration": 12,
    "start_time": "2024-08-21T04:14:51.404Z"
   },
   {
    "duration": 16,
    "start_time": "2024-08-21T04:14:51.580Z"
   },
   {
    "duration": 11,
    "start_time": "2024-08-21T04:14:52.698Z"
   },
   {
    "duration": 18,
    "start_time": "2024-08-21T04:14:52.891Z"
   },
   {
    "duration": 11,
    "start_time": "2024-08-21T04:14:53.588Z"
   },
   {
    "duration": 21,
    "start_time": "2024-08-21T04:14:53.763Z"
   },
   {
    "duration": 5,
    "start_time": "2024-08-21T04:14:53.970Z"
   },
   {
    "duration": 10,
    "start_time": "2024-08-21T04:14:54.803Z"
   },
   {
    "duration": 24,
    "start_time": "2024-08-21T04:14:55.003Z"
   },
   {
    "duration": 4,
    "start_time": "2024-08-21T04:14:56.348Z"
   },
   {
    "duration": 5,
    "start_time": "2024-08-21T04:14:57.075Z"
   },
   {
    "duration": 65,
    "start_time": "2024-08-21T04:14:58.227Z"
   },
   {
    "duration": 9,
    "start_time": "2024-08-21T04:14:59.805Z"
   },
   {
    "duration": 3,
    "start_time": "2024-08-21T04:15:02.503Z"
   },
   {
    "duration": 5,
    "start_time": "2024-08-21T04:15:05.130Z"
   },
   {
    "duration": 70,
    "start_time": "2024-08-21T04:15:06.021Z"
   },
   {
    "duration": 24,
    "start_time": "2024-08-21T04:15:07.787Z"
   },
   {
    "duration": 5,
    "start_time": "2024-08-21T04:18:21.036Z"
   },
   {
    "duration": 72,
    "start_time": "2024-08-21T04:18:24.150Z"
   },
   {
    "duration": 6,
    "start_time": "2024-08-21T04:19:46.630Z"
   },
   {
    "duration": 69,
    "start_time": "2024-08-21T04:19:48.066Z"
   },
   {
    "duration": 26,
    "start_time": "2024-08-21T04:19:52.473Z"
   },
   {
    "duration": 3,
    "start_time": "2024-08-21T04:20:01.298Z"
   },
   {
    "duration": 279,
    "start_time": "2024-08-21T04:20:02.215Z"
   },
   {
    "duration": 14,
    "start_time": "2024-08-21T04:20:02.951Z"
   },
   {
    "duration": 12,
    "start_time": "2024-08-21T04:20:03.100Z"
   },
   {
    "duration": 13,
    "start_time": "2024-08-21T04:20:04.139Z"
   },
   {
    "duration": 15,
    "start_time": "2024-08-21T04:20:04.501Z"
   },
   {
    "duration": 13,
    "start_time": "2024-08-21T04:20:04.845Z"
   },
   {
    "duration": 9,
    "start_time": "2024-08-21T04:20:05.017Z"
   },
   {
    "duration": 6,
    "start_time": "2024-08-21T04:20:05.739Z"
   },
   {
    "duration": 7,
    "start_time": "2024-08-21T04:20:05.913Z"
   },
   {
    "duration": 15,
    "start_time": "2024-08-21T04:20:06.085Z"
   },
   {
    "duration": 23,
    "start_time": "2024-08-21T04:20:06.631Z"
   },
   {
    "duration": 15,
    "start_time": "2024-08-21T04:20:06.812Z"
   },
   {
    "duration": 5,
    "start_time": "2024-08-21T04:20:07.187Z"
   },
   {
    "duration": 25,
    "start_time": "2024-08-21T04:20:07.373Z"
   },
   {
    "duration": 3,
    "start_time": "2024-08-21T04:20:07.547Z"
   },
   {
    "duration": 21,
    "start_time": "2024-08-21T04:20:07.732Z"
   },
   {
    "duration": 37,
    "start_time": "2024-08-21T04:20:07.926Z"
   },
   {
    "duration": 26,
    "start_time": "2024-08-21T04:20:08.105Z"
   },
   {
    "duration": 4,
    "start_time": "2024-08-21T04:20:08.291Z"
   },
   {
    "duration": 28,
    "start_time": "2024-08-21T04:20:08.995Z"
   },
   {
    "duration": 21,
    "start_time": "2024-08-21T04:20:09.190Z"
   },
   {
    "duration": 12,
    "start_time": "2024-08-21T04:20:09.373Z"
   },
   {
    "duration": 53,
    "start_time": "2024-08-21T04:20:09.942Z"
   },
   {
    "duration": 4,
    "start_time": "2024-08-21T04:20:10.122Z"
   },
   {
    "duration": 73,
    "start_time": "2024-08-21T04:20:10.308Z"
   },
   {
    "duration": 20,
    "start_time": "2024-08-21T04:20:10.501Z"
   },
   {
    "duration": 14,
    "start_time": "2024-08-21T04:20:10.686Z"
   },
   {
    "duration": 35,
    "start_time": "2024-08-21T04:20:10.875Z"
   },
   {
    "duration": 11,
    "start_time": "2024-08-21T04:20:11.061Z"
   },
   {
    "duration": 6,
    "start_time": "2024-08-21T04:20:11.255Z"
   },
   {
    "duration": 6,
    "start_time": "2024-08-21T04:20:11.444Z"
   },
   {
    "duration": 10,
    "start_time": "2024-08-21T04:20:11.651Z"
   },
   {
    "duration": 30,
    "start_time": "2024-08-21T04:20:12.027Z"
   },
   {
    "duration": 21,
    "start_time": "2024-08-21T04:20:12.216Z"
   },
   {
    "duration": 47,
    "start_time": "2024-08-21T04:20:12.401Z"
   },
   {
    "duration": 38,
    "start_time": "2024-08-21T04:20:13.178Z"
   },
   {
    "duration": 26,
    "start_time": "2024-08-21T04:20:13.382Z"
   },
   {
    "duration": 24,
    "start_time": "2024-08-21T04:20:14.132Z"
   },
   {
    "duration": 52,
    "start_time": "2024-08-21T04:20:14.332Z"
   },
   {
    "duration": 36,
    "start_time": "2024-08-21T04:20:14.523Z"
   },
   {
    "duration": 36,
    "start_time": "2024-08-21T04:20:15.106Z"
   },
   {
    "duration": 35,
    "start_time": "2024-08-21T04:20:15.715Z"
   },
   {
    "duration": 32,
    "start_time": "2024-08-21T04:20:15.891Z"
   },
   {
    "duration": 24,
    "start_time": "2024-08-21T04:20:16.148Z"
   },
   {
    "duration": 4,
    "start_time": "2024-08-21T04:20:16.850Z"
   },
   {
    "duration": 3,
    "start_time": "2024-08-21T04:20:17.452Z"
   },
   {
    "duration": 9,
    "start_time": "2024-08-21T04:20:18.597Z"
   },
   {
    "duration": 22,
    "start_time": "2024-08-21T04:20:19.047Z"
   },
   {
    "duration": 12,
    "start_time": "2024-08-21T04:20:19.277Z"
   },
   {
    "duration": 4,
    "start_time": "2024-08-21T04:20:19.472Z"
   },
   {
    "duration": 7,
    "start_time": "2024-08-21T04:20:19.676Z"
   },
   {
    "duration": 13,
    "start_time": "2024-08-21T04:20:19.865Z"
   },
   {
    "duration": 19,
    "start_time": "2024-08-21T04:20:20.185Z"
   },
   {
    "duration": 4,
    "start_time": "2024-08-21T04:20:20.379Z"
   },
   {
    "duration": 6,
    "start_time": "2024-08-21T04:20:20.582Z"
   },
   {
    "duration": 14,
    "start_time": "2024-08-21T04:20:20.764Z"
   },
   {
    "duration": 4,
    "start_time": "2024-08-21T04:20:20.956Z"
   },
   {
    "duration": 7,
    "start_time": "2024-08-21T04:20:21.131Z"
   },
   {
    "duration": 15,
    "start_time": "2024-08-21T04:20:21.327Z"
   },
   {
    "duration": 16,
    "start_time": "2024-08-21T04:20:22.190Z"
   },
   {
    "duration": 15,
    "start_time": "2024-08-21T04:20:22.393Z"
   },
   {
    "duration": 10,
    "start_time": "2024-08-21T04:20:22.577Z"
   },
   {
    "duration": 19,
    "start_time": "2024-08-21T04:20:22.762Z"
   },
   {
    "duration": 12,
    "start_time": "2024-08-21T04:20:23.430Z"
   },
   {
    "duration": 23,
    "start_time": "2024-08-21T04:20:23.620Z"
   },
   {
    "duration": 6,
    "start_time": "2024-08-21T04:20:23.804Z"
   },
   {
    "duration": 9,
    "start_time": "2024-08-21T04:20:23.948Z"
   },
   {
    "duration": 26,
    "start_time": "2024-08-21T04:20:26.423Z"
   },
   {
    "duration": 4,
    "start_time": "2024-08-21T04:20:28.116Z"
   },
   {
    "duration": 5,
    "start_time": "2024-08-21T04:20:29.316Z"
   },
   {
    "duration": 67,
    "start_time": "2024-08-21T04:20:30.022Z"
   },
   {
    "duration": 11,
    "start_time": "2024-08-21T04:20:32.064Z"
   },
   {
    "duration": 4,
    "start_time": "2024-08-21T04:20:33.880Z"
   },
   {
    "duration": 6,
    "start_time": "2024-08-21T04:20:36.521Z"
   },
   {
    "duration": 70,
    "start_time": "2024-08-21T04:20:37.813Z"
   },
   {
    "duration": 24,
    "start_time": "2024-08-21T04:20:39.196Z"
   },
   {
    "duration": 6,
    "start_time": "2024-08-21T04:21:22.799Z"
   },
   {
    "duration": 82,
    "start_time": "2024-08-21T04:21:25.976Z"
   },
   {
    "duration": 73,
    "start_time": "2024-08-21T04:21:59.183Z"
   },
   {
    "duration": 5,
    "start_time": "2024-08-21T04:26:00.247Z"
   },
   {
    "duration": 326,
    "start_time": "2024-08-21T04:26:07.806Z"
   },
   {
    "duration": 7,
    "start_time": "2024-08-21T04:26:32.416Z"
   },
   {
    "duration": 72,
    "start_time": "2024-08-21T04:26:33.656Z"
   },
   {
    "duration": 5,
    "start_time": "2024-08-21T04:29:11.014Z"
   },
   {
    "duration": 5,
    "start_time": "2024-08-21T04:29:11.733Z"
   },
   {
    "duration": 67,
    "start_time": "2024-08-21T04:29:12.615Z"
   },
   {
    "duration": 9,
    "start_time": "2024-08-21T04:29:13.932Z"
   },
   {
    "duration": 3,
    "start_time": "2024-08-21T04:29:16.956Z"
   },
   {
    "duration": 4,
    "start_time": "2024-08-21T04:29:24.767Z"
   },
   {
    "duration": 6,
    "start_time": "2024-08-21T04:29:27.565Z"
   },
   {
    "duration": 65,
    "start_time": "2024-08-21T04:29:29.809Z"
   },
   {
    "duration": 8,
    "start_time": "2024-08-21T04:29:31.264Z"
   },
   {
    "duration": 4,
    "start_time": "2024-08-21T04:29:33.119Z"
   },
   {
    "duration": 5,
    "start_time": "2024-08-21T04:29:36.103Z"
   },
   {
    "duration": 66,
    "start_time": "2024-08-21T04:29:37.721Z"
   },
   {
    "duration": 10,
    "start_time": "2024-08-21T04:30:29.488Z"
   },
   {
    "duration": 8,
    "start_time": "2024-08-21T04:30:47.045Z"
   },
   {
    "duration": 5,
    "start_time": "2024-08-21T04:30:54.694Z"
   },
   {
    "duration": 67,
    "start_time": "2024-08-21T04:30:55.403Z"
   },
   {
    "duration": 10,
    "start_time": "2024-08-21T04:30:56.238Z"
   },
   {
    "duration": 5,
    "start_time": "2024-08-21T04:37:58.337Z"
   },
   {
    "duration": 74,
    "start_time": "2024-08-21T04:37:59.243Z"
   },
   {
    "duration": 5,
    "start_time": "2024-08-21T04:38:22.098Z"
   },
   {
    "duration": 74,
    "start_time": "2024-08-21T04:38:22.700Z"
   },
   {
    "duration": 6,
    "start_time": "2024-08-21T04:38:34.607Z"
   },
   {
    "duration": 69,
    "start_time": "2024-08-21T04:38:35.169Z"
   },
   {
    "duration": 775,
    "start_time": "2024-08-21T04:39:24.690Z"
   },
   {
    "duration": 9,
    "start_time": "2024-08-21T04:39:32.746Z"
   },
   {
    "duration": 499,
    "start_time": "2024-08-22T04:31:22.727Z"
   },
   {
    "duration": 382,
    "start_time": "2024-08-22T04:31:23.626Z"
   },
   {
    "duration": 16,
    "start_time": "2024-08-22T04:31:26.560Z"
   },
   {
    "duration": 18,
    "start_time": "2024-08-22T04:31:27.315Z"
   },
   {
    "duration": 14,
    "start_time": "2024-08-22T04:31:28.858Z"
   },
   {
    "duration": 15,
    "start_time": "2024-08-22T04:31:29.433Z"
   },
   {
    "duration": 13,
    "start_time": "2024-08-22T04:31:29.624Z"
   },
   {
    "duration": 11,
    "start_time": "2024-08-22T04:31:29.835Z"
   },
   {
    "duration": 7,
    "start_time": "2024-08-22T04:31:30.577Z"
   },
   {
    "duration": 8,
    "start_time": "2024-08-22T04:31:30.770Z"
   },
   {
    "duration": 20,
    "start_time": "2024-08-22T04:31:30.953Z"
   },
   {
    "duration": 15,
    "start_time": "2024-08-22T04:31:31.538Z"
   },
   {
    "duration": 16,
    "start_time": "2024-08-22T04:31:31.743Z"
   },
   {
    "duration": 4,
    "start_time": "2024-08-22T04:31:32.155Z"
   },
   {
    "duration": 24,
    "start_time": "2024-08-22T04:31:32.338Z"
   },
   {
    "duration": 3,
    "start_time": "2024-08-22T04:31:32.516Z"
   },
   {
    "duration": 22,
    "start_time": "2024-08-22T04:31:32.736Z"
   },
   {
    "duration": 735,
    "start_time": "2024-08-22T04:31:32.937Z"
   },
   {
    "duration": 0,
    "start_time": "2024-08-22T04:31:33.675Z"
   },
   {
    "duration": 0,
    "start_time": "2024-08-22T04:31:33.678Z"
   },
   {
    "duration": 34,
    "start_time": "2024-08-22T04:31:34.107Z"
   },
   {
    "duration": 20,
    "start_time": "2024-08-22T04:31:34.299Z"
   },
   {
    "duration": 11,
    "start_time": "2024-08-22T04:31:34.500Z"
   },
   {
    "duration": 37,
    "start_time": "2024-08-22T04:31:35.962Z"
   },
   {
    "duration": 3,
    "start_time": "2024-08-22T04:31:36.842Z"
   },
   {
    "duration": 74,
    "start_time": "2024-08-22T04:31:37.325Z"
   },
   {
    "duration": 20,
    "start_time": "2024-08-22T04:31:37.865Z"
   },
   {
    "duration": 12,
    "start_time": "2024-08-22T04:31:38.614Z"
   },
   {
    "duration": 34,
    "start_time": "2024-08-22T04:31:39.186Z"
   },
   {
    "duration": 10,
    "start_time": "2024-08-22T04:31:39.955Z"
   },
   {
    "duration": 7,
    "start_time": "2024-08-22T04:31:40.997Z"
   },
   {
    "duration": 6,
    "start_time": "2024-08-22T04:31:41.653Z"
   },
   {
    "duration": 8,
    "start_time": "2024-08-22T04:31:42.298Z"
   },
   {
    "duration": 25,
    "start_time": "2024-08-22T04:31:43.586Z"
   },
   {
    "duration": 16,
    "start_time": "2024-08-22T04:31:44.356Z"
   },
   {
    "duration": 47,
    "start_time": "2024-08-22T04:31:45.186Z"
   },
   {
    "duration": 39,
    "start_time": "2024-08-22T04:31:47.401Z"
   },
   {
    "duration": 27,
    "start_time": "2024-08-22T04:31:48.346Z"
   },
   {
    "duration": 23,
    "start_time": "2024-08-22T04:31:50.947Z"
   },
   {
    "duration": 56,
    "start_time": "2024-08-22T04:31:51.821Z"
   },
   {
    "duration": 39,
    "start_time": "2024-08-22T04:31:52.437Z"
   },
   {
    "duration": 32,
    "start_time": "2024-08-22T04:31:57.737Z"
   },
   {
    "duration": 34,
    "start_time": "2024-08-22T04:31:59.730Z"
   },
   {
    "duration": 32,
    "start_time": "2024-08-22T04:32:00.450Z"
   },
   {
    "duration": 21,
    "start_time": "2024-08-22T04:32:01.146Z"
   },
   {
    "duration": 4,
    "start_time": "2024-08-22T04:32:01.819Z"
   },
   {
    "duration": 3,
    "start_time": "2024-08-22T04:32:04.171Z"
   },
   {
    "duration": 9,
    "start_time": "2024-08-22T04:32:05.433Z"
   },
   {
    "duration": 22,
    "start_time": "2024-08-22T04:32:06.687Z"
   },
   {
    "duration": 10,
    "start_time": "2024-08-22T04:32:07.621Z"
   },
   {
    "duration": 3,
    "start_time": "2024-08-22T04:32:08.594Z"
   },
   {
    "duration": 6,
    "start_time": "2024-08-22T04:32:09.314Z"
   },
   {
    "duration": 13,
    "start_time": "2024-08-22T04:32:10.191Z"
   },
   {
    "duration": 19,
    "start_time": "2024-08-22T04:32:10.924Z"
   },
   {
    "duration": 4,
    "start_time": "2024-08-22T04:32:11.653Z"
   },
   {
    "duration": 6,
    "start_time": "2024-08-22T04:32:12.146Z"
   },
   {
    "duration": 15,
    "start_time": "2024-08-22T04:32:12.762Z"
   },
   {
    "duration": 4,
    "start_time": "2024-08-22T04:32:13.422Z"
   },
   {
    "duration": 6,
    "start_time": "2024-08-22T04:32:14.033Z"
   },
   {
    "duration": 16,
    "start_time": "2024-08-22T04:32:14.612Z"
   },
   {
    "duration": 13,
    "start_time": "2024-08-22T04:32:16.593Z"
   },
   {
    "duration": 15,
    "start_time": "2024-08-22T04:32:17.458Z"
   },
   {
    "duration": 12,
    "start_time": "2024-08-22T04:32:18.802Z"
   },
   {
    "duration": 18,
    "start_time": "2024-08-22T04:32:20.142Z"
   },
   {
    "duration": 12,
    "start_time": "2024-08-22T04:32:21.805Z"
   },
   {
    "duration": 23,
    "start_time": "2024-08-22T04:32:23.675Z"
   },
   {
    "duration": 6,
    "start_time": "2024-08-22T04:32:25.260Z"
   },
   {
    "duration": 10,
    "start_time": "2024-08-22T04:32:26.193Z"
   },
   {
    "duration": 25,
    "start_time": "2024-08-22T04:32:27.370Z"
   },
   {
    "duration": 4,
    "start_time": "2024-08-22T04:32:29.470Z"
   },
   {
    "duration": 5,
    "start_time": "2024-08-22T04:32:30.330Z"
   },
   {
    "duration": 65,
    "start_time": "2024-08-22T04:32:31.331Z"
   },
   {
    "duration": 10,
    "start_time": "2024-08-22T04:32:32.945Z"
   },
   {
    "duration": 5,
    "start_time": "2024-08-22T04:32:36.552Z"
   },
   {
    "duration": 64,
    "start_time": "2024-08-22T04:32:37.434Z"
   },
   {
    "duration": 10,
    "start_time": "2024-08-22T04:32:39.582Z"
   },
   {
    "duration": 6,
    "start_time": "2024-08-22T04:32:42.998Z"
   },
   {
    "duration": 67,
    "start_time": "2024-08-22T04:32:43.848Z"
   },
   {
    "duration": 11,
    "start_time": "2024-08-22T04:32:45.002Z"
   },
   {
    "duration": 8,
    "start_time": "2024-08-22T04:53:06.622Z"
   },
   {
    "duration": 5,
    "start_time": "2024-08-22T04:54:44.921Z"
   },
   {
    "duration": 22,
    "start_time": "2024-08-22T04:54:48.070Z"
   },
   {
    "duration": 22,
    "start_time": "2024-08-22T04:55:02.926Z"
   },
   {
    "duration": 169,
    "start_time": "2024-08-22T04:55:13.054Z"
   },
   {
    "duration": 5,
    "start_time": "2024-08-22T04:56:43.240Z"
   },
   {
    "duration": 77,
    "start_time": "2024-08-22T04:56:44.388Z"
   },
   {
    "duration": 6,
    "start_time": "2024-08-22T04:57:45.279Z"
   },
   {
    "duration": 77,
    "start_time": "2024-08-22T04:57:50.375Z"
   },
   {
    "duration": 6,
    "start_time": "2024-08-22T04:58:33.134Z"
   },
   {
    "duration": 65,
    "start_time": "2024-08-22T04:58:33.816Z"
   },
   {
    "duration": 64,
    "start_time": "2024-08-22T04:58:39.526Z"
   },
   {
    "duration": 31,
    "start_time": "2024-08-22T04:58:54.319Z"
   },
   {
    "duration": 20,
    "start_time": "2024-08-22T04:59:17.948Z"
   },
   {
    "duration": 4,
    "start_time": "2024-08-22T05:02:21.482Z"
   },
   {
    "duration": 4,
    "start_time": "2024-08-22T05:02:40.887Z"
   },
   {
    "duration": 7,
    "start_time": "2024-08-22T05:07:37.738Z"
   },
   {
    "duration": 3,
    "start_time": "2024-08-22T05:07:50.966Z"
   },
   {
    "duration": 7,
    "start_time": "2024-08-22T05:07:55.930Z"
   },
   {
    "duration": 6,
    "start_time": "2024-08-22T05:08:05.041Z"
   },
   {
    "duration": 7,
    "start_time": "2024-08-22T05:08:09.068Z"
   },
   {
    "duration": 4,
    "start_time": "2024-08-22T05:08:26.521Z"
   },
   {
    "duration": 269,
    "start_time": "2024-08-22T05:08:27.214Z"
   },
   {
    "duration": 14,
    "start_time": "2024-08-22T05:08:27.999Z"
   },
   {
    "duration": 12,
    "start_time": "2024-08-22T05:08:28.186Z"
   },
   {
    "duration": 12,
    "start_time": "2024-08-22T05:08:29.416Z"
   },
   {
    "duration": 15,
    "start_time": "2024-08-22T05:08:29.764Z"
   },
   {
    "duration": 13,
    "start_time": "2024-08-22T05:08:29.939Z"
   },
   {
    "duration": 9,
    "start_time": "2024-08-22T05:08:30.131Z"
   },
   {
    "duration": 6,
    "start_time": "2024-08-22T05:08:30.875Z"
   },
   {
    "duration": 7,
    "start_time": "2024-08-22T05:08:31.208Z"
   },
   {
    "duration": 15,
    "start_time": "2024-08-22T05:08:31.368Z"
   },
   {
    "duration": 16,
    "start_time": "2024-08-22T05:08:31.891Z"
   },
   {
    "duration": 15,
    "start_time": "2024-08-22T05:08:32.048Z"
   },
   {
    "duration": 5,
    "start_time": "2024-08-22T05:08:32.416Z"
   },
   {
    "duration": 25,
    "start_time": "2024-08-22T05:08:32.666Z"
   },
   {
    "duration": 3,
    "start_time": "2024-08-22T05:08:32.776Z"
   },
   {
    "duration": 20,
    "start_time": "2024-08-22T05:08:32.976Z"
   },
   {
    "duration": 39,
    "start_time": "2024-08-22T05:08:33.159Z"
   },
   {
    "duration": 26,
    "start_time": "2024-08-22T05:08:33.338Z"
   },
   {
    "duration": 3,
    "start_time": "2024-08-22T05:08:33.528Z"
   },
   {
    "duration": 27,
    "start_time": "2024-08-22T05:08:34.076Z"
   },
   {
    "duration": 19,
    "start_time": "2024-08-22T05:08:34.248Z"
   },
   {
    "duration": 12,
    "start_time": "2024-08-22T05:08:34.424Z"
   },
   {
    "duration": 37,
    "start_time": "2024-08-22T05:08:34.968Z"
   },
   {
    "duration": 4,
    "start_time": "2024-08-22T05:08:35.153Z"
   },
   {
    "duration": 72,
    "start_time": "2024-08-22T05:08:35.356Z"
   },
   {
    "duration": 20,
    "start_time": "2024-08-22T05:08:35.537Z"
   },
   {
    "duration": 14,
    "start_time": "2024-08-22T05:08:35.726Z"
   },
   {
    "duration": 28,
    "start_time": "2024-08-22T05:08:35.893Z"
   },
   {
    "duration": 11,
    "start_time": "2024-08-22T05:08:36.096Z"
   },
   {
    "duration": 7,
    "start_time": "2024-08-22T05:08:36.290Z"
   },
   {
    "duration": 5,
    "start_time": "2024-08-22T05:08:36.488Z"
   },
   {
    "duration": 8,
    "start_time": "2024-08-22T05:08:36.673Z"
   },
   {
    "duration": 24,
    "start_time": "2024-08-22T05:08:37.048Z"
   },
   {
    "duration": 16,
    "start_time": "2024-08-22T05:08:37.235Z"
   },
   {
    "duration": 47,
    "start_time": "2024-08-22T05:08:37.402Z"
   },
   {
    "duration": 40,
    "start_time": "2024-08-22T05:08:38.632Z"
   },
   {
    "duration": 28,
    "start_time": "2024-08-22T05:08:38.829Z"
   },
   {
    "duration": 23,
    "start_time": "2024-08-22T05:08:39.680Z"
   },
   {
    "duration": 53,
    "start_time": "2024-08-22T05:08:39.874Z"
   },
   {
    "duration": 36,
    "start_time": "2024-08-22T05:08:40.059Z"
   },
   {
    "duration": 31,
    "start_time": "2024-08-22T05:08:40.864Z"
   },
   {
    "duration": 35,
    "start_time": "2024-08-22T05:08:41.424Z"
   },
   {
    "duration": 31,
    "start_time": "2024-08-22T05:08:41.593Z"
   },
   {
    "duration": 20,
    "start_time": "2024-08-22T05:08:41.769Z"
   },
   {
    "duration": 3,
    "start_time": "2024-08-22T05:08:41.947Z"
   },
   {
    "duration": 3,
    "start_time": "2024-08-22T05:08:42.849Z"
   },
   {
    "duration": 9,
    "start_time": "2024-08-22T05:08:43.258Z"
   },
   {
    "duration": 21,
    "start_time": "2024-08-22T05:08:43.451Z"
   },
   {
    "duration": 9,
    "start_time": "2024-08-22T05:08:43.651Z"
   },
   {
    "duration": 3,
    "start_time": "2024-08-22T05:08:43.841Z"
   },
   {
    "duration": 6,
    "start_time": "2024-08-22T05:08:44.383Z"
   },
   {
    "duration": 15,
    "start_time": "2024-08-22T05:08:44.689Z"
   },
   {
    "duration": 19,
    "start_time": "2024-08-22T05:08:44.872Z"
   },
   {
    "duration": 3,
    "start_time": "2024-08-22T05:08:45.046Z"
   },
   {
    "duration": 5,
    "start_time": "2024-08-22T05:08:45.209Z"
   },
   {
    "duration": 15,
    "start_time": "2024-08-22T05:08:45.370Z"
   },
   {
    "duration": 4,
    "start_time": "2024-08-22T05:08:46.152Z"
   },
   {
    "duration": 6,
    "start_time": "2024-08-22T05:08:46.344Z"
   },
   {
    "duration": 15,
    "start_time": "2024-08-22T05:08:46.573Z"
   },
   {
    "duration": 14,
    "start_time": "2024-08-22T05:08:46.904Z"
   },
   {
    "duration": 14,
    "start_time": "2024-08-22T05:08:47.095Z"
   },
   {
    "duration": 11,
    "start_time": "2024-08-22T05:08:47.458Z"
   },
   {
    "duration": 19,
    "start_time": "2024-08-22T05:08:47.656Z"
   },
   {
    "duration": 11,
    "start_time": "2024-08-22T05:08:47.824Z"
   },
   {
    "duration": 21,
    "start_time": "2024-08-22T05:08:48.004Z"
   },
   {
    "duration": 5,
    "start_time": "2024-08-22T05:08:48.705Z"
   },
   {
    "duration": 11,
    "start_time": "2024-08-22T05:08:48.832Z"
   },
   {
    "duration": 25,
    "start_time": "2024-08-22T05:08:49.017Z"
   },
   {
    "duration": 5,
    "start_time": "2024-08-22T05:08:49.210Z"
   },
   {
    "duration": 5,
    "start_time": "2024-08-22T05:08:50.176Z"
   },
   {
    "duration": 64,
    "start_time": "2024-08-22T05:08:50.713Z"
   },
   {
    "duration": 10,
    "start_time": "2024-08-22T05:08:51.185Z"
   },
   {
    "duration": 5,
    "start_time": "2024-08-22T05:08:53.280Z"
   },
   {
    "duration": 66,
    "start_time": "2024-08-22T05:08:53.502Z"
   },
   {
    "duration": 10,
    "start_time": "2024-08-22T05:08:53.692Z"
   },
   {
    "duration": 6,
    "start_time": "2024-08-22T05:08:54.792Z"
   },
   {
    "duration": 67,
    "start_time": "2024-08-22T05:08:55.020Z"
   },
   {
    "duration": 10,
    "start_time": "2024-08-22T05:08:55.588Z"
   },
   {
    "duration": 6,
    "start_time": "2024-08-22T05:08:56.601Z"
   },
   {
    "duration": 65,
    "start_time": "2024-08-22T05:08:57.365Z"
   },
   {
    "duration": 21,
    "start_time": "2024-08-22T05:08:58.034Z"
   },
   {
    "duration": 3,
    "start_time": "2024-08-22T05:08:59.272Z"
   },
   {
    "duration": 3,
    "start_time": "2024-08-22T05:09:00.011Z"
   },
   {
    "duration": 6,
    "start_time": "2024-08-22T05:09:00.490Z"
   },
   {
    "duration": 6,
    "start_time": "2024-08-22T05:09:22.127Z"
   },
   {
    "duration": 6,
    "start_time": "2024-08-22T05:11:19.537Z"
   },
   {
    "duration": 6,
    "start_time": "2024-08-22T05:11:35.892Z"
   },
   {
    "duration": 9,
    "start_time": "2024-08-22T05:12:10.392Z"
   },
   {
    "duration": 6,
    "start_time": "2024-08-22T05:12:24.849Z"
   },
   {
    "duration": 6,
    "start_time": "2024-08-22T05:12:43.044Z"
   },
   {
    "duration": 5,
    "start_time": "2024-08-22T05:13:03.984Z"
   },
   {
    "duration": 3,
    "start_time": "2024-08-22T05:13:12.340Z"
   },
   {
    "duration": 3,
    "start_time": "2024-08-22T05:13:13.006Z"
   },
   {
    "duration": 6,
    "start_time": "2024-08-22T05:13:13.737Z"
   },
   {
    "duration": 8,
    "start_time": "2024-08-22T05:14:05.633Z"
   },
   {
    "duration": 4278,
    "start_time": "2024-08-22T05:14:36.257Z"
   },
   {
    "duration": 87,
    "start_time": "2024-08-22T05:14:58.714Z"
   },
   {
    "duration": 6,
    "start_time": "2024-08-22T05:15:23.414Z"
   },
   {
    "duration": 5,
    "start_time": "2024-08-22T05:15:48.282Z"
   },
   {
    "duration": 80,
    "start_time": "2024-08-22T05:16:43.701Z"
   },
   {
    "duration": 82,
    "start_time": "2024-08-22T05:16:52.545Z"
   },
   {
    "duration": 4,
    "start_time": "2024-08-22T05:17:00.486Z"
   },
   {
    "duration": 3,
    "start_time": "2024-08-22T05:17:01.204Z"
   },
   {
    "duration": 548,
    "start_time": "2024-08-22T05:17:01.971Z"
   },
   {
    "duration": 3,
    "start_time": "2024-08-22T05:17:23.875Z"
   },
   {
    "duration": 4,
    "start_time": "2024-08-22T05:17:24.322Z"
   },
   {
    "duration": 1007,
    "start_time": "2024-08-22T05:17:25.407Z"
   },
   {
    "duration": 3,
    "start_time": "2024-08-22T05:18:05.445Z"
   },
   {
    "duration": 3,
    "start_time": "2024-08-22T05:18:06.066Z"
   },
   {
    "duration": 1000,
    "start_time": "2024-08-22T05:18:06.763Z"
   },
   {
    "duration": 3,
    "start_time": "2024-08-22T05:18:41.079Z"
   },
   {
    "duration": 4,
    "start_time": "2024-08-22T05:18:41.658Z"
   },
   {
    "duration": 421,
    "start_time": "2024-08-22T05:18:42.586Z"
   },
   {
    "duration": 22,
    "start_time": "2024-08-22T05:20:08.410Z"
   },
   {
    "duration": 4,
    "start_time": "2024-08-22T05:20:09.298Z"
   },
   {
    "duration": 4,
    "start_time": "2024-08-22T05:20:09.945Z"
   },
   {
    "duration": 499,
    "start_time": "2024-08-22T05:20:10.699Z"
   },
   {
    "duration": 554,
    "start_time": "2024-08-25T02:31:36.491Z"
   },
   {
    "duration": 383,
    "start_time": "2024-08-25T02:31:37.626Z"
   },
   {
    "duration": 17,
    "start_time": "2024-08-25T02:31:39.122Z"
   },
   {
    "duration": 18,
    "start_time": "2024-08-25T02:31:39.962Z"
   },
   {
    "duration": 13,
    "start_time": "2024-08-25T02:31:46.253Z"
   },
   {
    "duration": 16,
    "start_time": "2024-08-25T02:31:48.327Z"
   },
   {
    "duration": 18,
    "start_time": "2024-08-25T02:31:49.007Z"
   },
   {
    "duration": 10,
    "start_time": "2024-08-25T02:31:49.487Z"
   },
   {
    "duration": 8,
    "start_time": "2024-08-25T02:31:51.630Z"
   },
   {
    "duration": 7,
    "start_time": "2024-08-25T02:31:51.870Z"
   },
   {
    "duration": 20,
    "start_time": "2024-08-25T02:31:52.126Z"
   },
   {
    "duration": 24,
    "start_time": "2024-08-25T02:31:53.507Z"
   },
   {
    "duration": 17,
    "start_time": "2024-08-25T02:31:53.735Z"
   },
   {
    "duration": 13,
    "start_time": "2024-08-25T02:31:54.790Z"
   },
   {
    "duration": 32,
    "start_time": "2024-08-25T02:31:55.023Z"
   },
   {
    "duration": 3,
    "start_time": "2024-08-25T02:31:55.255Z"
   },
   {
    "duration": 19,
    "start_time": "2024-08-25T02:31:55.758Z"
   },
   {
    "duration": 836,
    "start_time": "2024-08-25T02:31:56.030Z"
   },
   {
    "duration": 0,
    "start_time": "2024-08-25T02:31:56.870Z"
   },
   {
    "duration": 5,
    "start_time": "2024-08-25T02:31:57.135Z"
   },
   {
    "duration": 34,
    "start_time": "2024-08-25T02:32:01.029Z"
   },
   {
    "duration": 19,
    "start_time": "2024-08-25T02:32:01.553Z"
   },
   {
    "duration": 13,
    "start_time": "2024-08-25T02:32:02.147Z"
   },
   {
    "duration": 43,
    "start_time": "2024-08-25T02:32:03.672Z"
   },
   {
    "duration": 6,
    "start_time": "2024-08-25T02:32:04.223Z"
   },
   {
    "duration": 96,
    "start_time": "2024-08-25T02:32:04.728Z"
   },
   {
    "duration": 26,
    "start_time": "2024-08-25T02:32:05.222Z"
   },
   {
    "duration": 14,
    "start_time": "2024-08-25T02:32:05.726Z"
   },
   {
    "duration": 33,
    "start_time": "2024-08-25T02:32:06.550Z"
   },
   {
    "duration": 11,
    "start_time": "2024-08-25T02:32:07.208Z"
   },
   {
    "duration": 9,
    "start_time": "2024-08-25T02:32:07.886Z"
   },
   {
    "duration": 5,
    "start_time": "2024-08-25T02:32:08.425Z"
   },
   {
    "duration": 9,
    "start_time": "2024-08-25T02:32:08.921Z"
   },
   {
    "duration": 23,
    "start_time": "2024-08-25T02:32:09.878Z"
   },
   {
    "duration": 22,
    "start_time": "2024-08-25T02:32:10.091Z"
   },
   {
    "duration": 52,
    "start_time": "2024-08-25T02:32:10.264Z"
   },
   {
    "duration": 41,
    "start_time": "2024-08-25T02:32:11.549Z"
   },
   {
    "duration": 30,
    "start_time": "2024-08-25T02:32:11.720Z"
   },
   {
    "duration": 25,
    "start_time": "2024-08-25T02:32:12.441Z"
   },
   {
    "duration": 99,
    "start_time": "2024-08-25T02:32:12.605Z"
   },
   {
    "duration": 39,
    "start_time": "2024-08-25T02:32:12.799Z"
   },
   {
    "duration": 34,
    "start_time": "2024-08-25T02:32:13.885Z"
   },
   {
    "duration": 47,
    "start_time": "2024-08-25T02:32:14.770Z"
   },
   {
    "duration": 33,
    "start_time": "2024-08-25T02:32:14.967Z"
   },
   {
    "duration": 23,
    "start_time": "2024-08-25T02:32:15.135Z"
   },
   {
    "duration": 3,
    "start_time": "2024-08-25T02:32:15.559Z"
   },
   {
    "duration": 4,
    "start_time": "2024-08-25T02:32:17.930Z"
   },
   {
    "duration": 9,
    "start_time": "2024-08-25T02:32:18.600Z"
   },
   {
    "duration": 26,
    "start_time": "2024-08-25T02:32:18.809Z"
   },
   {
    "duration": 11,
    "start_time": "2024-08-25T02:32:19.425Z"
   },
   {
    "duration": 4,
    "start_time": "2024-08-25T02:32:19.853Z"
   },
   {
    "duration": 6,
    "start_time": "2024-08-25T02:32:20.527Z"
   },
   {
    "duration": 22,
    "start_time": "2024-08-25T02:32:20.720Z"
   },
   {
    "duration": 24,
    "start_time": "2024-08-25T02:32:20.918Z"
   },
   {
    "duration": 8,
    "start_time": "2024-08-25T02:32:21.086Z"
   },
   {
    "duration": 6,
    "start_time": "2024-08-25T02:32:21.277Z"
   },
   {
    "duration": 18,
    "start_time": "2024-08-25T02:32:21.830Z"
   },
   {
    "duration": 6,
    "start_time": "2024-08-25T02:32:22.032Z"
   },
   {
    "duration": 7,
    "start_time": "2024-08-25T02:32:22.214Z"
   },
   {
    "duration": 16,
    "start_time": "2024-08-25T02:32:22.382Z"
   },
   {
    "duration": 14,
    "start_time": "2024-08-25T02:32:22.759Z"
   },
   {
    "duration": 13,
    "start_time": "2024-08-25T02:32:22.980Z"
   },
   {
    "duration": 12,
    "start_time": "2024-08-25T02:32:23.638Z"
   },
   {
    "duration": 22,
    "start_time": "2024-08-25T02:32:24.006Z"
   },
   {
    "duration": 12,
    "start_time": "2024-08-25T02:32:24.201Z"
   },
   {
    "duration": 24,
    "start_time": "2024-08-25T02:32:24.375Z"
   },
   {
    "duration": 6,
    "start_time": "2024-08-25T02:32:24.562Z"
   },
   {
    "duration": 11,
    "start_time": "2024-08-25T02:32:25.599Z"
   },
   {
    "duration": 25,
    "start_time": "2024-08-25T02:32:26.418Z"
   },
   {
    "duration": 6,
    "start_time": "2024-08-25T02:32:27.519Z"
   },
   {
    "duration": 9,
    "start_time": "2024-08-25T02:32:29.194Z"
   },
   {
    "duration": 74,
    "start_time": "2024-08-25T02:32:29.796Z"
   },
   {
    "duration": 10,
    "start_time": "2024-08-25T02:32:30.934Z"
   },
   {
    "duration": 8,
    "start_time": "2024-08-25T02:32:34.233Z"
   },
   {
    "duration": 73,
    "start_time": "2024-08-25T02:32:34.910Z"
   },
   {
    "duration": 14,
    "start_time": "2024-08-25T02:32:35.684Z"
   },
   {
    "duration": 5,
    "start_time": "2024-08-25T02:32:37.485Z"
   },
   {
    "duration": 29,
    "start_time": "2024-08-25T02:32:38.111Z"
   },
   {
    "duration": 791,
    "start_time": "2024-08-25T02:32:38.914Z"
   },
   {
    "duration": 0,
    "start_time": "2024-08-25T02:32:39.708Z"
   },
   {
    "duration": 54,
    "start_time": "2024-08-25T02:32:40.198Z"
   },
   {
    "duration": 10,
    "start_time": "2024-08-25T02:34:41.408Z"
   },
   {
    "duration": 34,
    "start_time": "2024-08-25T02:34:41.935Z"
   },
   {
    "duration": 75,
    "start_time": "2024-08-25T02:35:23.134Z"
   },
   {
    "duration": 13,
    "start_time": "2024-08-25T02:35:33.705Z"
   },
   {
    "duration": 11,
    "start_time": "2024-08-25T02:35:36.424Z"
   },
   {
    "duration": 72,
    "start_time": "2024-08-25T02:35:37.328Z"
   },
   {
    "duration": 28,
    "start_time": "2024-08-25T02:35:38.087Z"
   },
   {
    "duration": 4,
    "start_time": "2024-08-25T02:35:39.456Z"
   },
   {
    "duration": 4,
    "start_time": "2024-08-25T02:35:41.150Z"
   },
   {
    "duration": 445,
    "start_time": "2024-08-25T02:35:43.503Z"
   },
   {
    "duration": 835,
    "start_time": "2024-08-25T02:37:11.846Z"
   },
   {
    "duration": 4,
    "start_time": "2024-08-25T02:49:51.628Z"
   },
   {
    "duration": 1212,
    "start_time": "2024-08-25T02:59:14.699Z"
   },
   {
    "duration": 1339,
    "start_time": "2024-08-25T02:59:31.897Z"
   },
   {
    "duration": 1093,
    "start_time": "2024-08-25T03:03:53.278Z"
   },
   {
    "duration": 1730,
    "start_time": "2024-08-25T03:04:48.269Z"
   },
   {
    "duration": 437,
    "start_time": "2024-08-25T03:14:10.215Z"
   },
   {
    "duration": 10,
    "start_time": "2024-08-25T03:15:03.832Z"
   },
   {
    "duration": 33,
    "start_time": "2024-08-25T03:20:15.130Z"
   },
   {
    "duration": 8,
    "start_time": "2024-08-25T03:20:34.554Z"
   },
   {
    "duration": 4,
    "start_time": "2024-08-25T03:20:39.599Z"
   },
   {
    "duration": 34,
    "start_time": "2024-08-25T03:20:44.505Z"
   },
   {
    "duration": 8,
    "start_time": "2024-08-25T03:21:50.714Z"
   },
   {
    "duration": 8,
    "start_time": "2024-08-25T03:22:11.054Z"
   },
   {
    "duration": 7,
    "start_time": "2024-08-25T03:22:36.511Z"
   },
   {
    "duration": 7,
    "start_time": "2024-08-25T03:22:45.658Z"
   },
   {
    "duration": 11,
    "start_time": "2024-08-25T03:28:12.774Z"
   },
   {
    "duration": 606,
    "start_time": "2024-08-25T03:38:23.692Z"
   },
   {
    "duration": 5,
    "start_time": "2024-08-25T03:38:39.964Z"
   },
   {
    "duration": 8,
    "start_time": "2024-08-25T03:51:05.423Z"
   },
   {
    "duration": 4,
    "start_time": "2024-08-25T03:52:28.197Z"
   },
   {
    "duration": 4,
    "start_time": "2024-08-25T03:53:11.342Z"
   },
   {
    "duration": 4,
    "start_time": "2024-08-25T03:53:30.644Z"
   },
   {
    "duration": 4,
    "start_time": "2024-08-25T03:53:31.009Z"
   },
   {
    "duration": 4,
    "start_time": "2024-08-25T06:06:45.820Z"
   },
   {
    "duration": 268,
    "start_time": "2024-08-25T06:06:47.010Z"
   },
   {
    "duration": 14,
    "start_time": "2024-08-25T06:06:54.243Z"
   },
   {
    "duration": 12,
    "start_time": "2024-08-25T06:06:55.335Z"
   },
   {
    "duration": 14,
    "start_time": "2024-08-25T06:07:18.130Z"
   },
   {
    "duration": 15,
    "start_time": "2024-08-25T06:07:19.701Z"
   },
   {
    "duration": 13,
    "start_time": "2024-08-25T06:07:20.300Z"
   },
   {
    "duration": 9,
    "start_time": "2024-08-25T06:07:20.915Z"
   },
   {
    "duration": 6,
    "start_time": "2024-08-25T06:07:29.109Z"
   },
   {
    "duration": 10,
    "start_time": "2024-08-25T06:07:29.563Z"
   },
   {
    "duration": 16,
    "start_time": "2024-08-25T06:07:30.413Z"
   },
   {
    "duration": 16,
    "start_time": "2024-08-25T06:07:37.099Z"
   },
   {
    "duration": 15,
    "start_time": "2024-08-25T06:07:37.749Z"
   },
   {
    "duration": 5,
    "start_time": "2024-08-25T06:07:39.427Z"
   },
   {
    "duration": 25,
    "start_time": "2024-08-25T06:07:39.991Z"
   },
   {
    "duration": 3,
    "start_time": "2024-08-25T06:07:54.060Z"
   },
   {
    "duration": 20,
    "start_time": "2024-08-25T06:07:54.710Z"
   },
   {
    "duration": 36,
    "start_time": "2024-08-25T06:07:55.443Z"
   },
   {
    "duration": 26,
    "start_time": "2024-08-25T06:07:56.731Z"
   },
   {
    "duration": 3,
    "start_time": "2024-08-25T06:07:59.020Z"
   },
   {
    "duration": 29,
    "start_time": "2024-08-25T06:08:07.755Z"
   },
   {
    "duration": 30,
    "start_time": "2024-08-25T06:08:08.660Z"
   },
   {
    "duration": 11,
    "start_time": "2024-08-25T06:08:09.539Z"
   },
   {
    "duration": 40,
    "start_time": "2024-08-25T06:08:13.059Z"
   },
   {
    "duration": 4,
    "start_time": "2024-08-25T06:08:13.819Z"
   },
   {
    "duration": 75,
    "start_time": "2024-08-25T06:08:14.907Z"
   },
   {
    "duration": 20,
    "start_time": "2024-08-25T06:08:15.315Z"
   },
   {
    "duration": 13,
    "start_time": "2024-08-25T06:08:16.355Z"
   },
   {
    "duration": 29,
    "start_time": "2024-08-25T06:08:17.651Z"
   },
   {
    "duration": 10,
    "start_time": "2024-08-25T06:08:18.243Z"
   },
   {
    "duration": 7,
    "start_time": "2024-08-25T06:08:19.412Z"
   },
   {
    "duration": 5,
    "start_time": "2024-08-25T06:08:20.731Z"
   },
   {
    "duration": 9,
    "start_time": "2024-08-25T06:08:21.306Z"
   },
   {
    "duration": 22,
    "start_time": "2024-08-25T06:08:24.202Z"
   },
   {
    "duration": 16,
    "start_time": "2024-08-25T06:08:24.683Z"
   },
   {
    "duration": 47,
    "start_time": "2024-08-25T06:08:25.571Z"
   },
   {
    "duration": 39,
    "start_time": "2024-08-25T06:08:30.185Z"
   },
   {
    "duration": 28,
    "start_time": "2024-08-25T06:08:30.990Z"
   },
   {
    "duration": 23,
    "start_time": "2024-08-25T06:08:35.290Z"
   },
   {
    "duration": 53,
    "start_time": "2024-08-25T06:08:36.046Z"
   },
   {
    "duration": 38,
    "start_time": "2024-08-25T06:08:36.931Z"
   },
   {
    "duration": 33,
    "start_time": "2024-08-25T06:08:42.996Z"
   },
   {
    "duration": 34,
    "start_time": "2024-08-25T06:08:46.299Z"
   },
   {
    "duration": 31,
    "start_time": "2024-08-25T06:08:47.125Z"
   },
   {
    "duration": 21,
    "start_time": "2024-08-25T06:08:48.451Z"
   },
   {
    "duration": 4,
    "start_time": "2024-08-25T06:08:49.899Z"
   },
   {
    "duration": 8,
    "start_time": "2024-08-25T06:09:05.178Z"
   },
   {
    "duration": 22,
    "start_time": "2024-08-25T06:09:06.135Z"
   },
   {
    "duration": 16,
    "start_time": "2024-08-25T06:09:07.027Z"
   },
   {
    "duration": 4,
    "start_time": "2024-08-25T06:09:07.899Z"
   },
   {
    "duration": 6,
    "start_time": "2024-08-25T06:09:08.862Z"
   },
   {
    "duration": 14,
    "start_time": "2024-08-25T06:09:09.364Z"
   },
   {
    "duration": 20,
    "start_time": "2024-08-25T06:09:10.035Z"
   },
   {
    "duration": 4,
    "start_time": "2024-08-25T06:09:10.891Z"
   },
   {
    "duration": 6,
    "start_time": "2024-08-25T06:09:11.163Z"
   },
   {
    "duration": 14,
    "start_time": "2024-08-25T06:09:11.654Z"
   },
   {
    "duration": 4,
    "start_time": "2024-08-25T06:09:12.291Z"
   },
   {
    "duration": 6,
    "start_time": "2024-08-25T06:09:13.027Z"
   },
   {
    "duration": 18,
    "start_time": "2024-08-25T06:09:13.304Z"
   },
   {
    "duration": 14,
    "start_time": "2024-08-25T06:09:14.719Z"
   },
   {
    "duration": 17,
    "start_time": "2024-08-25T06:09:15.260Z"
   },
   {
    "duration": 10,
    "start_time": "2024-08-25T06:09:16.139Z"
   },
   {
    "duration": 17,
    "start_time": "2024-08-25T06:09:17.045Z"
   },
   {
    "duration": 10,
    "start_time": "2024-08-25T06:09:17.878Z"
   },
   {
    "duration": 20,
    "start_time": "2024-08-25T06:09:18.412Z"
   },
   {
    "duration": 5,
    "start_time": "2024-08-25T06:09:19.171Z"
   },
   {
    "duration": 10,
    "start_time": "2024-08-25T06:09:19.817Z"
   },
   {
    "duration": 25,
    "start_time": "2024-08-25T06:09:20.509Z"
   },
   {
    "duration": 5,
    "start_time": "2024-08-25T06:09:21.404Z"
   },
   {
    "duration": 6,
    "start_time": "2024-08-25T06:09:22.375Z"
   },
   {
    "duration": 67,
    "start_time": "2024-08-25T06:09:22.851Z"
   },
   {
    "duration": 10,
    "start_time": "2024-08-25T06:09:23.795Z"
   },
   {
    "duration": 5,
    "start_time": "2024-08-25T06:09:32.354Z"
   },
   {
    "duration": 69,
    "start_time": "2024-08-25T06:09:33.131Z"
   },
   {
    "duration": 9,
    "start_time": "2024-08-25T06:09:34.059Z"
   },
   {
    "duration": 5,
    "start_time": "2024-08-25T06:09:36.187Z"
   },
   {
    "duration": 68,
    "start_time": "2024-08-25T06:09:37.628Z"
   },
   {
    "duration": 10,
    "start_time": "2024-08-25T06:09:38.853Z"
   },
   {
    "duration": 5,
    "start_time": "2024-08-25T06:09:40.588Z"
   },
   {
    "duration": 67,
    "start_time": "2024-08-25T06:09:41.379Z"
   },
   {
    "duration": 22,
    "start_time": "2024-08-25T06:09:42.092Z"
   },
   {
    "duration": 3,
    "start_time": "2024-08-25T06:09:42.756Z"
   },
   {
    "duration": 3,
    "start_time": "2024-08-25T06:09:43.719Z"
   },
   {
    "duration": 1664,
    "start_time": "2024-08-25T06:09:44.540Z"
   },
   {
    "duration": 3,
    "start_time": "2024-08-25T06:09:46.494Z"
   },
   {
    "duration": 9,
    "start_time": "2024-08-25T06:09:48.315Z"
   },
   {
    "duration": 7,
    "start_time": "2024-08-25T06:09:58.843Z"
   },
   {
    "duration": 8,
    "start_time": "2024-08-25T06:09:59.700Z"
   },
   {
    "duration": 7,
    "start_time": "2024-08-25T06:10:00.566Z"
   },
   {
    "duration": 7,
    "start_time": "2024-08-25T06:10:01.348Z"
   },
   {
    "duration": 14,
    "start_time": "2024-08-25T06:10:02.100Z"
   },
   {
    "duration": 4,
    "start_time": "2024-08-25T06:10:02.884Z"
   },
   {
    "duration": 3,
    "start_time": "2024-08-25T06:10:03.780Z"
   },
   {
    "duration": 8,
    "start_time": "2024-08-25T06:10:04.539Z"
   },
   {
    "duration": 5,
    "start_time": "2024-08-25T06:10:05.123Z"
   },
   {
    "duration": 4,
    "start_time": "2024-08-25T06:10:07.204Z"
   },
   {
    "duration": 13,
    "start_time": "2024-08-26T22:55:09.674Z"
   },
   {
    "duration": 324,
    "start_time": "2024-08-27T02:54:56.676Z"
   },
   {
    "duration": 464,
    "start_time": "2024-08-27T02:55:04.920Z"
   },
   {
    "duration": 463,
    "start_time": "2024-08-27T02:55:06.046Z"
   },
   {
    "duration": 17,
    "start_time": "2024-08-27T02:55:07.942Z"
   },
   {
    "duration": 19,
    "start_time": "2024-08-27T02:55:09.023Z"
   },
   {
    "duration": 37,
    "start_time": "2024-08-27T02:55:10.631Z"
   },
   {
    "duration": 13,
    "start_time": "2024-08-27T02:55:35.294Z"
   },
   {
    "duration": 9,
    "start_time": "2024-08-27T02:55:50.285Z"
   },
   {
    "duration": 9,
    "start_time": "2024-08-27T03:04:39.009Z"
   },
   {
    "duration": 9,
    "start_time": "2024-08-27T03:04:44.007Z"
   },
   {
    "duration": 4,
    "start_time": "2024-08-27T03:05:56.680Z"
   },
   {
    "duration": 279,
    "start_time": "2024-08-27T03:05:57.383Z"
   },
   {
    "duration": 14,
    "start_time": "2024-08-27T03:05:58.075Z"
   },
   {
    "duration": 12,
    "start_time": "2024-08-27T03:05:58.275Z"
   },
   {
    "duration": 35,
    "start_time": "2024-08-27T03:05:58.496Z"
   },
   {
    "duration": 13,
    "start_time": "2024-08-27T03:05:59.128Z"
   },
   {
    "duration": 9,
    "start_time": "2024-08-27T03:05:59.567Z"
   },
   {
    "duration": 3,
    "start_time": "2024-08-27T03:06:00.089Z"
   },
   {
    "duration": 7,
    "start_time": "2024-08-27T03:06:00.738Z"
   },
   {
    "duration": 3,
    "start_time": "2024-08-27T03:06:01.304Z"
   },
   {
    "duration": 14,
    "start_time": "2024-08-27T03:06:03.976Z"
   },
   {
    "duration": 13,
    "start_time": "2024-08-27T03:06:06.455Z"
   },
   {
    "duration": 14,
    "start_time": "2024-08-27T03:06:07.209Z"
   },
   {
    "duration": 9,
    "start_time": "2024-08-27T03:06:08.072Z"
   },
   {
    "duration": 6,
    "start_time": "2024-08-27T03:06:09.063Z"
   },
   {
    "duration": 8,
    "start_time": "2024-08-27T03:06:09.263Z"
   },
   {
    "duration": 15,
    "start_time": "2024-08-27T03:06:09.455Z"
   },
   {
    "duration": 16,
    "start_time": "2024-08-27T03:06:09.970Z"
   },
   {
    "duration": 17,
    "start_time": "2024-08-27T03:06:10.135Z"
   },
   {
    "duration": 4,
    "start_time": "2024-08-27T03:06:10.487Z"
   },
   {
    "duration": 26,
    "start_time": "2024-08-27T03:06:10.663Z"
   },
   {
    "duration": 3,
    "start_time": "2024-08-27T03:06:10.840Z"
   },
   {
    "duration": 19,
    "start_time": "2024-08-27T03:06:11.015Z"
   },
   {
    "duration": 446,
    "start_time": "2024-08-27T03:06:11.200Z"
   },
   {
    "duration": 0,
    "start_time": "2024-08-27T03:06:11.649Z"
   },
   {
    "duration": 4,
    "start_time": "2024-08-27T03:06:11.737Z"
   },
   {
    "duration": 30,
    "start_time": "2024-08-27T03:06:12.275Z"
   },
   {
    "duration": 20,
    "start_time": "2024-08-27T03:06:12.455Z"
   },
   {
    "duration": 12,
    "start_time": "2024-08-27T03:06:12.639Z"
   },
   {
    "duration": 37,
    "start_time": "2024-08-27T03:06:13.023Z"
   },
   {
    "duration": 4,
    "start_time": "2024-08-27T03:06:13.215Z"
   },
   {
    "duration": 81,
    "start_time": "2024-08-27T03:06:13.583Z"
   },
   {
    "duration": 20,
    "start_time": "2024-08-27T03:06:13.769Z"
   },
   {
    "duration": 12,
    "start_time": "2024-08-27T03:06:13.960Z"
   },
   {
    "duration": 39,
    "start_time": "2024-08-27T03:06:14.143Z"
   },
   {
    "duration": 11,
    "start_time": "2024-08-27T03:06:14.341Z"
   },
   {
    "duration": 7,
    "start_time": "2024-08-27T03:06:14.519Z"
   },
   {
    "duration": 6,
    "start_time": "2024-08-27T03:06:14.711Z"
   },
   {
    "duration": 8,
    "start_time": "2024-08-27T03:06:14.903Z"
   },
   {
    "duration": 22,
    "start_time": "2024-08-27T03:06:15.272Z"
   },
   {
    "duration": 18,
    "start_time": "2024-08-27T03:06:15.463Z"
   },
   {
    "duration": 47,
    "start_time": "2024-08-27T03:06:15.650Z"
   },
   {
    "duration": 40,
    "start_time": "2024-08-27T03:06:16.391Z"
   },
   {
    "duration": 29,
    "start_time": "2024-08-27T03:06:16.592Z"
   },
   {
    "duration": 24,
    "start_time": "2024-08-27T03:06:17.151Z"
   },
   {
    "duration": 54,
    "start_time": "2024-08-27T03:06:17.339Z"
   },
   {
    "duration": 45,
    "start_time": "2024-08-27T03:06:17.535Z"
   },
   {
    "duration": 33,
    "start_time": "2024-08-27T03:06:17.913Z"
   },
   {
    "duration": 37,
    "start_time": "2024-08-27T03:06:18.289Z"
   },
   {
    "duration": 32,
    "start_time": "2024-08-27T03:06:18.487Z"
   },
   {
    "duration": 25,
    "start_time": "2024-08-27T03:06:18.671Z"
   },
   {
    "duration": 3,
    "start_time": "2024-08-27T03:06:18.850Z"
   },
   {
    "duration": 9,
    "start_time": "2024-08-27T03:06:19.207Z"
   },
   {
    "duration": 22,
    "start_time": "2024-08-27T03:06:19.402Z"
   },
   {
    "duration": 10,
    "start_time": "2024-08-27T03:06:19.583Z"
   },
   {
    "duration": 4,
    "start_time": "2024-08-27T03:06:19.768Z"
   },
   {
    "duration": 6,
    "start_time": "2024-08-27T03:06:19.962Z"
   },
   {
    "duration": 14,
    "start_time": "2024-08-27T03:06:20.143Z"
   },
   {
    "duration": 19,
    "start_time": "2024-08-27T03:06:20.325Z"
   },
   {
    "duration": 4,
    "start_time": "2024-08-27T03:06:20.521Z"
   },
   {
    "duration": 6,
    "start_time": "2024-08-27T03:06:20.712Z"
   },
   {
    "duration": 16,
    "start_time": "2024-08-27T03:06:20.896Z"
   },
   {
    "duration": 3,
    "start_time": "2024-08-27T03:06:21.087Z"
   },
   {
    "duration": 6,
    "start_time": "2024-08-27T03:06:21.279Z"
   },
   {
    "duration": 16,
    "start_time": "2024-08-27T03:06:21.456Z"
   },
   {
    "duration": 13,
    "start_time": "2024-08-27T03:06:21.839Z"
   },
   {
    "duration": 14,
    "start_time": "2024-08-27T03:06:22.025Z"
   },
   {
    "duration": 10,
    "start_time": "2024-08-27T03:06:22.210Z"
   },
   {
    "duration": 19,
    "start_time": "2024-08-27T03:06:22.391Z"
   },
   {
    "duration": 11,
    "start_time": "2024-08-27T03:06:22.589Z"
   },
   {
    "duration": 21,
    "start_time": "2024-08-27T03:06:22.780Z"
   },
   {
    "duration": 6,
    "start_time": "2024-08-27T03:06:22.959Z"
   },
   {
    "duration": 10,
    "start_time": "2024-08-27T03:06:23.145Z"
   },
   {
    "duration": 24,
    "start_time": "2024-08-27T03:06:23.337Z"
   },
   {
    "duration": 5,
    "start_time": "2024-08-27T03:06:23.535Z"
   },
   {
    "duration": 5,
    "start_time": "2024-08-27T03:06:23.727Z"
   },
   {
    "duration": 65,
    "start_time": "2024-08-27T03:06:23.913Z"
   },
   {
    "duration": 10,
    "start_time": "2024-08-27T03:06:24.106Z"
   },
   {
    "duration": 5,
    "start_time": "2024-08-27T03:06:24.831Z"
   },
   {
    "duration": 69,
    "start_time": "2024-08-27T03:06:25.000Z"
   },
   {
    "duration": 10,
    "start_time": "2024-08-27T03:06:25.194Z"
   },
   {
    "duration": 5,
    "start_time": "2024-08-27T03:06:25.574Z"
   },
   {
    "duration": 68,
    "start_time": "2024-08-27T03:06:25.816Z"
   },
   {
    "duration": 13,
    "start_time": "2024-08-27T03:06:26.010Z"
   },
   {
    "duration": 7,
    "start_time": "2024-08-27T03:06:26.201Z"
   },
   {
    "duration": 71,
    "start_time": "2024-08-27T03:06:26.377Z"
   },
   {
    "duration": 23,
    "start_time": "2024-08-27T03:06:26.563Z"
   },
   {
    "duration": 4,
    "start_time": "2024-08-27T03:06:26.727Z"
   },
   {
    "duration": 3,
    "start_time": "2024-08-27T03:06:26.913Z"
   },
   {
    "duration": 5578,
    "start_time": "2024-08-27T03:06:27.087Z"
   },
   {
    "duration": 4,
    "start_time": "2024-08-27T03:06:32.672Z"
   },
   {
    "duration": 10,
    "start_time": "2024-08-27T03:06:32.680Z"
   },
   {
    "duration": 8,
    "start_time": "2024-08-27T03:06:32.696Z"
   },
   {
    "duration": 8,
    "start_time": "2024-08-27T03:06:32.707Z"
   },
   {
    "duration": 54,
    "start_time": "2024-08-27T03:06:32.718Z"
   },
   {
    "duration": 8,
    "start_time": "2024-08-27T03:06:32.775Z"
   },
   {
    "duration": 12,
    "start_time": "2024-08-27T03:06:32.786Z"
   },
   {
    "duration": 5,
    "start_time": "2024-08-27T03:06:32.801Z"
   },
   {
    "duration": 3,
    "start_time": "2024-08-27T03:06:32.812Z"
   },
   {
    "duration": 499,
    "start_time": "2024-08-27T03:06:32.819Z"
   },
   {
    "duration": 5,
    "start_time": "2024-08-27T03:06:33.322Z"
   },
   {
    "duration": 6,
    "start_time": "2024-08-27T03:06:33.330Z"
   },
   {
    "duration": 77,
    "start_time": "2024-08-27T03:07:27.591Z"
   },
   {
    "duration": 33,
    "start_time": "2024-08-27T03:07:32.648Z"
   },
   {
    "duration": 10,
    "start_time": "2024-08-27T03:07:47.554Z"
   },
   {
    "duration": 41,
    "start_time": "2024-08-27T03:10:34.913Z"
   },
   {
    "duration": 41,
    "start_time": "2024-08-27T03:10:45.192Z"
   },
   {
    "duration": 7,
    "start_time": "2024-08-27T03:11:44.720Z"
   },
   {
    "duration": 3,
    "start_time": "2024-08-27T03:11:50.536Z"
   },
   {
    "duration": 5,
    "start_time": "2024-08-27T03:12:22.593Z"
   },
   {
    "duration": 5,
    "start_time": "2024-08-27T03:12:32.233Z"
   },
   {
    "duration": 6407,
    "start_time": "2024-08-27T03:12:52.184Z"
   },
   {
    "duration": 249,
    "start_time": "2024-08-27T03:13:00.273Z"
   },
   {
    "duration": 22,
    "start_time": "2024-08-27T03:13:01.421Z"
   },
   {
    "duration": 13,
    "start_time": "2024-08-27T03:13:03.059Z"
   },
   {
    "duration": 36,
    "start_time": "2024-08-27T03:13:04.409Z"
   },
   {
    "duration": 11,
    "start_time": "2024-08-27T03:13:05.393Z"
   },
   {
    "duration": 9,
    "start_time": "2024-08-27T03:13:06.673Z"
   },
   {
    "duration": 6,
    "start_time": "2024-08-27T03:13:08.329Z"
   },
   {
    "duration": 9,
    "start_time": "2024-08-27T03:13:09.321Z"
   },
   {
    "duration": 21,
    "start_time": "2024-08-27T03:13:12.778Z"
   },
   {
    "duration": 22,
    "start_time": "2024-08-27T03:13:17.392Z"
   },
   {
    "duration": 47,
    "start_time": "2024-08-27T03:13:18.425Z"
   },
   {
    "duration": 52,
    "start_time": "2024-08-27T03:16:51.298Z"
   },
   {
    "duration": 47,
    "start_time": "2024-08-27T03:16:57.873Z"
   },
   {
    "duration": 3,
    "start_time": "2024-08-27T03:18:15.482Z"
   },
   {
    "duration": 38,
    "start_time": "2024-08-27T03:21:17.974Z"
   },
   {
    "duration": 179,
    "start_time": "2024-08-27T03:24:03.525Z"
   },
   {
    "duration": 28,
    "start_time": "2024-08-27T03:24:05.357Z"
   },
   {
    "duration": 78,
    "start_time": "2024-08-27T03:25:38.548Z"
   },
   {
    "duration": 32,
    "start_time": "2024-08-27T03:25:40.419Z"
   },
   {
    "duration": 3,
    "start_time": "2024-08-27T03:26:51.294Z"
   }
  ],
  "colab": {
   "provenance": []
  },
  "kernelspec": {
   "display_name": "base",
   "language": "python",
   "name": "python3"
  },
  "language_info": {
   "codemirror_mode": {
    "name": "ipython",
    "version": 3
   },
   "file_extension": ".py",
   "mimetype": "text/x-python",
   "name": "python",
   "nbconvert_exporter": "python",
   "pygments_lexer": "ipython3",
   "version": "3.11.7"
  },
  "toc": {
   "base_numbering": 1,
   "nav_menu": {},
   "number_sections": true,
   "sideBar": true,
   "skip_h1_title": false,
   "title_cell": "Table of Contents",
   "title_sidebar": "Contents",
   "toc_cell": false,
   "toc_position": {},
   "toc_section_display": true,
   "toc_window_display": true
  }
 },
 "nbformat": 4,
 "nbformat_minor": 4
}
