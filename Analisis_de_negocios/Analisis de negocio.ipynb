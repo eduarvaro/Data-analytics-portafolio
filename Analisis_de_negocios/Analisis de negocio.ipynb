{
 "cells": [
  {
   "cell_type": "code",
   "execution_count": 1,
   "id": "b72e95f7-9c04-47ba-8c03-97f1ce10108a",
   "metadata": {},
   "outputs": [],
   "source": [
    "import pandas as pd\n",
    "import numpy as np\n",
    "import matplotlib.pyplot as plt\n",
    "import seaborn as sns"
   ]
  },
  {
   "cell_type": "code",
   "execution_count": 2,
   "id": "52bfe4df-9919-48d5-bbd7-a8c7b66c2802",
   "metadata": {},
   "outputs": [],
   "source": [
    "visitas = pd.read_csv('visits_log_us.csv')\n",
    "costos = pd.read_csv ('costs_us.csv')\n",
    "ordenes= pd.read_csv('orders_log_us.csv')"
   ]
  },
  {
   "cell_type": "code",
   "execution_count": 3,
   "id": "7a811c05-f365-40be-9b97-e801f09fc487",
   "metadata": {},
   "outputs": [
    {
     "data": {
      "text/html": [
       "<div>\n",
       "<style scoped>\n",
       "    .dataframe tbody tr th:only-of-type {\n",
       "        vertical-align: middle;\n",
       "    }\n",
       "\n",
       "    .dataframe tbody tr th {\n",
       "        vertical-align: top;\n",
       "    }\n",
       "\n",
       "    .dataframe thead th {\n",
       "        text-align: right;\n",
       "    }\n",
       "</style>\n",
       "<table border=\"1\" class=\"dataframe\">\n",
       "  <thead>\n",
       "    <tr style=\"text-align: right;\">\n",
       "      <th></th>\n",
       "      <th>Device</th>\n",
       "      <th>End Ts</th>\n",
       "      <th>Source Id</th>\n",
       "      <th>Start Ts</th>\n",
       "      <th>Uid</th>\n",
       "    </tr>\n",
       "  </thead>\n",
       "  <tbody>\n",
       "    <tr>\n",
       "      <th>0</th>\n",
       "      <td>touch</td>\n",
       "      <td>20/12/2017 17:38</td>\n",
       "      <td>4</td>\n",
       "      <td>20/12/2017 17:20</td>\n",
       "      <td>1.687930e+19</td>\n",
       "    </tr>\n",
       "    <tr>\n",
       "      <th>1</th>\n",
       "      <td>desktop</td>\n",
       "      <td>19/02/2018 17:21</td>\n",
       "      <td>2</td>\n",
       "      <td>19/02/2018 16:53</td>\n",
       "      <td>1.040600e+17</td>\n",
       "    </tr>\n",
       "    <tr>\n",
       "      <th>2</th>\n",
       "      <td>touch</td>\n",
       "      <td>01/07/2017 01:54</td>\n",
       "      <td>5</td>\n",
       "      <td>01/07/2017 01:54</td>\n",
       "      <td>7.459040e+18</td>\n",
       "    </tr>\n",
       "    <tr>\n",
       "      <th>3</th>\n",
       "      <td>desktop</td>\n",
       "      <td>20/05/2018 11:23</td>\n",
       "      <td>9</td>\n",
       "      <td>20/05/2018 10:59</td>\n",
       "      <td>1.617470e+19</td>\n",
       "    </tr>\n",
       "    <tr>\n",
       "      <th>4</th>\n",
       "      <td>desktop</td>\n",
       "      <td>27/12/2017 14:06</td>\n",
       "      <td>3</td>\n",
       "      <td>27/12/2017 14:06</td>\n",
       "      <td>9.969690e+18</td>\n",
       "    </tr>\n",
       "  </tbody>\n",
       "</table>\n",
       "</div>"
      ],
      "text/plain": [
       "    Device            End Ts  Source Id          Start Ts           Uid\n",
       "0    touch  20/12/2017 17:38          4  20/12/2017 17:20  1.687930e+19\n",
       "1  desktop  19/02/2018 17:21          2  19/02/2018 16:53  1.040600e+17\n",
       "2    touch  01/07/2017 01:54          5  01/07/2017 01:54  7.459040e+18\n",
       "3  desktop  20/05/2018 11:23          9  20/05/2018 10:59  1.617470e+19\n",
       "4  desktop  27/12/2017 14:06          3  27/12/2017 14:06  9.969690e+18"
      ]
     },
     "execution_count": 3,
     "metadata": {},
     "output_type": "execute_result"
    }
   ],
   "source": [
    "visitas.head()"
   ]
  },
  {
   "cell_type": "code",
   "execution_count": 4,
   "id": "6e2d93d1-91b4-46d6-945d-1570ec5379d7",
   "metadata": {},
   "outputs": [],
   "source": [
    "def analisis_exploratorio_df(data):\n",
    "    print(data.head())\n",
    "    print()\n",
    "    print(data.info())\n",
    "    print('valores ausentes')\n",
    "    print(data.isna().sum())\n",
    "    print()\n",
    "    print('filas duplicadas', data.duplicated().sum())"
   ]
  },
  {
   "cell_type": "code",
   "execution_count": 5,
   "id": "e8de9a4f-c2fc-471a-bda2-e9d482666e02",
   "metadata": {},
   "outputs": [
    {
     "name": "stdout",
     "output_type": "stream",
     "text": [
      "    Device            End Ts  Source Id          Start Ts           Uid\n",
      "0    touch  20/12/2017 17:38          4  20/12/2017 17:20  1.687930e+19\n",
      "1  desktop  19/02/2018 17:21          2  19/02/2018 16:53  1.040600e+17\n",
      "2    touch  01/07/2017 01:54          5  01/07/2017 01:54  7.459040e+18\n",
      "3  desktop  20/05/2018 11:23          9  20/05/2018 10:59  1.617470e+19\n",
      "4  desktop  27/12/2017 14:06          3  27/12/2017 14:06  9.969690e+18\n",
      "\n",
      "<class 'pandas.core.frame.DataFrame'>\n",
      "RangeIndex: 359400 entries, 0 to 359399\n",
      "Data columns (total 5 columns):\n",
      " #   Column     Non-Null Count   Dtype  \n",
      "---  ------     --------------   -----  \n",
      " 0   Device     359400 non-null  object \n",
      " 1   End Ts     359400 non-null  object \n",
      " 2   Source Id  359400 non-null  int64  \n",
      " 3   Start Ts   359400 non-null  object \n",
      " 4   Uid        359400 non-null  float64\n",
      "dtypes: float64(1), int64(1), object(3)\n",
      "memory usage: 13.7+ MB\n",
      "None\n",
      "valores ausentes\n",
      "Device       0\n",
      "End Ts       0\n",
      "Source Id    0\n",
      "Start Ts     0\n",
      "Uid          0\n",
      "dtype: int64\n",
      "\n",
      "filas duplicadas 0\n"
     ]
    }
   ],
   "source": [
    "analisis_exploratorio_df(visitas)"
   ]
  },
  {
   "cell_type": "markdown",
   "id": "7a934186",
   "metadata": {},
   "source": [
    "No existen valoes nulos o duplicados, solamente tendriamos que ajustar las fechas en el formato correcto"
   ]
  },
  {
   "cell_type": "code",
   "execution_count": 6,
   "id": "08d1d341-320a-4ed9-8f3b-d480c4ba95be",
   "metadata": {},
   "outputs": [],
   "source": [
    "def limpiar_columnas(data):\n",
    "    new_columns = []\n",
    "\n",
    "    for columna in data.columns:\n",
    "        columna_limpia = columna.lower()\n",
    "        columna_limpia = columna_limpia.replace(' ', '_')\n",
    "        new_columns.append(columna_limpia)\n",
    "\n",
    "\n",
    "    data.columns = new_columns\n",
    "    return data"
   ]
  },
  {
   "cell_type": "code",
   "execution_count": 7,
   "id": "e99942a9-7853-4b13-ba8f-e1181f151fd4",
   "metadata": {},
   "outputs": [],
   "source": [
    "visitas = limpiar_columnas(visitas)"
   ]
  },
  {
   "cell_type": "code",
   "execution_count": 8,
   "id": "7e5bc6f2-6c34-45d7-8c8b-f258d8c59edc",
   "metadata": {},
   "outputs": [
    {
     "name": "stdout",
     "output_type": "stream",
     "text": [
      "<class 'pandas.core.frame.DataFrame'>\n",
      "RangeIndex: 359400 entries, 0 to 359399\n",
      "Data columns (total 5 columns):\n",
      " #   Column     Non-Null Count   Dtype  \n",
      "---  ------     --------------   -----  \n",
      " 0   device     359400 non-null  object \n",
      " 1   end_ts     359400 non-null  object \n",
      " 2   source_id  359400 non-null  int64  \n",
      " 3   start_ts   359400 non-null  object \n",
      " 4   uid        359400 non-null  float64\n",
      "dtypes: float64(1), int64(1), object(3)\n",
      "memory usage: 13.7+ MB\n"
     ]
    }
   ],
   "source": [
    "visitas.info()"
   ]
  },
  {
   "cell_type": "code",
   "execution_count": 9,
   "id": "def93d4f",
   "metadata": {},
   "outputs": [
    {
     "data": {
      "text/html": [
       "<div>\n",
       "<style scoped>\n",
       "    .dataframe tbody tr th:only-of-type {\n",
       "        vertical-align: middle;\n",
       "    }\n",
       "\n",
       "    .dataframe tbody tr th {\n",
       "        vertical-align: top;\n",
       "    }\n",
       "\n",
       "    .dataframe thead th {\n",
       "        text-align: right;\n",
       "    }\n",
       "</style>\n",
       "<table border=\"1\" class=\"dataframe\">\n",
       "  <thead>\n",
       "    <tr style=\"text-align: right;\">\n",
       "      <th></th>\n",
       "      <th>source_id</th>\n",
       "      <th>uid</th>\n",
       "    </tr>\n",
       "  </thead>\n",
       "  <tbody>\n",
       "    <tr>\n",
       "      <th>count</th>\n",
       "      <td>359400.000000</td>\n",
       "      <td>3.594000e+05</td>\n",
       "    </tr>\n",
       "    <tr>\n",
       "      <th>mean</th>\n",
       "      <td>3.750515</td>\n",
       "      <td>9.202557e+18</td>\n",
       "    </tr>\n",
       "    <tr>\n",
       "      <th>std</th>\n",
       "      <td>1.917116</td>\n",
       "      <td>5.298433e+18</td>\n",
       "    </tr>\n",
       "    <tr>\n",
       "      <th>min</th>\n",
       "      <td>1.000000</td>\n",
       "      <td>1.186350e+13</td>\n",
       "    </tr>\n",
       "    <tr>\n",
       "      <th>25%</th>\n",
       "      <td>3.000000</td>\n",
       "      <td>4.613408e+18</td>\n",
       "    </tr>\n",
       "    <tr>\n",
       "      <th>50%</th>\n",
       "      <td>4.000000</td>\n",
       "      <td>9.227410e+18</td>\n",
       "    </tr>\n",
       "    <tr>\n",
       "      <th>75%</th>\n",
       "      <td>5.000000</td>\n",
       "      <td>1.372820e+19</td>\n",
       "    </tr>\n",
       "    <tr>\n",
       "      <th>max</th>\n",
       "      <td>10.000000</td>\n",
       "      <td>1.844670e+19</td>\n",
       "    </tr>\n",
       "  </tbody>\n",
       "</table>\n",
       "</div>"
      ],
      "text/plain": [
       "           source_id           uid\n",
       "count  359400.000000  3.594000e+05\n",
       "mean        3.750515  9.202557e+18\n",
       "std         1.917116  5.298433e+18\n",
       "min         1.000000  1.186350e+13\n",
       "25%         3.000000  4.613408e+18\n",
       "50%         4.000000  9.227410e+18\n",
       "75%         5.000000  1.372820e+19\n",
       "max        10.000000  1.844670e+19"
      ]
     },
     "execution_count": 9,
     "metadata": {},
     "output_type": "execute_result"
    }
   ],
   "source": [
    "visitas.describe()"
   ]
  },
  {
   "cell_type": "code",
   "execution_count": 10,
   "id": "ea6a8d80-8bf7-4d7a-81d9-052fadcf5185",
   "metadata": {},
   "outputs": [],
   "source": [
    "visitas['start_ts'] = pd.to_datetime(visitas['start_ts'], format='%d/%m/%Y %H:%M')\n",
    "visitas['end_ts'] = pd.to_datetime(visitas['end_ts'], format='%d/%m/%Y %H:%M')"
   ]
  },
  {
   "cell_type": "code",
   "execution_count": 11,
   "id": "97c626a2-e7f8-4e9b-ba25-9a6b3ab8f547",
   "metadata": {},
   "outputs": [
    {
     "name": "stdout",
     "output_type": "stream",
     "text": [
      "<class 'pandas.core.frame.DataFrame'>\n",
      "RangeIndex: 359400 entries, 0 to 359399\n",
      "Data columns (total 5 columns):\n",
      " #   Column     Non-Null Count   Dtype         \n",
      "---  ------     --------------   -----         \n",
      " 0   device     359400 non-null  object        \n",
      " 1   end_ts     359400 non-null  datetime64[ns]\n",
      " 2   source_id  359400 non-null  int64         \n",
      " 3   start_ts   359400 non-null  datetime64[ns]\n",
      " 4   uid        359400 non-null  float64       \n",
      "dtypes: datetime64[ns](2), float64(1), int64(1), object(1)\n",
      "memory usage: 13.7+ MB\n"
     ]
    }
   ],
   "source": [
    "visitas.info()"
   ]
  },
  {
   "cell_type": "code",
   "execution_count": 12,
   "id": "1ea0c59d-7e7e-43d3-b1ae-6ab6cff26ffd",
   "metadata": {},
   "outputs": [
    {
     "data": {
      "text/plain": [
       "device\n",
       "desktop    262567\n",
       "touch       96833\n",
       "Name: count, dtype: int64"
      ]
     },
     "execution_count": 12,
     "metadata": {},
     "output_type": "execute_result"
    }
   ],
   "source": [
    "visitas.value_counts('device')"
   ]
  },
  {
   "cell_type": "code",
   "execution_count": 13,
   "id": "10467c4b-9024-4e83-856c-c19144065f97",
   "metadata": {},
   "outputs": [
    {
     "data": {
      "text/plain": [
       "source_id\n",
       "4     101794\n",
       "3      85610\n",
       "5      66905\n",
       "2      47626\n",
       "1      34121\n",
       "9      13277\n",
       "10     10025\n",
       "7         36\n",
       "6          6\n",
       "Name: count, dtype: int64"
      ]
     },
     "execution_count": 13,
     "metadata": {},
     "output_type": "execute_result"
    }
   ],
   "source": [
    "visitas.value_counts('source_id')"
   ]
  },
  {
   "cell_type": "code",
   "execution_count": 14,
   "id": "ad803a9d-c8aa-4b96-adc3-ff4d8f63a1d0",
   "metadata": {},
   "outputs": [
    {
     "name": "stdout",
     "output_type": "stream",
     "text": [
      "valor_minimo en stars_ts : 2017-06-01 00:01:00\n",
      "valor_maximo en stars_ts: 2018-05-31 23:59:00\n",
      "valor_minimo en end_ts: 2017-06-01 00:02:00\n",
      "valor_maximo en end_ts: 2018-06-01 01:26:00\n"
     ]
    }
   ],
   "source": [
    "print(f'valor_minimo en stars_ts : {visitas[\"start_ts\"].min()}')\n",
    "print(f'valor_maximo en stars_ts: {visitas[\"start_ts\"].max()}')\n",
    "print(f'valor_minimo en end_ts: {visitas[\"end_ts\"].min()}')\n",
    "print(f'valor_maximo en end_ts: {visitas[\"end_ts\"].max()}')"
   ]
  },
  {
   "cell_type": "markdown",
   "id": "44e39d42",
   "metadata": {},
   "source": [
    "Encontramos el valor minimo iniciail (la primera sesion del primer usuario) con respecto a la ultima sesion (valor maximo) de los datos proorcionardos es decir \n",
    "que el primer usuario inicio el 2017-06-01 y el ultimo concluyo el 2018-06-01"
   ]
  },
  {
   "cell_type": "code",
   "execution_count": 15,
   "id": "c6d9fc47-a6ef-47f2-ab46-e19586ecf79c",
   "metadata": {},
   "outputs": [
    {
     "data": {
      "text/html": [
       "<div>\n",
       "<style scoped>\n",
       "    .dataframe tbody tr th:only-of-type {\n",
       "        vertical-align: middle;\n",
       "    }\n",
       "\n",
       "    .dataframe tbody tr th {\n",
       "        vertical-align: top;\n",
       "    }\n",
       "\n",
       "    .dataframe thead th {\n",
       "        text-align: right;\n",
       "    }\n",
       "</style>\n",
       "<table border=\"1\" class=\"dataframe\">\n",
       "  <thead>\n",
       "    <tr style=\"text-align: right;\">\n",
       "      <th></th>\n",
       "      <th>device</th>\n",
       "      <th>end_ts</th>\n",
       "      <th>source_id</th>\n",
       "      <th>start_ts</th>\n",
       "      <th>uid</th>\n",
       "    </tr>\n",
       "  </thead>\n",
       "  <tbody>\n",
       "    <tr>\n",
       "      <th>2330</th>\n",
       "      <td>desktop</td>\n",
       "      <td>2018-06-01 00:05:00</td>\n",
       "      <td>2</td>\n",
       "      <td>2018-05-31 23:30:00</td>\n",
       "      <td>5.300690e+18</td>\n",
       "    </tr>\n",
       "    <tr>\n",
       "      <th>43215</th>\n",
       "      <td>desktop</td>\n",
       "      <td>2018-06-01 00:13:00</td>\n",
       "      <td>4</td>\n",
       "      <td>2018-05-31 23:46:00</td>\n",
       "      <td>1.229660e+19</td>\n",
       "    </tr>\n",
       "    <tr>\n",
       "      <th>46667</th>\n",
       "      <td>desktop</td>\n",
       "      <td>2018-06-01 00:13:00</td>\n",
       "      <td>5</td>\n",
       "      <td>2018-05-31 23:48:00</td>\n",
       "      <td>1.107130e+18</td>\n",
       "    </tr>\n",
       "    <tr>\n",
       "      <th>154728</th>\n",
       "      <td>desktop</td>\n",
       "      <td>2018-06-01 00:09:00</td>\n",
       "      <td>2</td>\n",
       "      <td>2018-05-31 22:52:00</td>\n",
       "      <td>1.248440e+19</td>\n",
       "    </tr>\n",
       "    <tr>\n",
       "      <th>198329</th>\n",
       "      <td>desktop</td>\n",
       "      <td>2018-06-01 00:11:00</td>\n",
       "      <td>3</td>\n",
       "      <td>2018-05-31 23:59:00</td>\n",
       "      <td>3.720370e+18</td>\n",
       "    </tr>\n",
       "    <tr>\n",
       "      <th>216791</th>\n",
       "      <td>touch</td>\n",
       "      <td>2018-06-01 00:06:00</td>\n",
       "      <td>5</td>\n",
       "      <td>2018-05-31 23:45:00</td>\n",
       "      <td>9.951900e+18</td>\n",
       "    </tr>\n",
       "    <tr>\n",
       "      <th>263781</th>\n",
       "      <td>desktop</td>\n",
       "      <td>2018-06-01 00:25:00</td>\n",
       "      <td>1</td>\n",
       "      <td>2018-05-31 23:59:00</td>\n",
       "      <td>4.906560e+18</td>\n",
       "    </tr>\n",
       "    <tr>\n",
       "      <th>269213</th>\n",
       "      <td>touch</td>\n",
       "      <td>2018-06-01 00:12:00</td>\n",
       "      <td>10</td>\n",
       "      <td>2018-05-31 23:59:00</td>\n",
       "      <td>1.072340e+19</td>\n",
       "    </tr>\n",
       "    <tr>\n",
       "      <th>288563</th>\n",
       "      <td>touch</td>\n",
       "      <td>2018-06-01 00:01:00</td>\n",
       "      <td>4</td>\n",
       "      <td>2018-05-31 23:37:00</td>\n",
       "      <td>1.094280e+18</td>\n",
       "    </tr>\n",
       "    <tr>\n",
       "      <th>299620</th>\n",
       "      <td>desktop</td>\n",
       "      <td>2018-06-01 00:04:00</td>\n",
       "      <td>4</td>\n",
       "      <td>2018-05-31 23:59:00</td>\n",
       "      <td>8.387280e+16</td>\n",
       "    </tr>\n",
       "    <tr>\n",
       "      <th>342205</th>\n",
       "      <td>touch</td>\n",
       "      <td>2018-06-01 01:26:00</td>\n",
       "      <td>1</td>\n",
       "      <td>2018-05-31 23:44:00</td>\n",
       "      <td>1.367080e+19</td>\n",
       "    </tr>\n",
       "  </tbody>\n",
       "</table>\n",
       "</div>"
      ],
      "text/plain": [
       "         device              end_ts  source_id            start_ts  \\\n",
       "2330    desktop 2018-06-01 00:05:00          2 2018-05-31 23:30:00   \n",
       "43215   desktop 2018-06-01 00:13:00          4 2018-05-31 23:46:00   \n",
       "46667   desktop 2018-06-01 00:13:00          5 2018-05-31 23:48:00   \n",
       "154728  desktop 2018-06-01 00:09:00          2 2018-05-31 22:52:00   \n",
       "198329  desktop 2018-06-01 00:11:00          3 2018-05-31 23:59:00   \n",
       "216791    touch 2018-06-01 00:06:00          5 2018-05-31 23:45:00   \n",
       "263781  desktop 2018-06-01 00:25:00          1 2018-05-31 23:59:00   \n",
       "269213    touch 2018-06-01 00:12:00         10 2018-05-31 23:59:00   \n",
       "288563    touch 2018-06-01 00:01:00          4 2018-05-31 23:37:00   \n",
       "299620  desktop 2018-06-01 00:04:00          4 2018-05-31 23:59:00   \n",
       "342205    touch 2018-06-01 01:26:00          1 2018-05-31 23:44:00   \n",
       "\n",
       "                 uid  \n",
       "2330    5.300690e+18  \n",
       "43215   1.229660e+19  \n",
       "46667   1.107130e+18  \n",
       "154728  1.248440e+19  \n",
       "198329  3.720370e+18  \n",
       "216791  9.951900e+18  \n",
       "263781  4.906560e+18  \n",
       "269213  1.072340e+19  \n",
       "288563  1.094280e+18  \n",
       "299620  8.387280e+16  \n",
       "342205  1.367080e+19  "
      ]
     },
     "execution_count": 15,
     "metadata": {},
     "output_type": "execute_result"
    }
   ],
   "source": [
    "visitas[visitas['end_ts'] > '2018-06-01']"
   ]
  },
  {
   "cell_type": "code",
   "execution_count": 16,
   "id": "269379fb-8f45-4787-b301-03d26671b00f",
   "metadata": {},
   "outputs": [
    {
     "name": "stdout",
     "output_type": "stream",
     "text": [
      "             Buy Ts  Revenue           Uid\n",
      "0  01/06/2017 00:10    17.00  1.032930e+19\n",
      "1  01/06/2017 00:25     0.55  1.162730e+19\n",
      "2  01/06/2017 00:27     0.37  1.790370e+19\n",
      "3  01/06/2017 00:29     0.55  1.610920e+19\n",
      "4  01/06/2017 07:58     0.37  1.420060e+19\n",
      "\n",
      "<class 'pandas.core.frame.DataFrame'>\n",
      "RangeIndex: 50415 entries, 0 to 50414\n",
      "Data columns (total 3 columns):\n",
      " #   Column   Non-Null Count  Dtype  \n",
      "---  ------   --------------  -----  \n",
      " 0   Buy Ts   50415 non-null  object \n",
      " 1   Revenue  50415 non-null  float64\n",
      " 2   Uid      50415 non-null  float64\n",
      "dtypes: float64(2), object(1)\n",
      "memory usage: 1.2+ MB\n",
      "None\n",
      "valores ausentes\n",
      "Buy Ts     0\n",
      "Revenue    0\n",
      "Uid        0\n",
      "dtype: int64\n",
      "\n",
      "filas duplicadas 0\n"
     ]
    }
   ],
   "source": [
    "analisis_exploratorio_df(ordenes)"
   ]
  },
  {
   "cell_type": "code",
   "execution_count": 18,
   "id": "ee42578d-2114-45e3-b886-c74b52fcd70a",
   "metadata": {},
   "outputs": [],
   "source": [
    "ordenes = limpiar_columnas(ordenes)"
   ]
  },
  {
   "cell_type": "code",
   "execution_count": 19,
   "id": "4fb747e8-c867-4f01-902e-ca16f66a4f87",
   "metadata": {},
   "outputs": [
    {
     "name": "stdout",
     "output_type": "stream",
     "text": [
      "<class 'pandas.core.frame.DataFrame'>\n",
      "RangeIndex: 50415 entries, 0 to 50414\n",
      "Data columns (total 3 columns):\n",
      " #   Column   Non-Null Count  Dtype  \n",
      "---  ------   --------------  -----  \n",
      " 0   buy_ts   50415 non-null  object \n",
      " 1   revenue  50415 non-null  float64\n",
      " 2   uid      50415 non-null  float64\n",
      "dtypes: float64(2), object(1)\n",
      "memory usage: 1.2+ MB\n"
     ]
    }
   ],
   "source": [
    "ordenes.info()"
   ]
  },
  {
   "cell_type": "code",
   "execution_count": 20,
   "id": "cea23c35-a677-4658-8264-45f2852988ec",
   "metadata": {},
   "outputs": [
    {
     "name": "stdout",
     "output_type": "stream",
     "text": [
      "valor_minimo en buy_ts: 2017-06-01 00:01:00\n",
      "valor_maximo en buy_ts:: 2018-05-31 23:59:00\n"
     ]
    }
   ],
   "source": [
    "print(f'valor_minimo en buy_ts: {visitas[\"start_ts\"].min()}')\n",
    "print(f'valor_maximo en buy_ts:: {visitas[\"start_ts\"].max()}')"
   ]
  },
  {
   "cell_type": "code",
   "execution_count": 21,
   "id": "cb1d9016-eaea-4a8d-a000-18b1a142e1aa",
   "metadata": {},
   "outputs": [
    {
     "name": "stdout",
     "output_type": "stream",
     "text": [
      "   source_id          dt  costs\n",
      "0          1  01/06/2017  75.20\n",
      "1          1  02/06/2017  62.25\n",
      "2          1  03/06/2017  36.53\n",
      "3          1  04/06/2017  55.00\n",
      "4          1  05/06/2017  57.08\n",
      "\n",
      "<class 'pandas.core.frame.DataFrame'>\n",
      "RangeIndex: 2542 entries, 0 to 2541\n",
      "Data columns (total 3 columns):\n",
      " #   Column     Non-Null Count  Dtype  \n",
      "---  ------     --------------  -----  \n",
      " 0   source_id  2542 non-null   int64  \n",
      " 1   dt         2542 non-null   object \n",
      " 2   costs      2542 non-null   float64\n",
      "dtypes: float64(1), int64(1), object(1)\n",
      "memory usage: 59.7+ KB\n",
      "None\n",
      "valores ausentes\n",
      "source_id    0\n",
      "dt           0\n",
      "costs        0\n",
      "dtype: int64\n",
      "\n",
      "filas duplicadas 0\n"
     ]
    }
   ],
   "source": [
    "analisis_exploratorio_df(costos)"
   ]
  },
  {
   "cell_type": "markdown",
   "id": "862dee4c",
   "metadata": {},
   "source": [
    "No existen valores nulo o duplicados solo tendriamos que poner la fecha en el formato correcto ya que este no tiene hora\n"
   ]
  },
  {
   "cell_type": "code",
   "execution_count": 22,
   "id": "e8410d13-04b8-43e9-b191-07dd209b72ce",
   "metadata": {},
   "outputs": [],
   "source": [
    "costos = limpiar_columnas(costos)"
   ]
  },
  {
   "cell_type": "code",
   "execution_count": 23,
   "id": "a5549e48-845f-4744-98ff-8112ace20dde",
   "metadata": {},
   "outputs": [
    {
     "name": "stdout",
     "output_type": "stream",
     "text": [
      "<class 'pandas.core.frame.DataFrame'>\n",
      "RangeIndex: 2542 entries, 0 to 2541\n",
      "Data columns (total 3 columns):\n",
      " #   Column     Non-Null Count  Dtype  \n",
      "---  ------     --------------  -----  \n",
      " 0   source_id  2542 non-null   int64  \n",
      " 1   dt         2542 non-null   object \n",
      " 2   costs      2542 non-null   float64\n",
      "dtypes: float64(1), int64(1), object(1)\n",
      "memory usage: 59.7+ KB\n"
     ]
    }
   ],
   "source": [
    "costos.info()"
   ]
  },
  {
   "cell_type": "code",
   "execution_count": 24,
   "id": "00804a9d-e8d5-4bd3-b9b0-807cca4ac137",
   "metadata": {},
   "outputs": [
    {
     "data": {
      "text/html": [
       "<div>\n",
       "<style scoped>\n",
       "    .dataframe tbody tr th:only-of-type {\n",
       "        vertical-align: middle;\n",
       "    }\n",
       "\n",
       "    .dataframe tbody tr th {\n",
       "        vertical-align: top;\n",
       "    }\n",
       "\n",
       "    .dataframe thead th {\n",
       "        text-align: right;\n",
       "    }\n",
       "</style>\n",
       "<table border=\"1\" class=\"dataframe\">\n",
       "  <thead>\n",
       "    <tr style=\"text-align: right;\">\n",
       "      <th></th>\n",
       "      <th>source_id</th>\n",
       "      <th>dt</th>\n",
       "      <th>costs</th>\n",
       "    </tr>\n",
       "  </thead>\n",
       "  <tbody>\n",
       "    <tr>\n",
       "      <th>0</th>\n",
       "      <td>1</td>\n",
       "      <td>01/06/2017</td>\n",
       "      <td>75.20</td>\n",
       "    </tr>\n",
       "    <tr>\n",
       "      <th>1</th>\n",
       "      <td>1</td>\n",
       "      <td>02/06/2017</td>\n",
       "      <td>62.25</td>\n",
       "    </tr>\n",
       "    <tr>\n",
       "      <th>2</th>\n",
       "      <td>1</td>\n",
       "      <td>03/06/2017</td>\n",
       "      <td>36.53</td>\n",
       "    </tr>\n",
       "    <tr>\n",
       "      <th>3</th>\n",
       "      <td>1</td>\n",
       "      <td>04/06/2017</td>\n",
       "      <td>55.00</td>\n",
       "    </tr>\n",
       "    <tr>\n",
       "      <th>4</th>\n",
       "      <td>1</td>\n",
       "      <td>05/06/2017</td>\n",
       "      <td>57.08</td>\n",
       "    </tr>\n",
       "  </tbody>\n",
       "</table>\n",
       "</div>"
      ],
      "text/plain": [
       "   source_id          dt  costs\n",
       "0          1  01/06/2017  75.20\n",
       "1          1  02/06/2017  62.25\n",
       "2          1  03/06/2017  36.53\n",
       "3          1  04/06/2017  55.00\n",
       "4          1  05/06/2017  57.08"
      ]
     },
     "execution_count": 24,
     "metadata": {},
     "output_type": "execute_result"
    }
   ],
   "source": [
    "costos.head()"
   ]
  },
  {
   "cell_type": "code",
   "execution_count": 25,
   "id": "6b93add6-75e4-47ba-9bb5-98e784ebd81e",
   "metadata": {},
   "outputs": [],
   "source": [
    "costos['dt'] = pd.to_datetime(costos['dt'], format='%d/%m/%Y')"
   ]
  },
  {
   "cell_type": "code",
   "execution_count": 26,
   "id": "711765ab-c083-454a-aee0-64ff1c5912c3",
   "metadata": {},
   "outputs": [
    {
     "name": "stdout",
     "output_type": "stream",
     "text": [
      "valor_minimo en dt: 2017-06-01 00:00:00\n",
      "valor_maximo en dt: 2018-05-31 00:00:00\n"
     ]
    }
   ],
   "source": [
    "print(f'valor_minimo en dt: {costos[\"dt\"].min()}')\n",
    "print(f'valor_maximo en dt: {costos[\"dt\"].max()}')"
   ]
  },
  {
   "cell_type": "code",
   "execution_count": 27,
   "id": "1cfba3e9-2217-4f97-8cc8-a33e4642eb15",
   "metadata": {},
   "outputs": [],
   "source": [
    "visitas['sesion_mes'] = visitas['start_ts'].dt.month\n",
    "visitas['sesion_week'] = visitas['start_ts'].dt.isocalendar().week\n",
    "visitas['sesion_fecha'] = visitas['start_ts'].dt.date"
   ]
  },
  {
   "cell_type": "code",
   "execution_count": 28,
   "id": "24f2a7f4-8c90-400f-bc71-58c99df151dc",
   "metadata": {},
   "outputs": [
    {
     "data": {
      "text/html": [
       "<div>\n",
       "<style scoped>\n",
       "    .dataframe tbody tr th:only-of-type {\n",
       "        vertical-align: middle;\n",
       "    }\n",
       "\n",
       "    .dataframe tbody tr th {\n",
       "        vertical-align: top;\n",
       "    }\n",
       "\n",
       "    .dataframe thead th {\n",
       "        text-align: right;\n",
       "    }\n",
       "</style>\n",
       "<table border=\"1\" class=\"dataframe\">\n",
       "  <thead>\n",
       "    <tr style=\"text-align: right;\">\n",
       "      <th></th>\n",
       "      <th>device</th>\n",
       "      <th>end_ts</th>\n",
       "      <th>source_id</th>\n",
       "      <th>start_ts</th>\n",
       "      <th>uid</th>\n",
       "      <th>sesion_mes</th>\n",
       "      <th>sesion_week</th>\n",
       "      <th>sesion_fecha</th>\n",
       "    </tr>\n",
       "  </thead>\n",
       "  <tbody>\n",
       "    <tr>\n",
       "      <th>0</th>\n",
       "      <td>touch</td>\n",
       "      <td>2017-12-20 17:38:00</td>\n",
       "      <td>4</td>\n",
       "      <td>2017-12-20 17:20:00</td>\n",
       "      <td>1.687930e+19</td>\n",
       "      <td>12</td>\n",
       "      <td>51</td>\n",
       "      <td>2017-12-20</td>\n",
       "    </tr>\n",
       "    <tr>\n",
       "      <th>1</th>\n",
       "      <td>desktop</td>\n",
       "      <td>2018-02-19 17:21:00</td>\n",
       "      <td>2</td>\n",
       "      <td>2018-02-19 16:53:00</td>\n",
       "      <td>1.040600e+17</td>\n",
       "      <td>2</td>\n",
       "      <td>8</td>\n",
       "      <td>2018-02-19</td>\n",
       "    </tr>\n",
       "    <tr>\n",
       "      <th>2</th>\n",
       "      <td>touch</td>\n",
       "      <td>2017-07-01 01:54:00</td>\n",
       "      <td>5</td>\n",
       "      <td>2017-07-01 01:54:00</td>\n",
       "      <td>7.459040e+18</td>\n",
       "      <td>7</td>\n",
       "      <td>26</td>\n",
       "      <td>2017-07-01</td>\n",
       "    </tr>\n",
       "    <tr>\n",
       "      <th>3</th>\n",
       "      <td>desktop</td>\n",
       "      <td>2018-05-20 11:23:00</td>\n",
       "      <td>9</td>\n",
       "      <td>2018-05-20 10:59:00</td>\n",
       "      <td>1.617470e+19</td>\n",
       "      <td>5</td>\n",
       "      <td>20</td>\n",
       "      <td>2018-05-20</td>\n",
       "    </tr>\n",
       "    <tr>\n",
       "      <th>4</th>\n",
       "      <td>desktop</td>\n",
       "      <td>2017-12-27 14:06:00</td>\n",
       "      <td>3</td>\n",
       "      <td>2017-12-27 14:06:00</td>\n",
       "      <td>9.969690e+18</td>\n",
       "      <td>12</td>\n",
       "      <td>52</td>\n",
       "      <td>2017-12-27</td>\n",
       "    </tr>\n",
       "  </tbody>\n",
       "</table>\n",
       "</div>"
      ],
      "text/plain": [
       "    device              end_ts  source_id            start_ts           uid  \\\n",
       "0    touch 2017-12-20 17:38:00          4 2017-12-20 17:20:00  1.687930e+19   \n",
       "1  desktop 2018-02-19 17:21:00          2 2018-02-19 16:53:00  1.040600e+17   \n",
       "2    touch 2017-07-01 01:54:00          5 2017-07-01 01:54:00  7.459040e+18   \n",
       "3  desktop 2018-05-20 11:23:00          9 2018-05-20 10:59:00  1.617470e+19   \n",
       "4  desktop 2017-12-27 14:06:00          3 2017-12-27 14:06:00  9.969690e+18   \n",
       "\n",
       "   sesion_mes  sesion_week sesion_fecha  \n",
       "0          12           51   2017-12-20  \n",
       "1           2            8   2018-02-19  \n",
       "2           7           26   2017-07-01  \n",
       "3           5           20   2018-05-20  \n",
       "4          12           52   2017-12-27  "
      ]
     },
     "execution_count": 28,
     "metadata": {},
     "output_type": "execute_result"
    }
   ],
   "source": [
    "visitas.head()"
   ]
  },
  {
   "cell_type": "markdown",
   "id": "3aa060b0",
   "metadata": {},
   "source": [
    "Se analizan las visitas por semana, dia y por mes por uid para tener un cohorte y mostrar cuales la cantidad de sesiones unicas por usuario con respecto a estas fechas"
   ]
  },
  {
   "cell_type": "code",
   "execution_count": 29,
   "id": "31efbb48-2a27-49f4-9c01-24f7bab22980",
   "metadata": {},
   "outputs": [],
   "source": [
    "visitas_agregadas_por_dia = visitas.groupby('sesion_fecha')['uid'].nunique().sort_index()"
   ]
  },
  {
   "cell_type": "code",
   "execution_count": 30,
   "id": "49d2d52e-f58a-49c2-b596-f65d3c12d513",
   "metadata": {},
   "outputs": [
    {
     "data": {
      "text/plain": [
       "sesion_fecha\n",
       "2017-06-01     604\n",
       "2017-06-02     607\n",
       "2017-06-03     445\n",
       "2017-06-04     475\n",
       "2017-06-05     820\n",
       "              ... \n",
       "2018-05-27     620\n",
       "2018-05-28    1036\n",
       "2018-05-29     946\n",
       "2018-05-30    1287\n",
       "2018-05-31    1990\n",
       "Name: uid, Length: 364, dtype: int64"
      ]
     },
     "execution_count": 30,
     "metadata": {},
     "output_type": "execute_result"
    }
   ],
   "source": [
    "visitas_agregadas_por_dia"
   ]
  },
  {
   "cell_type": "code",
   "execution_count": 31,
   "id": "5232d776-8012-40a1-9c53-9292b8bd09ee",
   "metadata": {},
   "outputs": [],
   "source": [
    "#en esta tabla podemos observar el numero de usuraios unicos que visitaron la pagina por dia "
   ]
  },
  {
   "cell_type": "code",
   "execution_count": 32,
   "id": "6233406e-cf85-4ba8-81cd-145bba2cd94c",
   "metadata": {},
   "outputs": [
    {
     "data": {
      "text/plain": [
       "sesion_week\n",
       "47    10430\n",
       "49     8314\n",
       "50     8128\n",
       "48     8072\n",
       "46     8039\n",
       "5      8015\n",
       "12     7832\n",
       "6      7815\n",
       "52     7693\n",
       "7      7680\n",
       "40     7538\n",
       "8      7437\n",
       "44     7403\n",
       "43     7353\n",
       "9      7343\n",
       "45     7113\n",
       "51     7095\n",
       "42     7080\n",
       "41     7003\n",
       "4      6989\n",
       "3      6907\n",
       "1      6847\n",
       "22     6802\n",
       "10     6786\n",
       "2      6642\n",
       "39     6182\n",
       "11     6181\n",
       "16     5692\n",
       "17     5461\n",
       "15     5460\n",
       "14     5342\n",
       "20     5038\n",
       "21     4966\n",
       "13     4913\n",
       "38     4840\n",
       "36     4385\n",
       "28     4325\n",
       "37     4296\n",
       "23     4112\n",
       "19     4105\n",
       "18     3889\n",
       "29     3813\n",
       "35     3678\n",
       "27     3281\n",
       "34     3106\n",
       "26     3055\n",
       "25     2870\n",
       "24     2806\n",
       "33     2737\n",
       "30     2648\n",
       "32     2436\n",
       "31     2354\n",
       "Name: uid, dtype: int64"
      ]
     },
     "execution_count": 32,
     "metadata": {},
     "output_type": "execute_result"
    }
   ],
   "source": [
    "visitas_agregadas_por_semana = visitas.groupby('sesion_week')['uid'].nunique().sort_index()\n",
    "visitas_agregadas_por_semana.sort_values(ascending=False)"
   ]
  },
  {
   "cell_type": "code",
   "execution_count": 33,
   "id": "fef869a4-5ac8-429f-a4b1-84d3cceeb8d4",
   "metadata": {},
   "outputs": [
    {
     "data": {
      "text/plain": [
       "sesion_mes\n",
       "1     27617\n",
       "2     27635\n",
       "3     26510\n",
       "4     20393\n",
       "5     20135\n",
       "6     13046\n",
       "7     13915\n",
       "8     11475\n",
       "9     18508\n",
       "10    28520\n",
       "11    31461\n",
       "12    30240\n",
       "Name: uid, dtype: int64"
      ]
     },
     "execution_count": 33,
     "metadata": {},
     "output_type": "execute_result"
    }
   ],
   "source": [
    "visitas_agregadas_por_mes = visitas.groupby('sesion_mes')['uid'].nunique().sort_index()\n",
    "visitas_agregadas_por_mes"
   ]
  },
  {
   "cell_type": "markdown",
   "id": "21b670ea",
   "metadata": {},
   "source": [
    "en esta tabla podemos observar los usuarios unicos por mes donde 1 = enero y asi consecutivamente, en el cual encontramos que el mes 12 existen mas visitas en la pagina\n"
   ]
  },
  {
   "cell_type": "code",
   "execution_count": 34,
   "id": "a49756c6-51e5-43c7-bcd9-7bfd48d672f5",
   "metadata": {},
   "outputs": [
    {
     "name": "stdout",
     "output_type": "stream",
     "text": [
      "Promedio de visitadores por dia: 906.6401098901099\n",
      "Promedio de visitadores por week: 5775.5192307692305\n",
      "Promedio de visitadores por mes: 22454.583333333332\n"
     ]
    }
   ],
   "source": [
    "print('Promedio de visitadores por dia:',  visitas_agregadas_por_dia.mean())\n",
    "print('Promedio de visitadores por week:',  visitas_agregadas_por_semana.mean())\n",
    "print('Promedio de visitadores por mes:',  visitas_agregadas_por_mes.mean())"
   ]
  },
  {
   "cell_type": "code",
   "execution_count": 35,
   "id": "fb3e7e33-0a5f-4fd7-9f15-57a4a82c230e",
   "metadata": {},
   "outputs": [
    {
     "data": {
      "image/png": "[encoded data removed]",
      "text/plain": [
       "<Figure size 1900x500 with 3 Axes>"
      ]
     },
     "metadata": {},
     "output_type": "display_data"
    }
   ],
   "source": [
    "fig, ax= plt.subplots(1,3,  figsize=(19,5))\n",
    "\n",
    "ax[0].plot(visitas_agregadas_por_dia)\n",
    "ax[0].set(title = 'VAD', xlabel='dia', ylabel='usuarios')\n",
    "ax[1].plot(visitas_agregadas_por_semana)\n",
    "ax[1].set(title = 'VAD', xlabel='semana', ylabel='usuarios')\n",
    "ax[2].plot(visitas_agregadas_por_mes)\n",
    "ax[2].set(title = 'VAD', xlabel='mes', ylabel='usuarios')\n",
    "fig.autofmt_xdate(rotation=30)\n",
    "plt.show()\n"
   ]
  },
  {
   "cell_type": "markdown",
   "id": "9fb4ccda",
   "metadata": {},
   "source": [
    "en las graficas pordemos observar que los datos no son muy constantes ya que las visitas varian atraves del tiempo \n",
    "para el caso de la grafica diaria podemos observar que atraves del tiempo aunemta el numero de visitas del 2017 al 2018\n",
    "#si analizamos los datos por semana esta tiende a las misma tendencia diaria sin embargo aqui si se puede notar mas la caida y la alza de visitas\n",
    "En la grafica por me podemos observar que durante el periodo trabajado el punto maximo se encuentra en el mes 11 mientras que el minimo se encuentra en el mes 18 \n",
    "debido a que no tenemos informacion suficiente o extarna de los datos podemos poner por ejemplo que apartir del mes 10 hasta inicio del mes 1 la visita de la pagina suele aumentar "
   ]
  },
  {
   "cell_type": "code",
   "execution_count": 36,
   "id": "6bbfe016-12c0-401e-ac48-95c64cd62c3b",
   "metadata": {},
   "outputs": [],
   "source": [
    "sesiones_por_usuarios = visitas.groupby('sesion_fecha')['uid'].agg(['count', 'nunique'])\n",
    "#cambiamos el nombre de las columnas\n",
    "sesiones_por_usuarios.columns=['n_sesiones', 'n_usuarios']"
   ]
  },
  {
   "cell_type": "code",
   "execution_count": 37,
   "id": "cf30f6cc-b967-4906-85cf-8fd32f0067f4",
   "metadata": {},
   "outputs": [
    {
     "data": {
      "text/html": [
       "<div>\n",
       "<style scoped>\n",
       "    .dataframe tbody tr th:only-of-type {\n",
       "        vertical-align: middle;\n",
       "    }\n",
       "\n",
       "    .dataframe tbody tr th {\n",
       "        vertical-align: top;\n",
       "    }\n",
       "\n",
       "    .dataframe thead th {\n",
       "        text-align: right;\n",
       "    }\n",
       "</style>\n",
       "<table border=\"1\" class=\"dataframe\">\n",
       "  <thead>\n",
       "    <tr style=\"text-align: right;\">\n",
       "      <th></th>\n",
       "      <th>n_sesiones</th>\n",
       "      <th>n_usuarios</th>\n",
       "    </tr>\n",
       "    <tr>\n",
       "      <th>sesion_fecha</th>\n",
       "      <th></th>\n",
       "      <th></th>\n",
       "    </tr>\n",
       "  </thead>\n",
       "  <tbody>\n",
       "    <tr>\n",
       "      <th>2017-06-01</th>\n",
       "      <td>664</td>\n",
       "      <td>604</td>\n",
       "    </tr>\n",
       "    <tr>\n",
       "      <th>2017-06-02</th>\n",
       "      <td>658</td>\n",
       "      <td>607</td>\n",
       "    </tr>\n",
       "    <tr>\n",
       "      <th>2017-06-03</th>\n",
       "      <td>477</td>\n",
       "      <td>445</td>\n",
       "    </tr>\n",
       "    <tr>\n",
       "      <th>2017-06-04</th>\n",
       "      <td>510</td>\n",
       "      <td>475</td>\n",
       "    </tr>\n",
       "    <tr>\n",
       "      <th>2017-06-05</th>\n",
       "      <td>893</td>\n",
       "      <td>820</td>\n",
       "    </tr>\n",
       "    <tr>\n",
       "      <th>...</th>\n",
       "      <td>...</td>\n",
       "      <td>...</td>\n",
       "    </tr>\n",
       "    <tr>\n",
       "      <th>2018-05-27</th>\n",
       "      <td>672</td>\n",
       "      <td>620</td>\n",
       "    </tr>\n",
       "    <tr>\n",
       "      <th>2018-05-28</th>\n",
       "      <td>1156</td>\n",
       "      <td>1036</td>\n",
       "    </tr>\n",
       "    <tr>\n",
       "      <th>2018-05-29</th>\n",
       "      <td>1035</td>\n",
       "      <td>946</td>\n",
       "    </tr>\n",
       "    <tr>\n",
       "      <th>2018-05-30</th>\n",
       "      <td>1410</td>\n",
       "      <td>1287</td>\n",
       "    </tr>\n",
       "    <tr>\n",
       "      <th>2018-05-31</th>\n",
       "      <td>2256</td>\n",
       "      <td>1990</td>\n",
       "    </tr>\n",
       "  </tbody>\n",
       "</table>\n",
       "<p>364 rows × 2 columns</p>\n",
       "</div>"
      ],
      "text/plain": [
       "              n_sesiones  n_usuarios\n",
       "sesion_fecha                        \n",
       "2017-06-01           664         604\n",
       "2017-06-02           658         607\n",
       "2017-06-03           477         445\n",
       "2017-06-04           510         475\n",
       "2017-06-05           893         820\n",
       "...                  ...         ...\n",
       "2018-05-27           672         620\n",
       "2018-05-28          1156        1036\n",
       "2018-05-29          1035         946\n",
       "2018-05-30          1410        1287\n",
       "2018-05-31          2256        1990\n",
       "\n",
       "[364 rows x 2 columns]"
      ]
     },
     "execution_count": 37,
     "metadata": {},
     "output_type": "execute_result"
    }
   ],
   "source": [
    "sesiones_por_usuarios"
   ]
  },
  {
   "cell_type": "code",
   "execution_count": 38,
   "id": "73409827-e9ea-4196-b6fb-7f1b34cc282f",
   "metadata": {},
   "outputs": [],
   "source": [
    "# en la tabla podemos observar que en count encontramos la cantidad de usuarios en esa fecha y en nunique los usuarios unicos (que no se repiten) es decir los usuarios totales en esa fecha"
   ]
  },
  {
   "cell_type": "code",
   "execution_count": 39,
   "id": "38d887a9-feaa-477a-b7f2-fa3d910c0f1a",
   "metadata": {},
   "outputs": [],
   "source": [
    "sesiones_por_usuarios['sesiones_por_usuarios'] = sesiones_por_usuarios['n_sesiones'] / sesiones_por_usuarios['n_usuarios']"
   ]
  },
  {
   "cell_type": "code",
   "execution_count": 40,
   "id": "7a771a69-8ddd-488b-af5e-3562585a8674",
   "metadata": {},
   "outputs": [
    {
     "data": {
      "text/plain": [
       "[Text(0.5, 1.0, 'sesiones_por_usuarios'),\n",
       " Text(0.5, 0, 'fecha'),\n",
       " Text(0, 0.5, 'Cantidad de sesiones')]"
      ]
     },
     "execution_count": 40,
     "metadata": {},
     "output_type": "execute_result"
    },
    {
     "data": {
      "image/png": "[encoded data removed]",
      "text/plain": [
       "<Figure size 640x480 with 1 Axes>"
      ]
     },
     "metadata": {},
     "output_type": "display_data"
    }
   ],
   "source": [
    "plt.figsize=(12,5)\n",
    "sesiones_por_usuarios['sesiones_por_usuarios'].plot().set(title = 'sesiones_por_usuarios', xlabel = 'fecha', ylabel='Cantidad de sesiones')"
   ]
  },
  {
   "cell_type": "code",
   "execution_count": 41,
   "id": "577fe3a1-5c6d-41ab-876e-6a70300f620b",
   "metadata": {},
   "outputs": [
    {
     "name": "stdout",
     "output_type": "stream",
     "text": [
      "El promedio de sesiones por usuarios es de: 1.08\n"
     ]
    }
   ],
   "source": [
    "print('El promedio de sesiones por usuarios es de:', round(sesiones_por_usuarios['sesiones_por_usuarios'].mean(), 2))\n",
    "#print('El promedio de sesiones por usuarios es de:', round(sesiones_por_usuarios['sesiones_por_usuarios'].mean(), 2))"
   ]
  },
  {
   "cell_type": "code",
   "execution_count": 42,
   "id": "3186cd01-8fec-4ccb-ab0b-87b15112c80f",
   "metadata": {},
   "outputs": [
    {
     "data": {
      "text/plain": [
       "count    359400.000000\n",
       "mean        643.460601\n",
       "std        1016.363410\n",
       "min           0.000000\n",
       "25%         120.000000\n",
       "50%         300.000000\n",
       "75%         840.000000\n",
       "max       84480.000000\n",
       "Name: duracion_sesion, dtype: float64"
      ]
     },
     "execution_count": 42,
     "metadata": {},
     "output_type": "execute_result"
    }
   ],
   "source": [
    "visitas['duracion_sesion'] = (visitas['end_ts'] - visitas['start_ts']).dt.seconds\n",
    "visitas['duracion_sesion'].describe()"
   ]
  },
  {
   "cell_type": "markdown",
   "id": "bf770bc0",
   "metadata": {},
   "source": [
    "la duracion de la sesion promedio es de 10.72 minutos mientras que la mayor es de 23.46 horas"
   ]
  },
  {
   "cell_type": "code",
   "execution_count": 43,
   "id": "80907365-81b8-4354-ae15-346b118292c9",
   "metadata": {},
   "outputs": [
    {
     "data": {
      "image/png": "[encoded data removed]",
      "text/plain": [
       "<Figure size 1200x500 with 1 Axes>"
      ]
     },
     "metadata": {},
     "output_type": "display_data"
    }
   ],
   "source": [
    "plt.figure(figsize=(12,5))\n",
    "visitas['duracion_sesion'].hist(bins=300).set(title='Distribucion de la duracion por sesiones', xlabel='Duracion (Segundos)', ylabel='Cantidad por sesiones')\n",
    "plt.xlim(0,10000)\n",
    "plt.show()"
   ]
  },
  {
   "cell_type": "code",
   "execution_count": 44,
   "id": "32db8f38-5b80-4e62-88a6-bca104c2afbd",
   "metadata": {},
   "outputs": [
    {
     "name": "stdout",
     "output_type": "stream",
     "text": [
      "El promedio de la duracion por usuarios es de: 11\n",
      "La media de la duracion por usuarios es de: 5\n",
      "La moda de la duracion por usuarios es de: 1\n"
     ]
    }
   ],
   "source": [
    "print('El promedio de la duracion por usuarios es de:', round(visitas['duracion_sesion'].mean()/60))\n",
    "print('La media de la duracion por usuarios es de:', round(visitas['duracion_sesion'].median()/60))\n",
    "print('La moda de la duracion por usuarios es de:', round(visitas['duracion_sesion'].mode()[0]/60))"
   ]
  },
  {
   "cell_type": "markdown",
   "id": "10b472bb",
   "metadata": {},
   "source": [
    "La grafica nos muestra la distribucion entre la duracion de segundos por la cantidad de sesiones unicas por usuarios de los cual deducimos  que:\n",
    "El promedio de la duracion por usuarios es de: 11\n",
    "La media de la duracion por usuarios es de: 5\n",
    "La moda de la duracion por usuarios es de: 1\n",
    "Estos datos nos dicen que la mitad de la durarcion por sesion de usuario es menor a 5 min y la otra mitad es mayor a esta"
   ]
  },
  {
   "cell_type": "code",
   "execution_count": 45,
   "id": "fb58b684-c53a-40cf-9a42-8783591b8d17",
   "metadata": {},
   "outputs": [
    {
     "data": {
      "text/plain": [
       "<Axes: >"
      ]
     },
     "execution_count": 45,
     "metadata": {},
     "output_type": "execute_result"
    },
    {
     "data": {
      "image/png": "[encoded data removed]",
      "text/plain": [
       "<Figure size 640x480 with 1 Axes>"
      ]
     },
     "metadata": {},
     "output_type": "display_data"
    }
   ],
   "source": [
    "sns.boxplot(visitas['duracion_sesion'])"
   ]
  },
  {
   "cell_type": "markdown",
   "id": "186a4176",
   "metadata": {},
   "source": [
    "En el grafico de cajas podemos encontrar los outliers con mejor visualizacion, y podemos encontrar que existen usuarios que visitan por mucho tiempo la pagina, tomando como referencia la tabla donde obtuvimos la duracion por segundos \n",
    "#deducimos que existe un usuario que visito la pagina durante 84,480 segundos"
   ]
  },
  {
   "cell_type": "code",
   "execution_count": 46,
   "id": "1dca6b3e-2ae6-442f-8bf8-591a55a227cf",
   "metadata": {},
   "outputs": [
    {
     "data": {
      "text/html": [
       "<div>\n",
       "<style scoped>\n",
       "    .dataframe tbody tr th:only-of-type {\n",
       "        vertical-align: middle;\n",
       "    }\n",
       "\n",
       "    .dataframe tbody tr th {\n",
       "        vertical-align: top;\n",
       "    }\n",
       "\n",
       "    .dataframe thead th {\n",
       "        text-align: right;\n",
       "    }\n",
       "</style>\n",
       "<table border=\"1\" class=\"dataframe\">\n",
       "  <thead>\n",
       "    <tr style=\"text-align: right;\">\n",
       "      <th></th>\n",
       "      <th>uid</th>\n",
       "      <th>primera_sesion</th>\n",
       "    </tr>\n",
       "  </thead>\n",
       "  <tbody>\n",
       "    <tr>\n",
       "      <th>0</th>\n",
       "      <td>1.186350e+13</td>\n",
       "      <td>2018-03-01 17:27:00</td>\n",
       "    </tr>\n",
       "    <tr>\n",
       "      <th>1</th>\n",
       "      <td>4.953710e+13</td>\n",
       "      <td>2018-02-06 15:55:00</td>\n",
       "    </tr>\n",
       "    <tr>\n",
       "      <th>2</th>\n",
       "      <td>2.977290e+14</td>\n",
       "      <td>2017-06-07 18:47:00</td>\n",
       "    </tr>\n",
       "    <tr>\n",
       "      <th>3</th>\n",
       "      <td>3.135780e+14</td>\n",
       "      <td>2017-09-18 22:49:00</td>\n",
       "    </tr>\n",
       "    <tr>\n",
       "      <th>4</th>\n",
       "      <td>3.253210e+14</td>\n",
       "      <td>2017-09-30 14:29:00</td>\n",
       "    </tr>\n",
       "    <tr>\n",
       "      <th>...</th>\n",
       "      <td>...</td>\n",
       "      <td>...</td>\n",
       "    </tr>\n",
       "    <tr>\n",
       "      <th>176791</th>\n",
       "      <td>1.844620e+19</td>\n",
       "      <td>2017-10-17 10:05:00</td>\n",
       "    </tr>\n",
       "    <tr>\n",
       "      <th>176792</th>\n",
       "      <td>1.844630e+19</td>\n",
       "      <td>2018-02-26 10:14:00</td>\n",
       "    </tr>\n",
       "    <tr>\n",
       "      <th>176793</th>\n",
       "      <td>1.844640e+19</td>\n",
       "      <td>2017-11-30 03:36:00</td>\n",
       "    </tr>\n",
       "    <tr>\n",
       "      <th>176794</th>\n",
       "      <td>1.844660e+19</td>\n",
       "      <td>2017-12-27 13:27:00</td>\n",
       "    </tr>\n",
       "    <tr>\n",
       "      <th>176795</th>\n",
       "      <td>1.844670e+19</td>\n",
       "      <td>2017-10-04 16:01:00</td>\n",
       "    </tr>\n",
       "  </tbody>\n",
       "</table>\n",
       "<p>176796 rows × 2 columns</p>\n",
       "</div>"
      ],
      "text/plain": [
       "                 uid      primera_sesion\n",
       "0       1.186350e+13 2018-03-01 17:27:00\n",
       "1       4.953710e+13 2018-02-06 15:55:00\n",
       "2       2.977290e+14 2017-06-07 18:47:00\n",
       "3       3.135780e+14 2017-09-18 22:49:00\n",
       "4       3.253210e+14 2017-09-30 14:29:00\n",
       "...              ...                 ...\n",
       "176791  1.844620e+19 2017-10-17 10:05:00\n",
       "176792  1.844630e+19 2018-02-26 10:14:00\n",
       "176793  1.844640e+19 2017-11-30 03:36:00\n",
       "176794  1.844660e+19 2017-12-27 13:27:00\n",
       "176795  1.844670e+19 2017-10-04 16:01:00\n",
       "\n",
       "[176796 rows x 2 columns]"
      ]
     },
     "execution_count": 46,
     "metadata": {},
     "output_type": "execute_result"
    }
   ],
   "source": [
    "primeras_visitas = visitas.groupby('uid')['start_ts'].min().reset_index()\n",
    "primeras_visitas.columns= ['uid', 'primera_sesion']\n",
    "primeras_visitas"
   ]
  },
  {
   "cell_type": "code",
   "execution_count": 47,
   "id": "c1ce2db2-3c47-4404-9b1d-2b96ca60984c",
   "metadata": {},
   "outputs": [
    {
     "data": {
      "text/html": [
       "<div>\n",
       "<style scoped>\n",
       "    .dataframe tbody tr th:only-of-type {\n",
       "        vertical-align: middle;\n",
       "    }\n",
       "\n",
       "    .dataframe tbody tr th {\n",
       "        vertical-align: top;\n",
       "    }\n",
       "\n",
       "    .dataframe thead th {\n",
       "        text-align: right;\n",
       "    }\n",
       "</style>\n",
       "<table border=\"1\" class=\"dataframe\">\n",
       "  <thead>\n",
       "    <tr style=\"text-align: right;\">\n",
       "      <th></th>\n",
       "      <th>uid</th>\n",
       "      <th>primera_sesion</th>\n",
       "      <th>primera_sesion_fecha</th>\n",
       "      <th>primera_sesion_mes</th>\n",
       "    </tr>\n",
       "  </thead>\n",
       "  <tbody>\n",
       "    <tr>\n",
       "      <th>0</th>\n",
       "      <td>1.186350e+13</td>\n",
       "      <td>2018-03-01 17:27:00</td>\n",
       "      <td>2018-03-01</td>\n",
       "      <td>3</td>\n",
       "    </tr>\n",
       "    <tr>\n",
       "      <th>1</th>\n",
       "      <td>4.953710e+13</td>\n",
       "      <td>2018-02-06 15:55:00</td>\n",
       "      <td>2018-02-06</td>\n",
       "      <td>2</td>\n",
       "    </tr>\n",
       "    <tr>\n",
       "      <th>2</th>\n",
       "      <td>2.977290e+14</td>\n",
       "      <td>2017-06-07 18:47:00</td>\n",
       "      <td>2017-06-07</td>\n",
       "      <td>6</td>\n",
       "    </tr>\n",
       "    <tr>\n",
       "      <th>3</th>\n",
       "      <td>3.135780e+14</td>\n",
       "      <td>2017-09-18 22:49:00</td>\n",
       "      <td>2017-09-18</td>\n",
       "      <td>9</td>\n",
       "    </tr>\n",
       "    <tr>\n",
       "      <th>4</th>\n",
       "      <td>3.253210e+14</td>\n",
       "      <td>2017-09-30 14:29:00</td>\n",
       "      <td>2017-09-30</td>\n",
       "      <td>9</td>\n",
       "    </tr>\n",
       "  </tbody>\n",
       "</table>\n",
       "</div>"
      ],
      "text/plain": [
       "            uid      primera_sesion primera_sesion_fecha  primera_sesion_mes\n",
       "0  1.186350e+13 2018-03-01 17:27:00           2018-03-01                   3\n",
       "1  4.953710e+13 2018-02-06 15:55:00           2018-02-06                   2\n",
       "2  2.977290e+14 2017-06-07 18:47:00           2017-06-07                   6\n",
       "3  3.135780e+14 2017-09-18 22:49:00           2017-09-18                   9\n",
       "4  3.253210e+14 2017-09-30 14:29:00           2017-09-30                   9"
      ]
     },
     "execution_count": 47,
     "metadata": {},
     "output_type": "execute_result"
    }
   ],
   "source": [
    "primeras_visitas['primera_sesion_fecha'] = primeras_visitas['primera_sesion'].dt.date\n",
    "primeras_visitas['primera_sesion_mes'] = primeras_visitas['primera_sesion'].dt.month\n",
    "primeras_visitas.head()"
   ]
  },
  {
   "cell_type": "code",
   "execution_count": 48,
   "id": "4db3ffd8-7155-4f85-8e6b-a3f1d0a1c073",
   "metadata": {},
   "outputs": [
    {
     "data": {
      "text/html": [
       "<div>\n",
       "<style scoped>\n",
       "    .dataframe tbody tr th:only-of-type {\n",
       "        vertical-align: middle;\n",
       "    }\n",
       "\n",
       "    .dataframe tbody tr th {\n",
       "        vertical-align: top;\n",
       "    }\n",
       "\n",
       "    .dataframe thead th {\n",
       "        text-align: right;\n",
       "    }\n",
       "</style>\n",
       "<table border=\"1\" class=\"dataframe\">\n",
       "  <thead>\n",
       "    <tr style=\"text-align: right;\">\n",
       "      <th></th>\n",
       "      <th>uid</th>\n",
       "      <th>primera_sesion</th>\n",
       "      <th>primera_sesion_fecha</th>\n",
       "      <th>primera_sesion_mes</th>\n",
       "      <th>device</th>\n",
       "      <th>end_ts</th>\n",
       "      <th>source_id</th>\n",
       "      <th>start_ts</th>\n",
       "      <th>sesion_mes</th>\n",
       "      <th>sesion_week</th>\n",
       "      <th>sesion_fecha</th>\n",
       "      <th>duracion_sesion</th>\n",
       "    </tr>\n",
       "  </thead>\n",
       "  <tbody>\n",
       "    <tr>\n",
       "      <th>0</th>\n",
       "      <td>1.186350e+13</td>\n",
       "      <td>2018-03-01 17:27:00</td>\n",
       "      <td>2018-03-01</td>\n",
       "      <td>3</td>\n",
       "      <td>touch</td>\n",
       "      <td>2018-03-01 17:33:00</td>\n",
       "      <td>3</td>\n",
       "      <td>2018-03-01 17:27:00</td>\n",
       "      <td>3</td>\n",
       "      <td>9</td>\n",
       "      <td>2018-03-01</td>\n",
       "      <td>360</td>\n",
       "    </tr>\n",
       "    <tr>\n",
       "      <th>1</th>\n",
       "      <td>4.953710e+13</td>\n",
       "      <td>2018-02-06 15:55:00</td>\n",
       "      <td>2018-02-06</td>\n",
       "      <td>2</td>\n",
       "      <td>touch</td>\n",
       "      <td>2018-02-06 15:57:00</td>\n",
       "      <td>2</td>\n",
       "      <td>2018-02-06 15:55:00</td>\n",
       "      <td>2</td>\n",
       "      <td>6</td>\n",
       "      <td>2018-02-06</td>\n",
       "      <td>120</td>\n",
       "    </tr>\n",
       "    <tr>\n",
       "      <th>2</th>\n",
       "      <td>2.977290e+14</td>\n",
       "      <td>2017-06-07 18:47:00</td>\n",
       "      <td>2017-06-07</td>\n",
       "      <td>6</td>\n",
       "      <td>desktop</td>\n",
       "      <td>2017-06-07 18:48:00</td>\n",
       "      <td>3</td>\n",
       "      <td>2017-06-07 18:47:00</td>\n",
       "      <td>6</td>\n",
       "      <td>23</td>\n",
       "      <td>2017-06-07</td>\n",
       "      <td>60</td>\n",
       "    </tr>\n",
       "    <tr>\n",
       "      <th>3</th>\n",
       "      <td>3.135780e+14</td>\n",
       "      <td>2017-09-18 22:49:00</td>\n",
       "      <td>2017-09-18</td>\n",
       "      <td>9</td>\n",
       "      <td>desktop</td>\n",
       "      <td>2018-03-11 17:29:00</td>\n",
       "      <td>2</td>\n",
       "      <td>2018-03-11 17:23:00</td>\n",
       "      <td>3</td>\n",
       "      <td>10</td>\n",
       "      <td>2018-03-11</td>\n",
       "      <td>360</td>\n",
       "    </tr>\n",
       "    <tr>\n",
       "      <th>4</th>\n",
       "      <td>3.135780e+14</td>\n",
       "      <td>2017-09-18 22:49:00</td>\n",
       "      <td>2017-09-18</td>\n",
       "      <td>9</td>\n",
       "      <td>desktop</td>\n",
       "      <td>2017-09-18 23:07:00</td>\n",
       "      <td>2</td>\n",
       "      <td>2017-09-18 22:49:00</td>\n",
       "      <td>9</td>\n",
       "      <td>38</td>\n",
       "      <td>2017-09-18</td>\n",
       "      <td>1080</td>\n",
       "    </tr>\n",
       "  </tbody>\n",
       "</table>\n",
       "</div>"
      ],
      "text/plain": [
       "            uid      primera_sesion primera_sesion_fecha  primera_sesion_mes  \\\n",
       "0  1.186350e+13 2018-03-01 17:27:00           2018-03-01                   3   \n",
       "1  4.953710e+13 2018-02-06 15:55:00           2018-02-06                   2   \n",
       "2  2.977290e+14 2017-06-07 18:47:00           2017-06-07                   6   \n",
       "3  3.135780e+14 2017-09-18 22:49:00           2017-09-18                   9   \n",
       "4  3.135780e+14 2017-09-18 22:49:00           2017-09-18                   9   \n",
       "\n",
       "    device              end_ts  source_id            start_ts  sesion_mes  \\\n",
       "0    touch 2018-03-01 17:33:00          3 2018-03-01 17:27:00           3   \n",
       "1    touch 2018-02-06 15:57:00          2 2018-02-06 15:55:00           2   \n",
       "2  desktop 2017-06-07 18:48:00          3 2017-06-07 18:47:00           6   \n",
       "3  desktop 2018-03-11 17:29:00          2 2018-03-11 17:23:00           3   \n",
       "4  desktop 2017-09-18 23:07:00          2 2017-09-18 22:49:00           9   \n",
       "\n",
       "   sesion_week sesion_fecha  duracion_sesion  \n",
       "0            9   2018-03-01              360  \n",
       "1            6   2018-02-06              120  \n",
       "2           23   2017-06-07               60  \n",
       "3           10   2018-03-11              360  \n",
       "4           38   2017-09-18             1080  "
      ]
     },
     "execution_count": 48,
     "metadata": {},
     "output_type": "execute_result"
    }
   ],
   "source": [
    "visitas_full=pd.merge(primeras_visitas, visitas, on = 'uid')\n",
    "visitas_full.head()"
   ]
  },
  {
   "cell_type": "code",
   "execution_count": 49,
   "id": "3ef0c951-41db-478d-b207-58670f7341f8",
   "metadata": {},
   "outputs": [
    {
     "data": {
      "text/html": [
       "<div>\n",
       "<style scoped>\n",
       "    .dataframe tbody tr th:only-of-type {\n",
       "        vertical-align: middle;\n",
       "    }\n",
       "\n",
       "    .dataframe tbody tr th {\n",
       "        vertical-align: top;\n",
       "    }\n",
       "\n",
       "    .dataframe thead th {\n",
       "        text-align: right;\n",
       "    }\n",
       "</style>\n",
       "<table border=\"1\" class=\"dataframe\">\n",
       "  <thead>\n",
       "    <tr style=\"text-align: right;\">\n",
       "      <th></th>\n",
       "      <th>uid</th>\n",
       "      <th>primera_sesion</th>\n",
       "      <th>primera_sesion_fecha</th>\n",
       "      <th>primera_sesion_mes</th>\n",
       "      <th>device</th>\n",
       "      <th>end_ts</th>\n",
       "      <th>source_id</th>\n",
       "      <th>start_ts</th>\n",
       "      <th>sesion_mes</th>\n",
       "      <th>sesion_week</th>\n",
       "      <th>sesion_fecha</th>\n",
       "      <th>duracion_sesion</th>\n",
       "      <th>duracion_por_mes</th>\n",
       "    </tr>\n",
       "  </thead>\n",
       "  <tbody>\n",
       "    <tr>\n",
       "      <th>0</th>\n",
       "      <td>1.186350e+13</td>\n",
       "      <td>2018-03-01 17:27:00</td>\n",
       "      <td>2018-03-01</td>\n",
       "      <td>3</td>\n",
       "      <td>touch</td>\n",
       "      <td>2018-03-01 17:33:00</td>\n",
       "      <td>3</td>\n",
       "      <td>2018-03-01 17:27:00</td>\n",
       "      <td>3</td>\n",
       "      <td>9</td>\n",
       "      <td>2018-03-01</td>\n",
       "      <td>360</td>\n",
       "      <td>0</td>\n",
       "    </tr>\n",
       "    <tr>\n",
       "      <th>1</th>\n",
       "      <td>4.953710e+13</td>\n",
       "      <td>2018-02-06 15:55:00</td>\n",
       "      <td>2018-02-06</td>\n",
       "      <td>2</td>\n",
       "      <td>touch</td>\n",
       "      <td>2018-02-06 15:57:00</td>\n",
       "      <td>2</td>\n",
       "      <td>2018-02-06 15:55:00</td>\n",
       "      <td>2</td>\n",
       "      <td>6</td>\n",
       "      <td>2018-02-06</td>\n",
       "      <td>120</td>\n",
       "      <td>0</td>\n",
       "    </tr>\n",
       "    <tr>\n",
       "      <th>2</th>\n",
       "      <td>2.977290e+14</td>\n",
       "      <td>2017-06-07 18:47:00</td>\n",
       "      <td>2017-06-07</td>\n",
       "      <td>6</td>\n",
       "      <td>desktop</td>\n",
       "      <td>2017-06-07 18:48:00</td>\n",
       "      <td>3</td>\n",
       "      <td>2017-06-07 18:47:00</td>\n",
       "      <td>6</td>\n",
       "      <td>23</td>\n",
       "      <td>2017-06-07</td>\n",
       "      <td>60</td>\n",
       "      <td>0</td>\n",
       "    </tr>\n",
       "    <tr>\n",
       "      <th>3</th>\n",
       "      <td>3.135780e+14</td>\n",
       "      <td>2017-09-18 22:49:00</td>\n",
       "      <td>2017-09-18</td>\n",
       "      <td>9</td>\n",
       "      <td>desktop</td>\n",
       "      <td>2018-03-11 17:29:00</td>\n",
       "      <td>2</td>\n",
       "      <td>2018-03-11 17:23:00</td>\n",
       "      <td>3</td>\n",
       "      <td>10</td>\n",
       "      <td>2018-03-11</td>\n",
       "      <td>360</td>\n",
       "      <td>6</td>\n",
       "    </tr>\n",
       "    <tr>\n",
       "      <th>4</th>\n",
       "      <td>3.135780e+14</td>\n",
       "      <td>2017-09-18 22:49:00</td>\n",
       "      <td>2017-09-18</td>\n",
       "      <td>9</td>\n",
       "      <td>desktop</td>\n",
       "      <td>2017-09-18 23:07:00</td>\n",
       "      <td>2</td>\n",
       "      <td>2017-09-18 22:49:00</td>\n",
       "      <td>9</td>\n",
       "      <td>38</td>\n",
       "      <td>2017-09-18</td>\n",
       "      <td>1080</td>\n",
       "      <td>0</td>\n",
       "    </tr>\n",
       "  </tbody>\n",
       "</table>\n",
       "</div>"
      ],
      "text/plain": [
       "            uid      primera_sesion primera_sesion_fecha  primera_sesion_mes  \\\n",
       "0  1.186350e+13 2018-03-01 17:27:00           2018-03-01                   3   \n",
       "1  4.953710e+13 2018-02-06 15:55:00           2018-02-06                   2   \n",
       "2  2.977290e+14 2017-06-07 18:47:00           2017-06-07                   6   \n",
       "3  3.135780e+14 2017-09-18 22:49:00           2017-09-18                   9   \n",
       "4  3.135780e+14 2017-09-18 22:49:00           2017-09-18                   9   \n",
       "\n",
       "    device              end_ts  source_id            start_ts  sesion_mes  \\\n",
       "0    touch 2018-03-01 17:33:00          3 2018-03-01 17:27:00           3   \n",
       "1    touch 2018-02-06 15:57:00          2 2018-02-06 15:55:00           2   \n",
       "2  desktop 2017-06-07 18:48:00          3 2017-06-07 18:47:00           6   \n",
       "3  desktop 2018-03-11 17:29:00          2 2018-03-11 17:23:00           3   \n",
       "4  desktop 2017-09-18 23:07:00          2 2017-09-18 22:49:00           9   \n",
       "\n",
       "   sesion_week sesion_fecha  duracion_sesion  duracion_por_mes  \n",
       "0            9   2018-03-01              360                 0  \n",
       "1            6   2018-02-06              120                 0  \n",
       "2           23   2017-06-07               60                 0  \n",
       "3           10   2018-03-11              360                 6  \n",
       "4           38   2017-09-18             1080                 0  "
      ]
     },
     "execution_count": 49,
     "metadata": {},
     "output_type": "execute_result"
    }
   ],
   "source": [
    "visitas_full['duracion_por_mes'] = ((visitas_full['sesion_fecha'] - visitas_full['primera_sesion_fecha'])/(30*np.timedelta64(1, 'D'))).round().astype('int')\n",
    "visitas_full.head()"
   ]
  },
  {
   "cell_type": "markdown",
   "id": "1ca1c51b",
   "metadata": {},
   "source": [
    "En esta tabla lo que mostramos es por cuantos meses el usuario a estado activo, por ejemplo para el usuario 4 (3.135780e+14) conlleva 6 meses activo en la pagina"
   ]
  },
  {
   "cell_type": "code",
   "execution_count": 50,
   "id": "22bd2ad8-a00d-47b2-ae1d-7fa4f12a6e0d",
   "metadata": {},
   "outputs": [
    {
     "data": {
      "text/html": [
       "<div>\n",
       "<style scoped>\n",
       "    .dataframe tbody tr th:only-of-type {\n",
       "        vertical-align: middle;\n",
       "    }\n",
       "\n",
       "    .dataframe tbody tr th {\n",
       "        vertical-align: top;\n",
       "    }\n",
       "\n",
       "    .dataframe thead th {\n",
       "        text-align: right;\n",
       "    }\n",
       "</style>\n",
       "<table border=\"1\" class=\"dataframe\">\n",
       "  <thead>\n",
       "    <tr style=\"text-align: right;\">\n",
       "      <th>duracion_por_mes</th>\n",
       "      <th>0</th>\n",
       "      <th>1</th>\n",
       "      <th>2</th>\n",
       "      <th>3</th>\n",
       "      <th>4</th>\n",
       "      <th>5</th>\n",
       "      <th>6</th>\n",
       "      <th>7</th>\n",
       "      <th>8</th>\n",
       "      <th>9</th>\n",
       "      <th>10</th>\n",
       "      <th>11</th>\n",
       "      <th>12</th>\n",
       "    </tr>\n",
       "    <tr>\n",
       "      <th>primera_sesion_mes</th>\n",
       "      <th></th>\n",
       "      <th></th>\n",
       "      <th></th>\n",
       "      <th></th>\n",
       "      <th></th>\n",
       "      <th></th>\n",
       "      <th></th>\n",
       "      <th></th>\n",
       "      <th></th>\n",
       "      <th></th>\n",
       "      <th></th>\n",
       "      <th></th>\n",
       "      <th></th>\n",
       "    </tr>\n",
       "  </thead>\n",
       "  <tbody>\n",
       "    <tr>\n",
       "      <th>1</th>\n",
       "      <td>16196.0</td>\n",
       "      <td>1495.0</td>\n",
       "      <td>1197.0</td>\n",
       "      <td>906.0</td>\n",
       "      <td>726.0</td>\n",
       "      <td>139.0</td>\n",
       "      <td>NaN</td>\n",
       "      <td>NaN</td>\n",
       "      <td>NaN</td>\n",
       "      <td>NaN</td>\n",
       "      <td>NaN</td>\n",
       "      <td>NaN</td>\n",
       "      <td>NaN</td>\n",
       "    </tr>\n",
       "    <tr>\n",
       "      <th>2</th>\n",
       "      <td>15169.0</td>\n",
       "      <td>1233.0</td>\n",
       "      <td>935.0</td>\n",
       "      <td>656.0</td>\n",
       "      <td>144.0</td>\n",
       "      <td>NaN</td>\n",
       "      <td>NaN</td>\n",
       "      <td>NaN</td>\n",
       "      <td>NaN</td>\n",
       "      <td>NaN</td>\n",
       "      <td>NaN</td>\n",
       "      <td>NaN</td>\n",
       "      <td>NaN</td>\n",
       "    </tr>\n",
       "    <tr>\n",
       "      <th>3</th>\n",
       "      <td>13606.0</td>\n",
       "      <td>868.0</td>\n",
       "      <td>685.0</td>\n",
       "      <td>129.0</td>\n",
       "      <td>NaN</td>\n",
       "      <td>NaN</td>\n",
       "      <td>NaN</td>\n",
       "      <td>NaN</td>\n",
       "      <td>NaN</td>\n",
       "      <td>NaN</td>\n",
       "      <td>NaN</td>\n",
       "      <td>NaN</td>\n",
       "      <td>NaN</td>\n",
       "    </tr>\n",
       "    <tr>\n",
       "      <th>4</th>\n",
       "      <td>10005.0</td>\n",
       "      <td>615.0</td>\n",
       "      <td>111.0</td>\n",
       "      <td>NaN</td>\n",
       "      <td>NaN</td>\n",
       "      <td>NaN</td>\n",
       "      <td>NaN</td>\n",
       "      <td>NaN</td>\n",
       "      <td>NaN</td>\n",
       "      <td>NaN</td>\n",
       "      <td>NaN</td>\n",
       "      <td>NaN</td>\n",
       "      <td>NaN</td>\n",
       "    </tr>\n",
       "    <tr>\n",
       "      <th>5</th>\n",
       "      <td>9565.0</td>\n",
       "      <td>90.0</td>\n",
       "      <td>NaN</td>\n",
       "      <td>NaN</td>\n",
       "      <td>NaN</td>\n",
       "      <td>NaN</td>\n",
       "      <td>NaN</td>\n",
       "      <td>NaN</td>\n",
       "      <td>NaN</td>\n",
       "      <td>NaN</td>\n",
       "      <td>NaN</td>\n",
       "      <td>NaN</td>\n",
       "      <td>NaN</td>\n",
       "    </tr>\n",
       "    <tr>\n",
       "      <th>6</th>\n",
       "      <td>13046.0</td>\n",
       "      <td>1361.0</td>\n",
       "      <td>1100.0</td>\n",
       "      <td>1302.0</td>\n",
       "      <td>1841.0</td>\n",
       "      <td>1752.0</td>\n",
       "      <td>1851.0</td>\n",
       "      <td>1516.0</td>\n",
       "      <td>1712.0</td>\n",
       "      <td>1458.0</td>\n",
       "      <td>1278.0</td>\n",
       "      <td>1080.0</td>\n",
       "      <td>504.0</td>\n",
       "    </tr>\n",
       "    <tr>\n",
       "      <th>7</th>\n",
       "      <td>12446.0</td>\n",
       "      <td>981.0</td>\n",
       "      <td>1195.0</td>\n",
       "      <td>1363.0</td>\n",
       "      <td>1603.0</td>\n",
       "      <td>1481.0</td>\n",
       "      <td>1396.0</td>\n",
       "      <td>1409.0</td>\n",
       "      <td>1297.0</td>\n",
       "      <td>954.0</td>\n",
       "      <td>855.0</td>\n",
       "      <td>272.0</td>\n",
       "      <td>NaN</td>\n",
       "    </tr>\n",
       "    <tr>\n",
       "      <th>8</th>\n",
       "      <td>9390.0</td>\n",
       "      <td>1009.0</td>\n",
       "      <td>1169.0</td>\n",
       "      <td>1156.0</td>\n",
       "      <td>1141.0</td>\n",
       "      <td>950.0</td>\n",
       "      <td>983.0</td>\n",
       "      <td>851.0</td>\n",
       "      <td>720.0</td>\n",
       "      <td>593.0</td>\n",
       "      <td>160.0</td>\n",
       "      <td>NaN</td>\n",
       "      <td>NaN</td>\n",
       "    </tr>\n",
       "    <tr>\n",
       "      <th>9</th>\n",
       "      <td>14852.0</td>\n",
       "      <td>1911.0</td>\n",
       "      <td>1954.0</td>\n",
       "      <td>1634.0</td>\n",
       "      <td>1505.0</td>\n",
       "      <td>1490.0</td>\n",
       "      <td>1376.0</td>\n",
       "      <td>1053.0</td>\n",
       "      <td>928.0</td>\n",
       "      <td>198.0</td>\n",
       "      <td>NaN</td>\n",
       "      <td>NaN</td>\n",
       "      <td>NaN</td>\n",
       "    </tr>\n",
       "    <tr>\n",
       "      <th>10</th>\n",
       "      <td>21851.0</td>\n",
       "      <td>2854.0</td>\n",
       "      <td>2526.0</td>\n",
       "      <td>1923.0</td>\n",
       "      <td>2184.0</td>\n",
       "      <td>1775.0</td>\n",
       "      <td>1461.0</td>\n",
       "      <td>1138.0</td>\n",
       "      <td>334.0</td>\n",
       "      <td>NaN</td>\n",
       "      <td>NaN</td>\n",
       "      <td>NaN</td>\n",
       "      <td>NaN</td>\n",
       "    </tr>\n",
       "    <tr>\n",
       "      <th>11</th>\n",
       "      <td>21734.0</td>\n",
       "      <td>2529.0</td>\n",
       "      <td>2059.0</td>\n",
       "      <td>1954.0</td>\n",
       "      <td>1762.0</td>\n",
       "      <td>1325.0</td>\n",
       "      <td>1165.0</td>\n",
       "      <td>251.0</td>\n",
       "      <td>NaN</td>\n",
       "      <td>NaN</td>\n",
       "      <td>NaN</td>\n",
       "      <td>NaN</td>\n",
       "      <td>NaN</td>\n",
       "    </tr>\n",
       "    <tr>\n",
       "      <th>12</th>\n",
       "      <td>18936.0</td>\n",
       "      <td>1746.0</td>\n",
       "      <td>1710.0</td>\n",
       "      <td>1290.0</td>\n",
       "      <td>1112.0</td>\n",
       "      <td>850.0</td>\n",
       "      <td>251.0</td>\n",
       "      <td>NaN</td>\n",
       "      <td>NaN</td>\n",
       "      <td>NaN</td>\n",
       "      <td>NaN</td>\n",
       "      <td>NaN</td>\n",
       "      <td>NaN</td>\n",
       "    </tr>\n",
       "  </tbody>\n",
       "</table>\n",
       "</div>"
      ],
      "text/plain": [
       "duracion_por_mes         0       1       2       3       4       5       6   \\\n",
       "primera_sesion_mes                                                            \n",
       "1                   16196.0  1495.0  1197.0   906.0   726.0   139.0     NaN   \n",
       "2                   15169.0  1233.0   935.0   656.0   144.0     NaN     NaN   \n",
       "3                   13606.0   868.0   685.0   129.0     NaN     NaN     NaN   \n",
       "4                   10005.0   615.0   111.0     NaN     NaN     NaN     NaN   \n",
       "5                    9565.0    90.0     NaN     NaN     NaN     NaN     NaN   \n",
       "6                   13046.0  1361.0  1100.0  1302.0  1841.0  1752.0  1851.0   \n",
       "7                   12446.0   981.0  1195.0  1363.0  1603.0  1481.0  1396.0   \n",
       "8                    9390.0  1009.0  1169.0  1156.0  1141.0   950.0   983.0   \n",
       "9                   14852.0  1911.0  1954.0  1634.0  1505.0  1490.0  1376.0   \n",
       "10                  21851.0  2854.0  2526.0  1923.0  2184.0  1775.0  1461.0   \n",
       "11                  21734.0  2529.0  2059.0  1954.0  1762.0  1325.0  1165.0   \n",
       "12                  18936.0  1746.0  1710.0  1290.0  1112.0   850.0   251.0   \n",
       "\n",
       "duracion_por_mes        7       8       9       10      11     12  \n",
       "primera_sesion_mes                                                 \n",
       "1                      NaN     NaN     NaN     NaN     NaN    NaN  \n",
       "2                      NaN     NaN     NaN     NaN     NaN    NaN  \n",
       "3                      NaN     NaN     NaN     NaN     NaN    NaN  \n",
       "4                      NaN     NaN     NaN     NaN     NaN    NaN  \n",
       "5                      NaN     NaN     NaN     NaN     NaN    NaN  \n",
       "6                   1516.0  1712.0  1458.0  1278.0  1080.0  504.0  \n",
       "7                   1409.0  1297.0   954.0   855.0   272.0    NaN  \n",
       "8                    851.0   720.0   593.0   160.0     NaN    NaN  \n",
       "9                   1053.0   928.0   198.0     NaN     NaN    NaN  \n",
       "10                  1138.0   334.0     NaN     NaN     NaN    NaN  \n",
       "11                   251.0     NaN     NaN     NaN     NaN    NaN  \n",
       "12                     NaN     NaN     NaN     NaN     NaN    NaN  "
      ]
     },
     "execution_count": 50,
     "metadata": {},
     "output_type": "execute_result"
    }
   ],
   "source": [
    "cohortes = visitas_full.pivot_table(\n",
    "    index='primera_sesion_mes',\n",
    "    columns='duracion_por_mes',\n",
    "    values='uid',\n",
    "    aggfunc='nunique'\n",
    ")\n",
    "cohortes"
   ]
  },
  {
   "cell_type": "code",
   "execution_count": 51,
   "id": "cc45d279-552f-4bd9-b3df-3c4418f61daa",
   "metadata": {},
   "outputs": [
    {
     "data": {
      "text/html": [
       "<div>\n",
       "<style scoped>\n",
       "    .dataframe tbody tr th:only-of-type {\n",
       "        vertical-align: middle;\n",
       "    }\n",
       "\n",
       "    .dataframe tbody tr th {\n",
       "        vertical-align: top;\n",
       "    }\n",
       "\n",
       "    .dataframe thead th {\n",
       "        text-align: right;\n",
       "    }\n",
       "</style>\n",
       "<table border=\"1\" class=\"dataframe\">\n",
       "  <thead>\n",
       "    <tr style=\"text-align: right;\">\n",
       "      <th>duracion_por_mes</th>\n",
       "      <th>0</th>\n",
       "      <th>1</th>\n",
       "      <th>2</th>\n",
       "      <th>3</th>\n",
       "      <th>4</th>\n",
       "      <th>5</th>\n",
       "      <th>6</th>\n",
       "      <th>7</th>\n",
       "      <th>8</th>\n",
       "      <th>9</th>\n",
       "      <th>10</th>\n",
       "      <th>11</th>\n",
       "      <th>12</th>\n",
       "    </tr>\n",
       "    <tr>\n",
       "      <th>primera_sesion_mes</th>\n",
       "      <th></th>\n",
       "      <th></th>\n",
       "      <th></th>\n",
       "      <th></th>\n",
       "      <th></th>\n",
       "      <th></th>\n",
       "      <th></th>\n",
       "      <th></th>\n",
       "      <th></th>\n",
       "      <th></th>\n",
       "      <th></th>\n",
       "      <th></th>\n",
       "      <th></th>\n",
       "    </tr>\n",
       "  </thead>\n",
       "  <tbody>\n",
       "    <tr>\n",
       "      <th>1</th>\n",
       "      <td>16196.0</td>\n",
       "      <td>1495.0</td>\n",
       "      <td>1197.0</td>\n",
       "      <td>906.0</td>\n",
       "      <td>726.0</td>\n",
       "      <td>139.0</td>\n",
       "      <td></td>\n",
       "      <td></td>\n",
       "      <td></td>\n",
       "      <td></td>\n",
       "      <td></td>\n",
       "      <td></td>\n",
       "      <td></td>\n",
       "    </tr>\n",
       "    <tr>\n",
       "      <th>2</th>\n",
       "      <td>15169.0</td>\n",
       "      <td>1233.0</td>\n",
       "      <td>935.0</td>\n",
       "      <td>656.0</td>\n",
       "      <td>144.0</td>\n",
       "      <td></td>\n",
       "      <td></td>\n",
       "      <td></td>\n",
       "      <td></td>\n",
       "      <td></td>\n",
       "      <td></td>\n",
       "      <td></td>\n",
       "      <td></td>\n",
       "    </tr>\n",
       "    <tr>\n",
       "      <th>3</th>\n",
       "      <td>13606.0</td>\n",
       "      <td>868.0</td>\n",
       "      <td>685.0</td>\n",
       "      <td>129.0</td>\n",
       "      <td></td>\n",
       "      <td></td>\n",
       "      <td></td>\n",
       "      <td></td>\n",
       "      <td></td>\n",
       "      <td></td>\n",
       "      <td></td>\n",
       "      <td></td>\n",
       "      <td></td>\n",
       "    </tr>\n",
       "    <tr>\n",
       "      <th>4</th>\n",
       "      <td>10005.0</td>\n",
       "      <td>615.0</td>\n",
       "      <td>111.0</td>\n",
       "      <td></td>\n",
       "      <td></td>\n",
       "      <td></td>\n",
       "      <td></td>\n",
       "      <td></td>\n",
       "      <td></td>\n",
       "      <td></td>\n",
       "      <td></td>\n",
       "      <td></td>\n",
       "      <td></td>\n",
       "    </tr>\n",
       "    <tr>\n",
       "      <th>5</th>\n",
       "      <td>9565.0</td>\n",
       "      <td>90.0</td>\n",
       "      <td></td>\n",
       "      <td></td>\n",
       "      <td></td>\n",
       "      <td></td>\n",
       "      <td></td>\n",
       "      <td></td>\n",
       "      <td></td>\n",
       "      <td></td>\n",
       "      <td></td>\n",
       "      <td></td>\n",
       "      <td></td>\n",
       "    </tr>\n",
       "    <tr>\n",
       "      <th>6</th>\n",
       "      <td>13046.0</td>\n",
       "      <td>1361.0</td>\n",
       "      <td>1100.0</td>\n",
       "      <td>1302.0</td>\n",
       "      <td>1841.0</td>\n",
       "      <td>1752.0</td>\n",
       "      <td>1851.0</td>\n",
       "      <td>1516.0</td>\n",
       "      <td>1712.0</td>\n",
       "      <td>1458.0</td>\n",
       "      <td>1278.0</td>\n",
       "      <td>1080.0</td>\n",
       "      <td>504.0</td>\n",
       "    </tr>\n",
       "    <tr>\n",
       "      <th>7</th>\n",
       "      <td>12446.0</td>\n",
       "      <td>981.0</td>\n",
       "      <td>1195.0</td>\n",
       "      <td>1363.0</td>\n",
       "      <td>1603.0</td>\n",
       "      <td>1481.0</td>\n",
       "      <td>1396.0</td>\n",
       "      <td>1409.0</td>\n",
       "      <td>1297.0</td>\n",
       "      <td>954.0</td>\n",
       "      <td>855.0</td>\n",
       "      <td>272.0</td>\n",
       "      <td></td>\n",
       "    </tr>\n",
       "    <tr>\n",
       "      <th>8</th>\n",
       "      <td>9390.0</td>\n",
       "      <td>1009.0</td>\n",
       "      <td>1169.0</td>\n",
       "      <td>1156.0</td>\n",
       "      <td>1141.0</td>\n",
       "      <td>950.0</td>\n",
       "      <td>983.0</td>\n",
       "      <td>851.0</td>\n",
       "      <td>720.0</td>\n",
       "      <td>593.0</td>\n",
       "      <td>160.0</td>\n",
       "      <td></td>\n",
       "      <td></td>\n",
       "    </tr>\n",
       "    <tr>\n",
       "      <th>9</th>\n",
       "      <td>14852.0</td>\n",
       "      <td>1911.0</td>\n",
       "      <td>1954.0</td>\n",
       "      <td>1634.0</td>\n",
       "      <td>1505.0</td>\n",
       "      <td>1490.0</td>\n",
       "      <td>1376.0</td>\n",
       "      <td>1053.0</td>\n",
       "      <td>928.0</td>\n",
       "      <td>198.0</td>\n",
       "      <td></td>\n",
       "      <td></td>\n",
       "      <td></td>\n",
       "    </tr>\n",
       "    <tr>\n",
       "      <th>10</th>\n",
       "      <td>21851.0</td>\n",
       "      <td>2854.0</td>\n",
       "      <td>2526.0</td>\n",
       "      <td>1923.0</td>\n",
       "      <td>2184.0</td>\n",
       "      <td>1775.0</td>\n",
       "      <td>1461.0</td>\n",
       "      <td>1138.0</td>\n",
       "      <td>334.0</td>\n",
       "      <td></td>\n",
       "      <td></td>\n",
       "      <td></td>\n",
       "      <td></td>\n",
       "    </tr>\n",
       "    <tr>\n",
       "      <th>11</th>\n",
       "      <td>21734.0</td>\n",
       "      <td>2529.0</td>\n",
       "      <td>2059.0</td>\n",
       "      <td>1954.0</td>\n",
       "      <td>1762.0</td>\n",
       "      <td>1325.0</td>\n",
       "      <td>1165.0</td>\n",
       "      <td>251.0</td>\n",
       "      <td></td>\n",
       "      <td></td>\n",
       "      <td></td>\n",
       "      <td></td>\n",
       "      <td></td>\n",
       "    </tr>\n",
       "    <tr>\n",
       "      <th>12</th>\n",
       "      <td>18936.0</td>\n",
       "      <td>1746.0</td>\n",
       "      <td>1710.0</td>\n",
       "      <td>1290.0</td>\n",
       "      <td>1112.0</td>\n",
       "      <td>850.0</td>\n",
       "      <td>251.0</td>\n",
       "      <td></td>\n",
       "      <td></td>\n",
       "      <td></td>\n",
       "      <td></td>\n",
       "      <td></td>\n",
       "      <td></td>\n",
       "    </tr>\n",
       "  </tbody>\n",
       "</table>\n",
       "</div>"
      ],
      "text/plain": [
       "duracion_por_mes         0       1       2       3       4       5       6   \\\n",
       "primera_sesion_mes                                                            \n",
       "1                   16196.0  1495.0  1197.0   906.0   726.0   139.0           \n",
       "2                   15169.0  1233.0   935.0   656.0   144.0                   \n",
       "3                   13606.0   868.0   685.0   129.0                           \n",
       "4                   10005.0   615.0   111.0                                   \n",
       "5                    9565.0    90.0                                           \n",
       "6                   13046.0  1361.0  1100.0  1302.0  1841.0  1752.0  1851.0   \n",
       "7                   12446.0   981.0  1195.0  1363.0  1603.0  1481.0  1396.0   \n",
       "8                    9390.0  1009.0  1169.0  1156.0  1141.0   950.0   983.0   \n",
       "9                   14852.0  1911.0  1954.0  1634.0  1505.0  1490.0  1376.0   \n",
       "10                  21851.0  2854.0  2526.0  1923.0  2184.0  1775.0  1461.0   \n",
       "11                  21734.0  2529.0  2059.0  1954.0  1762.0  1325.0  1165.0   \n",
       "12                  18936.0  1746.0  1710.0  1290.0  1112.0   850.0   251.0   \n",
       "\n",
       "duracion_por_mes        7       8       9       10      11     12  \n",
       "primera_sesion_mes                                                 \n",
       "1                                                                  \n",
       "2                                                                  \n",
       "3                                                                  \n",
       "4                                                                  \n",
       "5                                                                  \n",
       "6                   1516.0  1712.0  1458.0  1278.0  1080.0  504.0  \n",
       "7                   1409.0  1297.0   954.0   855.0   272.0         \n",
       "8                    851.0   720.0   593.0   160.0                 \n",
       "9                   1053.0   928.0   198.0                         \n",
       "10                  1138.0   334.0                                 \n",
       "11                   251.0                                         \n",
       "12                                                                 "
      ]
     },
     "execution_count": 51,
     "metadata": {},
     "output_type": "execute_result"
    }
   ],
   "source": [
    "cohortes.fillna(' ' )"
   ]
  },
  {
   "cell_type": "markdown",
   "id": "a3de7117",
   "metadata": {},
   "source": [
    "en esta tabla tenemos el numero de usuarios unicos activos en el transcurso de los meses, es decir el primer mes hubieron 16196 ususarios activos sin embargo para el segundo mes solo continueron 1495 usuarios \n",
    "la tabla me muestra una relacion en el tiempo entre usuarios y la duracion por viista con respecto al mes, por ejemplo para los que iniciarion en enero fueron disminuyendo hasta que en el mes 5 (mayo) ya ningun usuario siguio activo en la pagina\n",
    "caso contrario para los usuarios que iniciaron el  mes 6 (junio) que aun siguieron activos 504 para el mes 12 (diciembre) donde tambien podemos observar que la actividad por ususario sigue disminuyendo "
   ]
  },
  {
   "cell_type": "code",
   "execution_count": 52,
   "id": "fa887a6b-ea15-45a0-98a0-ce98356fc147",
   "metadata": {},
   "outputs": [],
   "source": [
    "cohortes = cohortes.loc[[6,7,8,9,10,11,12,1,2,3,4,5]]"
   ]
  },
  {
   "cell_type": "code",
   "execution_count": 53,
   "id": "5828dfb1-eb9c-421a-9c16-83fb6c21cdb3",
   "metadata": {},
   "outputs": [],
   "source": [
    "retencion = pd.DataFrame()"
   ]
  },
  {
   "cell_type": "code",
   "execution_count": 54,
   "id": "26a46f33-c167-449d-9c7e-31a45615dc49",
   "metadata": {},
   "outputs": [
    {
     "name": "stderr",
     "output_type": "stream",
     "text": [
      "C:\\Users\\Guillen\\AppData\\Local\\Temp\\ipykernel_356\\2651553320.py:2: FutureWarning: The behavior of array concatenation with empty entries is deprecated. In a future version, this will no longer exclude empty items when determining the result dtype. To retain the old behavior, exclude the empty entries before the concat operation.\n",
      "  retencion = pd.concat([retencion, cohortes[col] / cohortes[0]], axis=1)\n"
     ]
    }
   ],
   "source": [
    "for col in cohortes.columns:\n",
    "        retencion = pd.concat([retencion, cohortes[col] / cohortes[0]], axis=1)"
   ]
  },
  {
   "cell_type": "code",
   "execution_count": 55,
   "id": "1e80973f-5b3d-410d-bd53-d5a4dd3cdd8a",
   "metadata": {},
   "outputs": [],
   "source": [
    "retencion.columns = cohortes.columns"
   ]
  },
  {
   "cell_type": "code",
   "execution_count": 56,
   "id": "1ea5f3e9-35f5-4bff-86d9-d3282d69ea13",
   "metadata": {},
   "outputs": [],
   "source": [
    "retencion.index = [str(indice)[ 0:12] for indice in retencion.index]"
   ]
  },
  {
   "cell_type": "code",
   "execution_count": 57,
   "id": "3bcdf570-69c5-45d0-9a1d-181f23c3f5fd",
   "metadata": {},
   "outputs": [
    {
     "data": {
      "image/png": "[encoded data removed]",
      "text/plain": [
       "<Figure size 1300x900 with 2 Axes>"
      ]
     },
     "metadata": {},
     "output_type": "display_data"
    }
   ],
   "source": [
    "plt.figure(figsize=(13, 9))\n",
    "sns.heatmap(retencion, annot=True, fmt='.1%', linewidths=1, linecolor='grey', cbar_kws={'orientation': 'horizontal'}).set(title='Ratio de retencion')\n",
    "plt.show()"
   ]
  },
  {
   "cell_type": "markdown",
   "id": "48fdfd1c",
   "metadata": {},
   "source": [
    "En este grafico podemos observar que al inicio de casa mes hay un 100% de visitas y conforme transcurren los meses este va teniendo menos retencion de los usuarios \n",
    "en el mes 6 es donde tenemos una mayor retencion de los usuarios donde va del mes 6 con 100% hasta el mes 11 donde solo permanceio el 8.3% de los usuarios que visitaron la pagina "
   ]
  },
  {
   "cell_type": "markdown",
   "id": "7d6dc9f3",
   "metadata": {},
   "source": [
    "<div class=\"alert alert-block alert-warning\">\n",
    "<b>Comentario del revisor</b> <a class=\"tocSkip\"></a>\n",
    "\n",
    "La tabla de retención está **bien calculada** y presenta información valiosa sobre la retención de usuarios a lo largo de los meses. Sin embargo, he notado que en ocasiones, **debido a un bug**, la tabla se borra al compartir el archivo o al exportarlo. Te recomiendo guardar una copia separada de la tabla o incluir un archivo adicional donde la tabla se mantenga intacta para asegurar que otros revisores puedan evaluarla correctamente.\n",
    "\n",
    "#### Sugerencia:\n",
    "- **Conservar los datos de retención:** Asegúrate de mantener una copia de la tabla, ya sea en un archivo Excel separado o exportándola a un formato que no sufra pérdidas al ser compartido.\n",
    "\n",
    "¡Buen trabajo, y espero que puedas resolver este problema técnico! 😊🔄\n",
    "\n",
    "</div>\n"
   ]
  },
  {
   "cell_type": "markdown",
   "id": "4a85c83b",
   "metadata": {},
   "source": [
    "# CONCLUSION\n",
    "\n",
    "tenemos una relacion entre distintas tablas donde tenemos visitas, costos y ordenes, para este analisis nos enfocamos a los datos sobre las visitas a Showz desde enero de 2017 hasta diciembre de 2018\n",
    "los usuarios comienzan a visitar la pagina, por lo que el primer ususario comienza el 2017-06-01 hasta el ultimo usuario que la utiliza el 2018-06-01 con los datos porporcionados, los usurios tienden a visitar las paginas varias veces por lo cual nos enfocamos en que frecuencia unicamente el mismo usurios tiende a permanecer en la pagina \n",
    "podemos observar que existen ususrios que que permanecen por menos de 5 minutos asi como mas de 5 minutos, con excepciones de algunos ususarios que permanecen demasiado tiempo en la pagina\n",
    "en primera instancia realizamos graficios por dia, mes y semana para ver la tendencia de los usuarios respecto a su visitas por lo cual deducimos que el numero de visitas disminuye confomre al timepo pero tiende a umentar por disitnitos factores\n",
    "uno de los factores externos por poner un ejemplo es que apartir de mel 8 hasta el 12 las visitas tienden a subir esto puede ser por las epocs de fiestas\n",
    "dentro del analisis encontamos una tendencia donde afirmamos que el numero de usauario con respecto al tiempo (mes) dismuinuye el numero de visitas respecto a los ususarios por lo cual deberimos notificar al area de marketing para que retenga a los usurios"
   ]
  },
  {
   "cell_type": "markdown",
   "id": "ce0aed4e",
   "metadata": {},
   "source": [
    "<div class=\"alert alert-block alert-warning\">\n",
    "<b>Comentario del revisor</b> <a class=\"tocSkip\"></a>\n",
    "\n",
    "Es recomendable escribir la conclusión en un formato de Markdown en lugar de utilizar comentarios con `#`. Esto mejora la legibilidad y estructura del análisis, facilitando su comprensión por parte de terceros que puedan revisar el proyecto. El formato Markdown permite secciones organizadas y hace más visible la información clave, algo que no se consigue con los simples comentarios en código.\n",
    "\n",
    "#### Sugerencia:\n",
    "- **Markdown para Conclusiones:** Utiliza Markdown para redactar las observaciones y conclusiones finales. De esta manera, el análisis quedará mejor documentado, proporcionando una visión clara y organizada que ayudará tanto a los lectores como a los evaluadores a entender tus hallazgos y el valor del proyecto.\n",
    "\n",
    "¡Muy buen trabajo hasta ahora, solo falta darle el toque final a la documentación! 😊📄\n",
    "\n",
    "</div>\n"
   ]
  },
  {
   "cell_type": "markdown",
   "id": "f15224ae",
   "metadata": {},
   "source": [
    "# Comentario General del Revisor"
   ]
  },
  {
   "cell_type": "markdown",
   "id": "dd47985b",
   "metadata": {},
   "source": [
    "<div class=\"alert alert-block alert-success\">\n",
    "<b>Comentario del revisor</b> <a class=\"tocSkip\"></a>\n",
    "\n",
    "¡Felicidades! Tu proyecto está **aprobado**. Has demostrado un excelente manejo de los datos y un buen enfoque exploratorio, analizando de manera consistente las métricas clave. A continuación, destaco los puntos positivos y algunas áreas interesantes para seguir investigando:\n",
    "\n",
    "#### Puntos Positivos:\n",
    "- **Análisis Exploratorio Completo:** Has realizado un análisis exploratorio detallado de las tres tablas principales, asegurándote de limpiar y procesar las columnas adecuadamente, lo cual es fundamental para una comprensión clara de los datos.\n",
    "- **Visualizaciones Claras y Comprensibles:** Las visualizaciones generadas permiten comprender las tendencias de uso a lo largo del tiempo, con gráficos que destacan la variabilidad en el comportamiento de los usuarios a nivel diario, semanal, y mensual.\n",
    "- **Estudio de Retención de Usuarios:** La creación de cohortes y el análisis de retención de usuarios proporcionan una perspectiva valiosa sobre la permanencia de los usuarios en la plataforma y las posibles razones de su baja retención.\n",
    "\n",
    "#### Áreas para Seguir Investigando:\n",
    "- **Hipótesis sobre Temporadas Festivas:** Aunque mencionas una posible influencia de las épocas de fiestas, sería interesante intentar cuantificar este efecto. Podrías enriquecer el análisis identificando periodos festivos clave y verificando su correlación con el aumento de visitas.\n",
    "- **Segmentación de Usuarios:** Sería útil explorar una segmentación más profunda de los usuarios para entender mejor quiénes son los que retienen más tiempo en la página y qué características tienen en común. Esta información podría ser muy valiosa para el equipo de marketing en sus campañas de retención.\n",
    "\n",
    "¡Sigue así, estás haciendo un gran trabajo! 💪🚀😊\n",
    "\n",
    "</div>\n"
   ]
  }
 ],
 "metadata": {
  "ExecuteTimeLog": [
   {
    "duration": 853,
    "start_time": "2024-11-23T07:06:23.750Z"
   },
   {
    "duration": 564,
    "start_time": "2024-11-23T07:06:24.605Z"
   },
   {
    "duration": 0,
    "start_time": "2024-11-23T07:06:25.171Z"
   },
   {
    "duration": 0,
    "start_time": "2024-11-23T07:06:25.172Z"
   },
   {
    "duration": 0,
    "start_time": "2024-11-23T07:06:25.173Z"
   },
   {
    "duration": 0,
    "start_time": "2024-11-23T07:06:25.174Z"
   },
   {
    "duration": 0,
    "start_time": "2024-11-23T07:06:25.175Z"
   },
   {
    "duration": 0,
    "start_time": "2024-11-23T07:06:25.176Z"
   },
   {
    "duration": 0,
    "start_time": "2024-11-23T07:06:25.178Z"
   },
   {
    "duration": 13,
    "start_time": "2024-11-23T07:06:32.145Z"
   },
   {
    "duration": 3,
    "start_time": "2024-11-23T07:06:41.333Z"
   },
   {
    "duration": 87,
    "start_time": "2024-11-23T07:06:41.338Z"
   },
   {
    "duration": 0,
    "start_time": "2024-11-23T07:06:41.430Z"
   },
   {
    "duration": 0,
    "start_time": "2024-11-23T07:06:41.431Z"
   },
   {
    "duration": 0,
    "start_time": "2024-11-23T07:06:41.432Z"
   },
   {
    "duration": 0,
    "start_time": "2024-11-23T07:06:41.433Z"
   },
   {
    "duration": 0,
    "start_time": "2024-11-23T07:06:41.434Z"
   },
   {
    "duration": 0,
    "start_time": "2024-11-23T07:06:41.435Z"
   },
   {
    "duration": 0,
    "start_time": "2024-11-23T07:06:41.436Z"
   },
   {
    "duration": 0,
    "start_time": "2024-11-23T07:06:41.437Z"
   },
   {
    "duration": 0,
    "start_time": "2024-11-23T07:06:41.439Z"
   },
   {
    "duration": 0,
    "start_time": "2024-11-23T07:06:41.440Z"
   },
   {
    "duration": 0,
    "start_time": "2024-11-23T07:06:41.443Z"
   },
   {
    "duration": 0,
    "start_time": "2024-11-23T07:06:41.444Z"
   },
   {
    "duration": 0,
    "start_time": "2024-11-23T07:06:41.446Z"
   },
   {
    "duration": 0,
    "start_time": "2024-11-23T07:06:41.447Z"
   },
   {
    "duration": 0,
    "start_time": "2024-11-23T07:06:41.449Z"
   },
   {
    "duration": 0,
    "start_time": "2024-11-23T07:06:41.450Z"
   },
   {
    "duration": 0,
    "start_time": "2024-11-23T07:06:41.452Z"
   },
   {
    "duration": 0,
    "start_time": "2024-11-23T07:06:41.453Z"
   },
   {
    "duration": 0,
    "start_time": "2024-11-23T07:06:41.454Z"
   },
   {
    "duration": 0,
    "start_time": "2024-11-23T07:06:41.456Z"
   },
   {
    "duration": 0,
    "start_time": "2024-11-23T07:06:41.457Z"
   },
   {
    "duration": 0,
    "start_time": "2024-11-23T07:06:41.459Z"
   },
   {
    "duration": 0,
    "start_time": "2024-11-23T07:06:41.460Z"
   },
   {
    "duration": 0,
    "start_time": "2024-11-23T07:06:41.462Z"
   },
   {
    "duration": 0,
    "start_time": "2024-11-23T07:06:41.463Z"
   },
   {
    "duration": 0,
    "start_time": "2024-11-23T07:06:41.465Z"
   },
   {
    "duration": 0,
    "start_time": "2024-11-23T07:06:41.466Z"
   },
   {
    "duration": 0,
    "start_time": "2024-11-23T07:06:41.524Z"
   },
   {
    "duration": 0,
    "start_time": "2024-11-23T07:06:41.525Z"
   },
   {
    "duration": 0,
    "start_time": "2024-11-23T07:06:41.526Z"
   },
   {
    "duration": 0,
    "start_time": "2024-11-23T07:06:41.527Z"
   },
   {
    "duration": 0,
    "start_time": "2024-11-23T07:06:41.528Z"
   },
   {
    "duration": 0,
    "start_time": "2024-11-23T07:06:41.530Z"
   },
   {
    "duration": 0,
    "start_time": "2024-11-23T07:06:41.531Z"
   },
   {
    "duration": 0,
    "start_time": "2024-11-23T07:06:41.532Z"
   },
   {
    "duration": 0,
    "start_time": "2024-11-23T07:06:41.534Z"
   },
   {
    "duration": 0,
    "start_time": "2024-11-23T07:06:41.535Z"
   },
   {
    "duration": 0,
    "start_time": "2024-11-23T07:06:41.537Z"
   },
   {
    "duration": 0,
    "start_time": "2024-11-23T07:06:41.538Z"
   },
   {
    "duration": 0,
    "start_time": "2024-11-23T07:06:41.540Z"
   },
   {
    "duration": 0,
    "start_time": "2024-11-23T07:06:41.542Z"
   },
   {
    "duration": 0,
    "start_time": "2024-11-23T07:06:41.543Z"
   },
   {
    "duration": 0,
    "start_time": "2024-11-23T07:06:41.544Z"
   },
   {
    "duration": 0,
    "start_time": "2024-11-23T07:06:41.546Z"
   },
   {
    "duration": 0,
    "start_time": "2024-11-23T07:06:41.549Z"
   },
   {
    "duration": 0,
    "start_time": "2024-11-23T07:06:41.551Z"
   },
   {
    "duration": 0,
    "start_time": "2024-11-23T07:06:41.552Z"
   },
   {
    "duration": 0,
    "start_time": "2024-11-23T07:06:41.553Z"
   },
   {
    "duration": 0,
    "start_time": "2024-11-23T07:06:41.554Z"
   },
   {
    "duration": 0,
    "start_time": "2024-11-23T07:06:41.555Z"
   },
   {
    "duration": 0,
    "start_time": "2024-11-23T07:06:41.556Z"
   },
   {
    "duration": 0,
    "start_time": "2024-11-23T07:06:41.558Z"
   },
   {
    "duration": 0,
    "start_time": "2024-11-23T07:06:41.559Z"
   },
   {
    "duration": 0,
    "start_time": "2024-11-23T07:06:41.560Z"
   },
   {
    "duration": 0,
    "start_time": "2024-11-23T07:06:41.561Z"
   },
   {
    "duration": 73,
    "start_time": "2024-11-23T07:06:41.565Z"
   },
   {
    "duration": 0,
    "start_time": "2024-11-23T07:06:41.640Z"
   },
   {
    "duration": 0,
    "start_time": "2024-11-23T07:06:41.642Z"
   },
   {
    "duration": 0,
    "start_time": "2024-11-23T07:06:41.643Z"
   },
   {
    "duration": 0,
    "start_time": "2024-11-23T07:06:41.645Z"
   },
   {
    "duration": 0,
    "start_time": "2024-11-23T07:06:41.647Z"
   },
   {
    "duration": 0,
    "start_time": "2024-11-23T07:06:41.648Z"
   },
   {
    "duration": 0,
    "start_time": "2024-11-23T07:06:41.649Z"
   },
   {
    "duration": 0,
    "start_time": "2024-11-23T07:06:41.651Z"
   },
   {
    "duration": 0,
    "start_time": "2024-11-23T07:06:41.652Z"
   },
   {
    "duration": 0,
    "start_time": "2024-11-23T07:06:41.654Z"
   },
   {
    "duration": 0,
    "start_time": "2024-11-23T07:06:41.655Z"
   },
   {
    "duration": 0,
    "start_time": "2024-11-23T07:06:41.657Z"
   }
  ],
  "kernelspec": {
   "display_name": "Python 3 (ipykernel)",
   "language": "python",
   "name": "python3"
  },
  "language_info": {
   "codemirror_mode": {
    "name": "ipython",
    "version": 3
   },
   "file_extension": ".py",
   "mimetype": "text/x-python",
   "name": "python",
   "nbconvert_exporter": "python",
   "pygments_lexer": "ipython3",
   "version": "3.11.7"
  },
  "toc": {
   "base_numbering": 1,
   "nav_menu": {},
   "number_sections": true,
   "sideBar": true,
   "skip_h1_title": true,
   "title_cell": "Table of Contents",
   "title_sidebar": "Contents",
   "toc_cell": false,
   "toc_position": {},
   "toc_section_display": true,
   "toc_window_display": false
  }
 },
 "nbformat": 4,
 "nbformat_minor": 5
}
