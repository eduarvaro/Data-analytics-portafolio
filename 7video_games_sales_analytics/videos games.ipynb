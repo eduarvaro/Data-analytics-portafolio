{
 "cells": [
  {
   "cell_type": "code",
   "execution_count": 12,
   "id": "5580f7a3-1f77-4c5a-9679-d4003e9a1b82",
   "metadata": {},
   "outputs": [],
   "source": [
    "import pandas as pd\n",
    "import matplotlib.pyplot as plt\n",
    "import numpy as np\n",
    "import seaborn as sns"
   ]
  },
  {
   "cell_type": "code",
   "execution_count": 13,
   "id": "4c0a9224-c94b-4889-b632-80ed802fd35f",
   "metadata": {},
   "outputs": [],
   "source": [
    "games_data_raw = pd.read_csv(\"game.csv\")"
   ]
  },
  {
   "cell_type": "code",
   "execution_count": 14,
   "id": "81f66f8a-2c49-494e-a530-1ee1686a145d",
   "metadata": {},
   "outputs": [
    {
     "data": {
      "text/html": [
       "<div>\n",
       "<style scoped>\n",
       "    .dataframe tbody tr th:only-of-type {\n",
       "        vertical-align: middle;\n",
       "    }\n",
       "\n",
       "    .dataframe tbody tr th {\n",
       "        vertical-align: top;\n",
       "    }\n",
       "\n",
       "    .dataframe thead th {\n",
       "        text-align: right;\n",
       "    }\n",
       "</style>\n",
       "<table border=\"1\" class=\"dataframe\">\n",
       "  <thead>\n",
       "    <tr style=\"text-align: right;\">\n",
       "      <th></th>\n",
       "      <th>Name</th>\n",
       "      <th>Platform</th>\n",
       "      <th>Year_of_Release</th>\n",
       "      <th>Genre</th>\n",
       "      <th>NA_sales</th>\n",
       "      <th>EU_sales</th>\n",
       "      <th>JP_sales</th>\n",
       "      <th>Other_sales</th>\n",
       "      <th>Critic_Score</th>\n",
       "      <th>User_Score</th>\n",
       "      <th>Rating</th>\n",
       "    </tr>\n",
       "  </thead>\n",
       "  <tbody>\n",
       "    <tr>\n",
       "      <th>0</th>\n",
       "      <td>Wii Sports</td>\n",
       "      <td>Wii</td>\n",
       "      <td>2006.0</td>\n",
       "      <td>Sports</td>\n",
       "      <td>41.36</td>\n",
       "      <td>28.96</td>\n",
       "      <td>3.77</td>\n",
       "      <td>8.45</td>\n",
       "      <td>76.0</td>\n",
       "      <td>8</td>\n",
       "      <td>E</td>\n",
       "    </tr>\n",
       "    <tr>\n",
       "      <th>1</th>\n",
       "      <td>Super Mario Bros.</td>\n",
       "      <td>NES</td>\n",
       "      <td>1985.0</td>\n",
       "      <td>Platform</td>\n",
       "      <td>29.08</td>\n",
       "      <td>3.58</td>\n",
       "      <td>6.81</td>\n",
       "      <td>0.77</td>\n",
       "      <td>NaN</td>\n",
       "      <td>NaN</td>\n",
       "      <td>NaN</td>\n",
       "    </tr>\n",
       "    <tr>\n",
       "      <th>2</th>\n",
       "      <td>Mario Kart Wii</td>\n",
       "      <td>Wii</td>\n",
       "      <td>2008.0</td>\n",
       "      <td>Racing</td>\n",
       "      <td>15.68</td>\n",
       "      <td>12.76</td>\n",
       "      <td>3.79</td>\n",
       "      <td>3.29</td>\n",
       "      <td>82.0</td>\n",
       "      <td>8.3</td>\n",
       "      <td>E</td>\n",
       "    </tr>\n",
       "    <tr>\n",
       "      <th>3</th>\n",
       "      <td>Wii Sports Resort</td>\n",
       "      <td>Wii</td>\n",
       "      <td>2009.0</td>\n",
       "      <td>Sports</td>\n",
       "      <td>15.61</td>\n",
       "      <td>10.93</td>\n",
       "      <td>3.28</td>\n",
       "      <td>2.95</td>\n",
       "      <td>80.0</td>\n",
       "      <td>8</td>\n",
       "      <td>E</td>\n",
       "    </tr>\n",
       "    <tr>\n",
       "      <th>4</th>\n",
       "      <td>Pokemon Red/Pokemon Blue</td>\n",
       "      <td>GB</td>\n",
       "      <td>1996.0</td>\n",
       "      <td>Role-Playing</td>\n",
       "      <td>11.27</td>\n",
       "      <td>8.89</td>\n",
       "      <td>10.22</td>\n",
       "      <td>1.00</td>\n",
       "      <td>NaN</td>\n",
       "      <td>NaN</td>\n",
       "      <td>NaN</td>\n",
       "    </tr>\n",
       "  </tbody>\n",
       "</table>\n",
       "</div>"
      ],
      "text/plain": [
       "                       Name Platform  Year_of_Release         Genre  NA_sales  \\\n",
       "0                Wii Sports      Wii           2006.0        Sports     41.36   \n",
       "1         Super Mario Bros.      NES           1985.0      Platform     29.08   \n",
       "2            Mario Kart Wii      Wii           2008.0        Racing     15.68   \n",
       "3         Wii Sports Resort      Wii           2009.0        Sports     15.61   \n",
       "4  Pokemon Red/Pokemon Blue       GB           1996.0  Role-Playing     11.27   \n",
       "\n",
       "   EU_sales  JP_sales  Other_sales  Critic_Score User_Score Rating  \n",
       "0     28.96      3.77         8.45          76.0          8      E  \n",
       "1      3.58      6.81         0.77           NaN        NaN    NaN  \n",
       "2     12.76      3.79         3.29          82.0        8.3      E  \n",
       "3     10.93      3.28         2.95          80.0          8      E  \n",
       "4      8.89     10.22         1.00           NaN        NaN    NaN  "
      ]
     },
     "execution_count": 14,
     "metadata": {},
     "output_type": "execute_result"
    }
   ],
   "source": [
    "games_data_raw.head()"
   ]
  },
  {
   "cell_type": "code",
   "execution_count": 15,
   "id": "3872dc37-2b7e-44de-9531-466ff4839d52",
   "metadata": {},
   "outputs": [
    {
     "data": {
      "text/html": [
       "<div>\n",
       "<style scoped>\n",
       "    .dataframe tbody tr th:only-of-type {\n",
       "        vertical-align: middle;\n",
       "    }\n",
       "\n",
       "    .dataframe tbody tr th {\n",
       "        vertical-align: top;\n",
       "    }\n",
       "\n",
       "    .dataframe thead th {\n",
       "        text-align: right;\n",
       "    }\n",
       "</style>\n",
       "<table border=\"1\" class=\"dataframe\">\n",
       "  <thead>\n",
       "    <tr style=\"text-align: right;\">\n",
       "      <th></th>\n",
       "      <th>Name</th>\n",
       "      <th>Platform</th>\n",
       "      <th>Year_of_Release</th>\n",
       "      <th>Genre</th>\n",
       "      <th>NA_sales</th>\n",
       "      <th>EU_sales</th>\n",
       "      <th>JP_sales</th>\n",
       "      <th>Other_sales</th>\n",
       "      <th>Critic_Score</th>\n",
       "      <th>User_Score</th>\n",
       "      <th>Rating</th>\n",
       "    </tr>\n",
       "  </thead>\n",
       "  <tbody>\n",
       "    <tr>\n",
       "      <th>16710</th>\n",
       "      <td>Samurai Warriors: Sanada Maru</td>\n",
       "      <td>PS3</td>\n",
       "      <td>2016.0</td>\n",
       "      <td>Action</td>\n",
       "      <td>0.00</td>\n",
       "      <td>0.00</td>\n",
       "      <td>0.01</td>\n",
       "      <td>0.0</td>\n",
       "      <td>NaN</td>\n",
       "      <td>NaN</td>\n",
       "      <td>NaN</td>\n",
       "    </tr>\n",
       "    <tr>\n",
       "      <th>16711</th>\n",
       "      <td>LMA Manager 2007</td>\n",
       "      <td>X360</td>\n",
       "      <td>2006.0</td>\n",
       "      <td>Sports</td>\n",
       "      <td>0.00</td>\n",
       "      <td>0.01</td>\n",
       "      <td>0.00</td>\n",
       "      <td>0.0</td>\n",
       "      <td>NaN</td>\n",
       "      <td>NaN</td>\n",
       "      <td>NaN</td>\n",
       "    </tr>\n",
       "    <tr>\n",
       "      <th>16712</th>\n",
       "      <td>Haitaka no Psychedelica</td>\n",
       "      <td>PSV</td>\n",
       "      <td>2016.0</td>\n",
       "      <td>Adventure</td>\n",
       "      <td>0.00</td>\n",
       "      <td>0.00</td>\n",
       "      <td>0.01</td>\n",
       "      <td>0.0</td>\n",
       "      <td>NaN</td>\n",
       "      <td>NaN</td>\n",
       "      <td>NaN</td>\n",
       "    </tr>\n",
       "    <tr>\n",
       "      <th>16713</th>\n",
       "      <td>Spirits &amp; Spells</td>\n",
       "      <td>GBA</td>\n",
       "      <td>2003.0</td>\n",
       "      <td>Platform</td>\n",
       "      <td>0.01</td>\n",
       "      <td>0.00</td>\n",
       "      <td>0.00</td>\n",
       "      <td>0.0</td>\n",
       "      <td>NaN</td>\n",
       "      <td>NaN</td>\n",
       "      <td>NaN</td>\n",
       "    </tr>\n",
       "    <tr>\n",
       "      <th>16714</th>\n",
       "      <td>Winning Post 8 2016</td>\n",
       "      <td>PSV</td>\n",
       "      <td>2016.0</td>\n",
       "      <td>Simulation</td>\n",
       "      <td>0.00</td>\n",
       "      <td>0.00</td>\n",
       "      <td>0.01</td>\n",
       "      <td>0.0</td>\n",
       "      <td>NaN</td>\n",
       "      <td>NaN</td>\n",
       "      <td>NaN</td>\n",
       "    </tr>\n",
       "  </tbody>\n",
       "</table>\n",
       "</div>"
      ],
      "text/plain": [
       "                                Name Platform  Year_of_Release       Genre  \\\n",
       "16710  Samurai Warriors: Sanada Maru      PS3           2016.0      Action   \n",
       "16711               LMA Manager 2007     X360           2006.0      Sports   \n",
       "16712        Haitaka no Psychedelica      PSV           2016.0   Adventure   \n",
       "16713               Spirits & Spells      GBA           2003.0    Platform   \n",
       "16714            Winning Post 8 2016      PSV           2016.0  Simulation   \n",
       "\n",
       "       NA_sales  EU_sales  JP_sales  Other_sales  Critic_Score User_Score  \\\n",
       "16710      0.00      0.00      0.01          0.0           NaN        NaN   \n",
       "16711      0.00      0.01      0.00          0.0           NaN        NaN   \n",
       "16712      0.00      0.00      0.01          0.0           NaN        NaN   \n",
       "16713      0.01      0.00      0.00          0.0           NaN        NaN   \n",
       "16714      0.00      0.00      0.01          0.0           NaN        NaN   \n",
       "\n",
       "      Rating  \n",
       "16710    NaN  \n",
       "16711    NaN  \n",
       "16712    NaN  \n",
       "16713    NaN  \n",
       "16714    NaN  "
      ]
     },
     "execution_count": 15,
     "metadata": {},
     "output_type": "execute_result"
    }
   ],
   "source": [
    "games_data_raw.tail()"
   ]
  },
  {
   "cell_type": "code",
   "execution_count": 16,
   "id": "cb82289e-264b-4731-bb6d-05ef31a9576c",
   "metadata": {},
   "outputs": [
    {
     "data": {
      "text/html": [
       "<div>\n",
       "<style scoped>\n",
       "    .dataframe tbody tr th:only-of-type {\n",
       "        vertical-align: middle;\n",
       "    }\n",
       "\n",
       "    .dataframe tbody tr th {\n",
       "        vertical-align: top;\n",
       "    }\n",
       "\n",
       "    .dataframe thead th {\n",
       "        text-align: right;\n",
       "    }\n",
       "</style>\n",
       "<table border=\"1\" class=\"dataframe\">\n",
       "  <thead>\n",
       "    <tr style=\"text-align: right;\">\n",
       "      <th></th>\n",
       "      <th>Year_of_Release</th>\n",
       "      <th>NA_sales</th>\n",
       "      <th>EU_sales</th>\n",
       "      <th>JP_sales</th>\n",
       "      <th>Other_sales</th>\n",
       "      <th>Critic_Score</th>\n",
       "    </tr>\n",
       "  </thead>\n",
       "  <tbody>\n",
       "    <tr>\n",
       "      <th>count</th>\n",
       "      <td>16446.000000</td>\n",
       "      <td>16715.000000</td>\n",
       "      <td>16715.000000</td>\n",
       "      <td>16715.000000</td>\n",
       "      <td>16715.000000</td>\n",
       "      <td>8137.000000</td>\n",
       "    </tr>\n",
       "    <tr>\n",
       "      <th>mean</th>\n",
       "      <td>2006.484616</td>\n",
       "      <td>0.263377</td>\n",
       "      <td>0.145060</td>\n",
       "      <td>0.077617</td>\n",
       "      <td>0.047342</td>\n",
       "      <td>68.967679</td>\n",
       "    </tr>\n",
       "    <tr>\n",
       "      <th>std</th>\n",
       "      <td>5.877050</td>\n",
       "      <td>0.813604</td>\n",
       "      <td>0.503339</td>\n",
       "      <td>0.308853</td>\n",
       "      <td>0.186731</td>\n",
       "      <td>13.938165</td>\n",
       "    </tr>\n",
       "    <tr>\n",
       "      <th>min</th>\n",
       "      <td>1980.000000</td>\n",
       "      <td>0.000000</td>\n",
       "      <td>0.000000</td>\n",
       "      <td>0.000000</td>\n",
       "      <td>0.000000</td>\n",
       "      <td>13.000000</td>\n",
       "    </tr>\n",
       "    <tr>\n",
       "      <th>25%</th>\n",
       "      <td>2003.000000</td>\n",
       "      <td>0.000000</td>\n",
       "      <td>0.000000</td>\n",
       "      <td>0.000000</td>\n",
       "      <td>0.000000</td>\n",
       "      <td>60.000000</td>\n",
       "    </tr>\n",
       "    <tr>\n",
       "      <th>50%</th>\n",
       "      <td>2007.000000</td>\n",
       "      <td>0.080000</td>\n",
       "      <td>0.020000</td>\n",
       "      <td>0.000000</td>\n",
       "      <td>0.010000</td>\n",
       "      <td>71.000000</td>\n",
       "    </tr>\n",
       "    <tr>\n",
       "      <th>75%</th>\n",
       "      <td>2010.000000</td>\n",
       "      <td>0.240000</td>\n",
       "      <td>0.110000</td>\n",
       "      <td>0.040000</td>\n",
       "      <td>0.030000</td>\n",
       "      <td>79.000000</td>\n",
       "    </tr>\n",
       "    <tr>\n",
       "      <th>max</th>\n",
       "      <td>2016.000000</td>\n",
       "      <td>41.360000</td>\n",
       "      <td>28.960000</td>\n",
       "      <td>10.220000</td>\n",
       "      <td>10.570000</td>\n",
       "      <td>98.000000</td>\n",
       "    </tr>\n",
       "  </tbody>\n",
       "</table>\n",
       "</div>"
      ],
      "text/plain": [
       "       Year_of_Release      NA_sales      EU_sales      JP_sales  \\\n",
       "count     16446.000000  16715.000000  16715.000000  16715.000000   \n",
       "mean       2006.484616      0.263377      0.145060      0.077617   \n",
       "std           5.877050      0.813604      0.503339      0.308853   \n",
       "min        1980.000000      0.000000      0.000000      0.000000   \n",
       "25%        2003.000000      0.000000      0.000000      0.000000   \n",
       "50%        2007.000000      0.080000      0.020000      0.000000   \n",
       "75%        2010.000000      0.240000      0.110000      0.040000   \n",
       "max        2016.000000     41.360000     28.960000     10.220000   \n",
       "\n",
       "        Other_sales  Critic_Score  \n",
       "count  16715.000000   8137.000000  \n",
       "mean       0.047342     68.967679  \n",
       "std        0.186731     13.938165  \n",
       "min        0.000000     13.000000  \n",
       "25%        0.000000     60.000000  \n",
       "50%        0.010000     71.000000  \n",
       "75%        0.030000     79.000000  \n",
       "max       10.570000     98.000000  "
      ]
     },
     "execution_count": 16,
     "metadata": {},
     "output_type": "execute_result"
    }
   ],
   "source": [
    "games_data_raw.describe()"
   ]
  },
  {
   "cell_type": "code",
   "execution_count": 17,
   "id": "1e3091f9-f845-4cc1-bfb9-be5ee6cb8eca",
   "metadata": {},
   "outputs": [
    {
     "data": {
      "text/plain": [
       "Name                  2\n",
       "Platform              0\n",
       "Year_of_Release     269\n",
       "Genre                 2\n",
       "NA_sales              0\n",
       "EU_sales              0\n",
       "JP_sales              0\n",
       "Other_sales           0\n",
       "Critic_Score       8578\n",
       "User_Score         6701\n",
       "Rating             6766\n",
       "dtype: int64"
      ]
     },
     "execution_count": 17,
     "metadata": {},
     "output_type": "execute_result"
    }
   ],
   "source": [
    "game_nulos = games_data_raw.isnull().sum()\n",
    "game_nulos"
   ]
  },
  {
   "cell_type": "markdown",
   "id": "9f66918e-7a6a-4c1e-a465-9d127d239e9b",
   "metadata": {},
   "source": [
    "existen 16715 filas con 10 columnas de las cuales varias columnas cuentas con valores nulos, esto puede ser porque aun no han sido calidficados los juego en el caso de score, en los años porque no se tiene la infomorcaion precisa etc."
   ]
  },
  {
   "cell_type": "code",
   "execution_count": 18,
   "id": "23347dfa-f242-4966-b8be-b53269e7405d",
   "metadata": {},
   "outputs": [
    {
     "name": "stdout",
     "output_type": "stream",
     "text": [
      "<class 'pandas.core.frame.DataFrame'>\n",
      "RangeIndex: 16715 entries, 0 to 16714\n",
      "Data columns (total 11 columns):\n",
      " #   Column           Non-Null Count  Dtype  \n",
      "---  ------           --------------  -----  \n",
      " 0   name             16713 non-null  object \n",
      " 1   platform         16715 non-null  object \n",
      " 2   year_of_release  16446 non-null  float64\n",
      " 3   genre            16713 non-null  object \n",
      " 4   na_sales         16715 non-null  float64\n",
      " 5   eu_sales         16715 non-null  float64\n",
      " 6   jp_sales         16715 non-null  float64\n",
      " 7   other_sales      16715 non-null  float64\n",
      " 8   critic_score     8137 non-null   float64\n",
      " 9   user_score       10014 non-null  object \n",
      " 10  rating           9949 non-null   object \n",
      "dtypes: float64(6), object(5)\n",
      "memory usage: 1.4+ MB\n"
     ]
    }
   ],
   "source": [
    "games_data_raw.columns= games_data_raw.columns.str.lower()\n",
    "games_data_raw.info()"
   ]
  },
  {
   "cell_type": "code",
   "execution_count": 19,
   "id": "759c481d-fe0d-4528-85a2-78fd06dac954",
   "metadata": {},
   "outputs": [
    {
     "data": {
      "text/plain": [
       "0        2006.0\n",
       "1        1985.0\n",
       "2        2008.0\n",
       "3        2009.0\n",
       "4        1996.0\n",
       "          ...  \n",
       "16710    2016.0\n",
       "16711    2006.0\n",
       "16712    2016.0\n",
       "16713    2003.0\n",
       "16714    2016.0\n",
       "Name: year_of_release, Length: 16715, dtype: float64"
      ]
     },
     "execution_count": 19,
     "metadata": {},
     "output_type": "execute_result"
    }
   ],
   "source": [
    "games_data_raw[\"year_of_release\"]"
   ]
  },
  {
   "cell_type": "markdown",
   "id": "5a8ff884-63c6-41f0-97a6-dea181af30c6",
   "metadata": {},
   "source": [
    "Existe un erros de fecha para la columna year_of_relase ya que esta tiene decimales y hay que convertirla a int"
   ]
  },
  {
   "cell_type": "code",
   "execution_count": 20,
   "id": "f400526f-b4c2-4ec3-a670-42a5f686ca00",
   "metadata": {},
   "outputs": [],
   "source": [
    "games_data_raw[\"year_of_release\"] = games_data_raw[\"year_of_release\"].fillna(0).astype('int')"
   ]
  },
  {
   "cell_type": "code",
   "execution_count": 21,
   "id": "d3433664-9b32-4429-8cd9-9567f61c04ef",
   "metadata": {},
   "outputs": [
    {
     "name": "stdout",
     "output_type": "stream",
     "text": [
      "<class 'pandas.core.frame.DataFrame'>\n",
      "RangeIndex: 16715 entries, 0 to 16714\n",
      "Data columns (total 11 columns):\n",
      " #   Column           Non-Null Count  Dtype  \n",
      "---  ------           --------------  -----  \n",
      " 0   name             16713 non-null  object \n",
      " 1   platform         16715 non-null  object \n",
      " 2   year_of_release  16715 non-null  int32  \n",
      " 3   genre            16713 non-null  object \n",
      " 4   na_sales         16715 non-null  float64\n",
      " 5   eu_sales         16715 non-null  float64\n",
      " 6   jp_sales         16715 non-null  float64\n",
      " 7   other_sales      16715 non-null  float64\n",
      " 8   critic_score     8137 non-null   float64\n",
      " 9   user_score       10014 non-null  object \n",
      " 10  rating           9949 non-null   object \n",
      "dtypes: float64(5), int32(1), object(5)\n",
      "memory usage: 1.3+ MB\n"
     ]
    }
   ],
   "source": [
    "games_data_raw.info()"
   ]
  },
  {
   "cell_type": "markdown",
   "id": "d709397d-9446-4825-b3c8-2b324e3f5825",
   "metadata": {},
   "source": [
    "los valores ausentes en los años los e dejado con cero ya que no sabemos que año corresponde"
   ]
  },
  {
   "cell_type": "code",
   "execution_count": 22,
   "id": "32101673-0876-44e2-b122-0548746e6fd4",
   "metadata": {},
   "outputs": [
    {
     "data": {
      "text/html": [
       "<div>\n",
       "<style scoped>\n",
       "    .dataframe tbody tr th:only-of-type {\n",
       "        vertical-align: middle;\n",
       "    }\n",
       "\n",
       "    .dataframe tbody tr th {\n",
       "        vertical-align: top;\n",
       "    }\n",
       "\n",
       "    .dataframe thead th {\n",
       "        text-align: right;\n",
       "    }\n",
       "</style>\n",
       "<table border=\"1\" class=\"dataframe\">\n",
       "  <thead>\n",
       "    <tr style=\"text-align: right;\">\n",
       "      <th></th>\n",
       "      <th>name</th>\n",
       "      <th>platform</th>\n",
       "      <th>year_of_release</th>\n",
       "      <th>genre</th>\n",
       "      <th>na_sales</th>\n",
       "      <th>eu_sales</th>\n",
       "      <th>jp_sales</th>\n",
       "      <th>other_sales</th>\n",
       "      <th>critic_score</th>\n",
       "      <th>user_score</th>\n",
       "      <th>rating</th>\n",
       "    </tr>\n",
       "  </thead>\n",
       "  <tbody>\n",
       "  </tbody>\n",
       "</table>\n",
       "</div>"
      ],
      "text/plain": [
       "Empty DataFrame\n",
       "Columns: [name, platform, year_of_release, genre, na_sales, eu_sales, jp_sales, other_sales, critic_score, user_score, rating]\n",
       "Index: []"
      ]
     },
     "execution_count": 22,
     "metadata": {},
     "output_type": "execute_result"
    }
   ],
   "source": [
    "games_data_raw.query('user_score == \"tdb\"')"
   ]
  },
  {
   "cell_type": "code",
   "execution_count": 23,
   "id": "f0fb715d-987c-41e4-819b-8a78a4f5fefc",
   "metadata": {},
   "outputs": [],
   "source": [
    "games_data_raw.loc[games_data_raw['user_score'] == \"tdb\", 'user_score'] = np.nan"
   ]
  },
  {
   "cell_type": "markdown",
   "id": "13a65b62-93d8-42f9-99fc-4d1287855fe4",
   "metadata": {},
   "source": [
    "Para la columna user_score se ha considerado dejar como NAN ya que aun no se a calificado (score) ya que si rellenaramos este se entenderia que ya fue calificado, lo cual no es verdad"
   ]
  },
  {
   "cell_type": "code",
   "execution_count": 24,
   "id": "237de10d-ee7d-4a3d-bce0-cd5220c5793e",
   "metadata": {},
   "outputs": [],
   "source": [
    "games_data_raw['user_score'] = pd.to_numeric(games_data_raw['user_score'], errors='coerce')"
   ]
  },
  {
   "cell_type": "code",
   "execution_count": 25,
   "id": "0fc4520e-52b1-44c7-bea9-7c35b3ba72dd",
   "metadata": {},
   "outputs": [
    {
     "name": "stdout",
     "output_type": "stream",
     "text": [
      "<class 'pandas.core.frame.DataFrame'>\n",
      "RangeIndex: 16715 entries, 0 to 16714\n",
      "Data columns (total 11 columns):\n",
      " #   Column           Non-Null Count  Dtype  \n",
      "---  ------           --------------  -----  \n",
      " 0   name             16713 non-null  object \n",
      " 1   platform         16715 non-null  object \n",
      " 2   year_of_release  16715 non-null  int32  \n",
      " 3   genre            16713 non-null  object \n",
      " 4   na_sales         16715 non-null  float64\n",
      " 5   eu_sales         16715 non-null  float64\n",
      " 6   jp_sales         16715 non-null  float64\n",
      " 7   other_sales      16715 non-null  float64\n",
      " 8   critic_score     8137 non-null   float64\n",
      " 9   user_score       7590 non-null   float64\n",
      " 10  rating           9949 non-null   object \n",
      "dtypes: float64(6), int32(1), object(4)\n",
      "memory usage: 1.3+ MB\n"
     ]
    }
   ],
   "source": [
    "games_data_raw.info()"
   ]
  },
  {
   "cell_type": "code",
   "execution_count": 26,
   "id": "379f9e81",
   "metadata": {},
   "outputs": [
    {
     "data": {
      "text/html": [
       "<div>\n",
       "<style scoped>\n",
       "    .dataframe tbody tr th:only-of-type {\n",
       "        vertical-align: middle;\n",
       "    }\n",
       "\n",
       "    .dataframe tbody tr th {\n",
       "        vertical-align: top;\n",
       "    }\n",
       "\n",
       "    .dataframe thead th {\n",
       "        text-align: right;\n",
       "    }\n",
       "</style>\n",
       "<table border=\"1\" class=\"dataframe\">\n",
       "  <thead>\n",
       "    <tr style=\"text-align: right;\">\n",
       "      <th></th>\n",
       "      <th>name</th>\n",
       "      <th>platform</th>\n",
       "      <th>year_of_release</th>\n",
       "      <th>genre</th>\n",
       "      <th>na_sales</th>\n",
       "      <th>eu_sales</th>\n",
       "      <th>jp_sales</th>\n",
       "      <th>other_sales</th>\n",
       "      <th>critic_score</th>\n",
       "      <th>user_score</th>\n",
       "      <th>rating</th>\n",
       "    </tr>\n",
       "  </thead>\n",
       "  <tbody>\n",
       "    <tr>\n",
       "      <th>0</th>\n",
       "      <td>Wii Sports</td>\n",
       "      <td>Wii</td>\n",
       "      <td>2006</td>\n",
       "      <td>Sports</td>\n",
       "      <td>41.36</td>\n",
       "      <td>28.96</td>\n",
       "      <td>3.77</td>\n",
       "      <td>8.45</td>\n",
       "      <td>76.0</td>\n",
       "      <td>8.0</td>\n",
       "      <td>E</td>\n",
       "    </tr>\n",
       "    <tr>\n",
       "      <th>1</th>\n",
       "      <td>Super Mario Bros.</td>\n",
       "      <td>NES</td>\n",
       "      <td>1985</td>\n",
       "      <td>Platform</td>\n",
       "      <td>29.08</td>\n",
       "      <td>3.58</td>\n",
       "      <td>6.81</td>\n",
       "      <td>0.77</td>\n",
       "      <td>NaN</td>\n",
       "      <td>NaN</td>\n",
       "      <td>NaN</td>\n",
       "    </tr>\n",
       "    <tr>\n",
       "      <th>2</th>\n",
       "      <td>Mario Kart Wii</td>\n",
       "      <td>Wii</td>\n",
       "      <td>2008</td>\n",
       "      <td>Racing</td>\n",
       "      <td>15.68</td>\n",
       "      <td>12.76</td>\n",
       "      <td>3.79</td>\n",
       "      <td>3.29</td>\n",
       "      <td>82.0</td>\n",
       "      <td>8.3</td>\n",
       "      <td>E</td>\n",
       "    </tr>\n",
       "    <tr>\n",
       "      <th>3</th>\n",
       "      <td>Wii Sports Resort</td>\n",
       "      <td>Wii</td>\n",
       "      <td>2009</td>\n",
       "      <td>Sports</td>\n",
       "      <td>15.61</td>\n",
       "      <td>10.93</td>\n",
       "      <td>3.28</td>\n",
       "      <td>2.95</td>\n",
       "      <td>80.0</td>\n",
       "      <td>8.0</td>\n",
       "      <td>E</td>\n",
       "    </tr>\n",
       "    <tr>\n",
       "      <th>4</th>\n",
       "      <td>Pokemon Red/Pokemon Blue</td>\n",
       "      <td>GB</td>\n",
       "      <td>1996</td>\n",
       "      <td>Role-Playing</td>\n",
       "      <td>11.27</td>\n",
       "      <td>8.89</td>\n",
       "      <td>10.22</td>\n",
       "      <td>1.00</td>\n",
       "      <td>NaN</td>\n",
       "      <td>NaN</td>\n",
       "      <td>NaN</td>\n",
       "    </tr>\n",
       "    <tr>\n",
       "      <th>...</th>\n",
       "      <td>...</td>\n",
       "      <td>...</td>\n",
       "      <td>...</td>\n",
       "      <td>...</td>\n",
       "      <td>...</td>\n",
       "      <td>...</td>\n",
       "      <td>...</td>\n",
       "      <td>...</td>\n",
       "      <td>...</td>\n",
       "      <td>...</td>\n",
       "      <td>...</td>\n",
       "    </tr>\n",
       "    <tr>\n",
       "      <th>16710</th>\n",
       "      <td>Samurai Warriors: Sanada Maru</td>\n",
       "      <td>PS3</td>\n",
       "      <td>2016</td>\n",
       "      <td>Action</td>\n",
       "      <td>0.00</td>\n",
       "      <td>0.00</td>\n",
       "      <td>0.01</td>\n",
       "      <td>0.00</td>\n",
       "      <td>NaN</td>\n",
       "      <td>NaN</td>\n",
       "      <td>NaN</td>\n",
       "    </tr>\n",
       "    <tr>\n",
       "      <th>16711</th>\n",
       "      <td>LMA Manager 2007</td>\n",
       "      <td>X360</td>\n",
       "      <td>2006</td>\n",
       "      <td>Sports</td>\n",
       "      <td>0.00</td>\n",
       "      <td>0.01</td>\n",
       "      <td>0.00</td>\n",
       "      <td>0.00</td>\n",
       "      <td>NaN</td>\n",
       "      <td>NaN</td>\n",
       "      <td>NaN</td>\n",
       "    </tr>\n",
       "    <tr>\n",
       "      <th>16712</th>\n",
       "      <td>Haitaka no Psychedelica</td>\n",
       "      <td>PSV</td>\n",
       "      <td>2016</td>\n",
       "      <td>Adventure</td>\n",
       "      <td>0.00</td>\n",
       "      <td>0.00</td>\n",
       "      <td>0.01</td>\n",
       "      <td>0.00</td>\n",
       "      <td>NaN</td>\n",
       "      <td>NaN</td>\n",
       "      <td>NaN</td>\n",
       "    </tr>\n",
       "    <tr>\n",
       "      <th>16713</th>\n",
       "      <td>Spirits &amp; Spells</td>\n",
       "      <td>GBA</td>\n",
       "      <td>2003</td>\n",
       "      <td>Platform</td>\n",
       "      <td>0.01</td>\n",
       "      <td>0.00</td>\n",
       "      <td>0.00</td>\n",
       "      <td>0.00</td>\n",
       "      <td>NaN</td>\n",
       "      <td>NaN</td>\n",
       "      <td>NaN</td>\n",
       "    </tr>\n",
       "    <tr>\n",
       "      <th>16714</th>\n",
       "      <td>Winning Post 8 2016</td>\n",
       "      <td>PSV</td>\n",
       "      <td>2016</td>\n",
       "      <td>Simulation</td>\n",
       "      <td>0.00</td>\n",
       "      <td>0.00</td>\n",
       "      <td>0.01</td>\n",
       "      <td>0.00</td>\n",
       "      <td>NaN</td>\n",
       "      <td>NaN</td>\n",
       "      <td>NaN</td>\n",
       "    </tr>\n",
       "  </tbody>\n",
       "</table>\n",
       "<p>16715 rows × 11 columns</p>\n",
       "</div>"
      ],
      "text/plain": [
       "                                name platform  year_of_release         genre  \\\n",
       "0                         Wii Sports      Wii             2006        Sports   \n",
       "1                  Super Mario Bros.      NES             1985      Platform   \n",
       "2                     Mario Kart Wii      Wii             2008        Racing   \n",
       "3                  Wii Sports Resort      Wii             2009        Sports   \n",
       "4           Pokemon Red/Pokemon Blue       GB             1996  Role-Playing   \n",
       "...                              ...      ...              ...           ...   \n",
       "16710  Samurai Warriors: Sanada Maru      PS3             2016        Action   \n",
       "16711               LMA Manager 2007     X360             2006        Sports   \n",
       "16712        Haitaka no Psychedelica      PSV             2016     Adventure   \n",
       "16713               Spirits & Spells      GBA             2003      Platform   \n",
       "16714            Winning Post 8 2016      PSV             2016    Simulation   \n",
       "\n",
       "       na_sales  eu_sales  jp_sales  other_sales  critic_score  user_score  \\\n",
       "0         41.36     28.96      3.77         8.45          76.0         8.0   \n",
       "1         29.08      3.58      6.81         0.77           NaN         NaN   \n",
       "2         15.68     12.76      3.79         3.29          82.0         8.3   \n",
       "3         15.61     10.93      3.28         2.95          80.0         8.0   \n",
       "4         11.27      8.89     10.22         1.00           NaN         NaN   \n",
       "...         ...       ...       ...          ...           ...         ...   \n",
       "16710      0.00      0.00      0.01         0.00           NaN         NaN   \n",
       "16711      0.00      0.01      0.00         0.00           NaN         NaN   \n",
       "16712      0.00      0.00      0.01         0.00           NaN         NaN   \n",
       "16713      0.01      0.00      0.00         0.00           NaN         NaN   \n",
       "16714      0.00      0.00      0.01         0.00           NaN         NaN   \n",
       "\n",
       "      rating  \n",
       "0          E  \n",
       "1        NaN  \n",
       "2          E  \n",
       "3          E  \n",
       "4        NaN  \n",
       "...      ...  \n",
       "16710    NaN  \n",
       "16711    NaN  \n",
       "16712    NaN  \n",
       "16713    NaN  \n",
       "16714    NaN  \n",
       "\n",
       "[16715 rows x 11 columns]"
      ]
     },
     "execution_count": 26,
     "metadata": {},
     "output_type": "execute_result"
    }
   ],
   "source": [
    "games_data_raw"
   ]
  },
  {
   "cell_type": "code",
   "execution_count": 27,
   "id": "f47b582d-cfcd-4f94-bb1f-fa1c6aa2fac2",
   "metadata": {},
   "outputs": [
    {
     "data": {
      "text/plain": [
       "0          E\n",
       "1        NaN\n",
       "2          E\n",
       "3          E\n",
       "4        NaN\n",
       "        ... \n",
       "16710    NaN\n",
       "16711    NaN\n",
       "16712    NaN\n",
       "16713    NaN\n",
       "16714    NaN\n",
       "Name: rating, Length: 16715, dtype: object"
      ]
     },
     "execution_count": 27,
     "metadata": {},
     "output_type": "execute_result"
    }
   ],
   "source": [
    "games_data_raw[\"rating\"]"
   ]
  },
  {
   "cell_type": "code",
   "execution_count": 28,
   "id": "7b148621-35ee-4605-9cee-30d8a63b1a4c",
   "metadata": {},
   "outputs": [
    {
     "data": {
      "text/plain": [
       "array(['E', nan, 'M', 'T', 'E10+', 'K-A', 'AO', 'EC', 'RP'], dtype=object)"
      ]
     },
     "execution_count": 28,
     "metadata": {},
     "output_type": "execute_result"
    }
   ],
   "source": [
    "games_data_raw[\"rating\"].unique()"
   ]
  },
  {
   "cell_type": "code",
   "execution_count": 29,
   "id": "5ac5b3b8-fe0e-4f6c-906b-4c219fedcb59",
   "metadata": {},
   "outputs": [],
   "source": [
    "games_data_raw[\"total_sales\"] = games_data_raw[[\"na_sales\", \"eu_sales\", \"jp_sales\", \"other_sales\"]].sum(axis=1)"
   ]
  },
  {
   "cell_type": "code",
   "execution_count": 30,
   "id": "fcb3ec2e",
   "metadata": {},
   "outputs": [],
   "source": [
    "median_critic_score = games_data_raw['critic_score'].median()\n",
    "median_user_score = games_data_raw['user_score'].median()"
   ]
  },
  {
   "cell_type": "code",
   "execution_count": 63,
   "id": "fb6a6fe0",
   "metadata": {},
   "outputs": [
    {
     "name": "stdout",
     "output_type": "stream",
     "text": [
      "name                  2\n",
      "platform              0\n",
      "year_of_release       0\n",
      "genre                 2\n",
      "na_sales              0\n",
      "eu_sales              0\n",
      "jp_sales              0\n",
      "other_sales           0\n",
      "critic_score          0\n",
      "user_score            0\n",
      "rating             6766\n",
      "total_sales           0\n",
      "calif_promedio        0\n",
      "dtype: int64\n"
     ]
    }
   ],
   "source": [
    "critic_score_median = games_data_raw['critic_score'].median()\n",
    "user_score_median = games_data_raw['user_score'].median()\n",
    "\n",
    "games_data_raw['critic_score'] = games_data_raw['critic_score'].fillna(critic_score_median)\n",
    "games_data_raw['user_score'] = games_data_raw['user_score'].fillna(user_score_median)\n",
    "print(games_data_raw.isnull().sum())"
   ]
  },
  {
   "cell_type": "markdown",
   "id": "7b1e7218-6603-4583-9d6a-55d77c8eb053",
   "metadata": {},
   "source": [
    "los valores nulos para critic_score y user_score obtuvimos la mediana para no sesgar los resultados"
   ]
  },
  {
   "cell_type": "code",
   "execution_count": 33,
   "id": "073fc88e-df0b-44b8-b687-6b4bfbd6e65d",
   "metadata": {},
   "outputs": [
    {
     "data": {
      "text/html": [
       "<div>\n",
       "<style scoped>\n",
       "    .dataframe tbody tr th:only-of-type {\n",
       "        vertical-align: middle;\n",
       "    }\n",
       "\n",
       "    .dataframe tbody tr th {\n",
       "        vertical-align: top;\n",
       "    }\n",
       "\n",
       "    .dataframe thead th {\n",
       "        text-align: right;\n",
       "    }\n",
       "</style>\n",
       "<table border=\"1\" class=\"dataframe\">\n",
       "  <thead>\n",
       "    <tr style=\"text-align: right;\">\n",
       "      <th></th>\n",
       "      <th>name</th>\n",
       "      <th>platform</th>\n",
       "      <th>year_of_release</th>\n",
       "      <th>genre</th>\n",
       "      <th>na_sales</th>\n",
       "      <th>eu_sales</th>\n",
       "      <th>jp_sales</th>\n",
       "      <th>other_sales</th>\n",
       "      <th>critic_score</th>\n",
       "      <th>user_score</th>\n",
       "      <th>rating</th>\n",
       "      <th>total_sales</th>\n",
       "    </tr>\n",
       "  </thead>\n",
       "  <tbody>\n",
       "    <tr>\n",
       "      <th>0</th>\n",
       "      <td>Wii Sports</td>\n",
       "      <td>Wii</td>\n",
       "      <td>2006</td>\n",
       "      <td>Sports</td>\n",
       "      <td>41.36</td>\n",
       "      <td>28.96</td>\n",
       "      <td>3.77</td>\n",
       "      <td>8.45</td>\n",
       "      <td>76.0</td>\n",
       "      <td>8.0</td>\n",
       "      <td>E</td>\n",
       "      <td>82.54</td>\n",
       "    </tr>\n",
       "    <tr>\n",
       "      <th>1</th>\n",
       "      <td>Super Mario Bros.</td>\n",
       "      <td>NES</td>\n",
       "      <td>1985</td>\n",
       "      <td>Platform</td>\n",
       "      <td>29.08</td>\n",
       "      <td>3.58</td>\n",
       "      <td>6.81</td>\n",
       "      <td>0.77</td>\n",
       "      <td>71.0</td>\n",
       "      <td>7.5</td>\n",
       "      <td>NaN</td>\n",
       "      <td>40.24</td>\n",
       "    </tr>\n",
       "    <tr>\n",
       "      <th>2</th>\n",
       "      <td>Mario Kart Wii</td>\n",
       "      <td>Wii</td>\n",
       "      <td>2008</td>\n",
       "      <td>Racing</td>\n",
       "      <td>15.68</td>\n",
       "      <td>12.76</td>\n",
       "      <td>3.79</td>\n",
       "      <td>3.29</td>\n",
       "      <td>82.0</td>\n",
       "      <td>8.3</td>\n",
       "      <td>E</td>\n",
       "      <td>35.52</td>\n",
       "    </tr>\n",
       "    <tr>\n",
       "      <th>3</th>\n",
       "      <td>Wii Sports Resort</td>\n",
       "      <td>Wii</td>\n",
       "      <td>2009</td>\n",
       "      <td>Sports</td>\n",
       "      <td>15.61</td>\n",
       "      <td>10.93</td>\n",
       "      <td>3.28</td>\n",
       "      <td>2.95</td>\n",
       "      <td>80.0</td>\n",
       "      <td>8.0</td>\n",
       "      <td>E</td>\n",
       "      <td>32.77</td>\n",
       "    </tr>\n",
       "    <tr>\n",
       "      <th>4</th>\n",
       "      <td>Pokemon Red/Pokemon Blue</td>\n",
       "      <td>GB</td>\n",
       "      <td>1996</td>\n",
       "      <td>Role-Playing</td>\n",
       "      <td>11.27</td>\n",
       "      <td>8.89</td>\n",
       "      <td>10.22</td>\n",
       "      <td>1.00</td>\n",
       "      <td>71.0</td>\n",
       "      <td>7.5</td>\n",
       "      <td>NaN</td>\n",
       "      <td>31.38</td>\n",
       "    </tr>\n",
       "  </tbody>\n",
       "</table>\n",
       "</div>"
      ],
      "text/plain": [
       "                       name platform  year_of_release         genre  na_sales  \\\n",
       "0                Wii Sports      Wii             2006        Sports     41.36   \n",
       "1         Super Mario Bros.      NES             1985      Platform     29.08   \n",
       "2            Mario Kart Wii      Wii             2008        Racing     15.68   \n",
       "3         Wii Sports Resort      Wii             2009        Sports     15.61   \n",
       "4  Pokemon Red/Pokemon Blue       GB             1996  Role-Playing     11.27   \n",
       "\n",
       "   eu_sales  jp_sales  other_sales  critic_score  user_score rating  \\\n",
       "0     28.96      3.77         8.45          76.0         8.0      E   \n",
       "1      3.58      6.81         0.77          71.0         7.5    NaN   \n",
       "2     12.76      3.79         3.29          82.0         8.3      E   \n",
       "3     10.93      3.28         2.95          80.0         8.0      E   \n",
       "4      8.89     10.22         1.00          71.0         7.5    NaN   \n",
       "\n",
       "   total_sales  \n",
       "0        82.54  \n",
       "1        40.24  \n",
       "2        35.52  \n",
       "3        32.77  \n",
       "4        31.38  "
      ]
     },
     "execution_count": 33,
     "metadata": {},
     "output_type": "execute_result"
    }
   ],
   "source": [
    "games_data_raw.head()"
   ]
  },
  {
   "cell_type": "code",
   "execution_count": 34,
   "id": "69be52f9-f34d-4ab9-8b80-6a10c9226d66",
   "metadata": {},
   "outputs": [
    {
     "data": {
      "text/html": [
       "<div>\n",
       "<style scoped>\n",
       "    .dataframe tbody tr th:only-of-type {\n",
       "        vertical-align: middle;\n",
       "    }\n",
       "\n",
       "    .dataframe tbody tr th {\n",
       "        vertical-align: top;\n",
       "    }\n",
       "\n",
       "    .dataframe thead th {\n",
       "        text-align: right;\n",
       "    }\n",
       "</style>\n",
       "<table border=\"1\" class=\"dataframe\">\n",
       "  <thead>\n",
       "    <tr style=\"text-align: right;\">\n",
       "      <th></th>\n",
       "      <th>name</th>\n",
       "      <th>platform</th>\n",
       "      <th>year_of_release</th>\n",
       "      <th>genre</th>\n",
       "      <th>na_sales</th>\n",
       "      <th>eu_sales</th>\n",
       "      <th>jp_sales</th>\n",
       "      <th>other_sales</th>\n",
       "      <th>critic_score</th>\n",
       "      <th>user_score</th>\n",
       "      <th>rating</th>\n",
       "      <th>total_sales</th>\n",
       "    </tr>\n",
       "  </thead>\n",
       "  <tbody>\n",
       "    <tr>\n",
       "      <th>0</th>\n",
       "      <td>Wii Sports</td>\n",
       "      <td>Wii</td>\n",
       "      <td>2006</td>\n",
       "      <td>Sports</td>\n",
       "      <td>41.36</td>\n",
       "      <td>28.96</td>\n",
       "      <td>3.77</td>\n",
       "      <td>8.45</td>\n",
       "      <td>76.0</td>\n",
       "      <td>8.0</td>\n",
       "      <td>E</td>\n",
       "      <td>82.54</td>\n",
       "    </tr>\n",
       "    <tr>\n",
       "      <th>1</th>\n",
       "      <td>Super Mario Bros.</td>\n",
       "      <td>NES</td>\n",
       "      <td>1985</td>\n",
       "      <td>Platform</td>\n",
       "      <td>29.08</td>\n",
       "      <td>3.58</td>\n",
       "      <td>6.81</td>\n",
       "      <td>0.77</td>\n",
       "      <td>71.0</td>\n",
       "      <td>7.5</td>\n",
       "      <td>NaN</td>\n",
       "      <td>40.24</td>\n",
       "    </tr>\n",
       "    <tr>\n",
       "      <th>2</th>\n",
       "      <td>Mario Kart Wii</td>\n",
       "      <td>Wii</td>\n",
       "      <td>2008</td>\n",
       "      <td>Racing</td>\n",
       "      <td>15.68</td>\n",
       "      <td>12.76</td>\n",
       "      <td>3.79</td>\n",
       "      <td>3.29</td>\n",
       "      <td>82.0</td>\n",
       "      <td>8.3</td>\n",
       "      <td>E</td>\n",
       "      <td>35.52</td>\n",
       "    </tr>\n",
       "    <tr>\n",
       "      <th>3</th>\n",
       "      <td>Wii Sports Resort</td>\n",
       "      <td>Wii</td>\n",
       "      <td>2009</td>\n",
       "      <td>Sports</td>\n",
       "      <td>15.61</td>\n",
       "      <td>10.93</td>\n",
       "      <td>3.28</td>\n",
       "      <td>2.95</td>\n",
       "      <td>80.0</td>\n",
       "      <td>8.0</td>\n",
       "      <td>E</td>\n",
       "      <td>32.77</td>\n",
       "    </tr>\n",
       "    <tr>\n",
       "      <th>4</th>\n",
       "      <td>Pokemon Red/Pokemon Blue</td>\n",
       "      <td>GB</td>\n",
       "      <td>1996</td>\n",
       "      <td>Role-Playing</td>\n",
       "      <td>11.27</td>\n",
       "      <td>8.89</td>\n",
       "      <td>10.22</td>\n",
       "      <td>1.00</td>\n",
       "      <td>71.0</td>\n",
       "      <td>7.5</td>\n",
       "      <td>NaN</td>\n",
       "      <td>31.38</td>\n",
       "    </tr>\n",
       "  </tbody>\n",
       "</table>\n",
       "</div>"
      ],
      "text/plain": [
       "                       name platform  year_of_release         genre  na_sales  \\\n",
       "0                Wii Sports      Wii             2006        Sports     41.36   \n",
       "1         Super Mario Bros.      NES             1985      Platform     29.08   \n",
       "2            Mario Kart Wii      Wii             2008        Racing     15.68   \n",
       "3         Wii Sports Resort      Wii             2009        Sports     15.61   \n",
       "4  Pokemon Red/Pokemon Blue       GB             1996  Role-Playing     11.27   \n",
       "\n",
       "   eu_sales  jp_sales  other_sales  critic_score  user_score rating  \\\n",
       "0     28.96      3.77         8.45          76.0         8.0      E   \n",
       "1      3.58      6.81         0.77          71.0         7.5    NaN   \n",
       "2     12.76      3.79         3.29          82.0         8.3      E   \n",
       "3     10.93      3.28         2.95          80.0         8.0      E   \n",
       "4      8.89     10.22         1.00          71.0         7.5    NaN   \n",
       "\n",
       "   total_sales  \n",
       "0        82.54  \n",
       "1        40.24  \n",
       "2        35.52  \n",
       "3        32.77  \n",
       "4        31.38  "
      ]
     },
     "execution_count": 34,
     "metadata": {},
     "output_type": "execute_result"
    }
   ],
   "source": [
    "games_data_raw.nlargest(5, ['total_sales'])"
   ]
  },
  {
   "cell_type": "code",
   "execution_count": 35,
   "id": "12896a71-0a8c-491b-989f-a47bccf50e86",
   "metadata": {},
   "outputs": [
    {
     "data": {
      "text/html": [
       "<div>\n",
       "<style scoped>\n",
       "    .dataframe tbody tr th:only-of-type {\n",
       "        vertical-align: middle;\n",
       "    }\n",
       "\n",
       "    .dataframe tbody tr th {\n",
       "        vertical-align: top;\n",
       "    }\n",
       "\n",
       "    .dataframe thead th {\n",
       "        text-align: right;\n",
       "    }\n",
       "</style>\n",
       "<table border=\"1\" class=\"dataframe\">\n",
       "  <thead>\n",
       "    <tr style=\"text-align: right;\">\n",
       "      <th></th>\n",
       "      <th>name</th>\n",
       "      <th>platform</th>\n",
       "      <th>year_of_release</th>\n",
       "      <th>genre</th>\n",
       "      <th>na_sales</th>\n",
       "      <th>eu_sales</th>\n",
       "      <th>jp_sales</th>\n",
       "      <th>other_sales</th>\n",
       "      <th>critic_score</th>\n",
       "      <th>user_score</th>\n",
       "      <th>rating</th>\n",
       "      <th>total_sales</th>\n",
       "    </tr>\n",
       "  </thead>\n",
       "  <tbody>\n",
       "    <tr>\n",
       "      <th>16676</th>\n",
       "      <td>G1 Jockey 4 2008</td>\n",
       "      <td>PS3</td>\n",
       "      <td>2008</td>\n",
       "      <td>Sports</td>\n",
       "      <td>0.00</td>\n",
       "      <td>0.00</td>\n",
       "      <td>0.0</td>\n",
       "      <td>0.0</td>\n",
       "      <td>71.0</td>\n",
       "      <td>7.5</td>\n",
       "      <td>NaN</td>\n",
       "      <td>0.00</td>\n",
       "    </tr>\n",
       "    <tr>\n",
       "      <th>16709</th>\n",
       "      <td>SCORE International Baja 1000: The Official Game</td>\n",
       "      <td>PS2</td>\n",
       "      <td>2008</td>\n",
       "      <td>Racing</td>\n",
       "      <td>0.00</td>\n",
       "      <td>0.00</td>\n",
       "      <td>0.0</td>\n",
       "      <td>0.0</td>\n",
       "      <td>71.0</td>\n",
       "      <td>7.5</td>\n",
       "      <td>NaN</td>\n",
       "      <td>0.00</td>\n",
       "    </tr>\n",
       "    <tr>\n",
       "      <th>15384</th>\n",
       "      <td>Order of War</td>\n",
       "      <td>PC</td>\n",
       "      <td>2009</td>\n",
       "      <td>Strategy</td>\n",
       "      <td>0.00</td>\n",
       "      <td>0.01</td>\n",
       "      <td>0.0</td>\n",
       "      <td>0.0</td>\n",
       "      <td>69.0</td>\n",
       "      <td>7.3</td>\n",
       "      <td>T</td>\n",
       "      <td>0.01</td>\n",
       "    </tr>\n",
       "    <tr>\n",
       "      <th>15486</th>\n",
       "      <td>Arslan: The Warriors of Legend</td>\n",
       "      <td>XOne</td>\n",
       "      <td>2016</td>\n",
       "      <td>Action</td>\n",
       "      <td>0.01</td>\n",
       "      <td>0.00</td>\n",
       "      <td>0.0</td>\n",
       "      <td>0.0</td>\n",
       "      <td>71.0</td>\n",
       "      <td>5.8</td>\n",
       "      <td>T</td>\n",
       "      <td>0.01</td>\n",
       "    </tr>\n",
       "    <tr>\n",
       "      <th>15499</th>\n",
       "      <td>Motocross Mania 3</td>\n",
       "      <td>XB</td>\n",
       "      <td>2005</td>\n",
       "      <td>Racing</td>\n",
       "      <td>0.01</td>\n",
       "      <td>0.00</td>\n",
       "      <td>0.0</td>\n",
       "      <td>0.0</td>\n",
       "      <td>38.0</td>\n",
       "      <td>3.6</td>\n",
       "      <td>T</td>\n",
       "      <td>0.01</td>\n",
       "    </tr>\n",
       "  </tbody>\n",
       "</table>\n",
       "</div>"
      ],
      "text/plain": [
       "                                                   name platform  \\\n",
       "16676                                  G1 Jockey 4 2008      PS3   \n",
       "16709  SCORE International Baja 1000: The Official Game      PS2   \n",
       "15384                                      Order of War       PC   \n",
       "15486                    Arslan: The Warriors of Legend     XOne   \n",
       "15499                                 Motocross Mania 3       XB   \n",
       "\n",
       "       year_of_release     genre  na_sales  eu_sales  jp_sales  other_sales  \\\n",
       "16676             2008    Sports      0.00      0.00       0.0          0.0   \n",
       "16709             2008    Racing      0.00      0.00       0.0          0.0   \n",
       "15384             2009  Strategy      0.00      0.01       0.0          0.0   \n",
       "15486             2016    Action      0.01      0.00       0.0          0.0   \n",
       "15499             2005    Racing      0.01      0.00       0.0          0.0   \n",
       "\n",
       "       critic_score  user_score rating  total_sales  \n",
       "16676          71.0         7.5    NaN         0.00  \n",
       "16709          71.0         7.5    NaN         0.00  \n",
       "15384          69.0         7.3      T         0.01  \n",
       "15486          71.0         5.8      T         0.01  \n",
       "15499          38.0         3.6      T         0.01  "
      ]
     },
     "execution_count": 35,
     "metadata": {},
     "output_type": "execute_result"
    }
   ],
   "source": [
    "games_data_raw.nsmallest(5, ['total_sales'])"
   ]
  },
  {
   "cell_type": "markdown",
   "id": "15d1701e-d3b3-49ee-aa1e-bbeb3328d3af",
   "metadata": {},
   "source": [
    "Al crear la columna total sales, la cual suma las filas sobre las ventas, estas plataformas son las 5 lideres\n",
    "Basandonos en las plataforma las top serian las siguientes wii, nes y  gb, Por otro lado las plataformas con menores ventas son ps3, ps2, pc, xon y xb "
   ]
  },
  {
   "cell_type": "code",
   "execution_count": 36,
   "id": "c7519b89-b686-4563-b0f9-9aa34977d493",
   "metadata": {},
   "outputs": [],
   "source": [
    "lanzamiento_año = games_data_raw.groupby('year_of_release')[\"name\"].count().sort_values(ascending=False).reset_index()"
   ]
  },
  {
   "cell_type": "code",
   "execution_count": 37,
   "id": "74efb645-d4a7-4eed-9d33-f59d4c646bce",
   "metadata": {},
   "outputs": [],
   "source": [
    "lanzamiento_año = lanzamiento_año[lanzamiento_año['year_of_release'] != 0]"
   ]
  },
  {
   "cell_type": "code",
   "execution_count": 38,
   "id": "347c869a-e2a2-4428-b53a-67599b38c0c6",
   "metadata": {},
   "outputs": [
    {
     "data": {
      "text/html": [
       "<div>\n",
       "<style scoped>\n",
       "    .dataframe tbody tr th:only-of-type {\n",
       "        vertical-align: middle;\n",
       "    }\n",
       "\n",
       "    .dataframe tbody tr th {\n",
       "        vertical-align: top;\n",
       "    }\n",
       "\n",
       "    .dataframe thead th {\n",
       "        text-align: right;\n",
       "    }\n",
       "</style>\n",
       "<table border=\"1\" class=\"dataframe\">\n",
       "  <thead>\n",
       "    <tr style=\"text-align: right;\">\n",
       "      <th></th>\n",
       "      <th>year_of_release</th>\n",
       "      <th>name</th>\n",
       "    </tr>\n",
       "  </thead>\n",
       "  <tbody>\n",
       "    <tr>\n",
       "      <th>0</th>\n",
       "      <td>2008</td>\n",
       "      <td>1427</td>\n",
       "    </tr>\n",
       "    <tr>\n",
       "      <th>1</th>\n",
       "      <td>2009</td>\n",
       "      <td>1426</td>\n",
       "    </tr>\n",
       "    <tr>\n",
       "      <th>2</th>\n",
       "      <td>2010</td>\n",
       "      <td>1255</td>\n",
       "    </tr>\n",
       "    <tr>\n",
       "      <th>3</th>\n",
       "      <td>2007</td>\n",
       "      <td>1197</td>\n",
       "    </tr>\n",
       "    <tr>\n",
       "      <th>4</th>\n",
       "      <td>2011</td>\n",
       "      <td>1136</td>\n",
       "    </tr>\n",
       "    <tr>\n",
       "      <th>5</th>\n",
       "      <td>2006</td>\n",
       "      <td>1006</td>\n",
       "    </tr>\n",
       "    <tr>\n",
       "      <th>6</th>\n",
       "      <td>2005</td>\n",
       "      <td>939</td>\n",
       "    </tr>\n",
       "    <tr>\n",
       "      <th>7</th>\n",
       "      <td>2002</td>\n",
       "      <td>829</td>\n",
       "    </tr>\n",
       "    <tr>\n",
       "      <th>8</th>\n",
       "      <td>2003</td>\n",
       "      <td>775</td>\n",
       "    </tr>\n",
       "    <tr>\n",
       "      <th>9</th>\n",
       "      <td>2004</td>\n",
       "      <td>762</td>\n",
       "    </tr>\n",
       "    <tr>\n",
       "      <th>10</th>\n",
       "      <td>2012</td>\n",
       "      <td>653</td>\n",
       "    </tr>\n",
       "    <tr>\n",
       "      <th>11</th>\n",
       "      <td>2015</td>\n",
       "      <td>606</td>\n",
       "    </tr>\n",
       "    <tr>\n",
       "      <th>12</th>\n",
       "      <td>2014</td>\n",
       "      <td>581</td>\n",
       "    </tr>\n",
       "    <tr>\n",
       "      <th>13</th>\n",
       "      <td>2013</td>\n",
       "      <td>544</td>\n",
       "    </tr>\n",
       "    <tr>\n",
       "      <th>14</th>\n",
       "      <td>2016</td>\n",
       "      <td>502</td>\n",
       "    </tr>\n",
       "    <tr>\n",
       "      <th>15</th>\n",
       "      <td>2001</td>\n",
       "      <td>482</td>\n",
       "    </tr>\n",
       "    <tr>\n",
       "      <th>16</th>\n",
       "      <td>1998</td>\n",
       "      <td>379</td>\n",
       "    </tr>\n",
       "    <tr>\n",
       "      <th>17</th>\n",
       "      <td>2000</td>\n",
       "      <td>350</td>\n",
       "    </tr>\n",
       "    <tr>\n",
       "      <th>18</th>\n",
       "      <td>1999</td>\n",
       "      <td>338</td>\n",
       "    </tr>\n",
       "    <tr>\n",
       "      <th>19</th>\n",
       "      <td>1997</td>\n",
       "      <td>289</td>\n",
       "    </tr>\n",
       "    <tr>\n",
       "      <th>21</th>\n",
       "      <td>1996</td>\n",
       "      <td>263</td>\n",
       "    </tr>\n",
       "    <tr>\n",
       "      <th>22</th>\n",
       "      <td>1995</td>\n",
       "      <td>219</td>\n",
       "    </tr>\n",
       "    <tr>\n",
       "      <th>23</th>\n",
       "      <td>1994</td>\n",
       "      <td>121</td>\n",
       "    </tr>\n",
       "    <tr>\n",
       "      <th>24</th>\n",
       "      <td>1993</td>\n",
       "      <td>60</td>\n",
       "    </tr>\n",
       "    <tr>\n",
       "      <th>25</th>\n",
       "      <td>1981</td>\n",
       "      <td>46</td>\n",
       "    </tr>\n",
       "    <tr>\n",
       "      <th>26</th>\n",
       "      <td>1992</td>\n",
       "      <td>43</td>\n",
       "    </tr>\n",
       "    <tr>\n",
       "      <th>27</th>\n",
       "      <td>1991</td>\n",
       "      <td>41</td>\n",
       "    </tr>\n",
       "    <tr>\n",
       "      <th>28</th>\n",
       "      <td>1982</td>\n",
       "      <td>36</td>\n",
       "    </tr>\n",
       "    <tr>\n",
       "      <th>29</th>\n",
       "      <td>1986</td>\n",
       "      <td>21</td>\n",
       "    </tr>\n",
       "    <tr>\n",
       "      <th>30</th>\n",
       "      <td>1989</td>\n",
       "      <td>17</td>\n",
       "    </tr>\n",
       "    <tr>\n",
       "      <th>31</th>\n",
       "      <td>1983</td>\n",
       "      <td>17</td>\n",
       "    </tr>\n",
       "    <tr>\n",
       "      <th>32</th>\n",
       "      <td>1987</td>\n",
       "      <td>16</td>\n",
       "    </tr>\n",
       "    <tr>\n",
       "      <th>33</th>\n",
       "      <td>1990</td>\n",
       "      <td>16</td>\n",
       "    </tr>\n",
       "    <tr>\n",
       "      <th>34</th>\n",
       "      <td>1988</td>\n",
       "      <td>15</td>\n",
       "    </tr>\n",
       "    <tr>\n",
       "      <th>35</th>\n",
       "      <td>1985</td>\n",
       "      <td>14</td>\n",
       "    </tr>\n",
       "    <tr>\n",
       "      <th>36</th>\n",
       "      <td>1984</td>\n",
       "      <td>14</td>\n",
       "    </tr>\n",
       "    <tr>\n",
       "      <th>37</th>\n",
       "      <td>1980</td>\n",
       "      <td>9</td>\n",
       "    </tr>\n",
       "  </tbody>\n",
       "</table>\n",
       "</div>"
      ],
      "text/plain": [
       "    year_of_release  name\n",
       "0              2008  1427\n",
       "1              2009  1426\n",
       "2              2010  1255\n",
       "3              2007  1197\n",
       "4              2011  1136\n",
       "5              2006  1006\n",
       "6              2005   939\n",
       "7              2002   829\n",
       "8              2003   775\n",
       "9              2004   762\n",
       "10             2012   653\n",
       "11             2015   606\n",
       "12             2014   581\n",
       "13             2013   544\n",
       "14             2016   502\n",
       "15             2001   482\n",
       "16             1998   379\n",
       "17             2000   350\n",
       "18             1999   338\n",
       "19             1997   289\n",
       "21             1996   263\n",
       "22             1995   219\n",
       "23             1994   121\n",
       "24             1993    60\n",
       "25             1981    46\n",
       "26             1992    43\n",
       "27             1991    41\n",
       "28             1982    36\n",
       "29             1986    21\n",
       "30             1989    17\n",
       "31             1983    17\n",
       "32             1987    16\n",
       "33             1990    16\n",
       "34             1988    15\n",
       "35             1985    14\n",
       "36             1984    14\n",
       "37             1980     9"
      ]
     },
     "execution_count": 38,
     "metadata": {},
     "output_type": "execute_result"
    }
   ],
   "source": [
    "lanzamiento_año"
   ]
  },
  {
   "cell_type": "markdown",
   "id": "ef64df61-60b8-4cea-b3fa-6674e3aa48c1",
   "metadata": {},
   "source": [
    "se ha eliminado los juegos que no tenemos datos (año) sin embargo de forma ascendente determinamos que en el 2008 se lanzaron 1427, el cual fue el año con maslanzamientos y el año con menor lñanzamientos de juegos fue en 1980 con 9"
   ]
  },
  {
   "cell_type": "code",
   "execution_count": 39,
   "id": "7aef781b-c183-4c51-b793-bae932dc0b33",
   "metadata": {},
   "outputs": [
    {
     "data": {
      "image/png": "[encoded data removed]",
      "text/plain": [
       "<Figure size 1000x500 with 1 Axes>"
      ]
     },
     "metadata": {},
     "output_type": "display_data"
    }
   ],
   "source": [
    "fig, ax= plt.subplots(figsize=(10,5))\n",
    "ax.vlines(x=lanzamiento_año.year_of_release, ymin=0, ymax=lanzamiento_año.name)\n",
    "ax.set_tittle = (\"Lanzamiento de juego por año\")\n",
    "plt.show()"
   ]
  },
  {
   "cell_type": "markdown",
   "id": "1c9771e0-389a-40f9-bdba-b72006262672",
   "metadata": {},
   "source": [
    "La grafica nos muestra un analisis sobre el mercado de videojuagos en el tiempo respecto al lanzamiento de videojuegos, podemos observar que el mayor aumento de estos es entre el año 2002 al 2010, donde se ve claramente un gran numero de lanzamientos donde el año 2008 tuvo el mayor numero de lanzamiwntoS. Sin embargo apartir del año 2011 la tendencia es hacia la baja"
   ]
  },
  {
   "cell_type": "code",
   "execution_count": 40,
   "id": "dec3369a-c2dc-4d46-8720-9691f50ae104",
   "metadata": {},
   "outputs": [],
   "source": [
    "df_ventas_plataforma = games_data_raw.groupby(\"platform\")[\"total_sales\"].sum().sort_values(ascending=False).reset_index()"
   ]
  },
  {
   "cell_type": "code",
   "execution_count": 41,
   "id": "5f7dea38-b6eb-4ca5-8c36-9ca81ec2cb05",
   "metadata": {},
   "outputs": [
    {
     "data": {
      "text/html": [
       "<div>\n",
       "<style scoped>\n",
       "    .dataframe tbody tr th:only-of-type {\n",
       "        vertical-align: middle;\n",
       "    }\n",
       "\n",
       "    .dataframe tbody tr th {\n",
       "        vertical-align: top;\n",
       "    }\n",
       "\n",
       "    .dataframe thead th {\n",
       "        text-align: right;\n",
       "    }\n",
       "</style>\n",
       "<table border=\"1\" class=\"dataframe\">\n",
       "  <thead>\n",
       "    <tr style=\"text-align: right;\">\n",
       "      <th></th>\n",
       "      <th>platform</th>\n",
       "      <th>total_sales</th>\n",
       "      <th>z_score</th>\n",
       "    </tr>\n",
       "  </thead>\n",
       "  <tbody>\n",
       "    <tr>\n",
       "      <th>0</th>\n",
       "      <td>PS2</td>\n",
       "      <td>1255.77</td>\n",
       "      <td>2.780807</td>\n",
       "    </tr>\n",
       "    <tr>\n",
       "      <th>1</th>\n",
       "      <td>X360</td>\n",
       "      <td>971.42</td>\n",
       "      <td>1.964085</td>\n",
       "    </tr>\n",
       "    <tr>\n",
       "      <th>2</th>\n",
       "      <td>PS3</td>\n",
       "      <td>939.65</td>\n",
       "      <td>1.872834</td>\n",
       "    </tr>\n",
       "    <tr>\n",
       "      <th>3</th>\n",
       "      <td>Wii</td>\n",
       "      <td>907.51</td>\n",
       "      <td>1.780520</td>\n",
       "    </tr>\n",
       "    <tr>\n",
       "      <th>4</th>\n",
       "      <td>DS</td>\n",
       "      <td>806.12</td>\n",
       "      <td>1.489304</td>\n",
       "    </tr>\n",
       "    <tr>\n",
       "      <th>5</th>\n",
       "      <td>PS</td>\n",
       "      <td>730.86</td>\n",
       "      <td>1.273139</td>\n",
       "    </tr>\n",
       "    <tr>\n",
       "      <th>6</th>\n",
       "      <td>GBA</td>\n",
       "      <td>317.85</td>\n",
       "      <td>0.086875</td>\n",
       "    </tr>\n",
       "    <tr>\n",
       "      <th>7</th>\n",
       "      <td>PS4</td>\n",
       "      <td>314.14</td>\n",
       "      <td>0.076219</td>\n",
       "    </tr>\n",
       "    <tr>\n",
       "      <th>8</th>\n",
       "      <td>PSP</td>\n",
       "      <td>294.05</td>\n",
       "      <td>0.018516</td>\n",
       "    </tr>\n",
       "    <tr>\n",
       "      <th>9</th>\n",
       "      <td>PC</td>\n",
       "      <td>259.52</td>\n",
       "      <td>-0.080663</td>\n",
       "    </tr>\n",
       "    <tr>\n",
       "      <th>10</th>\n",
       "      <td>3DS</td>\n",
       "      <td>259.00</td>\n",
       "      <td>-0.082156</td>\n",
       "    </tr>\n",
       "    <tr>\n",
       "      <th>11</th>\n",
       "      <td>XB</td>\n",
       "      <td>257.74</td>\n",
       "      <td>-0.085775</td>\n",
       "    </tr>\n",
       "    <tr>\n",
       "      <th>12</th>\n",
       "      <td>GB</td>\n",
       "      <td>255.46</td>\n",
       "      <td>-0.092324</td>\n",
       "    </tr>\n",
       "    <tr>\n",
       "      <th>13</th>\n",
       "      <td>NES</td>\n",
       "      <td>251.05</td>\n",
       "      <td>-0.104991</td>\n",
       "    </tr>\n",
       "    <tr>\n",
       "      <th>14</th>\n",
       "      <td>N64</td>\n",
       "      <td>218.68</td>\n",
       "      <td>-0.197965</td>\n",
       "    </tr>\n",
       "    <tr>\n",
       "      <th>15</th>\n",
       "      <td>SNES</td>\n",
       "      <td>200.04</td>\n",
       "      <td>-0.251504</td>\n",
       "    </tr>\n",
       "    <tr>\n",
       "      <th>16</th>\n",
       "      <td>GC</td>\n",
       "      <td>198.93</td>\n",
       "      <td>-0.254692</td>\n",
       "    </tr>\n",
       "    <tr>\n",
       "      <th>17</th>\n",
       "      <td>XOne</td>\n",
       "      <td>159.32</td>\n",
       "      <td>-0.368461</td>\n",
       "    </tr>\n",
       "    <tr>\n",
       "      <th>18</th>\n",
       "      <td>2600</td>\n",
       "      <td>96.98</td>\n",
       "      <td>-0.547517</td>\n",
       "    </tr>\n",
       "    <tr>\n",
       "      <th>19</th>\n",
       "      <td>WiiU</td>\n",
       "      <td>82.19</td>\n",
       "      <td>-0.589997</td>\n",
       "    </tr>\n",
       "    <tr>\n",
       "      <th>20</th>\n",
       "      <td>PSV</td>\n",
       "      <td>54.07</td>\n",
       "      <td>-0.670765</td>\n",
       "    </tr>\n",
       "    <tr>\n",
       "      <th>21</th>\n",
       "      <td>SAT</td>\n",
       "      <td>33.59</td>\n",
       "      <td>-0.729588</td>\n",
       "    </tr>\n",
       "    <tr>\n",
       "      <th>22</th>\n",
       "      <td>GEN</td>\n",
       "      <td>30.77</td>\n",
       "      <td>-0.737688</td>\n",
       "    </tr>\n",
       "    <tr>\n",
       "      <th>23</th>\n",
       "      <td>DC</td>\n",
       "      <td>15.95</td>\n",
       "      <td>-0.780254</td>\n",
       "    </tr>\n",
       "    <tr>\n",
       "      <th>24</th>\n",
       "      <td>SCD</td>\n",
       "      <td>1.86</td>\n",
       "      <td>-0.820724</td>\n",
       "    </tr>\n",
       "    <tr>\n",
       "      <th>25</th>\n",
       "      <td>NG</td>\n",
       "      <td>1.44</td>\n",
       "      <td>-0.821931</td>\n",
       "    </tr>\n",
       "    <tr>\n",
       "      <th>26</th>\n",
       "      <td>WS</td>\n",
       "      <td>1.42</td>\n",
       "      <td>-0.821988</td>\n",
       "    </tr>\n",
       "    <tr>\n",
       "      <th>27</th>\n",
       "      <td>TG16</td>\n",
       "      <td>0.16</td>\n",
       "      <td>-0.825607</td>\n",
       "    </tr>\n",
       "    <tr>\n",
       "      <th>28</th>\n",
       "      <td>3DO</td>\n",
       "      <td>0.10</td>\n",
       "      <td>-0.825779</td>\n",
       "    </tr>\n",
       "    <tr>\n",
       "      <th>29</th>\n",
       "      <td>GG</td>\n",
       "      <td>0.04</td>\n",
       "      <td>-0.825952</td>\n",
       "    </tr>\n",
       "    <tr>\n",
       "      <th>30</th>\n",
       "      <td>PCFX</td>\n",
       "      <td>0.03</td>\n",
       "      <td>-0.825980</td>\n",
       "    </tr>\n",
       "  </tbody>\n",
       "</table>\n",
       "</div>"
      ],
      "text/plain": [
       "   platform  total_sales   z_score\n",
       "0       PS2      1255.77  2.780807\n",
       "1      X360       971.42  1.964085\n",
       "2       PS3       939.65  1.872834\n",
       "3       Wii       907.51  1.780520\n",
       "4        DS       806.12  1.489304\n",
       "5        PS       730.86  1.273139\n",
       "6       GBA       317.85  0.086875\n",
       "7       PS4       314.14  0.076219\n",
       "8       PSP       294.05  0.018516\n",
       "9        PC       259.52 -0.080663\n",
       "10      3DS       259.00 -0.082156\n",
       "11       XB       257.74 -0.085775\n",
       "12       GB       255.46 -0.092324\n",
       "13      NES       251.05 -0.104991\n",
       "14      N64       218.68 -0.197965\n",
       "15     SNES       200.04 -0.251504\n",
       "16       GC       198.93 -0.254692\n",
       "17     XOne       159.32 -0.368461\n",
       "18     2600        96.98 -0.547517\n",
       "19     WiiU        82.19 -0.589997\n",
       "20      PSV        54.07 -0.670765\n",
       "21      SAT        33.59 -0.729588\n",
       "22      GEN        30.77 -0.737688\n",
       "23       DC        15.95 -0.780254\n",
       "24      SCD         1.86 -0.820724\n",
       "25       NG         1.44 -0.821931\n",
       "26       WS         1.42 -0.821988\n",
       "27     TG16         0.16 -0.825607\n",
       "28      3DO         0.10 -0.825779\n",
       "29       GG         0.04 -0.825952\n",
       "30     PCFX         0.03 -0.825980"
      ]
     },
     "execution_count": 41,
     "metadata": {},
     "output_type": "execute_result"
    }
   ],
   "source": [
    "df_ventas_plataforma[\"z_score\"] = (df_ventas_plataforma[\"total_sales\"] - df_ventas_plataforma[\"total_sales\"].mean())/df_ventas_plataforma[\"total_sales\"].std()\n",
    "df_ventas_plataforma"
   ]
  },
  {
   "cell_type": "markdown",
   "id": "d978b8d8-3c66-49dd-9913-0a41b96a6109",
   "metadata": {},
   "source": [
    "Enla columna z_score podemos identificar como varian las ventas de una plataforma a otra, y con los datos anteriores podemos concluir que a medida de que avanzan ls años existe mas lanzamientos de videojuego y por tanto las ventas totales van aumentando  "
   ]
  },
  {
   "cell_type": "code",
   "execution_count": 42,
   "id": "46556ebe-9ddf-4909-8334-e7cb9fdb4467",
   "metadata": {},
   "outputs": [
    {
     "data": {
      "text/html": [
       "<div>\n",
       "<style scoped>\n",
       "    .dataframe tbody tr th:only-of-type {\n",
       "        vertical-align: middle;\n",
       "    }\n",
       "\n",
       "    .dataframe tbody tr th {\n",
       "        vertical-align: top;\n",
       "    }\n",
       "\n",
       "    .dataframe thead th {\n",
       "        text-align: right;\n",
       "    }\n",
       "</style>\n",
       "<table border=\"1\" class=\"dataframe\">\n",
       "  <thead>\n",
       "    <tr style=\"text-align: right;\">\n",
       "      <th></th>\n",
       "      <th>platform</th>\n",
       "      <th>total_sales</th>\n",
       "      <th>z_score</th>\n",
       "      <th>color</th>\n",
       "    </tr>\n",
       "  </thead>\n",
       "  <tbody>\n",
       "    <tr>\n",
       "      <th>0</th>\n",
       "      <td>PS2</td>\n",
       "      <td>1255.77</td>\n",
       "      <td>2.780807</td>\n",
       "      <td>green</td>\n",
       "    </tr>\n",
       "    <tr>\n",
       "      <th>1</th>\n",
       "      <td>X360</td>\n",
       "      <td>971.42</td>\n",
       "      <td>1.964085</td>\n",
       "      <td>green</td>\n",
       "    </tr>\n",
       "    <tr>\n",
       "      <th>2</th>\n",
       "      <td>PS3</td>\n",
       "      <td>939.65</td>\n",
       "      <td>1.872834</td>\n",
       "      <td>green</td>\n",
       "    </tr>\n",
       "    <tr>\n",
       "      <th>3</th>\n",
       "      <td>Wii</td>\n",
       "      <td>907.51</td>\n",
       "      <td>1.780520</td>\n",
       "      <td>green</td>\n",
       "    </tr>\n",
       "    <tr>\n",
       "      <th>4</th>\n",
       "      <td>DS</td>\n",
       "      <td>806.12</td>\n",
       "      <td>1.489304</td>\n",
       "      <td>green</td>\n",
       "    </tr>\n",
       "    <tr>\n",
       "      <th>5</th>\n",
       "      <td>PS</td>\n",
       "      <td>730.86</td>\n",
       "      <td>1.273139</td>\n",
       "      <td>green</td>\n",
       "    </tr>\n",
       "    <tr>\n",
       "      <th>6</th>\n",
       "      <td>GBA</td>\n",
       "      <td>317.85</td>\n",
       "      <td>0.086875</td>\n",
       "      <td>green</td>\n",
       "    </tr>\n",
       "    <tr>\n",
       "      <th>7</th>\n",
       "      <td>PS4</td>\n",
       "      <td>314.14</td>\n",
       "      <td>0.076219</td>\n",
       "      <td>green</td>\n",
       "    </tr>\n",
       "    <tr>\n",
       "      <th>8</th>\n",
       "      <td>PSP</td>\n",
       "      <td>294.05</td>\n",
       "      <td>0.018516</td>\n",
       "      <td>green</td>\n",
       "    </tr>\n",
       "    <tr>\n",
       "      <th>9</th>\n",
       "      <td>PC</td>\n",
       "      <td>259.52</td>\n",
       "      <td>-0.080663</td>\n",
       "      <td>red</td>\n",
       "    </tr>\n",
       "    <tr>\n",
       "      <th>10</th>\n",
       "      <td>3DS</td>\n",
       "      <td>259.00</td>\n",
       "      <td>-0.082156</td>\n",
       "      <td>red</td>\n",
       "    </tr>\n",
       "    <tr>\n",
       "      <th>11</th>\n",
       "      <td>XB</td>\n",
       "      <td>257.74</td>\n",
       "      <td>-0.085775</td>\n",
       "      <td>red</td>\n",
       "    </tr>\n",
       "    <tr>\n",
       "      <th>12</th>\n",
       "      <td>GB</td>\n",
       "      <td>255.46</td>\n",
       "      <td>-0.092324</td>\n",
       "      <td>red</td>\n",
       "    </tr>\n",
       "    <tr>\n",
       "      <th>13</th>\n",
       "      <td>NES</td>\n",
       "      <td>251.05</td>\n",
       "      <td>-0.104991</td>\n",
       "      <td>red</td>\n",
       "    </tr>\n",
       "    <tr>\n",
       "      <th>14</th>\n",
       "      <td>N64</td>\n",
       "      <td>218.68</td>\n",
       "      <td>-0.197965</td>\n",
       "      <td>red</td>\n",
       "    </tr>\n",
       "    <tr>\n",
       "      <th>15</th>\n",
       "      <td>SNES</td>\n",
       "      <td>200.04</td>\n",
       "      <td>-0.251504</td>\n",
       "      <td>red</td>\n",
       "    </tr>\n",
       "    <tr>\n",
       "      <th>16</th>\n",
       "      <td>GC</td>\n",
       "      <td>198.93</td>\n",
       "      <td>-0.254692</td>\n",
       "      <td>red</td>\n",
       "    </tr>\n",
       "    <tr>\n",
       "      <th>17</th>\n",
       "      <td>XOne</td>\n",
       "      <td>159.32</td>\n",
       "      <td>-0.368461</td>\n",
       "      <td>red</td>\n",
       "    </tr>\n",
       "    <tr>\n",
       "      <th>18</th>\n",
       "      <td>2600</td>\n",
       "      <td>96.98</td>\n",
       "      <td>-0.547517</td>\n",
       "      <td>red</td>\n",
       "    </tr>\n",
       "    <tr>\n",
       "      <th>19</th>\n",
       "      <td>WiiU</td>\n",
       "      <td>82.19</td>\n",
       "      <td>-0.589997</td>\n",
       "      <td>red</td>\n",
       "    </tr>\n",
       "    <tr>\n",
       "      <th>20</th>\n",
       "      <td>PSV</td>\n",
       "      <td>54.07</td>\n",
       "      <td>-0.670765</td>\n",
       "      <td>red</td>\n",
       "    </tr>\n",
       "    <tr>\n",
       "      <th>21</th>\n",
       "      <td>SAT</td>\n",
       "      <td>33.59</td>\n",
       "      <td>-0.729588</td>\n",
       "      <td>red</td>\n",
       "    </tr>\n",
       "    <tr>\n",
       "      <th>22</th>\n",
       "      <td>GEN</td>\n",
       "      <td>30.77</td>\n",
       "      <td>-0.737688</td>\n",
       "      <td>red</td>\n",
       "    </tr>\n",
       "    <tr>\n",
       "      <th>23</th>\n",
       "      <td>DC</td>\n",
       "      <td>15.95</td>\n",
       "      <td>-0.780254</td>\n",
       "      <td>red</td>\n",
       "    </tr>\n",
       "    <tr>\n",
       "      <th>24</th>\n",
       "      <td>SCD</td>\n",
       "      <td>1.86</td>\n",
       "      <td>-0.820724</td>\n",
       "      <td>red</td>\n",
       "    </tr>\n",
       "    <tr>\n",
       "      <th>25</th>\n",
       "      <td>NG</td>\n",
       "      <td>1.44</td>\n",
       "      <td>-0.821931</td>\n",
       "      <td>red</td>\n",
       "    </tr>\n",
       "    <tr>\n",
       "      <th>26</th>\n",
       "      <td>WS</td>\n",
       "      <td>1.42</td>\n",
       "      <td>-0.821988</td>\n",
       "      <td>red</td>\n",
       "    </tr>\n",
       "    <tr>\n",
       "      <th>27</th>\n",
       "      <td>TG16</td>\n",
       "      <td>0.16</td>\n",
       "      <td>-0.825607</td>\n",
       "      <td>red</td>\n",
       "    </tr>\n",
       "    <tr>\n",
       "      <th>28</th>\n",
       "      <td>3DO</td>\n",
       "      <td>0.10</td>\n",
       "      <td>-0.825779</td>\n",
       "      <td>red</td>\n",
       "    </tr>\n",
       "    <tr>\n",
       "      <th>29</th>\n",
       "      <td>GG</td>\n",
       "      <td>0.04</td>\n",
       "      <td>-0.825952</td>\n",
       "      <td>red</td>\n",
       "    </tr>\n",
       "    <tr>\n",
       "      <th>30</th>\n",
       "      <td>PCFX</td>\n",
       "      <td>0.03</td>\n",
       "      <td>-0.825980</td>\n",
       "      <td>red</td>\n",
       "    </tr>\n",
       "  </tbody>\n",
       "</table>\n",
       "</div>"
      ],
      "text/plain": [
       "   platform  total_sales   z_score  color\n",
       "0       PS2      1255.77  2.780807  green\n",
       "1      X360       971.42  1.964085  green\n",
       "2       PS3       939.65  1.872834  green\n",
       "3       Wii       907.51  1.780520  green\n",
       "4        DS       806.12  1.489304  green\n",
       "5        PS       730.86  1.273139  green\n",
       "6       GBA       317.85  0.086875  green\n",
       "7       PS4       314.14  0.076219  green\n",
       "8       PSP       294.05  0.018516  green\n",
       "9        PC       259.52 -0.080663    red\n",
       "10      3DS       259.00 -0.082156    red\n",
       "11       XB       257.74 -0.085775    red\n",
       "12       GB       255.46 -0.092324    red\n",
       "13      NES       251.05 -0.104991    red\n",
       "14      N64       218.68 -0.197965    red\n",
       "15     SNES       200.04 -0.251504    red\n",
       "16       GC       198.93 -0.254692    red\n",
       "17     XOne       159.32 -0.368461    red\n",
       "18     2600        96.98 -0.547517    red\n",
       "19     WiiU        82.19 -0.589997    red\n",
       "20      PSV        54.07 -0.670765    red\n",
       "21      SAT        33.59 -0.729588    red\n",
       "22      GEN        30.77 -0.737688    red\n",
       "23       DC        15.95 -0.780254    red\n",
       "24      SCD         1.86 -0.820724    red\n",
       "25       NG         1.44 -0.821931    red\n",
       "26       WS         1.42 -0.821988    red\n",
       "27     TG16         0.16 -0.825607    red\n",
       "28      3DO         0.10 -0.825779    red\n",
       "29       GG         0.04 -0.825952    red\n",
       "30     PCFX         0.03 -0.825980    red"
      ]
     },
     "execution_count": 42,
     "metadata": {},
     "output_type": "execute_result"
    }
   ],
   "source": [
    "df_ventas_plataforma[\"color\"]= [\"red\" if ventas_z < 0 else \"green\" for ventas_z in df_ventas_plataforma[\"z_score\"]] \n",
    "df_ventas_plataforma"
   ]
  },
  {
   "cell_type": "code",
   "execution_count": 43,
   "id": "87d4a3dc-c4d1-406a-8cf3-0edc19f8d856",
   "metadata": {},
   "outputs": [
    {
     "data": {
      "image/png": "[encoded data removed]",
      "text/plain": [
       "<Figure size 640x480 with 1 Axes>"
      ]
     },
     "metadata": {},
     "output_type": "display_data"
    }
   ],
   "source": [
    "plt.figure()\n",
    "plt.hlines(\n",
    "    y=df_ventas_plataforma.platform, \n",
    "    xmin=0, \n",
    "    xmax=df_ventas_plataforma.z_score, \n",
    "    color=df_ventas_plataforma.color,\n",
    "    linewidth=10, \n",
    "    alpha=0.5\n",
    ")\n",
    "plt.ylabel(\"Platform\")\n",
    "plt.xlabel(\"Z Score\")\n",
    "plt.title(\"Rentabilidad por Plataforma\")\n",
    "plt.show()"
   ]
  },
  {
   "cell_type": "markdown",
   "id": "ef6ccc10-a000-4655-b9f4-2a38debbe2e5",
   "metadata": {},
   "source": [
    "en el grafico podemos observar que los que se encuentran de color verde son positivos, es decir las ventas de estas plataformas son sanas (rentables), las que se encuntran en rojo tienen ventas pormedio que estan por debajo de cero lo cual nos dice que estas plataformas no son rentables. Con estos datos y ls datos anteriores podemos poner por ejemplo xone era un videojuego popular pero al paso del timpo ya no tiene ventas"
   ]
  },
  {
   "cell_type": "code",
   "execution_count": 44,
   "id": "91acefad-d53c-4cfd-8285-3a7c2eded38f",
   "metadata": {},
   "outputs": [
    {
     "data": {
      "text/html": [
       "<div>\n",
       "<style scoped>\n",
       "    .dataframe tbody tr th:only-of-type {\n",
       "        vertical-align: middle;\n",
       "    }\n",
       "\n",
       "    .dataframe tbody tr th {\n",
       "        vertical-align: top;\n",
       "    }\n",
       "\n",
       "    .dataframe thead th {\n",
       "        text-align: right;\n",
       "    }\n",
       "</style>\n",
       "<table border=\"1\" class=\"dataframe\">\n",
       "  <thead>\n",
       "    <tr style=\"text-align: right;\">\n",
       "      <th>platform</th>\n",
       "      <th>3DS</th>\n",
       "      <th>DS</th>\n",
       "      <th>PC</th>\n",
       "      <th>PS3</th>\n",
       "      <th>PS4</th>\n",
       "      <th>PSP</th>\n",
       "      <th>PSV</th>\n",
       "      <th>Wii</th>\n",
       "      <th>WiiU</th>\n",
       "      <th>X360</th>\n",
       "      <th>XOne</th>\n",
       "    </tr>\n",
       "    <tr>\n",
       "      <th>year_of_release</th>\n",
       "      <th></th>\n",
       "      <th></th>\n",
       "      <th></th>\n",
       "      <th></th>\n",
       "      <th></th>\n",
       "      <th></th>\n",
       "      <th></th>\n",
       "      <th></th>\n",
       "      <th></th>\n",
       "      <th></th>\n",
       "      <th></th>\n",
       "    </tr>\n",
       "  </thead>\n",
       "  <tbody>\n",
       "    <tr>\n",
       "      <th>2013</th>\n",
       "      <td>56.57</td>\n",
       "      <td>1.54</td>\n",
       "      <td>12.38</td>\n",
       "      <td>113.25</td>\n",
       "      <td>25.99</td>\n",
       "      <td>3.14</td>\n",
       "      <td>10.59</td>\n",
       "      <td>8.59</td>\n",
       "      <td>21.65</td>\n",
       "      <td>88.58</td>\n",
       "      <td>18.96</td>\n",
       "    </tr>\n",
       "    <tr>\n",
       "      <th>2014</th>\n",
       "      <td>43.76</td>\n",
       "      <td>0.00</td>\n",
       "      <td>13.28</td>\n",
       "      <td>47.76</td>\n",
       "      <td>100.00</td>\n",
       "      <td>0.24</td>\n",
       "      <td>11.90</td>\n",
       "      <td>3.75</td>\n",
       "      <td>22.03</td>\n",
       "      <td>34.74</td>\n",
       "      <td>54.07</td>\n",
       "    </tr>\n",
       "    <tr>\n",
       "      <th>2015</th>\n",
       "      <td>27.78</td>\n",
       "      <td>0.00</td>\n",
       "      <td>8.52</td>\n",
       "      <td>16.82</td>\n",
       "      <td>118.90</td>\n",
       "      <td>0.12</td>\n",
       "      <td>6.25</td>\n",
       "      <td>1.14</td>\n",
       "      <td>16.35</td>\n",
       "      <td>11.96</td>\n",
       "      <td>60.14</td>\n",
       "    </tr>\n",
       "    <tr>\n",
       "      <th>2016</th>\n",
       "      <td>15.14</td>\n",
       "      <td>0.00</td>\n",
       "      <td>5.25</td>\n",
       "      <td>3.60</td>\n",
       "      <td>69.25</td>\n",
       "      <td>0.00</td>\n",
       "      <td>4.25</td>\n",
       "      <td>0.18</td>\n",
       "      <td>4.60</td>\n",
       "      <td>1.52</td>\n",
       "      <td>26.15</td>\n",
       "    </tr>\n",
       "  </tbody>\n",
       "</table>\n",
       "</div>"
      ],
      "text/plain": [
       "platform           3DS    DS     PC     PS3     PS4   PSP    PSV   Wii   WiiU  \\\n",
       "year_of_release                                                                 \n",
       "2013             56.57  1.54  12.38  113.25   25.99  3.14  10.59  8.59  21.65   \n",
       "2014             43.76  0.00  13.28   47.76  100.00  0.24  11.90  3.75  22.03   \n",
       "2015             27.78  0.00   8.52   16.82  118.90  0.12   6.25  1.14  16.35   \n",
       "2016             15.14  0.00   5.25    3.60   69.25  0.00   4.25  0.18   4.60   \n",
       "\n",
       "platform          X360   XOne  \n",
       "year_of_release                \n",
       "2013             88.58  18.96  \n",
       "2014             34.74  54.07  \n",
       "2015             11.96  60.14  \n",
       "2016              1.52  26.15  "
      ]
     },
     "execution_count": 44,
     "metadata": {},
     "output_type": "execute_result"
    }
   ],
   "source": [
    "games_data_clean = games_data_raw.query(\"year_of_release >= 2013\")\n",
    "tiempo_de_vida = pd.pivot_table(games_data_clean, index=\"year_of_release\", columns=\"platform\", values=\"total_sales\", aggfunc='sum').fillna(0)\n",
    "tiempo_de_vida"
   ]
  },
  {
   "cell_type": "code",
   "execution_count": 64,
   "id": "050fd7ef-b380-4324-834d-1bad1517ac07",
   "metadata": {},
   "outputs": [
    {
     "name": "stderr",
     "output_type": "stream",
     "text": [
      "E:\\Users\\Guillen\\anaconda3\\Lib\\site-packages\\seaborn\\_oldcore.py:1119: FutureWarning: use_inf_as_na option is deprecated and will be removed in a future version. Convert inf values to NaN before operating instead.\n",
      "  with pd.option_context('mode.use_inf_as_na', True):\n",
      "E:\\Users\\Guillen\\anaconda3\\Lib\\site-packages\\seaborn\\_oldcore.py:1119: FutureWarning: use_inf_as_na option is deprecated and will be removed in a future version. Convert inf values to NaN before operating instead.\n",
      "  with pd.option_context('mode.use_inf_as_na', True):\n"
     ]
    },
    {
     "data": {
      "image/png": "[encoded data removed]",
      "text/plain": [
       "<Figure size 640x480 with 1 Axes>"
      ]
     },
     "metadata": {},
     "output_type": "display_data"
    }
   ],
   "source": [
    "sns.lineplot(data=tiempo_de_vida)\n",
    "plt.ylabel(\"Rentabilidad\")\n",
    "plt.xlabel(\"year\")\n",
    "plt.title(\"Tiempo de vida de las plataformas\")\n",
    "plt.show()"
   ]
  },
  {
   "cell_type": "markdown",
   "id": "a773ed63-51c1-4362-8fe1-c93075a9f405",
   "metadata": {},
   "source": [
    "Podemos observar que las ventas promedio tiene una tendencia a que cada juego han caido con el trascurso del tiempo"
   ]
  },
  {
   "cell_type": "code",
   "execution_count": 46,
   "id": "0c8b3f29-a7d3-46a5-b472-466cb85f753f",
   "metadata": {},
   "outputs": [
    {
     "data": {
      "text/html": [
       "<div>\n",
       "<style scoped>\n",
       "    .dataframe tbody tr th:only-of-type {\n",
       "        vertical-align: middle;\n",
       "    }\n",
       "\n",
       "    .dataframe tbody tr th {\n",
       "        vertical-align: top;\n",
       "    }\n",
       "\n",
       "    .dataframe thead th {\n",
       "        text-align: right;\n",
       "    }\n",
       "</style>\n",
       "<table border=\"1\" class=\"dataframe\">\n",
       "  <thead>\n",
       "    <tr style=\"text-align: right;\">\n",
       "      <th></th>\n",
       "      <th>critic_score</th>\n",
       "      <th>user_score</th>\n",
       "      <th>total_sales</th>\n",
       "    </tr>\n",
       "    <tr>\n",
       "      <th>platform</th>\n",
       "      <th></th>\n",
       "      <th></th>\n",
       "      <th></th>\n",
       "    </tr>\n",
       "  </thead>\n",
       "  <tbody>\n",
       "    <tr>\n",
       "      <th>PS2</th>\n",
       "      <td>2161</td>\n",
       "      <td>2161</td>\n",
       "      <td>2161</td>\n",
       "    </tr>\n",
       "    <tr>\n",
       "      <th>DS</th>\n",
       "      <td>2151</td>\n",
       "      <td>2151</td>\n",
       "      <td>2151</td>\n",
       "    </tr>\n",
       "    <tr>\n",
       "      <th>PS3</th>\n",
       "      <td>1331</td>\n",
       "      <td>1331</td>\n",
       "      <td>1331</td>\n",
       "    </tr>\n",
       "    <tr>\n",
       "      <th>Wii</th>\n",
       "      <td>1320</td>\n",
       "      <td>1320</td>\n",
       "      <td>1320</td>\n",
       "    </tr>\n",
       "    <tr>\n",
       "      <th>X360</th>\n",
       "      <td>1262</td>\n",
       "      <td>1262</td>\n",
       "      <td>1262</td>\n",
       "    </tr>\n",
       "    <tr>\n",
       "      <th>PSP</th>\n",
       "      <td>1209</td>\n",
       "      <td>1209</td>\n",
       "      <td>1209</td>\n",
       "    </tr>\n",
       "    <tr>\n",
       "      <th>PS</th>\n",
       "      <td>1197</td>\n",
       "      <td>1197</td>\n",
       "      <td>1197</td>\n",
       "    </tr>\n",
       "    <tr>\n",
       "      <th>PC</th>\n",
       "      <td>974</td>\n",
       "      <td>974</td>\n",
       "      <td>974</td>\n",
       "    </tr>\n",
       "    <tr>\n",
       "      <th>XB</th>\n",
       "      <td>824</td>\n",
       "      <td>824</td>\n",
       "      <td>824</td>\n",
       "    </tr>\n",
       "    <tr>\n",
       "      <th>GBA</th>\n",
       "      <td>822</td>\n",
       "      <td>822</td>\n",
       "      <td>822</td>\n",
       "    </tr>\n",
       "    <tr>\n",
       "      <th>GC</th>\n",
       "      <td>556</td>\n",
       "      <td>556</td>\n",
       "      <td>556</td>\n",
       "    </tr>\n",
       "    <tr>\n",
       "      <th>3DS</th>\n",
       "      <td>520</td>\n",
       "      <td>520</td>\n",
       "      <td>520</td>\n",
       "    </tr>\n",
       "    <tr>\n",
       "      <th>PSV</th>\n",
       "      <td>430</td>\n",
       "      <td>430</td>\n",
       "      <td>430</td>\n",
       "    </tr>\n",
       "    <tr>\n",
       "      <th>PS4</th>\n",
       "      <td>392</td>\n",
       "      <td>392</td>\n",
       "      <td>392</td>\n",
       "    </tr>\n",
       "    <tr>\n",
       "      <th>N64</th>\n",
       "      <td>319</td>\n",
       "      <td>319</td>\n",
       "      <td>319</td>\n",
       "    </tr>\n",
       "    <tr>\n",
       "      <th>XOne</th>\n",
       "      <td>247</td>\n",
       "      <td>247</td>\n",
       "      <td>247</td>\n",
       "    </tr>\n",
       "    <tr>\n",
       "      <th>SNES</th>\n",
       "      <td>239</td>\n",
       "      <td>239</td>\n",
       "      <td>239</td>\n",
       "    </tr>\n",
       "    <tr>\n",
       "      <th>SAT</th>\n",
       "      <td>173</td>\n",
       "      <td>173</td>\n",
       "      <td>173</td>\n",
       "    </tr>\n",
       "    <tr>\n",
       "      <th>WiiU</th>\n",
       "      <td>147</td>\n",
       "      <td>147</td>\n",
       "      <td>147</td>\n",
       "    </tr>\n",
       "    <tr>\n",
       "      <th>2600</th>\n",
       "      <td>133</td>\n",
       "      <td>133</td>\n",
       "      <td>133</td>\n",
       "    </tr>\n",
       "    <tr>\n",
       "      <th>NES</th>\n",
       "      <td>98</td>\n",
       "      <td>98</td>\n",
       "      <td>98</td>\n",
       "    </tr>\n",
       "    <tr>\n",
       "      <th>GB</th>\n",
       "      <td>98</td>\n",
       "      <td>98</td>\n",
       "      <td>98</td>\n",
       "    </tr>\n",
       "    <tr>\n",
       "      <th>DC</th>\n",
       "      <td>52</td>\n",
       "      <td>52</td>\n",
       "      <td>52</td>\n",
       "    </tr>\n",
       "    <tr>\n",
       "      <th>GEN</th>\n",
       "      <td>29</td>\n",
       "      <td>29</td>\n",
       "      <td>29</td>\n",
       "    </tr>\n",
       "    <tr>\n",
       "      <th>NG</th>\n",
       "      <td>12</td>\n",
       "      <td>12</td>\n",
       "      <td>12</td>\n",
       "    </tr>\n",
       "    <tr>\n",
       "      <th>SCD</th>\n",
       "      <td>6</td>\n",
       "      <td>6</td>\n",
       "      <td>6</td>\n",
       "    </tr>\n",
       "    <tr>\n",
       "      <th>WS</th>\n",
       "      <td>6</td>\n",
       "      <td>6</td>\n",
       "      <td>6</td>\n",
       "    </tr>\n",
       "    <tr>\n",
       "      <th>3DO</th>\n",
       "      <td>3</td>\n",
       "      <td>3</td>\n",
       "      <td>3</td>\n",
       "    </tr>\n",
       "    <tr>\n",
       "      <th>TG16</th>\n",
       "      <td>2</td>\n",
       "      <td>2</td>\n",
       "      <td>2</td>\n",
       "    </tr>\n",
       "    <tr>\n",
       "      <th>PCFX</th>\n",
       "      <td>1</td>\n",
       "      <td>1</td>\n",
       "      <td>1</td>\n",
       "    </tr>\n",
       "    <tr>\n",
       "      <th>GG</th>\n",
       "      <td>1</td>\n",
       "      <td>1</td>\n",
       "      <td>1</td>\n",
       "    </tr>\n",
       "  </tbody>\n",
       "</table>\n",
       "</div>"
      ],
      "text/plain": [
       "          critic_score  user_score  total_sales\n",
       "platform                                       \n",
       "PS2               2161        2161         2161\n",
       "DS                2151        2151         2151\n",
       "PS3               1331        1331         1331\n",
       "Wii               1320        1320         1320\n",
       "X360              1262        1262         1262\n",
       "PSP               1209        1209         1209\n",
       "PS                1197        1197         1197\n",
       "PC                 974         974          974\n",
       "XB                 824         824          824\n",
       "GBA                822         822          822\n",
       "GC                 556         556          556\n",
       "3DS                520         520          520\n",
       "PSV                430         430          430\n",
       "PS4                392         392          392\n",
       "N64                319         319          319\n",
       "XOne               247         247          247\n",
       "SNES               239         239          239\n",
       "SAT                173         173          173\n",
       "WiiU               147         147          147\n",
       "2600               133         133          133\n",
       "NES                 98          98           98\n",
       "GB                  98          98           98\n",
       "DC                  52          52           52\n",
       "GEN                 29          29           29\n",
       "NG                  12          12           12\n",
       "SCD                  6           6            6\n",
       "WS                   6           6            6\n",
       "3DO                  3           3            3\n",
       "TG16                 2           2            2\n",
       "PCFX                 1           1            1\n",
       "GG                   1           1            1"
      ]
     },
     "execution_count": 46,
     "metadata": {},
     "output_type": "execute_result"
    }
   ],
   "source": [
    "plataforma_reseña =games_data_raw.groupby(\"platform\")[[\"critic_score\",\"user_score\", \"total_sales\"]].count().sort_values(\"total_sales\", ascending=False)\n",
    "plataforma_reseña"
   ]
  },
  {
   "cell_type": "markdown",
   "id": "1b747f15-b4b7-4c61-9a0f-d293817ce744",
   "metadata": {},
   "source": [
    "Con los datos obtenidos en esta tabla podemos deducir que  las reseñas de usuarios y profesionales en efecto afectAn las ventas de las plataformas para el caso de WII sienod una plataforma populas ya que ambos scores son altos las ventas de wii no son altas a compracion de ps2, por otros lado tenemos la plataforma tg16 no tiene score por lo cual el nuemero de ventas es muy bajo"
   ]
  },
  {
   "cell_type": "code",
   "execution_count": 47,
   "id": "27aa39e4",
   "metadata": {},
   "outputs": [
    {
     "data": {
      "image/png": "[encoded data removed]",
      "text/plain": [
       "<Figure size 1200x800 with 1 Axes>"
      ]
     },
     "metadata": {},
     "output_type": "display_data"
    }
   ],
   "source": [
    "plt.figure(figsize=(12, 8))\n",
    "sns.boxplot(data=plataforma_reseña)\n",
    "plt.title('Comparación de Scores y Ventas por Plataforma')\n",
    "plt.xlabel('Puntuación / Ventas')\n",
    "plt.grid(True)\n",
    "plt.show()\n"
   ]
  },
  {
   "cell_type": "markdown",
   "id": "bf917e2a-9111-4e3e-b777-bb75870147e3",
   "metadata": {},
   "source": [
    "En estas graficas de cajas no encontramor valores fuera de ellas (outliers) esto debido a que los valores nulos que tenia el archivo original se han modificado al obtener la media, los datos estan entre 0 y 500 y la mediana podemos decir que se encuntra entre 100 y 200 "
   ]
  },
  {
   "cell_type": "code",
   "execution_count": 48,
   "id": "a3e9509e-962e-441d-962a-1bc585935ab5",
   "metadata": {},
   "outputs": [
    {
     "data": {
      "text/plain": [
       "<seaborn.axisgrid.FacetGrid at 0x17c44e69850>"
      ]
     },
     "execution_count": 48,
     "metadata": {},
     "output_type": "execute_result"
    },
    {
     "data": {
      "image/png": "[encoded data removed]",
      "text/plain": [
       "<Figure size 1000x500 with 1 Axes>"
      ]
     },
     "metadata": {},
     "output_type": "display_data"
    }
   ],
   "source": [
    "sns.lmplot(\n",
    "    x=\"total_sales\",\n",
    "    y=\"critic_score\",\n",
    "    data=plataforma_reseña,\n",
    "    lowess=True,\n",
    "    aspect=2,\n",
    "    line_kws={'color': 'black'}\n",
    ")"
   ]
  },
  {
   "cell_type": "markdown",
   "id": "9cac878b-e6ee-4649-971d-d57692ec6b79",
   "metadata": {},
   "source": [
    "Para este grafico de dispercion hemos usado unicamente como referencia  total_sales y  critic_score y la gracifa nos muestra que como habiamos mencionado anteriormente cuando las reseñas son altas las ventas sno altos y viceversa, por lo que podemos concluir que una alta reseña en efecto lleva a un alto numero de ventas"
   ]
  },
  {
   "cell_type": "markdown",
   "id": "8fa59d7a-0eea-4843-8a10-643f0d279d26",
   "metadata": {},
   "source": [
    "Para cada región (NA, UE, JP) determina:\n",
    "-Las cinco plataformas principales. Describe las variaciones en sus cuotas de mercado de una región a otra.\n",
    "-Los cinco géneros principales. Explica la diferencia.\n",
    "-Si las clasificaciones de ESRB afectan a las ventas en regiones individuales."
   ]
  },
  {
   "cell_type": "code",
   "execution_count": 49,
   "id": "65aa9f4b-6321-4982-a23a-e03ad860a010",
   "metadata": {},
   "outputs": [
    {
     "data": {
      "text/html": [
       "<div>\n",
       "<style scoped>\n",
       "    .dataframe tbody tr th:only-of-type {\n",
       "        vertical-align: middle;\n",
       "    }\n",
       "\n",
       "    .dataframe tbody tr th {\n",
       "        vertical-align: top;\n",
       "    }\n",
       "\n",
       "    .dataframe thead th {\n",
       "        text-align: right;\n",
       "    }\n",
       "</style>\n",
       "<table border=\"1\" class=\"dataframe\">\n",
       "  <thead>\n",
       "    <tr style=\"text-align: right;\">\n",
       "      <th></th>\n",
       "      <th>name</th>\n",
       "      <th>platform</th>\n",
       "      <th>year_of_release</th>\n",
       "      <th>genre</th>\n",
       "      <th>na_sales</th>\n",
       "      <th>eu_sales</th>\n",
       "      <th>jp_sales</th>\n",
       "      <th>other_sales</th>\n",
       "      <th>critic_score</th>\n",
       "      <th>user_score</th>\n",
       "      <th>rating</th>\n",
       "      <th>total_sales</th>\n",
       "    </tr>\n",
       "  </thead>\n",
       "  <tbody>\n",
       "    <tr>\n",
       "      <th>0</th>\n",
       "      <td>Wii Sports</td>\n",
       "      <td>Wii</td>\n",
       "      <td>2006</td>\n",
       "      <td>Sports</td>\n",
       "      <td>41.36</td>\n",
       "      <td>28.96</td>\n",
       "      <td>3.77</td>\n",
       "      <td>8.45</td>\n",
       "      <td>76.0</td>\n",
       "      <td>8.0</td>\n",
       "      <td>E</td>\n",
       "      <td>82.54</td>\n",
       "    </tr>\n",
       "    <tr>\n",
       "      <th>1</th>\n",
       "      <td>Super Mario Bros.</td>\n",
       "      <td>NES</td>\n",
       "      <td>1985</td>\n",
       "      <td>Platform</td>\n",
       "      <td>29.08</td>\n",
       "      <td>3.58</td>\n",
       "      <td>6.81</td>\n",
       "      <td>0.77</td>\n",
       "      <td>71.0</td>\n",
       "      <td>7.5</td>\n",
       "      <td>NaN</td>\n",
       "      <td>40.24</td>\n",
       "    </tr>\n",
       "    <tr>\n",
       "      <th>9</th>\n",
       "      <td>Duck Hunt</td>\n",
       "      <td>NES</td>\n",
       "      <td>1984</td>\n",
       "      <td>Shooter</td>\n",
       "      <td>26.93</td>\n",
       "      <td>0.63</td>\n",
       "      <td>0.28</td>\n",
       "      <td>0.47</td>\n",
       "      <td>71.0</td>\n",
       "      <td>7.5</td>\n",
       "      <td>NaN</td>\n",
       "      <td>28.31</td>\n",
       "    </tr>\n",
       "    <tr>\n",
       "      <th>5</th>\n",
       "      <td>Tetris</td>\n",
       "      <td>GB</td>\n",
       "      <td>1989</td>\n",
       "      <td>Puzzle</td>\n",
       "      <td>23.20</td>\n",
       "      <td>2.26</td>\n",
       "      <td>4.22</td>\n",
       "      <td>0.58</td>\n",
       "      <td>71.0</td>\n",
       "      <td>7.5</td>\n",
       "      <td>NaN</td>\n",
       "      <td>30.26</td>\n",
       "    </tr>\n",
       "    <tr>\n",
       "      <th>2</th>\n",
       "      <td>Mario Kart Wii</td>\n",
       "      <td>Wii</td>\n",
       "      <td>2008</td>\n",
       "      <td>Racing</td>\n",
       "      <td>15.68</td>\n",
       "      <td>12.76</td>\n",
       "      <td>3.79</td>\n",
       "      <td>3.29</td>\n",
       "      <td>82.0</td>\n",
       "      <td>8.3</td>\n",
       "      <td>E</td>\n",
       "      <td>35.52</td>\n",
       "    </tr>\n",
       "  </tbody>\n",
       "</table>\n",
       "</div>"
      ],
      "text/plain": [
       "                name platform  year_of_release     genre  na_sales  eu_sales  \\\n",
       "0         Wii Sports      Wii             2006    Sports     41.36     28.96   \n",
       "1  Super Mario Bros.      NES             1985  Platform     29.08      3.58   \n",
       "9          Duck Hunt      NES             1984   Shooter     26.93      0.63   \n",
       "5             Tetris       GB             1989    Puzzle     23.20      2.26   \n",
       "2     Mario Kart Wii      Wii             2008    Racing     15.68     12.76   \n",
       "\n",
       "   jp_sales  other_sales  critic_score  user_score rating  total_sales  \n",
       "0      3.77         8.45          76.0         8.0      E        82.54  \n",
       "1      6.81         0.77          71.0         7.5    NaN        40.24  \n",
       "9      0.28         0.47          71.0         7.5    NaN        28.31  \n",
       "5      4.22         0.58          71.0         7.5    NaN        30.26  \n",
       "2      3.79         3.29          82.0         8.3      E        35.52  "
      ]
     },
     "execution_count": 49,
     "metadata": {},
     "output_type": "execute_result"
    }
   ],
   "source": [
    "games_data_raw.nlargest(5, ['na_sales'])"
   ]
  },
  {
   "cell_type": "markdown",
   "id": "2cca9a4d-2b03-4b91-9b7d-1b7cacf6a77a",
   "metadata": {},
   "source": [
    "De acuerdo a las ventas de na_sales podemos determinar las plataforma principales las cuales son : wii NES y gb"
   ]
  },
  {
   "cell_type": "code",
   "execution_count": 50,
   "id": "eb21074e-d6c6-44c9-927b-61b9ff65401f",
   "metadata": {},
   "outputs": [
    {
     "data": {
      "text/html": [
       "<div>\n",
       "<style scoped>\n",
       "    .dataframe tbody tr th:only-of-type {\n",
       "        vertical-align: middle;\n",
       "    }\n",
       "\n",
       "    .dataframe tbody tr th {\n",
       "        vertical-align: top;\n",
       "    }\n",
       "\n",
       "    .dataframe thead th {\n",
       "        text-align: right;\n",
       "    }\n",
       "</style>\n",
       "<table border=\"1\" class=\"dataframe\">\n",
       "  <thead>\n",
       "    <tr style=\"text-align: right;\">\n",
       "      <th></th>\n",
       "      <th>name</th>\n",
       "      <th>platform</th>\n",
       "      <th>year_of_release</th>\n",
       "      <th>genre</th>\n",
       "      <th>na_sales</th>\n",
       "      <th>eu_sales</th>\n",
       "      <th>jp_sales</th>\n",
       "      <th>other_sales</th>\n",
       "      <th>critic_score</th>\n",
       "      <th>user_score</th>\n",
       "      <th>rating</th>\n",
       "      <th>total_sales</th>\n",
       "    </tr>\n",
       "  </thead>\n",
       "  <tbody>\n",
       "    <tr>\n",
       "      <th>0</th>\n",
       "      <td>Wii Sports</td>\n",
       "      <td>Wii</td>\n",
       "      <td>2006</td>\n",
       "      <td>Sports</td>\n",
       "      <td>41.36</td>\n",
       "      <td>28.96</td>\n",
       "      <td>3.77</td>\n",
       "      <td>8.45</td>\n",
       "      <td>76.0</td>\n",
       "      <td>8.0</td>\n",
       "      <td>E</td>\n",
       "      <td>82.54</td>\n",
       "    </tr>\n",
       "    <tr>\n",
       "      <th>2</th>\n",
       "      <td>Mario Kart Wii</td>\n",
       "      <td>Wii</td>\n",
       "      <td>2008</td>\n",
       "      <td>Racing</td>\n",
       "      <td>15.68</td>\n",
       "      <td>12.76</td>\n",
       "      <td>3.79</td>\n",
       "      <td>3.29</td>\n",
       "      <td>82.0</td>\n",
       "      <td>8.3</td>\n",
       "      <td>E</td>\n",
       "      <td>35.52</td>\n",
       "    </tr>\n",
       "    <tr>\n",
       "      <th>10</th>\n",
       "      <td>Nintendogs</td>\n",
       "      <td>DS</td>\n",
       "      <td>2005</td>\n",
       "      <td>Simulation</td>\n",
       "      <td>9.05</td>\n",
       "      <td>10.95</td>\n",
       "      <td>1.93</td>\n",
       "      <td>2.74</td>\n",
       "      <td>71.0</td>\n",
       "      <td>7.5</td>\n",
       "      <td>NaN</td>\n",
       "      <td>24.67</td>\n",
       "    </tr>\n",
       "    <tr>\n",
       "      <th>3</th>\n",
       "      <td>Wii Sports Resort</td>\n",
       "      <td>Wii</td>\n",
       "      <td>2009</td>\n",
       "      <td>Sports</td>\n",
       "      <td>15.61</td>\n",
       "      <td>10.93</td>\n",
       "      <td>3.28</td>\n",
       "      <td>2.95</td>\n",
       "      <td>80.0</td>\n",
       "      <td>8.0</td>\n",
       "      <td>E</td>\n",
       "      <td>32.77</td>\n",
       "    </tr>\n",
       "    <tr>\n",
       "      <th>19</th>\n",
       "      <td>Brain Age: Train Your Brain in Minutes a Day</td>\n",
       "      <td>DS</td>\n",
       "      <td>2005</td>\n",
       "      <td>Misc</td>\n",
       "      <td>4.74</td>\n",
       "      <td>9.20</td>\n",
       "      <td>4.16</td>\n",
       "      <td>2.04</td>\n",
       "      <td>77.0</td>\n",
       "      <td>7.9</td>\n",
       "      <td>E</td>\n",
       "      <td>20.14</td>\n",
       "    </tr>\n",
       "  </tbody>\n",
       "</table>\n",
       "</div>"
      ],
      "text/plain": [
       "                                            name platform  year_of_release  \\\n",
       "0                                     Wii Sports      Wii             2006   \n",
       "2                                 Mario Kart Wii      Wii             2008   \n",
       "10                                    Nintendogs       DS             2005   \n",
       "3                              Wii Sports Resort      Wii             2009   \n",
       "19  Brain Age: Train Your Brain in Minutes a Day       DS             2005   \n",
       "\n",
       "         genre  na_sales  eu_sales  jp_sales  other_sales  critic_score  \\\n",
       "0       Sports     41.36     28.96      3.77         8.45          76.0   \n",
       "2       Racing     15.68     12.76      3.79         3.29          82.0   \n",
       "10  Simulation      9.05     10.95      1.93         2.74          71.0   \n",
       "3       Sports     15.61     10.93      3.28         2.95          80.0   \n",
       "19        Misc      4.74      9.20      4.16         2.04          77.0   \n",
       "\n",
       "    user_score rating  total_sales  \n",
       "0          8.0      E        82.54  \n",
       "2          8.3      E        35.52  \n",
       "10         7.5    NaN        24.67  \n",
       "3          8.0      E        32.77  \n",
       "19         7.9      E        20.14  "
      ]
     },
     "execution_count": 50,
     "metadata": {},
     "output_type": "execute_result"
    }
   ],
   "source": [
    "games_data_raw.nlargest(5, ['eu_sales'])"
   ]
  },
  {
   "cell_type": "markdown",
   "id": "d8d95d61-82be-4a11-8c87-e9166a0e73cb",
   "metadata": {},
   "source": [
    "De acuerdo a las ventas de na_sales podemos determinar las plataforma principales las cuales son : wii y ds"
   ]
  },
  {
   "cell_type": "code",
   "execution_count": 51,
   "id": "8b190c24-6617-4fcc-9143-1f94915f72ae",
   "metadata": {},
   "outputs": [
    {
     "data": {
      "text/html": [
       "<div>\n",
       "<style scoped>\n",
       "    .dataframe tbody tr th:only-of-type {\n",
       "        vertical-align: middle;\n",
       "    }\n",
       "\n",
       "    .dataframe tbody tr th {\n",
       "        vertical-align: top;\n",
       "    }\n",
       "\n",
       "    .dataframe thead th {\n",
       "        text-align: right;\n",
       "    }\n",
       "</style>\n",
       "<table border=\"1\" class=\"dataframe\">\n",
       "  <thead>\n",
       "    <tr style=\"text-align: right;\">\n",
       "      <th></th>\n",
       "      <th>name</th>\n",
       "      <th>platform</th>\n",
       "      <th>year_of_release</th>\n",
       "      <th>genre</th>\n",
       "      <th>na_sales</th>\n",
       "      <th>eu_sales</th>\n",
       "      <th>jp_sales</th>\n",
       "      <th>other_sales</th>\n",
       "      <th>critic_score</th>\n",
       "      <th>user_score</th>\n",
       "      <th>rating</th>\n",
       "      <th>total_sales</th>\n",
       "    </tr>\n",
       "  </thead>\n",
       "  <tbody>\n",
       "    <tr>\n",
       "      <th>4</th>\n",
       "      <td>Pokemon Red/Pokemon Blue</td>\n",
       "      <td>GB</td>\n",
       "      <td>1996</td>\n",
       "      <td>Role-Playing</td>\n",
       "      <td>11.27</td>\n",
       "      <td>8.89</td>\n",
       "      <td>10.22</td>\n",
       "      <td>1.00</td>\n",
       "      <td>71.0</td>\n",
       "      <td>7.5</td>\n",
       "      <td>NaN</td>\n",
       "      <td>31.38</td>\n",
       "    </tr>\n",
       "    <tr>\n",
       "      <th>12</th>\n",
       "      <td>Pokemon Gold/Pokemon Silver</td>\n",
       "      <td>GB</td>\n",
       "      <td>1999</td>\n",
       "      <td>Role-Playing</td>\n",
       "      <td>9.00</td>\n",
       "      <td>6.18</td>\n",
       "      <td>7.20</td>\n",
       "      <td>0.71</td>\n",
       "      <td>71.0</td>\n",
       "      <td>7.5</td>\n",
       "      <td>NaN</td>\n",
       "      <td>23.09</td>\n",
       "    </tr>\n",
       "    <tr>\n",
       "      <th>1</th>\n",
       "      <td>Super Mario Bros.</td>\n",
       "      <td>NES</td>\n",
       "      <td>1985</td>\n",
       "      <td>Platform</td>\n",
       "      <td>29.08</td>\n",
       "      <td>3.58</td>\n",
       "      <td>6.81</td>\n",
       "      <td>0.77</td>\n",
       "      <td>71.0</td>\n",
       "      <td>7.5</td>\n",
       "      <td>NaN</td>\n",
       "      <td>40.24</td>\n",
       "    </tr>\n",
       "    <tr>\n",
       "      <th>6</th>\n",
       "      <td>New Super Mario Bros.</td>\n",
       "      <td>DS</td>\n",
       "      <td>2006</td>\n",
       "      <td>Platform</td>\n",
       "      <td>11.28</td>\n",
       "      <td>9.14</td>\n",
       "      <td>6.50</td>\n",
       "      <td>2.88</td>\n",
       "      <td>89.0</td>\n",
       "      <td>8.5</td>\n",
       "      <td>E</td>\n",
       "      <td>29.80</td>\n",
       "    </tr>\n",
       "    <tr>\n",
       "      <th>20</th>\n",
       "      <td>Pokemon Diamond/Pokemon Pearl</td>\n",
       "      <td>DS</td>\n",
       "      <td>2006</td>\n",
       "      <td>Role-Playing</td>\n",
       "      <td>6.38</td>\n",
       "      <td>4.46</td>\n",
       "      <td>6.04</td>\n",
       "      <td>1.36</td>\n",
       "      <td>71.0</td>\n",
       "      <td>7.5</td>\n",
       "      <td>NaN</td>\n",
       "      <td>18.24</td>\n",
       "    </tr>\n",
       "  </tbody>\n",
       "</table>\n",
       "</div>"
      ],
      "text/plain": [
       "                             name platform  year_of_release         genre  \\\n",
       "4        Pokemon Red/Pokemon Blue       GB             1996  Role-Playing   \n",
       "12    Pokemon Gold/Pokemon Silver       GB             1999  Role-Playing   \n",
       "1               Super Mario Bros.      NES             1985      Platform   \n",
       "6           New Super Mario Bros.       DS             2006      Platform   \n",
       "20  Pokemon Diamond/Pokemon Pearl       DS             2006  Role-Playing   \n",
       "\n",
       "    na_sales  eu_sales  jp_sales  other_sales  critic_score  user_score  \\\n",
       "4      11.27      8.89     10.22         1.00          71.0         7.5   \n",
       "12      9.00      6.18      7.20         0.71          71.0         7.5   \n",
       "1      29.08      3.58      6.81         0.77          71.0         7.5   \n",
       "6      11.28      9.14      6.50         2.88          89.0         8.5   \n",
       "20      6.38      4.46      6.04         1.36          71.0         7.5   \n",
       "\n",
       "   rating  total_sales  \n",
       "4     NaN        31.38  \n",
       "12    NaN        23.09  \n",
       "1     NaN        40.24  \n",
       "6       E        29.80  \n",
       "20    NaN        18.24  "
      ]
     },
     "execution_count": 51,
     "metadata": {},
     "output_type": "execute_result"
    }
   ],
   "source": [
    "games_data_raw.nlargest(5, ['jp_sales'])"
   ]
  },
  {
   "cell_type": "markdown",
   "id": "07767d64-aac5-4035-8e8e-9b49e31e19c5",
   "metadata": {},
   "source": [
    "De acuerdo a las ventas de na_sales podemos determinar las plataforma principales las cuales son : wgb nes y ds"
   ]
  },
  {
   "cell_type": "code",
   "execution_count": 52,
   "id": "c1ddfc04-7e20-493f-8515-d1232d2891c7",
   "metadata": {},
   "outputs": [
    {
     "data": {
      "text/html": [
       "<div>\n",
       "<style scoped>\n",
       "    .dataframe tbody tr th:only-of-type {\n",
       "        vertical-align: middle;\n",
       "    }\n",
       "\n",
       "    .dataframe tbody tr th {\n",
       "        vertical-align: top;\n",
       "    }\n",
       "\n",
       "    .dataframe thead th {\n",
       "        text-align: right;\n",
       "    }\n",
       "</style>\n",
       "<table border=\"1\" class=\"dataframe\">\n",
       "  <thead>\n",
       "    <tr style=\"text-align: right;\">\n",
       "      <th></th>\n",
       "      <th>na_sales</th>\n",
       "      <th>eu_sales</th>\n",
       "      <th>jp_sales</th>\n",
       "      <th>total_sales</th>\n",
       "    </tr>\n",
       "    <tr>\n",
       "      <th>genre</th>\n",
       "      <th></th>\n",
       "      <th></th>\n",
       "      <th></th>\n",
       "      <th></th>\n",
       "    </tr>\n",
       "  </thead>\n",
       "  <tbody>\n",
       "    <tr>\n",
       "      <th>Action</th>\n",
       "      <td>879.01</td>\n",
       "      <td>519.13</td>\n",
       "      <td>161.43</td>\n",
       "      <td>1744.17</td>\n",
       "    </tr>\n",
       "    <tr>\n",
       "      <th>Sports</th>\n",
       "      <td>684.43</td>\n",
       "      <td>376.79</td>\n",
       "      <td>135.54</td>\n",
       "      <td>1331.27</td>\n",
       "    </tr>\n",
       "    <tr>\n",
       "      <th>Shooter</th>\n",
       "      <td>592.24</td>\n",
       "      <td>317.34</td>\n",
       "      <td>38.76</td>\n",
       "      <td>1052.45</td>\n",
       "    </tr>\n",
       "    <tr>\n",
       "      <th>Role-Playing</th>\n",
       "      <td>330.81</td>\n",
       "      <td>188.71</td>\n",
       "      <td>355.41</td>\n",
       "      <td>934.56</td>\n",
       "    </tr>\n",
       "    <tr>\n",
       "      <th>Platform</th>\n",
       "      <td>445.50</td>\n",
       "      <td>200.35</td>\n",
       "      <td>130.83</td>\n",
       "      <td>827.77</td>\n",
       "    </tr>\n",
       "    <tr>\n",
       "      <th>Misc</th>\n",
       "      <td>407.27</td>\n",
       "      <td>212.74</td>\n",
       "      <td>108.11</td>\n",
       "      <td>802.51</td>\n",
       "    </tr>\n",
       "    <tr>\n",
       "      <th>Racing</th>\n",
       "      <td>359.35</td>\n",
       "      <td>236.51</td>\n",
       "      <td>56.71</td>\n",
       "      <td>728.67</td>\n",
       "    </tr>\n",
       "    <tr>\n",
       "      <th>Fighting</th>\n",
       "      <td>223.36</td>\n",
       "      <td>100.33</td>\n",
       "      <td>87.48</td>\n",
       "      <td>447.53</td>\n",
       "    </tr>\n",
       "    <tr>\n",
       "      <th>Simulation</th>\n",
       "      <td>181.92</td>\n",
       "      <td>113.52</td>\n",
       "      <td>63.80</td>\n",
       "      <td>389.97</td>\n",
       "    </tr>\n",
       "    <tr>\n",
       "      <th>Puzzle</th>\n",
       "      <td>122.87</td>\n",
       "      <td>50.01</td>\n",
       "      <td>57.31</td>\n",
       "      <td>242.57</td>\n",
       "    </tr>\n",
       "    <tr>\n",
       "      <th>Adventure</th>\n",
       "      <td>105.26</td>\n",
       "      <td>63.54</td>\n",
       "      <td>52.30</td>\n",
       "      <td>237.59</td>\n",
       "    </tr>\n",
       "    <tr>\n",
       "      <th>Strategy</th>\n",
       "      <td>68.55</td>\n",
       "      <td>45.17</td>\n",
       "      <td>49.66</td>\n",
       "      <td>174.23</td>\n",
       "    </tr>\n",
       "  </tbody>\n",
       "</table>\n",
       "</div>"
      ],
      "text/plain": [
       "              na_sales  eu_sales  jp_sales  total_sales\n",
       "genre                                                  \n",
       "Action          879.01    519.13    161.43      1744.17\n",
       "Sports          684.43    376.79    135.54      1331.27\n",
       "Shooter         592.24    317.34     38.76      1052.45\n",
       "Role-Playing    330.81    188.71    355.41       934.56\n",
       "Platform        445.50    200.35    130.83       827.77\n",
       "Misc            407.27    212.74    108.11       802.51\n",
       "Racing          359.35    236.51     56.71       728.67\n",
       "Fighting        223.36    100.33     87.48       447.53\n",
       "Simulation      181.92    113.52     63.80       389.97\n",
       "Puzzle          122.87     50.01     57.31       242.57\n",
       "Adventure       105.26     63.54     52.30       237.59\n",
       "Strategy         68.55     45.17     49.66       174.23"
      ]
     },
     "execution_count": 52,
     "metadata": {},
     "output_type": "execute_result"
    }
   ],
   "source": [
    "principales_generos = games_data_raw.groupby(\"genre\")[[\"na_sales\",\"eu_sales\", \"jp_sales\", \"total_sales\"]].sum().sort_values(\"total_sales\", ascending=False)\n",
    "principales_generos"
   ]
  },
  {
   "cell_type": "code",
   "execution_count": 53,
   "id": "e176a954-685f-4bc4-ac84-e2a389b4aa03",
   "metadata": {},
   "outputs": [
    {
     "name": "stderr",
     "output_type": "stream",
     "text": [
      "C:\\Users\\Guillen\\AppData\\Local\\Temp\\ipykernel_6684\\2118648347.py:1: DeprecationWarning: DataFrameGroupBy.apply operated on the grouping columns. This behavior is deprecated, and in a future version of pandas the grouping columns will be excluded from the operation. Either pass `include_groups=False` to exclude the groupings or explicitly select the grouping columns after groupby to silence this warning.\n",
      "  top_games = games_data_raw.groupby('genre').apply(lambda x: x.nlargest(5, 'jp_sales')).reset_index(drop=True)\n"
     ]
    },
    {
     "data": {
      "text/html": [
       "<div>\n",
       "<style scoped>\n",
       "    .dataframe tbody tr th:only-of-type {\n",
       "        vertical-align: middle;\n",
       "    }\n",
       "\n",
       "    .dataframe tbody tr th {\n",
       "        vertical-align: top;\n",
       "    }\n",
       "\n",
       "    .dataframe thead th {\n",
       "        text-align: right;\n",
       "    }\n",
       "</style>\n",
       "<table border=\"1\" class=\"dataframe\">\n",
       "  <thead>\n",
       "    <tr style=\"text-align: right;\">\n",
       "      <th></th>\n",
       "      <th>name</th>\n",
       "      <th>platform</th>\n",
       "      <th>year_of_release</th>\n",
       "      <th>genre</th>\n",
       "      <th>na_sales</th>\n",
       "      <th>eu_sales</th>\n",
       "      <th>jp_sales</th>\n",
       "      <th>other_sales</th>\n",
       "      <th>critic_score</th>\n",
       "      <th>user_score</th>\n",
       "      <th>rating</th>\n",
       "      <th>total_sales</th>\n",
       "    </tr>\n",
       "  </thead>\n",
       "  <tbody>\n",
       "    <tr>\n",
       "      <th>35</th>\n",
       "      <td>Pokemon Red/Pokemon Blue</td>\n",
       "      <td>GB</td>\n",
       "      <td>1996</td>\n",
       "      <td>Role-Playing</td>\n",
       "      <td>11.27</td>\n",
       "      <td>8.89</td>\n",
       "      <td>10.22</td>\n",
       "      <td>1.00</td>\n",
       "      <td>71.0</td>\n",
       "      <td>7.5</td>\n",
       "      <td>NaN</td>\n",
       "      <td>31.38</td>\n",
       "    </tr>\n",
       "    <tr>\n",
       "      <th>36</th>\n",
       "      <td>Pokemon Gold/Pokemon Silver</td>\n",
       "      <td>GB</td>\n",
       "      <td>1999</td>\n",
       "      <td>Role-Playing</td>\n",
       "      <td>9.00</td>\n",
       "      <td>6.18</td>\n",
       "      <td>7.20</td>\n",
       "      <td>0.71</td>\n",
       "      <td>71.0</td>\n",
       "      <td>7.5</td>\n",
       "      <td>NaN</td>\n",
       "      <td>23.09</td>\n",
       "    </tr>\n",
       "    <tr>\n",
       "      <th>20</th>\n",
       "      <td>Super Mario Bros.</td>\n",
       "      <td>NES</td>\n",
       "      <td>1985</td>\n",
       "      <td>Platform</td>\n",
       "      <td>29.08</td>\n",
       "      <td>3.58</td>\n",
       "      <td>6.81</td>\n",
       "      <td>0.77</td>\n",
       "      <td>71.0</td>\n",
       "      <td>7.5</td>\n",
       "      <td>NaN</td>\n",
       "      <td>40.24</td>\n",
       "    </tr>\n",
       "    <tr>\n",
       "      <th>21</th>\n",
       "      <td>New Super Mario Bros.</td>\n",
       "      <td>DS</td>\n",
       "      <td>2006</td>\n",
       "      <td>Platform</td>\n",
       "      <td>11.28</td>\n",
       "      <td>9.14</td>\n",
       "      <td>6.50</td>\n",
       "      <td>2.88</td>\n",
       "      <td>89.0</td>\n",
       "      <td>8.5</td>\n",
       "      <td>E</td>\n",
       "      <td>29.80</td>\n",
       "    </tr>\n",
       "    <tr>\n",
       "      <th>37</th>\n",
       "      <td>Pokemon Diamond/Pokemon Pearl</td>\n",
       "      <td>DS</td>\n",
       "      <td>2006</td>\n",
       "      <td>Role-Playing</td>\n",
       "      <td>6.38</td>\n",
       "      <td>4.46</td>\n",
       "      <td>6.04</td>\n",
       "      <td>1.36</td>\n",
       "      <td>71.0</td>\n",
       "      <td>7.5</td>\n",
       "      <td>NaN</td>\n",
       "      <td>18.24</td>\n",
       "    </tr>\n",
       "  </tbody>\n",
       "</table>\n",
       "</div>"
      ],
      "text/plain": [
       "                             name platform  year_of_release         genre  \\\n",
       "35       Pokemon Red/Pokemon Blue       GB             1996  Role-Playing   \n",
       "36    Pokemon Gold/Pokemon Silver       GB             1999  Role-Playing   \n",
       "20              Super Mario Bros.      NES             1985      Platform   \n",
       "21          New Super Mario Bros.       DS             2006      Platform   \n",
       "37  Pokemon Diamond/Pokemon Pearl       DS             2006  Role-Playing   \n",
       "\n",
       "    na_sales  eu_sales  jp_sales  other_sales  critic_score  user_score  \\\n",
       "35     11.27      8.89     10.22         1.00          71.0         7.5   \n",
       "36      9.00      6.18      7.20         0.71          71.0         7.5   \n",
       "20     29.08      3.58      6.81         0.77          71.0         7.5   \n",
       "21     11.28      9.14      6.50         2.88          89.0         8.5   \n",
       "37      6.38      4.46      6.04         1.36          71.0         7.5   \n",
       "\n",
       "   rating  total_sales  \n",
       "35    NaN        31.38  \n",
       "36    NaN        23.09  \n",
       "20    NaN        40.24  \n",
       "21      E        29.80  \n",
       "37    NaN        18.24  "
      ]
     },
     "execution_count": 53,
     "metadata": {},
     "output_type": "execute_result"
    }
   ],
   "source": [
    "\n",
    "\n",
    "\n",
    "top_games = games_data_raw.groupby('genre').apply(lambda x: x.nlargest(5, 'jp_sales')).reset_index(drop=True)\n",
    "top_games.nlargest(5,['jp_sales'])"
   ]
  },
  {
   "cell_type": "code",
   "execution_count": 54,
   "id": "bd32a718-5a34-4590-9a06-1d6ceb92d4dd",
   "metadata": {},
   "outputs": [
    {
     "name": "stderr",
     "output_type": "stream",
     "text": [
      "C:\\Users\\Guillen\\AppData\\Local\\Temp\\ipykernel_6684\\3911405459.py:1: DeprecationWarning: DataFrameGroupBy.apply operated on the grouping columns. This behavior is deprecated, and in a future version of pandas the grouping columns will be excluded from the operation. Either pass `include_groups=False` to exclude the groupings or explicitly select the grouping columns after groupby to silence this warning.\n",
      "  top_games = games_data_raw.groupby('genre').apply(lambda x: x.nlargest(5, 'eu_sales')).reset_index(drop=True)\n"
     ]
    },
    {
     "data": {
      "text/html": [
       "<div>\n",
       "<style scoped>\n",
       "    .dataframe tbody tr th:only-of-type {\n",
       "        vertical-align: middle;\n",
       "    }\n",
       "\n",
       "    .dataframe tbody tr th {\n",
       "        vertical-align: top;\n",
       "    }\n",
       "\n",
       "    .dataframe thead th {\n",
       "        text-align: right;\n",
       "    }\n",
       "</style>\n",
       "<table border=\"1\" class=\"dataframe\">\n",
       "  <thead>\n",
       "    <tr style=\"text-align: right;\">\n",
       "      <th></th>\n",
       "      <th>name</th>\n",
       "      <th>platform</th>\n",
       "      <th>year_of_release</th>\n",
       "      <th>genre</th>\n",
       "      <th>na_sales</th>\n",
       "      <th>eu_sales</th>\n",
       "      <th>jp_sales</th>\n",
       "      <th>other_sales</th>\n",
       "      <th>critic_score</th>\n",
       "      <th>user_score</th>\n",
       "      <th>rating</th>\n",
       "      <th>total_sales</th>\n",
       "    </tr>\n",
       "  </thead>\n",
       "  <tbody>\n",
       "    <tr>\n",
       "      <th>50</th>\n",
       "      <td>Wii Sports</td>\n",
       "      <td>Wii</td>\n",
       "      <td>2006</td>\n",
       "      <td>Sports</td>\n",
       "      <td>41.36</td>\n",
       "      <td>28.96</td>\n",
       "      <td>3.77</td>\n",
       "      <td>8.45</td>\n",
       "      <td>76.0</td>\n",
       "      <td>8.0</td>\n",
       "      <td>E</td>\n",
       "      <td>82.54</td>\n",
       "    </tr>\n",
       "    <tr>\n",
       "      <th>30</th>\n",
       "      <td>Mario Kart Wii</td>\n",
       "      <td>Wii</td>\n",
       "      <td>2008</td>\n",
       "      <td>Racing</td>\n",
       "      <td>15.68</td>\n",
       "      <td>12.76</td>\n",
       "      <td>3.79</td>\n",
       "      <td>3.29</td>\n",
       "      <td>82.0</td>\n",
       "      <td>8.3</td>\n",
       "      <td>E</td>\n",
       "      <td>35.52</td>\n",
       "    </tr>\n",
       "    <tr>\n",
       "      <th>45</th>\n",
       "      <td>Nintendogs</td>\n",
       "      <td>DS</td>\n",
       "      <td>2005</td>\n",
       "      <td>Simulation</td>\n",
       "      <td>9.05</td>\n",
       "      <td>10.95</td>\n",
       "      <td>1.93</td>\n",
       "      <td>2.74</td>\n",
       "      <td>71.0</td>\n",
       "      <td>7.5</td>\n",
       "      <td>NaN</td>\n",
       "      <td>24.67</td>\n",
       "    </tr>\n",
       "    <tr>\n",
       "      <th>51</th>\n",
       "      <td>Wii Sports Resort</td>\n",
       "      <td>Wii</td>\n",
       "      <td>2009</td>\n",
       "      <td>Sports</td>\n",
       "      <td>15.61</td>\n",
       "      <td>10.93</td>\n",
       "      <td>3.28</td>\n",
       "      <td>2.95</td>\n",
       "      <td>80.0</td>\n",
       "      <td>8.0</td>\n",
       "      <td>E</td>\n",
       "      <td>32.77</td>\n",
       "    </tr>\n",
       "    <tr>\n",
       "      <th>15</th>\n",
       "      <td>Brain Age: Train Your Brain in Minutes a Day</td>\n",
       "      <td>DS</td>\n",
       "      <td>2005</td>\n",
       "      <td>Misc</td>\n",
       "      <td>4.74</td>\n",
       "      <td>9.20</td>\n",
       "      <td>4.16</td>\n",
       "      <td>2.04</td>\n",
       "      <td>77.0</td>\n",
       "      <td>7.9</td>\n",
       "      <td>E</td>\n",
       "      <td>20.14</td>\n",
       "    </tr>\n",
       "  </tbody>\n",
       "</table>\n",
       "</div>"
      ],
      "text/plain": [
       "                                            name platform  year_of_release  \\\n",
       "50                                    Wii Sports      Wii             2006   \n",
       "30                                Mario Kart Wii      Wii             2008   \n",
       "45                                    Nintendogs       DS             2005   \n",
       "51                             Wii Sports Resort      Wii             2009   \n",
       "15  Brain Age: Train Your Brain in Minutes a Day       DS             2005   \n",
       "\n",
       "         genre  na_sales  eu_sales  jp_sales  other_sales  critic_score  \\\n",
       "50      Sports     41.36     28.96      3.77         8.45          76.0   \n",
       "30      Racing     15.68     12.76      3.79         3.29          82.0   \n",
       "45  Simulation      9.05     10.95      1.93         2.74          71.0   \n",
       "51      Sports     15.61     10.93      3.28         2.95          80.0   \n",
       "15        Misc      4.74      9.20      4.16         2.04          77.0   \n",
       "\n",
       "    user_score rating  total_sales  \n",
       "50         8.0      E        82.54  \n",
       "30         8.3      E        35.52  \n",
       "45         7.5    NaN        24.67  \n",
       "51         8.0      E        32.77  \n",
       "15         7.9      E        20.14  "
      ]
     },
     "execution_count": 54,
     "metadata": {},
     "output_type": "execute_result"
    }
   ],
   "source": [
    "top_games = games_data_raw.groupby('genre').apply(lambda x: x.nlargest(5, 'eu_sales')).reset_index(drop=True)\n",
    "top_games.nlargest(5,['eu_sales'])"
   ]
  },
  {
   "cell_type": "code",
   "execution_count": 55,
   "id": "21c28375-55c4-4c74-8d60-7880f4cb502e",
   "metadata": {},
   "outputs": [
    {
     "name": "stderr",
     "output_type": "stream",
     "text": [
      "C:\\Users\\Guillen\\AppData\\Local\\Temp\\ipykernel_6684\\4031453556.py:1: DeprecationWarning: DataFrameGroupBy.apply operated on the grouping columns. This behavior is deprecated, and in a future version of pandas the grouping columns will be excluded from the operation. Either pass `include_groups=False` to exclude the groupings or explicitly select the grouping columns after groupby to silence this warning.\n",
      "  top_games = games_data_raw.groupby('genre').apply(lambda x: x.nlargest(5, 'na_sales')).reset_index(drop=True)\n"
     ]
    },
    {
     "data": {
      "text/html": [
       "<div>\n",
       "<style scoped>\n",
       "    .dataframe tbody tr th:only-of-type {\n",
       "        vertical-align: middle;\n",
       "    }\n",
       "\n",
       "    .dataframe tbody tr th {\n",
       "        vertical-align: top;\n",
       "    }\n",
       "\n",
       "    .dataframe thead th {\n",
       "        text-align: right;\n",
       "    }\n",
       "</style>\n",
       "<table border=\"1\" class=\"dataframe\">\n",
       "  <thead>\n",
       "    <tr style=\"text-align: right;\">\n",
       "      <th></th>\n",
       "      <th>name</th>\n",
       "      <th>platform</th>\n",
       "      <th>year_of_release</th>\n",
       "      <th>genre</th>\n",
       "      <th>na_sales</th>\n",
       "      <th>eu_sales</th>\n",
       "      <th>jp_sales</th>\n",
       "      <th>other_sales</th>\n",
       "      <th>critic_score</th>\n",
       "      <th>user_score</th>\n",
       "      <th>rating</th>\n",
       "      <th>total_sales</th>\n",
       "    </tr>\n",
       "  </thead>\n",
       "  <tbody>\n",
       "    <tr>\n",
       "      <th>50</th>\n",
       "      <td>Wii Sports</td>\n",
       "      <td>Wii</td>\n",
       "      <td>2006</td>\n",
       "      <td>Sports</td>\n",
       "      <td>41.36</td>\n",
       "      <td>28.96</td>\n",
       "      <td>3.77</td>\n",
       "      <td>8.45</td>\n",
       "      <td>76.0</td>\n",
       "      <td>8.0</td>\n",
       "      <td>E</td>\n",
       "      <td>82.54</td>\n",
       "    </tr>\n",
       "    <tr>\n",
       "      <th>20</th>\n",
       "      <td>Super Mario Bros.</td>\n",
       "      <td>NES</td>\n",
       "      <td>1985</td>\n",
       "      <td>Platform</td>\n",
       "      <td>29.08</td>\n",
       "      <td>3.58</td>\n",
       "      <td>6.81</td>\n",
       "      <td>0.77</td>\n",
       "      <td>71.0</td>\n",
       "      <td>7.5</td>\n",
       "      <td>NaN</td>\n",
       "      <td>40.24</td>\n",
       "    </tr>\n",
       "    <tr>\n",
       "      <th>40</th>\n",
       "      <td>Duck Hunt</td>\n",
       "      <td>NES</td>\n",
       "      <td>1984</td>\n",
       "      <td>Shooter</td>\n",
       "      <td>26.93</td>\n",
       "      <td>0.63</td>\n",
       "      <td>0.28</td>\n",
       "      <td>0.47</td>\n",
       "      <td>71.0</td>\n",
       "      <td>7.5</td>\n",
       "      <td>NaN</td>\n",
       "      <td>28.31</td>\n",
       "    </tr>\n",
       "    <tr>\n",
       "      <th>25</th>\n",
       "      <td>Tetris</td>\n",
       "      <td>GB</td>\n",
       "      <td>1989</td>\n",
       "      <td>Puzzle</td>\n",
       "      <td>23.20</td>\n",
       "      <td>2.26</td>\n",
       "      <td>4.22</td>\n",
       "      <td>0.58</td>\n",
       "      <td>71.0</td>\n",
       "      <td>7.5</td>\n",
       "      <td>NaN</td>\n",
       "      <td>30.26</td>\n",
       "    </tr>\n",
       "    <tr>\n",
       "      <th>30</th>\n",
       "      <td>Mario Kart Wii</td>\n",
       "      <td>Wii</td>\n",
       "      <td>2008</td>\n",
       "      <td>Racing</td>\n",
       "      <td>15.68</td>\n",
       "      <td>12.76</td>\n",
       "      <td>3.79</td>\n",
       "      <td>3.29</td>\n",
       "      <td>82.0</td>\n",
       "      <td>8.3</td>\n",
       "      <td>E</td>\n",
       "      <td>35.52</td>\n",
       "    </tr>\n",
       "  </tbody>\n",
       "</table>\n",
       "</div>"
      ],
      "text/plain": [
       "                 name platform  year_of_release     genre  na_sales  eu_sales  \\\n",
       "50         Wii Sports      Wii             2006    Sports     41.36     28.96   \n",
       "20  Super Mario Bros.      NES             1985  Platform     29.08      3.58   \n",
       "40          Duck Hunt      NES             1984   Shooter     26.93      0.63   \n",
       "25             Tetris       GB             1989    Puzzle     23.20      2.26   \n",
       "30     Mario Kart Wii      Wii             2008    Racing     15.68     12.76   \n",
       "\n",
       "    jp_sales  other_sales  critic_score  user_score rating  total_sales  \n",
       "50      3.77         8.45          76.0         8.0      E        82.54  \n",
       "20      6.81         0.77          71.0         7.5    NaN        40.24  \n",
       "40      0.28         0.47          71.0         7.5    NaN        28.31  \n",
       "25      4.22         0.58          71.0         7.5    NaN        30.26  \n",
       "30      3.79         3.29          82.0         8.3      E        35.52  "
      ]
     },
     "execution_count": 55,
     "metadata": {},
     "output_type": "execute_result"
    }
   ],
   "source": [
    "top_games = games_data_raw.groupby('genre').apply(lambda x: x.nlargest(5, 'na_sales')).reset_index(drop=True)\n",
    "top_games.nlargest(5,['na_sales'])"
   ]
  },
  {
   "cell_type": "markdown",
   "id": "0967f18a-3266-472d-88de-3edd3b0ad359",
   "metadata": {},
   "source": [
    "Realizando un groupby para obtener la agrupacion de genereros y con nlargest los cinco géneros principales podemos determinar que para cada region tiene distintos generos populares teniendo como una gran diferiencia en \"jp_sale\" en el uso de la plataforma Role-Playing ya que na y eu no es poluar\n",
    "sin embargo para \"na_sales\" y \"eu_sales\" las plataformas utilizadas son parecidas siendo la mas popular para ambas sport"
   ]
  },
  {
   "cell_type": "markdown",
   "id": "e7276356-1f07-4ed9-8fba-5f8fac51319c",
   "metadata": {},
   "source": [
    "Prueba las siguientes hipótesis:\n",
    "-Las calificaciones promedio de los usuarios para las plataformas Xbox One y PC son las mismas.\n",
    "-Las calificaciones promedio de los usuarios para los géneros de Acción y Deportes son diferentes.\n",
    "-Establece tu mismo el valor de umbral alfa.\n",
    "-Cómo formulaste las hipótesis nula y alternativa.\n",
    "-Qué criterio utilizaste para probar las hipótesis y por qué."
   ]
  },
  {
   "cell_type": "code",
   "execution_count": 56,
   "id": "641900c8-abec-4b7d-ba97-cc1791aeb9fe",
   "metadata": {},
   "outputs": [
    {
     "data": {
      "text/html": [
       "<div>\n",
       "<style scoped>\n",
       "    .dataframe tbody tr th:only-of-type {\n",
       "        vertical-align: middle;\n",
       "    }\n",
       "\n",
       "    .dataframe tbody tr th {\n",
       "        vertical-align: top;\n",
       "    }\n",
       "\n",
       "    .dataframe thead th {\n",
       "        text-align: right;\n",
       "    }\n",
       "</style>\n",
       "<table border=\"1\" class=\"dataframe\">\n",
       "  <thead>\n",
       "    <tr style=\"text-align: right;\">\n",
       "      <th></th>\n",
       "      <th>name</th>\n",
       "      <th>platform</th>\n",
       "      <th>year_of_release</th>\n",
       "      <th>genre</th>\n",
       "      <th>na_sales</th>\n",
       "      <th>eu_sales</th>\n",
       "      <th>jp_sales</th>\n",
       "      <th>other_sales</th>\n",
       "      <th>critic_score</th>\n",
       "      <th>user_score</th>\n",
       "      <th>rating</th>\n",
       "      <th>total_sales</th>\n",
       "      <th>calif_promedio</th>\n",
       "    </tr>\n",
       "  </thead>\n",
       "  <tbody>\n",
       "    <tr>\n",
       "      <th>0</th>\n",
       "      <td>Wii Sports</td>\n",
       "      <td>Wii</td>\n",
       "      <td>2006</td>\n",
       "      <td>Sports</td>\n",
       "      <td>41.36</td>\n",
       "      <td>28.96</td>\n",
       "      <td>3.77</td>\n",
       "      <td>8.45</td>\n",
       "      <td>76.0</td>\n",
       "      <td>8.0</td>\n",
       "      <td>E</td>\n",
       "      <td>82.54</td>\n",
       "      <td>7.32974</td>\n",
       "    </tr>\n",
       "    <tr>\n",
       "      <th>1</th>\n",
       "      <td>Super Mario Bros.</td>\n",
       "      <td>NES</td>\n",
       "      <td>1985</td>\n",
       "      <td>Platform</td>\n",
       "      <td>29.08</td>\n",
       "      <td>3.58</td>\n",
       "      <td>6.81</td>\n",
       "      <td>0.77</td>\n",
       "      <td>71.0</td>\n",
       "      <td>7.5</td>\n",
       "      <td>NaN</td>\n",
       "      <td>40.24</td>\n",
       "      <td>7.32974</td>\n",
       "    </tr>\n",
       "    <tr>\n",
       "      <th>2</th>\n",
       "      <td>Mario Kart Wii</td>\n",
       "      <td>Wii</td>\n",
       "      <td>2008</td>\n",
       "      <td>Racing</td>\n",
       "      <td>15.68</td>\n",
       "      <td>12.76</td>\n",
       "      <td>3.79</td>\n",
       "      <td>3.29</td>\n",
       "      <td>82.0</td>\n",
       "      <td>8.3</td>\n",
       "      <td>E</td>\n",
       "      <td>35.52</td>\n",
       "      <td>7.32974</td>\n",
       "    </tr>\n",
       "    <tr>\n",
       "      <th>3</th>\n",
       "      <td>Wii Sports Resort</td>\n",
       "      <td>Wii</td>\n",
       "      <td>2009</td>\n",
       "      <td>Sports</td>\n",
       "      <td>15.61</td>\n",
       "      <td>10.93</td>\n",
       "      <td>3.28</td>\n",
       "      <td>2.95</td>\n",
       "      <td>80.0</td>\n",
       "      <td>8.0</td>\n",
       "      <td>E</td>\n",
       "      <td>32.77</td>\n",
       "      <td>7.32974</td>\n",
       "    </tr>\n",
       "    <tr>\n",
       "      <th>4</th>\n",
       "      <td>Pokemon Red/Pokemon Blue</td>\n",
       "      <td>GB</td>\n",
       "      <td>1996</td>\n",
       "      <td>Role-Playing</td>\n",
       "      <td>11.27</td>\n",
       "      <td>8.89</td>\n",
       "      <td>10.22</td>\n",
       "      <td>1.00</td>\n",
       "      <td>71.0</td>\n",
       "      <td>7.5</td>\n",
       "      <td>NaN</td>\n",
       "      <td>31.38</td>\n",
       "      <td>7.32974</td>\n",
       "    </tr>\n",
       "    <tr>\n",
       "      <th>...</th>\n",
       "      <td>...</td>\n",
       "      <td>...</td>\n",
       "      <td>...</td>\n",
       "      <td>...</td>\n",
       "      <td>...</td>\n",
       "      <td>...</td>\n",
       "      <td>...</td>\n",
       "      <td>...</td>\n",
       "      <td>...</td>\n",
       "      <td>...</td>\n",
       "      <td>...</td>\n",
       "      <td>...</td>\n",
       "      <td>...</td>\n",
       "    </tr>\n",
       "    <tr>\n",
       "      <th>16710</th>\n",
       "      <td>Samurai Warriors: Sanada Maru</td>\n",
       "      <td>PS3</td>\n",
       "      <td>2016</td>\n",
       "      <td>Action</td>\n",
       "      <td>0.00</td>\n",
       "      <td>0.00</td>\n",
       "      <td>0.01</td>\n",
       "      <td>0.00</td>\n",
       "      <td>71.0</td>\n",
       "      <td>7.5</td>\n",
       "      <td>NaN</td>\n",
       "      <td>0.01</td>\n",
       "      <td>7.32974</td>\n",
       "    </tr>\n",
       "    <tr>\n",
       "      <th>16711</th>\n",
       "      <td>LMA Manager 2007</td>\n",
       "      <td>X360</td>\n",
       "      <td>2006</td>\n",
       "      <td>Sports</td>\n",
       "      <td>0.00</td>\n",
       "      <td>0.01</td>\n",
       "      <td>0.00</td>\n",
       "      <td>0.00</td>\n",
       "      <td>71.0</td>\n",
       "      <td>7.5</td>\n",
       "      <td>NaN</td>\n",
       "      <td>0.01</td>\n",
       "      <td>7.32974</td>\n",
       "    </tr>\n",
       "    <tr>\n",
       "      <th>16712</th>\n",
       "      <td>Haitaka no Psychedelica</td>\n",
       "      <td>PSV</td>\n",
       "      <td>2016</td>\n",
       "      <td>Adventure</td>\n",
       "      <td>0.00</td>\n",
       "      <td>0.00</td>\n",
       "      <td>0.01</td>\n",
       "      <td>0.00</td>\n",
       "      <td>71.0</td>\n",
       "      <td>7.5</td>\n",
       "      <td>NaN</td>\n",
       "      <td>0.01</td>\n",
       "      <td>7.32974</td>\n",
       "    </tr>\n",
       "    <tr>\n",
       "      <th>16713</th>\n",
       "      <td>Spirits &amp; Spells</td>\n",
       "      <td>GBA</td>\n",
       "      <td>2003</td>\n",
       "      <td>Platform</td>\n",
       "      <td>0.01</td>\n",
       "      <td>0.00</td>\n",
       "      <td>0.00</td>\n",
       "      <td>0.00</td>\n",
       "      <td>71.0</td>\n",
       "      <td>7.5</td>\n",
       "      <td>NaN</td>\n",
       "      <td>0.01</td>\n",
       "      <td>7.32974</td>\n",
       "    </tr>\n",
       "    <tr>\n",
       "      <th>16714</th>\n",
       "      <td>Winning Post 8 2016</td>\n",
       "      <td>PSV</td>\n",
       "      <td>2016</td>\n",
       "      <td>Simulation</td>\n",
       "      <td>0.00</td>\n",
       "      <td>0.00</td>\n",
       "      <td>0.01</td>\n",
       "      <td>0.00</td>\n",
       "      <td>71.0</td>\n",
       "      <td>7.5</td>\n",
       "      <td>NaN</td>\n",
       "      <td>0.01</td>\n",
       "      <td>7.32974</td>\n",
       "    </tr>\n",
       "  </tbody>\n",
       "</table>\n",
       "<p>16715 rows × 13 columns</p>\n",
       "</div>"
      ],
      "text/plain": [
       "                                name platform  year_of_release         genre  \\\n",
       "0                         Wii Sports      Wii             2006        Sports   \n",
       "1                  Super Mario Bros.      NES             1985      Platform   \n",
       "2                     Mario Kart Wii      Wii             2008        Racing   \n",
       "3                  Wii Sports Resort      Wii             2009        Sports   \n",
       "4           Pokemon Red/Pokemon Blue       GB             1996  Role-Playing   \n",
       "...                              ...      ...              ...           ...   \n",
       "16710  Samurai Warriors: Sanada Maru      PS3             2016        Action   \n",
       "16711               LMA Manager 2007     X360             2006        Sports   \n",
       "16712        Haitaka no Psychedelica      PSV             2016     Adventure   \n",
       "16713               Spirits & Spells      GBA             2003      Platform   \n",
       "16714            Winning Post 8 2016      PSV             2016    Simulation   \n",
       "\n",
       "       na_sales  eu_sales  jp_sales  other_sales  critic_score  user_score  \\\n",
       "0         41.36     28.96      3.77         8.45          76.0         8.0   \n",
       "1         29.08      3.58      6.81         0.77          71.0         7.5   \n",
       "2         15.68     12.76      3.79         3.29          82.0         8.3   \n",
       "3         15.61     10.93      3.28         2.95          80.0         8.0   \n",
       "4         11.27      8.89     10.22         1.00          71.0         7.5   \n",
       "...         ...       ...       ...          ...           ...         ...   \n",
       "16710      0.00      0.00      0.01         0.00          71.0         7.5   \n",
       "16711      0.00      0.01      0.00         0.00          71.0         7.5   \n",
       "16712      0.00      0.00      0.01         0.00          71.0         7.5   \n",
       "16713      0.01      0.00      0.00         0.00          71.0         7.5   \n",
       "16714      0.00      0.00      0.01         0.00          71.0         7.5   \n",
       "\n",
       "      rating  total_sales  calif_promedio  \n",
       "0          E        82.54         7.32974  \n",
       "1        NaN        40.24         7.32974  \n",
       "2          E        35.52         7.32974  \n",
       "3          E        32.77         7.32974  \n",
       "4        NaN        31.38         7.32974  \n",
       "...      ...          ...             ...  \n",
       "16710    NaN         0.01         7.32974  \n",
       "16711    NaN         0.01         7.32974  \n",
       "16712    NaN         0.01         7.32974  \n",
       "16713    NaN         0.01         7.32974  \n",
       "16714    NaN         0.01         7.32974  \n",
       "\n",
       "[16715 rows x 13 columns]"
      ]
     },
     "execution_count": 56,
     "metadata": {},
     "output_type": "execute_result"
    }
   ],
   "source": [
    "promedio_user_score = games_data_raw['user_score'].mean()\n",
    "games_data_raw['calif_promedio'] = promedio_user_score\n",
    "games_data_raw"
   ]
  },
  {
   "cell_type": "markdown",
   "id": "03dc8b86-e92f-447a-bba5-5aefe294de0c",
   "metadata": {},
   "source": [
    "hipotesis:\n",
    "h0= Las calificaciones promedio de los usuarios para las plataformas Xbox One y PC son las mismas\n",
    "h1=Las calificaciones promedio de los usuarios para las plataformas Xbox One y PC son diferentes"
   ]
  },
  {
   "cell_type": "code",
   "execution_count": 57,
   "id": "2f14bdf7-6a45-4e2e-8907-8d07b8e920c6",
   "metadata": {},
   "outputs": [
    {
     "name": "stdout",
     "output_type": "stream",
     "text": [
      "el promedio general de xone es de: 0.01477714627580018\n",
      "el promedio general de pc es de: 0.058271014059228236\n"
     ]
    }
   ],
   "source": [
    "games_promedio_xone=games_data_raw[\"platform\"] == \"XOne\"\n",
    "print(f\"el promedio general de xone es de: {games_promedio_xone.mean()}\")\n",
    "\n",
    "games_promedio_xone=games_data_raw[\"platform\"] == \"PC\"\n",
    "print(f\"el promedio general de pc es de: {games_promedio_xone.mean()}\")\n",
    "\n"
   ]
  },
  {
   "cell_type": "code",
   "execution_count": 58,
   "id": "b3f969d2-79d4-497e-b504-bb352c590339",
   "metadata": {},
   "outputs": [
    {
     "data": {
      "text/plain": [
       "99       7.5\n",
       "165      7.9\n",
       "179      5.4\n",
       "242      6.4\n",
       "270      6.2\n",
       "        ... \n",
       "16630    8.2\n",
       "16643    6.6\n",
       "16645    7.5\n",
       "16660    6.7\n",
       "16672    7.5\n",
       "Name: user_score, Length: 247, dtype: float64"
      ]
     },
     "execution_count": 58,
     "metadata": {},
     "output_type": "execute_result"
    }
   ],
   "source": [
    "alpha=0.05\n",
    "\n",
    "sample_1 = games_data_raw[games_data_raw['platform'] == 'XOne']['user_score'].dropna()\n",
    "sample_1"
   ]
  },
  {
   "cell_type": "code",
   "execution_count": 59,
   "id": "0b841282-425d-4e7e-800b-8b2b0bad82ae",
   "metadata": {},
   "outputs": [
    {
     "data": {
      "text/plain": [
       "85       7.6\n",
       "138      7.3\n",
       "192      4.0\n",
       "195      7.5\n",
       "218      8.2\n",
       "        ... \n",
       "16690    7.5\n",
       "16692    7.6\n",
       "16696    5.8\n",
       "16702    7.2\n",
       "16705    5.8\n",
       "Name: user_score, Length: 974, dtype: float64"
      ]
     },
     "execution_count": 59,
     "metadata": {},
     "output_type": "execute_result"
    }
   ],
   "source": [
    "sample_2 = games_data_raw.query(\"platform == 'PC'\")['user_score'].dropna()\n",
    "sample_2"
   ]
  },
  {
   "cell_type": "code",
   "execution_count": 60,
   "id": "3afe2154-b4c1-43bb-bab6-e7d624803643",
   "metadata": {},
   "outputs": [
    {
     "name": "stdout",
     "output_type": "stream",
     "text": [
      "las calificaciones promedio de los usuarios XOne es de : 6.778947368421053\n",
      "las calificaciones promedio de los usuarios PC es de : 6.778947368421053\n"
     ]
    }
   ],
   "source": [
    "games=[\"XOne\",\"PC\"]\n",
    "\n",
    "for game in games:\n",
    "    \n",
    "        promedio= games_data_raw[games_data_raw[\"platform\"] == \"XOne\"] ['user_score'].mean()\n",
    "        print(f\"las calificaciones promedio de los usuarios {game} es de : {promedio}\")"
   ]
  },
  {
   "cell_type": "code",
   "execution_count": 61,
   "id": "6b76a5b6-d2a4-4136-9fc7-31e320e8f0c8",
   "metadata": {},
   "outputs": [
    {
     "name": "stdout",
     "output_type": "stream",
     "text": [
      "p-value (t-test): 4.964162612622159e-05\n",
      "p-value (Levene's test): 0.9929649852182456\n"
     ]
    }
   ],
   "source": [
    "from scipy import stats as st\n",
    "\n",
    "sample_1 = np.ravel(sample_1)\n",
    "sample_2 = np.ravel(sample_2)\n",
    "\n",
    "\n",
    "resultados = st.ttest_ind(sample_1, sample_2, equal_var=False)\n",
    "resultados_levene = st.levene(sample_1, sample_2)\n",
    "\n",
    "\n",
    "print(f\"p-value (t-test): {resultados.pvalue}\")\n",
    "print(f\"p-value (Levene's test): {resultados_levene.pvalue}\")"
   ]
  },
  {
   "cell_type": "code",
   "execution_count": 62,
   "id": "05bc835e",
   "metadata": {},
   "outputs": [
    {
     "ename": "NameError",
     "evalue": "name 'xbox_one_scores' is not defined",
     "output_type": "error",
     "traceback": [
      "\u001b[1;31m---------------------------------------------------------------------------\u001b[0m",
      "\u001b[1;31mNameError\u001b[0m                                 Traceback (most recent call last)",
      "Cell \u001b[1;32mIn[62], line 1\u001b[0m\n\u001b[1;32m----> 1\u001b[0m xbox_one_user_scores \u001b[38;5;241m=\u001b[39m xbox_one_scores[\u001b[38;5;124m'\u001b[39m\u001b[38;5;124muser_score\u001b[39m\u001b[38;5;124m'\u001b[39m]\n\u001b[0;32m      2\u001b[0m pc_user_scores \u001b[38;5;241m=\u001b[39m pc_scores[\u001b[38;5;124m'\u001b[39m\u001b[38;5;124muser_score\u001b[39m\u001b[38;5;124m'\u001b[39m]\n\u001b[0;32m      4\u001b[0m \u001b[38;5;66;03m# Performing Levene's test\u001b[39;00m\n",
      "\u001b[1;31mNameError\u001b[0m: name 'xbox_one_scores' is not defined"
     ]
    }
   ],
   "source": [
    "xbox_one_user_scores = xbox_one_scores['user_score']\n",
    "pc_user_scores = pc_scores['user_score']\n",
    "\n",
    "# Performing Levene's test\n",
    "resultados_levene = st.levene(xbox_one_user_scores, pc_user_scores)\n",
    "\n",
    "print(f\"p-value: {resultados_levene.pvalue}\")"
   ]
  },
  {
   "cell_type": "code",
   "execution_count": null,
   "id": "8c11f8a7",
   "metadata": {},
   "outputs": [],
   "source": [
    "pc_scores"
   ]
  },
  {
   "cell_type": "code",
   "execution_count": null,
   "id": "6e377bee-55e1-45b5-af55-6666b048de19",
   "metadata": {},
   "outputs": [],
   "source": [
    "if resultados.pvalue < alpha:\n",
    "    print(\"podemos rechazar la hipotesis nula 1\")\n",
    "else:\n",
    "    print(\"No podemos rechazar la hipotesis nula\")"
   ]
  },
  {
   "cell_type": "code",
   "execution_count": null,
   "id": "acfa964c-aff5-4a49-ad94-a7442178e4c7",
   "metadata": {},
   "outputs": [],
   "source": [
    "if resultados_levene.pvalue < alpha:\n",
    "    print(\"podemos rechazar la hipotesis nula 2\")\n",
    "else:\n",
    "    print(\"No podemos rechazar la hipotesis nula\")"
   ]
  },
  {
   "cell_type": "markdown",
   "id": "49436a0b-3824-4305-a770-59e2e0cd06fa",
   "metadata": {},
   "source": [
    "se considera un alpha = 0.5 para tener un margen de error minimo, y con esto podemos concluir que las calificaciones promedio de los usuarios para las plataformas Xbox One y PC son las mismas por lo tanto se acepta ho"
   ]
  },
  {
   "cell_type": "markdown",
   "id": "85deaa2c-fe7b-489d-99ab-7d5760f408c5",
   "metadata": {},
   "source": [
    "hipotesis:\n",
    "h0= Las calificaciones promedio de los usuarios para el genero Action y Sports son las mismas\n",
    "h1=Las calificaciones promedio de los usuarios para el genero Action y Sports son diferentes"
   ]
  },
  {
   "cell_type": "code",
   "execution_count": null,
   "id": "c17495b7-7804-4f0e-9dad-0ef89715056d",
   "metadata": {},
   "outputs": [],
   "source": [
    "promedio_genre = games_data_raw['user_score'].mean()\n",
    "games_data_raw['promedio_genre'] = promedio_genre\n",
    "games_data_raw"
   ]
  },
  {
   "cell_type": "code",
   "execution_count": null,
   "id": "b9a6e3a0-c907-4bb9-93d4-65183046e7fc",
   "metadata": {},
   "outputs": [],
   "source": [
    "games_promedio_Action=games_data_raw[\"genre\"] == \"Action\"\n",
    "print(f\"el promedio general de Action es de: {games_promedio_Action.mean()}\")\n",
    "\n",
    "games_promedio_Sports=games_data_raw[\"genre\"] == \"Sports\"\n",
    "print(f\"el promedio general de Sports es de: {games_promedio_Sports.mean()}\")"
   ]
  },
  {
   "cell_type": "code",
   "execution_count": null,
   "id": "04716860-9f6a-45af-a482-1d802036bde3",
   "metadata": {},
   "outputs": [],
   "source": [
    "alpha=0.05\n",
    "sample_1 = games_data_raw[games_data_raw['genre'] == \"Action\"]['user_score'].dropna()\n",
    "sample_1\n"
   ]
  },
  {
   "cell_type": "code",
   "execution_count": null,
   "id": "8eee2b00-23be-41ea-9dea-1124b86e989f",
   "metadata": {},
   "outputs": [],
   "source": [
    "sample_2 = games_data_raw[games_data_raw['genre'] == \"Sports\"]['user_score'].dropna()\n",
    "sample_2"
   ]
  },
  {
   "cell_type": "code",
   "execution_count": null,
   "id": "cf746c2d-1817-4da1-8ef0-983f48d0b998",
   "metadata": {},
   "outputs": [],
   "source": [
    "games=[\"Action\",\"Sports\"]\n",
    "\n",
    "for game in games:\n",
    "    \n",
    "        promedio_genre= games_data_raw[games_data_raw[\"genre\"] == \"Action\"] ['user_score'].mean()\n",
    "        print(f\"las calificaciones promedio de los usuarios {game} es de : {promedio_genre}\")"
   ]
  },
  {
   "cell_type": "code",
   "execution_count": null,
   "id": "99bba7f8-5d2e-4961-a4f2-12fed558a0b3",
   "metadata": {},
   "outputs": [],
   "source": [
    "from scipy import stats as st\n",
    "\n",
    "resultados_genre=st.ttest_ind(sample_1, sample_2, equal_var=False)\n",
    "resultados_levene_genre=st.levene(sample_1, sample_2)\n",
    "print(f\"p-value: {resultados.pvalue}\")\n",
    "print(f\"p-value: {resultados_levene.pvalue}\")"
   ]
  },
  {
   "cell_type": "code",
   "execution_count": null,
   "id": "041f52ac-83e2-4a49-9fd9-4affe96db0ac",
   "metadata": {},
   "outputs": [],
   "source": [
    "if resultados.pvalue < alpha:\n",
    "    print(\"podemos rechazar la hipotesis nula 1\")\n",
    "else:\n",
    "    print(\"No podemos rechazar la hipotesis nula\")"
   ]
  },
  {
   "cell_type": "code",
   "execution_count": null,
   "id": "ae5e12c8-890b-4348-acea-a548c44cdfa0",
   "metadata": {},
   "outputs": [],
   "source": [
    "if resultados_levene.pvalue < alpha:\n",
    "    print(\"podemos rechazar la hipotesis nula 2\")\n",
    "else:\n",
    "    print(\"No podemos rechazar la hipotesis nula\")"
   ]
  },
  {
   "cell_type": "markdown",
   "id": "d95465a9-170e-4cf7-b99e-d9dcf21dc3e7",
   "metadata": {},
   "source": [
    "se considera un alpha = 0.5 para tener un margen de error minimo, y con esto podemos concluir que las calificaciones promedio de los usuarios en el genero action y sports son las mismas por lo tanto se rechaza ho"
   ]
  },
  {
   "cell_type": "markdown",
   "id": "728bd9da",
   "metadata": {},
   "source": [
    "# conclucion\n",
    "\n",
    "\n",
    "se analizan 3 regiones en especifico donde cada una tiene distintas plataformas popular sin embargo para \"na_sales\" y \"eu_sales\" las plataformas utilizadas son parecidas siendo la mas popular para ambas sport, esto pude deber a distintos factores que no se determinan aqui pero podemos porner por ejemplo que puede ser por el tipo de cultura \n",
    "con el transcurso del tiempo se han realizados mas lanzamientos teniendo este una gran popularidad al principio pero los graficos nos muestran que la rentabilidad siempre tiende a disminuir con el tiempo \n",
    "#ya quecon los datos obtenidos podemos concluir que aunque existieron plataformas que solian ser populares en su lanzamiento estas se ven afectadas ya que las ventas totales por plataforma si depende del las calificiones de los criticos o usuarios ya que la tedencia suele ser que entre mejor sea la critica mas popular y venta tiene la plataforma\n",
    "por lo cual la calificaion promedio va depender de la popularidad y venta de las plataformas"
   ]
  }
 ],
 "metadata": {
  "ExecuteTimeLog": [
   {
    "duration": 2864,
    "start_time": "2024-10-14T02:43:17.961Z"
   },
   {
    "duration": 599,
    "start_time": "2024-10-14T02:43:20.828Z"
   },
   {
    "duration": 0,
    "start_time": "2024-10-14T02:43:21.430Z"
   },
   {
    "duration": 0,
    "start_time": "2024-10-14T02:43:21.431Z"
   },
   {
    "duration": 0,
    "start_time": "2024-10-14T02:43:21.432Z"
   },
   {
    "duration": 0,
    "start_time": "2024-10-14T02:43:21.434Z"
   },
   {
    "duration": 0,
    "start_time": "2024-10-14T02:43:21.435Z"
   },
   {
    "duration": 0,
    "start_time": "2024-10-14T02:43:21.436Z"
   },
   {
    "duration": 0,
    "start_time": "2024-10-14T02:43:21.437Z"
   },
   {
    "duration": 0,
    "start_time": "2024-10-14T02:43:21.439Z"
   },
   {
    "duration": 0,
    "start_time": "2024-10-14T02:43:21.440Z"
   },
   {
    "duration": 0,
    "start_time": "2024-10-14T02:43:21.441Z"
   },
   {
    "duration": 0,
    "start_time": "2024-10-14T02:43:21.442Z"
   },
   {
    "duration": 0,
    "start_time": "2024-10-14T02:43:21.443Z"
   },
   {
    "duration": 0,
    "start_time": "2024-10-14T02:43:21.444Z"
   },
   {
    "duration": 0,
    "start_time": "2024-10-14T02:43:21.445Z"
   },
   {
    "duration": 0,
    "start_time": "2024-10-14T02:43:21.446Z"
   },
   {
    "duration": 0,
    "start_time": "2024-10-14T02:43:21.447Z"
   },
   {
    "duration": 0,
    "start_time": "2024-10-14T02:43:21.448Z"
   },
   {
    "duration": 0,
    "start_time": "2024-10-14T02:43:21.449Z"
   },
   {
    "duration": 0,
    "start_time": "2024-10-14T02:43:21.451Z"
   },
   {
    "duration": 0,
    "start_time": "2024-10-14T02:43:21.452Z"
   },
   {
    "duration": 0,
    "start_time": "2024-10-14T02:43:21.453Z"
   },
   {
    "duration": 0,
    "start_time": "2024-10-14T02:43:21.487Z"
   },
   {
    "duration": 0,
    "start_time": "2024-10-14T02:43:21.488Z"
   },
   {
    "duration": 0,
    "start_time": "2024-10-14T02:43:21.488Z"
   },
   {
    "duration": 0,
    "start_time": "2024-10-14T02:43:21.490Z"
   },
   {
    "duration": 0,
    "start_time": "2024-10-14T02:43:21.491Z"
   },
   {
    "duration": 0,
    "start_time": "2024-10-14T02:43:21.492Z"
   },
   {
    "duration": 0,
    "start_time": "2024-10-14T02:43:21.493Z"
   },
   {
    "duration": 0,
    "start_time": "2024-10-14T02:43:21.494Z"
   },
   {
    "duration": 0,
    "start_time": "2024-10-14T02:43:21.495Z"
   },
   {
    "duration": 0,
    "start_time": "2024-10-14T02:43:21.496Z"
   },
   {
    "duration": 0,
    "start_time": "2024-10-14T02:43:21.497Z"
   },
   {
    "duration": 0,
    "start_time": "2024-10-14T02:43:21.498Z"
   },
   {
    "duration": 0,
    "start_time": "2024-10-14T02:43:21.499Z"
   },
   {
    "duration": 0,
    "start_time": "2024-10-14T02:43:21.500Z"
   },
   {
    "duration": 0,
    "start_time": "2024-10-14T02:43:21.501Z"
   },
   {
    "duration": 0,
    "start_time": "2024-10-14T02:43:21.502Z"
   },
   {
    "duration": 0,
    "start_time": "2024-10-14T02:43:21.503Z"
   },
   {
    "duration": 0,
    "start_time": "2024-10-14T02:43:21.504Z"
   },
   {
    "duration": 0,
    "start_time": "2024-10-14T02:43:21.504Z"
   },
   {
    "duration": 0,
    "start_time": "2024-10-14T02:43:21.505Z"
   },
   {
    "duration": 0,
    "start_time": "2024-10-14T02:43:21.506Z"
   },
   {
    "duration": 0,
    "start_time": "2024-10-14T02:43:21.508Z"
   },
   {
    "duration": 0,
    "start_time": "2024-10-14T02:43:21.508Z"
   },
   {
    "duration": 0,
    "start_time": "2024-10-14T02:43:21.509Z"
   },
   {
    "duration": 0,
    "start_time": "2024-10-14T02:43:21.510Z"
   },
   {
    "duration": 0,
    "start_time": "2024-10-14T02:43:21.511Z"
   },
   {
    "duration": 0,
    "start_time": "2024-10-14T02:43:21.512Z"
   },
   {
    "duration": 0,
    "start_time": "2024-10-14T02:43:21.513Z"
   },
   {
    "duration": 0,
    "start_time": "2024-10-14T02:43:21.514Z"
   },
   {
    "duration": 0,
    "start_time": "2024-10-14T02:43:21.515Z"
   },
   {
    "duration": 0,
    "start_time": "2024-10-14T02:43:21.516Z"
   },
   {
    "duration": 0,
    "start_time": "2024-10-14T02:43:21.517Z"
   },
   {
    "duration": 0,
    "start_time": "2024-10-14T02:43:21.518Z"
   },
   {
    "duration": 0,
    "start_time": "2024-10-14T02:43:21.519Z"
   },
   {
    "duration": 0,
    "start_time": "2024-10-14T02:43:21.520Z"
   },
   {
    "duration": 0,
    "start_time": "2024-10-14T02:43:21.521Z"
   },
   {
    "duration": 0,
    "start_time": "2024-10-14T02:43:21.522Z"
   },
   {
    "duration": 0,
    "start_time": "2024-10-14T02:43:21.523Z"
   },
   {
    "duration": 2,
    "start_time": "2024-10-14T02:44:31.669Z"
   },
   {
    "duration": 49,
    "start_time": "2024-10-14T02:44:31.673Z"
   },
   {
    "duration": 19,
    "start_time": "2024-10-14T02:44:31.729Z"
   },
   {
    "duration": 21,
    "start_time": "2024-10-14T02:44:31.751Z"
   },
   {
    "duration": 27,
    "start_time": "2024-10-14T02:44:31.778Z"
   },
   {
    "duration": 12,
    "start_time": "2024-10-14T02:44:31.811Z"
   },
   {
    "duration": 3,
    "start_time": "2024-10-14T02:44:31.825Z"
   },
   {
    "duration": 13,
    "start_time": "2024-10-14T02:44:31.831Z"
   },
   {
    "duration": 6,
    "start_time": "2024-10-14T02:44:31.846Z"
   },
   {
    "duration": 3,
    "start_time": "2024-10-14T02:44:31.854Z"
   },
   {
    "duration": 3,
    "start_time": "2024-10-14T02:44:31.861Z"
   },
   {
    "duration": 16,
    "start_time": "2024-10-14T02:44:31.887Z"
   },
   {
    "duration": 2,
    "start_time": "2024-10-14T02:44:31.905Z"
   },
   {
    "duration": 16,
    "start_time": "2024-10-14T02:44:31.908Z"
   },
   {
    "duration": 4,
    "start_time": "2024-10-14T02:44:31.926Z"
   },
   {
    "duration": 16,
    "start_time": "2024-10-14T02:44:31.932Z"
   },
   {
    "duration": 8,
    "start_time": "2024-10-14T02:44:31.950Z"
   },
   {
    "duration": 27,
    "start_time": "2024-10-14T02:44:31.960Z"
   },
   {
    "duration": 6,
    "start_time": "2024-10-14T02:44:31.989Z"
   },
   {
    "duration": 6,
    "start_time": "2024-10-14T02:44:31.997Z"
   },
   {
    "duration": 7,
    "start_time": "2024-10-14T02:44:32.005Z"
   },
   {
    "duration": 12,
    "start_time": "2024-10-14T02:44:32.016Z"
   },
   {
    "duration": 18,
    "start_time": "2024-10-14T02:44:32.033Z"
   },
   {
    "duration": 45,
    "start_time": "2024-10-14T02:44:32.054Z"
   },
   {
    "duration": 2,
    "start_time": "2024-10-14T02:44:32.101Z"
   },
   {
    "duration": 7,
    "start_time": "2024-10-14T02:44:32.104Z"
   },
   {
    "duration": 5,
    "start_time": "2024-10-14T02:44:32.113Z"
   },
   {
    "duration": 7,
    "start_time": "2024-10-14T02:44:32.120Z"
   },
   {
    "duration": 2,
    "start_time": "2024-10-14T02:44:32.133Z"
   },
   {
    "duration": 186,
    "start_time": "2024-10-14T02:44:32.137Z"
   },
   {
    "duration": 7,
    "start_time": "2024-10-14T02:44:32.324Z"
   },
   {
    "duration": 11,
    "start_time": "2024-10-14T02:44:32.332Z"
   },
   {
    "duration": 2,
    "start_time": "2024-10-14T02:44:32.346Z"
   },
   {
    "duration": 37,
    "start_time": "2024-10-14T02:44:32.350Z"
   },
   {
    "duration": 198,
    "start_time": "2024-10-14T02:44:32.391Z"
   },
   {
    "duration": 3,
    "start_time": "2024-10-14T02:44:32.591Z"
   },
   {
    "duration": 24,
    "start_time": "2024-10-14T02:44:32.597Z"
   },
   {
    "duration": 337,
    "start_time": "2024-10-14T02:44:32.622Z"
   },
   {
    "duration": 0,
    "start_time": "2024-10-14T02:44:32.961Z"
   },
   {
    "duration": 0,
    "start_time": "2024-10-14T02:44:32.963Z"
   },
   {
    "duration": 0,
    "start_time": "2024-10-14T02:44:32.964Z"
   },
   {
    "duration": 0,
    "start_time": "2024-10-14T02:44:32.966Z"
   },
   {
    "duration": 0,
    "start_time": "2024-10-14T02:44:32.967Z"
   },
   {
    "duration": 0,
    "start_time": "2024-10-14T02:44:32.969Z"
   },
   {
    "duration": 0,
    "start_time": "2024-10-14T02:44:32.971Z"
   },
   {
    "duration": 0,
    "start_time": "2024-10-14T02:44:32.972Z"
   },
   {
    "duration": 0,
    "start_time": "2024-10-14T02:44:32.974Z"
   },
   {
    "duration": 0,
    "start_time": "2024-10-14T02:44:32.975Z"
   },
   {
    "duration": 0,
    "start_time": "2024-10-14T02:44:32.977Z"
   },
   {
    "duration": 0,
    "start_time": "2024-10-14T02:44:32.978Z"
   },
   {
    "duration": 0,
    "start_time": "2024-10-14T02:44:32.978Z"
   },
   {
    "duration": 0,
    "start_time": "2024-10-14T02:44:32.979Z"
   },
   {
    "duration": 0,
    "start_time": "2024-10-14T02:44:32.979Z"
   },
   {
    "duration": 0,
    "start_time": "2024-10-14T02:44:32.980Z"
   },
   {
    "duration": 0,
    "start_time": "2024-10-14T02:44:32.980Z"
   },
   {
    "duration": 0,
    "start_time": "2024-10-14T02:44:32.981Z"
   },
   {
    "duration": 0,
    "start_time": "2024-10-14T02:44:32.981Z"
   },
   {
    "duration": 0,
    "start_time": "2024-10-14T02:44:32.987Z"
   },
   {
    "duration": 0,
    "start_time": "2024-10-14T02:44:32.989Z"
   },
   {
    "duration": 0,
    "start_time": "2024-10-14T02:44:32.990Z"
   },
   {
    "duration": 0,
    "start_time": "2024-10-14T02:44:32.991Z"
   },
   {
    "duration": 12,
    "start_time": "2024-10-14T02:44:55.601Z"
   },
   {
    "duration": 271,
    "start_time": "2024-10-14T02:44:57.840Z"
   },
   {
    "duration": 14,
    "start_time": "2024-10-14T02:45:01.226Z"
   },
   {
    "duration": 16,
    "start_time": "2024-10-14T02:45:02.989Z"
   },
   {
    "duration": 22,
    "start_time": "2024-10-14T02:45:09.170Z"
   },
   {
    "duration": 7,
    "start_time": "2024-10-14T02:45:11.458Z"
   },
   {
    "duration": 10,
    "start_time": "2024-10-14T02:45:13.245Z"
   },
   {
    "duration": 8,
    "start_time": "2024-10-14T02:45:14.859Z"
   },
   {
    "duration": 8,
    "start_time": "2024-10-14T02:45:16.328Z"
   },
   {
    "duration": 7,
    "start_time": "2024-10-14T02:45:18.843Z"
   },
   {
    "duration": 428,
    "start_time": "2024-10-14T02:47:31.819Z"
   },
   {
    "duration": 43,
    "start_time": "2024-10-14T02:47:43.306Z"
   },
   {
    "duration": 7,
    "start_time": "2024-10-14T02:47:59.157Z"
   },
   {
    "duration": 8,
    "start_time": "2024-10-14T02:48:08.283Z"
   },
   {
    "duration": 5,
    "start_time": "2024-10-14T02:48:18.780Z"
   },
   {
    "duration": 5,
    "start_time": "2024-10-14T02:48:30.206Z"
   },
   {
    "duration": 10,
    "start_time": "2024-10-14T02:50:25.906Z"
   },
   {
    "duration": 154,
    "start_time": "2024-10-20T02:54:48.792Z"
   },
   {
    "duration": 11,
    "start_time": "2024-10-20T02:55:00.394Z"
   },
   {
    "duration": 2471,
    "start_time": "2024-10-20T02:55:15.288Z"
   },
   {
    "duration": 33,
    "start_time": "2024-10-20T02:55:17.761Z"
   },
   {
    "duration": 13,
    "start_time": "2024-10-20T02:55:20.426Z"
   },
   {
    "duration": 10,
    "start_time": "2024-10-20T02:55:22.564Z"
   },
   {
    "duration": 21,
    "start_time": "2024-10-20T02:55:24.572Z"
   },
   {
    "duration": 7,
    "start_time": "2024-10-20T02:55:26.983Z"
   },
   {
    "duration": 7,
    "start_time": "2024-10-20T02:55:30.171Z"
   },
   {
    "duration": 2,
    "start_time": "2024-10-20T02:55:32.954Z"
   },
   {
    "duration": 12,
    "start_time": "2024-10-20T02:55:33.578Z"
   },
   {
    "duration": 5,
    "start_time": "2024-10-20T02:55:34.881Z"
   },
   {
    "duration": 2,
    "start_time": "2024-10-20T02:55:35.546Z"
   },
   {
    "duration": 4,
    "start_time": "2024-10-20T02:55:36.362Z"
   },
   {
    "duration": 11,
    "start_time": "2024-10-20T02:55:37.458Z"
   },
   {
    "duration": 2,
    "start_time": "2024-10-20T02:55:38.290Z"
   },
   {
    "duration": 10,
    "start_time": "2024-10-20T02:55:38.894Z"
   },
   {
    "duration": 5,
    "start_time": "2024-10-20T02:55:39.511Z"
   },
   {
    "duration": 3,
    "start_time": "2024-10-20T02:55:40.114Z"
   },
   {
    "duration": 7,
    "start_time": "2024-10-20T02:55:40.834Z"
   },
   {
    "duration": 10,
    "start_time": "2024-10-20T02:55:41.602Z"
   },
   {
    "duration": 4,
    "start_time": "2024-10-20T02:55:42.238Z"
   },
   {
    "duration": 4,
    "start_time": "2024-10-20T02:55:42.987Z"
   },
   {
    "duration": 5,
    "start_time": "2024-10-20T02:55:43.594Z"
   },
   {
    "duration": 11,
    "start_time": "2024-10-20T02:55:45.874Z"
   },
   {
    "duration": 14,
    "start_time": "2024-10-20T02:55:46.677Z"
   },
   {
    "duration": 13,
    "start_time": "2024-10-20T02:55:47.307Z"
   },
   {
    "duration": 2,
    "start_time": "2024-10-20T02:55:47.979Z"
   },
   {
    "duration": 5,
    "start_time": "2024-10-20T02:55:48.730Z"
   },
   {
    "duration": 4,
    "start_time": "2024-10-20T02:55:49.291Z"
   },
   {
    "duration": 6,
    "start_time": "2024-10-20T02:55:49.764Z"
   },
   {
    "duration": 2,
    "start_time": "2024-10-20T02:55:50.786Z"
   },
   {
    "duration": 116,
    "start_time": "2024-10-20T02:55:51.514Z"
   },
   {
    "duration": 2,
    "start_time": "2024-10-20T02:55:52.682Z"
   },
   {
    "duration": 6,
    "start_time": "2024-10-20T02:55:54.013Z"
   },
   {
    "duration": 10,
    "start_time": "2024-10-20T02:55:54.796Z"
   },
   {
    "duration": 3,
    "start_time": "2024-10-20T02:55:55.673Z"
   },
   {
    "duration": 11,
    "start_time": "2024-10-20T02:55:56.619Z"
   },
   {
    "duration": 171,
    "start_time": "2024-10-20T02:55:57.356Z"
   },
   {
    "duration": 2,
    "start_time": "2024-10-20T02:55:58.458Z"
   },
   {
    "duration": 19,
    "start_time": "2024-10-20T02:55:59.347Z"
   },
   {
    "duration": 409,
    "start_time": "2024-10-20T02:56:01.181Z"
   },
   {
    "duration": 3,
    "start_time": "2024-10-20T02:56:03.821Z"
   },
   {
    "duration": 10,
    "start_time": "2024-10-20T02:56:05.011Z"
   },
   {
    "duration": 78,
    "start_time": "2024-10-20T02:56:06.077Z"
   },
   {
    "duration": 2,
    "start_time": "2024-10-20T02:56:08.074Z"
   },
   {
    "duration": 298,
    "start_time": "2024-10-20T02:56:08.989Z"
   },
   {
    "duration": 2,
    "start_time": "2024-10-20T02:56:09.744Z"
   },
   {
    "duration": 2,
    "start_time": "2024-10-20T02:56:09.917Z"
   },
   {
    "duration": 13,
    "start_time": "2024-10-20T02:56:10.097Z"
   },
   {
    "duration": 2,
    "start_time": "2024-10-20T02:56:10.275Z"
   },
   {
    "duration": 12,
    "start_time": "2024-10-20T02:56:10.435Z"
   },
   {
    "duration": 2,
    "start_time": "2024-10-20T02:56:10.603Z"
   },
   {
    "duration": 12,
    "start_time": "2024-10-20T02:56:10.772Z"
   },
   {
    "duration": 2,
    "start_time": "2024-10-20T02:56:10.930Z"
   },
   {
    "duration": 12,
    "start_time": "2024-10-20T02:56:11.237Z"
   },
   {
    "duration": 31,
    "start_time": "2024-10-20T02:56:11.402Z"
   },
   {
    "duration": 27,
    "start_time": "2024-10-20T02:56:11.569Z"
   },
   {
    "duration": 28,
    "start_time": "2024-10-20T02:56:11.741Z"
   },
   {
    "duration": 3,
    "start_time": "2024-10-20T02:56:11.915Z"
   },
   {
    "duration": 2,
    "start_time": "2024-10-20T02:56:12.086Z"
   },
   {
    "duration": 18,
    "start_time": "2024-10-20T02:56:12.260Z"
   },
   {
    "duration": 7,
    "start_time": "2024-10-20T02:56:12.423Z"
   },
   {
    "duration": 8,
    "start_time": "2024-10-20T02:56:12.597Z"
   },
   {
    "duration": 7,
    "start_time": "2024-10-20T02:56:12.770Z"
   },
   {
    "duration": 7,
    "start_time": "2024-10-20T02:56:12.932Z"
   },
   {
    "duration": 6,
    "start_time": "2024-10-20T02:56:13.119Z"
   },
   {
    "duration": 8,
    "start_time": "2024-10-20T02:56:13.274Z"
   },
   {
    "duration": 4,
    "start_time": "2024-10-20T02:56:13.456Z"
   },
   {
    "duration": 3,
    "start_time": "2024-10-20T02:56:13.969Z"
   },
   {
    "duration": 4,
    "start_time": "2024-10-20T02:56:14.163Z"
   },
   {
    "duration": 2,
    "start_time": "2024-10-20T02:56:14.338Z"
   },
   {
    "duration": 18,
    "start_time": "2024-10-20T02:56:14.514Z"
   },
   {
    "duration": 18,
    "start_time": "2024-10-20T02:56:14.698Z"
   },
   {
    "duration": 8,
    "start_time": "2024-10-20T02:56:14.875Z"
   },
   {
    "duration": 7,
    "start_time": "2024-10-20T02:56:15.052Z"
   },
   {
    "duration": 6,
    "start_time": "2024-10-20T02:56:15.246Z"
   },
   {
    "duration": 4,
    "start_time": "2024-10-20T02:56:15.394Z"
   },
   {
    "duration": 2,
    "start_time": "2024-10-20T02:56:15.570Z"
   },
   {
    "duration": 3,
    "start_time": "2024-10-20T02:56:15.758Z"
   },
   {
    "duration": 2,
    "start_time": "2024-10-20T02:56:15.923Z"
   },
   {
    "duration": 3,
    "start_time": "2024-10-20T02:56:16.114Z"
   },
   {
    "duration": 9,
    "start_time": "2024-10-20T02:58:02.648Z"
   },
   {
    "duration": 284,
    "start_time": "2024-10-20T02:58:07.002Z"
   },
   {
    "duration": 401,
    "start_time": "2024-10-20T02:58:57.061Z"
   },
   {
    "duration": 298,
    "start_time": "2024-10-20T02:59:09.360Z"
   },
   {
    "duration": 17,
    "start_time": "2024-10-20T03:00:12.547Z"
   },
   {
    "duration": 127,
    "start_time": "2024-10-20T03:00:28.378Z"
   },
   {
    "duration": 121,
    "start_time": "2024-10-20T03:00:58.048Z"
   },
   {
    "duration": 119,
    "start_time": "2024-10-20T03:01:34.893Z"
   },
   {
    "duration": 123,
    "start_time": "2024-10-20T03:02:14.083Z"
   },
   {
    "duration": 5,
    "start_time": "2024-10-20T03:13:29.156Z"
   },
   {
    "duration": 17,
    "start_time": "2024-10-20T03:14:08.214Z"
   },
   {
    "duration": 10,
    "start_time": "2024-10-20T03:52:14.438Z"
   },
   {
    "duration": 4,
    "start_time": "2024-10-20T03:54:09.655Z"
   },
   {
    "duration": 4,
    "start_time": "2024-10-20T03:54:18.325Z"
   },
   {
    "duration": 11,
    "start_time": "2024-10-20T03:54:24.828Z"
   },
   {
    "duration": 3,
    "start_time": "2024-10-20T03:54:36.504Z"
   },
   {
    "duration": 22,
    "start_time": "2024-10-20T03:54:37.025Z"
   },
   {
    "duration": 12,
    "start_time": "2024-10-20T03:54:38.049Z"
   },
   {
    "duration": 10,
    "start_time": "2024-10-20T03:54:39.527Z"
   },
   {
    "duration": 20,
    "start_time": "2024-10-20T03:54:40.182Z"
   },
   {
    "duration": 7,
    "start_time": "2024-10-20T03:54:41.340Z"
   },
   {
    "duration": 2,
    "start_time": "2024-10-20T03:54:42.245Z"
   },
   {
    "duration": 11,
    "start_time": "2024-10-20T03:54:42.925Z"
   },
   {
    "duration": 5,
    "start_time": "2024-10-20T03:54:44.559Z"
   },
   {
    "duration": 2,
    "start_time": "2024-10-20T03:54:46.021Z"
   },
   {
    "duration": 4,
    "start_time": "2024-10-20T03:54:46.877Z"
   },
   {
    "duration": 11,
    "start_time": "2024-10-20T03:54:48.246Z"
   },
   {
    "duration": 3,
    "start_time": "2024-10-20T03:54:49.232Z"
   },
   {
    "duration": 11,
    "start_time": "2024-10-20T03:54:49.948Z"
   },
   {
    "duration": 4,
    "start_time": "2024-10-20T03:54:50.670Z"
   },
   {
    "duration": 2,
    "start_time": "2024-10-20T03:54:51.240Z"
   },
   {
    "duration": 6,
    "start_time": "2024-10-20T03:54:51.845Z"
   },
   {
    "duration": 13,
    "start_time": "2024-10-20T03:54:52.608Z"
   },
   {
    "duration": 17,
    "start_time": "2024-10-20T03:54:53.605Z"
   },
   {
    "duration": 4,
    "start_time": "2024-10-20T03:54:54.293Z"
   },
   {
    "duration": 5,
    "start_time": "2024-10-20T03:54:55.152Z"
   },
   {
    "duration": 5,
    "start_time": "2024-10-20T03:54:55.780Z"
   },
   {
    "duration": 4,
    "start_time": "2024-10-20T03:54:56.566Z"
   },
   {
    "duration": 12,
    "start_time": "2024-10-20T03:54:57.982Z"
   },
   {
    "duration": 10,
    "start_time": "2024-10-20T03:55:53.703Z"
   },
   {
    "duration": 13,
    "start_time": "2024-10-20T03:55:54.846Z"
   },
   {
    "duration": 12,
    "start_time": "2024-10-20T03:55:55.641Z"
   },
   {
    "duration": 2,
    "start_time": "2024-10-20T03:55:56.264Z"
   },
   {
    "duration": 6,
    "start_time": "2024-10-20T03:55:56.796Z"
   },
   {
    "duration": 3,
    "start_time": "2024-10-20T03:55:57.157Z"
   },
   {
    "duration": 7,
    "start_time": "2024-10-20T03:55:57.325Z"
   },
   {
    "duration": 2,
    "start_time": "2024-10-20T03:55:57.507Z"
   },
   {
    "duration": 107,
    "start_time": "2024-10-20T03:55:57.684Z"
   },
   {
    "duration": 2,
    "start_time": "2024-10-20T03:55:57.846Z"
   },
   {
    "duration": 5,
    "start_time": "2024-10-20T03:55:58.204Z"
   },
   {
    "duration": 9,
    "start_time": "2024-10-20T03:55:58.486Z"
   },
   {
    "duration": 2,
    "start_time": "2024-10-20T03:55:58.705Z"
   },
   {
    "duration": 9,
    "start_time": "2024-10-20T03:55:58.960Z"
   },
   {
    "duration": 167,
    "start_time": "2024-10-20T03:55:59.149Z"
   },
   {
    "duration": 3,
    "start_time": "2024-10-20T03:55:59.356Z"
   },
   {
    "duration": 18,
    "start_time": "2024-10-20T03:55:59.518Z"
   },
   {
    "duration": 277,
    "start_time": "2024-10-20T03:55:59.704Z"
   },
   {
    "duration": 3,
    "start_time": "2024-10-20T03:56:00.062Z"
   },
   {
    "duration": 10,
    "start_time": "2024-10-20T03:56:00.261Z"
   },
   {
    "duration": 3,
    "start_time": "2024-10-20T03:56:00.636Z"
   },
   {
    "duration": 121,
    "start_time": "2024-10-20T03:56:00.828Z"
   },
   {
    "duration": 2,
    "start_time": "2024-10-20T03:56:01.005Z"
   },
   {
    "duration": 365,
    "start_time": "2024-10-20T03:56:01.197Z"
   },
   {
    "duration": 2,
    "start_time": "2024-10-20T03:56:08.054Z"
   },
   {
    "duration": 2,
    "start_time": "2024-10-20T03:56:08.295Z"
   },
   {
    "duration": 12,
    "start_time": "2024-10-20T03:56:08.493Z"
   },
   {
    "duration": 5,
    "start_time": "2024-10-20T03:56:08.701Z"
   },
   {
    "duration": 12,
    "start_time": "2024-10-20T03:56:08.887Z"
   },
   {
    "duration": 2,
    "start_time": "2024-10-20T03:56:09.119Z"
   },
   {
    "duration": 12,
    "start_time": "2024-10-20T03:56:09.305Z"
   },
   {
    "duration": 2,
    "start_time": "2024-10-20T03:56:09.507Z"
   },
   {
    "duration": 11,
    "start_time": "2024-10-20T03:56:09.689Z"
   },
   {
    "duration": 28,
    "start_time": "2024-10-20T03:56:09.869Z"
   },
   {
    "duration": 28,
    "start_time": "2024-10-20T03:56:10.062Z"
   },
   {
    "duration": 25,
    "start_time": "2024-10-20T03:56:10.229Z"
   },
   {
    "duration": 2,
    "start_time": "2024-10-20T03:56:10.413Z"
   },
   {
    "duration": 2,
    "start_time": "2024-10-20T03:56:10.608Z"
   },
   {
    "duration": 18,
    "start_time": "2024-10-20T03:56:10.773Z"
   },
   {
    "duration": 6,
    "start_time": "2024-10-20T03:56:10.941Z"
   },
   {
    "duration": 8,
    "start_time": "2024-10-20T03:56:11.130Z"
   },
   {
    "duration": 7,
    "start_time": "2024-10-20T03:56:11.606Z"
   },
   {
    "duration": 7,
    "start_time": "2024-10-20T03:56:11.824Z"
   },
   {
    "duration": 5,
    "start_time": "2024-10-20T03:56:12.014Z"
   },
   {
    "duration": 8,
    "start_time": "2024-10-20T03:56:12.181Z"
   },
   {
    "duration": 5,
    "start_time": "2024-10-20T03:56:12.385Z"
   },
   {
    "duration": 3,
    "start_time": "2024-10-20T03:56:12.726Z"
   },
   {
    "duration": 4,
    "start_time": "2024-10-20T03:56:12.911Z"
   },
   {
    "duration": 2,
    "start_time": "2024-10-20T03:56:13.085Z"
   },
   {
    "duration": 19,
    "start_time": "2024-10-20T03:56:13.278Z"
   },
   {
    "duration": 13,
    "start_time": "2024-10-20T03:56:13.508Z"
   },
   {
    "duration": 8,
    "start_time": "2024-10-20T03:56:13.818Z"
   },
   {
    "duration": 8,
    "start_time": "2024-10-20T03:56:14.044Z"
   },
   {
    "duration": 8,
    "start_time": "2024-10-20T03:56:14.233Z"
   },
   {
    "duration": 5,
    "start_time": "2024-10-20T03:56:14.416Z"
   },
   {
    "duration": 3,
    "start_time": "2024-10-20T03:56:14.590Z"
   },
   {
    "duration": 2,
    "start_time": "2024-10-20T03:56:14.766Z"
   },
   {
    "duration": 2,
    "start_time": "2024-10-20T03:56:14.936Z"
   },
   {
    "duration": 2,
    "start_time": "2024-10-20T03:56:15.117Z"
   },
   {
    "duration": 11,
    "start_time": "2024-10-20T03:58:14.636Z"
   },
   {
    "duration": 121,
    "start_time": "2024-10-20T03:58:18.334Z"
   },
   {
    "duration": 95,
    "start_time": "2024-10-20T04:00:31.547Z"
   },
   {
    "duration": 255,
    "start_time": "2024-10-20T04:02:06.480Z"
   },
   {
    "duration": 489,
    "start_time": "2024-10-20T04:02:14.998Z"
   },
   {
    "duration": 104,
    "start_time": "2024-10-20T04:02:54.383Z"
   },
   {
    "duration": 4,
    "start_time": "2024-10-20T04:04:23.496Z"
   },
   {
    "duration": 119,
    "start_time": "2024-10-20T04:04:35.487Z"
   },
   {
    "duration": 15,
    "start_time": "2024-10-20T04:07:02.736Z"
   },
   {
    "duration": 16,
    "start_time": "2024-10-20T04:07:25.408Z"
   },
   {
    "duration": 12,
    "start_time": "2024-10-20T04:07:30.706Z"
   },
   {
    "duration": 8,
    "start_time": "2024-10-20T04:07:38.666Z"
   },
   {
    "duration": 11,
    "start_time": "2024-10-20T04:07:42.024Z"
   },
   {
    "duration": 13,
    "start_time": "2024-10-20T04:07:43.722Z"
   },
   {
    "duration": 13,
    "start_time": "2024-10-20T04:07:46.267Z"
   },
   {
    "duration": 3,
    "start_time": "2024-10-20T04:07:47.616Z"
   },
   {
    "duration": 5,
    "start_time": "2024-10-20T04:07:48.898Z"
   },
   {
    "duration": 4,
    "start_time": "2024-10-20T04:07:49.744Z"
   },
   {
    "duration": 7,
    "start_time": "2024-10-20T04:07:50.600Z"
   },
   {
    "duration": 3,
    "start_time": "2024-10-20T04:07:52.009Z"
   },
   {
    "duration": 111,
    "start_time": "2024-10-20T04:07:53.018Z"
   },
   {
    "duration": 2,
    "start_time": "2024-10-20T04:07:54.210Z"
   },
   {
    "duration": 5,
    "start_time": "2024-10-20T04:07:58.904Z"
   },
   {
    "duration": 10,
    "start_time": "2024-10-20T04:08:06.568Z"
   },
   {
    "duration": 3,
    "start_time": "2024-10-20T04:08:08.693Z"
   },
   {
    "duration": 120,
    "start_time": "2024-10-20T04:08:10.746Z"
   },
   {
    "duration": 10,
    "start_time": "2024-10-20T04:08:59.742Z"
   },
   {
    "duration": 2,
    "start_time": "2024-10-20T04:09:01.176Z"
   },
   {
    "duration": 11,
    "start_time": "2024-10-20T04:09:02.288Z"
   },
   {
    "duration": 174,
    "start_time": "2024-10-20T04:09:03.095Z"
   },
   {
    "duration": 3,
    "start_time": "2024-10-20T04:09:04.111Z"
   },
   {
    "duration": 20,
    "start_time": "2024-10-20T04:09:05.117Z"
   },
   {
    "duration": 287,
    "start_time": "2024-10-20T04:09:06.378Z"
   },
   {
    "duration": 2,
    "start_time": "2024-10-20T04:09:12.193Z"
   },
   {
    "duration": 10,
    "start_time": "2024-10-20T04:09:13.041Z"
   },
   {
    "duration": 2,
    "start_time": "2024-10-20T04:09:18.472Z"
   },
   {
    "duration": 19,
    "start_time": "2024-10-20T04:10:22.712Z"
   },
   {
    "duration": 129,
    "start_time": "2024-10-20T04:11:05.853Z"
   },
   {
    "duration": 225,
    "start_time": "2024-10-20T04:12:56.226Z"
   },
   {
    "duration": 2,
    "start_time": "2024-10-20T04:14:31.449Z"
   },
   {
    "duration": 21,
    "start_time": "2024-10-20T04:14:31.897Z"
   },
   {
    "duration": 11,
    "start_time": "2024-10-20T04:14:32.724Z"
   },
   {
    "duration": 10,
    "start_time": "2024-10-20T04:14:32.930Z"
   },
   {
    "duration": 20,
    "start_time": "2024-10-20T04:14:33.149Z"
   },
   {
    "duration": 10,
    "start_time": "2024-10-20T04:14:33.504Z"
   },
   {
    "duration": 2,
    "start_time": "2024-10-20T04:14:33.696Z"
   },
   {
    "duration": 12,
    "start_time": "2024-10-20T04:14:33.922Z"
   },
   {
    "duration": 5,
    "start_time": "2024-10-20T04:14:34.290Z"
   },
   {
    "duration": 2,
    "start_time": "2024-10-20T04:14:34.477Z"
   },
   {
    "duration": 3,
    "start_time": "2024-10-20T04:14:34.649Z"
   },
   {
    "duration": 11,
    "start_time": "2024-10-20T04:14:35.128Z"
   },
   {
    "duration": 3,
    "start_time": "2024-10-20T04:14:35.439Z"
   },
   {
    "duration": 9,
    "start_time": "2024-10-20T04:14:35.881Z"
   },
   {
    "duration": 4,
    "start_time": "2024-10-20T04:14:36.143Z"
   },
   {
    "duration": 2,
    "start_time": "2024-10-20T04:14:36.360Z"
   },
   {
    "duration": 6,
    "start_time": "2024-10-20T04:14:36.651Z"
   },
   {
    "duration": 11,
    "start_time": "2024-10-20T04:14:36.890Z"
   },
   {
    "duration": 16,
    "start_time": "2024-10-20T04:14:37.098Z"
   },
   {
    "duration": 5,
    "start_time": "2024-10-20T04:14:37.289Z"
   },
   {
    "duration": 4,
    "start_time": "2024-10-20T04:14:37.474Z"
   },
   {
    "duration": 5,
    "start_time": "2024-10-20T04:14:37.680Z"
   },
   {
    "duration": 3,
    "start_time": "2024-10-20T04:14:37.937Z"
   },
   {
    "duration": 12,
    "start_time": "2024-10-20T04:14:38.505Z"
   },
   {
    "duration": 4,
    "start_time": "2024-10-20T04:14:38.979Z"
   },
   {
    "duration": 9,
    "start_time": "2024-10-20T04:14:39.464Z"
   },
   {
    "duration": 11,
    "start_time": "2024-10-20T04:14:41.273Z"
   },
   {
    "duration": 13,
    "start_time": "2024-10-20T04:14:42.153Z"
   },
   {
    "duration": 14,
    "start_time": "2024-10-20T04:14:42.795Z"
   },
   {
    "duration": 2,
    "start_time": "2024-10-20T04:14:43.354Z"
   },
   {
    "duration": 6,
    "start_time": "2024-10-20T04:14:43.918Z"
   },
   {
    "duration": 4,
    "start_time": "2024-10-20T04:14:44.462Z"
   },
   {
    "duration": 6,
    "start_time": "2024-10-20T04:14:45.145Z"
   },
   {
    "duration": 3,
    "start_time": "2024-10-20T04:14:45.881Z"
   },
   {
    "duration": 105,
    "start_time": "2024-10-20T04:14:46.440Z"
   },
   {
    "duration": 2,
    "start_time": "2024-10-20T04:14:47.873Z"
   },
   {
    "duration": 6,
    "start_time": "2024-10-20T04:14:49.699Z"
   },
   {
    "duration": 10,
    "start_time": "2024-10-20T04:14:50.095Z"
   },
   {
    "duration": 2,
    "start_time": "2024-10-20T04:14:50.945Z"
   },
   {
    "duration": 11,
    "start_time": "2024-10-20T04:14:51.613Z"
   },
   {
    "duration": 168,
    "start_time": "2024-10-20T04:14:52.199Z"
   },
   {
    "duration": 2,
    "start_time": "2024-10-20T04:14:53.152Z"
   },
   {
    "duration": 20,
    "start_time": "2024-10-20T04:14:53.921Z"
   },
   {
    "duration": 291,
    "start_time": "2024-10-20T04:14:55.097Z"
   },
   {
    "duration": 3,
    "start_time": "2024-10-20T04:14:56.970Z"
   },
   {
    "duration": 9,
    "start_time": "2024-10-20T04:14:58.201Z"
   },
   {
    "duration": 3,
    "start_time": "2024-10-20T04:15:00.240Z"
   },
   {
    "duration": 133,
    "start_time": "2024-10-20T04:15:00.921Z"
   },
   {
    "duration": 2,
    "start_time": "2024-10-20T04:15:02.074Z"
   },
   {
    "duration": 265,
    "start_time": "2024-10-20T04:15:02.688Z"
   },
   {
    "duration": 2,
    "start_time": "2024-10-20T04:15:04.876Z"
   },
   {
    "duration": 3,
    "start_time": "2024-10-20T04:15:05.361Z"
   },
   {
    "duration": 14,
    "start_time": "2024-10-20T04:15:05.864Z"
   },
   {
    "duration": 2,
    "start_time": "2024-10-20T04:15:06.120Z"
   },
   {
    "duration": 12,
    "start_time": "2024-10-20T04:15:06.321Z"
   },
   {
    "duration": 2,
    "start_time": "2024-10-20T04:15:06.531Z"
   },
   {
    "duration": 13,
    "start_time": "2024-10-20T04:15:06.720Z"
   },
   {
    "duration": 3,
    "start_time": "2024-10-20T04:15:06.913Z"
   },
   {
    "duration": 12,
    "start_time": "2024-10-20T04:15:07.098Z"
   },
   {
    "duration": 27,
    "start_time": "2024-10-20T04:15:07.289Z"
   },
   {
    "duration": 26,
    "start_time": "2024-10-20T04:15:07.476Z"
   },
   {
    "duration": 27,
    "start_time": "2024-10-20T04:15:07.661Z"
   },
   {
    "duration": 2,
    "start_time": "2024-10-20T04:15:07.846Z"
   },
   {
    "duration": 2,
    "start_time": "2024-10-20T04:15:08.026Z"
   },
   {
    "duration": 20,
    "start_time": "2024-10-20T04:15:08.210Z"
   },
   {
    "duration": 4,
    "start_time": "2024-10-20T04:15:08.381Z"
   },
   {
    "duration": 7,
    "start_time": "2024-10-20T04:15:08.551Z"
   },
   {
    "duration": 8,
    "start_time": "2024-10-20T04:15:08.744Z"
   },
   {
    "duration": 6,
    "start_time": "2024-10-20T04:15:08.928Z"
   },
   {
    "duration": 4,
    "start_time": "2024-10-20T04:15:09.503Z"
   },
   {
    "duration": 7,
    "start_time": "2024-10-20T04:15:09.713Z"
   },
   {
    "duration": 5,
    "start_time": "2024-10-20T04:15:09.895Z"
   },
   {
    "duration": 3,
    "start_time": "2024-10-20T04:15:10.256Z"
   },
   {
    "duration": 3,
    "start_time": "2024-10-20T04:15:10.834Z"
   },
   {
    "duration": 2,
    "start_time": "2024-10-20T04:15:11.009Z"
   },
   {
    "duration": 18,
    "start_time": "2024-10-20T04:15:11.193Z"
   },
   {
    "duration": 13,
    "start_time": "2024-10-20T04:15:11.368Z"
   },
   {
    "duration": 8,
    "start_time": "2024-10-20T04:15:11.968Z"
   },
   {
    "duration": 7,
    "start_time": "2024-10-20T04:15:12.145Z"
   },
   {
    "duration": 6,
    "start_time": "2024-10-20T04:15:12.337Z"
   },
   {
    "duration": 6,
    "start_time": "2024-10-20T04:15:12.513Z"
   },
   {
    "duration": 4,
    "start_time": "2024-10-20T04:15:12.705Z"
   },
   {
    "duration": 3,
    "start_time": "2024-10-20T04:15:12.960Z"
   },
   {
    "duration": 3,
    "start_time": "2024-10-20T04:15:14.008Z"
   },
   {
    "duration": 3,
    "start_time": "2024-10-20T04:15:14.587Z"
   },
   {
    "duration": 14,
    "start_time": "2024-10-20T04:19:23.106Z"
   },
   {
    "duration": 2,
    "start_time": "2024-10-20T04:19:23.921Z"
   },
   {
    "duration": 14,
    "start_time": "2024-10-20T04:19:24.582Z"
   },
   {
    "duration": 2,
    "start_time": "2024-10-20T04:19:25.096Z"
   },
   {
    "duration": 13,
    "start_time": "2024-10-20T04:19:25.698Z"
   },
   {
    "duration": 2,
    "start_time": "2024-10-20T04:19:26.402Z"
   },
   {
    "duration": 13,
    "start_time": "2024-10-20T04:19:27.137Z"
   },
   {
    "duration": 28,
    "start_time": "2024-10-20T04:19:27.874Z"
   },
   {
    "duration": 29,
    "start_time": "2024-10-20T04:19:28.892Z"
   },
   {
    "duration": 29,
    "start_time": "2024-10-20T04:19:30.301Z"
   },
   {
    "duration": 2,
    "start_time": "2024-10-20T04:19:32.664Z"
   },
   {
    "duration": 2,
    "start_time": "2024-10-20T04:19:33.163Z"
   },
   {
    "duration": 21,
    "start_time": "2024-10-20T04:19:34.140Z"
   },
   {
    "duration": 6,
    "start_time": "2024-10-20T04:19:35.083Z"
   },
   {
    "duration": 7,
    "start_time": "2024-10-20T04:19:39.598Z"
   },
   {
    "duration": 7,
    "start_time": "2024-10-20T04:19:45.506Z"
   },
   {
    "duration": 7,
    "start_time": "2024-10-20T04:19:49.273Z"
   },
   {
    "duration": 5,
    "start_time": "2024-10-20T04:19:49.841Z"
   },
   {
    "duration": 8,
    "start_time": "2024-10-20T04:19:50.681Z"
   },
   {
    "duration": 5,
    "start_time": "2024-10-20T04:19:51.893Z"
   },
   {
    "duration": 6,
    "start_time": "2024-10-20T04:22:29.969Z"
   },
   {
    "duration": 2855,
    "start_time": "2024-10-20T18:50:17.480Z"
   },
   {
    "duration": 46,
    "start_time": "2024-10-20T18:50:20.337Z"
   },
   {
    "duration": 18,
    "start_time": "2024-10-20T18:50:20.386Z"
   },
   {
    "duration": 14,
    "start_time": "2024-10-20T18:50:20.407Z"
   },
   {
    "duration": 36,
    "start_time": "2024-10-20T18:50:20.423Z"
   },
   {
    "duration": 10,
    "start_time": "2024-10-20T18:50:20.461Z"
   },
   {
    "duration": 3,
    "start_time": "2024-10-20T18:50:20.473Z"
   },
   {
    "duration": 13,
    "start_time": "2024-10-20T18:50:20.477Z"
   },
   {
    "duration": 5,
    "start_time": "2024-10-20T18:50:20.491Z"
   },
   {
    "duration": 32,
    "start_time": "2024-10-20T18:50:20.500Z"
   },
   {
    "duration": 4,
    "start_time": "2024-10-20T18:50:20.534Z"
   },
   {
    "duration": 11,
    "start_time": "2024-10-20T18:50:20.540Z"
   },
   {
    "duration": 3,
    "start_time": "2024-10-20T18:50:20.552Z"
   },
   {
    "duration": 9,
    "start_time": "2024-10-20T18:50:20.557Z"
   },
   {
    "duration": 4,
    "start_time": "2024-10-20T18:50:20.568Z"
   },
   {
    "duration": 2,
    "start_time": "2024-10-20T18:50:20.574Z"
   },
   {
    "duration": 6,
    "start_time": "2024-10-20T18:50:20.578Z"
   },
   {
    "duration": 54,
    "start_time": "2024-10-20T18:50:20.586Z"
   },
   {
    "duration": 15,
    "start_time": "2024-10-20T18:50:20.642Z"
   },
   {
    "duration": 5,
    "start_time": "2024-10-20T18:50:20.661Z"
   },
   {
    "duration": 5,
    "start_time": "2024-10-20T18:50:20.667Z"
   },
   {
    "duration": 6,
    "start_time": "2024-10-20T18:50:20.673Z"
   },
   {
    "duration": 4,
    "start_time": "2024-10-20T18:50:20.680Z"
   },
   {
    "duration": 46,
    "start_time": "2024-10-20T18:50:20.685Z"
   },
   {
    "duration": 3,
    "start_time": "2024-10-20T18:50:20.732Z"
   },
   {
    "duration": 10,
    "start_time": "2024-10-20T18:50:20.737Z"
   },
   {
    "duration": 15,
    "start_time": "2024-10-20T18:50:20.748Z"
   },
   {
    "duration": 18,
    "start_time": "2024-10-20T18:50:20.770Z"
   },
   {
    "duration": 45,
    "start_time": "2024-10-20T18:50:20.789Z"
   },
   {
    "duration": 3,
    "start_time": "2024-10-20T18:50:20.836Z"
   },
   {
    "duration": 6,
    "start_time": "2024-10-20T18:50:20.840Z"
   },
   {
    "duration": 3,
    "start_time": "2024-10-20T18:50:20.848Z"
   },
   {
    "duration": 7,
    "start_time": "2024-10-20T18:50:20.853Z"
   },
   {
    "duration": 2,
    "start_time": "2024-10-20T18:50:20.863Z"
   },
   {
    "duration": 166,
    "start_time": "2024-10-20T18:50:20.867Z"
   },
   {
    "duration": 4,
    "start_time": "2024-10-20T18:50:21.036Z"
   },
   {
    "duration": 6,
    "start_time": "2024-10-20T18:50:21.043Z"
   },
   {
    "duration": 12,
    "start_time": "2024-10-20T18:50:21.051Z"
   },
   {
    "duration": 2,
    "start_time": "2024-10-20T18:50:21.065Z"
   },
   {
    "duration": 13,
    "start_time": "2024-10-20T18:50:21.069Z"
   },
   {
    "duration": 221,
    "start_time": "2024-10-20T18:50:21.084Z"
   },
   {
    "duration": 3,
    "start_time": "2024-10-20T18:50:21.307Z"
   },
   {
    "duration": 41,
    "start_time": "2024-10-20T18:50:21.312Z"
   },
   {
    "duration": 560,
    "start_time": "2024-10-20T18:50:21.356Z"
   },
   {
    "duration": 0,
    "start_time": "2024-10-20T18:50:21.918Z"
   },
   {
    "duration": 0,
    "start_time": "2024-10-20T18:50:21.920Z"
   },
   {
    "duration": 0,
    "start_time": "2024-10-20T18:50:21.922Z"
   },
   {
    "duration": 0,
    "start_time": "2024-10-20T18:50:21.923Z"
   },
   {
    "duration": 0,
    "start_time": "2024-10-20T18:50:21.923Z"
   },
   {
    "duration": 0,
    "start_time": "2024-10-20T18:50:21.931Z"
   },
   {
    "duration": 0,
    "start_time": "2024-10-20T18:50:21.932Z"
   },
   {
    "duration": 0,
    "start_time": "2024-10-20T18:50:21.934Z"
   },
   {
    "duration": 0,
    "start_time": "2024-10-20T18:50:21.935Z"
   },
   {
    "duration": 0,
    "start_time": "2024-10-20T18:50:21.937Z"
   },
   {
    "duration": 1,
    "start_time": "2024-10-20T18:50:21.938Z"
   },
   {
    "duration": 0,
    "start_time": "2024-10-20T18:50:21.940Z"
   },
   {
    "duration": 0,
    "start_time": "2024-10-20T18:50:21.941Z"
   },
   {
    "duration": 0,
    "start_time": "2024-10-20T18:50:21.942Z"
   },
   {
    "duration": 0,
    "start_time": "2024-10-20T18:50:21.943Z"
   },
   {
    "duration": 0,
    "start_time": "2024-10-20T18:50:21.944Z"
   },
   {
    "duration": 0,
    "start_time": "2024-10-20T18:50:21.945Z"
   },
   {
    "duration": 0,
    "start_time": "2024-10-20T18:50:21.946Z"
   },
   {
    "duration": 0,
    "start_time": "2024-10-20T18:50:21.947Z"
   },
   {
    "duration": 0,
    "start_time": "2024-10-20T18:50:21.948Z"
   },
   {
    "duration": 0,
    "start_time": "2024-10-20T18:50:21.949Z"
   },
   {
    "duration": 10,
    "start_time": "2024-10-20T18:50:29.196Z"
   },
   {
    "duration": 144,
    "start_time": "2024-10-20T18:50:31.681Z"
   },
   {
    "duration": 18,
    "start_time": "2024-10-20T18:50:43.022Z"
   },
   {
    "duration": 18,
    "start_time": "2024-10-20T18:50:49.008Z"
   },
   {
    "duration": 6,
    "start_time": "2024-10-20T18:50:53.420Z"
   },
   {
    "duration": 10,
    "start_time": "2024-10-20T18:50:57.105Z"
   },
   {
    "duration": 162,
    "start_time": "2024-10-20T20:37:04.369Z"
   },
   {
    "duration": 11,
    "start_time": "2024-10-20T20:37:04.928Z"
   },
   {
    "duration": 2510,
    "start_time": "2024-10-20T20:37:14.321Z"
   },
   {
    "duration": 35,
    "start_time": "2024-10-20T20:37:16.833Z"
   },
   {
    "duration": 16,
    "start_time": "2024-10-20T20:37:16.870Z"
   },
   {
    "duration": 9,
    "start_time": "2024-10-20T20:37:16.889Z"
   },
   {
    "duration": 20,
    "start_time": "2024-10-20T20:37:16.900Z"
   },
   {
    "duration": 8,
    "start_time": "2024-10-20T20:37:18.568Z"
   },
   {
    "duration": 2,
    "start_time": "2024-10-20T20:37:19.265Z"
   },
   {
    "duration": 12,
    "start_time": "2024-10-20T20:37:21.025Z"
   },
   {
    "duration": 7,
    "start_time": "2024-10-20T20:37:22.584Z"
   },
   {
    "duration": 2,
    "start_time": "2024-10-20T20:37:24.759Z"
   },
   {
    "duration": 4,
    "start_time": "2024-10-20T20:37:25.433Z"
   },
   {
    "duration": 11,
    "start_time": "2024-10-20T20:37:26.506Z"
   },
   {
    "duration": 3,
    "start_time": "2024-10-20T20:37:27.138Z"
   },
   {
    "duration": 10,
    "start_time": "2024-10-20T20:37:27.648Z"
   },
   {
    "duration": 4,
    "start_time": "2024-10-20T20:37:28.080Z"
   },
   {
    "duration": 2,
    "start_time": "2024-10-20T20:37:28.505Z"
   },
   {
    "duration": 7,
    "start_time": "2024-10-20T20:37:28.984Z"
   },
   {
    "duration": 11,
    "start_time": "2024-10-20T20:37:29.508Z"
   },
   {
    "duration": 16,
    "start_time": "2024-10-20T20:37:30.181Z"
   },
   {
    "duration": 4,
    "start_time": "2024-10-20T20:37:30.867Z"
   },
   {
    "duration": 5,
    "start_time": "2024-10-20T20:37:31.506Z"
   },
   {
    "duration": 5,
    "start_time": "2024-10-20T20:37:32.010Z"
   },
   {
    "duration": 5,
    "start_time": "2024-10-20T20:37:32.663Z"
   },
   {
    "duration": 11,
    "start_time": "2024-10-20T20:37:33.124Z"
   },
   {
    "duration": 3,
    "start_time": "2024-10-20T20:37:33.728Z"
   },
   {
    "duration": 9,
    "start_time": "2024-10-20T20:37:34.288Z"
   },
   {
    "duration": 13,
    "start_time": "2024-10-20T20:37:37.073Z"
   },
   {
    "duration": 15,
    "start_time": "2024-10-20T20:37:41.876Z"
   },
   {
    "duration": 14,
    "start_time": "2024-10-20T20:37:42.529Z"
   },
   {
    "duration": 2,
    "start_time": "2024-10-20T20:37:43.068Z"
   },
   {
    "duration": 6,
    "start_time": "2024-10-20T20:37:43.588Z"
   },
   {
    "duration": 5,
    "start_time": "2024-10-20T20:37:44.106Z"
   },
   {
    "duration": 7,
    "start_time": "2024-10-20T20:37:44.683Z"
   },
   {
    "duration": 3,
    "start_time": "2024-10-20T20:37:45.307Z"
   },
   {
    "duration": 114,
    "start_time": "2024-10-20T20:37:45.857Z"
   },
   {
    "duration": 4,
    "start_time": "2024-10-20T20:37:46.881Z"
   },
   {
    "duration": 5,
    "start_time": "2024-10-20T20:37:48.184Z"
   },
   {
    "duration": 9,
    "start_time": "2024-10-20T20:37:48.924Z"
   },
   {
    "duration": 2,
    "start_time": "2024-10-20T20:37:49.638Z"
   },
   {
    "duration": 10,
    "start_time": "2024-10-20T20:37:50.305Z"
   },
   {
    "duration": 174,
    "start_time": "2024-10-20T20:37:50.976Z"
   },
   {
    "duration": 2,
    "start_time": "2024-10-20T20:37:51.887Z"
   },
   {
    "duration": 19,
    "start_time": "2024-10-20T20:37:52.985Z"
   },
   {
    "duration": 418,
    "start_time": "2024-10-20T20:37:53.772Z"
   },
   {
    "duration": 2,
    "start_time": "2024-10-20T20:37:55.601Z"
   },
   {
    "duration": 10,
    "start_time": "2024-10-20T20:37:56.418Z"
   },
   {
    "duration": 3,
    "start_time": "2024-10-20T20:37:57.936Z"
   },
   {
    "duration": 133,
    "start_time": "2024-10-20T20:37:58.594Z"
   },
   {
    "duration": 2,
    "start_time": "2024-10-20T20:37:59.680Z"
   },
   {
    "duration": 299,
    "start_time": "2024-10-20T20:38:00.464Z"
   },
   {
    "duration": 3,
    "start_time": "2024-10-20T20:38:07.461Z"
   },
   {
    "duration": 3,
    "start_time": "2024-10-20T20:38:07.992Z"
   },
   {
    "duration": 12,
    "start_time": "2024-10-20T20:38:08.559Z"
   },
   {
    "duration": 3,
    "start_time": "2024-10-20T20:38:09.000Z"
   },
   {
    "duration": 12,
    "start_time": "2024-10-20T20:38:09.595Z"
   },
   {
    "duration": 3,
    "start_time": "2024-10-20T20:38:09.817Z"
   },
   {
    "duration": 13,
    "start_time": "2024-10-20T20:38:10.006Z"
   },
   {
    "duration": 3,
    "start_time": "2024-10-20T20:38:10.189Z"
   },
   {
    "duration": 13,
    "start_time": "2024-10-20T20:38:10.373Z"
   },
   {
    "duration": 27,
    "start_time": "2024-10-20T20:38:10.537Z"
   },
   {
    "duration": 29,
    "start_time": "2024-10-20T20:38:10.705Z"
   },
   {
    "duration": 28,
    "start_time": "2024-10-20T20:38:10.872Z"
   },
   {
    "duration": 2,
    "start_time": "2024-10-20T20:38:11.049Z"
   },
   {
    "duration": 2,
    "start_time": "2024-10-20T20:38:11.603Z"
   },
   {
    "duration": 17,
    "start_time": "2024-10-20T20:38:11.797Z"
   },
   {
    "duration": 6,
    "start_time": "2024-10-20T20:38:12.402Z"
   },
   {
    "duration": 8,
    "start_time": "2024-10-20T20:38:12.596Z"
   },
   {
    "duration": 9,
    "start_time": "2024-10-20T20:38:12.776Z"
   },
   {
    "duration": 7,
    "start_time": "2024-10-20T20:38:15.393Z"
   },
   {
    "duration": 6,
    "start_time": "2024-10-20T20:38:15.899Z"
   },
   {
    "duration": 8,
    "start_time": "2024-10-20T20:38:16.456Z"
   },
   {
    "duration": 6,
    "start_time": "2024-10-20T20:38:16.961Z"
   },
   {
    "duration": 3,
    "start_time": "2024-10-20T20:38:18.032Z"
   },
   {
    "duration": 3,
    "start_time": "2024-10-20T20:38:18.467Z"
   },
   {
    "duration": 2,
    "start_time": "2024-10-20T20:38:18.937Z"
   },
   {
    "duration": 18,
    "start_time": "2024-10-20T20:38:19.425Z"
   },
   {
    "duration": 18,
    "start_time": "2024-10-20T20:38:19.886Z"
   },
   {
    "duration": 9,
    "start_time": "2024-10-20T20:38:20.337Z"
   },
   {
    "duration": 7,
    "start_time": "2024-10-20T20:38:20.833Z"
   },
   {
    "duration": 8,
    "start_time": "2024-10-20T20:38:21.284Z"
   },
   {
    "duration": 6,
    "start_time": "2024-10-20T20:38:21.857Z"
   },
   {
    "duration": 3,
    "start_time": "2024-10-20T20:38:22.593Z"
   },
   {
    "duration": 3,
    "start_time": "2024-10-20T20:38:23.240Z"
   },
   {
    "duration": 2,
    "start_time": "2024-10-20T20:38:23.839Z"
   },
   {
    "duration": 3,
    "start_time": "2024-10-20T20:38:24.393Z"
   },
   {
    "duration": 8,
    "start_time": "2024-10-20T20:51:25.660Z"
   },
   {
    "duration": 7,
    "start_time": "2024-10-20T20:54:03.706Z"
   },
   {
    "duration": 18,
    "start_time": "2024-10-20T20:54:44.238Z"
   },
   {
    "duration": 7,
    "start_time": "2024-10-20T20:54:50.307Z"
   },
   {
    "duration": 8,
    "start_time": "2024-10-20T20:55:08.399Z"
   },
   {
    "duration": 8,
    "start_time": "2024-10-20T20:56:40.588Z"
   },
   {
    "duration": 5,
    "start_time": "2024-10-20T20:56:53.968Z"
   },
   {
    "duration": 14,
    "start_time": "2024-10-20T20:58:24.052Z"
   },
   {
    "duration": 12,
    "start_time": "2024-10-20T20:58:45.545Z"
   },
   {
    "duration": 8,
    "start_time": "2024-10-20T20:58:49.099Z"
   },
   {
    "duration": 102,
    "start_time": "2024-10-20T20:58:52.040Z"
   },
   {
    "duration": 7,
    "start_time": "2024-10-20T20:59:15.353Z"
   },
   {
    "duration": 14,
    "start_time": "2024-10-20T21:00:00.033Z"
   },
   {
    "duration": 12,
    "start_time": "2024-10-20T21:00:04.972Z"
   },
   {
    "duration": 13,
    "start_time": "2024-10-20T21:00:10.997Z"
   },
   {
    "duration": 7,
    "start_time": "2024-10-20T21:00:17.478Z"
   },
   {
    "duration": 5,
    "start_time": "2024-10-20T21:01:14.316Z"
   },
   {
    "duration": 8,
    "start_time": "2024-10-20T21:01:47.324Z"
   },
   {
    "duration": 9,
    "start_time": "2024-10-20T21:02:31.279Z"
   },
   {
    "duration": 5,
    "start_time": "2024-10-20T21:02:40.861Z"
   },
   {
    "duration": 28,
    "start_time": "2024-10-20T21:03:03.830Z"
   },
   {
    "duration": 7,
    "start_time": "2024-10-20T21:03:31.901Z"
   },
   {
    "duration": 3,
    "start_time": "2024-10-20T21:03:38.991Z"
   },
   {
    "duration": 2,
    "start_time": "2024-10-20T21:03:41.322Z"
   },
   {
    "duration": 29,
    "start_time": "2024-10-20T21:04:18.096Z"
   },
   {
    "duration": 5,
    "start_time": "2024-10-20T21:04:45.614Z"
   },
   {
    "duration": 8,
    "start_time": "2024-10-20T21:04:52.917Z"
   },
   {
    "duration": 4,
    "start_time": "2024-10-20T21:04:58.935Z"
   },
   {
    "duration": 3,
    "start_time": "2024-10-20T21:05:01.145Z"
   },
   {
    "duration": 18,
    "start_time": "2024-10-20T21:05:04.231Z"
   },
   {
    "duration": 15,
    "start_time": "2024-10-20T21:05:09.389Z"
   },
   {
    "duration": 5,
    "start_time": "2024-10-20T21:05:28.093Z"
   },
   {
    "duration": 8,
    "start_time": "2024-10-20T21:06:03.406Z"
   },
   {
    "duration": 8,
    "start_time": "2024-10-20T21:06:10.526Z"
   },
   {
    "duration": 7,
    "start_time": "2024-10-20T21:06:23.142Z"
   },
   {
    "duration": 5,
    "start_time": "2024-10-20T21:06:28.323Z"
   },
   {
    "duration": 5,
    "start_time": "2024-10-20T21:06:31.736Z"
   },
   {
    "duration": 8,
    "start_time": "2024-10-20T21:06:50.270Z"
   },
   {
    "duration": 8,
    "start_time": "2024-10-20T21:06:57.023Z"
   },
   {
    "duration": 8,
    "start_time": "2024-10-20T21:07:07.375Z"
   },
   {
    "duration": 5,
    "start_time": "2024-10-20T21:07:16.445Z"
   },
   {
    "duration": 3,
    "start_time": "2024-10-20T21:07:19.133Z"
   },
   {
    "duration": 3,
    "start_time": "2024-10-20T21:07:20.037Z"
   },
   {
    "duration": 7,
    "start_time": "2024-10-20T21:07:36.155Z"
   },
   {
    "duration": 18,
    "start_time": "2024-10-20T21:09:01.149Z"
   },
   {
    "duration": 8,
    "start_time": "2024-10-20T21:10:19.154Z"
   },
   {
    "duration": 9,
    "start_time": "2024-10-20T21:10:37.589Z"
   },
   {
    "duration": 7,
    "start_time": "2024-10-20T21:10:52.672Z"
   },
   {
    "duration": 8,
    "start_time": "2024-10-20T21:11:14.109Z"
   },
   {
    "duration": 7,
    "start_time": "2024-10-20T21:11:58.822Z"
   },
   {
    "duration": 7,
    "start_time": "2024-10-20T21:12:28.758Z"
   },
   {
    "duration": 8,
    "start_time": "2024-10-20T21:12:50.264Z"
   },
   {
    "duration": 6,
    "start_time": "2024-10-20T21:12:59.261Z"
   },
   {
    "duration": 3,
    "start_time": "2024-10-20T21:13:01.878Z"
   },
   {
    "duration": 3,
    "start_time": "2024-10-20T21:13:04.283Z"
   }
  ],
  "kernelspec": {
   "display_name": "Python 3 (ipykernel)",
   "language": "python",
   "name": "python3"
  },
  "language_info": {
   "codemirror_mode": {
    "name": "ipython",
    "version": 3
   },
   "file_extension": ".py",
   "mimetype": "text/x-python",
   "name": "python",
   "nbconvert_exporter": "python",
   "pygments_lexer": "ipython3",
   "version": "3.11.7"
  },
  "toc": {
   "base_numbering": 1,
   "nav_menu": {},
   "number_sections": true,
   "sideBar": true,
   "skip_h1_title": true,
   "title_cell": "Table of Contents",
   "title_sidebar": "Contents",
   "toc_cell": false,
   "toc_position": {},
   "toc_section_display": true,
   "toc_window_display": false
  }
 },
 "nbformat": 4,
 "nbformat_minor": 5
}
