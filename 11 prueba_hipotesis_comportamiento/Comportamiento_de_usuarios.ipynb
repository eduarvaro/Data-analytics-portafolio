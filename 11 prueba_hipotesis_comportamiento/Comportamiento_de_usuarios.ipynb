{
 "cells": [
  {
   "cell_type": "code",
   "execution_count": 1,
   "id": "69351630-1fff-4253-b608-323c2e75b7bc",
   "metadata": {},
   "outputs": [],
   "source": [
    "import pandas as pd\n",
    "import matplotlib.pyplot as plt\n",
    "import numpy as np \n",
    "import seaborn as sns \n",
    "import scipy.stats as ss\n",
    "import datetime as dt"
   ]
  },
  {
   "cell_type": "markdown",
   "id": "d89332ba-d218-4493-8a7e-ac14dec541bd",
   "metadata": {},
   "source": [
    "### Realizaremos un analisis para una tienda de productos alimenticios para saber el comportamiento de los usuarios con respecto a la aplicacion de la empresa"
   ]
  },
  {
   "cell_type": "code",
   "execution_count": 5,
   "id": "b5e36b4b-a57e-493c-b9d8-c0cf70d401b3",
   "metadata": {},
   "outputs": [],
   "source": [
    "log= pd.read_csv ('/datasets/logs_exp_us.csv', sep='\\t')"
   ]
  },
  {
   "cell_type": "markdown",
   "id": "e8dcc80a-f5d1-4f08-a628-80937bdc2502",
   "metadata": {},
   "source": [
    "### Vamos a hacer un analisis exploratorio de los datos para encontrar anomalias y limpar el dataset si es necesario"
   ]
  },
  {
   "cell_type": "code",
   "execution_count": 6,
   "id": "b0d0137d-ae83-457d-b83e-cdd8a1e709e2",
   "metadata": {},
   "outputs": [
    {
     "name": "stdout",
     "output_type": "stream",
     "text": [
      "<class 'pandas.core.frame.DataFrame'>\n",
      "RangeIndex: 244126 entries, 0 to 244125\n",
      "Data columns (total 4 columns):\n",
      " #   Column          Non-Null Count   Dtype \n",
      "---  ------          --------------   ----- \n",
      " 0   EventName       244126 non-null  object\n",
      " 1   DeviceIDHash    244126 non-null  int64 \n",
      " 2   EventTimestamp  244126 non-null  int64 \n",
      " 3   ExpId           244126 non-null  int64 \n",
      "dtypes: int64(3), object(1)\n",
      "memory usage: 7.5+ MB\n"
     ]
    }
   ],
   "source": [
    "log.info()"
   ]
  },
  {
   "cell_type": "code",
   "execution_count": 7,
   "id": "d3cebb33-ebb9-48ec-8673-ef0a1942ee99",
   "metadata": {},
   "outputs": [],
   "source": [
    "def analisis_exploratorio_df(data):\n",
    "    print(data.head())\n",
    "    print()\n",
    "    print(data.info())\n",
    "    print()\n",
    "    print(data.isna().sum())\n",
    "    print()\n",
    "    print(data.duplicated().sum())"
   ]
  },
  {
   "cell_type": "code",
   "execution_count": 8,
   "id": "2cc036b6-ac1f-4f6d-91f7-013cfe9c8226",
   "metadata": {},
   "outputs": [
    {
     "name": "stdout",
     "output_type": "stream",
     "text": [
      "                 EventName         DeviceIDHash  EventTimestamp  ExpId\n",
      "0         MainScreenAppear  4575588528974610257      1564029816    246\n",
      "1         MainScreenAppear  7416695313311560658      1564053102    246\n",
      "2  PaymentScreenSuccessful  3518123091307005509      1564054127    248\n",
      "3         CartScreenAppear  3518123091307005509      1564054127    248\n",
      "4  PaymentScreenSuccessful  6217807653094995999      1564055322    248\n",
      "\n",
      "<class 'pandas.core.frame.DataFrame'>\n",
      "RangeIndex: 244126 entries, 0 to 244125\n",
      "Data columns (total 4 columns):\n",
      " #   Column          Non-Null Count   Dtype \n",
      "---  ------          --------------   ----- \n",
      " 0   EventName       244126 non-null  object\n",
      " 1   DeviceIDHash    244126 non-null  int64 \n",
      " 2   EventTimestamp  244126 non-null  int64 \n",
      " 3   ExpId           244126 non-null  int64 \n",
      "dtypes: int64(3), object(1)\n",
      "memory usage: 7.5+ MB\n",
      "None\n",
      "\n",
      "EventName         0\n",
      "DeviceIDHash      0\n",
      "EventTimestamp    0\n",
      "ExpId             0\n",
      "dtype: int64\n",
      "\n",
      "413\n"
     ]
    }
   ],
   "source": [
    "analisis_exploratorio_df (log)"
   ]
  },
  {
   "cell_type": "markdown",
   "id": "d7fab60e-8500-445a-ba42-91ffa651b0a6",
   "metadata": {},
   "source": [
    "Realizando un analisis exploratorio breve donde podemos observar que no existen valores nulos, todos los datos parecen ser consistentes tenemos 244,126 filas y 4 columnas, pero si existen 413 duplicados, tendremos que poner en formato correcto la hora de evento"
   ]
  },
  {
   "cell_type": "code",
   "execution_count": 9,
   "id": "09a8ef26-24a1-4494-8710-da6ff9bc3d45",
   "metadata": {},
   "outputs": [
    {
     "data": {
      "text/html": [
       "<div>\n",
       "<style scoped>\n",
       "    .dataframe tbody tr th:only-of-type {\n",
       "        vertical-align: middle;\n",
       "    }\n",
       "\n",
       "    .dataframe tbody tr th {\n",
       "        vertical-align: top;\n",
       "    }\n",
       "\n",
       "    .dataframe thead th {\n",
       "        text-align: right;\n",
       "    }\n",
       "</style>\n",
       "<table border=\"1\" class=\"dataframe\">\n",
       "  <thead>\n",
       "    <tr style=\"text-align: right;\">\n",
       "      <th></th>\n",
       "      <th>nombre_evento</th>\n",
       "      <th>usuario</th>\n",
       "      <th>hora_de_evento</th>\n",
       "      <th>experimento</th>\n",
       "    </tr>\n",
       "  </thead>\n",
       "  <tbody>\n",
       "    <tr>\n",
       "      <th>0</th>\n",
       "      <td>MainScreenAppear</td>\n",
       "      <td>4575588528974610257</td>\n",
       "      <td>1564029816</td>\n",
       "      <td>246</td>\n",
       "    </tr>\n",
       "    <tr>\n",
       "      <th>1</th>\n",
       "      <td>MainScreenAppear</td>\n",
       "      <td>7416695313311560658</td>\n",
       "      <td>1564053102</td>\n",
       "      <td>246</td>\n",
       "    </tr>\n",
       "    <tr>\n",
       "      <th>2</th>\n",
       "      <td>PaymentScreenSuccessful</td>\n",
       "      <td>3518123091307005509</td>\n",
       "      <td>1564054127</td>\n",
       "      <td>248</td>\n",
       "    </tr>\n",
       "    <tr>\n",
       "      <th>3</th>\n",
       "      <td>CartScreenAppear</td>\n",
       "      <td>3518123091307005509</td>\n",
       "      <td>1564054127</td>\n",
       "      <td>248</td>\n",
       "    </tr>\n",
       "    <tr>\n",
       "      <th>4</th>\n",
       "      <td>PaymentScreenSuccessful</td>\n",
       "      <td>6217807653094995999</td>\n",
       "      <td>1564055322</td>\n",
       "      <td>248</td>\n",
       "    </tr>\n",
       "    <tr>\n",
       "      <th>...</th>\n",
       "      <td>...</td>\n",
       "      <td>...</td>\n",
       "      <td>...</td>\n",
       "      <td>...</td>\n",
       "    </tr>\n",
       "    <tr>\n",
       "      <th>244121</th>\n",
       "      <td>MainScreenAppear</td>\n",
       "      <td>4599628364049201812</td>\n",
       "      <td>1565212345</td>\n",
       "      <td>247</td>\n",
       "    </tr>\n",
       "    <tr>\n",
       "      <th>244122</th>\n",
       "      <td>MainScreenAppear</td>\n",
       "      <td>5849806612437486590</td>\n",
       "      <td>1565212439</td>\n",
       "      <td>246</td>\n",
       "    </tr>\n",
       "    <tr>\n",
       "      <th>244123</th>\n",
       "      <td>MainScreenAppear</td>\n",
       "      <td>5746969938801999050</td>\n",
       "      <td>1565212483</td>\n",
       "      <td>246</td>\n",
       "    </tr>\n",
       "    <tr>\n",
       "      <th>244124</th>\n",
       "      <td>MainScreenAppear</td>\n",
       "      <td>5746969938801999050</td>\n",
       "      <td>1565212498</td>\n",
       "      <td>246</td>\n",
       "    </tr>\n",
       "    <tr>\n",
       "      <th>244125</th>\n",
       "      <td>OffersScreenAppear</td>\n",
       "      <td>5746969938801999050</td>\n",
       "      <td>1565212517</td>\n",
       "      <td>246</td>\n",
       "    </tr>\n",
       "  </tbody>\n",
       "</table>\n",
       "<p>244126 rows × 4 columns</p>\n",
       "</div>"
      ],
      "text/plain": [
       "                  nombre_evento              usuario  hora_de_evento  \\\n",
       "0              MainScreenAppear  4575588528974610257      1564029816   \n",
       "1              MainScreenAppear  7416695313311560658      1564053102   \n",
       "2       PaymentScreenSuccessful  3518123091307005509      1564054127   \n",
       "3              CartScreenAppear  3518123091307005509      1564054127   \n",
       "4       PaymentScreenSuccessful  6217807653094995999      1564055322   \n",
       "...                         ...                  ...             ...   \n",
       "244121         MainScreenAppear  4599628364049201812      1565212345   \n",
       "244122         MainScreenAppear  5849806612437486590      1565212439   \n",
       "244123         MainScreenAppear  5746969938801999050      1565212483   \n",
       "244124         MainScreenAppear  5746969938801999050      1565212498   \n",
       "244125       OffersScreenAppear  5746969938801999050      1565212517   \n",
       "\n",
       "        experimento  \n",
       "0               246  \n",
       "1               246  \n",
       "2               248  \n",
       "3               248  \n",
       "4               248  \n",
       "...             ...  \n",
       "244121          247  \n",
       "244122          246  \n",
       "244123          246  \n",
       "244124          246  \n",
       "244125          246  \n",
       "\n",
       "[244126 rows x 4 columns]"
      ]
     },
     "execution_count": 9,
     "metadata": {},
     "output_type": "execute_result"
    }
   ],
   "source": [
    "log.columns = 'nombre_evento', 'usuario', 'hora_de_evento' , 'experimento'\n",
    "log"
   ]
  },
  {
   "cell_type": "code",
   "execution_count": 10,
   "id": "0a37d2d6-f370-4c0a-b03d-fcc63b2d1a43",
   "metadata": {},
   "outputs": [
    {
     "data": {
      "text/html": [
       "<div>\n",
       "<style scoped>\n",
       "    .dataframe tbody tr th:only-of-type {\n",
       "        vertical-align: middle;\n",
       "    }\n",
       "\n",
       "    .dataframe tbody tr th {\n",
       "        vertical-align: top;\n",
       "    }\n",
       "\n",
       "    .dataframe thead th {\n",
       "        text-align: right;\n",
       "    }\n",
       "</style>\n",
       "<table border=\"1\" class=\"dataframe\">\n",
       "  <thead>\n",
       "    <tr style=\"text-align: right;\">\n",
       "      <th></th>\n",
       "      <th>nombre_evento</th>\n",
       "      <th>usuario</th>\n",
       "      <th>hora_de_evento</th>\n",
       "      <th>experimento</th>\n",
       "      <th>grupo</th>\n",
       "    </tr>\n",
       "  </thead>\n",
       "  <tbody>\n",
       "    <tr>\n",
       "      <th>0</th>\n",
       "      <td>MainScreenAppear</td>\n",
       "      <td>4575588528974610257</td>\n",
       "      <td>1564029816</td>\n",
       "      <td>246</td>\n",
       "      <td>A</td>\n",
       "    </tr>\n",
       "    <tr>\n",
       "      <th>1</th>\n",
       "      <td>MainScreenAppear</td>\n",
       "      <td>7416695313311560658</td>\n",
       "      <td>1564053102</td>\n",
       "      <td>246</td>\n",
       "      <td>A</td>\n",
       "    </tr>\n",
       "    <tr>\n",
       "      <th>2</th>\n",
       "      <td>PaymentScreenSuccessful</td>\n",
       "      <td>3518123091307005509</td>\n",
       "      <td>1564054127</td>\n",
       "      <td>248</td>\n",
       "      <td>B</td>\n",
       "    </tr>\n",
       "    <tr>\n",
       "      <th>3</th>\n",
       "      <td>CartScreenAppear</td>\n",
       "      <td>3518123091307005509</td>\n",
       "      <td>1564054127</td>\n",
       "      <td>248</td>\n",
       "      <td>B</td>\n",
       "    </tr>\n",
       "    <tr>\n",
       "      <th>4</th>\n",
       "      <td>PaymentScreenSuccessful</td>\n",
       "      <td>6217807653094995999</td>\n",
       "      <td>1564055322</td>\n",
       "      <td>248</td>\n",
       "      <td>B</td>\n",
       "    </tr>\n",
       "  </tbody>\n",
       "</table>\n",
       "</div>"
      ],
      "text/plain": [
       "             nombre_evento              usuario  hora_de_evento  experimento  \\\n",
       "0         MainScreenAppear  4575588528974610257      1564029816          246   \n",
       "1         MainScreenAppear  7416695313311560658      1564053102          246   \n",
       "2  PaymentScreenSuccessful  3518123091307005509      1564054127          248   \n",
       "3         CartScreenAppear  3518123091307005509      1564054127          248   \n",
       "4  PaymentScreenSuccessful  6217807653094995999      1564055322          248   \n",
       "\n",
       "  grupo  \n",
       "0     A  \n",
       "1     A  \n",
       "2     B  \n",
       "3     B  \n",
       "4     B  "
      ]
     },
     "execution_count": 10,
     "metadata": {},
     "output_type": "execute_result"
    }
   ],
   "source": [
    "log['grupo'] = log['experimento'].map({246: 'A', 247: 'A', 248: 'B'})\n",
    "log.head()"
   ]
  },
  {
   "cell_type": "code",
   "execution_count": 11,
   "id": "d6e6d23e-1616-43eb-8c86-ff50f1f6fbf7",
   "metadata": {},
   "outputs": [
    {
     "name": "stdout",
     "output_type": "stream",
     "text": [
      "                  nombre_evento              usuario  hora_de_evento  \\\n",
      "0              MainScreenAppear  4575588528974610257      1564029816   \n",
      "1              MainScreenAppear  7416695313311560658      1564053102   \n",
      "2       PaymentScreenSuccessful  3518123091307005509      1564054127   \n",
      "3              CartScreenAppear  3518123091307005509      1564054127   \n",
      "4       PaymentScreenSuccessful  6217807653094995999      1564055322   \n",
      "...                         ...                  ...             ...   \n",
      "244121         MainScreenAppear  4599628364049201812      1565212345   \n",
      "244122         MainScreenAppear  5849806612437486590      1565212439   \n",
      "244123         MainScreenAppear  5746969938801999050      1565212483   \n",
      "244124         MainScreenAppear  5746969938801999050      1565212498   \n",
      "244125       OffersScreenAppear  5746969938801999050      1565212517   \n",
      "\n",
      "        experimento grupo          fecha_hora       fecha  \n",
      "0               246     A 2019-07-25 04:43:36  2019-07-25  \n",
      "1               246     A 2019-07-25 11:11:42  2019-07-25  \n",
      "2               248     B 2019-07-25 11:28:47  2019-07-25  \n",
      "3               248     B 2019-07-25 11:28:47  2019-07-25  \n",
      "4               248     B 2019-07-25 11:48:42  2019-07-25  \n",
      "...             ...   ...                 ...         ...  \n",
      "244121          247     A 2019-08-07 21:12:25  2019-08-07  \n",
      "244122          246     A 2019-08-07 21:13:59  2019-08-07  \n",
      "244123          246     A 2019-08-07 21:14:43  2019-08-07  \n",
      "244124          246     A 2019-08-07 21:14:58  2019-08-07  \n",
      "244125          246     A 2019-08-07 21:15:17  2019-08-07  \n",
      "\n",
      "[244126 rows x 7 columns]\n"
     ]
    }
   ],
   "source": [
    "log['fecha_hora'] = pd.to_datetime(log['hora_de_evento'], unit='s')\n",
    "log['fecha'] = log['fecha_hora'].dt.date\n",
    "\n",
    "print(log)"
   ]
  },
  {
   "cell_type": "code",
   "execution_count": 12,
   "id": "718f1842-a59f-4f35-997c-981d69d6414b",
   "metadata": {},
   "outputs": [
    {
     "data": {
      "text/plain": [
       "413"
      ]
     },
     "execution_count": 12,
     "metadata": {},
     "output_type": "execute_result"
    }
   ],
   "source": [
    "log.duplicated().sum()"
   ]
  },
  {
   "cell_type": "code",
   "execution_count": 13,
   "id": "3c8a279f-6946-4c01-900f-13b2a3013138",
   "metadata": {},
   "outputs": [
    {
     "data": {
      "text/plain": [
       "0"
      ]
     },
     "execution_count": 13,
     "metadata": {},
     "output_type": "execute_result"
    }
   ],
   "source": [
    "log_sin_duplicados = log.drop_duplicates()\n",
    "log_sin_duplicados.duplicated().sum()"
   ]
  },
  {
   "cell_type": "markdown",
   "id": "64716454-b2b3-42e3-af05-2fbac62b189f",
   "metadata": {},
   "source": [
    "Hemos realizado la limpieza del data set agregado por grupo los experimentos 246, 247 y 248, se agrego una columna de fecha y hora y una columna separada para las fechas recordando que estas fechas salen de la columna 'hora_de_evento', realizado este hemos procedido a eliminar valores duplicados los cuales eran 413"
   ]
  },
  {
   "cell_type": "code",
   "execution_count": 14,
   "id": "77985504-4d49-474d-9e07-4e5c6fd7b15e",
   "metadata": {},
   "outputs": [
    {
     "name": "stdout",
     "output_type": "stream",
     "text": [
      "El número total de eventos es: 244126\n",
      "El número de eventos únicos es: 5\n",
      "El número total de usuarios únicos es: 7551\n",
      "El número total de usuarios es: 244126\n",
      "El promedio de eventos por usuario es: 32.33\n"
     ]
    }
   ],
   "source": [
    "numero_eventos = log.shape[0]\n",
    "\n",
    "# Número total de usuarios únicos\n",
    "eventos_unicos = log['nombre_evento'].nunique()\n",
    "numero_usuarios = log['usuario'].nunique()\n",
    "numero_usuarios_1= log['usuario'].count()\n",
    "# Promedio de eventos por usuario\n",
    "promedio_eventos_por_usuario = numero_eventos / numero_usuarios\n",
    "\n",
    "# Mostrar los resultados\n",
    "print(f\"El número total de eventos es: {numero_eventos}\")\n",
    "print(f\"El número de eventos únicos es: {eventos_unicos}\")\n",
    "print(f\"El número total de usuarios únicos es: {numero_usuarios}\")\n",
    "print(f\"El número total de usuarios es: {numero_usuarios_1}\")\n",
    "print(f\"El promedio de eventos por usuario es: {promedio_eventos_por_usuario:.2f}\")"
   ]
  },
  {
   "cell_type": "code",
   "execution_count": 15,
   "id": "5b21cede-e618-4d41-ad16-81a6db2c36ed",
   "metadata": {},
   "outputs": [
    {
     "name": "stdout",
     "output_type": "stream",
     "text": [
      "El periodo de tiempo cubierto por los datos es desde 2019-07-25 04:43:36 hasta 2019-08-07 21:15:17.\n"
     ]
    }
   ],
   "source": [
    "log['hora_de_evento'] = pd.to_datetime(log['hora_de_evento'], unit='s')\n",
    "\n",
    "# Calcular la fecha mínima y máxima\n",
    "fecha_inicio = log['hora_de_evento'].min()\n",
    "fecha_fin = log['hora_de_evento'].max()\n",
    "\n",
    "# Mostrar los resultados\n",
    "print(f\"El periodo de tiempo cubierto por los datos es desde {fecha_inicio} hasta {fecha_fin}.\")"
   ]
  },
  {
   "cell_type": "code",
   "execution_count": 16,
   "id": "3d686211-9fea-4387-8527-0be66618eb2c",
   "metadata": {},
   "outputs": [
    {
     "name": "stdout",
     "output_type": "stream",
     "text": [
      "valor_minimo en fecha_hora : 2019-07-25 04:43:36\n",
      "valor_maximo en fecha_hora: 2019-08-07 21:15:17\n"
     ]
    }
   ],
   "source": [
    "print(f'valor_minimo en fecha_hora : {log[\"hora_de_evento\"].min()}')\n",
    "print(f'valor_maximo en fecha_hora: {log[\"hora_de_evento\"].max()}')"
   ]
  },
  {
   "cell_type": "code",
   "execution_count": 17,
   "id": "088bcf72-890f-441e-b224-44e5fe2bb9aa",
   "metadata": {},
   "outputs": [
    {
     "data": {
      "image/png": "[encoded data removed]",
      "text/plain": [
       "<Figure size 1000x600 with 1 Axes>"
      ]
     },
     "metadata": {},
     "output_type": "display_data"
    }
   ],
   "source": [
    "plt.figure(figsize=(10, 6))\n",
    "log['fecha_hora'].hist(bins=10, color='skyblue', edgecolor='black')\n",
    "\n",
    "# Personalizar el gráfico\n",
    "plt.title('Histograma de Eventos por Fecha y Hora')\n",
    "plt.ylabel('Frecuencia de Eventos')\n",
    "plt.xticks(rotation=45)\n",
    "plt.tight_layout()\n",
    "plt.show()"
   ]
  },
  {
   "cell_type": "markdown",
   "id": "a1884e7d-36b8-4c4b-a7b0-31cfff0b139b",
   "metadata": {},
   "source": [
    "La grafica nos muestra un histograma de eventos por fecha y hora respecto a la frecuancia de eventos donde el 2019-08-01 es donde comienza a haber un incremento mayor hasta la ultima fecha y hora registrada en el data set, podemos obser que no tenemos todos los datos completos para este periodo ya que de inicio o del lado izquiedo son muy pocos los datos sin embargo como se menciono a mitad del periodo estudiado tenemos una frecuancia de eventos grande por lo cual se asume que hay absolucencia de datos y tenemos un sesgo en la informacion."
   ]
  },
  {
   "cell_type": "code",
   "execution_count": 18,
   "id": "ceb7d335-b4f0-45a2-b53c-99afc1221ad6",
   "metadata": {},
   "outputs": [
    {
     "data": {
      "text/plain": [
       "2019-07-25        9\n",
       "2019-07-26       31\n",
       "2019-07-27       55\n",
       "2019-07-28      105\n",
       "2019-07-29      184\n",
       "2019-07-30      412\n",
       "2019-07-31     2030\n",
       "2019-08-01    36141\n",
       "2019-08-02    35554\n",
       "2019-08-03    33282\n",
       "2019-08-04    32968\n",
       "2019-08-05    36058\n",
       "2019-08-06    35788\n",
       "2019-08-07    31096\n",
       "Name: fecha, dtype: int64"
      ]
     },
     "execution_count": 18,
     "metadata": {},
     "output_type": "execute_result"
    }
   ],
   "source": [
    "frecuencia_por_fecha = log_sin_duplicados['fecha'].value_counts().sort_index()\n",
    "frecuencia_por_fecha"
   ]
  },
  {
   "cell_type": "markdown",
   "id": "f9199fa5-8577-4c9e-af73-2995acb97b56",
   "metadata": {},
   "source": [
    "Con estos datos podemos comprobar que efectivamente no tenemso datos suficientes y esto provocaria tener un sesgo en la informacion\n",
    "por lo cual eliminaremos ciertos periodos para no tener este sesgo "
   ]
  },
  {
   "cell_type": "code",
   "execution_count": 19,
   "id": "c3c3864c-e77d-45cd-8681-485115d078cf",
   "metadata": {},
   "outputs": [
    {
     "data": {
      "text/html": [
       "<div>\n",
       "<style scoped>\n",
       "    .dataframe tbody tr th:only-of-type {\n",
       "        vertical-align: middle;\n",
       "    }\n",
       "\n",
       "    .dataframe tbody tr th {\n",
       "        vertical-align: top;\n",
       "    }\n",
       "\n",
       "    .dataframe thead th {\n",
       "        text-align: right;\n",
       "    }\n",
       "</style>\n",
       "<table border=\"1\" class=\"dataframe\">\n",
       "  <thead>\n",
       "    <tr style=\"text-align: right;\">\n",
       "      <th></th>\n",
       "      <th>nombre_evento</th>\n",
       "      <th>usuario</th>\n",
       "      <th>hora_de_evento</th>\n",
       "      <th>experimento</th>\n",
       "      <th>grupo</th>\n",
       "      <th>fecha_hora</th>\n",
       "      <th>fecha</th>\n",
       "    </tr>\n",
       "  </thead>\n",
       "  <tbody>\n",
       "    <tr>\n",
       "      <th>2828</th>\n",
       "      <td>Tutorial</td>\n",
       "      <td>3737462046622621720</td>\n",
       "      <td>2019-08-01 00:07:28</td>\n",
       "      <td>246</td>\n",
       "      <td>A</td>\n",
       "      <td>2019-08-01 00:07:28</td>\n",
       "      <td>2019-08-01</td>\n",
       "    </tr>\n",
       "    <tr>\n",
       "      <th>2829</th>\n",
       "      <td>MainScreenAppear</td>\n",
       "      <td>3737462046622621720</td>\n",
       "      <td>2019-08-01 00:08:00</td>\n",
       "      <td>246</td>\n",
       "      <td>A</td>\n",
       "      <td>2019-08-01 00:08:00</td>\n",
       "      <td>2019-08-01</td>\n",
       "    </tr>\n",
       "    <tr>\n",
       "      <th>2830</th>\n",
       "      <td>MainScreenAppear</td>\n",
       "      <td>3737462046622621720</td>\n",
       "      <td>2019-08-01 00:08:55</td>\n",
       "      <td>246</td>\n",
       "      <td>A</td>\n",
       "      <td>2019-08-01 00:08:55</td>\n",
       "      <td>2019-08-01</td>\n",
       "    </tr>\n",
       "    <tr>\n",
       "      <th>2831</th>\n",
       "      <td>OffersScreenAppear</td>\n",
       "      <td>3737462046622621720</td>\n",
       "      <td>2019-08-01 00:08:58</td>\n",
       "      <td>246</td>\n",
       "      <td>A</td>\n",
       "      <td>2019-08-01 00:08:58</td>\n",
       "      <td>2019-08-01</td>\n",
       "    </tr>\n",
       "    <tr>\n",
       "      <th>2832</th>\n",
       "      <td>MainScreenAppear</td>\n",
       "      <td>1433840883824088890</td>\n",
       "      <td>2019-08-01 00:08:59</td>\n",
       "      <td>247</td>\n",
       "      <td>A</td>\n",
       "      <td>2019-08-01 00:08:59</td>\n",
       "      <td>2019-08-01</td>\n",
       "    </tr>\n",
       "  </tbody>\n",
       "</table>\n",
       "</div>"
      ],
      "text/plain": [
       "           nombre_evento              usuario      hora_de_evento  \\\n",
       "2828            Tutorial  3737462046622621720 2019-08-01 00:07:28   \n",
       "2829    MainScreenAppear  3737462046622621720 2019-08-01 00:08:00   \n",
       "2830    MainScreenAppear  3737462046622621720 2019-08-01 00:08:55   \n",
       "2831  OffersScreenAppear  3737462046622621720 2019-08-01 00:08:58   \n",
       "2832    MainScreenAppear  1433840883824088890 2019-08-01 00:08:59   \n",
       "\n",
       "      experimento grupo          fecha_hora      fecha  \n",
       "2828          246     A 2019-08-01 00:07:28 2019-08-01  \n",
       "2829          246     A 2019-08-01 00:08:00 2019-08-01  \n",
       "2830          246     A 2019-08-01 00:08:55 2019-08-01  \n",
       "2831          246     A 2019-08-01 00:08:58 2019-08-01  \n",
       "2832          247     A 2019-08-01 00:08:59 2019-08-01  "
      ]
     },
     "execution_count": 19,
     "metadata": {},
     "output_type": "execute_result"
    }
   ],
   "source": [
    "log['fecha'] = pd.to_datetime(log['fecha'])\n",
    "log_nuevas_fechas = log[(log['fecha'] < '2019-07-25') | (log['fecha'] > '2019-07-31')]\n",
    "log_nuevas_fechas.head()"
   ]
  },
  {
   "cell_type": "code",
   "execution_count": 20,
   "id": "d91188d3-a2c1-48b6-ba9c-f79d2d3eb517",
   "metadata": {},
   "outputs": [
    {
     "data": {
      "text/plain": [
       "array([246, 247, 248])"
      ]
     },
     "execution_count": 20,
     "metadata": {},
     "output_type": "execute_result"
    }
   ],
   "source": [
    "log_nuevas_fechas['experimento'].unique()"
   ]
  },
  {
   "cell_type": "code",
   "execution_count": 21,
   "id": "fe5be152-6fb2-460d-8f18-9f2420041aa4",
   "metadata": {},
   "outputs": [
    {
     "name": "stdout",
     "output_type": "stream",
     "text": [
      "valor_minimo en fecha_hora : 2019-08-01 00:07:28\n",
      "valor_maximo en fecha_hora: 2019-08-07 21:15:17\n",
      "El periodo de tiempo cubierto por las nuevas fechas es desde 2019-07-25 04:43:36 hasta 2019-08-07 21:15:17.\n"
     ]
    }
   ],
   "source": [
    "print(f'valor_minimo en fecha_hora : {log_nuevas_fechas[\"hora_de_evento\"].min()}')\n",
    "print(f'valor_maximo en fecha_hora: {log_nuevas_fechas[\"hora_de_evento\"].max()}')\n",
    "print(f\"El periodo de tiempo cubierto por las nuevas fechas es desde {fecha_inicio} hasta {fecha_fin}.\")"
   ]
  },
  {
   "cell_type": "markdown",
   "id": "fae7ee83-1f5c-4fdc-9bc0-6991e4acb12a",
   "metadata": {},
   "source": [
    "Al realizar un filtro para trabajar con los nuevos periodos de fechas hemos perdido cierto valores del data set original, apesar de esto aun podemos trabajar con estos datos ya que aun contamos con los tres grupos experimentales por los cual de momento aun podemos continuar con el analisis"
   ]
  },
  {
   "cell_type": "code",
   "execution_count": 22,
   "id": "084d8791-380d-4d5b-b4a4-2972579b0372",
   "metadata": {},
   "outputs": [
    {
     "data": {
      "image/png": "[encoded data removed]",
      "text/plain": [
       "<Figure size 1000x600 with 1 Axes>"
      ]
     },
     "metadata": {},
     "output_type": "display_data"
    }
   ],
   "source": [
    "plt.figure(figsize=(10, 6))\n",
    "log_nuevas_fechas['fecha_hora'].hist(bins=10, color='skyblue', edgecolor='black')\n",
    "\n",
    "# Personalizar el gráfico\n",
    "plt.title('Histograma de Eventos por Fecha y Hora')\n",
    "plt.ylabel('Frecuencia de Eventos')\n",
    "plt.xticks(rotation=45)\n",
    "plt.tight_layout()\n",
    "plt.show()"
   ]
  },
  {
   "cell_type": "markdown",
   "id": "fc021e73-43ef-4ec4-8984-63c5df12413d",
   "metadata": {},
   "source": [
    "con las nuevas fechas de estudios podemos observar en el histograma que la informacion es mas consistente y ya no existe un sesgo tan grande como se mostro en la grafica anterior, a pesar de que si se perdio parte de los datos aun contamos con los tres grupos experimentales por lo cual analizaremos este nuevo perido de fecha que es del 2019-08-01 al 2019-08-08."
   ]
  },
  {
   "cell_type": "code",
   "execution_count": 23,
   "id": "3ac00948-8c6b-42bd-9cb4-5cb29fdf15e3",
   "metadata": {},
   "outputs": [
    {
     "data": {
      "text/plain": [
       "MainScreenAppear           117431\n",
       "OffersScreenAppear          46350\n",
       "CartScreenAppear            42365\n",
       "PaymentScreenSuccessful     34113\n",
       "Tutorial                     1039\n",
       "Name: nombre_evento, dtype: int64"
      ]
     },
     "execution_count": 23,
     "metadata": {},
     "output_type": "execute_result"
    }
   ],
   "source": [
    "event_frequency = log_nuevas_fechas[\"nombre_evento\"].value_counts()\n",
    "event_frequency"
   ]
  },
  {
   "cell_type": "code",
   "execution_count": 24,
   "id": "c00e7feb-1859-4006-b60d-f5faecf6bd66",
   "metadata": {},
   "outputs": [
    {
     "data": {
      "text/html": [
       "<div>\n",
       "<style scoped>\n",
       "    .dataframe tbody tr th:only-of-type {\n",
       "        vertical-align: middle;\n",
       "    }\n",
       "\n",
       "    .dataframe tbody tr th {\n",
       "        vertical-align: top;\n",
       "    }\n",
       "\n",
       "    .dataframe thead th {\n",
       "        text-align: right;\n",
       "    }\n",
       "</style>\n",
       "<table border=\"1\" class=\"dataframe\">\n",
       "  <thead>\n",
       "    <tr style=\"text-align: right;\">\n",
       "      <th></th>\n",
       "      <th>nombre_evento</th>\n",
       "      <th>n_eventos</th>\n",
       "      <th>n_usuarios</th>\n",
       "    </tr>\n",
       "  </thead>\n",
       "  <tbody>\n",
       "    <tr>\n",
       "      <th>0</th>\n",
       "      <td>MainScreenAppear</td>\n",
       "      <td>117431</td>\n",
       "      <td>7419</td>\n",
       "    </tr>\n",
       "    <tr>\n",
       "      <th>1</th>\n",
       "      <td>OffersScreenAppear</td>\n",
       "      <td>46350</td>\n",
       "      <td>4593</td>\n",
       "    </tr>\n",
       "    <tr>\n",
       "      <th>2</th>\n",
       "      <td>CartScreenAppear</td>\n",
       "      <td>42365</td>\n",
       "      <td>3734</td>\n",
       "    </tr>\n",
       "    <tr>\n",
       "      <th>3</th>\n",
       "      <td>PaymentScreenSuccessful</td>\n",
       "      <td>34113</td>\n",
       "      <td>3539</td>\n",
       "    </tr>\n",
       "    <tr>\n",
       "      <th>4</th>\n",
       "      <td>Tutorial</td>\n",
       "      <td>1039</td>\n",
       "      <td>840</td>\n",
       "    </tr>\n",
       "  </tbody>\n",
       "</table>\n",
       "</div>"
      ],
      "text/plain": [
       "             nombre_evento  n_eventos  n_usuarios\n",
       "0         MainScreenAppear     117431        7419\n",
       "1       OffersScreenAppear      46350        4593\n",
       "2         CartScreenAppear      42365        3734\n",
       "3  PaymentScreenSuccessful      34113        3539\n",
       "4                 Tutorial       1039         840"
      ]
     },
     "execution_count": 24,
     "metadata": {},
     "output_type": "execute_result"
    }
   ],
   "source": [
    "frecuencia_de_eventos = log_nuevas_fechas.groupby('nombre_evento')['usuario'].agg(['count', 'nunique'])\n",
    "frecuencia_de_eventos.columns=['n_eventos', 'n_usuarios']\n",
    "frecuencia_de_eventos.sort_values(by='n_usuarios', ascending = False).reset_index()"
   ]
  },
  {
   "cell_type": "code",
   "execution_count": 25,
   "id": "0aec7540-9de0-45e3-b3e6-dbf4f1c771bb",
   "metadata": {},
   "outputs": [
    {
     "data": {
      "text/html": [
       "<div>\n",
       "<style scoped>\n",
       "    .dataframe tbody tr th:only-of-type {\n",
       "        vertical-align: middle;\n",
       "    }\n",
       "\n",
       "    .dataframe tbody tr th {\n",
       "        vertical-align: top;\n",
       "    }\n",
       "\n",
       "    .dataframe thead th {\n",
       "        text-align: right;\n",
       "    }\n",
       "</style>\n",
       "<table border=\"1\" class=\"dataframe\">\n",
       "  <thead>\n",
       "    <tr style=\"text-align: right;\">\n",
       "      <th></th>\n",
       "      <th>nombre_evento</th>\n",
       "      <th>n_eventos</th>\n",
       "      <th>n_usuarios</th>\n",
       "      <th>sesiones_por_evento</th>\n",
       "    </tr>\n",
       "  </thead>\n",
       "  <tbody>\n",
       "    <tr>\n",
       "      <th>0</th>\n",
       "      <td>CartScreenAppear</td>\n",
       "      <td>42365</td>\n",
       "      <td>3734</td>\n",
       "      <td>11.345742</td>\n",
       "    </tr>\n",
       "    <tr>\n",
       "      <th>1</th>\n",
       "      <td>MainScreenAppear</td>\n",
       "      <td>117431</td>\n",
       "      <td>7419</td>\n",
       "      <td>15.828414</td>\n",
       "    </tr>\n",
       "    <tr>\n",
       "      <th>2</th>\n",
       "      <td>OffersScreenAppear</td>\n",
       "      <td>46350</td>\n",
       "      <td>4593</td>\n",
       "      <td>10.091444</td>\n",
       "    </tr>\n",
       "    <tr>\n",
       "      <th>3</th>\n",
       "      <td>PaymentScreenSuccessful</td>\n",
       "      <td>34113</td>\n",
       "      <td>3539</td>\n",
       "      <td>9.639164</td>\n",
       "    </tr>\n",
       "    <tr>\n",
       "      <th>4</th>\n",
       "      <td>Tutorial</td>\n",
       "      <td>1039</td>\n",
       "      <td>840</td>\n",
       "      <td>1.236905</td>\n",
       "    </tr>\n",
       "  </tbody>\n",
       "</table>\n",
       "</div>"
      ],
      "text/plain": [
       "             nombre_evento  n_eventos  n_usuarios  sesiones_por_evento\n",
       "0         CartScreenAppear      42365        3734            11.345742\n",
       "1         MainScreenAppear     117431        7419            15.828414\n",
       "2       OffersScreenAppear      46350        4593            10.091444\n",
       "3  PaymentScreenSuccessful      34113        3539             9.639164\n",
       "4                 Tutorial       1039         840             1.236905"
      ]
     },
     "execution_count": 25,
     "metadata": {},
     "output_type": "execute_result"
    }
   ],
   "source": [
    "frecuencia_de_eventos['sesiones_por_evento'] = frecuencia_de_eventos['n_eventos'] / frecuencia_de_eventos['n_usuarios']\n",
    "frecuencia_de_eventos.reset_index()"
   ]
  },
  {
   "cell_type": "code",
   "execution_count": 26,
   "id": "8c5970a2-c660-40d8-9e0a-026d51e3ef43",
   "metadata": {},
   "outputs": [
    {
     "data": {
      "text/html": [
       "<div>\n",
       "<style scoped>\n",
       "    .dataframe tbody tr th:only-of-type {\n",
       "        vertical-align: middle;\n",
       "    }\n",
       "\n",
       "    .dataframe tbody tr th {\n",
       "        vertical-align: top;\n",
       "    }\n",
       "\n",
       "    .dataframe thead th {\n",
       "        text-align: right;\n",
       "    }\n",
       "</style>\n",
       "<table border=\"1\" class=\"dataframe\">\n",
       "  <thead>\n",
       "    <tr style=\"text-align: right;\">\n",
       "      <th></th>\n",
       "      <th>nombre_evento</th>\n",
       "      <th>n_eventos</th>\n",
       "      <th>n_usuarios</th>\n",
       "      <th>sesiones_por_evento</th>\n",
       "      <th>proporcion_usuarios</th>\n",
       "    </tr>\n",
       "  </thead>\n",
       "  <tbody>\n",
       "    <tr>\n",
       "      <th>0</th>\n",
       "      <td>CartScreenAppear</td>\n",
       "      <td>42365</td>\n",
       "      <td>3734</td>\n",
       "      <td>11.345742</td>\n",
       "      <td>0.495620</td>\n",
       "    </tr>\n",
       "    <tr>\n",
       "      <th>1</th>\n",
       "      <td>MainScreenAppear</td>\n",
       "      <td>117431</td>\n",
       "      <td>7419</td>\n",
       "      <td>15.828414</td>\n",
       "      <td>0.984736</td>\n",
       "    </tr>\n",
       "    <tr>\n",
       "      <th>2</th>\n",
       "      <td>OffersScreenAppear</td>\n",
       "      <td>46350</td>\n",
       "      <td>4593</td>\n",
       "      <td>10.091444</td>\n",
       "      <td>0.609636</td>\n",
       "    </tr>\n",
       "    <tr>\n",
       "      <th>3</th>\n",
       "      <td>PaymentScreenSuccessful</td>\n",
       "      <td>34113</td>\n",
       "      <td>3539</td>\n",
       "      <td>9.639164</td>\n",
       "      <td>0.469737</td>\n",
       "    </tr>\n",
       "    <tr>\n",
       "      <th>4</th>\n",
       "      <td>Tutorial</td>\n",
       "      <td>1039</td>\n",
       "      <td>840</td>\n",
       "      <td>1.236905</td>\n",
       "      <td>0.111495</td>\n",
       "    </tr>\n",
       "  </tbody>\n",
       "</table>\n",
       "</div>"
      ],
      "text/plain": [
       "             nombre_evento  n_eventos  n_usuarios  sesiones_por_evento  \\\n",
       "0         CartScreenAppear      42365        3734            11.345742   \n",
       "1         MainScreenAppear     117431        7419            15.828414   \n",
       "2       OffersScreenAppear      46350        4593            10.091444   \n",
       "3  PaymentScreenSuccessful      34113        3539             9.639164   \n",
       "4                 Tutorial       1039         840             1.236905   \n",
       "\n",
       "   proporcion_usuarios  \n",
       "0             0.495620  \n",
       "1             0.984736  \n",
       "2             0.609636  \n",
       "3             0.469737  \n",
       "4             0.111495  "
      ]
     },
     "execution_count": 26,
     "metadata": {},
     "output_type": "execute_result"
    }
   ],
   "source": [
    "total_usuarios_unicos = log_nuevas_fechas['usuario'].nunique()\n",
    "\n",
    "# Calcular la proporción de usuarios que realizaron cada acción\n",
    "frecuencia_de_eventos['proporcion_usuarios'] = frecuencia_de_eventos['n_usuarios'] / total_usuarios_unicos\n",
    "\n",
    "frecuencia_de_eventos.reset_index()"
   ]
  },
  {
   "cell_type": "code",
   "execution_count": 27,
   "id": "fbc4de57-9937-4acc-8a63-c4bad748a8fb",
   "metadata": {},
   "outputs": [
    {
     "data": {
      "image/png": "[encoded data removed]",
      "text/plain": [
       "<Figure size 640x480 with 1 Axes>"
      ]
     },
     "metadata": {},
     "output_type": "display_data"
    }
   ],
   "source": [
    "plt.figsize=(12,5)\n",
    "frecuencia_de_eventos[\"sesiones_por_evento\"].plot(kind=\"bar\", ylabel = 'proporcion_usuarios', color=\"skyblue\")\n",
    "plt.legend()\n",
    "plt.xticks(rotation = 30)\n",
    "plt.show()"
   ]
  },
  {
   "cell_type": "markdown",
   "id": "9d0f02fe-8596-48db-bf2d-763f7064e2ce",
   "metadata": {},
   "source": [
    "Como se observa en la grafica tenemos la cantidad por evento, respecto a la proporcion del numero de usuarios, donde se muestra los difenrentes eventos y cuales de estos han sido mas utilizados por los usuaios"
   ]
  },
  {
   "cell_type": "code",
   "execution_count": 28,
   "id": "b20c4ead-e398-4a18-9a14-a7efef1d6148",
   "metadata": {},
   "outputs": [
    {
     "data": {
      "text/html": [
       "<div>\n",
       "<style scoped>\n",
       "    .dataframe tbody tr th:only-of-type {\n",
       "        vertical-align: middle;\n",
       "    }\n",
       "\n",
       "    .dataframe tbody tr th {\n",
       "        vertical-align: top;\n",
       "    }\n",
       "\n",
       "    .dataframe thead th {\n",
       "        text-align: right;\n",
       "    }\n",
       "</style>\n",
       "<table border=\"1\" class=\"dataframe\">\n",
       "  <thead>\n",
       "    <tr style=\"text-align: right;\">\n",
       "      <th></th>\n",
       "      <th>nombre_evento</th>\n",
       "      <th>n_eventos</th>\n",
       "      <th>n_usuarios</th>\n",
       "      <th>sesiones_por_evento</th>\n",
       "      <th>proporcion_usuarios</th>\n",
       "      <th>proporcion_retenidos</th>\n",
       "    </tr>\n",
       "  </thead>\n",
       "  <tbody>\n",
       "    <tr>\n",
       "      <th>0</th>\n",
       "      <td>MainScreenAppear</td>\n",
       "      <td>117431</td>\n",
       "      <td>7419</td>\n",
       "      <td>15.828414</td>\n",
       "      <td>0.984736</td>\n",
       "      <td>0.619086</td>\n",
       "    </tr>\n",
       "    <tr>\n",
       "      <th>1</th>\n",
       "      <td>OffersScreenAppear</td>\n",
       "      <td>46350</td>\n",
       "      <td>4593</td>\n",
       "      <td>10.091444</td>\n",
       "      <td>0.609636</td>\n",
       "      <td>0.812976</td>\n",
       "    </tr>\n",
       "    <tr>\n",
       "      <th>2</th>\n",
       "      <td>CartScreenAppear</td>\n",
       "      <td>42365</td>\n",
       "      <td>3734</td>\n",
       "      <td>11.345742</td>\n",
       "      <td>0.495620</td>\n",
       "      <td>0.947777</td>\n",
       "    </tr>\n",
       "    <tr>\n",
       "      <th>3</th>\n",
       "      <td>Tutorial</td>\n",
       "      <td>1039</td>\n",
       "      <td>840</td>\n",
       "      <td>1.236905</td>\n",
       "      <td>0.111495</td>\n",
       "      <td>8.832143</td>\n",
       "    </tr>\n",
       "    <tr>\n",
       "      <th>4</th>\n",
       "      <td>PaymentScreenSuccessful</td>\n",
       "      <td>34113</td>\n",
       "      <td>3539</td>\n",
       "      <td>9.639164</td>\n",
       "      <td>0.469737</td>\n",
       "      <td>NaN</td>\n",
       "    </tr>\n",
       "  </tbody>\n",
       "</table>\n",
       "</div>"
      ],
      "text/plain": [
       "             nombre_evento  n_eventos  n_usuarios  sesiones_por_evento  \\\n",
       "0         MainScreenAppear     117431        7419            15.828414   \n",
       "1       OffersScreenAppear      46350        4593            10.091444   \n",
       "2         CartScreenAppear      42365        3734            11.345742   \n",
       "3                 Tutorial       1039         840             1.236905   \n",
       "4  PaymentScreenSuccessful      34113        3539             9.639164   \n",
       "\n",
       "   proporcion_usuarios  proporcion_retenidos  \n",
       "0             0.984736              0.619086  \n",
       "1             0.609636              0.812976  \n",
       "2             0.495620              0.947777  \n",
       "3             0.111495              8.832143  \n",
       "4             0.469737                   NaN  "
      ]
     },
     "execution_count": 28,
     "metadata": {},
     "output_type": "execute_result"
    }
   ],
   "source": [
    "orden_embudo = [\n",
    "    'Tutorial',\n",
    "    'MainScreenAppear',\n",
    "    'OffersScreenAppear',\n",
    "    'CartScreenAppear',\n",
    "    'PaymentScreenSuccessful',\n",
    "]\n",
    "\n",
    "# Filtrar el DataFrame por los eventos del embudo y ordenarlos\n",
    "embudo = frecuencia_de_eventos.loc[orden_embudo].copy()\n",
    "\n",
    "# Calcular la proporción de retención entre etapas\n",
    "embudo['proporcion_retenidos'] = embudo['n_usuarios'].shift(-1) / embudo['n_usuarios']\n",
    "\n",
    "# Mostrar el embudo con las proporciones calculadas\n",
    "embudo.sort_values(by = 'proporcion_retenidos').reset_index()"
   ]
  },
  {
   "cell_type": "code",
   "execution_count": 29,
   "id": "01906acc-311c-4e4a-82c9-c8cccdbd4dc2",
   "metadata": {},
   "outputs": [
    {
     "data": {
      "image/png": "[encoded data removed]",
      "text/plain": [
       "<Figure size 1000x600 with 1 Axes>"
      ]
     },
     "metadata": {},
     "output_type": "display_data"
    }
   ],
   "source": [
    "eventos = ['MainScreenAppear', 'OffersScreenAppear', 'CartScreenAppear', 'PaymentScreenSuccessful']\n",
    "proporcion_retenidos = [0.619086, 0.812976, 0.947777, 0.237355]\n",
    "\n",
    "# Crear la gráfica\n",
    "plt.figure(figsize=(10, 6))\n",
    "plt.bar(eventos, proporcion_retenidos, color='skyblue', edgecolor='black')\n",
    "\n",
    "# Personalizar el gráfico\n",
    "plt.title('Proporción de usuarios retenidos por evento', fontsize=14)\n",
    "plt.xlabel('Nombre del evento', fontsize=12)\n",
    "plt.ylabel('Proporción de retenidos', fontsize=12)\n",
    "plt.ylim(0, 1.1)  # Ajustar el rango del eje Y para una mejor visualización\n",
    "plt.grid(axis='y', linestyle='--', alpha=0.5)\n",
    "\n",
    "# Mostrar la gráfica\n",
    "plt.show()"
   ]
  },
  {
   "cell_type": "markdown",
   "id": "6fd702fb-b61f-4d26-a1da-d10258ea77f2",
   "metadata": {},
   "source": [
    "En la grafica se muetsra la relacion que existe entre la porporsion de usuarios retenidos por evento con respecto a las siguientes etapas ahasta realizar una compra exitosa\n",
    "Como se observa en la grafica, apartir de la pantalla principal se incrementa la proporcion de usuarios retenidos sin embargo \n",
    "la etapa donde mas usuario se pierden es entre la patalla de carrito hacia la pantalla de pago exitoso, es decir que muy pocos usuarios terminan de realizar una compra"
   ]
  },
  {
   "cell_type": "code",
   "execution_count": 31,
   "id": "fba33061",
   "metadata": {},
   "outputs": [
    {
     "name": "stdout",
     "output_type": "stream",
     "text": [
      "Porcentaje de usuarios que completan el viaje: 47.70%\n"
     ]
    }
   ],
   "source": [
    "usuarios_inicio = frecuencia_de_eventos.loc['MainScreenAppear', 'n_usuarios']\n",
    "usuarios_final = frecuencia_de_eventos.loc['PaymentScreenSuccessful', 'n_usuarios']\n",
    "\n",
    "# Calcular el porcentaje\n",
    "porcentaje_completan_compra = (usuarios_final / usuarios_inicio) * 100\n",
    "#print(f\"Porcentaje de usuarios que completan el viaje: {porcentaje_completan_viaje:.2f}%\")\n",
    "print(f\"Porcentaje de usuarios que completan el viaje: {porcentaje_completan_compra:.2f}%\")"
   ]
  },
  {
   "cell_type": "code",
   "execution_count": 33,
   "id": "aca453a0-8b27-4b51-9774-77aefd718402",
   "metadata": {},
   "outputs": [
    {
     "name": "stdout",
     "output_type": "stream",
     "text": [
      "Usuarios que completan el viaje: 3540\n"
     ]
    }
   ],
   "source": [
    "usuarios_inicio = 7419  # Usuarios únicos en MainScreenAppear\n",
    "porcentaje_completan_compra = 47.71  # Porcentaje calculado\n",
    "\n",
    "# Calcular el número de usuarios\n",
    "#usuarios_completan_viaje = usuarios_inicio * (porcentaje_completan_viaje / 100)\n",
    "usuarios_completan_viaje = usuarios_inicio * (porcentaje_completan_compra / 100)\n",
    "print(f\"Usuarios que completan el viaje: {usuarios_completan_viaje:.0f}\")"
   ]
  },
  {
   "cell_type": "markdown",
   "id": "7834050e-bbd8-42e5-a3c1-3bea78808ab2",
   "metadata": {},
   "source": [
    "El pocentaje de usuarios que completan todo el proceso es el 47.7 % es decir de los 7419 usuarios que iniciarion el proceso a partir de la nueva fecha de estudio (2019-08-01), solo 3540 terminaron por realizar el pago"
   ]
  },
  {
   "cell_type": "code",
   "execution_count": 34,
   "id": "89dc2a7f-e840-403a-80ad-d45cc2db03a3",
   "metadata": {},
   "outputs": [
    {
     "data": {
      "text/html": [
       "<div>\n",
       "<style scoped>\n",
       "    .dataframe tbody tr th:only-of-type {\n",
       "        vertical-align: middle;\n",
       "    }\n",
       "\n",
       "    .dataframe tbody tr th {\n",
       "        vertical-align: top;\n",
       "    }\n",
       "\n",
       "    .dataframe thead th {\n",
       "        text-align: right;\n",
       "    }\n",
       "</style>\n",
       "<table border=\"1\" class=\"dataframe\">\n",
       "  <thead>\n",
       "    <tr style=\"text-align: right;\">\n",
       "      <th></th>\n",
       "      <th>nombre_evento</th>\n",
       "      <th>usuario</th>\n",
       "      <th>hora_de_evento</th>\n",
       "      <th>experimento</th>\n",
       "      <th>grupo</th>\n",
       "      <th>fecha_hora</th>\n",
       "      <th>fecha</th>\n",
       "    </tr>\n",
       "  </thead>\n",
       "  <tbody>\n",
       "    <tr>\n",
       "      <th>2828</th>\n",
       "      <td>Tutorial</td>\n",
       "      <td>3737462046622621720</td>\n",
       "      <td>2019-08-01 00:07:28</td>\n",
       "      <td>246</td>\n",
       "      <td>A</td>\n",
       "      <td>2019-08-01 00:07:28</td>\n",
       "      <td>2019-08-01</td>\n",
       "    </tr>\n",
       "    <tr>\n",
       "      <th>2829</th>\n",
       "      <td>MainScreenAppear</td>\n",
       "      <td>3737462046622621720</td>\n",
       "      <td>2019-08-01 00:08:00</td>\n",
       "      <td>246</td>\n",
       "      <td>A</td>\n",
       "      <td>2019-08-01 00:08:00</td>\n",
       "      <td>2019-08-01</td>\n",
       "    </tr>\n",
       "    <tr>\n",
       "      <th>2830</th>\n",
       "      <td>MainScreenAppear</td>\n",
       "      <td>3737462046622621720</td>\n",
       "      <td>2019-08-01 00:08:55</td>\n",
       "      <td>246</td>\n",
       "      <td>A</td>\n",
       "      <td>2019-08-01 00:08:55</td>\n",
       "      <td>2019-08-01</td>\n",
       "    </tr>\n",
       "    <tr>\n",
       "      <th>2831</th>\n",
       "      <td>OffersScreenAppear</td>\n",
       "      <td>3737462046622621720</td>\n",
       "      <td>2019-08-01 00:08:58</td>\n",
       "      <td>246</td>\n",
       "      <td>A</td>\n",
       "      <td>2019-08-01 00:08:58</td>\n",
       "      <td>2019-08-01</td>\n",
       "    </tr>\n",
       "    <tr>\n",
       "      <th>2832</th>\n",
       "      <td>MainScreenAppear</td>\n",
       "      <td>1433840883824088890</td>\n",
       "      <td>2019-08-01 00:08:59</td>\n",
       "      <td>247</td>\n",
       "      <td>A</td>\n",
       "      <td>2019-08-01 00:08:59</td>\n",
       "      <td>2019-08-01</td>\n",
       "    </tr>\n",
       "    <tr>\n",
       "      <th>...</th>\n",
       "      <td>...</td>\n",
       "      <td>...</td>\n",
       "      <td>...</td>\n",
       "      <td>...</td>\n",
       "      <td>...</td>\n",
       "      <td>...</td>\n",
       "      <td>...</td>\n",
       "    </tr>\n",
       "    <tr>\n",
       "      <th>244121</th>\n",
       "      <td>MainScreenAppear</td>\n",
       "      <td>4599628364049201812</td>\n",
       "      <td>2019-08-07 21:12:25</td>\n",
       "      <td>247</td>\n",
       "      <td>A</td>\n",
       "      <td>2019-08-07 21:12:25</td>\n",
       "      <td>2019-08-07</td>\n",
       "    </tr>\n",
       "    <tr>\n",
       "      <th>244122</th>\n",
       "      <td>MainScreenAppear</td>\n",
       "      <td>5849806612437486590</td>\n",
       "      <td>2019-08-07 21:13:59</td>\n",
       "      <td>246</td>\n",
       "      <td>A</td>\n",
       "      <td>2019-08-07 21:13:59</td>\n",
       "      <td>2019-08-07</td>\n",
       "    </tr>\n",
       "    <tr>\n",
       "      <th>244123</th>\n",
       "      <td>MainScreenAppear</td>\n",
       "      <td>5746969938801999050</td>\n",
       "      <td>2019-08-07 21:14:43</td>\n",
       "      <td>246</td>\n",
       "      <td>A</td>\n",
       "      <td>2019-08-07 21:14:43</td>\n",
       "      <td>2019-08-07</td>\n",
       "    </tr>\n",
       "    <tr>\n",
       "      <th>244124</th>\n",
       "      <td>MainScreenAppear</td>\n",
       "      <td>5746969938801999050</td>\n",
       "      <td>2019-08-07 21:14:58</td>\n",
       "      <td>246</td>\n",
       "      <td>A</td>\n",
       "      <td>2019-08-07 21:14:58</td>\n",
       "      <td>2019-08-07</td>\n",
       "    </tr>\n",
       "    <tr>\n",
       "      <th>244125</th>\n",
       "      <td>OffersScreenAppear</td>\n",
       "      <td>5746969938801999050</td>\n",
       "      <td>2019-08-07 21:15:17</td>\n",
       "      <td>246</td>\n",
       "      <td>A</td>\n",
       "      <td>2019-08-07 21:15:17</td>\n",
       "      <td>2019-08-07</td>\n",
       "    </tr>\n",
       "  </tbody>\n",
       "</table>\n",
       "<p>241298 rows × 7 columns</p>\n",
       "</div>"
      ],
      "text/plain": [
       "             nombre_evento              usuario      hora_de_evento  \\\n",
       "2828              Tutorial  3737462046622621720 2019-08-01 00:07:28   \n",
       "2829      MainScreenAppear  3737462046622621720 2019-08-01 00:08:00   \n",
       "2830      MainScreenAppear  3737462046622621720 2019-08-01 00:08:55   \n",
       "2831    OffersScreenAppear  3737462046622621720 2019-08-01 00:08:58   \n",
       "2832      MainScreenAppear  1433840883824088890 2019-08-01 00:08:59   \n",
       "...                    ...                  ...                 ...   \n",
       "244121    MainScreenAppear  4599628364049201812 2019-08-07 21:12:25   \n",
       "244122    MainScreenAppear  5849806612437486590 2019-08-07 21:13:59   \n",
       "244123    MainScreenAppear  5746969938801999050 2019-08-07 21:14:43   \n",
       "244124    MainScreenAppear  5746969938801999050 2019-08-07 21:14:58   \n",
       "244125  OffersScreenAppear  5746969938801999050 2019-08-07 21:15:17   \n",
       "\n",
       "        experimento grupo          fecha_hora      fecha  \n",
       "2828            246     A 2019-08-01 00:07:28 2019-08-01  \n",
       "2829            246     A 2019-08-01 00:08:00 2019-08-01  \n",
       "2830            246     A 2019-08-01 00:08:55 2019-08-01  \n",
       "2831            246     A 2019-08-01 00:08:58 2019-08-01  \n",
       "2832            247     A 2019-08-01 00:08:59 2019-08-01  \n",
       "...             ...   ...                 ...        ...  \n",
       "244121          247     A 2019-08-07 21:12:25 2019-08-07  \n",
       "244122          246     A 2019-08-07 21:13:59 2019-08-07  \n",
       "244123          246     A 2019-08-07 21:14:43 2019-08-07  \n",
       "244124          246     A 2019-08-07 21:14:58 2019-08-07  \n",
       "244125          246     A 2019-08-07 21:15:17 2019-08-07  \n",
       "\n",
       "[241298 rows x 7 columns]"
      ]
     },
     "execution_count": 34,
     "metadata": {},
     "output_type": "execute_result"
    }
   ],
   "source": [
    "log_nuevas_fechas"
   ]
  },
  {
   "cell_type": "code",
   "execution_count": 35,
   "id": "39fb3e0e-fc66-402d-a51b-93d7ec1274d2",
   "metadata": {},
   "outputs": [
    {
     "name": "stdout",
     "output_type": "stream",
     "text": [
      "experimento\n",
      "246    2484\n",
      "247    2513\n",
      "248    2537\n",
      "Name: usuario, dtype: int64\n"
     ]
    }
   ],
   "source": [
    "print(log_nuevas_fechas.groupby('experimento')['usuario'].nunique())"
   ]
  },
  {
   "cell_type": "code",
   "execution_count": 37,
   "id": "5b2dd450-9c08-4b8f-941f-7e2a4ff93b76",
   "metadata": {},
   "outputs": [
    {
     "name": "stdout",
     "output_type": "stream",
     "text": [
      "2828      246\n",
      "2829      246\n",
      "2830      246\n",
      "2831      246\n",
      "2832      247\n",
      "         ... \n",
      "244121    247\n",
      "244122    246\n",
      "244123    246\n",
      "244124    246\n",
      "244125    246\n",
      "Name: experimento, Length: 156572, dtype: int64\n",
      "2828      246\n",
      "2829      246\n",
      "2830      246\n",
      "2831      246\n",
      "2832      247\n",
      "         ... \n",
      "244121    247\n",
      "244122    246\n",
      "244123    246\n",
      "244124    246\n",
      "244125    246\n",
      "Name: experimento, Length: 156572, dtype: int64\n"
     ]
    }
   ],
   "source": [
    "alpha=0.05\n",
    "sample_1 = log_nuevas_fechas.query(\"grupo == 'A'\")[\"experimento\"]\n",
    "print(sample_1)\n",
    "sample_2 = log_nuevas_fechas.query(\"grupo == 'A'\")[\"experimento\"]\n",
    "print(sample_2)"
   ]
  },
  {
   "cell_type": "code",
   "execution_count": 38,
   "id": "13a1b29d-b8c9-4f10-9d7b-e874a6d6f648",
   "metadata": {},
   "outputs": [
    {
     "name": "stdout",
     "output_type": "stream",
     "text": [
      "p-value: 1.0\n",
      "p-value: 1.0\n",
      "No podemos rechazar la hipotesis nula\n"
     ]
    }
   ],
   "source": [
    "from scipy import stats as st\n",
    "\n",
    "resultados=st.ttest_ind(sample_1, sample_2, equal_var=False)\n",
    "resultados_levene=st.levene(sample_1, sample_2)\n",
    "print(f\"p-value: {resultados.pvalue}\")\n",
    "print(f\"p-value: {resultados_levene.pvalue}\")\n",
    "\n",
    "if resultados.pvalue < alpha:\n",
    "    print(\"podemos rechazar la hipotesis nula 1\")\n",
    "else:\n",
    "    print(\"No podemos rechazar la hipotesis nula\")"
   ]
  },
  {
   "cell_type": "markdown",
   "id": "2d62c328-788a-49e5-a743-e6590009140a",
   "metadata": {},
   "source": [
    "El valor-p es muy alto, esto indica que no hay evidencia suficiente para rechazar la hipótesis nula de que las proporciones de eventos entre los grupos 246 y 247 son iguales. En otras palabras, no hay diferencia estadísticamente significativa entre las muestras de los dos grupos."
   ]
  },
  {
   "cell_type": "code",
   "execution_count": 39,
   "id": "d52883d4-ec08-46e6-b324-27b84e1a2fd6",
   "metadata": {},
   "outputs": [
    {
     "data": {
      "text/html": [
       "<div>\n",
       "<style scoped>\n",
       "    .dataframe tbody tr th:only-of-type {\n",
       "        vertical-align: middle;\n",
       "    }\n",
       "\n",
       "    .dataframe tbody tr th {\n",
       "        vertical-align: top;\n",
       "    }\n",
       "\n",
       "    .dataframe thead th {\n",
       "        text-align: right;\n",
       "    }\n",
       "</style>\n",
       "<table border=\"1\" class=\"dataframe\">\n",
       "  <thead>\n",
       "    <tr style=\"text-align: right;\">\n",
       "      <th></th>\n",
       "      <th>nombre_evento</th>\n",
       "      <th>usuario</th>\n",
       "    </tr>\n",
       "  </thead>\n",
       "  <tbody>\n",
       "    <tr>\n",
       "      <th>1</th>\n",
       "      <td>MainScreenAppear</td>\n",
       "      <td>7419</td>\n",
       "    </tr>\n",
       "    <tr>\n",
       "      <th>2</th>\n",
       "      <td>OffersScreenAppear</td>\n",
       "      <td>4593</td>\n",
       "    </tr>\n",
       "    <tr>\n",
       "      <th>0</th>\n",
       "      <td>CartScreenAppear</td>\n",
       "      <td>3734</td>\n",
       "    </tr>\n",
       "    <tr>\n",
       "      <th>3</th>\n",
       "      <td>PaymentScreenSuccessful</td>\n",
       "      <td>3539</td>\n",
       "    </tr>\n",
       "    <tr>\n",
       "      <th>4</th>\n",
       "      <td>Tutorial</td>\n",
       "      <td>840</td>\n",
       "    </tr>\n",
       "  </tbody>\n",
       "</table>\n",
       "</div>"
      ],
      "text/plain": [
       "             nombre_evento  usuario\n",
       "1         MainScreenAppear     7419\n",
       "2       OffersScreenAppear     4593\n",
       "0         CartScreenAppear     3734\n",
       "3  PaymentScreenSuccessful     3539\n",
       "4                 Tutorial      840"
      ]
     },
     "execution_count": 39,
     "metadata": {},
     "output_type": "execute_result"
    }
   ],
   "source": [
    "evento_mas_popular = log_nuevas_fechas.groupby('nombre_evento')['usuario'].nunique().reset_index().sort_values('usuario',ascending = False)\n",
    "evento_mas_popular"
   ]
  },
  {
   "cell_type": "code",
   "execution_count": 40,
   "id": "1907a686-53c5-4684-89be-fc7d0e7b9b68",
   "metadata": {},
   "outputs": [
    {
     "name": "stdout",
     "output_type": "stream",
     "text": [
      "Evento más popular: MainScreenAppear\n",
      "Proporciones por experimento:\n",
      "experimento\n",
      "246    0.986312\n",
      "247    0.985277\n",
      "248    0.982657\n",
      "Name: usuario, dtype: float64\n",
      "Chi-cuadrado: 1.1892664303116052, p-valor: 0.5517649077633189\n",
      "{'evento': 'Tutorial', 'proporciones': experimento\n",
      "246    0.111916\n",
      "247    0.112614\n",
      "248    0.109972\n",
      "Name: usuario, dtype: float64, 'chi2': 0.09560801675198974, 'p_valor': 0.9533206116237533}\n",
      "{'evento': 'MainScreenAppear', 'proporciones': experimento\n",
      "246    0.986312\n",
      "247    0.985277\n",
      "248    0.982657\n",
      "Name: usuario, dtype: float64, 'chi2': 1.1892664303116052, 'p_valor': 0.5517649077633189}\n",
      "{'evento': 'OffersScreenAppear', 'proporciones': experimento\n",
      "246    0.620773\n",
      "247    0.604855\n",
      "248    0.603469\n",
      "Name: usuario, dtype: float64, 'chi2': 1.9415079158816568, 'p_valor': 0.37879733315487885}\n",
      "{'evento': 'CartScreenAppear', 'proporciones': experimento\n",
      "246    0.509662\n",
      "247    0.492638\n",
      "248    0.484825\n",
      "Name: usuario, dtype: float64, 'chi2': 3.2313847242665346, 'p_valor': 0.19875301373159177}\n",
      "{'evento': 'PaymentScreenSuccessful', 'proporciones': experimento\n",
      "246    0.483092\n",
      "247    0.460804\n",
      "248    0.465510\n",
      "Name: usuario, dtype: float64, 'chi2': 2.765668853861104, 'p_valor': 0.25086648166771}\n"
     ]
    }
   ],
   "source": [
    "import pandas as pd\n",
    "from scipy.stats import chi2_contingency\n",
    "\n",
    "# Paso 1: Identificar el evento más popular\n",
    "event_counts = log_nuevas_fechas['nombre_evento'].value_counts()\n",
    "most_popular_event = event_counts.idxmax()\n",
    "\n",
    "# Paso 2: Filtrar por el evento más popular y contar usuarios únicos por experimento\n",
    "popular_event_data = log_nuevas_fechas[log_nuevas_fechas['nombre_evento'] == most_popular_event]\n",
    "user_counts = popular_event_data.groupby(['experimento'])['usuario'].nunique()\n",
    "\n",
    "# Paso 3: Calcular proporciones\n",
    "total_users_by_experiment = log_nuevas_fechas.groupby('experimento')['usuario'].nunique()\n",
    "proportions = user_counts / total_users_by_experiment\n",
    "\n",
    "# Paso 4: Comparar estadísticamente (Chi-cuadrado)\n",
    "contingency_table = pd.DataFrame({\n",
    "    'Realizaron Evento': user_counts,\n",
    "    'No Realizaron Evento': total_users_by_experiment - user_counts\n",
    "}).T\n",
    "\n",
    "chi2, p, _, _ = chi2_contingency(contingency_table)\n",
    "\n",
    "# Resultado del análisis para el evento más popular\n",
    "print(f\"Evento más popular: {most_popular_event}\")\n",
    "print(f\"Proporciones por experimento:\\n{proportions}\")\n",
    "print(f\"Chi-cuadrado: {chi2}, p-valor: {p}\")\n",
    "\n",
    "# Paso 5: Crear una función para repetir el análisis para cualquier evento\n",
    "def analyze_event_by_experiment(event_name, data):\n",
    "    event_data = data[data['nombre_evento'] == event_name]\n",
    "    user_counts = event_data.groupby('experimento')['usuario'].nunique()\n",
    "    total_users_by_experiment = data.groupby('experimento')['usuario'].nunique()\n",
    "    proportions = user_counts / total_users_by_experiment\n",
    "    contingency_table = pd.DataFrame({\n",
    "        'Realizaron Evento': user_counts,\n",
    "        'No Realizaron Evento': total_users_by_experiment - user_counts\n",
    "    }).T\n",
    "    chi2, p, _, _ = chi2_contingency(contingency_table)\n",
    "    return {\n",
    "        'evento': event_name,\n",
    "        'proporciones': proportions,\n",
    "        'chi2': chi2,\n",
    "        'p_valor': p\n",
    "    }\n",
    "\n",
    "# Repetir para todos los eventos\n",
    "results = [analyze_event_by_experiment(event, log_nuevas_fechas) for event in log_nuevas_fechas['nombre_evento'].unique()]\n",
    "\n",
    "# Mostrar los resultados\n",
    "for result in results:\n",
    "    print(result)"
   ]
  },
  {
   "cell_type": "markdown",
   "id": "061fa83a-1540-436b-93a0-ec35e5e4cbea",
   "metadata": {},
   "source": [
    "El evento más frecuente es MainScreenAppear. El p-valor es 0.55, lo que indica que no hay una diferencia estadísticamente significativa entre los tres experimentos para este evento.\n",
    "\n",
    "Tutorial: con un p-valor de 0.95, lo que indica que no hay diferencias significativas entre los experimentos para este evento.\n",
    "\n",
    "OffersScreenAppear: el p-valor de 0.38 también indica que no hay diferencias significativas.\n",
    "\n",
    "CartScreenAppear: el p-valor de 0.20 indica que la diferencia no es estadísticamente significativa.\n",
    "\n",
    "PaymentScreenSuccessful: el p-valor de 0.25 muestra que no hay evidencia suficiente para afirmar que haya diferencias significativas."
   ]
  },
  {
   "cell_type": "code",
   "execution_count": 41,
   "id": "f34d8e29-0640-48e2-b271-6a4acfbe2d7e",
   "metadata": {},
   "outputs": [
    {
     "name": "stdout",
     "output_type": "stream",
     "text": [
      "Resultados para el grupo de control:\n",
      "{'evento': 'Tutorial', 'proporciones': experimento\n",
      "246    0.111916\n",
      "Name: usuario, dtype: float64, 'chi2': 0.0, 'p_valor': 1.0}\n",
      "{'evento': 'MainScreenAppear', 'proporciones': experimento\n",
      "246    0.986312\n",
      "Name: usuario, dtype: float64, 'chi2': 0.0, 'p_valor': 1.0}\n",
      "{'evento': 'OffersScreenAppear', 'proporciones': experimento\n",
      "246    0.620773\n",
      "Name: usuario, dtype: float64, 'chi2': 0.0, 'p_valor': 1.0}\n",
      "{'evento': 'CartScreenAppear', 'proporciones': experimento\n",
      "246    0.509662\n",
      "Name: usuario, dtype: float64, 'chi2': 0.0, 'p_valor': 1.0}\n",
      "{'evento': 'PaymentScreenSuccessful', 'proporciones': experimento\n",
      "246    0.483092\n",
      "Name: usuario, dtype: float64, 'chi2': 0.0, 'p_valor': 1.0}\n",
      "\n",
      "Resultados para los experimentos con fuentes alteradas (246, 247, 248):\n",
      "{'evento': 'Tutorial', 'proporciones': experimento\n",
      "246    0.111916\n",
      "247    0.112614\n",
      "248    0.109972\n",
      "Name: usuario, dtype: float64, 'chi2': 0.09560801675198974, 'p_valor': 0.9533206116237533}\n",
      "{'evento': 'MainScreenAppear', 'proporciones': experimento\n",
      "246    0.986312\n",
      "247    0.985277\n",
      "248    0.982657\n",
      "Name: usuario, dtype: float64, 'chi2': 1.1892664303116052, 'p_valor': 0.5517649077633189}\n",
      "{'evento': 'OffersScreenAppear', 'proporciones': experimento\n",
      "246    0.620773\n",
      "247    0.604855\n",
      "248    0.603469\n",
      "Name: usuario, dtype: float64, 'chi2': 1.9415079158816568, 'p_valor': 0.37879733315487885}\n",
      "{'evento': 'CartScreenAppear', 'proporciones': experimento\n",
      "246    0.509662\n",
      "247    0.492638\n",
      "248    0.484825\n",
      "Name: usuario, dtype: float64, 'chi2': 3.2313847242665346, 'p_valor': 0.19875301373159177}\n",
      "{'evento': 'PaymentScreenSuccessful', 'proporciones': experimento\n",
      "246    0.483092\n",
      "247    0.460804\n",
      "248    0.465510\n",
      "Name: usuario, dtype: float64, 'chi2': 2.765668853861104, 'p_valor': 0.25086648166771}\n",
      "\n",
      "Resultados combinados para los grupos de control:\n",
      "{'evento': 'Tutorial', 'proporciones': experimento\n",
      "246    0.111916\n",
      "Name: usuario, dtype: float64, 'chi2': 0.0, 'p_valor': 1.0}\n",
      "{'evento': 'MainScreenAppear', 'proporciones': experimento\n",
      "246    0.986312\n",
      "Name: usuario, dtype: float64, 'chi2': 0.0, 'p_valor': 1.0}\n",
      "{'evento': 'OffersScreenAppear', 'proporciones': experimento\n",
      "246    0.620773\n",
      "Name: usuario, dtype: float64, 'chi2': 0.0, 'p_valor': 1.0}\n",
      "{'evento': 'CartScreenAppear', 'proporciones': experimento\n",
      "246    0.509662\n",
      "Name: usuario, dtype: float64, 'chi2': 0.0, 'p_valor': 1.0}\n",
      "{'evento': 'PaymentScreenSuccessful', 'proporciones': experimento\n",
      "246    0.483092\n",
      "Name: usuario, dtype: float64, 'chi2': 0.0, 'p_valor': 1.0}\n"
     ]
    }
   ],
   "source": [
    "experimento = [246, 247, 248] \n",
    "control = [246]\n",
    "\n",
    "altered_data = log_nuevas_fechas[log_nuevas_fechas['experimento'].isin(experimento)]\n",
    "\n",
    "\n",
    "control_data = log_nuevas_fechas[log_nuevas_fechas['experimento'].isin(control)]\n",
    "\n",
    "\n",
    "def analyze_event_by_experiment(event_name, data):\n",
    "    event_data = data[data['nombre_evento'] == event_name]\n",
    "    user_counts = event_data.groupby('experimento')['usuario'].nunique()\n",
    "    total_users_by_experiment = data.groupby('experimento')['usuario'].nunique()\n",
    "    proportions = user_counts / total_users_by_experiment\n",
    "    contingency_table = pd.DataFrame({\n",
    "        'Realizaron Evento': user_counts,\n",
    "        'No Realizaron Evento': total_users_by_experiment - user_counts\n",
    "    }).T\n",
    "    chi2, p, _, _ = chi2_contingency(contingency_table)\n",
    "    return {\n",
    "        'evento': event_name,\n",
    "        'proporciones': proportions,\n",
    "        'chi2': chi2,\n",
    "        'p_valor': p\n",
    "    }\n",
    "\n",
    "\n",
    "control_results = [analyze_event_by_experiment(event, control_data) for event in log_nuevas_fechas['nombre_evento'].unique()]\n",
    "\n",
    "altered_results = [analyze_event_by_experiment(event, altered_data) for event in log_nuevas_fechas['nombre_evento'].unique()]\n",
    "\n",
    "combined_control_data = log_nuevas_fechas[log_nuevas_fechas['experimento'] == 246]\n",
    "combined_control_results = [analyze_event_by_experiment(event, combined_control_data) for event in log_nuevas_fechas['nombre_evento'].unique()]\n",
    "\n",
    "print(\"Resultados para el grupo de control:\")\n",
    "for result in control_results:\n",
    "    print(result)\n",
    "\n",
    "print(\"\\nResultados para los experimentos con fuentes alteradas (246, 247, 248):\")\n",
    "for result in altered_results:\n",
    "    print(result)\n",
    "\n",
    "print(\"\\nResultados combinados para los grupos de control:\")\n",
    "for result in combined_control_results:\n",
    "    print(result)"
   ]
  },
  {
   "cell_type": "markdown",
   "id": "f89db30a-085a-40a1-82cc-dd0aa49446fe",
   "metadata": {},
   "source": [
    "Tutorial: p-valor = 0.953, lo que indica que no hay diferencias significativas entre los experimentos (246, 247, 248) respecto a este evento.\n",
    "\n",
    "MainScreenAppear: p-valor = 0.552, lo que indica que las diferencias entre los experimentos tampoco son estadísticamente significativas.\n",
    "\n",
    "OffersScreenAppear: p-valor = 0.379, similarmente no hay diferencias significativas entre los experimentos.\n",
    "\n",
    "CartScreenAppear p-valor = 0.199, no hay diferencias significativas.\n",
    "\n",
    "PaymentScreenSuccessful: p-valor = 0.251, tampoco se encuentran diferencias significativas.\n",
    "\n",
    "Todas las pruebas se han realizado con una significancia de alpha = 0.05"
   ]
  },
  {
   "cell_type": "code",
   "execution_count": 42,
   "id": "38a3b300-95c9-4d60-869f-8f51de200883",
   "metadata": {},
   "outputs": [
    {
     "name": "stdout",
     "output_type": "stream",
     "text": [
      "Evento: Tutorial\n",
      "Proporciones: \n",
      "experimento\n",
      "246    0.111916\n",
      "247    0.112614\n",
      "248    0.109972\n",
      "Name: usuario, dtype: float64\n",
      "Chi-cuadrado: 0.09560801675198974\n",
      "p-valor: 0.9533206116237533\n",
      "Nivel de significancia ajustado (Bonferroni): 0.02\n",
      "Conclusión: No rechazamos H0\n",
      "--------------------------------------------------\n",
      "Evento: MainScreenAppear\n",
      "Proporciones: \n",
      "experimento\n",
      "246    0.986312\n",
      "247    0.985277\n",
      "248    0.982657\n",
      "Name: usuario, dtype: float64\n",
      "Chi-cuadrado: 1.1892664303116052\n",
      "p-valor: 0.5517649077633189\n",
      "Nivel de significancia ajustado (Bonferroni): 0.02\n",
      "Conclusión: No rechazamos H0\n",
      "--------------------------------------------------\n",
      "Evento: OffersScreenAppear\n",
      "Proporciones: \n",
      "experimento\n",
      "246    0.620773\n",
      "247    0.604855\n",
      "248    0.603469\n",
      "Name: usuario, dtype: float64\n",
      "Chi-cuadrado: 1.9415079158816568\n",
      "p-valor: 0.37879733315487885\n",
      "Nivel de significancia ajustado (Bonferroni): 0.02\n",
      "Conclusión: No rechazamos H0\n",
      "--------------------------------------------------\n",
      "Evento: CartScreenAppear\n",
      "Proporciones: \n",
      "experimento\n",
      "246    0.509662\n",
      "247    0.492638\n",
      "248    0.484825\n",
      "Name: usuario, dtype: float64\n",
      "Chi-cuadrado: 3.2313847242665346\n",
      "p-valor: 0.19875301373159177\n",
      "Nivel de significancia ajustado (Bonferroni): 0.02\n",
      "Conclusión: No rechazamos H0\n",
      "--------------------------------------------------\n",
      "Evento: PaymentScreenSuccessful\n",
      "Proporciones: \n",
      "experimento\n",
      "246    0.483092\n",
      "247    0.460804\n",
      "248    0.465510\n",
      "Name: usuario, dtype: float64\n",
      "Chi-cuadrado: 2.765668853861104\n",
      "p-valor: 0.25086648166771\n",
      "Nivel de significancia ajustado (Bonferroni): 0.02\n",
      "Conclusión: No rechazamos H0\n",
      "--------------------------------------------------\n"
     ]
    }
   ],
   "source": [
    "def analyze_event(event_name, data, alpha=0.1):\n",
    "    event_data = data[data['nombre_evento'] == event_name]\n",
    "    user_counts = event_data.groupby('experimento')['usuario'].nunique()\n",
    "    total_users_by_experiment = data.groupby('experimento')['usuario'].nunique()\n",
    "    proportions = user_counts / total_users_by_experiment\n",
    "\n",
    "\n",
    "    contingency_table = pd.DataFrame({\n",
    "        'Realizaron Evento': user_counts,\n",
    "        'No Realizaron Evento': total_users_by_experiment - user_counts\n",
    "    }).T\n",
    "\n",
    "\n",
    "    chi2, p, _, _ = chi2_contingency(contingency_table)\n",
    "\n",
    "    adjusted_alpha = alpha / len(data['nombre_evento'].unique())\n",
    "\n",
    "    return {\n",
    "        'evento': event_name,\n",
    "        'proporciones': proportions,\n",
    "        'chi2': chi2,\n",
    "        'p_valor': p,\n",
    "        'ajuste_alpha': adjusted_alpha,\n",
    "        'conclusion': 'Rechazamos H0' if p < adjusted_alpha else 'No rechazamos H0'\n",
    "    }\n",
    "\n",
    "event_names = log_nuevas_fechas['nombre_evento'].unique()\n",
    "results = [analyze_event(event, log_nuevas_fechas, alpha=0.1) for event in event_names]\n",
    "\n",
    "for result in results:\n",
    "    print(f\"Evento: {result['evento']}\")\n",
    "    print(f\"Proporciones: \\n{result['proporciones']}\")\n",
    "    print(f\"Chi-cuadrado: {result['chi2']}\")\n",
    "    print(f\"p-valor: {result['p_valor']}\")\n",
    "    print(f\"Nivel de significancia ajustado (Bonferroni): {result['ajuste_alpha']}\")\n",
    "    print(f\"Conclusión: {result['conclusion']}\")\n",
    "    print(\"-\" * 50)"
   ]
  },
  {
   "cell_type": "markdown",
   "id": "b049a56b-6686-416c-8b4d-efbc0da14a5d",
   "metadata": {},
   "source": [
    "Para todos los eventos no se encontro una diferencia significativa al 0.1"
   ]
  },
  {
   "cell_type": "markdown",
   "id": "409b94e0-9bf5-4e00-9130-6b3cf02fb22d",
   "metadata": {},
   "source": [
    "## Conclusion\n",
    "Hemos realizado un analisis para para una tienda de productos alimenticios para saber el comportamiento de los usuarios con respecto a la aplicacion de la empresa, realizamos un analisis exploratorio para encontrar datos que pudieran ensuciar nuestro analizis, uno de estos fueron los valores duplicados que son 413, una vez realizado nuestro analisis exploratorio encontramos mediante una grafica de histograma que existian un sesgo en los datos y esto podria causarnos problemas, por lo cual analizaremos este nuevo perido de fecha que es del 2019-08-01 al 2019-08-08, y revisando que no se perdieran los  grupos a experimentar (246, 247 y 248). Se realizaron pruebas estadisticas para saber si hay una diferencia estadísticamente significativa entre las muestras con un alpha = 0.05 y se encontro que el evento más frecuente es MainScreenAppea.\n",
    "\n",
    "Al realizar todas las prueba se observo que estas no tenian diferiencia significativa por lo cual para no caer en un error tipo I. se realizaron nuevamente las puebas de hipotesis con un nivel de significancia del 0.1, sin embargo no hay evidencia suficiente para afirmar que los experimentos 246, 247 y 248 tengan un impacto distinto en la realización de los eventos analizados. Las diferencias observadas en las proporciones entre los experimentos son pequeñas y no alcanzan significancia estadística con el ajuste podemos concluir que los cambios realizados en los experimentos no tienen un efecto significativo sobre la participación en los eventos.\n",
    "\n"
   ]
  }
 ],
 "metadata": {
  "ExecuteTimeLog": [
   {
    "duration": 838,
    "start_time": "2024-11-27T10:24:01.360Z"
   },
   {
    "duration": 568,
    "start_time": "2024-11-27T10:24:03.838Z"
   },
   {
    "duration": 60,
    "start_time": "2024-11-27T10:24:15.773Z"
   },
   {
    "duration": 123,
    "start_time": "2024-11-27T10:24:22.448Z"
   },
   {
    "duration": 97,
    "start_time": "2024-11-27T10:24:36.737Z"
   },
   {
    "duration": 14,
    "start_time": "2024-11-27T10:24:42.202Z"
   },
   {
    "duration": 3,
    "start_time": "2024-11-27T10:24:42.431Z"
   },
   {
    "duration": 57,
    "start_time": "2024-11-27T10:24:44.757Z"
   },
   {
    "duration": 10,
    "start_time": "2024-11-27T10:25:43.353Z"
   },
   {
    "duration": 12,
    "start_time": "2024-11-27T10:26:04.294Z"
   },
   {
    "duration": 48,
    "start_time": "2024-11-27T10:26:07.360Z"
   },
   {
    "duration": 72,
    "start_time": "2024-11-27T10:26:11.517Z"
   },
   {
    "duration": 147,
    "start_time": "2024-11-27T10:26:13.426Z"
   },
   {
    "duration": 26,
    "start_time": "2024-11-27T10:26:30.889Z"
   },
   {
    "duration": 7,
    "start_time": "2024-11-27T10:26:39.173Z"
   },
   {
    "duration": 4,
    "start_time": "2024-11-27T10:26:41.133Z"
   },
   {
    "duration": 290,
    "start_time": "2024-11-27T10:26:42.982Z"
   },
   {
    "duration": 23,
    "start_time": "2024-11-27T10:27:16.459Z"
   },
   {
    "duration": 43,
    "start_time": "2024-11-27T10:27:18.278Z"
   },
   {
    "duration": 5,
    "start_time": "2024-11-27T10:29:34.616Z"
   },
   {
    "duration": 4,
    "start_time": "2024-11-27T10:29:36.244Z"
   },
   {
    "duration": 289,
    "start_time": "2024-11-27T10:29:37.919Z"
   },
   {
    "duration": 19,
    "start_time": "2024-11-27T10:30:14.732Z"
   },
   {
    "duration": 45,
    "start_time": "2024-11-27T10:30:16.494Z"
   },
   {
    "duration": 73,
    "start_time": "2024-11-27T10:30:17.447Z"
   },
   {
    "duration": 12,
    "start_time": "2024-11-27T10:30:20.346Z"
   },
   {
    "duration": 121,
    "start_time": "2024-11-27T10:30:20.566Z"
   },
   {
    "duration": 12,
    "start_time": "2024-11-27T10:30:31.688Z"
   },
   {
    "duration": 182,
    "start_time": "2024-11-27T10:30:41.935Z"
   },
   {
    "duration": 17,
    "start_time": "2024-11-27T10:30:48.758Z"
   },
   {
    "duration": 3,
    "start_time": "2024-11-27T10:31:16.519Z"
   },
   {
    "duration": 14,
    "start_time": "2024-11-27T10:31:55.021Z"
   },
   {
    "duration": 3,
    "start_time": "2024-11-27T10:32:49.184Z"
   },
   {
    "duration": 13,
    "start_time": "2024-11-27T10:33:14.183Z"
   },
   {
    "duration": 20,
    "start_time": "2024-11-27T10:33:17.244Z"
   },
   {
    "duration": 24,
    "start_time": "2024-11-27T10:33:18.193Z"
   },
   {
    "duration": 22,
    "start_time": "2024-11-27T10:34:04.578Z"
   },
   {
    "duration": 8,
    "start_time": "2024-11-27T10:34:06.778Z"
   },
   {
    "duration": 38,
    "start_time": "2024-11-27T10:35:05.046Z"
   },
   {
    "duration": 253,
    "start_time": "2024-11-27T10:35:09.678Z"
   },
   {
    "duration": 355,
    "start_time": "2024-11-27T10:35:34.974Z"
   },
   {
    "duration": 253,
    "start_time": "2024-11-27T10:36:23.567Z"
   }
  ],
  "kernelspec": {
   "display_name": "Python 3 (ipykernel)",
   "language": "python",
   "name": "python3"
  },
  "language_info": {
   "codemirror_mode": {
    "name": "ipython",
    "version": 3
   },
   "file_extension": ".py",
   "mimetype": "text/x-python",
   "name": "python",
   "nbconvert_exporter": "python",
   "pygments_lexer": "ipython3",
   "version": "3.11.7"
  },
  "toc": {
   "base_numbering": 1,
   "nav_menu": {},
   "number_sections": true,
   "sideBar": true,
   "skip_h1_title": true,
   "title_cell": "Table of Contents",
   "title_sidebar": "Contents",
   "toc_cell": false,
   "toc_position": {},
   "toc_section_display": true,
   "toc_window_display": false
  }
 },
 "nbformat": 4,
 "nbformat_minor": 5
}
