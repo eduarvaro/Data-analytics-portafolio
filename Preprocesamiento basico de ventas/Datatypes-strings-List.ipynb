{
 "cells": [
  {
   "cell_type": "markdown",
   "metadata": {
    "id": "jrvwNQJi0P9l"
   },
   "source": [
    "Una empresa de comercio electrónico, Store 1, recientemente comenzó a recopilar datos sobre sus clientes. El objetivo final de Store 1 es comprender mejor el comportamiento de sus clientes y tomar decisiones basadas en datos para mejorar su experiencia online.\n",
    "\n",
    "Como parte del equipo de análisis, tu primera tarea es evaluar la calidad de una muestra de datos recopilados y prepararla para futuros análisis."
   ]
  },
  {
   "cell_type": "markdown",
   "metadata": {
    "id": "2utuFkVZ0P9p"
   },
   "source": [
    "# Cuestionario\n",
    "\n",
    "Store 1 tiene como objetivo garantizar la coherencia en la recopilación de datos. Como parte de esta iniciativa, se debe evaluar la calidad de los datos recopilados sobre los usuarios y las usuarias. Te han pedido que revises los datos recopilados y propongas cambios. A continuación verás datos sobre un usuario o una usuaria en particular; revisa los datos e identifica cualquier posible problema."
   ]
  },
  {
   "cell_type": "code",
   "execution_count": null,
   "metadata": {
    "id": "v4ldWAes0P9q"
   },
   "outputs": [],
   "source": [
    "user_id = '32415'\n",
    "user_name = ' mike_reed '\n",
    "user_age = 32.0\n",
    "fav_categories = ['ELECTRONICS', 'SPORT', 'BOOKS']"
   ]
  },
  {
   "cell_type": "markdown",
   "metadata": {
    "id": "v5J9NgXf0P9r"
   },
   "source": [
    "**Opciones:**\n",
    "\n",
    "1. El tipo de datos para `user_id` debe cambiarse de una cadena a un número entero.\n",
    "    \n",
    "2. La variable `user_name` contiene una cadena que tiene espacios innecesarios y un guion bajo entre el nombre y el apellido.\n",
    "    \n",
    "3. El tipo de datos de `user_age` es incorrecto.\n",
    "    \n",
    "4. La lista `fav_categories` contiene cadenas en mayúsculas. En su lugar, deberíamos convertir los valores de la lista a minúsculas."
   ]
  },
  {
   "cell_type": "markdown",
   "metadata": {
    "id": "iCEVoi_A0P9s"
   },
   "source": [
    "**Escribe tu respuesta y explica tu argumentación:**\n",
    "2,3,4 los espacios en user_name se deben de eliminar ya que podemos caer en disitntos errore como duplicar informacion o tener 2 variables diferentes siendo esta las misma, user_age debe ser un int.fav_categories es incorrecto ya que debemos homogenizar para trabajar uniformemente"
   ]
  },
  {
   "cell_type": "markdown",
   "metadata": {
    "id": "qKAtWDqu0P9t"
   },
   "source": [
    "# Ejercicio 1\n",
    "\n",
    "Vamos a implementar los cambios que identificamos. Primero, necesitamos corregir los problemas de la variable `user_name`. Como vimos, tiene espacios innecesarios y un guion bajo como separador entre el nombre y el apellido; tu objetivo es eliminar los espacios y luego reemplazar el guion bajo con el espacio."
   ]
  },
  {
   "cell_type": "code",
   "execution_count": 17,
   "metadata": {
    "id": "442z87Uq0P9t"
   },
   "outputs": [
    {
     "name": "stdout",
     "output_type": "stream",
     "text": [
      " mike_reed \n"
     ]
    }
   ],
   "source": [
    "user_name = ' mike_reed '\n",
    "user = user_name.strip()\n",
    "user = user_name.replace(\" \" , \"_\")\n",
    "print(user_name)"
   ]
  },
  {
   "cell_type": "markdown",
   "metadata": {
    "id": "g4YyN4WK0P9t"
   },
   "source": [
    "# Ejercicio 2\n",
    "\n",
    "Luego, debemos dividir el `user_name` (nombre de usuario o usuaria) actualizado en dos subcadenas para obtener una lista que contenga dos valores: la cadena para el nombre y la cadena para el apellido."
   ]
  },
  {
   "cell_type": "code",
   "execution_count": 20,
   "metadata": {
    "id": "Q1L1ARfY0P9u"
   },
   "outputs": [
    {
     "name": "stdout",
     "output_type": "stream",
     "text": [
      "['mike', 'reed']\n",
      "2\n"
     ]
    }
   ],
   "source": [
    "user_name = 'mike reed'\n",
    "name_split = user_name.split()\n",
    "\n",
    "print(name_split)\n",
    "print(len(name_split))"
   ]
  },
  {
   "cell_type": "markdown",
   "metadata": {
    "id": "-VWZkZtc0P9u"
   },
   "source": [
    "# Ejercicio 3\n",
    "\n",
    "¡Genial! Ahora debemos trabajar con la variable `user_age`. Como ya mencionamos, esta tiene un tipo de datos incorrecto. Arreglemos este problema transformando el tipo de datos y mostrando el resultado final."
   ]
  },
  {
   "cell_type": "code",
   "execution_count": 2,
   "metadata": {
    "id": "WPpidP470P9u"
   },
   "outputs": [
    {
     "name": "stdout",
     "output_type": "stream",
     "text": [
      "32.0\n",
      "32\n"
     ]
    }
   ],
   "source": [
    "user_age = 32.0\n",
    "print(user_age)\n",
    "user_age = int(user_age)\n",
    "print(user_age)"
   ]
  },
  {
   "cell_type": "markdown",
   "metadata": {
    "id": "xdfgaKd60P9v"
   },
   "source": [
    "# Ejercicio 4\n",
    "\n",
    "Como sabemos, los datos no siempre son perfectos. Debemos considerar escenarios en los que el valor de `user_age` no se pueda convertir en un número entero. Para evitar que nuestro sistema se bloquee, debemos tomar medidas con anticipación.\n",
    "\n",
    "Escribe un código que intente convertir la variable `user_age` en un número entero y asigna el valor transformado a `user_age_int`. Si el intento falla, mostramos un mensaje pidiendo al usuario o la usuaria que proporcione su edad como un valor numérico con el mensaje: `Please provide your age as a numerical value.` (Proporcione su edad como un valor numérico.)"
   ]
  },
  {
   "cell_type": "code",
   "execution_count": 18,
   "metadata": {
    "id": "duI5zn_O0P9v"
   },
   "outputs": [
    {
     "name": "stdout",
     "output_type": "stream",
     "text": [
      "Please provide your age as a numerical value\n"
     ]
    }
   ],
   "source": [
    "user_age=`treinta y dos`\n",
    "try:\n",
    "    user_age_int=int(user_age)\n",
    "except:\n",
    "    print(Please provide your age as a numerical value)"
   ]
  },
  {
   "cell_type": "markdown",
   "metadata": {
    "id": "Q04i6KQH0P9v"
   },
   "source": [
    "# Ejercicio 5\n",
    "\n",
    "Finalmente, considera que todas las categorías favoritas se almacenan en mayúsculas. Para llenar una nueva lista llamada `fav_categories_low` con las mismas categorías, pero en minúsculas, itera los valores en la lista `fav_categories`, modifícalos y agrega los nuevos valores a la lista `fav_categories_low`. Como siempre, muestra el resultado final."
   ]
  },
  {
   "cell_type": "code",
   "execution_count": 2,
   "metadata": {
    "id": "AtQg6ie10P9v",
    "scrolled": true
   },
   "outputs": [
    {
     "name": "stdout",
     "output_type": "stream",
     "text": [
      "['electronics', 'sport', 'books']\n",
      "['electronics', 'sport', 'books']\n"
     ]
    }
   ],
   "source": [
    "fav_categories = ['ELECTRONICS', 'SPORT', 'BOOKS']\n",
    "\n",
    "#primera forma\n",
    "fav_categories_low=list(map(str.lower,fav_categories))\n",
    "print(fav_categories_low)\n",
    "\n",
    "#segunda forma\n",
    "fav_categories_low= []\n",
    "\n",
    "for category in fav_categories:\n",
    "    if fav_categories [1]== \"ELECTRONICS\":\n",
    "        print(\"electronis\")\n",
    "    elif fav_categories == \"SPORT\":\n",
    "        print(\"sport\")\n",
    "    elif fav_categories == \"BOOKS\":\n",
    "        print(\"books\")   \n",
    "\n",
    "    fav_categories_low.append(category.lower())\n",
    "print(fav_categories_low)\n"
   ]
  },
  {
   "cell_type": "markdown",
   "metadata": {
    "id": "w8J0RSee0P9w"
   },
   "source": [
    "# Ejercicio 6\n",
    "\n",
    "Hemos obtenido información adicional sobre los hábitos de gasto de nuestros usuarios y usuarias, incluido el importe gastado en cada una de sus categorías favoritas. La gerencia está interesada en las siguientes métricas:\n",
    "\n",
    "- Importe total gastado por el usuario o la usuaria.\n",
    "- Importe mínimo gastado.\n",
    "- Importe máximo gastado.\n",
    "\n",
    "Vamos a calcular estos valores y mostrarlos en la pantalla:"
   ]
  },
  {
   "cell_type": "code",
   "execution_count": 46,
   "metadata": {
    "id": "BbhBAmcZ0P9w"
   },
   "outputs": [
    {
     "name": "stdout",
     "output_type": "stream",
     "text": [
      "1280\n",
      "894\n",
      "173\n"
     ]
    }
   ],
   "source": [
    "fav_categories_low = ['electronics', 'sport', 'books']\n",
    "spendings_per_category = [894, 213, 173]\n",
    "\n",
    "total_amount = sum(spendings_per_category)\n",
    "max_amount = max(spendings_per_category)\n",
    "min_amount = min(spendings_per_category) \n",
    "\n",
    "print(total_amount)\n",
    "print(max_amount)\n",
    "print(min_amount)"
   ]
  },
  {
   "cell_type": "markdown",
   "metadata": {
    "id": "hyPGzOt60P9w"
   },
   "source": [
    "# Ejercicio 7\n",
    "\n",
    "La empresa quiere ofrecer descuentos a sus clientes leales. Los clientes y las clientas que realizan compras por un importe total mayor a $1500 se consideran leales y recibirán un descuento.\n",
    "\n",
    "Nuestro objetivo es crear un bucle `while` que compruebe el importe total gastado y se detenga al alcanzarlo. Para simular nuevas compras, la variable `new_purchase` genera un número entre 30 y 80 en cada iteración del bucle. Esto representa el importe de dinero gastado en una nueva compra y es lo que hay que sumar al total.\n",
    "\n",
    "Una vez que se alcance el importe objetivo y se termine el bucle `while`, se mostrará la cantidad final."
   ]
  },
  {
   "cell_type": "code",
   "execution_count": 1,
   "metadata": {
    "id": "FmpTfK7C0P9x"
   },
   "outputs": [
    {
     "name": "stdout",
     "output_type": "stream",
     "text": [
      "1534\n"
     ]
    }
   ],
   "source": [
    "from random import randint\n",
    "\n",
    "total_amount_spent = 1280\n",
    "target_amount = 1500\n",
    "\n",
    "new_purchase = 0\n",
    "\n",
    "while total_amount_spent < target_amount:\n",
    "\tnew_purchase = randint(30, 80) \n",
    "\ttotal_amount_spent += new_purchase \n",
    "\n",
    "print(total_amount_spent)"
   ]
  },
  {
   "cell_type": "markdown",
   "metadata": {
    "id": "e9j2dOo60P9x"
   },
   "source": [
    "# Ejercicio 8\n",
    "\n",
    "Ahora tenemos toda la información sobre un cliente o una clienta de la forma que queremos que sea. La gerencia de una empresa nos pidió proponer una forma de resumir toda la información sobre un usuario o una usuaria. Tu objetivo es crear una cadena formateada que utilice información de las variables `user_id`, `user_name` y `user_age`.\n",
    "\n",
    "Esta es la cadena final que queremos crear: `User 32415 is mike who is 32 years old.` (El usuario 32415 es Mike, quien tiene 32 años)."
   ]
  },
  {
   "cell_type": "code",
   "execution_count": 1,
   "metadata": {
    "id": "2dzhjYbm0P9x"
   },
   "outputs": [
    {
     "name": "stdout",
     "output_type": "stream",
     "text": [
      "User 32415 is mike who is 32 years old\n",
      "mike\n",
      "User 32415 is mike who is 32 years old\n",
      "mike\n"
     ]
    }
   ],
   "source": [
    "user_id = '32415'\n",
    "user_name = ['mike', 'reed']\n",
    "user_age = 32\n",
    "\n",
    "#primera forma\n",
    "user_info = \"User {} is {} who is {} years old\".format(user_id, user_name[0], user_age)\n",
    "print(user_info) # no elimines la siguiente declaración print\n",
    "print(user_name[0])\n",
    "\n",
    "\n",
    "#segunda forma\n",
    "user_info = f\"User {user_id} is {user_name[0]} who is {user_age} years old\"\n",
    "print(user_info) # no elimines la siguiente declaración print\n",
    "print(user_name[0])\n",
    "\n",
    "\n"
   ]
  },
  {
   "cell_type": "markdown",
   "metadata": {
    "id": "J7IXD3Zv0P9x"
   },
   "source": [
    "# Ejercicio 9\n",
    "\n",
    "Para calcular los ingresos de la empresa, sigue estos pasos.\n",
    "\n",
    "1. Utiliza `for` para iterar sobre la lista `users`.\n",
    "2. Extrae la lista de gastos de cada usuario o usuaria y suma los valores.\n",
    "3. Actualiza el valor de los ingresos con el total de cada usuario o usuaria.\n",
    "\n",
    "Así obtendrás los ingresos totales de la empresa que mostrarás en la pantalla al final."
   ]
  },
  {
   "cell_type": "code",
   "execution_count": 6,
   "metadata": {
    "id": "d8jeNWXQ0P9y"
   },
   "outputs": [
    {
     "name": "stdout",
     "output_type": "stream",
     "text": [
      "2109\n"
     ]
    }
   ],
   "source": [
    "users = [\n",
    "\t  \n",
    "    ['32415', ['mike', 'reed'], 32, ['electronics', 'sport', 'books'],\n",
    "        [894, 213, 173]\n",
    "    ], \n",
    "\n",
    "    ['31980', ['kate', 'morgan'], 24, ['clothes', 'shoes'],\n",
    "        [439, 390]\n",
    "    ] \n",
    "]\n",
    "\n",
    "revenue = 0\n",
    "\n",
    "\n",
    "for user in users:\n",
    "\tspendings_list = user[4]\n",
    "\ttotal_spendings = sum(spendings_list)  \n",
    "\trevenue +=total_spendings\n",
    "\n",
    "print(revenue)"
   ]
  },
  {
   "cell_type": "markdown",
   "metadata": {
    "id": "wR0om7Tk0P9y"
   },
   "source": [
    "# Ejercicio 10\n",
    "\n",
    "Recorre la lista de usuarios y usuarias que te hemos proporcionado y muestra los nombres de la clientela menor de 30 años."
   ]
  },
  {
   "cell_type": "code",
   "execution_count": 19,
   "metadata": {
    "id": "KVdthJm70P9y"
   },
   "outputs": [
    {
     "name": "stdout",
     "output_type": "stream",
     "text": [
      "['kate', 'morgan']\n",
      "['samantha', 'smith']\n",
      "['emily', 'brown']\n",
      "['jose', 'martinez']\n",
      "['james', 'lee']\n"
     ]
    }
   ],
   "source": [
    "users = [\n",
    "    ['32415', ['mike', 'reed'], 32, ['electronics', 'sport', 'books'],\n",
    "     [894, 213, 173]],\n",
    "    ['31980', ['kate', 'morgan'], 24, ['clothes', 'books'], [439,\n",
    "     390]],\n",
    "    ['32156', ['john', 'doe'], 37, ['electronics', 'home', 'food'],\n",
    "     [459, 120, 99]],\n",
    "    ['32761', ['samantha', 'smith'], 29, ['clothes', 'electronics',\n",
    "     'beauty'], [299, 679, 85]],\n",
    "    ['32984', ['david', 'white'], 41, ['books', 'home', 'sport'], [234,\n",
    "     329, 243]],\n",
    "    ['33001', ['emily', 'brown'], 26, ['beauty', 'home', 'food'], [213,\n",
    "     659, 79]],\n",
    "    ['33767', ['maria', 'garcia'], 33, ['clothes', 'food', 'beauty'],\n",
    "     [499, 189, 63]],\n",
    "    ['33912', ['jose', 'martinez'], 22, ['sport', 'electronics', 'home'\n",
    "     ], [259, 549, 109]],\n",
    "    ['34009', ['lisa', 'wilson'], 35, ['home', 'books', 'clothes'],\n",
    "     [329, 189, 329]],\n",
    "    ['34278', ['james', 'lee'], 28, ['beauty', 'clothes', 'electronics'\n",
    "     ], [189, 299, 579]],\n",
    "    ]\n",
    "\n",
    "for user in users:\n",
    "    if user [2] <= 30:\n",
    "        print(user[1])\n"
   ]
  },
  {
   "cell_type": "markdown",
   "metadata": {
    "id": "LBHWQenm0P9y"
   },
   "source": [
    "# Ejercicio 11\n",
    "\n",
    "Juntemos las tareas 9 y 10 e imprimamos los nombres de los usuarios y las usuarias que tengan menos de 30 años y un gasto total superior a 1000 dólares."
   ]
  },
  {
   "cell_type": "code",
   "execution_count": 3,
   "metadata": {
    "id": "HaQNXS-V0P9z"
   },
   "outputs": [
    {
     "name": "stdout",
     "output_type": "stream",
     "text": [
      "samantha\n",
      "james\n"
     ]
    }
   ],
   "source": [
    "users = [\n",
    "    ['32415', ['mike', 'reed'], 32, ['electronics', 'sport', 'books'],\n",
    "     [894, 213, 173]],\n",
    "    ['31980', ['kate', 'morgan'], 24, ['clothes', 'books'], [439,\n",
    "     390]],\n",
    "    ['32156', ['john', 'doe'], 37, ['electronics', 'home', 'food'],\n",
    "     [459, 120, 99]],\n",
    "    ['32761', ['samantha', 'smith'], 29, ['clothes', 'electronics',\n",
    "     'beauty'], [299, 679, 85]],\n",
    "    ['32984', ['david', 'white'], 41, ['books', 'home', 'sport'], [234,\n",
    "     329, 243]],\n",
    "    ['33001', ['emily', 'brown'], 26, ['beauty', 'home', 'food'], [213,\n",
    "     659, 79]],\n",
    "    ['33767', ['maria', 'garcia'], 33, ['clothes', 'food', 'beauty'],\n",
    "     [499, 189, 63]],\n",
    "    ['33912', ['jose', 'martinez'], 22, ['sport', 'electronics', 'home'\n",
    "     ], [259, 549, 109]],\n",
    "    ['34009', ['lisa', 'wilson'], 35, ['home', 'books', 'clothes'],\n",
    "     [329, 189, 329]],\n",
    "    ['34278', ['james', 'lee'], 28, ['beauty', 'clothes', 'electronics'\n",
    "     ], [189, 299, 579]],\n",
    "    ]\n",
    "\n",
    "\n",
    "for use in users:\n",
    "    spent=sum(use[4])\n",
    "    if use [2] <= 30 and spent > 1000:\n",
    "        print(use[1][0])\n"
   ]
  },
  {
   "cell_type": "markdown",
   "metadata": {
    "id": "yRozkK0R0P90"
   },
   "source": [
    "# Ejercicio 12\n",
    "\n",
    "Ahora vamos a mostrar el nombre y la edad de todos los usuarios y todas las usuarias que han comprado ropa. Imprime el nombre y la edad en la misma declaración print."
   ]
  },
  {
   "cell_type": "code",
   "execution_count": 3,
   "metadata": {
    "id": "mSIyHq1f0P90"
   },
   "outputs": [
    {
     "name": "stdout",
     "output_type": "stream",
     "text": [
      "['kate', 'morgan'] 24\n",
      "['samantha', 'smith'] 29\n",
      "['maria', 'garcia'] 33\n",
      "['lisa', 'wilson'] 35\n",
      "['james', 'lee'] 28\n"
     ]
    }
   ],
   "source": [
    "users = [\n",
    "    ['32415', ['mike', 'reed'], 32, ['electronics', 'sport', 'books'],\n",
    "     [894, 213, 173]],\n",
    "    ['31980', ['kate', 'morgan'], 24, ['clothes', 'books'], [439,\n",
    "     390]],\n",
    "    ['32156', ['john', 'doe'], 37, ['electronics', 'home', 'food'],\n",
    "     [459, 120, 99]],\n",
    "    ['32761', ['samantha', 'smith'], 29, ['clothes', 'electronics',\n",
    "     'beauty'], [299, 679, 85]],\n",
    "    ['32984', ['david', 'white'], 41, ['books', 'home', 'sport'], [234,\n",
    "     329, 243]],\n",
    "    ['33001', ['emily', 'brown'], 26, ['beauty', 'home', 'food'], [213,\n",
    "     659, 79]],\n",
    "    ['33767', ['maria', 'garcia'], 33, ['clothes', 'food', 'beauty'],\n",
    "     [499, 189, 63]],\n",
    "    ['33912', ['jose', 'martinez'], 22, ['sport', 'electronics', 'home'\n",
    "     ], [259, 549, 109]],\n",
    "    ['34009', ['lisa', 'wilson'], 35, ['home', 'books', 'clothes'],\n",
    "     [329, 189, 329]],\n",
    "    ['34278', ['james', 'lee'], 28, ['beauty', 'clothes', 'electronics'\n",
    "     ], [189, 299, 579]],\n",
    "    ]\n",
    "\n",
    "for user in users:\n",
    "    if 'clothes' in user[3]:\n",
    "        print(user[1], user [2])\n",
    "        "
   ]
  }
 ],
 "metadata": {
  "ExecuteTimeLog": [
   {
    "duration": 15,
    "start_time": "2024-06-04T04:14:27.479Z"
   },
   {
    "duration": 306,
    "start_time": "2024-06-04T04:14:34.689Z"
   },
   {
    "duration": 23,
    "start_time": "2024-06-04T04:15:10.719Z"
   },
   {
    "duration": 23,
    "start_time": "2024-06-04T04:15:20.925Z"
   },
   {
    "duration": 25,
    "start_time": "2024-06-04T04:16:44.466Z"
   },
   {
    "duration": 24,
    "start_time": "2024-06-04T04:16:56.650Z"
   },
   {
    "duration": 22,
    "start_time": "2024-06-04T04:17:12.186Z"
   },
   {
    "duration": 23,
    "start_time": "2024-06-04T04:17:26.570Z"
   },
   {
    "duration": 55,
    "start_time": "2024-06-04T04:25:16.782Z"
   },
   {
    "duration": 5,
    "start_time": "2024-06-04T04:25:27.332Z"
   },
   {
    "duration": 5,
    "start_time": "2024-06-04T04:25:44.228Z"
   },
   {
    "duration": 5,
    "start_time": "2024-06-04T04:26:08.164Z"
   },
   {
    "duration": 5,
    "start_time": "2024-06-04T04:26:12.267Z"
   },
   {
    "duration": 4,
    "start_time": "2024-06-04T04:27:40.405Z"
   },
   {
    "duration": 5,
    "start_time": "2024-06-04T04:27:59.668Z"
   },
   {
    "duration": 4,
    "start_time": "2024-06-04T04:28:10.020Z"
   },
   {
    "duration": 6,
    "start_time": "2024-06-04T04:28:23.134Z"
   },
   {
    "duration": 4,
    "start_time": "2024-06-04T04:29:07.397Z"
   },
   {
    "duration": 4,
    "start_time": "2024-06-04T04:29:51.798Z"
   },
   {
    "duration": 4,
    "start_time": "2024-06-04T04:30:22.671Z"
   },
   {
    "duration": 22,
    "start_time": "2024-06-04T04:31:11.030Z"
   },
   {
    "duration": 22,
    "start_time": "2024-06-04T04:31:36.270Z"
   },
   {
    "duration": 4,
    "start_time": "2024-06-04T04:35:41.616Z"
   },
   {
    "duration": 4,
    "start_time": "2024-06-04T04:36:55.752Z"
   },
   {
    "duration": 6,
    "start_time": "2024-06-04T04:37:01.391Z"
   },
   {
    "duration": 22,
    "start_time": "2024-06-04T04:37:13.488Z"
   },
   {
    "duration": 5,
    "start_time": "2024-06-04T04:37:34.382Z"
   },
   {
    "duration": 21,
    "start_time": "2024-06-04T04:37:47.135Z"
   },
   {
    "duration": 4,
    "start_time": "2024-06-04T04:37:50.943Z"
   },
   {
    "duration": 26,
    "start_time": "2024-06-04T04:41:55.268Z"
   },
   {
    "duration": 24,
    "start_time": "2024-06-04T04:42:10.555Z"
   },
   {
    "duration": 23,
    "start_time": "2024-06-04T04:42:38.088Z"
   },
   {
    "duration": 21,
    "start_time": "2024-06-04T04:42:51.086Z"
   },
   {
    "duration": 20,
    "start_time": "2024-06-04T04:42:59.248Z"
   },
   {
    "duration": 21,
    "start_time": "2024-06-04T04:48:26.434Z"
   },
   {
    "duration": 22,
    "start_time": "2024-06-04T04:53:53.406Z"
   },
   {
    "duration": 21,
    "start_time": "2024-06-04T04:54:10.851Z"
   },
   {
    "duration": 23,
    "start_time": "2024-06-04T04:54:26.331Z"
   },
   {
    "duration": 7,
    "start_time": "2024-06-04T05:08:08.178Z"
   },
   {
    "duration": 26,
    "start_time": "2024-06-04T05:08:29.838Z"
   },
   {
    "duration": 22,
    "start_time": "2024-06-04T05:08:56.638Z"
   },
   {
    "duration": 4,
    "start_time": "2024-06-04T05:10:09.287Z"
   },
   {
    "duration": 22,
    "start_time": "2024-06-04T05:13:58.559Z"
   },
   {
    "duration": 22,
    "start_time": "2024-06-04T05:14:31.776Z"
   },
   {
    "duration": 24,
    "start_time": "2024-06-04T05:15:02.280Z"
   },
   {
    "duration": 6,
    "start_time": "2024-06-04T05:24:45.337Z"
   },
   {
    "duration": 21,
    "start_time": "2024-06-04T05:25:34.770Z"
   },
   {
    "duration": 22,
    "start_time": "2024-06-04T05:25:50.458Z"
   },
   {
    "duration": 7,
    "start_time": "2024-06-04T05:30:04.931Z"
   },
   {
    "duration": 5,
    "start_time": "2024-06-04T05:30:21.243Z"
   },
   {
    "duration": 5,
    "start_time": "2024-06-04T05:31:43.316Z"
   },
   {
    "duration": 6,
    "start_time": "2024-06-04T05:33:08.395Z"
   },
   {
    "duration": 5,
    "start_time": "2024-06-04T05:33:16.459Z"
   },
   {
    "duration": 5,
    "start_time": "2024-06-04T05:33:24.123Z"
   },
   {
    "duration": 5,
    "start_time": "2024-06-04T05:35:52.030Z"
   },
   {
    "duration": 5,
    "start_time": "2024-06-04T05:38:36.239Z"
   },
   {
    "duration": 5,
    "start_time": "2024-06-04T05:38:44.800Z"
   },
   {
    "duration": 5,
    "start_time": "2024-06-04T05:42:01.072Z"
   },
   {
    "duration": 26,
    "start_time": "2024-06-04T05:59:42.349Z"
   },
   {
    "duration": 27,
    "start_time": "2024-06-04T06:00:22.628Z"
   },
   {
    "duration": 28,
    "start_time": "2024-06-04T06:00:33.469Z"
   },
   {
    "duration": 12,
    "start_time": "2024-06-04T06:05:33.622Z"
   },
   {
    "duration": 13,
    "start_time": "2024-06-04T06:06:45.783Z"
   },
   {
    "duration": 11,
    "start_time": "2024-06-04T06:07:14.926Z"
   },
   {
    "duration": 12,
    "start_time": "2024-06-04T06:08:07.510Z"
   },
   {
    "duration": 38,
    "start_time": "2024-06-04T06:10:50.191Z"
   },
   {
    "duration": 13,
    "start_time": "2024-06-04T06:11:03.592Z"
   },
   {
    "duration": 21,
    "start_time": "2024-06-05T05:45:49.424Z"
   },
   {
    "duration": 14,
    "start_time": "2024-06-05T05:46:13.252Z"
   },
   {
    "duration": 12,
    "start_time": "2024-06-05T05:48:08.026Z"
   },
   {
    "duration": 13,
    "start_time": "2024-06-05T05:48:17.133Z"
   },
   {
    "duration": 13,
    "start_time": "2024-06-05T05:49:43.173Z"
   },
   {
    "duration": 11,
    "start_time": "2024-06-05T05:49:52.790Z"
   },
   {
    "duration": 12,
    "start_time": "2024-06-05T05:51:37.810Z"
   },
   {
    "duration": 12,
    "start_time": "2024-06-05T05:52:18.304Z"
   },
   {
    "duration": 10,
    "start_time": "2024-06-05T05:52:26.154Z"
   },
   {
    "duration": 12,
    "start_time": "2024-06-05T06:02:11.351Z"
   },
   {
    "duration": 13,
    "start_time": "2024-06-05T06:04:09.853Z"
   },
   {
    "duration": 330,
    "start_time": "2024-06-05T06:08:54.176Z"
   },
   {
    "duration": 27,
    "start_time": "2024-06-05T06:09:08.791Z"
   },
   {
    "duration": 28,
    "start_time": "2024-06-05T06:09:39.246Z"
   },
   {
    "duration": 39,
    "start_time": "2024-06-05T06:16:14.666Z"
   },
   {
    "duration": 18,
    "start_time": "2024-06-05T06:16:24.598Z"
   },
   {
    "duration": 11,
    "start_time": "2024-06-05T06:17:33.289Z"
   },
   {
    "duration": 11,
    "start_time": "2024-06-05T06:19:36.697Z"
   },
   {
    "duration": 14,
    "start_time": "2024-06-05T06:24:50.342Z"
   },
   {
    "duration": 11,
    "start_time": "2024-06-05T06:24:59.250Z"
   },
   {
    "duration": 14,
    "start_time": "2024-06-05T06:30:24.383Z"
   },
   {
    "duration": 13,
    "start_time": "2024-06-05T06:30:37.955Z"
   },
   {
    "duration": 13,
    "start_time": "2024-06-05T06:30:57.300Z"
   },
   {
    "duration": 13,
    "start_time": "2024-06-05T06:32:11.936Z"
   },
   {
    "duration": 12,
    "start_time": "2024-06-05T06:34:24.909Z"
   },
   {
    "duration": 23,
    "start_time": "2024-06-05T06:34:33.319Z"
   },
   {
    "duration": 52,
    "start_time": "2024-06-05T06:36:08.845Z"
   },
   {
    "duration": 81,
    "start_time": "2024-06-05T06:36:22.989Z"
   },
   {
    "duration": 375,
    "start_time": "2024-06-05T15:29:43.426Z"
   },
   {
    "duration": 8,
    "start_time": "2024-06-05T15:29:58.137Z"
   },
   {
    "duration": 40,
    "start_time": "2024-06-05T15:32:14.303Z"
   },
   {
    "duration": 49,
    "start_time": "2024-06-05T15:32:17.914Z"
   },
   {
    "duration": 40,
    "start_time": "2024-06-05T15:32:35.012Z"
   },
   {
    "duration": 15,
    "start_time": "2024-06-05T15:32:38.133Z"
   },
   {
    "duration": 41,
    "start_time": "2024-06-05T15:32:43.096Z"
   },
   {
    "duration": 11,
    "start_time": "2024-06-05T15:33:55.418Z"
   },
   {
    "duration": 12,
    "start_time": "2024-06-05T15:35:14.449Z"
   },
   {
    "duration": 14,
    "start_time": "2024-06-06T01:54:00.670Z"
   },
   {
    "duration": 5,
    "start_time": "2024-06-06T01:54:06.379Z"
   },
   {
    "duration": 6,
    "start_time": "2024-06-06T02:16:49.141Z"
   },
   {
    "duration": 306,
    "start_time": "2024-06-06T02:20:46.289Z"
   },
   {
    "duration": 25,
    "start_time": "2024-06-06T02:21:11.944Z"
   },
   {
    "duration": 26,
    "start_time": "2024-06-06T02:21:44.550Z"
   },
   {
    "duration": 28,
    "start_time": "2024-06-06T02:22:22.664Z"
   },
   {
    "duration": 5,
    "start_time": "2024-06-06T02:24:23.680Z"
   },
   {
    "duration": 4,
    "start_time": "2024-06-06T02:24:44.674Z"
   },
   {
    "duration": 4,
    "start_time": "2024-06-06T02:25:04.934Z"
   },
   {
    "duration": 6,
    "start_time": "2024-06-06T02:26:06.592Z"
   },
   {
    "duration": 7,
    "start_time": "2024-06-06T02:27:37.466Z"
   },
   {
    "duration": 5,
    "start_time": "2024-06-06T02:28:05.649Z"
   },
   {
    "duration": 5,
    "start_time": "2024-06-06T02:28:55.250Z"
   },
   {
    "duration": 22,
    "start_time": "2024-06-06T02:36:11.875Z"
   },
   {
    "duration": 24,
    "start_time": "2024-06-06T02:37:35.579Z"
   },
   {
    "duration": 5,
    "start_time": "2024-06-06T02:37:52.868Z"
   },
   {
    "duration": 6,
    "start_time": "2024-06-06T02:39:59.708Z"
   },
   {
    "duration": 22,
    "start_time": "2024-06-06T03:09:07.795Z"
   },
   {
    "duration": 57,
    "start_time": "2024-06-06T03:10:56.482Z"
   },
   {
    "duration": 8,
    "start_time": "2024-06-06T03:11:34.364Z"
   },
   {
    "duration": 22,
    "start_time": "2024-06-06T03:14:50.301Z"
   },
   {
    "duration": 23,
    "start_time": "2024-06-06T03:15:43.053Z"
   },
   {
    "duration": 22,
    "start_time": "2024-06-06T03:16:02.397Z"
   },
   {
    "duration": 23,
    "start_time": "2024-06-06T03:16:55.398Z"
   },
   {
    "duration": 30,
    "start_time": "2024-06-06T03:18:34.206Z"
   },
   {
    "duration": 5,
    "start_time": "2024-06-06T03:24:26.303Z"
   },
   {
    "duration": 4,
    "start_time": "2024-06-06T03:25:25.832Z"
   },
   {
    "duration": 6,
    "start_time": "2024-06-06T03:34:58.505Z"
   },
   {
    "duration": 10,
    "start_time": "2024-06-08T02:41:25.695Z"
   },
   {
    "duration": 7,
    "start_time": "2024-06-08T02:41:48.330Z"
   },
   {
    "duration": 9,
    "start_time": "2024-06-08T02:58:26.739Z"
   },
   {
    "duration": 333,
    "start_time": "2024-06-08T03:40:22.115Z"
   },
   {
    "duration": 48,
    "start_time": "2024-06-08T03:40:30.801Z"
   },
   {
    "duration": 41,
    "start_time": "2024-06-08T03:40:39.952Z"
   },
   {
    "duration": 50,
    "start_time": "2024-06-08T03:40:47.767Z"
   },
   {
    "duration": 50,
    "start_time": "2024-06-08T03:40:58.664Z"
   },
   {
    "duration": 6,
    "start_time": "2024-06-08T03:44:23.521Z"
   },
   {
    "duration": 61,
    "start_time": "2024-06-08T03:45:42.395Z"
   },
   {
    "duration": 39,
    "start_time": "2024-06-08T04:06:52.797Z"
   },
   {
    "duration": 30,
    "start_time": "2024-06-08T04:09:50.576Z"
   },
   {
    "duration": 43,
    "start_time": "2024-06-08T04:14:55.809Z"
   },
   {
    "duration": 52,
    "start_time": "2024-06-08T04:17:19.340Z"
   },
   {
    "duration": 43,
    "start_time": "2024-06-08T04:17:57.898Z"
   },
   {
    "duration": 41,
    "start_time": "2024-06-08T04:24:06.156Z"
   },
   {
    "duration": 10,
    "start_time": "2024-06-08T04:24:15.789Z"
   },
   {
    "duration": 11,
    "start_time": "2024-06-08T04:24:36.499Z"
   },
   {
    "duration": 10,
    "start_time": "2024-06-08T04:27:58.382Z"
   },
   {
    "duration": 42,
    "start_time": "2024-06-08T04:32:33.374Z"
   },
   {
    "duration": 15,
    "start_time": "2024-06-08T04:56:35.021Z"
   },
   {
    "duration": 12,
    "start_time": "2024-06-08T04:56:44.614Z"
   },
   {
    "duration": 44,
    "start_time": "2024-06-08T04:56:49.902Z"
   },
   {
    "duration": 13,
    "start_time": "2024-06-08T04:59:25.664Z"
   },
   {
    "duration": 12,
    "start_time": "2024-06-08T04:59:36.964Z"
   },
   {
    "duration": 11,
    "start_time": "2024-06-08T04:59:47.291Z"
   },
   {
    "duration": 10,
    "start_time": "2024-06-08T05:02:36.960Z"
   },
   {
    "duration": 11,
    "start_time": "2024-06-08T05:03:22.271Z"
   },
   {
    "duration": 12,
    "start_time": "2024-06-08T05:03:35.764Z"
   },
   {
    "duration": 11,
    "start_time": "2024-06-08T05:03:45.932Z"
   },
   {
    "duration": 11,
    "start_time": "2024-06-08T05:05:18.735Z"
   },
   {
    "duration": 13,
    "start_time": "2024-06-08T05:22:24.138Z"
   },
   {
    "duration": 10,
    "start_time": "2024-06-08T05:22:29.120Z"
   },
   {
    "duration": 39,
    "start_time": "2024-06-08T05:25:29.200Z"
   },
   {
    "duration": 15,
    "start_time": "2024-06-08T05:25:37.362Z"
   },
   {
    "duration": 12,
    "start_time": "2024-06-08T05:25:40.034Z"
   },
   {
    "duration": 12,
    "start_time": "2024-06-08T05:31:22.028Z"
   },
   {
    "duration": 13,
    "start_time": "2024-06-08T05:32:26.838Z"
   },
   {
    "duration": 15,
    "start_time": "2024-06-08T05:39:19.480Z"
   },
   {
    "duration": 70,
    "start_time": "2024-06-08T05:39:27.494Z"
   },
   {
    "duration": 54,
    "start_time": "2024-06-08T05:39:35.565Z"
   },
   {
    "duration": 43,
    "start_time": "2024-06-08T05:39:50.529Z"
   },
   {
    "duration": 14,
    "start_time": "2024-06-08T05:40:01.110Z"
   },
   {
    "duration": 15,
    "start_time": "2024-06-08T05:40:03.988Z"
   },
   {
    "duration": 16,
    "start_time": "2024-06-08T05:40:08.494Z"
   },
   {
    "duration": 13,
    "start_time": "2024-06-08T05:40:17.402Z"
   },
   {
    "duration": 11,
    "start_time": "2024-06-08T05:40:42.613Z"
   },
   {
    "duration": 14,
    "start_time": "2024-06-08T05:40:53.302Z"
   },
   {
    "duration": 11,
    "start_time": "2024-06-08T05:40:57.069Z"
   },
   {
    "duration": 14,
    "start_time": "2024-06-08T05:41:13.909Z"
   },
   {
    "duration": 14,
    "start_time": "2024-06-08T05:45:47.438Z"
   },
   {
    "duration": 11,
    "start_time": "2024-06-08T05:46:01.240Z"
   },
   {
    "duration": 13,
    "start_time": "2024-06-08T05:46:38.167Z"
   },
   {
    "duration": 13,
    "start_time": "2024-06-08T05:51:40.696Z"
   },
   {
    "duration": 12,
    "start_time": "2024-06-08T05:51:48.561Z"
   },
   {
    "duration": 11,
    "start_time": "2024-06-08T05:53:21.273Z"
   },
   {
    "duration": 11,
    "start_time": "2024-06-08T05:53:35.461Z"
   },
   {
    "duration": 15,
    "start_time": "2024-06-08T05:53:39.744Z"
   },
   {
    "duration": 15,
    "start_time": "2024-06-08T05:54:00.673Z"
   },
   {
    "duration": 11,
    "start_time": "2024-06-08T05:54:04.540Z"
   },
   {
    "duration": 41,
    "start_time": "2024-06-08T05:55:53.001Z"
   },
   {
    "duration": 12,
    "start_time": "2024-06-08T05:56:10.323Z"
   },
   {
    "duration": 40,
    "start_time": "2024-06-08T05:57:18.291Z"
   },
   {
    "duration": 44,
    "start_time": "2024-06-08T05:57:30.010Z"
   },
   {
    "duration": 40,
    "start_time": "2024-06-08T05:57:48.641Z"
   },
   {
    "duration": 39,
    "start_time": "2024-06-08T06:00:20.994Z"
   },
   {
    "duration": 46,
    "start_time": "2024-06-08T06:01:10.660Z"
   },
   {
    "duration": 40,
    "start_time": "2024-06-08T06:01:37.171Z"
   },
   {
    "duration": 45,
    "start_time": "2024-06-08T06:01:51.095Z"
   },
   {
    "duration": 42,
    "start_time": "2024-06-08T06:02:10.594Z"
   },
   {
    "duration": 39,
    "start_time": "2024-06-08T06:02:16.557Z"
   },
   {
    "duration": 41,
    "start_time": "2024-06-08T06:02:24.035Z"
   },
   {
    "duration": 39,
    "start_time": "2024-06-08T06:02:50.195Z"
   },
   {
    "duration": 41,
    "start_time": "2024-06-08T06:03:17.810Z"
   },
   {
    "duration": 12,
    "start_time": "2024-06-08T06:03:31.929Z"
   },
   {
    "duration": 11,
    "start_time": "2024-06-08T06:05:37.605Z"
   },
   {
    "duration": 10,
    "start_time": "2024-06-08T06:05:43.691Z"
   },
   {
    "duration": 314,
    "start_time": "2024-06-09T01:04:32.470Z"
   },
   {
    "duration": 24,
    "start_time": "2024-06-09T01:04:41.921Z"
   },
   {
    "duration": 27,
    "start_time": "2024-06-09T01:08:17.872Z"
   },
   {
    "duration": 28,
    "start_time": "2024-06-09T01:10:01.368Z"
   },
   {
    "duration": 32,
    "start_time": "2024-06-09T01:10:08.521Z"
   },
   {
    "duration": 24,
    "start_time": "2024-06-09T01:17:21.110Z"
   },
   {
    "duration": 12,
    "start_time": "2024-06-09T20:12:45.755Z"
   },
   {
    "duration": 7,
    "start_time": "2024-06-09T20:17:03.239Z"
   },
   {
    "duration": 6,
    "start_time": "2024-06-09T20:17:16.463Z"
   },
   {
    "duration": 319,
    "start_time": "2024-06-09T20:27:18.365Z"
   },
   {
    "duration": 7,
    "start_time": "2024-06-09T20:27:37.635Z"
   },
   {
    "duration": 7,
    "start_time": "2024-06-09T20:30:50.493Z"
   },
   {
    "duration": 17,
    "start_time": "2024-06-09T21:59:34.313Z"
   },
   {
    "duration": 12,
    "start_time": "2024-06-10T07:46:01.656Z"
   },
   {
    "duration": 5,
    "start_time": "2024-06-10T07:46:06.799Z"
   },
   {
    "duration": 12,
    "start_time": "2024-06-10T07:47:25.516Z"
   },
   {
    "duration": 18,
    "start_time": "2024-06-10T07:47:29.474Z"
   },
   {
    "duration": 6,
    "start_time": "2024-06-10T07:49:17.468Z"
   },
   {
    "duration": 5,
    "start_time": "2024-06-10T07:49:19.953Z"
   },
   {
    "duration": 12,
    "start_time": "2024-06-11T05:56:32.021Z"
   },
   {
    "duration": 6,
    "start_time": "2024-06-11T06:13:01.415Z"
   },
   {
    "duration": 5,
    "start_time": "2024-06-11T06:13:10.484Z"
   },
   {
    "duration": 5,
    "start_time": "2024-06-11T06:13:33.880Z"
   },
   {
    "duration": 6,
    "start_time": "2024-06-11T06:14:00.444Z"
   },
   {
    "duration": 316,
    "start_time": "2024-06-11T06:14:15.475Z"
   },
   {
    "duration": 5,
    "start_time": "2024-06-11T06:14:37.444Z"
   },
   {
    "duration": 7,
    "start_time": "2024-06-11T06:14:47.688Z"
   },
   {
    "duration": 5,
    "start_time": "2024-06-11T06:15:32.573Z"
   },
   {
    "duration": 6,
    "start_time": "2024-06-11T06:15:46.748Z"
   },
   {
    "duration": 9,
    "start_time": "2024-06-11T06:15:53.628Z"
   },
   {
    "duration": 13,
    "start_time": "2024-06-12T04:15:00.349Z"
   },
   {
    "duration": 17,
    "start_time": "2024-06-12T04:32:55.303Z"
   },
   {
    "duration": 11,
    "start_time": "2024-06-12T05:30:29.379Z"
   }
  ],
  "colab": {
   "provenance": []
  },
  "kernelspec": {
   "display_name": "Python 3 (ipykernel)",
   "language": "python",
   "name": "python3"
  },
  "language_info": {
   "codemirror_mode": {
    "name": "ipython",
    "version": 3
   },
   "file_extension": ".py",
   "mimetype": "text/x-python",
   "name": "python",
   "nbconvert_exporter": "python",
   "pygments_lexer": "ipython3",
   "version": "3.9.19"
  },
  "toc": {
   "base_numbering": 1,
   "nav_menu": {},
   "number_sections": true,
   "sideBar": true,
   "skip_h1_title": true,
   "title_cell": "Table of Contents",
   "title_sidebar": "Contents",
   "toc_cell": false,
   "toc_position": {},
   "toc_section_display": true,
   "toc_window_display": false
  }
 },
 "nbformat": 4,
 "nbformat_minor": 1
}
