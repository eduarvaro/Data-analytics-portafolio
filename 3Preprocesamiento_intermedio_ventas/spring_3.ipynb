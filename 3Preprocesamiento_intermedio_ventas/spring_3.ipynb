{
 "cells": [
  {
   "cell_type": "markdown",
   "metadata": {
    "id": "E0vqbgi9ay0H"
   },
   "source": [
    "# Déjame escuchar la música"
   ]
  },
  {
   "cell_type": "markdown",
   "metadata": {
    "id": "fhq_eyov_Zcs"
   },
   "source": [
    "# Contenido <a id='back'></a>\n",
    "\n",
    "* [Introducción](#intro)\n",
    "* [Etapa 1. Descripción de los datos](#data_review)\n",
    "    * [Conclusiones](#data_review_conclusions)\n",
    "* [Etapa 2. Preprocesamiento de datos](#data_preprocessing)\n",
    "    * [2.1 Estilo del encabezado](#header_style)\n",
    "    * [2.2 Valores ausentes](#missing_values)\n",
    "    * [2.3 Duplicados](#duplicates)\n",
    "    * [2.4 Conclusiones](#data_preprocessing_conclusions)\n",
    "* [Etapa 3. Prueba de hipótesis](#hypothesis)\n",
    "    * [3.1 Hipótesis 1: actividad de los usuarios y las usuarias en las dos ciudades](#activity)\n",
    "* [Conclusiones](#end)"
   ]
  },
  {
   "cell_type": "markdown",
   "metadata": {
    "id": "VUC88oWjTJw2"
   },
   "source": [
    "## Introducción <a id='intro'></a>\n",
    "Como analista de datos, tu trabajo consiste en analizar datos para extraer información valiosa y tomar decisiones basadas en ellos. Esto implica diferentes etapas, como la descripción general de los datos, el preprocesamiento y la prueba de hipótesis.\n",
    "\n",
    "Siempre que investigamos, necesitamos formular hipótesis que después podamos probar. A veces aceptamos estas hipótesis; otras veces, las rechazamos. Para tomar las decisiones correctas, una empresa debe ser capaz de entender si está haciendo las suposiciones correctas.\n",
    "\n",
    "En este proyecto, compararás las preferencias musicales de las ciudades de Springfield y Shelbyville. Estudiarás datos reales de transmisión de música online para probar la hipótesis a continuación y comparar el comportamiento de los usuarios y las usuarias de estas dos ciudades.\n",
    "\n",
    "### Objetivo:\n",
    "Prueba la hipótesis:\n",
    "1. La actividad de los usuarios y las usuarias difiere según el día de la semana y dependiendo de la ciudad.\n",
    "\n",
    "\n",
    "### Etapas\n",
    "Los datos del comportamiento del usuario se almacenan en el archivo `/datasets/music_project_en.csv`. No hay ninguna información sobre la calidad de los datos, así que necesitarás examinarlos antes de probar la hipótesis.\n",
    "\n",
    "Primero, evaluarás la calidad de los datos y verás si los problemas son significativos. Entonces, durante el preprocesamiento de datos, tomarás en cuenta los problemas más críticos.\n",
    "\n",
    "Tu proyecto consistirá en tres etapas:\n",
    " 1. Descripción de los datos.\n",
    " 2. Preprocesamiento de datos.\n",
    " 3. Prueba de hipótesis.\n",
    "\n",
    "\n",
    "\n",
    "\n",
    "\n",
    "\n"
   ]
  },
  {
   "cell_type": "markdown",
   "metadata": {
    "id": "Ml1hmfXC_Zcs"
   },
   "source": [
    "## Etapa 1. Descripción de los datos <a id='data_review'></a>\n",
    "\n",
    "Abre los datos y examínalos."
   ]
  },
  {
   "cell_type": "markdown",
   "metadata": {
    "id": "57eAOGIz_Zcs"
   },
   "source": [
    "Necesitarás `pandas`, así que impórtalo."
   ]
  },
  {
   "cell_type": "code",
   "execution_count": 1,
   "metadata": {
    "id": "AXN7PHPN_Zcs"
   },
   "outputs": [],
   "source": [
    "import pandas as pd# Importar pandas\n"
   ]
  },
  {
   "cell_type": "markdown",
   "metadata": {
    "id": "SG23P8tt_Zcs"
   },
   "source": [
    "Lee el archivo `music_project_en.csv` de la carpeta `/datasets/` y guárdalo en la variable `df`:"
   ]
  },
  {
   "cell_type": "code",
   "execution_count": 2,
   "metadata": {
    "id": "fFVu7vqh_Zct"
   },
   "outputs": [],
   "source": [
    "# Leer el archivo y almacenarlo en df\n",
    "df=pd.read_csv(\"/datasets/music_project_en.csv\")"
   ]
  },
  {
   "cell_type": "markdown",
   "metadata": {
    "id": "rDoOMd3uTqnZ"
   },
   "source": [
    "Muestra las 10 primeras filas de la tabla:"
   ]
  },
  {
   "cell_type": "code",
   "execution_count": 3,
   "metadata": {
    "id": "oWTVX3gW_Zct"
   },
   "outputs": [
    {
     "name": "stdout",
     "output_type": "stream",
     "text": [
      "     userID                        Track            artist   genre  \\\n",
      "0  FFB692EC            Kamigata To Boots  The Mass Missile    rock   \n",
      "1  55204538  Delayed Because of Accident  Andreas Rönnberg    rock   \n",
      "2    20EC38            Funiculì funiculà       Mario Lanza     pop   \n",
      "3  A3DD03C9        Dragons in the Sunset        Fire + Ice    folk   \n",
      "4  E2DC1FAE                  Soul People        Space Echo   dance   \n",
      "5  842029A1                       Chains          Obladaet  rusrap   \n",
      "6  4CB90AA5                         True      Roman Messer   dance   \n",
      "7  F03E1C1F             Feeling This Way   Polina Griffith   dance   \n",
      "8  8FA1D3BE                     L’estate       Julia Dalia  ruspop   \n",
      "9  E772D5C0                    Pessimist               NaN   dance   \n",
      "\n",
      "        City        time        Day  \n",
      "0  Shelbyville  20:28:33  Wednesday  \n",
      "1  Springfield  14:07:09     Friday  \n",
      "2  Shelbyville  20:58:07  Wednesday  \n",
      "3  Shelbyville  08:37:09     Monday  \n",
      "4  Springfield  08:34:34     Monday  \n",
      "5  Shelbyville  13:09:41     Friday  \n",
      "6  Springfield  13:00:07  Wednesday  \n",
      "7  Springfield  20:47:49  Wednesday  \n",
      "8  Springfield  09:17:40     Friday  \n",
      "9  Shelbyville  21:20:49  Wednesday  \n"
     ]
    }
   ],
   "source": [
    "# Obtener las 10 primeras filas de la tabla df\n",
    "print(df.head(10))"
   ]
  },
  {
   "cell_type": "markdown",
   "metadata": {
    "id": "EO73Kwic_Zct"
   },
   "source": [
    "Obtén la información general sobre la tabla con un comando. Conoces el método que muestra la información general que necesitamos."
   ]
  },
  {
   "cell_type": "code",
   "execution_count": 4,
   "metadata": {
    "id": "DSf2kIb-_Zct"
   },
   "outputs": [
    {
     "name": "stdout",
     "output_type": "stream",
     "text": [
      "<class 'pandas.core.frame.DataFrame'>\n",
      "RangeIndex: 65079 entries, 0 to 65078\n",
      "Data columns (total 7 columns):\n",
      " #   Column    Non-Null Count  Dtype \n",
      "---  ------    --------------  ----- \n",
      " 0     userID  65079 non-null  object\n",
      " 1   Track     63736 non-null  object\n",
      " 2   artist    57512 non-null  object\n",
      " 3   genre     63881 non-null  object\n",
      " 4     City    65079 non-null  object\n",
      " 5   time      65079 non-null  object\n",
      " 6   Day       65079 non-null  object\n",
      "dtypes: object(7)\n",
      "memory usage: 3.5+ MB\n",
      "None\n"
     ]
    }
   ],
   "source": [
    "# Obtener la información general sobre nuestros datos\n",
    "print(df.info())"
   ]
  },
  {
   "cell_type": "markdown",
   "metadata": {
    "id": "TaQ2Iwbr_Zct"
   },
   "source": [
    "Estas son nuestras observaciones sobre la tabla. Contiene siete columnas. Almacenan los mismos tipos de datos: `object`.\n",
    "\n",
    "Según la documentación:\n",
    "- `' userID'`: identificador del usuario o la usuaria;\n",
    "- `'Track'`: título de la canción;\n",
    "- `'artist'`: nombre del artista;\n",
    "- `'genre'`: género de la pista;\n",
    "- `'City'`: ciudad del usuario o la usuaria;\n",
    "- `'time'`: la hora exacta en la que se reprodujo la canción;\n",
    "- `'Day'`: día de la semana.\n",
    "\n",
    "Podemos ver tres problemas con el estilo en los encabezados de la tabla:\n",
    "1. Algunos encabezados están en mayúsculas, otros en minúsculas.\n",
    "2. Hay espacios en algunos encabezados.\n",
    "3. userID esta mal escrito por lo que la forma correcta seria agregarle un \"_\" guion bajo para que quede de la sig. manera \"user_id\"`Detecta el tercer problema por tu cuenta y descríbelo aquí`.\n",
    "\n",
    "\n"
   ]
  },
  {
   "cell_type": "markdown",
   "metadata": {
    "id": "MCB6-dXG_Zct"
   },
   "source": [
    "### Escribe observaciones de tu parte. Estas son algunas de las preguntas que pueden ser útiles: <a id='data_review_conclusions'></a>\n",
    "\n",
    "`1.   ¿Qué tipo de datos tenemos a nuestra disposición en las filas? ¿Y cómo podemos entender lo que almacenan las columnas?`\n",
    "dentro de las filas tenemos datos cuantitativos, cualitativos y alfa-numericos y las columnas contiene los titulos referentes apropiados respecto a los datos de las filas \n",
    "\n",
    "`2.   ¿Hay suficientes datos para proporcionar respuestas a nuestra hipótesis o necesitamos más información?`\n",
    "No, ya que debemos trabajar con todos los datos para tener un buen resultado\n",
    "\n",
    "`3.   ¿Notaste algún problema en los datos, como valores ausentes, duplicados o tipos de datos incorrectos?`\n",
    "si, por ejemplo hay valores nulos o ausentes representados con NaN, otros datos incorrectos podrian ser los acentos ya que debemos de homologar lo mas que podamos "
   ]
  },
  {
   "cell_type": "markdown",
   "metadata": {
    "id": "SjYF6Ub9_Zct"
   },
   "source": [
    "## Etapa 2. Preprocesamiento de datos <a id='data_preprocessing'></a>\n",
    "\n",
    "El objetivo aquí es preparar los datos para que sean analizados.\n",
    "El primer paso es resolver cualquier problema con los encabezados. Luego podemos avanzar a los valores ausentes y duplicados. Empecemos.\n",
    "\n",
    "Corrige el formato en los encabezados de la tabla.\n"
   ]
  },
  {
   "cell_type": "markdown",
   "metadata": {
    "id": "dIaKXr29_Zct"
   },
   "source": [
    "### Estilo del encabezado <a id='header_style'></a>\n",
    "Muestra los encabezados de la tabla (los nombres de las columnas):"
   ]
  },
  {
   "cell_type": "code",
   "execution_count": 25,
   "metadata": {
    "id": "oKOTdF_Q_Zct"
   },
   "outputs": [
    {
     "name": "stdout",
     "output_type": "stream",
     "text": [
      "Index(['user_id', 'track', 'artist', 'genre', 'city', 'time', 'day'], dtype='object')\n"
     ]
    }
   ],
   "source": [
    "# Muestra los nombres de las columnas\n",
    "print(df.columns)"
   ]
  },
  {
   "cell_type": "code",
   "execution_count": 26,
   "metadata": {
    "scrolled": true
   },
   "outputs": [
    {
     "data": {
      "text/html": [
       "<div>\n",
       "<style scoped>\n",
       "    .dataframe tbody tr th:only-of-type {\n",
       "        vertical-align: middle;\n",
       "    }\n",
       "\n",
       "    .dataframe tbody tr th {\n",
       "        vertical-align: top;\n",
       "    }\n",
       "\n",
       "    .dataframe thead th {\n",
       "        text-align: right;\n",
       "    }\n",
       "</style>\n",
       "<table border=\"1\" class=\"dataframe\">\n",
       "  <thead>\n",
       "    <tr style=\"text-align: right;\">\n",
       "      <th></th>\n",
       "      <th>user_id</th>\n",
       "      <th>track</th>\n",
       "      <th>artist</th>\n",
       "      <th>genre</th>\n",
       "      <th>city</th>\n",
       "      <th>time</th>\n",
       "      <th>day</th>\n",
       "    </tr>\n",
       "  </thead>\n",
       "  <tbody>\n",
       "    <tr>\n",
       "      <th>0</th>\n",
       "      <td>FFB692EC</td>\n",
       "      <td>Kamigata To Boots</td>\n",
       "      <td>The Mass Missile</td>\n",
       "      <td>rock</td>\n",
       "      <td>Shelbyville</td>\n",
       "      <td>20:28:33</td>\n",
       "      <td>Wednesday</td>\n",
       "    </tr>\n",
       "    <tr>\n",
       "      <th>1</th>\n",
       "      <td>55204538</td>\n",
       "      <td>Delayed Because of Accident</td>\n",
       "      <td>Andreas Rönnberg</td>\n",
       "      <td>rock</td>\n",
       "      <td>Springfield</td>\n",
       "      <td>14:07:09</td>\n",
       "      <td>Friday</td>\n",
       "    </tr>\n",
       "    <tr>\n",
       "      <th>2</th>\n",
       "      <td>20EC38</td>\n",
       "      <td>Funiculì funiculà</td>\n",
       "      <td>Mario Lanza</td>\n",
       "      <td>pop</td>\n",
       "      <td>Shelbyville</td>\n",
       "      <td>20:58:07</td>\n",
       "      <td>Wednesday</td>\n",
       "    </tr>\n",
       "    <tr>\n",
       "      <th>3</th>\n",
       "      <td>A3DD03C9</td>\n",
       "      <td>Dragons in the Sunset</td>\n",
       "      <td>Fire + Ice</td>\n",
       "      <td>folk</td>\n",
       "      <td>Shelbyville</td>\n",
       "      <td>08:37:09</td>\n",
       "      <td>Monday</td>\n",
       "    </tr>\n",
       "    <tr>\n",
       "      <th>4</th>\n",
       "      <td>E2DC1FAE</td>\n",
       "      <td>Soul People</td>\n",
       "      <td>Space Echo</td>\n",
       "      <td>dance</td>\n",
       "      <td>Springfield</td>\n",
       "      <td>08:34:34</td>\n",
       "      <td>Monday</td>\n",
       "    </tr>\n",
       "    <tr>\n",
       "      <th>...</th>\n",
       "      <td>...</td>\n",
       "      <td>...</td>\n",
       "      <td>...</td>\n",
       "      <td>...</td>\n",
       "      <td>...</td>\n",
       "      <td>...</td>\n",
       "      <td>...</td>\n",
       "    </tr>\n",
       "    <tr>\n",
       "      <th>65074</th>\n",
       "      <td>729CBB09</td>\n",
       "      <td>My Name</td>\n",
       "      <td>McLean</td>\n",
       "      <td>rnb</td>\n",
       "      <td>Springfield</td>\n",
       "      <td>13:32:28</td>\n",
       "      <td>Wednesday</td>\n",
       "    </tr>\n",
       "    <tr>\n",
       "      <th>65075</th>\n",
       "      <td>D08D4A55</td>\n",
       "      <td>Maybe One Day (feat. Black Spade)</td>\n",
       "      <td>Blu &amp; Exile</td>\n",
       "      <td>hip</td>\n",
       "      <td>Shelbyville</td>\n",
       "      <td>10:00:00</td>\n",
       "      <td>Monday</td>\n",
       "    </tr>\n",
       "    <tr>\n",
       "      <th>65076</th>\n",
       "      <td>C5E3A0D5</td>\n",
       "      <td>Jalopiina</td>\n",
       "      <td>NaN</td>\n",
       "      <td>industrial</td>\n",
       "      <td>Springfield</td>\n",
       "      <td>20:09:26</td>\n",
       "      <td>Friday</td>\n",
       "    </tr>\n",
       "    <tr>\n",
       "      <th>65077</th>\n",
       "      <td>321D0506</td>\n",
       "      <td>Freight Train</td>\n",
       "      <td>Chas McDevitt</td>\n",
       "      <td>rock</td>\n",
       "      <td>Springfield</td>\n",
       "      <td>21:43:59</td>\n",
       "      <td>Friday</td>\n",
       "    </tr>\n",
       "    <tr>\n",
       "      <th>65078</th>\n",
       "      <td>3A64EF84</td>\n",
       "      <td>Tell Me Sweet Little Lies</td>\n",
       "      <td>Monica Lopez</td>\n",
       "      <td>country</td>\n",
       "      <td>Springfield</td>\n",
       "      <td>21:59:46</td>\n",
       "      <td>Friday</td>\n",
       "    </tr>\n",
       "  </tbody>\n",
       "</table>\n",
       "<p>65079 rows × 7 columns</p>\n",
       "</div>"
      ],
      "text/plain": [
       "        user_id                              track            artist  \\\n",
       "0      FFB692EC                  Kamigata To Boots  The Mass Missile   \n",
       "1      55204538        Delayed Because of Accident  Andreas Rönnberg   \n",
       "2        20EC38                  Funiculì funiculà       Mario Lanza   \n",
       "3      A3DD03C9              Dragons in the Sunset        Fire + Ice   \n",
       "4      E2DC1FAE                        Soul People        Space Echo   \n",
       "...         ...                                ...               ...   \n",
       "65074  729CBB09                            My Name            McLean   \n",
       "65075  D08D4A55  Maybe One Day (feat. Black Spade)       Blu & Exile   \n",
       "65076  C5E3A0D5                          Jalopiina               NaN   \n",
       "65077  321D0506                      Freight Train     Chas McDevitt   \n",
       "65078  3A64EF84          Tell Me Sweet Little Lies      Monica Lopez   \n",
       "\n",
       "            genre         city      time        day  \n",
       "0            rock  Shelbyville  20:28:33  Wednesday  \n",
       "1            rock  Springfield  14:07:09     Friday  \n",
       "2             pop  Shelbyville  20:58:07  Wednesday  \n",
       "3            folk  Shelbyville  08:37:09     Monday  \n",
       "4           dance  Springfield  08:34:34     Monday  \n",
       "...           ...          ...       ...        ...  \n",
       "65074         rnb  Springfield  13:32:28  Wednesday  \n",
       "65075         hip  Shelbyville  10:00:00     Monday  \n",
       "65076  industrial  Springfield  20:09:26     Friday  \n",
       "65077        rock  Springfield  21:43:59     Friday  \n",
       "65078     country  Springfield  21:59:46     Friday  \n",
       "\n",
       "[65079 rows x 7 columns]"
      ]
     },
     "execution_count": 26,
     "metadata": {},
     "output_type": "execute_result"
    }
   ],
   "source": [
    "df.columns=[col.lower() for col in df.columns]\n",
    "df"
   ]
  },
  {
   "cell_type": "code",
   "execution_count": 27,
   "metadata": {},
   "outputs": [],
   "source": [
    "df.columns=[espacios.strip() for espacios in df.columns]"
   ]
  },
  {
   "cell_type": "code",
   "execution_count": 28,
   "metadata": {},
   "outputs": [
    {
     "data": {
      "text/html": [
       "<div>\n",
       "<style scoped>\n",
       "    .dataframe tbody tr th:only-of-type {\n",
       "        vertical-align: middle;\n",
       "    }\n",
       "\n",
       "    .dataframe tbody tr th {\n",
       "        vertical-align: top;\n",
       "    }\n",
       "\n",
       "    .dataframe thead th {\n",
       "        text-align: right;\n",
       "    }\n",
       "</style>\n",
       "<table border=\"1\" class=\"dataframe\">\n",
       "  <thead>\n",
       "    <tr style=\"text-align: right;\">\n",
       "      <th></th>\n",
       "      <th>user_id</th>\n",
       "      <th>track</th>\n",
       "      <th>artist</th>\n",
       "      <th>genre</th>\n",
       "      <th>city</th>\n",
       "      <th>time</th>\n",
       "      <th>day</th>\n",
       "    </tr>\n",
       "  </thead>\n",
       "  <tbody>\n",
       "    <tr>\n",
       "      <th>0</th>\n",
       "      <td>FFB692EC</td>\n",
       "      <td>Kamigata To Boots</td>\n",
       "      <td>The Mass Missile</td>\n",
       "      <td>rock</td>\n",
       "      <td>Shelbyville</td>\n",
       "      <td>20:28:33</td>\n",
       "      <td>Wednesday</td>\n",
       "    </tr>\n",
       "    <tr>\n",
       "      <th>1</th>\n",
       "      <td>55204538</td>\n",
       "      <td>Delayed Because of Accident</td>\n",
       "      <td>Andreas Rönnberg</td>\n",
       "      <td>rock</td>\n",
       "      <td>Springfield</td>\n",
       "      <td>14:07:09</td>\n",
       "      <td>Friday</td>\n",
       "    </tr>\n",
       "    <tr>\n",
       "      <th>2</th>\n",
       "      <td>20EC38</td>\n",
       "      <td>Funiculì funiculà</td>\n",
       "      <td>Mario Lanza</td>\n",
       "      <td>pop</td>\n",
       "      <td>Shelbyville</td>\n",
       "      <td>20:58:07</td>\n",
       "      <td>Wednesday</td>\n",
       "    </tr>\n",
       "    <tr>\n",
       "      <th>3</th>\n",
       "      <td>A3DD03C9</td>\n",
       "      <td>Dragons in the Sunset</td>\n",
       "      <td>Fire + Ice</td>\n",
       "      <td>folk</td>\n",
       "      <td>Shelbyville</td>\n",
       "      <td>08:37:09</td>\n",
       "      <td>Monday</td>\n",
       "    </tr>\n",
       "    <tr>\n",
       "      <th>4</th>\n",
       "      <td>E2DC1FAE</td>\n",
       "      <td>Soul People</td>\n",
       "      <td>Space Echo</td>\n",
       "      <td>dance</td>\n",
       "      <td>Springfield</td>\n",
       "      <td>08:34:34</td>\n",
       "      <td>Monday</td>\n",
       "    </tr>\n",
       "    <tr>\n",
       "      <th>...</th>\n",
       "      <td>...</td>\n",
       "      <td>...</td>\n",
       "      <td>...</td>\n",
       "      <td>...</td>\n",
       "      <td>...</td>\n",
       "      <td>...</td>\n",
       "      <td>...</td>\n",
       "    </tr>\n",
       "    <tr>\n",
       "      <th>65074</th>\n",
       "      <td>729CBB09</td>\n",
       "      <td>My Name</td>\n",
       "      <td>McLean</td>\n",
       "      <td>rnb</td>\n",
       "      <td>Springfield</td>\n",
       "      <td>13:32:28</td>\n",
       "      <td>Wednesday</td>\n",
       "    </tr>\n",
       "    <tr>\n",
       "      <th>65075</th>\n",
       "      <td>D08D4A55</td>\n",
       "      <td>Maybe One Day (feat. Black Spade)</td>\n",
       "      <td>Blu &amp; Exile</td>\n",
       "      <td>hip</td>\n",
       "      <td>Shelbyville</td>\n",
       "      <td>10:00:00</td>\n",
       "      <td>Monday</td>\n",
       "    </tr>\n",
       "    <tr>\n",
       "      <th>65076</th>\n",
       "      <td>C5E3A0D5</td>\n",
       "      <td>Jalopiina</td>\n",
       "      <td>NaN</td>\n",
       "      <td>industrial</td>\n",
       "      <td>Springfield</td>\n",
       "      <td>20:09:26</td>\n",
       "      <td>Friday</td>\n",
       "    </tr>\n",
       "    <tr>\n",
       "      <th>65077</th>\n",
       "      <td>321D0506</td>\n",
       "      <td>Freight Train</td>\n",
       "      <td>Chas McDevitt</td>\n",
       "      <td>rock</td>\n",
       "      <td>Springfield</td>\n",
       "      <td>21:43:59</td>\n",
       "      <td>Friday</td>\n",
       "    </tr>\n",
       "    <tr>\n",
       "      <th>65078</th>\n",
       "      <td>3A64EF84</td>\n",
       "      <td>Tell Me Sweet Little Lies</td>\n",
       "      <td>Monica Lopez</td>\n",
       "      <td>country</td>\n",
       "      <td>Springfield</td>\n",
       "      <td>21:59:46</td>\n",
       "      <td>Friday</td>\n",
       "    </tr>\n",
       "  </tbody>\n",
       "</table>\n",
       "<p>65079 rows × 7 columns</p>\n",
       "</div>"
      ],
      "text/plain": [
       "        user_id                              track            artist  \\\n",
       "0      FFB692EC                  Kamigata To Boots  The Mass Missile   \n",
       "1      55204538        Delayed Because of Accident  Andreas Rönnberg   \n",
       "2        20EC38                  Funiculì funiculà       Mario Lanza   \n",
       "3      A3DD03C9              Dragons in the Sunset        Fire + Ice   \n",
       "4      E2DC1FAE                        Soul People        Space Echo   \n",
       "...         ...                                ...               ...   \n",
       "65074  729CBB09                            My Name            McLean   \n",
       "65075  D08D4A55  Maybe One Day (feat. Black Spade)       Blu & Exile   \n",
       "65076  C5E3A0D5                          Jalopiina               NaN   \n",
       "65077  321D0506                      Freight Train     Chas McDevitt   \n",
       "65078  3A64EF84          Tell Me Sweet Little Lies      Monica Lopez   \n",
       "\n",
       "            genre         city      time        day  \n",
       "0            rock  Shelbyville  20:28:33  Wednesday  \n",
       "1            rock  Springfield  14:07:09     Friday  \n",
       "2             pop  Shelbyville  20:58:07  Wednesday  \n",
       "3            folk  Shelbyville  08:37:09     Monday  \n",
       "4           dance  Springfield  08:34:34     Monday  \n",
       "...           ...          ...       ...        ...  \n",
       "65074         rnb  Springfield  13:32:28  Wednesday  \n",
       "65075         hip  Shelbyville  10:00:00     Monday  \n",
       "65076  industrial  Springfield  20:09:26     Friday  \n",
       "65077        rock  Springfield  21:43:59     Friday  \n",
       "65078     country  Springfield  21:59:46     Friday  \n",
       "\n",
       "[65079 rows x 7 columns]"
      ]
     },
     "execution_count": 28,
     "metadata": {},
     "output_type": "execute_result"
    }
   ],
   "source": [
    "df"
   ]
  },
  {
   "cell_type": "code",
   "execution_count": 29,
   "metadata": {},
   "outputs": [
    {
     "name": "stdout",
     "output_type": "stream",
     "text": [
      "Index(['user_id', 'track', 'artist', 'genre', 'city', 'time', 'day'], dtype='object')\n"
     ]
    }
   ],
   "source": [
    "print(df.columns)"
   ]
  },
  {
   "cell_type": "code",
   "execution_count": 30,
   "metadata": {},
   "outputs": [],
   "source": [
    "df.columns=[col.replace(\"userid\", \"user_id\") for col in df.columns]"
   ]
  },
  {
   "cell_type": "code",
   "execution_count": 31,
   "metadata": {},
   "outputs": [
    {
     "data": {
      "text/html": [
       "<div>\n",
       "<style scoped>\n",
       "    .dataframe tbody tr th:only-of-type {\n",
       "        vertical-align: middle;\n",
       "    }\n",
       "\n",
       "    .dataframe tbody tr th {\n",
       "        vertical-align: top;\n",
       "    }\n",
       "\n",
       "    .dataframe thead th {\n",
       "        text-align: right;\n",
       "    }\n",
       "</style>\n",
       "<table border=\"1\" class=\"dataframe\">\n",
       "  <thead>\n",
       "    <tr style=\"text-align: right;\">\n",
       "      <th></th>\n",
       "      <th>user_id</th>\n",
       "      <th>track</th>\n",
       "      <th>artist</th>\n",
       "      <th>genre</th>\n",
       "      <th>city</th>\n",
       "      <th>time</th>\n",
       "      <th>day</th>\n",
       "    </tr>\n",
       "  </thead>\n",
       "  <tbody>\n",
       "    <tr>\n",
       "      <th>0</th>\n",
       "      <td>FFB692EC</td>\n",
       "      <td>Kamigata To Boots</td>\n",
       "      <td>The Mass Missile</td>\n",
       "      <td>rock</td>\n",
       "      <td>Shelbyville</td>\n",
       "      <td>20:28:33</td>\n",
       "      <td>Wednesday</td>\n",
       "    </tr>\n",
       "    <tr>\n",
       "      <th>1</th>\n",
       "      <td>55204538</td>\n",
       "      <td>Delayed Because of Accident</td>\n",
       "      <td>Andreas Rönnberg</td>\n",
       "      <td>rock</td>\n",
       "      <td>Springfield</td>\n",
       "      <td>14:07:09</td>\n",
       "      <td>Friday</td>\n",
       "    </tr>\n",
       "    <tr>\n",
       "      <th>2</th>\n",
       "      <td>20EC38</td>\n",
       "      <td>Funiculì funiculà</td>\n",
       "      <td>Mario Lanza</td>\n",
       "      <td>pop</td>\n",
       "      <td>Shelbyville</td>\n",
       "      <td>20:58:07</td>\n",
       "      <td>Wednesday</td>\n",
       "    </tr>\n",
       "    <tr>\n",
       "      <th>3</th>\n",
       "      <td>A3DD03C9</td>\n",
       "      <td>Dragons in the Sunset</td>\n",
       "      <td>Fire + Ice</td>\n",
       "      <td>folk</td>\n",
       "      <td>Shelbyville</td>\n",
       "      <td>08:37:09</td>\n",
       "      <td>Monday</td>\n",
       "    </tr>\n",
       "    <tr>\n",
       "      <th>4</th>\n",
       "      <td>E2DC1FAE</td>\n",
       "      <td>Soul People</td>\n",
       "      <td>Space Echo</td>\n",
       "      <td>dance</td>\n",
       "      <td>Springfield</td>\n",
       "      <td>08:34:34</td>\n",
       "      <td>Monday</td>\n",
       "    </tr>\n",
       "    <tr>\n",
       "      <th>...</th>\n",
       "      <td>...</td>\n",
       "      <td>...</td>\n",
       "      <td>...</td>\n",
       "      <td>...</td>\n",
       "      <td>...</td>\n",
       "      <td>...</td>\n",
       "      <td>...</td>\n",
       "    </tr>\n",
       "    <tr>\n",
       "      <th>65074</th>\n",
       "      <td>729CBB09</td>\n",
       "      <td>My Name</td>\n",
       "      <td>McLean</td>\n",
       "      <td>rnb</td>\n",
       "      <td>Springfield</td>\n",
       "      <td>13:32:28</td>\n",
       "      <td>Wednesday</td>\n",
       "    </tr>\n",
       "    <tr>\n",
       "      <th>65075</th>\n",
       "      <td>D08D4A55</td>\n",
       "      <td>Maybe One Day (feat. Black Spade)</td>\n",
       "      <td>Blu &amp; Exile</td>\n",
       "      <td>hip</td>\n",
       "      <td>Shelbyville</td>\n",
       "      <td>10:00:00</td>\n",
       "      <td>Monday</td>\n",
       "    </tr>\n",
       "    <tr>\n",
       "      <th>65076</th>\n",
       "      <td>C5E3A0D5</td>\n",
       "      <td>Jalopiina</td>\n",
       "      <td>NaN</td>\n",
       "      <td>industrial</td>\n",
       "      <td>Springfield</td>\n",
       "      <td>20:09:26</td>\n",
       "      <td>Friday</td>\n",
       "    </tr>\n",
       "    <tr>\n",
       "      <th>65077</th>\n",
       "      <td>321D0506</td>\n",
       "      <td>Freight Train</td>\n",
       "      <td>Chas McDevitt</td>\n",
       "      <td>rock</td>\n",
       "      <td>Springfield</td>\n",
       "      <td>21:43:59</td>\n",
       "      <td>Friday</td>\n",
       "    </tr>\n",
       "    <tr>\n",
       "      <th>65078</th>\n",
       "      <td>3A64EF84</td>\n",
       "      <td>Tell Me Sweet Little Lies</td>\n",
       "      <td>Monica Lopez</td>\n",
       "      <td>country</td>\n",
       "      <td>Springfield</td>\n",
       "      <td>21:59:46</td>\n",
       "      <td>Friday</td>\n",
       "    </tr>\n",
       "  </tbody>\n",
       "</table>\n",
       "<p>65079 rows × 7 columns</p>\n",
       "</div>"
      ],
      "text/plain": [
       "        user_id                              track            artist  \\\n",
       "0      FFB692EC                  Kamigata To Boots  The Mass Missile   \n",
       "1      55204538        Delayed Because of Accident  Andreas Rönnberg   \n",
       "2        20EC38                  Funiculì funiculà       Mario Lanza   \n",
       "3      A3DD03C9              Dragons in the Sunset        Fire + Ice   \n",
       "4      E2DC1FAE                        Soul People        Space Echo   \n",
       "...         ...                                ...               ...   \n",
       "65074  729CBB09                            My Name            McLean   \n",
       "65075  D08D4A55  Maybe One Day (feat. Black Spade)       Blu & Exile   \n",
       "65076  C5E3A0D5                          Jalopiina               NaN   \n",
       "65077  321D0506                      Freight Train     Chas McDevitt   \n",
       "65078  3A64EF84          Tell Me Sweet Little Lies      Monica Lopez   \n",
       "\n",
       "            genre         city      time        day  \n",
       "0            rock  Shelbyville  20:28:33  Wednesday  \n",
       "1            rock  Springfield  14:07:09     Friday  \n",
       "2             pop  Shelbyville  20:58:07  Wednesday  \n",
       "3            folk  Shelbyville  08:37:09     Monday  \n",
       "4           dance  Springfield  08:34:34     Monday  \n",
       "...           ...          ...       ...        ...  \n",
       "65074         rnb  Springfield  13:32:28  Wednesday  \n",
       "65075         hip  Shelbyville  10:00:00     Monday  \n",
       "65076  industrial  Springfield  20:09:26     Friday  \n",
       "65077        rock  Springfield  21:43:59     Friday  \n",
       "65078     country  Springfield  21:59:46     Friday  \n",
       "\n",
       "[65079 rows x 7 columns]"
      ]
     },
     "execution_count": 31,
     "metadata": {},
     "output_type": "execute_result"
    }
   ],
   "source": [
    "df"
   ]
  },
  {
   "cell_type": "markdown",
   "metadata": {},
   "source": [
    "df.columns=[col.replace(\"usarid\" \"usar_id\") for col  in df.columns]"
   ]
  },
  {
   "cell_type": "markdown",
   "metadata": {
    "id": "Xu0zkfe5zNJe"
   },
   "source": [
    "Anteriormente, aprendiste acerca de la forma automática de cambiar el nombre de las columnas. Vamos a aplicarla ahora. Utiliza el bucle for para iterar sobre los nombres de las columnas y poner todos los caracteres en minúsculas. Cuando hayas terminado, vuelve a mostrar los encabezados de la tabla:"
   ]
  },
  {
   "cell_type": "code",
   "execution_count": 32,
   "metadata": {
    "id": "6I_RwwMhzM4e"
   },
   "outputs": [
    {
     "name": "stdout",
     "output_type": "stream",
     "text": [
      "Index(['user_id', 'track', 'artist', 'genre', 'city', 'time', 'day'], dtype='object')\n"
     ]
    }
   ],
   "source": [
    "# Bucle en los encabezados poniendo todo en minúsculas\n",
    "new_columns = []\n",
    "for old_columns in df.columns:\n",
    "    name_lowered = old_columns.lower()\n",
    "    new_columns.append(name_lowered)\n",
    "\n",
    "df.columns=new_columns\n",
    "print(df.columns)\n"
   ]
  },
  {
   "cell_type": "markdown",
   "metadata": {
    "id": "pweIRxjSzPYW"
   },
   "source": [
    "Ahora, utilizando el mismo método, elimina los espacios al principio y al final de los nombres de las columnas e imprime los nombres de las columnas nuevamente:"
   ]
  },
  {
   "cell_type": "code",
   "execution_count": 33,
   "metadata": {
    "id": "vVQXbFyJzSYl"
   },
   "outputs": [
    {
     "name": "stdout",
     "output_type": "stream",
     "text": [
      "Index(['user_id', 'track', 'artist', 'genre', 'city', 'time', 'day'], dtype='object')\n"
     ]
    }
   ],
   "source": [
    "# Bucle en los encabezados eliminando los espacios\n",
    "new_columns = []\n",
    "for old_columns in df.columns:\n",
    "    name_stripped = old_columns.strip()\n",
    "    new_columns.append(name_stripped)\n",
    "\n",
    "df.columns=new_columns\n",
    "print(df.columns)"
   ]
  },
  {
   "cell_type": "markdown",
   "metadata": {
    "id": "yCb8MW1JzURd"
   },
   "source": [
    "Necesitamos aplicar la regla de snake_case a la columna `userid`. Debe ser `user_id`. Cambia el nombre de esta columna y muestra los nombres de todas las columnas cuando hayas terminado."
   ]
  },
  {
   "cell_type": "code",
   "execution_count": 34,
   "metadata": {
    "id": "ISlFqs5y_Zct"
   },
   "outputs": [
    {
     "name": "stdout",
     "output_type": "stream",
     "text": [
      "Index(['user_id', 'track', 'artist', 'genre', 'city', 'time', 'day'], dtype='object')\n"
     ]
    }
   ],
   "source": [
    "# Cambiar el nombre de la columna \"userid\"\n",
    "new_columns = []\n",
    "for old_columns in df.columns:\n",
    "    name_no_space = old_columns.replace(\"userid\",\"user_id\")\n",
    "    new_columns.append(name_no_space)\n",
    "\n",
    "df.columns=new_columns\n",
    "print(df.columns)"
   ]
  },
  {
   "cell_type": "markdown",
   "metadata": {
    "id": "1dqbh00J_Zct"
   },
   "source": [
    "Comprueba el resultado. Muestra los encabezados una vez más:"
   ]
  },
  {
   "cell_type": "code",
   "execution_count": 35,
   "metadata": {
    "id": "d4NOAmTW_Zct"
   },
   "outputs": [
    {
     "name": "stdout",
     "output_type": "stream",
     "text": [
      "Index(['user_id', 'track', 'artist', 'genre', 'city', 'time', 'day'], dtype='object')\n"
     ]
    }
   ],
   "source": [
    "# Comprobar el resultado: la lista de encabezados\n",
    "df.columns=new_columns\n",
    "print(df.columns)"
   ]
  },
  {
   "cell_type": "markdown",
   "metadata": {
    "id": "5ISfbcfY_Zct"
   },
   "source": [
    "### Valores ausentes <a id='missing_values'></a>\n",
    " Primero, encuentra el número de valores ausentes en la tabla. Debes utilizar dos métodos en una secuencia para obtener el número de valores ausentes."
   ]
  },
  {
   "cell_type": "code",
   "execution_count": 36,
   "metadata": {
    "id": "RskX29qr_Zct"
   },
   "outputs": [
    {
     "data": {
      "text/plain": [
       "user_id       0\n",
       "track      1343\n",
       "artist     7567\n",
       "genre      1198\n",
       "city          0\n",
       "time          0\n",
       "day           0\n",
       "dtype: int64"
      ]
     },
     "execution_count": 36,
     "metadata": {},
     "output_type": "execute_result"
    }
   ],
   "source": [
    "# Calcular el número de valores ausentes\n",
    "df.isnull().sum()"
   ]
  },
  {
   "cell_type": "markdown",
   "metadata": {
    "id": "qubhgnlO_Zct"
   },
   "source": [
    "No todos los valores ausentes afectan a la investigación. Por ejemplo, los valores ausentes en `track` y `artist` no son cruciales. Simplemente puedes reemplazarlos con valores predeterminados como el string `'unknown'` (desconocido).\n",
    "\n",
    "Pero los valores ausentes en `'genre'` pueden afectar la comparación entre las preferencias musicales de Springfield y Shelbyville. En la vida real, sería útil saber las razones por las cuales hay datos ausentes e intentar recuperarlos. Pero no tenemos esa oportunidad en este proyecto. Así que tendrás que:\n",
    "* rellenar estos valores ausentes con un valor predeterminado;\n",
    "* evaluar cuánto podrían afectar los valores ausentes a tus cómputos;"
   ]
  },
  {
   "cell_type": "code",
   "execution_count": 52,
   "metadata": {},
   "outputs": [
    {
     "ename": "KeyError",
     "evalue": "\"None of [Index(['track', 'artist', 'genre'], dtype='object')] are in the [columns]\"",
     "output_type": "error",
     "traceback": [
      "\u001b[0;31m---------------------------------------------------------------------------\u001b[0m",
      "\u001b[0;31mKeyError\u001b[0m                                  Traceback (most recent call last)",
      "Cell \u001b[0;32mIn[52], line 2\u001b[0m\n\u001b[1;32m      1\u001b[0m columns_to_replace \u001b[38;5;241m=\u001b[39m [\u001b[38;5;124m\"\u001b[39m\u001b[38;5;124mtrack\u001b[39m\u001b[38;5;124m\"\u001b[39m, \u001b[38;5;124m\"\u001b[39m\u001b[38;5;124martist\u001b[39m\u001b[38;5;124m\"\u001b[39m, \u001b[38;5;124m\"\u001b[39m\u001b[38;5;124mgenre\u001b[39m\u001b[38;5;124m\"\u001b[39m]\n\u001b[0;32m----> 2\u001b[0m df[columns_to_replace] \u001b[38;5;241m=\u001b[39m \u001b[43mdf\u001b[49m\u001b[43m[\u001b[49m\u001b[43mcolumns_to_replace\u001b[49m\u001b[43m]\u001b[49m\u001b[38;5;241m.\u001b[39mapply(\u001b[38;5;28;01mlambda\u001b[39;00m col: col\u001b[38;5;241m.\u001b[39mfillna(\u001b[38;5;124m\"\u001b[39m\u001b[38;5;124munknown\u001b[39m\u001b[38;5;124m\"\u001b[39m))\n",
      "File \u001b[0;32m/opt/conda/envs/python3/lib/python3.9/site-packages/pandas/core/frame.py:3030\u001b[0m, in \u001b[0;36mDataFrame.__getitem__\u001b[0;34m(self, key)\u001b[0m\n\u001b[1;32m   3028\u001b[0m     \u001b[38;5;28;01mif\u001b[39;00m is_iterator(key):\n\u001b[1;32m   3029\u001b[0m         key \u001b[38;5;241m=\u001b[39m \u001b[38;5;28mlist\u001b[39m(key)\n\u001b[0;32m-> 3030\u001b[0m     indexer \u001b[38;5;241m=\u001b[39m \u001b[38;5;28;43mself\u001b[39;49m\u001b[38;5;241;43m.\u001b[39;49m\u001b[43mloc\u001b[49m\u001b[38;5;241;43m.\u001b[39;49m\u001b[43m_get_listlike_indexer\u001b[49m\u001b[43m(\u001b[49m\u001b[43mkey\u001b[49m\u001b[43m,\u001b[49m\u001b[43m \u001b[49m\u001b[43maxis\u001b[49m\u001b[38;5;241;43m=\u001b[39;49m\u001b[38;5;241;43m1\u001b[39;49m\u001b[43m,\u001b[49m\u001b[43m \u001b[49m\u001b[43mraise_missing\u001b[49m\u001b[38;5;241;43m=\u001b[39;49m\u001b[38;5;28;43;01mTrue\u001b[39;49;00m\u001b[43m)\u001b[49m[\u001b[38;5;241m1\u001b[39m]\n\u001b[1;32m   3032\u001b[0m \u001b[38;5;66;03m# take() does not accept boolean indexers\u001b[39;00m\n\u001b[1;32m   3033\u001b[0m \u001b[38;5;28;01mif\u001b[39;00m \u001b[38;5;28mgetattr\u001b[39m(indexer, \u001b[38;5;124m\"\u001b[39m\u001b[38;5;124mdtype\u001b[39m\u001b[38;5;124m\"\u001b[39m, \u001b[38;5;28;01mNone\u001b[39;00m) \u001b[38;5;241m==\u001b[39m \u001b[38;5;28mbool\u001b[39m:\n",
      "File \u001b[0;32m/opt/conda/envs/python3/lib/python3.9/site-packages/pandas/core/indexing.py:1266\u001b[0m, in \u001b[0;36m_LocIndexer._get_listlike_indexer\u001b[0;34m(self, key, axis, raise_missing)\u001b[0m\n\u001b[1;32m   1263\u001b[0m \u001b[38;5;28;01melse\u001b[39;00m:\n\u001b[1;32m   1264\u001b[0m     keyarr, indexer, new_indexer \u001b[38;5;241m=\u001b[39m ax\u001b[38;5;241m.\u001b[39m_reindex_non_unique(keyarr)\n\u001b[0;32m-> 1266\u001b[0m \u001b[38;5;28;43mself\u001b[39;49m\u001b[38;5;241;43m.\u001b[39;49m\u001b[43m_validate_read_indexer\u001b[49m\u001b[43m(\u001b[49m\u001b[43mkeyarr\u001b[49m\u001b[43m,\u001b[49m\u001b[43m \u001b[49m\u001b[43mindexer\u001b[49m\u001b[43m,\u001b[49m\u001b[43m \u001b[49m\u001b[43maxis\u001b[49m\u001b[43m,\u001b[49m\u001b[43m \u001b[49m\u001b[43mraise_missing\u001b[49m\u001b[38;5;241;43m=\u001b[39;49m\u001b[43mraise_missing\u001b[49m\u001b[43m)\u001b[49m\n\u001b[1;32m   1267\u001b[0m \u001b[38;5;28;01mreturn\u001b[39;00m keyarr, indexer\n",
      "File \u001b[0;32m/opt/conda/envs/python3/lib/python3.9/site-packages/pandas/core/indexing.py:1308\u001b[0m, in \u001b[0;36m_LocIndexer._validate_read_indexer\u001b[0;34m(self, key, indexer, axis, raise_missing)\u001b[0m\n\u001b[1;32m   1306\u001b[0m \u001b[38;5;28;01mif\u001b[39;00m missing \u001b[38;5;241m==\u001b[39m \u001b[38;5;28mlen\u001b[39m(indexer):\n\u001b[1;32m   1307\u001b[0m     axis_name \u001b[38;5;241m=\u001b[39m \u001b[38;5;28mself\u001b[39m\u001b[38;5;241m.\u001b[39mobj\u001b[38;5;241m.\u001b[39m_get_axis_name(axis)\n\u001b[0;32m-> 1308\u001b[0m     \u001b[38;5;28;01mraise\u001b[39;00m \u001b[38;5;167;01mKeyError\u001b[39;00m(\u001b[38;5;124mf\u001b[39m\u001b[38;5;124m\"\u001b[39m\u001b[38;5;124mNone of [\u001b[39m\u001b[38;5;132;01m{\u001b[39;00mkey\u001b[38;5;132;01m}\u001b[39;00m\u001b[38;5;124m] are in the [\u001b[39m\u001b[38;5;132;01m{\u001b[39;00maxis_name\u001b[38;5;132;01m}\u001b[39;00m\u001b[38;5;124m]\u001b[39m\u001b[38;5;124m\"\u001b[39m)\n\u001b[1;32m   1310\u001b[0m ax \u001b[38;5;241m=\u001b[39m \u001b[38;5;28mself\u001b[39m\u001b[38;5;241m.\u001b[39mobj\u001b[38;5;241m.\u001b[39m_get_axis(axis)\n\u001b[1;32m   1312\u001b[0m \u001b[38;5;66;03m# We (temporarily) allow for some missing keys with .loc, except in\u001b[39;00m\n\u001b[1;32m   1313\u001b[0m \u001b[38;5;66;03m# some cases (e.g. setting) in which \"raise_missing\" will be False\u001b[39;00m\n",
      "\u001b[0;31mKeyError\u001b[0m: \"None of [Index(['track', 'artist', 'genre'], dtype='object')] are in the [columns]\""
     ]
    }
   ],
   "source": [
    "columns_to_replace = [\"track\", \"artist\", \"genre\"]\n",
    "df[columns_to_replace] = df[columns_to_replace].apply(lambda col: col.fillna(\"unknown\"))"
   ]
  },
  {
   "cell_type": "code",
   "execution_count": 45,
   "metadata": {},
   "outputs": [
    {
     "name": "stdout",
     "output_type": "stream",
     "text": [
      "NaN    0\n",
      "NaN    0\n",
      "NaN    0\n",
      "NaN    0\n",
      "NaN    0\n",
      "NaN    0\n",
      "NaN    0\n",
      "dtype: int64\n"
     ]
    }
   ],
   "source": [
    "print(df.isnull().sum())"
   ]
  },
  {
   "cell_type": "markdown",
   "metadata": {
    "id": "fSv2laPA_Zct"
   },
   "source": [
    "Reemplazar los valores ausentes en las columnas `'track'`, `'artist'` y `'genre'` con el string `'unknown'`. Como mostramos anteriormente en las lecciones, la mejor forma de hacerlo es crear una lista que almacene los nombres de las columnas donde se necesita el reemplazo. Luego, utiliza esta lista e itera sobre las columnas donde se necesita el reemplazo haciendo el propio reemplazo."
   ]
  },
  {
   "cell_type": "code",
   "execution_count": 72,
   "metadata": {
    "id": "KplB5qWs_Zct"
   },
   "outputs": [],
   "source": [
    "# Bucle en los encabezados reemplazando los valores ausentes con 'unknown'\n",
    "columns_to_replace = [\"track\",\"artist\",\"genre\"]\n",
    "for col in columns_to_replace:\n",
    "    df[col].fillna(\"unknown\",inplace=True)\n"
   ]
  },
  {
   "cell_type": "markdown",
   "metadata": {
    "id": "Ilsm-MZo_Zct"
   },
   "source": [
    "Ahora comprueba el resultado para asegurarte de que después del reemplazo no haya valores ausentes en el conjunto de datos. Para hacer esto, cuenta los valores ausentes nuevamente."
   ]
  },
  {
   "cell_type": "code",
   "execution_count": 73,
   "metadata": {
    "id": "Tq4nYRX4_Zct"
   },
   "outputs": [
    {
     "name": "stdout",
     "output_type": "stream",
     "text": [
      "user_id    0\n",
      "track      0\n",
      "artist     0\n",
      "genre      0\n",
      "city       0\n",
      "time       0\n",
      "day        0\n",
      "dtype: int64\n"
     ]
    }
   ],
   "source": [
    "# Contar valores ausentes\n",
    "print(df.isna().sum())"
   ]
  },
  {
   "cell_type": "markdown",
   "metadata": {
    "id": "BWKRtBJ3_Zct"
   },
   "source": [
    "### Duplicados <a id='duplicates'></a>\n",
    "Encuentra el número de duplicados explícitos en la tabla. Una vez más, debes aplicar dos métodos en una secuencia para obtener la cantidad de duplicados explícitos."
   ]
  },
  {
   "cell_type": "code",
   "execution_count": 74,
   "metadata": {
    "id": "36eES_S0_Zct"
   },
   "outputs": [
    {
     "name": "stdout",
     "output_type": "stream",
     "text": [
      "3826\n"
     ]
    }
   ],
   "source": [
    "# Contar duplicados explícitos\n",
    "print(df.duplicated().sum())"
   ]
  },
  {
   "cell_type": "markdown",
   "metadata": {
    "id": "Ot25h6XR_Zct"
   },
   "source": [
    "Ahora, elimina todos los duplicados. Para ello, llama al método que hace exactamente esto."
   ]
  },
  {
   "cell_type": "code",
   "execution_count": 75,
   "metadata": {
    "id": "exFHq6tt_Zct"
   },
   "outputs": [],
   "source": [
    "# Eliminar duplicados explícitos\n",
    "df=df.drop_duplicates()\n",
    "df.drop_duplicates(inplace=True)"
   ]
  },
  {
   "cell_type": "markdown",
   "metadata": {
    "id": "Im2YwBEG_Zct"
   },
   "source": [
    "Comprobemos ahora si eliminamos con éxito todos los duplicados. Cuenta los duplicados explícitos una vez más para asegurarte de haberlos eliminado todos:"
   ]
  },
  {
   "cell_type": "code",
   "execution_count": 76,
   "metadata": {
    "id": "-8PuNWQ0_Zct"
   },
   "outputs": [
    {
     "name": "stdout",
     "output_type": "stream",
     "text": [
      "0\n"
     ]
    }
   ],
   "source": [
    "# Comprobar de nuevo si hay duplicados\n",
    "print(df.duplicated().sum())\n"
   ]
  },
  {
   "cell_type": "markdown",
   "metadata": {
    "id": "QlFBsxAr_Zct"
   },
   "source": [
    "Ahora queremos deshacernos de los duplicados implícitos en la columna `genre`. Por ejemplo, el nombre de un género se puede escribir de varias formas. Dichos errores también pueden afectar al resultado."
   ]
  },
  {
   "cell_type": "markdown",
   "metadata": {
    "id": "eSjWwsOh_Zct"
   },
   "source": [
    "Para hacerlo, primero mostremos una lista de nombres de género únicos, ordenados en orden alfabético. Para ello:\n",
    "* Extrae la columna `genre` del DataFrame.\n",
    "* Llama al método que devolverá todos los valores únicos en la columna extraída.\n"
   ]
  },
  {
   "cell_type": "code",
   "execution_count": 77,
   "metadata": {
    "id": "JIUcqzZN_Zct"
   },
   "outputs": [
    {
     "name": "stdout",
     "output_type": "stream",
     "text": [
      "['rock' 'pop' 'folk' 'dance' 'rusrap' 'ruspop' 'world' 'electronic'\n",
      " 'unknown' 'alternative' 'children' 'rnb' 'hip' 'jazz' 'postrock' 'latin'\n",
      " 'classical' 'metal' 'reggae' 'triphop' 'blues' 'instrumental' 'rusrock'\n",
      " 'dnb' 'türk' 'post' 'country' 'psychedelic' 'conjazz' 'indie'\n",
      " 'posthardcore' 'local' 'avantgarde' 'punk' 'videogame' 'techno' 'house'\n",
      " 'christmas' 'melodic' 'caucasian' 'reggaeton' 'soundtrack' 'singer' 'ska'\n",
      " 'salsa' 'ambient' 'film' 'western' 'rap' 'beats' \"hard'n'heavy\"\n",
      " 'progmetal' 'minimal' 'tropical' 'contemporary' 'new' 'soul' 'holiday'\n",
      " 'german' 'jpop' 'spiritual' 'urban' 'gospel' 'nujazz' 'folkmetal'\n",
      " 'trance' 'miscellaneous' 'anime' 'hardcore' 'progressive' 'korean'\n",
      " 'numetal' 'vocal' 'estrada' 'tango' 'loungeelectronic' 'classicmetal'\n",
      " 'dubstep' 'club' 'deep' 'southern' 'black' 'folkrock' 'fitness' 'french'\n",
      " 'disco' 'religious' 'hiphop' 'drum' 'extrememetal' 'türkçe'\n",
      " 'experimental' 'easy' 'metalcore' 'modern' 'argentinetango' 'old' 'swing'\n",
      " 'breaks' 'eurofolk' 'stonerrock' 'industrial' 'funk' 'middle' 'variété'\n",
      " 'other' 'adult' 'christian' 'thrash' 'gothic' 'international' 'muslim'\n",
      " 'relax' 'schlager' 'caribbean' 'nu' 'breakbeat' 'comedy' 'chill' 'newage'\n",
      " 'specialty' 'uzbek' 'k-pop' 'balkan' 'chinese' 'meditative' 'dub' 'power'\n",
      " 'death' 'grime' 'arabesk' 'romance' 'flamenco' 'leftfield' 'european'\n",
      " 'tech' 'newwave' 'dancehall' 'mpb' 'piano' 'top' 'bigroom' 'opera'\n",
      " 'celtic' 'tradjazz' 'acoustic' 'epicmetal' 'hip-hop' 'historisch'\n",
      " 'downbeat' 'downtempo' 'africa' 'audiobook' 'jewish' 'sängerportrait'\n",
      " 'deutschrock' 'eastern' 'action' 'future' 'electropop' 'folklore'\n",
      " 'bollywood' 'marschmusik' 'rnr' 'karaoke' 'indian' 'rancheras'\n",
      " 'afrikaans' 'rhythm' 'sound' 'deutschspr' 'trip' 'lovers' 'choral'\n",
      " 'dancepop' 'retro' 'smooth' 'mexican' 'brazilian' 'ïîï' 'mood' 'surf'\n",
      " 'gangsta' 'inspirational' 'idm' 'ethnic' 'bluegrass' 'broadway'\n",
      " 'animated' 'americana' 'karadeniz' 'rockabilly' 'colombian' 'self' 'hop'\n",
      " 'sertanejo' 'japanese' 'canzone' 'lounge' 'sport' 'ragga' 'traditional'\n",
      " 'gitarre' 'frankreich' 'emo' 'laiko' 'cantopop' 'glitch' 'documentary'\n",
      " 'oceania' 'popeurodance' 'dark' 'vi' 'grunge' 'hardstyle' 'samba'\n",
      " 'garage' 'art' 'folktronica' 'entehno' 'mediterranean' 'chamber' 'cuban'\n",
      " 'taraftar' 'gypsy' 'hardtechno' 'shoegazing' 'bossa' 'latino' 'worldbeat'\n",
      " 'malaysian' 'baile' 'ghazal' 'arabic' 'popelectronic' 'acid' 'kayokyoku'\n",
      " 'neoklassik' 'tribal' 'tanzorchester' 'native' 'independent' 'cantautori'\n",
      " 'handsup' 'punjabi' 'synthpop' 'rave' 'französisch' 'quebecois' 'speech'\n",
      " 'soulful' 'jam' 'ram' 'horror' 'orchestral' 'neue' 'roots' 'slow'\n",
      " 'jungle' 'indipop' 'axé' 'fado' 'showtunes' 'arena' 'irish' 'mandopop'\n",
      " 'forró' 'dirty' 'regional']\n"
     ]
    }
   ],
   "source": [
    "# Inspeccionar los nombres de géneros únicos\n",
    "print(df[\"genre\"].unique())"
   ]
  },
  {
   "cell_type": "markdown",
   "metadata": {
    "id": "qej-Qmuo_Zct"
   },
   "source": [
    "Busca en la lista para encontrar duplicados implícitos del género `hiphop`. Estos pueden ser nombres escritos incorrectamente o nombres alternativos para el mismo género.\n",
    "\n",
    "Verás los siguientes duplicados implícitos:\n",
    "* `hip`\n",
    "* `hop`\n",
    "* `hip-hop`\n",
    "\n",
    "Para deshacerte de ellos, crea una función llamada `replace_wrong_genres()` con dos parámetros:\n",
    "* `wrong_genres=`: esta es una lista que contiene todos los valores que necesitas reemplazar.\n",
    "* `correct_genre=`: este es un string que vas a utilizar como reemplazo.\n",
    "\n",
    "Como resultado, la función debería corregir los nombres en la columna `'genre'` de la tabla `df`, es decir, remplazar cada valor de la lista `wrong_genres` por el valor en `correct_genre`.\n",
    "\n",
    "Dentro del cuerpo de la función, utiliza un bucle `'for'` para iterar sobre la lista de géneros incorrectos, extrae la columna `'genre'` y aplica el método `replace` para hacer correcciones."
   ]
  },
  {
   "cell_type": "code",
   "execution_count": 78,
   "metadata": {
    "id": "ErNDkmns_Zct"
   },
   "outputs": [],
   "source": [
    "# Función para reemplazar duplicados implícitos\n",
    "def replace_wrong_genres(df, column, wrong_genres, correct_genre):\n",
    "    for wrong_genre in correct_genre:\n",
    "        df[column] = df[column].replace(wrong_genre, correct_genre)\n",
    "    return df\n"
   ]
  },
  {
   "cell_type": "markdown",
   "metadata": {
    "id": "aDoBJxbA_Zct"
   },
   "source": [
    "Ahora, llama a `replace_wrong_genres()` y pásale tales argumentos para que retire los duplicados implícitos (`hip`, `hop` y `hip-hop`) y los reemplace por `hiphop`:"
   ]
  },
  {
   "cell_type": "code",
   "execution_count": 79,
   "metadata": {
    "id": "YN5i2hpmSo09"
   },
   "outputs": [],
   "source": [
    "# Eliminar duplicados implícitos\n",
    "wrong_genres = [\"hip\",\"hop\",\"hip-hop\"]\n",
    "correct_genre=\"hiphop\"\n",
    "df[\"genre\"].replace(wrong_genres,correct_genre, inplace=True)"
   ]
  },
  {
   "cell_type": "markdown",
   "metadata": {
    "id": "zQKF16_RG15m"
   },
   "source": [
    "Asegúrate de que los nombres duplicados han sido eliminados. Muestra la lista de valores únicos de la columna `'genre'` una vez más:"
   ]
  },
  {
   "cell_type": "code",
   "execution_count": 80,
   "metadata": {
    "id": "wvixALnFG15m"
   },
   "outputs": [
    {
     "name": "stdout",
     "output_type": "stream",
     "text": [
      "['rock' 'pop' 'folk' 'dance' 'rusrap' 'ruspop' 'world' 'electronic'\n",
      " 'unknown' 'alternative' 'children' 'rnb' 'hiphop' 'jazz' 'postrock'\n",
      " 'latin' 'classical' 'metal' 'reggae' 'triphop' 'blues' 'instrumental'\n",
      " 'rusrock' 'dnb' 'türk' 'post' 'country' 'psychedelic' 'conjazz' 'indie'\n",
      " 'posthardcore' 'local' 'avantgarde' 'punk' 'videogame' 'techno' 'house'\n",
      " 'christmas' 'melodic' 'caucasian' 'reggaeton' 'soundtrack' 'singer' 'ska'\n",
      " 'salsa' 'ambient' 'film' 'western' 'rap' 'beats' \"hard'n'heavy\"\n",
      " 'progmetal' 'minimal' 'tropical' 'contemporary' 'new' 'soul' 'holiday'\n",
      " 'german' 'jpop' 'spiritual' 'urban' 'gospel' 'nujazz' 'folkmetal'\n",
      " 'trance' 'miscellaneous' 'anime' 'hardcore' 'progressive' 'korean'\n",
      " 'numetal' 'vocal' 'estrada' 'tango' 'loungeelectronic' 'classicmetal'\n",
      " 'dubstep' 'club' 'deep' 'southern' 'black' 'folkrock' 'fitness' 'french'\n",
      " 'disco' 'religious' 'drum' 'extrememetal' 'türkçe' 'experimental' 'easy'\n",
      " 'metalcore' 'modern' 'argentinetango' 'old' 'swing' 'breaks' 'eurofolk'\n",
      " 'stonerrock' 'industrial' 'funk' 'middle' 'variété' 'other' 'adult'\n",
      " 'christian' 'thrash' 'gothic' 'international' 'muslim' 'relax' 'schlager'\n",
      " 'caribbean' 'nu' 'breakbeat' 'comedy' 'chill' 'newage' 'specialty'\n",
      " 'uzbek' 'k-pop' 'balkan' 'chinese' 'meditative' 'dub' 'power' 'death'\n",
      " 'grime' 'arabesk' 'romance' 'flamenco' 'leftfield' 'european' 'tech'\n",
      " 'newwave' 'dancehall' 'mpb' 'piano' 'top' 'bigroom' 'opera' 'celtic'\n",
      " 'tradjazz' 'acoustic' 'epicmetal' 'historisch' 'downbeat' 'downtempo'\n",
      " 'africa' 'audiobook' 'jewish' 'sängerportrait' 'deutschrock' 'eastern'\n",
      " 'action' 'future' 'electropop' 'folklore' 'bollywood' 'marschmusik' 'rnr'\n",
      " 'karaoke' 'indian' 'rancheras' 'afrikaans' 'rhythm' 'sound' 'deutschspr'\n",
      " 'trip' 'lovers' 'choral' 'dancepop' 'retro' 'smooth' 'mexican'\n",
      " 'brazilian' 'ïîï' 'mood' 'surf' 'gangsta' 'inspirational' 'idm' 'ethnic'\n",
      " 'bluegrass' 'broadway' 'animated' 'americana' 'karadeniz' 'rockabilly'\n",
      " 'colombian' 'self' 'sertanejo' 'japanese' 'canzone' 'lounge' 'sport'\n",
      " 'ragga' 'traditional' 'gitarre' 'frankreich' 'emo' 'laiko' 'cantopop'\n",
      " 'glitch' 'documentary' 'oceania' 'popeurodance' 'dark' 'vi' 'grunge'\n",
      " 'hardstyle' 'samba' 'garage' 'art' 'folktronica' 'entehno'\n",
      " 'mediterranean' 'chamber' 'cuban' 'taraftar' 'gypsy' 'hardtechno'\n",
      " 'shoegazing' 'bossa' 'latino' 'worldbeat' 'malaysian' 'baile' 'ghazal'\n",
      " 'arabic' 'popelectronic' 'acid' 'kayokyoku' 'neoklassik' 'tribal'\n",
      " 'tanzorchester' 'native' 'independent' 'cantautori' 'handsup' 'punjabi'\n",
      " 'synthpop' 'rave' 'französisch' 'quebecois' 'speech' 'soulful' 'jam'\n",
      " 'ram' 'horror' 'orchestral' 'neue' 'roots' 'slow' 'jungle' 'indipop'\n",
      " 'axé' 'fado' 'showtunes' 'arena' 'irish' 'mandopop' 'forró' 'dirty'\n",
      " 'regional']\n"
     ]
    }
   ],
   "source": [
    "# Comprobación de duplicados implícitos\n",
    "\n",
    "print(df[\"genre\"].unique())"
   ]
  },
  {
   "cell_type": "markdown",
   "metadata": {
    "id": "jz6a9-7HQUDd"
   },
   "source": [
    "### Tus observaciones <a id='data_preprocessing_conclusions'></a>\n",
    "\n",
    "`Describe brevemente lo que has notado al analizar duplicados, cómo abordaste sus eliminaciones y qué resultados obtuviste.`\n",
    "\n",
    "una ves realizado los cambios en la columna genre ya se puede notar que todo esta bien homologado"
   ]
  },
  {
   "cell_type": "markdown",
   "metadata": {
    "id": "WttZHXH0SqKk"
   },
   "source": [
    "## Etapa 3. Prueba de hipótesis <a id='hypothesis'></a>"
   ]
  },
  {
   "cell_type": "markdown",
   "metadata": {
    "id": "Im936VVi_Zcu"
   },
   "source": [
    "### Hipótesis: comparar el comportamiento del usuario o la usuaria en las dos ciudades <a id='activity'></a>"
   ]
  },
  {
   "cell_type": "markdown",
   "metadata": {
    "id": "nwt_MuaL_Zcu"
   },
   "source": [
    "La hipótesis afirma que existen diferencias en la forma en que los usuarios y las usuarias de Springfield y Shelbyville consumen música. Para comprobar esto, usa los datos de tres días de la semana: lunes, miércoles y viernes.\n",
    "\n",
    "* Agrupa a los usuarios y las usuarias por ciudad.\n",
    "* Compara el número de canciones que cada grupo reprodujo el lunes, el miércoles y el viernes.\n"
   ]
  },
  {
   "cell_type": "markdown",
   "metadata": {
    "id": "8Dw_YMmT_Zcu"
   },
   "source": [
    "Realiza cada cálculo por separado.\n",
    "\n",
    "El primer paso es evaluar la actividad del usuario en cada ciudad. Recuerda las etapas dividir-aplicar-combinar de las que hablamos anteriormente en la lección. Tu objetivo ahora es agrupar los datos por ciudad, aplicar el método apropiado para contar durante la etapa de aplicación y luego encontrar la cantidad de canciones reproducidas en cada grupo especificando la columna para obtener el recuento.\n",
    "\n",
    "A continuación se muestra un ejemplo de cómo debería verse el resultado final:\n",
    "`df.groupby(by='....')['column'].method()`Realiza cada cálculo por separado.\n",
    "\n",
    "Para evaluar la actividad de los usuarios y las usuarias en cada ciudad, agrupa los datos por ciudad y encuentra la cantidad de canciones reproducidas en cada grupo.\n",
    "\n"
   ]
  },
  {
   "cell_type": "code",
   "execution_count": 81,
   "metadata": {
    "id": "0_Qs96oh_Zcu"
   },
   "outputs": [
    {
     "name": "stdout",
     "output_type": "stream",
     "text": [
      "                                                       user_id  \\\n",
      "city                                                             \n",
      "Shelbyville  FFB692EC20EC38A3DD03C9842029A1E772D5C094EB25C2...   \n",
      "Springfield  55204538E2DC1FAE4CB90AA5F03E1C1F8FA1D3BEBC5A3A...   \n",
      "\n",
      "                                                         track  \\\n",
      "city                                                             \n",
      "Shelbyville  Kamigata To BootsFuniculì funiculàDragons in t...   \n",
      "Springfield  Delayed Because of AccidentSoul PeopleTrueFeel...   \n",
      "\n",
      "                                                        artist  \\\n",
      "city                                                             \n",
      "Shelbyville  The Mass MissileMario LanzaFire + IceObladaetu...   \n",
      "Springfield  Andreas RönnbergSpace EchoRoman MesserPolina G...   \n",
      "\n",
      "                                                         genre  \\\n",
      "city                                                             \n",
      "Shelbyville  rockpopfolkrusrapdancepopalternativefolkchildr...   \n",
      "Springfield  rockdancedancedanceruspopworldelectronicpopdan...   \n",
      "\n",
      "                                                          time  \\\n",
      "city                                                             \n",
      "Shelbyville  20:28:3320:58:0708:37:0913:09:4121:20:4913:22:...   \n",
      "Springfield  14:07:0908:34:3413:00:0720:47:4909:17:4014:08:...   \n",
      "\n",
      "                                                           day  \n",
      "city                                                            \n",
      "Shelbyville  WednesdayWednesdayMondayFridayWednesdayWednesd...  \n",
      "Springfield  FridayMondayWednesdayWednesdayFridayMondayMond...  \n",
      "Springfield    42741\n",
      "Shelbyville    18512\n",
      "Name: city, dtype: int64\n"
     ]
    }
   ],
   "source": [
    "# Contar las canciones reproducidas en cada ciudad\n",
    "city = df.groupby(\"city\").sum()\n",
    "print(city)\n",
    "\n",
    "print(df[\"city\"].value_counts())"
   ]
  },
  {
   "cell_type": "markdown",
   "metadata": {
    "id": "t_Qx-3NewAnK"
   },
   "source": [
    "se reproducieron en total 18512 canciones en la ciudad de Shelbyville y mas del doble en Springfield`Comenta tus observaciones aquí`"
   ]
  },
  {
   "cell_type": "markdown",
   "metadata": {
    "id": "dzli3w8o_Zcu"
   },
   "source": [
    "Ahora agrupemos los datos por día de la semana y encontremos el número de canciones reproducidas el lunes, miércoles y viernes. Utiliza el mismo método que antes, pero ahora necesitamos una agrupación diferente.\n"
   ]
  },
  {
   "cell_type": "code",
   "execution_count": 82,
   "metadata": {
    "id": "uZMKjiJz_Zcu"
   },
   "outputs": [
    {
     "name": "stdout",
     "output_type": "stream",
     "text": [
      "                                                     user_id  \\\n",
      "day                                                            \n",
      "Friday     55204538842029A18FA1D3BECC782B0FEBA5A8B2F6A444...   \n",
      "Monday     A3DD03C9E2DC1FAEBC5A3A298B5192C0FF3FD2BDE3C575...   \n",
      "Wednesday  FFB692EC20EC384CB90AA5F03E1C1FE772D5C094EB25C2...   \n",
      "\n",
      "                                                       track  \\\n",
      "day                                                            \n",
      "Friday     Delayed Because of AccidentChainsL’estateAfter...   \n",
      "Monday     Dragons in the SunsetSoul PeopleGool la MitaIs...   \n",
      "Wednesday  Kamigata To BootsFuniculì funiculàTrueFeeling ...   \n",
      "\n",
      "                                                      artist  \\\n",
      "day                                                            \n",
      "Friday     Andreas RönnbergObladaetJulia DaliaDetroit Gra...   \n",
      "Monday     Fire + IceSpace EchoShireen Abdul WahabPink Fl...   \n",
      "Wednesday  The Mass MissileMario LanzaRoman MesserPolina ...   \n",
      "\n",
      "                                                       genre  \\\n",
      "day                                                            \n",
      "Friday     rockrusrapruspopdanceworldmetalruspopdancetrip...   \n",
      "Monday     folkdanceworldelectronicpopunknownalternativef...   \n",
      "Wednesday  rockpopdancedancedancepoprnbfolkpostrockjazzpo...   \n",
      "\n",
      "                                                        city  \\\n",
      "day                                                            \n",
      "Friday     SpringfieldShelbyvilleSpringfieldSpringfieldSh...   \n",
      "Monday     ShelbyvilleSpringfieldSpringfieldSpringfieldSp...   \n",
      "Wednesday  ShelbyvilleShelbyvilleSpringfieldSpringfieldSh...   \n",
      "\n",
      "                                                        time  \n",
      "day                                                           \n",
      "Friday     14:07:0913:09:4109:17:4020:04:1208:00:3120:19:...  \n",
      "Monday     08:37:0908:34:3414:08:4213:47:4909:19:4909:24:...  \n",
      "Wednesday  20:28:3320:58:0713:00:0720:47:4921:20:4913:22:...  \n",
      "Friday       21840\n",
      "Monday       21354\n",
      "Wednesday    18059\n",
      "Name: day, dtype: int64\n"
     ]
    }
   ],
   "source": [
    "# Calcular las canciones reproducidas en cada uno de los tres días\n",
    "day = df.groupby(\"day\").sum()\n",
    "print(day)\n",
    "print(df[\"day\"].value_counts())"
   ]
  },
  {
   "cell_type": "markdown",
   "metadata": {
    "id": "cC2tNrlL_Zcu"
   },
   "source": [
    "El dia Wenday cuanta con menos reproducciones en comparacion entre friday and monday que es muy poca la diferencia de reproduccion`Comenta tus observaciones aquí`"
   ]
  },
  {
   "cell_type": "markdown",
   "metadata": {
    "id": "POzs8bGa_Zcu"
   },
   "source": [
    "Ya sabes cómo contar entradas agrupándolas por ciudad o día. Ahora necesitas escribir una función que pueda contar entradas según ambos criterios simultáneamente.\n",
    "\n",
    "Crea la función `number_tracks()` para calcular el número de canciones reproducidas en un determinado día **y** ciudad. La función debe aceptar dos parámetros:\n",
    "\n",
    "- `day`: un día de la semana para filtrar. Por ejemplo, `'Monday'` (lunes).\n",
    "- `city`: una ciudad para filtrar. Por ejemplo, `'Springfield'`.\n",
    "\n",
    "Dentro de la función, aplicarás un filtrado consecutivo con indexación lógica.\n",
    "\n",
    "Primero filtra los datos por día y luego filtra la tabla resultante por ciudad.\n",
    "\n",
    "Después de filtrar los datos por dos criterios, cuenta el número de valores de la columna 'user_id' en la tabla resultante. Este recuento representa el número de entradas que estás buscando. Guarda el resultado en una nueva variable y devuélvelo desde la función."
   ]
  },
  {
   "cell_type": "code",
   "execution_count": 89,
   "metadata": {
    "id": "Nz3GdQB1_Zcu"
   },
   "outputs": [],
   "source": [
    "# Declara la función number_tracks() con dos parámetros: day= y city=.\n",
    "def filter_city (city,day):\n",
    "    filtered_result = []\n",
    "    for row in city:\n",
    "        if row [7]==day:\n",
    "            filtered_result.append(row)\n",
    "    return filtered_result\n",
    "\n",
    "    # Almacena las filas del DataFrame donde el valor en la columna 'day' es igual al parámetro day=\n",
    "\n",
    "    # Filtra las filas donde el valor en la columna 'city' es igual al parámetro city=\n",
    "\n",
    "    # Extrae la columna 'user_id' de la tabla filtrada y aplica el método count()\n",
    "\n",
    "    # Devolve el número de valores de la columna 'user_id'"
   ]
  },
  {
   "cell_type": "markdown",
   "metadata": {
    "id": "ytf7xFrFJQ2r"
   },
   "source": [
    "Llama a `number_tracks()` seis veces, cambiando los valores de los parámetros para que recuperes los datos de ambas ciudades para cada uno de los tres días."
   ]
  },
  {
   "cell_type": "code",
   "execution_count": 1,
   "metadata": {
    "id": "rJcRATNQ_Zcu"
   },
   "outputs": [
    {
     "ename": "NameError",
     "evalue": "name 'df' is not defined",
     "output_type": "error",
     "traceback": [
      "\u001b[0;31m---------------------------------------------------------------------------\u001b[0m",
      "\u001b[0;31mNameError\u001b[0m                                 Traceback (most recent call last)",
      "Cell \u001b[0;32mIn[1], line 2\u001b[0m\n\u001b[1;32m      1\u001b[0m \u001b[38;5;66;03m# El número de canciones reproducidas en Springfield el lunes\u001b[39;00m\n\u001b[0;32m----> 2\u001b[0m springfield\u001b[38;5;241m=\u001b[39m\u001b[43mdf\u001b[49m[df[\u001b[38;5;124m\"\u001b[39m\u001b[38;5;124mday\u001b[39m\u001b[38;5;124m\"\u001b[39m]\u001b[38;5;241m==\u001b[39m\u001b[38;5;124m\"\u001b[39m\u001b[38;5;124mMonday\u001b[39m\u001b[38;5;124m\"\u001b[39m][\u001b[38;5;124m\"\u001b[39m\u001b[38;5;124mcity\u001b[39m\u001b[38;5;124m\"\u001b[39m]\u001b[38;5;241m==\u001b[39m\u001b[38;5;124m\"\u001b[39m\u001b[38;5;124mSpringfield\u001b[39m\u001b[38;5;124m\"\u001b[39m\n\u001b[1;32m      3\u001b[0m \u001b[38;5;28mprint\u001b[39m(springfield\u001b[38;5;241m.\u001b[39msum())\n",
      "\u001b[0;31mNameError\u001b[0m: name 'df' is not defined"
     ]
    }
   ],
   "source": [
    "# El número de canciones reproducidas en Springfield el lunes\n",
    "springfield=df[df[\"day\"]==\"Monday\"][\"city\"]==\"Springfield\"\n",
    "print(springfield.sum())\n"
   ]
  },
  {
   "cell_type": "code",
   "execution_count": 121,
   "metadata": {
    "id": "hq_ncZ5T_Zcu"
   },
   "outputs": [
    {
     "name": "stdout",
     "output_type": "stream",
     "text": [
      "5614\n"
     ]
    }
   ],
   "source": [
    "# El número de canciones reproducidas en Shelbyville el lunes\n",
    "springfield=df[df[\"day\"]==\"Monday\"][\"city\"]==\"Shelbyville\"\n",
    "print(springfield.sum())"
   ]
  },
  {
   "cell_type": "code",
   "execution_count": 120,
   "metadata": {
    "id": "_NTy2VPU_Zcu"
   },
   "outputs": [
    {
     "name": "stdout",
     "output_type": "stream",
     "text": [
      "11056\n"
     ]
    }
   ],
   "source": [
    "# El número de canciones reproducidas en Springfield el miércoles\n",
    "springfield=df[df[\"day\"]==\"Wednesday\"][\"city\"]==\"Springfield\"\n",
    "print(springfield.sum())"
   ]
  },
  {
   "cell_type": "code",
   "execution_count": 122,
   "metadata": {
    "id": "j2y3TAwo_Zcu"
   },
   "outputs": [
    {
     "name": "stdout",
     "output_type": "stream",
     "text": [
      "7003\n"
     ]
    }
   ],
   "source": [
    "# El número de canciones reproducidas en Shelbyville el miércoles\n",
    "springfield=df[df[\"day\"]==\"Wednesday\"][\"city\"]==\"Shelbyville\"\n",
    "print(springfield.sum())"
   ]
  },
  {
   "cell_type": "code",
   "execution_count": 119,
   "metadata": {
    "id": "vYDw5u_K_Zcu"
   },
   "outputs": [
    {
     "name": "stdout",
     "output_type": "stream",
     "text": [
      "15945\n"
     ]
    }
   ],
   "source": [
    "# El número de canciones reproducidas en Springfield el viernes\n",
    "springfield=df[df[\"day\"]==\"Friday\"][\"city\"]==\"Springfield\"\n",
    "print(springfield.sum())"
   ]
  },
  {
   "cell_type": "code",
   "execution_count": 124,
   "metadata": {
    "id": "8_yzFtW3_Zcu"
   },
   "outputs": [
    {
     "name": "stdout",
     "output_type": "stream",
     "text": [
      "5895\n"
     ]
    }
   ],
   "source": [
    "# El número de canciones reproducidas en Shelbyville el viernes\n",
    "springfield=df[df[\"day\"]==\"Friday\"][\"city\"]==\"Shelbyville\"\n",
    "print(springfield.sum())"
   ]
  },
  {
   "cell_type": "markdown",
   "metadata": {
    "id": "-EgPIHYu_Zcu"
   },
   "source": [
    "**Conclusiones**\n",
    "\n",
    "`Comenta si la hipótesis es correcta o se debe rechazar. Explica tu razonamiento.` la hipotesis se puede asumir que se cumple ya que la suma de los dos dias con respecto a las ciudades son las mismas en comparacion al realizarse individulmente "
   ]
  },
  {
   "cell_type": "markdown",
   "metadata": {
    "id": "ykKQ0N65_Zcv"
   },
   "source": [
    "# Conclusiones <a id='end'></a>"
   ]
  },
  {
   "cell_type": "markdown",
   "metadata": {
    "id": "tjUwbHb3_Zcv"
   },
   "source": [
    "`Resume aquí tus conclusiones sobre la hipótesis.` se asume que la hipotesis es correcta ya que los datos al sumarlos y compararlos individualmente coinciden, pero hay que asumir que debe haber un sesgo ya que no contamos con toda la informacion completa por la omision de valores ausentes"
   ]
  }
 ],
 "metadata": {
  "ExecuteTimeLog": [
   {
    "duration": 459,
    "start_time": "2024-06-18T05:36:13.795Z"
   },
   {
    "duration": 189,
    "start_time": "2024-06-18T05:36:16.321Z"
   },
   {
    "duration": 13,
    "start_time": "2024-06-18T05:40:02.471Z"
   },
   {
    "duration": 33,
    "start_time": "2024-06-18T05:43:49.132Z"
   },
   {
    "duration": 31,
    "start_time": "2024-06-18T05:50:14.421Z"
   },
   {
    "duration": 305,
    "start_time": "2024-06-19T05:03:45.358Z"
   },
   {
    "duration": 20,
    "start_time": "2024-06-19T05:04:16.299Z"
   },
   {
    "duration": 21,
    "start_time": "2024-06-19T05:05:12.737Z"
   },
   {
    "duration": 20,
    "start_time": "2024-06-19T05:05:30.634Z"
   },
   {
    "duration": 22,
    "start_time": "2024-06-19T05:06:20.697Z"
   },
   {
    "duration": 20,
    "start_time": "2024-06-19T05:06:35.450Z"
   },
   {
    "duration": 449,
    "start_time": "2024-06-19T05:06:41.233Z"
   },
   {
    "duration": 199,
    "start_time": "2024-06-19T05:06:48.130Z"
   },
   {
    "duration": 11,
    "start_time": "2024-06-19T05:06:51.825Z"
   },
   {
    "duration": 32,
    "start_time": "2024-06-19T05:06:56.689Z"
   },
   {
    "duration": 8,
    "start_time": "2024-06-19T05:07:03.115Z"
   },
   {
    "duration": 5,
    "start_time": "2024-06-19T05:07:14.569Z"
   },
   {
    "duration": 59,
    "start_time": "2024-06-19T05:14:52.467Z"
   },
   {
    "duration": 5,
    "start_time": "2024-06-19T05:14:58.931Z"
   },
   {
    "duration": 15,
    "start_time": "2024-06-19T05:15:18.979Z"
   },
   {
    "duration": 6,
    "start_time": "2024-06-19T05:15:36.348Z"
   },
   {
    "duration": 6,
    "start_time": "2024-06-19T05:15:57.888Z"
   },
   {
    "duration": 6,
    "start_time": "2024-06-19T05:16:20.428Z"
   },
   {
    "duration": 7,
    "start_time": "2024-06-19T05:16:27.339Z"
   },
   {
    "duration": 6,
    "start_time": "2024-06-19T05:16:36.995Z"
   },
   {
    "duration": 6,
    "start_time": "2024-06-19T05:17:02.276Z"
   },
   {
    "duration": 758,
    "start_time": "2024-06-19T05:18:10.596Z"
   },
   {
    "duration": 55,
    "start_time": "2024-06-19T05:18:58.197Z"
   },
   {
    "duration": 5,
    "start_time": "2024-06-19T05:19:03.572Z"
   },
   {
    "duration": 6,
    "start_time": "2024-06-19T05:20:58.796Z"
   },
   {
    "duration": 5,
    "start_time": "2024-06-19T05:21:19.268Z"
   },
   {
    "duration": 5,
    "start_time": "2024-06-19T05:22:03.109Z"
   },
   {
    "duration": 6,
    "start_time": "2024-06-19T05:24:17.069Z"
   },
   {
    "duration": 5,
    "start_time": "2024-06-19T05:24:58.749Z"
   },
   {
    "duration": 30,
    "start_time": "2024-06-19T05:25:56.749Z"
   },
   {
    "duration": 28,
    "start_time": "2024-06-19T06:01:08.051Z"
   },
   {
    "duration": 27,
    "start_time": "2024-06-19T06:01:26.012Z"
   },
   {
    "duration": 7,
    "start_time": "2024-06-19T06:01:59.043Z"
   },
   {
    "duration": 5,
    "start_time": "2024-06-19T06:02:27.430Z"
   },
   {
    "duration": 40,
    "start_time": "2024-06-19T06:02:44.838Z"
   },
   {
    "duration": 16,
    "start_time": "2024-06-19T06:02:57.852Z"
   },
   {
    "duration": 28,
    "start_time": "2024-06-19T06:03:00.907Z"
   },
   {
    "duration": 82,
    "start_time": "2024-06-19T06:04:47.804Z"
   },
   {
    "duration": 155,
    "start_time": "2024-06-19T06:05:27.700Z"
   },
   {
    "duration": 69,
    "start_time": "2024-06-19T06:06:09.509Z"
   },
   {
    "duration": 69,
    "start_time": "2024-06-19T06:06:19.564Z"
   },
   {
    "duration": 24,
    "start_time": "2024-06-19T06:06:23.420Z"
   },
   {
    "duration": 70,
    "start_time": "2024-06-19T06:06:39.248Z"
   },
   {
    "duration": 70,
    "start_time": "2024-06-19T06:06:49.093Z"
   },
   {
    "duration": 28,
    "start_time": "2024-06-19T06:07:33.870Z"
   },
   {
    "duration": 74,
    "start_time": "2024-06-19T06:07:39.620Z"
   },
   {
    "duration": 149,
    "start_time": "2024-06-19T06:08:14.476Z"
   },
   {
    "duration": 15,
    "start_time": "2024-06-19T06:08:24.077Z"
   },
   {
    "duration": 37,
    "start_time": "2024-06-19T06:08:26.421Z"
   },
   {
    "duration": 80,
    "start_time": "2024-06-19T06:08:36.908Z"
   },
   {
    "duration": 73,
    "start_time": "2024-06-19T06:08:39.284Z"
   },
   {
    "duration": 68,
    "start_time": "2024-06-19T06:09:53.085Z"
   },
   {
    "duration": 11,
    "start_time": "2024-06-19T06:11:35.969Z"
   },
   {
    "duration": 5,
    "start_time": "2024-06-19T06:23:27.951Z"
   },
   {
    "duration": 4,
    "start_time": "2024-06-19T06:23:49.568Z"
   },
   {
    "duration": 27,
    "start_time": "2024-06-19T06:35:16.058Z"
   },
   {
    "duration": 36,
    "start_time": "2024-06-19T06:35:36.106Z"
   },
   {
    "duration": 5,
    "start_time": "2024-06-19T06:37:49.242Z"
   },
   {
    "duration": 31,
    "start_time": "2024-06-19T06:38:18.795Z"
   },
   {
    "duration": 33,
    "start_time": "2024-06-19T06:40:45.690Z"
   },
   {
    "duration": 35,
    "start_time": "2024-06-19T06:40:57.963Z"
   },
   {
    "duration": 33,
    "start_time": "2024-06-19T06:41:14.633Z"
   },
   {
    "duration": 6,
    "start_time": "2024-06-19T06:45:43.012Z"
   },
   {
    "duration": 7,
    "start_time": "2024-06-19T06:46:50.596Z"
   },
   {
    "duration": 7,
    "start_time": "2024-06-19T06:46:59.708Z"
   },
   {
    "duration": 7,
    "start_time": "2024-06-19T06:47:21.333Z"
   },
   {
    "duration": 22,
    "start_time": "2024-06-19T06:47:49.956Z"
   },
   {
    "duration": 5,
    "start_time": "2024-06-19T06:50:18.092Z"
   },
   {
    "duration": 10,
    "start_time": "2024-06-19T06:50:41.068Z"
   },
   {
    "duration": 12,
    "start_time": "2024-06-19T06:53:17.269Z"
   },
   {
    "duration": 6,
    "start_time": "2024-06-19T06:53:36.725Z"
   },
   {
    "duration": 7,
    "start_time": "2024-06-19T06:59:16.719Z"
   },
   {
    "duration": 5,
    "start_time": "2024-06-19T07:00:00.327Z"
   },
   {
    "duration": 6,
    "start_time": "2024-06-19T07:00:39.534Z"
   },
   {
    "duration": 10,
    "start_time": "2024-06-19T07:00:41.885Z"
   },
   {
    "duration": 5,
    "start_time": "2024-06-19T07:01:13.494Z"
   },
   {
    "duration": 6,
    "start_time": "2024-06-19T07:01:17.102Z"
   },
   {
    "duration": 10,
    "start_time": "2024-06-19T07:01:19.934Z"
   },
   {
    "duration": 17,
    "start_time": "2024-06-19T07:02:07.294Z"
   },
   {
    "duration": 16,
    "start_time": "2024-06-19T07:02:11.833Z"
   },
   {
    "duration": 473,
    "start_time": "2024-06-20T02:05:07.194Z"
   },
   {
    "duration": 187,
    "start_time": "2024-06-20T02:05:10.212Z"
   },
   {
    "duration": 10,
    "start_time": "2024-06-20T02:05:13.004Z"
   },
   {
    "duration": 34,
    "start_time": "2024-06-20T02:05:16.305Z"
   },
   {
    "duration": 5,
    "start_time": "2024-06-20T02:05:20.818Z"
   },
   {
    "duration": 5,
    "start_time": "2024-06-20T02:05:23.443Z"
   },
   {
    "duration": 7,
    "start_time": "2024-06-20T02:05:26.338Z"
   },
   {
    "duration": 6,
    "start_time": "2024-06-20T02:05:28.550Z"
   },
   {
    "duration": 5,
    "start_time": "2024-06-20T02:05:30.874Z"
   },
   {
    "duration": 51,
    "start_time": "2024-06-20T02:05:33.474Z"
   },
   {
    "duration": 24,
    "start_time": "2024-06-20T02:05:37.098Z"
   },
   {
    "duration": 29,
    "start_time": "2024-06-20T02:05:39.537Z"
   },
   {
    "duration": 75,
    "start_time": "2024-06-20T02:05:42.209Z"
   },
   {
    "duration": 175,
    "start_time": "2024-06-20T02:05:44.753Z"
   },
   {
    "duration": 79,
    "start_time": "2024-06-20T02:05:47.149Z"
   },
   {
    "duration": 10,
    "start_time": "2024-06-20T02:05:49.829Z"
   },
   {
    "duration": 4,
    "start_time": "2024-06-20T02:05:54.482Z"
   },
   {
    "duration": 14,
    "start_time": "2024-06-20T02:05:59.578Z"
   },
   {
    "duration": 11,
    "start_time": "2024-06-20T02:06:02.242Z"
   },
   {
    "duration": 578,
    "start_time": "2024-06-20T02:11:40.267Z"
   },
   {
    "duration": 43,
    "start_time": "2024-06-20T02:13:20.291Z"
   },
   {
    "duration": 3,
    "start_time": "2024-06-20T02:14:01.991Z"
   },
   {
    "duration": 4,
    "start_time": "2024-06-20T02:14:29.898Z"
   },
   {
    "duration": 815,
    "start_time": "2024-06-20T02:17:40.702Z"
   },
   {
    "duration": 4209,
    "start_time": "2024-06-20T02:18:20.996Z"
   },
   {
    "duration": 62,
    "start_time": "2024-06-20T02:18:54.316Z"
   },
   {
    "duration": 36,
    "start_time": "2024-06-20T02:19:00.011Z"
   },
   {
    "duration": 4220,
    "start_time": "2024-06-20T02:19:05.436Z"
   },
   {
    "duration": 4183,
    "start_time": "2024-06-20T02:19:40.959Z"
   },
   {
    "duration": 9,
    "start_time": "2024-06-20T02:21:21.893Z"
   },
   {
    "duration": 878,
    "start_time": "2024-06-20T02:21:58.828Z"
   },
   {
    "duration": 78,
    "start_time": "2024-06-20T02:23:45.676Z"
   },
   {
    "duration": 27,
    "start_time": "2024-06-20T02:24:43.700Z"
   },
   {
    "duration": 77,
    "start_time": "2024-06-20T02:25:01.438Z"
   },
   {
    "duration": 25,
    "start_time": "2024-06-20T02:27:20.781Z"
   },
   {
    "duration": 10,
    "start_time": "2024-06-20T02:29:19.981Z"
   },
   {
    "duration": 59,
    "start_time": "2024-06-20T02:31:02.462Z"
   },
   {
    "duration": 10,
    "start_time": "2024-06-20T02:32:03.886Z"
   },
   {
    "duration": 11,
    "start_time": "2024-06-20T02:35:21.840Z"
   },
   {
    "duration": 961,
    "start_time": "2024-06-20T02:37:56.385Z"
   },
   {
    "duration": 949,
    "start_time": "2024-06-20T02:37:59.214Z"
   },
   {
    "duration": 4098,
    "start_time": "2024-06-20T02:39:07.311Z"
   },
   {
    "duration": 4144,
    "start_time": "2024-06-20T02:39:12.227Z"
   },
   {
    "duration": 9,
    "start_time": "2024-06-20T02:40:53.442Z"
   },
   {
    "duration": 105,
    "start_time": "2024-06-20T02:44:23.800Z"
   },
   {
    "duration": 17,
    "start_time": "2024-06-20T02:44:33.434Z"
   },
   {
    "duration": 12,
    "start_time": "2024-06-20T02:44:58.679Z"
   },
   {
    "duration": 4171,
    "start_time": "2024-06-20T02:54:44.625Z"
   },
   {
    "duration": 19,
    "start_time": "2024-06-20T03:00:00.860Z"
   },
   {
    "duration": 19,
    "start_time": "2024-06-20T03:00:57.974Z"
   },
   {
    "duration": 23,
    "start_time": "2024-06-20T03:02:17.435Z"
   },
   {
    "duration": 39,
    "start_time": "2024-06-20T03:02:40.301Z"
   },
   {
    "duration": 29,
    "start_time": "2024-06-20T03:02:47.978Z"
   },
   {
    "duration": 57,
    "start_time": "2024-06-20T03:03:18.946Z"
   },
   {
    "duration": 4302,
    "start_time": "2024-06-20T03:09:06.100Z"
   },
   {
    "duration": 4220,
    "start_time": "2024-06-20T03:11:33.740Z"
   },
   {
    "duration": 2553,
    "start_time": "2024-06-20T03:12:12.206Z"
   },
   {
    "duration": 12,
    "start_time": "2024-06-20T03:12:40.626Z"
   },
   {
    "duration": 2667,
    "start_time": "2024-06-20T03:13:58.473Z"
   },
   {
    "duration": 3,
    "start_time": "2024-06-20T03:44:32.256Z"
   },
   {
    "duration": 158,
    "start_time": "2024-06-20T03:44:34.753Z"
   },
   {
    "duration": 9,
    "start_time": "2024-06-20T03:44:36.657Z"
   },
   {
    "duration": 33,
    "start_time": "2024-06-20T03:44:39.753Z"
   },
   {
    "duration": 4,
    "start_time": "2024-06-20T03:44:48.618Z"
   },
   {
    "duration": 5,
    "start_time": "2024-06-20T03:44:51.010Z"
   },
   {
    "duration": 6,
    "start_time": "2024-06-20T03:44:53.529Z"
   },
   {
    "duration": 5,
    "start_time": "2024-06-20T03:44:55.698Z"
   },
   {
    "duration": 5,
    "start_time": "2024-06-20T03:44:57.457Z"
   },
   {
    "duration": 28,
    "start_time": "2024-06-20T03:44:59.641Z"
   },
   {
    "duration": 16,
    "start_time": "2024-06-20T03:45:03.516Z"
   },
   {
    "duration": 24,
    "start_time": "2024-06-20T03:45:05.277Z"
   },
   {
    "duration": 71,
    "start_time": "2024-06-20T03:45:08.321Z"
   },
   {
    "duration": 155,
    "start_time": "2024-06-20T03:45:10.497Z"
   },
   {
    "duration": 69,
    "start_time": "2024-06-20T03:45:12.625Z"
   },
   {
    "duration": 10,
    "start_time": "2024-06-20T03:45:17.619Z"
   },
   {
    "duration": 8,
    "start_time": "2024-06-20T03:45:21.969Z"
   },
   {
    "duration": 13,
    "start_time": "2024-06-20T03:45:24.297Z"
   },
   {
    "duration": 9,
    "start_time": "2024-06-20T03:45:26.562Z"
   },
   {
    "duration": 4129,
    "start_time": "2024-06-20T03:45:34.026Z"
   },
   {
    "duration": 2536,
    "start_time": "2024-06-20T03:45:42.049Z"
   },
   {
    "duration": 364,
    "start_time": "2024-06-20T03:55:17.067Z"
   },
   {
    "duration": 352,
    "start_time": "2024-06-20T03:55:27.972Z"
   },
   {
    "duration": 24,
    "start_time": "2024-06-20T03:56:11.435Z"
   },
   {
    "duration": 12,
    "start_time": "2024-06-20T03:58:25.654Z"
   },
   {
    "duration": 36,
    "start_time": "2024-06-20T04:25:36.329Z"
   },
   {
    "duration": 35,
    "start_time": "2024-06-20T04:26:00.403Z"
   },
   {
    "duration": 5,
    "start_time": "2024-06-20T04:30:22.330Z"
   },
   {
    "duration": 17,
    "start_time": "2024-06-20T04:36:09.461Z"
   },
   {
    "duration": 4,
    "start_time": "2024-06-20T04:37:21.331Z"
   },
   {
    "duration": 5,
    "start_time": "2024-06-20T04:37:52.474Z"
   },
   {
    "duration": 353,
    "start_time": "2024-06-20T04:37:56.792Z"
   },
   {
    "duration": 20,
    "start_time": "2024-06-20T04:39:00.620Z"
   },
   {
    "duration": 6,
    "start_time": "2024-06-20T04:40:17.723Z"
   },
   {
    "duration": 21,
    "start_time": "2024-06-20T04:40:33.148Z"
   },
   {
    "duration": 28,
    "start_time": "2024-06-20T04:41:03.515Z"
   },
   {
    "duration": 7,
    "start_time": "2024-06-20T04:42:01.620Z"
   },
   {
    "duration": 59,
    "start_time": "2024-06-20T04:42:06.111Z"
   },
   {
    "duration": 21,
    "start_time": "2024-06-20T04:44:02.652Z"
   },
   {
    "duration": 24,
    "start_time": "2024-06-20T04:44:52.685Z"
   },
   {
    "duration": 4098,
    "start_time": "2024-06-20T04:47:10.580Z"
   },
   {
    "duration": 4149,
    "start_time": "2024-06-20T04:48:03.460Z"
   },
   {
    "duration": 14,
    "start_time": "2024-06-20T04:55:06.669Z"
   },
   {
    "duration": 60,
    "start_time": "2024-06-20T04:56:05.910Z"
   },
   {
    "duration": 9,
    "start_time": "2024-06-20T04:56:32.427Z"
   },
   {
    "duration": 10,
    "start_time": "2024-06-20T04:59:26.447Z"
   },
   {
    "duration": 20,
    "start_time": "2024-06-20T05:00:15.278Z"
   },
   {
    "duration": 75,
    "start_time": "2024-06-20T05:00:48.863Z"
   },
   {
    "duration": 74,
    "start_time": "2024-06-20T05:01:04.198Z"
   },
   {
    "duration": 22,
    "start_time": "2024-06-20T05:01:12.046Z"
   },
   {
    "duration": 335,
    "start_time": "2024-06-20T05:03:29.039Z"
   },
   {
    "duration": 297,
    "start_time": "2024-06-20T05:04:06.648Z"
   },
   {
    "duration": 84,
    "start_time": "2024-06-20T05:04:28.648Z"
   },
   {
    "duration": 973,
    "start_time": "2024-06-20T05:04:40.247Z"
   },
   {
    "duration": 130,
    "start_time": "2024-06-20T05:05:12.345Z"
   },
   {
    "duration": 18,
    "start_time": "2024-06-20T05:05:32.903Z"
   },
   {
    "duration": 11,
    "start_time": "2024-06-20T05:09:25.856Z"
   },
   {
    "duration": 17,
    "start_time": "2024-06-20T05:10:02.377Z"
   },
   {
    "duration": 15,
    "start_time": "2024-06-20T05:10:29.628Z"
   },
   {
    "duration": 17,
    "start_time": "2024-06-20T05:12:00.280Z"
   },
   {
    "duration": 15,
    "start_time": "2024-06-20T05:12:23.385Z"
   },
   {
    "duration": 7,
    "start_time": "2024-06-20T05:12:39.505Z"
   },
   {
    "duration": 22,
    "start_time": "2024-06-20T05:13:04.041Z"
   },
   {
    "duration": 318,
    "start_time": "2024-06-21T20:46:15.374Z"
   },
   {
    "duration": 495,
    "start_time": "2024-08-24T03:39:35.208Z"
   },
   {
    "duration": 181,
    "start_time": "2024-08-24T03:39:36.460Z"
   },
   {
    "duration": 11,
    "start_time": "2024-08-24T03:39:38.311Z"
   },
   {
    "duration": 45,
    "start_time": "2024-08-24T03:39:40.126Z"
   },
   {
    "duration": 5,
    "start_time": "2024-08-24T03:39:44.884Z"
   },
   {
    "duration": 135,
    "start_time": "2024-08-24T03:40:34.363Z"
   },
   {
    "duration": 19,
    "start_time": "2024-08-24T03:40:43.849Z"
   },
   {
    "duration": 233,
    "start_time": "2024-08-24T03:40:57.566Z"
   },
   {
    "duration": 32,
    "start_time": "2024-08-24T03:41:02.994Z"
   },
   {
    "duration": 5,
    "start_time": "2024-08-24T03:41:25.087Z"
   },
   {
    "duration": 25,
    "start_time": "2024-08-24T03:41:29.257Z"
   },
   {
    "duration": 32,
    "start_time": "2024-08-24T03:41:51.364Z"
   },
   {
    "duration": 19,
    "start_time": "2024-08-24T03:41:55.705Z"
   },
   {
    "duration": 19,
    "start_time": "2024-08-24T03:43:08.370Z"
   },
   {
    "duration": 7,
    "start_time": "2024-08-24T03:43:53.201Z"
   },
   {
    "duration": 5,
    "start_time": "2024-08-24T03:44:24.214Z"
   },
   {
    "duration": 4,
    "start_time": "2024-08-24T03:44:33.020Z"
   },
   {
    "duration": 4,
    "start_time": "2024-08-24T03:44:45.226Z"
   },
   {
    "duration": 16,
    "start_time": "2024-08-24T03:44:50.826Z"
   },
   {
    "duration": 4,
    "start_time": "2024-08-24T03:45:07.693Z"
   },
   {
    "duration": 33,
    "start_time": "2024-08-24T03:48:33.599Z"
   },
   {
    "duration": 32,
    "start_time": "2024-08-24T03:49:01.088Z"
   },
   {
    "duration": 4,
    "start_time": "2024-08-24T03:49:33.620Z"
   },
   {
    "duration": 17,
    "start_time": "2024-08-24T03:49:40.003Z"
   },
   {
    "duration": 5,
    "start_time": "2024-08-24T03:52:01.712Z"
   },
   {
    "duration": 18,
    "start_time": "2024-08-24T03:52:02.410Z"
   },
   {
    "duration": 4,
    "start_time": "2024-08-24T03:52:02.694Z"
   },
   {
    "duration": 18,
    "start_time": "2024-08-24T03:52:03.397Z"
   },
   {
    "duration": 4,
    "start_time": "2024-08-24T03:52:04.002Z"
   },
   {
    "duration": 4,
    "start_time": "2024-08-24T03:52:04.573Z"
   },
   {
    "duration": 20,
    "start_time": "2024-08-24T03:52:05.191Z"
   },
   {
    "duration": 5,
    "start_time": "2024-08-24T03:52:06.918Z"
   },
   {
    "duration": 7,
    "start_time": "2024-08-24T03:52:08.310Z"
   },
   {
    "duration": 6,
    "start_time": "2024-08-24T03:52:09.212Z"
   },
   {
    "duration": 4,
    "start_time": "2024-08-24T03:52:10.497Z"
   },
   {
    "duration": 27,
    "start_time": "2024-08-24T03:52:13.447Z"
   },
   {
    "duration": 34,
    "start_time": "2024-08-24T03:53:30.995Z"
   },
   {
    "duration": 32,
    "start_time": "2024-08-24T03:54:20.566Z"
   },
   {
    "duration": 208,
    "start_time": "2024-08-24T03:55:44.924Z"
   },
   {
    "duration": 19,
    "start_time": "2024-08-24T03:56:12.116Z"
   },
   {
    "duration": 29,
    "start_time": "2024-08-24T03:56:23.052Z"
   },
   {
    "duration": 31,
    "start_time": "2024-08-24T03:56:56.148Z"
   },
   {
    "duration": 5,
    "start_time": "2024-08-24T03:57:35.548Z"
   },
   {
    "duration": 35,
    "start_time": "2024-08-24T03:57:47.373Z"
   },
   {
    "duration": 32,
    "start_time": "2024-08-24T03:57:51.120Z"
   },
   {
    "duration": 33,
    "start_time": "2024-08-24T03:58:56.678Z"
   },
   {
    "duration": 7,
    "start_time": "2024-08-24T04:01:11.208Z"
   },
   {
    "duration": 32,
    "start_time": "2024-08-24T04:01:17.581Z"
   },
   {
    "duration": 810,
    "start_time": "2024-08-24T04:02:46.678Z"
   },
   {
    "duration": 694,
    "start_time": "2024-08-24T04:03:05.893Z"
   },
   {
    "duration": 250,
    "start_time": "2024-08-24T04:08:35.286Z"
   },
   {
    "duration": 64,
    "start_time": "2024-08-24T04:09:19.815Z"
   }
  ],
  "colab": {
   "collapsed_sections": [
    "E0vqbgi9ay0H",
    "VUC88oWjTJw2"
   ],
   "provenance": []
  },
  "kernelspec": {
   "display_name": "Python 3 (ipykernel)",
   "language": "python",
   "name": "python3"
  },
  "language_info": {
   "codemirror_mode": {
    "name": "ipython",
    "version": 3
   },
   "file_extension": ".py",
   "mimetype": "text/x-python",
   "name": "python",
   "nbconvert_exporter": "python",
   "pygments_lexer": "ipython3",
   "version": "3.11.7"
  },
  "toc": {
   "base_numbering": 1,
   "nav_menu": {},
   "number_sections": true,
   "sideBar": true,
   "skip_h1_title": true,
   "title_cell": "Table of Contents",
   "title_sidebar": "Contents",
   "toc_cell": false,
   "toc_position": {},
   "toc_section_display": true,
   "toc_window_display": false
  }
 },
 "nbformat": 4,
 "nbformat_minor": 4
}
