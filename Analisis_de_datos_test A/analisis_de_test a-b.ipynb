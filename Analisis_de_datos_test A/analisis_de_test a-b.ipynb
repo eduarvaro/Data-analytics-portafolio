{
 "cells": [
  {
   "cell_type": "markdown",
   "metadata": {},
   "source": [
    "# En este analisis se ha recopilado informacion por medio del departamento de Marketing para ayudar a aumentar los ingresos de una tienda online"
   ]
  },
  {
   "cell_type": "code",
   "execution_count": 1,
   "metadata": {},
   "outputs": [],
   "source": [
    "import pandas as pd\n",
    "import matplotlib.pyplot as plt\n",
    "import numpy as np\n",
    "import seaborn as sns\n",
    "import scipy.stats as ss\n",
    "import datetime as dt"
   ]
  },
  {
   "cell_type": "code",
   "execution_count": 2,
   "metadata": {},
   "outputs": [],
   "source": [
    "hipotesis = pd.read_csv('/datasets/hypotheses_us.csv', sep=';')\n",
    "order = pd.read_csv('/datasets/orders_us.csv')\n",
    "visit = pd.read_csv ('/datasets/visits_us.csv')"
   ]
  },
  {
   "cell_type": "code",
   "execution_count": 3,
   "metadata": {},
   "outputs": [
    {
     "name": "stdout",
     "output_type": "stream",
     "text": [
      "<class 'pandas.core.frame.DataFrame'>\n",
      "RangeIndex: 9 entries, 0 to 8\n",
      "Data columns (total 5 columns):\n",
      " #   Column      Non-Null Count  Dtype \n",
      "---  ------      --------------  ----- \n",
      " 0   Hypothesis  9 non-null      object\n",
      " 1   Reach       9 non-null      int64 \n",
      " 2   Impact      9 non-null      int64 \n",
      " 3   Confidence  9 non-null      int64 \n",
      " 4   Effort      9 non-null      int64 \n",
      "dtypes: int64(4), object(1)\n",
      "memory usage: 488.0+ bytes\n"
     ]
    }
   ],
   "source": [
    "hipotesis.info()"
   ]
  },
  {
   "cell_type": "code",
   "execution_count": 4,
   "metadata": {},
   "outputs": [],
   "source": [
    "def analisis_exploratorio_df(data):\n",
    "    print(data.head())\n",
    "    print(data.info())\n",
    "    print(data.isna().sum())\n",
    "    print('filas duplicadas', data.duplicated().sum())"
   ]
  },
  {
   "cell_type": "code",
   "execution_count": 5,
   "metadata": {},
   "outputs": [
    {
     "name": "stdout",
     "output_type": "stream",
     "text": [
      "                                          Hypothesis  Reach  Impact  \\\n",
      "0  Add two new channels for attracting traffic. T...      3      10   \n",
      "1  Launch your own delivery service. This will sh...      2       5   \n",
      "2  Add product recommendation blocks to the store...      8       3   \n",
      "3  Change the category structure. This will incre...      8       3   \n",
      "4  Change the background color on the main page. ...      3       1   \n",
      "\n",
      "   Confidence  Effort  \n",
      "0           8       6  \n",
      "1           4      10  \n",
      "2           7       3  \n",
      "3           3       8  \n",
      "4           1       1  \n",
      "<class 'pandas.core.frame.DataFrame'>\n",
      "RangeIndex: 9 entries, 0 to 8\n",
      "Data columns (total 5 columns):\n",
      " #   Column      Non-Null Count  Dtype \n",
      "---  ------      --------------  ----- \n",
      " 0   Hypothesis  9 non-null      object\n",
      " 1   Reach       9 non-null      int64 \n",
      " 2   Impact      9 non-null      int64 \n",
      " 3   Confidence  9 non-null      int64 \n",
      " 4   Effort      9 non-null      int64 \n",
      "dtypes: int64(4), object(1)\n",
      "memory usage: 488.0+ bytes\n",
      "None\n",
      "Hypothesis    0\n",
      "Reach         0\n",
      "Impact        0\n",
      "Confidence    0\n",
      "Effort        0\n",
      "dtype: int64\n",
      "filas duplicadas 0\n"
     ]
    }
   ],
   "source": [
    "analisis_exploratorio_df(hipotesis)"
   ]
  },
  {
   "cell_type": "code",
   "execution_count": 6,
   "metadata": {},
   "outputs": [
    {
     "name": "stdout",
     "output_type": "stream",
     "text": [
      "   transactionId   visitorId        date  revenue group\n",
      "0     3667963787  3312258926  2019-08-15     30.4     B\n",
      "1     2804400009  3642806036  2019-08-15     15.2     B\n",
      "2     2961555356  4069496402  2019-08-15     10.2     A\n",
      "3     3797467345  1196621759  2019-08-15    155.1     B\n",
      "4     2282983706  2322279887  2019-08-15     40.5     B\n",
      "<class 'pandas.core.frame.DataFrame'>\n",
      "RangeIndex: 1197 entries, 0 to 1196\n",
      "Data columns (total 5 columns):\n",
      " #   Column         Non-Null Count  Dtype  \n",
      "---  ------         --------------  -----  \n",
      " 0   transactionId  1197 non-null   int64  \n",
      " 1   visitorId      1197 non-null   int64  \n",
      " 2   date           1197 non-null   object \n",
      " 3   revenue        1197 non-null   float64\n",
      " 4   group          1197 non-null   object \n",
      "dtypes: float64(1), int64(2), object(2)\n",
      "memory usage: 46.9+ KB\n",
      "None\n",
      "transactionId    0\n",
      "visitorId        0\n",
      "date             0\n",
      "revenue          0\n",
      "group            0\n",
      "dtype: int64\n",
      "filas duplicadas 0\n"
     ]
    }
   ],
   "source": [
    "analisis_exploratorio_df(order)"
   ]
  },
  {
   "cell_type": "code",
   "execution_count": 7,
   "metadata": {},
   "outputs": [
    {
     "name": "stdout",
     "output_type": "stream",
     "text": [
      "<class 'pandas.core.frame.DataFrame'>\n",
      "RangeIndex: 1197 entries, 0 to 1196\n",
      "Data columns (total 5 columns):\n",
      " #   Column         Non-Null Count  Dtype         \n",
      "---  ------         --------------  -----         \n",
      " 0   transactionId  1197 non-null   int64         \n",
      " 1   visitorId      1197 non-null   int64         \n",
      " 2   date           1197 non-null   datetime64[ns]\n",
      " 3   revenue        1197 non-null   float64       \n",
      " 4   group          1197 non-null   object        \n",
      "dtypes: datetime64[ns](1), float64(1), int64(2), object(1)\n",
      "memory usage: 46.9+ KB\n"
     ]
    }
   ],
   "source": [
    "order['date'] = pd.to_datetime(order['date'])\n",
    "order.info()"
   ]
  },
  {
   "cell_type": "code",
   "execution_count": 8,
   "metadata": {},
   "outputs": [
    {
     "name": "stdout",
     "output_type": "stream",
     "text": [
      "         date group  visits\n",
      "0  2019-08-01     A     719\n",
      "1  2019-08-02     A     619\n",
      "2  2019-08-03     A     507\n",
      "3  2019-08-04     A     717\n",
      "4  2019-08-05     A     756\n",
      "<class 'pandas.core.frame.DataFrame'>\n",
      "RangeIndex: 62 entries, 0 to 61\n",
      "Data columns (total 3 columns):\n",
      " #   Column  Non-Null Count  Dtype \n",
      "---  ------  --------------  ----- \n",
      " 0   date    62 non-null     object\n",
      " 1   group   62 non-null     object\n",
      " 2   visits  62 non-null     int64 \n",
      "dtypes: int64(1), object(2)\n",
      "memory usage: 1.6+ KB\n",
      "None\n",
      "date      0\n",
      "group     0\n",
      "visits    0\n",
      "dtype: int64\n",
      "filas duplicadas 0\n"
     ]
    }
   ],
   "source": [
    "analisis_exploratorio_df(visit)"
   ]
  },
  {
   "cell_type": "code",
   "execution_count": 9,
   "metadata": {},
   "outputs": [
    {
     "name": "stdout",
     "output_type": "stream",
     "text": [
      "<class 'pandas.core.frame.DataFrame'>\n",
      "RangeIndex: 1197 entries, 0 to 1196\n",
      "Data columns (total 5 columns):\n",
      " #   Column         Non-Null Count  Dtype         \n",
      "---  ------         --------------  -----         \n",
      " 0   transactionId  1197 non-null   int64         \n",
      " 1   visitorId      1197 non-null   int64         \n",
      " 2   date           1197 non-null   datetime64[ns]\n",
      " 3   revenue        1197 non-null   float64       \n",
      " 4   group          1197 non-null   object        \n",
      "dtypes: datetime64[ns](1), float64(1), int64(2), object(1)\n",
      "memory usage: 46.9+ KB\n"
     ]
    }
   ],
   "source": [
    "visit['date'] = pd.to_datetime(visit['date'])\n",
    "order.info()"
   ]
  },
  {
   "cell_type": "markdown",
   "metadata": {},
   "source": [
    "Realizamos un analisis explotario de cada dataset para ver si encontramos valores nulos, duplicados, etc. En el caso de los dataset de visit y order se encontraba date en un formato incorrecto y se realizo el cambio a datetime64"
   ]
  },
  {
   "cell_type": "markdown",
   "metadata": {},
   "source": [
    "## Realizaremos pruebas de hipotesis con los dataset que se proporcionar tomando como primer paso el meto ICE / RICE para tomar una desicion sobre que hipotesis probaremos para el incremento de ingresos"
   ]
  },
  {
   "cell_type": "code",
   "execution_count": 10,
   "metadata": {},
   "outputs": [
    {
     "data": {
      "text/html": [
       "<div>\n",
       "<style scoped>\n",
       "    .dataframe tbody tr th:only-of-type {\n",
       "        vertical-align: middle;\n",
       "    }\n",
       "\n",
       "    .dataframe tbody tr th {\n",
       "        vertical-align: top;\n",
       "    }\n",
       "\n",
       "    .dataframe thead th {\n",
       "        text-align: right;\n",
       "    }\n",
       "</style>\n",
       "<table border=\"1\" class=\"dataframe\">\n",
       "  <thead>\n",
       "    <tr style=\"text-align: right;\">\n",
       "      <th></th>\n",
       "      <th>Hypothesis</th>\n",
       "      <th>Reach</th>\n",
       "      <th>Impact</th>\n",
       "      <th>Confidence</th>\n",
       "      <th>Effort</th>\n",
       "    </tr>\n",
       "  </thead>\n",
       "  <tbody>\n",
       "    <tr>\n",
       "      <th>0</th>\n",
       "      <td>Add two new channels for attracting traffic. T...</td>\n",
       "      <td>3</td>\n",
       "      <td>10</td>\n",
       "      <td>8</td>\n",
       "      <td>6</td>\n",
       "    </tr>\n",
       "    <tr>\n",
       "      <th>1</th>\n",
       "      <td>Launch your own delivery service. This will sh...</td>\n",
       "      <td>2</td>\n",
       "      <td>5</td>\n",
       "      <td>4</td>\n",
       "      <td>10</td>\n",
       "    </tr>\n",
       "    <tr>\n",
       "      <th>2</th>\n",
       "      <td>Add product recommendation blocks to the store...</td>\n",
       "      <td>8</td>\n",
       "      <td>3</td>\n",
       "      <td>7</td>\n",
       "      <td>3</td>\n",
       "    </tr>\n",
       "    <tr>\n",
       "      <th>3</th>\n",
       "      <td>Change the category structure. This will incre...</td>\n",
       "      <td>8</td>\n",
       "      <td>3</td>\n",
       "      <td>3</td>\n",
       "      <td>8</td>\n",
       "    </tr>\n",
       "    <tr>\n",
       "      <th>4</th>\n",
       "      <td>Change the background color on the main page. ...</td>\n",
       "      <td>3</td>\n",
       "      <td>1</td>\n",
       "      <td>1</td>\n",
       "      <td>1</td>\n",
       "    </tr>\n",
       "    <tr>\n",
       "      <th>5</th>\n",
       "      <td>Add a customer review page. This will increase...</td>\n",
       "      <td>3</td>\n",
       "      <td>2</td>\n",
       "      <td>2</td>\n",
       "      <td>3</td>\n",
       "    </tr>\n",
       "    <tr>\n",
       "      <th>6</th>\n",
       "      <td>Show banners with current offers and sales on ...</td>\n",
       "      <td>5</td>\n",
       "      <td>3</td>\n",
       "      <td>8</td>\n",
       "      <td>3</td>\n",
       "    </tr>\n",
       "    <tr>\n",
       "      <th>7</th>\n",
       "      <td>Add a subscription form to all the main pages....</td>\n",
       "      <td>10</td>\n",
       "      <td>7</td>\n",
       "      <td>8</td>\n",
       "      <td>5</td>\n",
       "    </tr>\n",
       "    <tr>\n",
       "      <th>8</th>\n",
       "      <td>Launch a promotion that gives users discounts ...</td>\n",
       "      <td>1</td>\n",
       "      <td>9</td>\n",
       "      <td>9</td>\n",
       "      <td>5</td>\n",
       "    </tr>\n",
       "  </tbody>\n",
       "</table>\n",
       "</div>"
      ],
      "text/plain": [
       "                                          Hypothesis  Reach  Impact  \\\n",
       "0  Add two new channels for attracting traffic. T...      3      10   \n",
       "1  Launch your own delivery service. This will sh...      2       5   \n",
       "2  Add product recommendation blocks to the store...      8       3   \n",
       "3  Change the category structure. This will incre...      8       3   \n",
       "4  Change the background color on the main page. ...      3       1   \n",
       "5  Add a customer review page. This will increase...      3       2   \n",
       "6  Show banners with current offers and sales on ...      5       3   \n",
       "7  Add a subscription form to all the main pages....     10       7   \n",
       "8  Launch a promotion that gives users discounts ...      1       9   \n",
       "\n",
       "   Confidence  Effort  \n",
       "0           8       6  \n",
       "1           4      10  \n",
       "2           7       3  \n",
       "3           3       8  \n",
       "4           1       1  \n",
       "5           2       3  \n",
       "6           8       3  \n",
       "7           8       5  \n",
       "8           9       5  "
      ]
     },
     "execution_count": 10,
     "metadata": {},
     "output_type": "execute_result"
    }
   ],
   "source": [
    "hipotesis"
   ]
  },
  {
   "cell_type": "markdown",
   "metadata": {},
   "source": [
    "Debemos probar la hipotesis que mas convenga, para este caso tomaremos como metodologia ICE para saber que hipotesis probaremos"
   ]
  },
  {
   "cell_type": "code",
   "execution_count": 11,
   "metadata": {},
   "outputs": [
    {
     "data": {
      "text/plain": [
       "'Add two new channels for attracting traffic. This will bring 30% more users'"
      ]
     },
     "execution_count": 11,
     "metadata": {},
     "output_type": "execute_result"
    }
   ],
   "source": [
    "hipotesis.iloc[0,0]"
   ]
  },
  {
   "cell_type": "code",
   "execution_count": 12,
   "metadata": {},
   "outputs": [
    {
     "data": {
      "text/html": [
       "<div>\n",
       "<style scoped>\n",
       "    .dataframe tbody tr th:only-of-type {\n",
       "        vertical-align: middle;\n",
       "    }\n",
       "\n",
       "    .dataframe tbody tr th {\n",
       "        vertical-align: top;\n",
       "    }\n",
       "\n",
       "    .dataframe thead th {\n",
       "        text-align: right;\n",
       "    }\n",
       "</style>\n",
       "<table border=\"1\" class=\"dataframe\">\n",
       "  <thead>\n",
       "    <tr style=\"text-align: right;\">\n",
       "      <th></th>\n",
       "      <th>Hypothesis</th>\n",
       "      <th>Reach</th>\n",
       "      <th>Impact</th>\n",
       "      <th>Confidence</th>\n",
       "      <th>Effort</th>\n",
       "      <th>ICE</th>\n",
       "    </tr>\n",
       "  </thead>\n",
       "  <tbody>\n",
       "    <tr>\n",
       "      <th>8</th>\n",
       "      <td>Launch a promotion that gives users discounts ...</td>\n",
       "      <td>1</td>\n",
       "      <td>9</td>\n",
       "      <td>9</td>\n",
       "      <td>5</td>\n",
       "      <td>16.200000</td>\n",
       "    </tr>\n",
       "    <tr>\n",
       "      <th>0</th>\n",
       "      <td>Add two new channels for attracting traffic. T...</td>\n",
       "      <td>3</td>\n",
       "      <td>10</td>\n",
       "      <td>8</td>\n",
       "      <td>6</td>\n",
       "      <td>13.333333</td>\n",
       "    </tr>\n",
       "    <tr>\n",
       "      <th>7</th>\n",
       "      <td>Add a subscription form to all the main pages....</td>\n",
       "      <td>10</td>\n",
       "      <td>7</td>\n",
       "      <td>8</td>\n",
       "      <td>5</td>\n",
       "      <td>11.200000</td>\n",
       "    </tr>\n",
       "    <tr>\n",
       "      <th>6</th>\n",
       "      <td>Show banners with current offers and sales on ...</td>\n",
       "      <td>5</td>\n",
       "      <td>3</td>\n",
       "      <td>8</td>\n",
       "      <td>3</td>\n",
       "      <td>8.000000</td>\n",
       "    </tr>\n",
       "    <tr>\n",
       "      <th>2</th>\n",
       "      <td>Add product recommendation blocks to the store...</td>\n",
       "      <td>8</td>\n",
       "      <td>3</td>\n",
       "      <td>7</td>\n",
       "      <td>3</td>\n",
       "      <td>7.000000</td>\n",
       "    </tr>\n",
       "    <tr>\n",
       "      <th>1</th>\n",
       "      <td>Launch your own delivery service. This will sh...</td>\n",
       "      <td>2</td>\n",
       "      <td>5</td>\n",
       "      <td>4</td>\n",
       "      <td>10</td>\n",
       "      <td>2.000000</td>\n",
       "    </tr>\n",
       "    <tr>\n",
       "      <th>5</th>\n",
       "      <td>Add a customer review page. This will increase...</td>\n",
       "      <td>3</td>\n",
       "      <td>2</td>\n",
       "      <td>2</td>\n",
       "      <td>3</td>\n",
       "      <td>1.333333</td>\n",
       "    </tr>\n",
       "    <tr>\n",
       "      <th>3</th>\n",
       "      <td>Change the category structure. This will incre...</td>\n",
       "      <td>8</td>\n",
       "      <td>3</td>\n",
       "      <td>3</td>\n",
       "      <td>8</td>\n",
       "      <td>1.125000</td>\n",
       "    </tr>\n",
       "    <tr>\n",
       "      <th>4</th>\n",
       "      <td>Change the background color on the main page. ...</td>\n",
       "      <td>3</td>\n",
       "      <td>1</td>\n",
       "      <td>1</td>\n",
       "      <td>1</td>\n",
       "      <td>1.000000</td>\n",
       "    </tr>\n",
       "  </tbody>\n",
       "</table>\n",
       "</div>"
      ],
      "text/plain": [
       "                                          Hypothesis  Reach  Impact  \\\n",
       "8  Launch a promotion that gives users discounts ...      1       9   \n",
       "0  Add two new channels for attracting traffic. T...      3      10   \n",
       "7  Add a subscription form to all the main pages....     10       7   \n",
       "6  Show banners with current offers and sales on ...      5       3   \n",
       "2  Add product recommendation blocks to the store...      8       3   \n",
       "1  Launch your own delivery service. This will sh...      2       5   \n",
       "5  Add a customer review page. This will increase...      3       2   \n",
       "3  Change the category structure. This will incre...      8       3   \n",
       "4  Change the background color on the main page. ...      3       1   \n",
       "\n",
       "   Confidence  Effort        ICE  \n",
       "8           9       5  16.200000  \n",
       "0           8       6  13.333333  \n",
       "7           8       5  11.200000  \n",
       "6           8       3   8.000000  \n",
       "2           7       3   7.000000  \n",
       "1           4      10   2.000000  \n",
       "5           2       3   1.333333  \n",
       "3           3       8   1.125000  \n",
       "4           1       1   1.000000  "
      ]
     },
     "execution_count": 12,
     "metadata": {},
     "output_type": "execute_result"
    }
   ],
   "source": [
    "hipotesis['ICE'] = hipotesis['Impact'] * hipotesis['Confidence'] / hipotesis ['Effort']\n",
    "hipotesis.sort_values(by='ICE', ascending=False)"
   ]
  },
  {
   "cell_type": "markdown",
   "metadata": {},
   "source": [
    "Al utilizar el metodo ICE podemos tomar  como primera desicion fila 8 es decir 'Launch a promotion that gives users discounts on their birthdays', ya que esta tiene 16.20 esta se toma porque tiene mas impacto, mas confianza y menor esfuerzo pareciendo en primera estancia una primera y buena opcion"
   ]
  },
  {
   "cell_type": "code",
   "execution_count": 13,
   "metadata": {},
   "outputs": [
    {
     "data": {
      "text/html": [
       "<div>\n",
       "<style scoped>\n",
       "    .dataframe tbody tr th:only-of-type {\n",
       "        vertical-align: middle;\n",
       "    }\n",
       "\n",
       "    .dataframe tbody tr th {\n",
       "        vertical-align: top;\n",
       "    }\n",
       "\n",
       "    .dataframe thead th {\n",
       "        text-align: right;\n",
       "    }\n",
       "</style>\n",
       "<table border=\"1\" class=\"dataframe\">\n",
       "  <thead>\n",
       "    <tr style=\"text-align: right;\">\n",
       "      <th></th>\n",
       "      <th>Hypothesis</th>\n",
       "      <th>Reach</th>\n",
       "      <th>Impact</th>\n",
       "      <th>Confidence</th>\n",
       "      <th>Effort</th>\n",
       "      <th>ICE</th>\n",
       "      <th>RICE</th>\n",
       "    </tr>\n",
       "  </thead>\n",
       "  <tbody>\n",
       "    <tr>\n",
       "      <th>7</th>\n",
       "      <td>Add a subscription form to all the main pages....</td>\n",
       "      <td>10</td>\n",
       "      <td>7</td>\n",
       "      <td>8</td>\n",
       "      <td>5</td>\n",
       "      <td>11.200000</td>\n",
       "      <td>112.0</td>\n",
       "    </tr>\n",
       "    <tr>\n",
       "      <th>2</th>\n",
       "      <td>Add product recommendation blocks to the store...</td>\n",
       "      <td>8</td>\n",
       "      <td>3</td>\n",
       "      <td>7</td>\n",
       "      <td>3</td>\n",
       "      <td>7.000000</td>\n",
       "      <td>56.0</td>\n",
       "    </tr>\n",
       "    <tr>\n",
       "      <th>0</th>\n",
       "      <td>Add two new channels for attracting traffic. T...</td>\n",
       "      <td>3</td>\n",
       "      <td>10</td>\n",
       "      <td>8</td>\n",
       "      <td>6</td>\n",
       "      <td>13.333333</td>\n",
       "      <td>40.0</td>\n",
       "    </tr>\n",
       "    <tr>\n",
       "      <th>6</th>\n",
       "      <td>Show banners with current offers and sales on ...</td>\n",
       "      <td>5</td>\n",
       "      <td>3</td>\n",
       "      <td>8</td>\n",
       "      <td>3</td>\n",
       "      <td>8.000000</td>\n",
       "      <td>40.0</td>\n",
       "    </tr>\n",
       "    <tr>\n",
       "      <th>8</th>\n",
       "      <td>Launch a promotion that gives users discounts ...</td>\n",
       "      <td>1</td>\n",
       "      <td>9</td>\n",
       "      <td>9</td>\n",
       "      <td>5</td>\n",
       "      <td>16.200000</td>\n",
       "      <td>16.2</td>\n",
       "    </tr>\n",
       "    <tr>\n",
       "      <th>3</th>\n",
       "      <td>Change the category structure. This will incre...</td>\n",
       "      <td>8</td>\n",
       "      <td>3</td>\n",
       "      <td>3</td>\n",
       "      <td>8</td>\n",
       "      <td>1.125000</td>\n",
       "      <td>9.0</td>\n",
       "    </tr>\n",
       "    <tr>\n",
       "      <th>1</th>\n",
       "      <td>Launch your own delivery service. This will sh...</td>\n",
       "      <td>2</td>\n",
       "      <td>5</td>\n",
       "      <td>4</td>\n",
       "      <td>10</td>\n",
       "      <td>2.000000</td>\n",
       "      <td>4.0</td>\n",
       "    </tr>\n",
       "    <tr>\n",
       "      <th>5</th>\n",
       "      <td>Add a customer review page. This will increase...</td>\n",
       "      <td>3</td>\n",
       "      <td>2</td>\n",
       "      <td>2</td>\n",
       "      <td>3</td>\n",
       "      <td>1.333333</td>\n",
       "      <td>4.0</td>\n",
       "    </tr>\n",
       "    <tr>\n",
       "      <th>4</th>\n",
       "      <td>Change the background color on the main page. ...</td>\n",
       "      <td>3</td>\n",
       "      <td>1</td>\n",
       "      <td>1</td>\n",
       "      <td>1</td>\n",
       "      <td>1.000000</td>\n",
       "      <td>3.0</td>\n",
       "    </tr>\n",
       "  </tbody>\n",
       "</table>\n",
       "</div>"
      ],
      "text/plain": [
       "                                          Hypothesis  Reach  Impact  \\\n",
       "7  Add a subscription form to all the main pages....     10       7   \n",
       "2  Add product recommendation blocks to the store...      8       3   \n",
       "0  Add two new channels for attracting traffic. T...      3      10   \n",
       "6  Show banners with current offers and sales on ...      5       3   \n",
       "8  Launch a promotion that gives users discounts ...      1       9   \n",
       "3  Change the category structure. This will incre...      8       3   \n",
       "1  Launch your own delivery service. This will sh...      2       5   \n",
       "5  Add a customer review page. This will increase...      3       2   \n",
       "4  Change the background color on the main page. ...      3       1   \n",
       "\n",
       "   Confidence  Effort        ICE   RICE  \n",
       "7           8       5  11.200000  112.0  \n",
       "2           7       3   7.000000   56.0  \n",
       "0           8       6  13.333333   40.0  \n",
       "6           8       3   8.000000   40.0  \n",
       "8           9       5  16.200000   16.2  \n",
       "3           3       8   1.125000    9.0  \n",
       "1           4      10   2.000000    4.0  \n",
       "5           2       3   1.333333    4.0  \n",
       "4           1       1   1.000000    3.0  "
      ]
     },
     "execution_count": 13,
     "metadata": {},
     "output_type": "execute_result"
    }
   ],
   "source": [
    "hipotesis['RICE'] = hipotesis['Reach']* hipotesis['Impact'] * hipotesis['Confidence'] / hipotesis ['Effort']\n",
    "hipotesis.sort_values(by='RICE', ascending=False)"
   ]
  },
  {
   "cell_type": "code",
   "execution_count": 14,
   "metadata": {},
   "outputs": [
    {
     "data": {
      "text/plain": [
       "'Add two new channels for attracting traffic. This will bring 30% more users'"
      ]
     },
     "execution_count": 14,
     "metadata": {},
     "output_type": "execute_result"
    }
   ],
   "source": [
    "hipotesis.iloc[0,0]"
   ]
  },
  {
   "cell_type": "markdown",
   "metadata": {},
   "source": [
    "Se utilizo el metodo RICE ya que este es mas preciso ya que le añade el alcanze e incluye mas criterios y es mas robusta, por lo cual concideramos que la mejor eleccion es la fila 7 (Add a subscription form to all the main pages...) con un RICE de 112"
   ]
  },
  {
   "cell_type": "markdown",
   "metadata": {},
   "source": [
    "## Al haber obtenido por el metodo RICE y deducir que hipotesis tomaremos siendo esta la mas conveniente, podremos trabajar con los datos de los visitantes y ordenes para obtener la tasa de convercion"
   ]
  },
  {
   "cell_type": "code",
   "execution_count": 15,
   "metadata": {},
   "outputs": [
    {
     "data": {
      "text/html": [
       "<div>\n",
       "<style scoped>\n",
       "    .dataframe tbody tr th:only-of-type {\n",
       "        vertical-align: middle;\n",
       "    }\n",
       "\n",
       "    .dataframe tbody tr th {\n",
       "        vertical-align: top;\n",
       "    }\n",
       "\n",
       "    .dataframe thead th {\n",
       "        text-align: right;\n",
       "    }\n",
       "</style>\n",
       "<table border=\"1\" class=\"dataframe\">\n",
       "  <thead>\n",
       "    <tr style=\"text-align: right;\">\n",
       "      <th></th>\n",
       "      <th>transactionId</th>\n",
       "      <th>visitorId</th>\n",
       "      <th>date</th>\n",
       "      <th>revenue</th>\n",
       "      <th>group</th>\n",
       "    </tr>\n",
       "  </thead>\n",
       "  <tbody>\n",
       "    <tr>\n",
       "      <th>0</th>\n",
       "      <td>3667963787</td>\n",
       "      <td>3312258926</td>\n",
       "      <td>2019-08-15</td>\n",
       "      <td>30.4</td>\n",
       "      <td>B</td>\n",
       "    </tr>\n",
       "    <tr>\n",
       "      <th>1</th>\n",
       "      <td>2804400009</td>\n",
       "      <td>3642806036</td>\n",
       "      <td>2019-08-15</td>\n",
       "      <td>15.2</td>\n",
       "      <td>B</td>\n",
       "    </tr>\n",
       "    <tr>\n",
       "      <th>2</th>\n",
       "      <td>2961555356</td>\n",
       "      <td>4069496402</td>\n",
       "      <td>2019-08-15</td>\n",
       "      <td>10.2</td>\n",
       "      <td>A</td>\n",
       "    </tr>\n",
       "    <tr>\n",
       "      <th>3</th>\n",
       "      <td>3797467345</td>\n",
       "      <td>1196621759</td>\n",
       "      <td>2019-08-15</td>\n",
       "      <td>155.1</td>\n",
       "      <td>B</td>\n",
       "    </tr>\n",
       "    <tr>\n",
       "      <th>4</th>\n",
       "      <td>2282983706</td>\n",
       "      <td>2322279887</td>\n",
       "      <td>2019-08-15</td>\n",
       "      <td>40.5</td>\n",
       "      <td>B</td>\n",
       "    </tr>\n",
       "    <tr>\n",
       "      <th>...</th>\n",
       "      <td>...</td>\n",
       "      <td>...</td>\n",
       "      <td>...</td>\n",
       "      <td>...</td>\n",
       "      <td>...</td>\n",
       "    </tr>\n",
       "    <tr>\n",
       "      <th>1192</th>\n",
       "      <td>2662137336</td>\n",
       "      <td>3733762160</td>\n",
       "      <td>2019-08-14</td>\n",
       "      <td>100.8</td>\n",
       "      <td>B</td>\n",
       "    </tr>\n",
       "    <tr>\n",
       "      <th>1193</th>\n",
       "      <td>2203539145</td>\n",
       "      <td>370388673</td>\n",
       "      <td>2019-08-14</td>\n",
       "      <td>50.1</td>\n",
       "      <td>A</td>\n",
       "    </tr>\n",
       "    <tr>\n",
       "      <th>1194</th>\n",
       "      <td>1807773912</td>\n",
       "      <td>573423106</td>\n",
       "      <td>2019-08-14</td>\n",
       "      <td>165.3</td>\n",
       "      <td>A</td>\n",
       "    </tr>\n",
       "    <tr>\n",
       "      <th>1195</th>\n",
       "      <td>1947021204</td>\n",
       "      <td>1614305549</td>\n",
       "      <td>2019-08-14</td>\n",
       "      <td>5.5</td>\n",
       "      <td>A</td>\n",
       "    </tr>\n",
       "    <tr>\n",
       "      <th>1196</th>\n",
       "      <td>3936777065</td>\n",
       "      <td>2108080724</td>\n",
       "      <td>2019-08-15</td>\n",
       "      <td>3120.1</td>\n",
       "      <td>B</td>\n",
       "    </tr>\n",
       "  </tbody>\n",
       "</table>\n",
       "<p>1197 rows × 5 columns</p>\n",
       "</div>"
      ],
      "text/plain": [
       "      transactionId   visitorId       date  revenue group\n",
       "0        3667963787  3312258926 2019-08-15     30.4     B\n",
       "1        2804400009  3642806036 2019-08-15     15.2     B\n",
       "2        2961555356  4069496402 2019-08-15     10.2     A\n",
       "3        3797467345  1196621759 2019-08-15    155.1     B\n",
       "4        2282983706  2322279887 2019-08-15     40.5     B\n",
       "...             ...         ...        ...      ...   ...\n",
       "1192     2662137336  3733762160 2019-08-14    100.8     B\n",
       "1193     2203539145   370388673 2019-08-14     50.1     A\n",
       "1194     1807773912   573423106 2019-08-14    165.3     A\n",
       "1195     1947021204  1614305549 2019-08-14      5.5     A\n",
       "1196     3936777065  2108080724 2019-08-15   3120.1     B\n",
       "\n",
       "[1197 rows x 5 columns]"
      ]
     },
     "execution_count": 15,
     "metadata": {},
     "output_type": "execute_result"
    }
   ],
   "source": [
    "order['date'] = pd.to_datetime(order['date'])\n",
    "order"
   ]
  },
  {
   "cell_type": "code",
   "execution_count": 16,
   "metadata": {},
   "outputs": [
    {
     "name": "stdout",
     "output_type": "stream",
     "text": [
      "<class 'pandas.core.frame.DataFrame'>\n",
      "RangeIndex: 1197 entries, 0 to 1196\n",
      "Data columns (total 5 columns):\n",
      " #   Column         Non-Null Count  Dtype         \n",
      "---  ------         --------------  -----         \n",
      " 0   transactionId  1197 non-null   int64         \n",
      " 1   visitorId      1197 non-null   int64         \n",
      " 2   date           1197 non-null   datetime64[ns]\n",
      " 3   revenue        1197 non-null   float64       \n",
      " 4   group          1197 non-null   object        \n",
      "dtypes: datetime64[ns](1), float64(1), int64(2), object(1)\n",
      "memory usage: 46.9+ KB\n"
     ]
    }
   ],
   "source": [
    "order.info()"
   ]
  },
  {
   "cell_type": "code",
   "execution_count": 17,
   "metadata": {},
   "outputs": [
    {
     "data": {
      "text/plain": [
       "0     2587333274\n",
       "1      477780734\n",
       "2     2579882178\n",
       "3     2038680547\n",
       "4     1316129916\n",
       "5      232979603\n",
       "6     3891541246\n",
       "7     1801183820\n",
       "8     3062433592\n",
       "9     1230306981\n",
       "10     237748145\n",
       "11    3951559397\n",
       "12    2949041841\n",
       "13    3963646447\n",
       "14    2378935119\n",
       "15    4266935830\n",
       "16    2686716486\n",
       "17    3202540741\n",
       "18    1614305549\n",
       "19    3717692402\n",
       "20    2458001652\n",
       "21    4256040402\n",
       "22    3766097110\n",
       "Name: visitorId, dtype: int64"
      ]
     },
     "execution_count": 17,
     "metadata": {},
     "output_type": "execute_result"
    }
   ],
   "source": [
    "usuarios_en_ambos_grupos = order.groupby(['visitorId', 'date'])['group'].nunique().sort_values(ascending=False).reset_index().query('group>1')\n",
    "usuarios_en_ambos_grupos['visitorId']"
   ]
  },
  {
   "cell_type": "markdown",
   "metadata": {},
   "source": [
    "Existen 22 usuarios (visitorId) que se encuentran en ambos grupos y con la misma fecha lo cual estos deberian ser eliminados ya que estan en ambos e implicarios en caer en la duplicidad para ese mismo dia, dañando el analisis"
   ]
  },
  {
   "cell_type": "code",
   "execution_count": 18,
   "metadata": {},
   "outputs": [],
   "source": [
    "grupo_por_fechas = order[['date', 'group']].drop_duplicates().sort_values(by='date')"
   ]
  },
  {
   "cell_type": "code",
   "execution_count": 19,
   "metadata": {},
   "outputs": [],
   "source": [
    "order_agg = order[~order['visitorId'].isin(usuarios_en_ambos_grupos['visitorId'])].groupby(['date', 'group']).agg({\n",
    "    'transactionId': 'nunique',\n",
    "    'visitorId' : 'nunique',\n",
    "    'revenue': 'sum'\n",
    "}).reset_index().sort_values(by=['date', 'group'])"
   ]
  },
  {
   "cell_type": "code",
   "execution_count": 20,
   "metadata": {},
   "outputs": [],
   "source": [
    "visit_agg = visit.groupby(['date', 'group']).agg({\n",
    "    'visits': 'sum',\n",
    "}).reset_index().sort_values(by=['date','group'])"
   ]
  },
  {
   "cell_type": "code",
   "execution_count": 21,
   "metadata": {},
   "outputs": [
    {
     "data": {
      "text/plain": [
       "date             0\n",
       "group            0\n",
       "transactionId    0\n",
       "visitorId        0\n",
       "revenue          0\n",
       "visits           0\n",
       "dtype: int64"
      ]
     },
     "execution_count": 21,
     "metadata": {},
     "output_type": "execute_result"
    }
   ],
   "source": [
    "fct_experiment = order_agg.merge(visit_agg, on=['date', 'group'], how='outer')\n",
    "fct_experiment.isna().sum()"
   ]
  },
  {
   "cell_type": "code",
   "execution_count": 22,
   "metadata": {},
   "outputs": [
    {
     "data": {
      "text/html": [
       "<div>\n",
       "<style scoped>\n",
       "    .dataframe tbody tr th:only-of-type {\n",
       "        vertical-align: middle;\n",
       "    }\n",
       "\n",
       "    .dataframe tbody tr th {\n",
       "        vertical-align: top;\n",
       "    }\n",
       "\n",
       "    .dataframe thead th {\n",
       "        text-align: right;\n",
       "    }\n",
       "</style>\n",
       "<table border=\"1\" class=\"dataframe\">\n",
       "  <thead>\n",
       "    <tr style=\"text-align: right;\">\n",
       "      <th></th>\n",
       "      <th>date</th>\n",
       "      <th>group</th>\n",
       "      <th>ordenes</th>\n",
       "      <th>compradores</th>\n",
       "      <th>ventas_totales</th>\n",
       "      <th>visitas</th>\n",
       "    </tr>\n",
       "  </thead>\n",
       "  <tbody>\n",
       "    <tr>\n",
       "      <th>0</th>\n",
       "      <td>2019-08-01</td>\n",
       "      <td>A</td>\n",
       "      <td>23</td>\n",
       "      <td>19</td>\n",
       "      <td>2266.6</td>\n",
       "      <td>719</td>\n",
       "    </tr>\n",
       "    <tr>\n",
       "      <th>1</th>\n",
       "      <td>2019-08-01</td>\n",
       "      <td>B</td>\n",
       "      <td>19</td>\n",
       "      <td>19</td>\n",
       "      <td>1258.8</td>\n",
       "      <td>713</td>\n",
       "    </tr>\n",
       "    <tr>\n",
       "      <th>2</th>\n",
       "      <td>2019-08-02</td>\n",
       "      <td>A</td>\n",
       "      <td>20</td>\n",
       "      <td>19</td>\n",
       "      <td>1503.5</td>\n",
       "      <td>619</td>\n",
       "    </tr>\n",
       "    <tr>\n",
       "      <th>3</th>\n",
       "      <td>2019-08-02</td>\n",
       "      <td>B</td>\n",
       "      <td>24</td>\n",
       "      <td>23</td>\n",
       "      <td>2623.8</td>\n",
       "      <td>581</td>\n",
       "    </tr>\n",
       "    <tr>\n",
       "      <th>4</th>\n",
       "      <td>2019-08-03</td>\n",
       "      <td>A</td>\n",
       "      <td>24</td>\n",
       "      <td>24</td>\n",
       "      <td>1815.2</td>\n",
       "      <td>507</td>\n",
       "    </tr>\n",
       "    <tr>\n",
       "      <th>...</th>\n",
       "      <td>...</td>\n",
       "      <td>...</td>\n",
       "      <td>...</td>\n",
       "      <td>...</td>\n",
       "      <td>...</td>\n",
       "      <td>...</td>\n",
       "    </tr>\n",
       "    <tr>\n",
       "      <th>57</th>\n",
       "      <td>2019-08-29</td>\n",
       "      <td>B</td>\n",
       "      <td>16</td>\n",
       "      <td>16</td>\n",
       "      <td>1731.6</td>\n",
       "      <td>531</td>\n",
       "    </tr>\n",
       "    <tr>\n",
       "      <th>58</th>\n",
       "      <td>2019-08-30</td>\n",
       "      <td>A</td>\n",
       "      <td>9</td>\n",
       "      <td>8</td>\n",
       "      <td>1228.9</td>\n",
       "      <td>490</td>\n",
       "    </tr>\n",
       "    <tr>\n",
       "      <th>59</th>\n",
       "      <td>2019-08-30</td>\n",
       "      <td>B</td>\n",
       "      <td>22</td>\n",
       "      <td>22</td>\n",
       "      <td>3322.6</td>\n",
       "      <td>490</td>\n",
       "    </tr>\n",
       "    <tr>\n",
       "      <th>60</th>\n",
       "      <td>2019-08-31</td>\n",
       "      <td>A</td>\n",
       "      <td>10</td>\n",
       "      <td>10</td>\n",
       "      <td>905.0</td>\n",
       "      <td>699</td>\n",
       "    </tr>\n",
       "    <tr>\n",
       "      <th>61</th>\n",
       "      <td>2019-08-31</td>\n",
       "      <td>B</td>\n",
       "      <td>18</td>\n",
       "      <td>18</td>\n",
       "      <td>2028.2</td>\n",
       "      <td>718</td>\n",
       "    </tr>\n",
       "  </tbody>\n",
       "</table>\n",
       "<p>62 rows × 6 columns</p>\n",
       "</div>"
      ],
      "text/plain": [
       "         date group  ordenes  compradores  ventas_totales  visitas\n",
       "0  2019-08-01     A       23           19          2266.6      719\n",
       "1  2019-08-01     B       19           19          1258.8      713\n",
       "2  2019-08-02     A       20           19          1503.5      619\n",
       "3  2019-08-02     B       24           23          2623.8      581\n",
       "4  2019-08-03     A       24           24          1815.2      507\n",
       "..        ...   ...      ...          ...             ...      ...\n",
       "57 2019-08-29     B       16           16          1731.6      531\n",
       "58 2019-08-30     A        9            8          1228.9      490\n",
       "59 2019-08-30     B       22           22          3322.6      490\n",
       "60 2019-08-31     A       10           10           905.0      699\n",
       "61 2019-08-31     B       18           18          2028.2      718\n",
       "\n",
       "[62 rows x 6 columns]"
      ]
     },
     "execution_count": 22,
     "metadata": {},
     "output_type": "execute_result"
    }
   ],
   "source": [
    "fct_experiment.columns = ['date', 'group', 'ordenes', 'compradores','ventas_totales', 'visitas']\n",
    "fct_experiment"
   ]
  },
  {
   "cell_type": "code",
   "execution_count": 23,
   "metadata": {},
   "outputs": [],
   "source": [
    "ventas_grupo_A = fct_experiment.query('group == \"A\"')[['date','ventas_totales', 'ordenes']]"
   ]
  },
  {
   "cell_type": "code",
   "execution_count": 24,
   "metadata": {},
   "outputs": [],
   "source": [
    "ventas_grupo_B= fct_experiment.query('group == \"B\"')[['date','ventas_totales', 'ordenes']]"
   ]
  },
  {
   "cell_type": "code",
   "execution_count": 25,
   "metadata": {},
   "outputs": [
    {
     "data": {
      "image/png": "[encoded data removed]",
      "text/plain": [
       "<Figure size 640x480 with 1 Axes>"
      ]
     },
     "metadata": {},
     "output_type": "display_data"
    }
   ],
   "source": [
    "plt.plot(ventas_grupo_A['date'], ventas_grupo_A['ventas_totales'], label = 'A')\n",
    "plt.plot(ventas_grupo_B['date'], ventas_grupo_B['ventas_totales'], label = 'B')\n",
    "plt.legend()\n",
    "plt.title('Ventas_totales_por_dia')\n",
    "plt.xticks(rotation = 45)\n",
    "plt.show()"
   ]
  },
  {
   "cell_type": "code",
   "execution_count": 26,
   "metadata": {},
   "outputs": [
    {
     "name": "stdout",
     "output_type": "stream",
     "text": [
      "ventas_totales    1872.209677\n",
      "ordenes             16.419355\n",
      "dtype: float64\n",
      "ventas_totales    2714.577419\n",
      "ordenes             19.161290\n",
      "dtype: float64\n"
     ]
    }
   ],
   "source": [
    "print(ventas_grupo_A.mean())\n",
    "print(ventas_grupo_B.mean())"
   ]
  },
  {
   "cell_type": "markdown",
   "metadata": {},
   "source": [
    "En esta grafica se puede observar una comparacion de las ventas totales por dia del grupo A y B, en general las ventas del grupo A son relativamente mayor a B sin embargo al obtener el promedio podemos tener que las ventas totales son mayores para B. Dado que no estamos seguros por estos datos aplicaremos una prueba de hipotesis para comprobar cual tiene mayor numero de ventas totales"
   ]
  },
  {
   "cell_type": "code",
   "execution_count": 27,
   "metadata": {},
   "outputs": [
    {
     "data": {
      "image/png": "[encoded data removed]",
      "text/plain": [
       "<Figure size 640x480 with 1 Axes>"
      ]
     },
     "metadata": {},
     "output_type": "display_data"
    }
   ],
   "source": [
    "plt.plot(ventas_grupo_A['date'],ventas_grupo_A['ventas_totales'] /ventas_grupo_A['ordenes'], label = 'A')\n",
    "plt.plot(ventas_grupo_B['date'],ventas_grupo_B['ventas_totales'] /ventas_grupo_B['ordenes'], label = 'B')\n",
    "plt.legend()\n",
    "plt.xticks(rotation = 45)\n",
    "plt.title('Ticket_promedio_por_orden')\n",
    "plt.show()"
   ]
  },
  {
   "cell_type": "markdown",
   "metadata": {},
   "source": [
    "En la grafica podemos observar ue el ticket promedio por dia sigue siendo mayor en B que en A. Tendremos que sealizar una prueba de hipotesis para saber si estos datos son coherentes con respecto a la grafica"
   ]
  },
  {
   "cell_type": "code",
   "execution_count": 28,
   "metadata": {},
   "outputs": [
    {
     "data": {
      "text/html": [
       "<div>\n",
       "<style scoped>\n",
       "    .dataframe tbody tr th:only-of-type {\n",
       "        vertical-align: middle;\n",
       "    }\n",
       "\n",
       "    .dataframe tbody tr th {\n",
       "        vertical-align: top;\n",
       "    }\n",
       "\n",
       "    .dataframe thead th {\n",
       "        text-align: right;\n",
       "    }\n",
       "</style>\n",
       "<table border=\"1\" class=\"dataframe\">\n",
       "  <thead>\n",
       "    <tr style=\"text-align: right;\">\n",
       "      <th></th>\n",
       "      <th>date</th>\n",
       "      <th>ventas_totalesA</th>\n",
       "      <th>ordenesA</th>\n",
       "      <th>ventas_totalesB</th>\n",
       "      <th>ordenesB</th>\n",
       "    </tr>\n",
       "  </thead>\n",
       "  <tbody>\n",
       "    <tr>\n",
       "      <th>0</th>\n",
       "      <td>2019-08-01</td>\n",
       "      <td>2266.6</td>\n",
       "      <td>23</td>\n",
       "      <td>1258.8</td>\n",
       "      <td>19</td>\n",
       "    </tr>\n",
       "    <tr>\n",
       "      <th>1</th>\n",
       "      <td>2019-08-02</td>\n",
       "      <td>1503.5</td>\n",
       "      <td>20</td>\n",
       "      <td>2623.8</td>\n",
       "      <td>24</td>\n",
       "    </tr>\n",
       "    <tr>\n",
       "      <th>2</th>\n",
       "      <td>2019-08-03</td>\n",
       "      <td>1815.2</td>\n",
       "      <td>24</td>\n",
       "      <td>1806.8</td>\n",
       "      <td>16</td>\n",
       "    </tr>\n",
       "    <tr>\n",
       "      <th>3</th>\n",
       "      <td>2019-08-04</td>\n",
       "      <td>990.6</td>\n",
       "      <td>12</td>\n",
       "      <td>1661.8</td>\n",
       "      <td>15</td>\n",
       "    </tr>\n",
       "    <tr>\n",
       "      <th>4</th>\n",
       "      <td>2019-08-05</td>\n",
       "      <td>1978.1</td>\n",
       "      <td>24</td>\n",
       "      <td>1449.3</td>\n",
       "      <td>21</td>\n",
       "    </tr>\n",
       "    <tr>\n",
       "      <th>5</th>\n",
       "      <td>2019-08-06</td>\n",
       "      <td>763.9</td>\n",
       "      <td>17</td>\n",
       "      <td>3445.0</td>\n",
       "      <td>25</td>\n",
       "    </tr>\n",
       "    <tr>\n",
       "      <th>6</th>\n",
       "      <td>2019-08-07</td>\n",
       "      <td>1972.5</td>\n",
       "      <td>17</td>\n",
       "      <td>3435.6</td>\n",
       "      <td>23</td>\n",
       "    </tr>\n",
       "    <tr>\n",
       "      <th>7</th>\n",
       "      <td>2019-08-08</td>\n",
       "      <td>1470.0</td>\n",
       "      <td>15</td>\n",
       "      <td>2415.6</td>\n",
       "      <td>23</td>\n",
       "    </tr>\n",
       "    <tr>\n",
       "      <th>8</th>\n",
       "      <td>2019-08-09</td>\n",
       "      <td>2651.4</td>\n",
       "      <td>13</td>\n",
       "      <td>1796.6</td>\n",
       "      <td>21</td>\n",
       "    </tr>\n",
       "    <tr>\n",
       "      <th>9</th>\n",
       "      <td>2019-08-10</td>\n",
       "      <td>2387.5</td>\n",
       "      <td>15</td>\n",
       "      <td>1674.8</td>\n",
       "      <td>22</td>\n",
       "    </tr>\n",
       "    <tr>\n",
       "      <th>10</th>\n",
       "      <td>2019-08-11</td>\n",
       "      <td>1099.3</td>\n",
       "      <td>12</td>\n",
       "      <td>861.2</td>\n",
       "      <td>13</td>\n",
       "    </tr>\n",
       "    <tr>\n",
       "      <th>11</th>\n",
       "      <td>2019-08-12</td>\n",
       "      <td>3629.5</td>\n",
       "      <td>21</td>\n",
       "      <td>1689.3</td>\n",
       "      <td>21</td>\n",
       "    </tr>\n",
       "    <tr>\n",
       "      <th>12</th>\n",
       "      <td>2019-08-13</td>\n",
       "      <td>4096.9</td>\n",
       "      <td>14</td>\n",
       "      <td>1910.0</td>\n",
       "      <td>21</td>\n",
       "    </tr>\n",
       "    <tr>\n",
       "      <th>13</th>\n",
       "      <td>2019-08-14</td>\n",
       "      <td>953.2</td>\n",
       "      <td>21</td>\n",
       "      <td>2389.9</td>\n",
       "      <td>20</td>\n",
       "    </tr>\n",
       "    <tr>\n",
       "      <th>14</th>\n",
       "      <td>2019-08-15</td>\n",
       "      <td>1357.0</td>\n",
       "      <td>13</td>\n",
       "      <td>5210.9</td>\n",
       "      <td>29</td>\n",
       "    </tr>\n",
       "    <tr>\n",
       "      <th>15</th>\n",
       "      <td>2019-08-16</td>\n",
       "      <td>1599.1</td>\n",
       "      <td>18</td>\n",
       "      <td>1822.2</td>\n",
       "      <td>19</td>\n",
       "    </tr>\n",
       "    <tr>\n",
       "      <th>16</th>\n",
       "      <td>2019-08-17</td>\n",
       "      <td>718.5</td>\n",
       "      <td>7</td>\n",
       "      <td>1281.5</td>\n",
       "      <td>14</td>\n",
       "    </tr>\n",
       "    <tr>\n",
       "      <th>17</th>\n",
       "      <td>2019-08-18</td>\n",
       "      <td>1141.2</td>\n",
       "      <td>16</td>\n",
       "      <td>568.5</td>\n",
       "      <td>7</td>\n",
       "    </tr>\n",
       "    <tr>\n",
       "      <th>18</th>\n",
       "      <td>2019-08-19</td>\n",
       "      <td>2989.1</td>\n",
       "      <td>22</td>\n",
       "      <td>22064.9</td>\n",
       "      <td>21</td>\n",
       "    </tr>\n",
       "    <tr>\n",
       "      <th>19</th>\n",
       "      <td>2019-08-20</td>\n",
       "      <td>936.0</td>\n",
       "      <td>10</td>\n",
       "      <td>2324.6</td>\n",
       "      <td>20</td>\n",
       "    </tr>\n",
       "    <tr>\n",
       "      <th>20</th>\n",
       "      <td>2019-08-21</td>\n",
       "      <td>2699.1</td>\n",
       "      <td>21</td>\n",
       "      <td>2490.7</td>\n",
       "      <td>13</td>\n",
       "    </tr>\n",
       "    <tr>\n",
       "      <th>21</th>\n",
       "      <td>2019-08-22</td>\n",
       "      <td>1611.4</td>\n",
       "      <td>12</td>\n",
       "      <td>2560.8</td>\n",
       "      <td>25</td>\n",
       "    </tr>\n",
       "    <tr>\n",
       "      <th>22</th>\n",
       "      <td>2019-08-23</td>\n",
       "      <td>1451.6</td>\n",
       "      <td>23</td>\n",
       "      <td>1269.2</td>\n",
       "      <td>14</td>\n",
       "    </tr>\n",
       "    <tr>\n",
       "      <th>23</th>\n",
       "      <td>2019-08-24</td>\n",
       "      <td>1952.2</td>\n",
       "      <td>14</td>\n",
       "      <td>1441.4</td>\n",
       "      <td>15</td>\n",
       "    </tr>\n",
       "    <tr>\n",
       "      <th>24</th>\n",
       "      <td>2019-08-25</td>\n",
       "      <td>1073.7</td>\n",
       "      <td>9</td>\n",
       "      <td>1255.3</td>\n",
       "      <td>12</td>\n",
       "    </tr>\n",
       "    <tr>\n",
       "      <th>25</th>\n",
       "      <td>2019-08-26</td>\n",
       "      <td>2464.8</td>\n",
       "      <td>16</td>\n",
       "      <td>2900.4</td>\n",
       "      <td>25</td>\n",
       "    </tr>\n",
       "    <tr>\n",
       "      <th>26</th>\n",
       "      <td>2019-08-27</td>\n",
       "      <td>3020.6</td>\n",
       "      <td>25</td>\n",
       "      <td>2304.0</td>\n",
       "      <td>15</td>\n",
       "    </tr>\n",
       "    <tr>\n",
       "      <th>27</th>\n",
       "      <td>2019-08-28</td>\n",
       "      <td>1602.6</td>\n",
       "      <td>17</td>\n",
       "      <td>1156.6</td>\n",
       "      <td>25</td>\n",
       "    </tr>\n",
       "    <tr>\n",
       "      <th>28</th>\n",
       "      <td>2019-08-29</td>\n",
       "      <td>3709.5</td>\n",
       "      <td>19</td>\n",
       "      <td>1731.6</td>\n",
       "      <td>16</td>\n",
       "    </tr>\n",
       "    <tr>\n",
       "      <th>29</th>\n",
       "      <td>2019-08-30</td>\n",
       "      <td>1228.9</td>\n",
       "      <td>9</td>\n",
       "      <td>3322.6</td>\n",
       "      <td>22</td>\n",
       "    </tr>\n",
       "    <tr>\n",
       "      <th>30</th>\n",
       "      <td>2019-08-31</td>\n",
       "      <td>905.0</td>\n",
       "      <td>10</td>\n",
       "      <td>2028.2</td>\n",
       "      <td>18</td>\n",
       "    </tr>\n",
       "  </tbody>\n",
       "</table>\n",
       "</div>"
      ],
      "text/plain": [
       "         date  ventas_totalesA  ordenesA  ventas_totalesB  ordenesB\n",
       "0  2019-08-01           2266.6        23           1258.8        19\n",
       "1  2019-08-02           1503.5        20           2623.8        24\n",
       "2  2019-08-03           1815.2        24           1806.8        16\n",
       "3  2019-08-04            990.6        12           1661.8        15\n",
       "4  2019-08-05           1978.1        24           1449.3        21\n",
       "5  2019-08-06            763.9        17           3445.0        25\n",
       "6  2019-08-07           1972.5        17           3435.6        23\n",
       "7  2019-08-08           1470.0        15           2415.6        23\n",
       "8  2019-08-09           2651.4        13           1796.6        21\n",
       "9  2019-08-10           2387.5        15           1674.8        22\n",
       "10 2019-08-11           1099.3        12            861.2        13\n",
       "11 2019-08-12           3629.5        21           1689.3        21\n",
       "12 2019-08-13           4096.9        14           1910.0        21\n",
       "13 2019-08-14            953.2        21           2389.9        20\n",
       "14 2019-08-15           1357.0        13           5210.9        29\n",
       "15 2019-08-16           1599.1        18           1822.2        19\n",
       "16 2019-08-17            718.5         7           1281.5        14\n",
       "17 2019-08-18           1141.2        16            568.5         7\n",
       "18 2019-08-19           2989.1        22          22064.9        21\n",
       "19 2019-08-20            936.0        10           2324.6        20\n",
       "20 2019-08-21           2699.1        21           2490.7        13\n",
       "21 2019-08-22           1611.4        12           2560.8        25\n",
       "22 2019-08-23           1451.6        23           1269.2        14\n",
       "23 2019-08-24           1952.2        14           1441.4        15\n",
       "24 2019-08-25           1073.7         9           1255.3        12\n",
       "25 2019-08-26           2464.8        16           2900.4        25\n",
       "26 2019-08-27           3020.6        25           2304.0        15\n",
       "27 2019-08-28           1602.6        17           1156.6        25\n",
       "28 2019-08-29           3709.5        19           1731.6        16\n",
       "29 2019-08-30           1228.9         9           3322.6        22\n",
       "30 2019-08-31            905.0        10           2028.2        18"
      ]
     },
     "execution_count": 28,
     "metadata": {},
     "output_type": "execute_result"
    }
   ],
   "source": [
    "ventas_totales_A_B = ventas_grupo_A.merge(ventas_grupo_B, how='outer', on ='date', suffixes = ['A', 'B'])\n",
    "ventas_totales_A_B"
   ]
  },
  {
   "cell_type": "code",
   "execution_count": 29,
   "metadata": {},
   "outputs": [
    {
     "name": "stdout",
     "output_type": "stream",
     "text": [
      "         date  ingreso_acumuladoA  ingreso_acumuladoB\n",
      "0  2019-08-01              2266.6              1258.8\n",
      "1  2019-08-02              3770.1              3882.6\n",
      "2  2019-08-03              5585.3              5689.4\n",
      "3  2019-08-04              6575.9              7351.2\n",
      "4  2019-08-05              8554.0              8800.5\n",
      "5  2019-08-06              9317.9             12245.5\n",
      "6  2019-08-07             11290.4             15681.1\n",
      "7  2019-08-08             12760.4             18096.7\n",
      "8  2019-08-09             15411.8             19893.3\n",
      "9  2019-08-10             17799.3             21568.1\n",
      "10 2019-08-11             18898.6             22429.3\n",
      "11 2019-08-12             22528.1             24118.6\n",
      "12 2019-08-13             26625.0             26028.6\n",
      "13 2019-08-14             27578.2             28418.5\n",
      "14 2019-08-15             28935.2             33629.4\n",
      "15 2019-08-16             30534.3             35451.6\n",
      "16 2019-08-17             31252.8             36733.1\n",
      "17 2019-08-18             32394.0             37301.6\n",
      "18 2019-08-19             35383.1             59366.5\n",
      "19 2019-08-20             36319.1             61691.1\n",
      "20 2019-08-21             39018.2             64181.8\n",
      "21 2019-08-22             40629.6             66742.6\n",
      "22 2019-08-23             42081.2             68011.8\n",
      "23 2019-08-24             44033.4             69453.2\n",
      "24 2019-08-25             45107.1             70708.5\n",
      "25 2019-08-26             47571.9             73608.9\n",
      "26 2019-08-27             50592.5             75912.9\n",
      "27 2019-08-28             52195.1             77069.5\n",
      "28 2019-08-29             55904.6             78801.1\n",
      "29 2019-08-30             57133.5             82123.7\n",
      "30 2019-08-31             58038.5             84151.9\n"
     ]
    }
   ],
   "source": [
    "ventas_totales_A_B['ingreso_acumuladoA'] = ventas_totales_A_B['ventas_totalesA'].cumsum()\n",
    "\n",
    "ventas_totales_A_B['ingreso_acumuladoB'] = ventas_totales_A_B['ventas_totalesB'].cumsum()\n",
    "\n",
    "print(ventas_totales_A_B[['date', 'ingreso_acumuladoA', 'ingreso_acumuladoB']])"
   ]
  },
  {
   "cell_type": "code",
   "execution_count": 30,
   "metadata": {},
   "outputs": [
    {
     "data": {
      "image/png": "[encoded data removed]",
      "text/plain": [
       "<Figure size 1000x600 with 1 Axes>"
      ]
     },
     "metadata": {},
     "output_type": "display_data"
    }
   ],
   "source": [
    "plt.figure(figsize=(10, 6))\n",
    "plt.plot(ventas_totales_A_B['date'], ventas_totales_A_B['ingreso_acumuladoA'], label='Ingreso Acumulado A', color='blue')\n",
    "plt.plot(ventas_totales_A_B['date'], ventas_totales_A_B['ingreso_acumuladoB'], label='Ingreso Acumulado B', color='green')\n",
    "\n",
    "plt.ylabel('Ingreso Acumulado')\n",
    "plt.title('Ingreso Acumulado por Grupo A y B')\n",
    "plt.xticks(rotation=45)\n",
    "plt.legend()\n",
    "plt.tight_layout()\n",
    "plt.show()"
   ]
  },
  {
   "cell_type": "markdown",
   "metadata": {},
   "source": [
    "Se ha obtenido las ventas totales de A y B para poder obtener posteriormente el ingreso acomulado de cada uno. Como se muestra en los datos el  ingreso_acumuladoA es de 58038.5 mientras que el ingreso_acumuladoB es de  84151.9. En el grafico se muetra el ingreso acomulado por el grupo A y B atraves del tiempo, donde claramente se puede observar que apartir del 2019-08-17 el grupo B tiende a tener un incremento mayor"
   ]
  },
  {
   "cell_type": "code",
   "execution_count": 31,
   "metadata": {},
   "outputs": [
    {
     "data": {
      "image/png": "[encoded data removed]",
      "text/plain": [
       "<Figure size 640x480 with 1 Axes>"
      ]
     },
     "metadata": {},
     "output_type": "display_data"
    }
   ],
   "source": [
    "plt.plot(ventas_totales_A_B['date'], \n",
    "         (ventas_totales_A_B['ventas_totalesA'] / ventas_totales_A_B['ordenesA']) / \n",
    "         (ventas_totales_A_B['ventas_totalesB'] / ventas_totales_A_B['ordenesB'])-1)\n",
    "plt.xticks(rotation = 45)\n",
    "plt.axhline(y = 0, color = 'black', linestyle = '--')\n",
    "plt.show()"
   ]
  },
  {
   "cell_type": "markdown",
   "metadata": {},
   "source": [
    "En esta grafica observamos que el ticket promedio de B  es mas alto que el A, los que sobrepasan el cero son los que sobrepasaron al grupo A, por lo cual lo que se encuentra por debajo de las linas punteadas es el ticket pormedio que es igaul entre A y B. Por lo general el grupo se se encuentra por ensima de la linea supera a A"
   ]
  },
  {
   "cell_type": "code",
   "execution_count": 32,
   "metadata": {},
   "outputs": [
    {
     "data": {
      "text/html": [
       "<div>\n",
       "<style scoped>\n",
       "    .dataframe tbody tr th:only-of-type {\n",
       "        vertical-align: middle;\n",
       "    }\n",
       "\n",
       "    .dataframe tbody tr th {\n",
       "        vertical-align: top;\n",
       "    }\n",
       "\n",
       "    .dataframe thead th {\n",
       "        text-align: right;\n",
       "    }\n",
       "</style>\n",
       "<table border=\"1\" class=\"dataframe\">\n",
       "  <thead>\n",
       "    <tr style=\"text-align: right;\">\n",
       "      <th></th>\n",
       "      <th>date</th>\n",
       "      <th>group</th>\n",
       "      <th>ordenes</th>\n",
       "      <th>compradores</th>\n",
       "      <th>ventas_totales</th>\n",
       "      <th>visitas</th>\n",
       "      <th>conversion</th>\n",
       "    </tr>\n",
       "  </thead>\n",
       "  <tbody>\n",
       "    <tr>\n",
       "      <th>0</th>\n",
       "      <td>2019-08-01</td>\n",
       "      <td>A</td>\n",
       "      <td>23</td>\n",
       "      <td>19</td>\n",
       "      <td>2266.6</td>\n",
       "      <td>719</td>\n",
       "      <td>3.198887</td>\n",
       "    </tr>\n",
       "    <tr>\n",
       "      <th>1</th>\n",
       "      <td>2019-08-01</td>\n",
       "      <td>B</td>\n",
       "      <td>19</td>\n",
       "      <td>19</td>\n",
       "      <td>1258.8</td>\n",
       "      <td>713</td>\n",
       "      <td>2.664797</td>\n",
       "    </tr>\n",
       "    <tr>\n",
       "      <th>2</th>\n",
       "      <td>2019-08-02</td>\n",
       "      <td>A</td>\n",
       "      <td>20</td>\n",
       "      <td>19</td>\n",
       "      <td>1503.5</td>\n",
       "      <td>619</td>\n",
       "      <td>3.231018</td>\n",
       "    </tr>\n",
       "    <tr>\n",
       "      <th>3</th>\n",
       "      <td>2019-08-02</td>\n",
       "      <td>B</td>\n",
       "      <td>24</td>\n",
       "      <td>23</td>\n",
       "      <td>2623.8</td>\n",
       "      <td>581</td>\n",
       "      <td>4.130809</td>\n",
       "    </tr>\n",
       "    <tr>\n",
       "      <th>4</th>\n",
       "      <td>2019-08-03</td>\n",
       "      <td>A</td>\n",
       "      <td>24</td>\n",
       "      <td>24</td>\n",
       "      <td>1815.2</td>\n",
       "      <td>507</td>\n",
       "      <td>4.733728</td>\n",
       "    </tr>\n",
       "    <tr>\n",
       "      <th>...</th>\n",
       "      <td>...</td>\n",
       "      <td>...</td>\n",
       "      <td>...</td>\n",
       "      <td>...</td>\n",
       "      <td>...</td>\n",
       "      <td>...</td>\n",
       "      <td>...</td>\n",
       "    </tr>\n",
       "    <tr>\n",
       "      <th>57</th>\n",
       "      <td>2019-08-29</td>\n",
       "      <td>B</td>\n",
       "      <td>16</td>\n",
       "      <td>16</td>\n",
       "      <td>1731.6</td>\n",
       "      <td>531</td>\n",
       "      <td>3.013183</td>\n",
       "    </tr>\n",
       "    <tr>\n",
       "      <th>58</th>\n",
       "      <td>2019-08-30</td>\n",
       "      <td>A</td>\n",
       "      <td>9</td>\n",
       "      <td>8</td>\n",
       "      <td>1228.9</td>\n",
       "      <td>490</td>\n",
       "      <td>1.836735</td>\n",
       "    </tr>\n",
       "    <tr>\n",
       "      <th>59</th>\n",
       "      <td>2019-08-30</td>\n",
       "      <td>B</td>\n",
       "      <td>22</td>\n",
       "      <td>22</td>\n",
       "      <td>3322.6</td>\n",
       "      <td>490</td>\n",
       "      <td>4.489796</td>\n",
       "    </tr>\n",
       "    <tr>\n",
       "      <th>60</th>\n",
       "      <td>2019-08-31</td>\n",
       "      <td>A</td>\n",
       "      <td>10</td>\n",
       "      <td>10</td>\n",
       "      <td>905.0</td>\n",
       "      <td>699</td>\n",
       "      <td>1.430615</td>\n",
       "    </tr>\n",
       "    <tr>\n",
       "      <th>61</th>\n",
       "      <td>2019-08-31</td>\n",
       "      <td>B</td>\n",
       "      <td>18</td>\n",
       "      <td>18</td>\n",
       "      <td>2028.2</td>\n",
       "      <td>718</td>\n",
       "      <td>2.506964</td>\n",
       "    </tr>\n",
       "  </tbody>\n",
       "</table>\n",
       "<p>62 rows × 7 columns</p>\n",
       "</div>"
      ],
      "text/plain": [
       "         date group  ordenes  compradores  ventas_totales  visitas  conversion\n",
       "0  2019-08-01     A       23           19          2266.6      719    3.198887\n",
       "1  2019-08-01     B       19           19          1258.8      713    2.664797\n",
       "2  2019-08-02     A       20           19          1503.5      619    3.231018\n",
       "3  2019-08-02     B       24           23          2623.8      581    4.130809\n",
       "4  2019-08-03     A       24           24          1815.2      507    4.733728\n",
       "..        ...   ...      ...          ...             ...      ...         ...\n",
       "57 2019-08-29     B       16           16          1731.6      531    3.013183\n",
       "58 2019-08-30     A        9            8          1228.9      490    1.836735\n",
       "59 2019-08-30     B       22           22          3322.6      490    4.489796\n",
       "60 2019-08-31     A       10           10           905.0      699    1.430615\n",
       "61 2019-08-31     B       18           18          2028.2      718    2.506964\n",
       "\n",
       "[62 rows x 7 columns]"
      ]
     },
     "execution_count": 32,
     "metadata": {},
     "output_type": "execute_result"
    }
   ],
   "source": [
    "fct_experiment ['conversion'] = fct_experiment['ordenes'] / fct_experiment['visitas'] * 100\n",
    "fct_experiment"
   ]
  },
  {
   "cell_type": "code",
   "execution_count": 33,
   "metadata": {},
   "outputs": [],
   "source": [
    "experimentoA = fct_experiment.query('group == \"A\"')\n",
    "experimentoB = fct_experiment.query('group == \"B\"')"
   ]
  },
  {
   "cell_type": "code",
   "execution_count": 34,
   "metadata": {},
   "outputs": [
    {
     "data": {
      "image/png": "[encoded data removed]",
      "text/plain": [
       "<Figure size 640x480 with 1 Axes>"
      ]
     },
     "metadata": {},
     "output_type": "display_data"
    }
   ],
   "source": [
    "plt.plot(experimentoA['date'], experimentoA['conversion'], label = 'A')\n",
    "plt.plot(experimentoB['date'], experimentoB['conversion'], label = 'B')\n",
    "plt.legend()\n",
    "plt.title('Tasa_de_conversion')\n",
    "plt.xticks(rotation= 45)\n",
    "plt.show()"
   ]
  },
  {
   "cell_type": "markdown",
   "metadata": {},
   "source": [
    "Este grafico se observa la tasa de conversion atraves del tiempo, este grafico nos muestra el número de usuarios que pasaron a ser clientes como porcentaje del total de usuarios que visitaron el sitio, por tanto cuanto mas alta es la tasa de conversion sera mas eficaz, Para este caso el porcentaje mas alto es de 6%, siendo el grupo B el que mas conversion tiene"
   ]
  },
  {
   "cell_type": "code",
   "execution_count": 35,
   "metadata": {},
   "outputs": [
    {
     "data": {
      "text/html": [
       "<div>\n",
       "<style scoped>\n",
       "    .dataframe tbody tr th:only-of-type {\n",
       "        vertical-align: middle;\n",
       "    }\n",
       "\n",
       "    .dataframe tbody tr th {\n",
       "        vertical-align: top;\n",
       "    }\n",
       "\n",
       "    .dataframe thead th {\n",
       "        text-align: right;\n",
       "    }\n",
       "</style>\n",
       "<table border=\"1\" class=\"dataframe\">\n",
       "  <thead>\n",
       "    <tr style=\"text-align: right;\">\n",
       "      <th></th>\n",
       "      <th>date</th>\n",
       "      <th>conversionA</th>\n",
       "      <th>conversionB</th>\n",
       "    </tr>\n",
       "  </thead>\n",
       "  <tbody>\n",
       "    <tr>\n",
       "      <th>0</th>\n",
       "      <td>2019-08-01</td>\n",
       "      <td>3.198887</td>\n",
       "      <td>2.664797</td>\n",
       "    </tr>\n",
       "    <tr>\n",
       "      <th>1</th>\n",
       "      <td>2019-08-02</td>\n",
       "      <td>3.231018</td>\n",
       "      <td>4.130809</td>\n",
       "    </tr>\n",
       "    <tr>\n",
       "      <th>2</th>\n",
       "      <td>2019-08-03</td>\n",
       "      <td>4.733728</td>\n",
       "      <td>3.143418</td>\n",
       "    </tr>\n",
       "    <tr>\n",
       "      <th>3</th>\n",
       "      <td>2019-08-04</td>\n",
       "      <td>1.673640</td>\n",
       "      <td>1.948052</td>\n",
       "    </tr>\n",
       "    <tr>\n",
       "      <th>4</th>\n",
       "      <td>2019-08-05</td>\n",
       "      <td>3.174603</td>\n",
       "      <td>2.970297</td>\n",
       "    </tr>\n",
       "    <tr>\n",
       "      <th>5</th>\n",
       "      <td>2019-08-06</td>\n",
       "      <td>2.548726</td>\n",
       "      <td>3.816794</td>\n",
       "    </tr>\n",
       "    <tr>\n",
       "      <th>6</th>\n",
       "      <td>2019-08-07</td>\n",
       "      <td>2.639752</td>\n",
       "      <td>3.244006</td>\n",
       "    </tr>\n",
       "    <tr>\n",
       "      <th>7</th>\n",
       "      <td>2019-08-08</td>\n",
       "      <td>2.459016</td>\n",
       "      <td>3.516820</td>\n",
       "    </tr>\n",
       "    <tr>\n",
       "      <th>8</th>\n",
       "      <td>2019-08-09</td>\n",
       "      <td>2.106969</td>\n",
       "      <td>3.442623</td>\n",
       "    </tr>\n",
       "    <tr>\n",
       "      <th>9</th>\n",
       "      <td>2019-08-10</td>\n",
       "      <td>3.694581</td>\n",
       "      <td>5.962060</td>\n",
       "    </tr>\n",
       "    <tr>\n",
       "      <th>10</th>\n",
       "      <td>2019-08-11</td>\n",
       "      <td>1.671309</td>\n",
       "      <td>1.803051</td>\n",
       "    </tr>\n",
       "    <tr>\n",
       "      <th>11</th>\n",
       "      <td>2019-08-12</td>\n",
       "      <td>3.529412</td>\n",
       "      <td>3.867403</td>\n",
       "    </tr>\n",
       "    <tr>\n",
       "      <th>12</th>\n",
       "      <td>2019-08-13</td>\n",
       "      <td>1.871658</td>\n",
       "      <td>2.730819</td>\n",
       "    </tr>\n",
       "    <tr>\n",
       "      <th>13</th>\n",
       "      <td>2019-08-14</td>\n",
       "      <td>2.857143</td>\n",
       "      <td>2.680965</td>\n",
       "    </tr>\n",
       "    <tr>\n",
       "      <th>14</th>\n",
       "      <td>2019-08-15</td>\n",
       "      <td>2.070064</td>\n",
       "      <td>5.330882</td>\n",
       "    </tr>\n",
       "    <tr>\n",
       "      <th>15</th>\n",
       "      <td>2019-08-16</td>\n",
       "      <td>4.986150</td>\n",
       "      <td>4.600484</td>\n",
       "    </tr>\n",
       "    <tr>\n",
       "      <th>16</th>\n",
       "      <td>2019-08-17</td>\n",
       "      <td>1.699029</td>\n",
       "      <td>3.325416</td>\n",
       "    </tr>\n",
       "    <tr>\n",
       "      <th>17</th>\n",
       "      <td>2019-08-18</td>\n",
       "      <td>2.395210</td>\n",
       "      <td>0.949796</td>\n",
       "    </tr>\n",
       "    <tr>\n",
       "      <th>18</th>\n",
       "      <td>2019-08-19</td>\n",
       "      <td>4.382470</td>\n",
       "      <td>4.312115</td>\n",
       "    </tr>\n",
       "    <tr>\n",
       "      <th>19</th>\n",
       "      <td>2019-08-20</td>\n",
       "      <td>1.739130</td>\n",
       "      <td>3.571429</td>\n",
       "    </tr>\n",
       "    <tr>\n",
       "      <th>20</th>\n",
       "      <td>2019-08-21</td>\n",
       "      <td>3.250774</td>\n",
       "      <td>1.981707</td>\n",
       "    </tr>\n",
       "    <tr>\n",
       "      <th>21</th>\n",
       "      <td>2019-08-22</td>\n",
       "      <td>1.970443</td>\n",
       "      <td>3.846154</td>\n",
       "    </tr>\n",
       "    <tr>\n",
       "      <th>22</th>\n",
       "      <td>2019-08-23</td>\n",
       "      <td>4.914530</td>\n",
       "      <td>2.564103</td>\n",
       "    </tr>\n",
       "    <tr>\n",
       "      <th>23</th>\n",
       "      <td>2019-08-24</td>\n",
       "      <td>3.544304</td>\n",
       "      <td>3.968254</td>\n",
       "    </tr>\n",
       "    <tr>\n",
       "      <th>24</th>\n",
       "      <td>2019-08-25</td>\n",
       "      <td>1.449275</td>\n",
       "      <td>1.767305</td>\n",
       "    </tr>\n",
       "    <tr>\n",
       "      <th>25</th>\n",
       "      <td>2019-08-26</td>\n",
       "      <td>2.216066</td>\n",
       "      <td>3.698225</td>\n",
       "    </tr>\n",
       "    <tr>\n",
       "      <th>26</th>\n",
       "      <td>2019-08-27</td>\n",
       "      <td>3.516174</td>\n",
       "      <td>2.083333</td>\n",
       "    </tr>\n",
       "    <tr>\n",
       "      <th>27</th>\n",
       "      <td>2019-08-28</td>\n",
       "      <td>2.861953</td>\n",
       "      <td>3.822630</td>\n",
       "    </tr>\n",
       "    <tr>\n",
       "      <th>28</th>\n",
       "      <td>2019-08-29</td>\n",
       "      <td>3.292894</td>\n",
       "      <td>3.013183</td>\n",
       "    </tr>\n",
       "    <tr>\n",
       "      <th>29</th>\n",
       "      <td>2019-08-30</td>\n",
       "      <td>1.836735</td>\n",
       "      <td>4.489796</td>\n",
       "    </tr>\n",
       "    <tr>\n",
       "      <th>30</th>\n",
       "      <td>2019-08-31</td>\n",
       "      <td>1.430615</td>\n",
       "      <td>2.506964</td>\n",
       "    </tr>\n",
       "  </tbody>\n",
       "</table>\n",
       "</div>"
      ],
      "text/plain": [
       "         date  conversionA  conversionB\n",
       "0  2019-08-01     3.198887     2.664797\n",
       "1  2019-08-02     3.231018     4.130809\n",
       "2  2019-08-03     4.733728     3.143418\n",
       "3  2019-08-04     1.673640     1.948052\n",
       "4  2019-08-05     3.174603     2.970297\n",
       "5  2019-08-06     2.548726     3.816794\n",
       "6  2019-08-07     2.639752     3.244006\n",
       "7  2019-08-08     2.459016     3.516820\n",
       "8  2019-08-09     2.106969     3.442623\n",
       "9  2019-08-10     3.694581     5.962060\n",
       "10 2019-08-11     1.671309     1.803051\n",
       "11 2019-08-12     3.529412     3.867403\n",
       "12 2019-08-13     1.871658     2.730819\n",
       "13 2019-08-14     2.857143     2.680965\n",
       "14 2019-08-15     2.070064     5.330882\n",
       "15 2019-08-16     4.986150     4.600484\n",
       "16 2019-08-17     1.699029     3.325416\n",
       "17 2019-08-18     2.395210     0.949796\n",
       "18 2019-08-19     4.382470     4.312115\n",
       "19 2019-08-20     1.739130     3.571429\n",
       "20 2019-08-21     3.250774     1.981707\n",
       "21 2019-08-22     1.970443     3.846154\n",
       "22 2019-08-23     4.914530     2.564103\n",
       "23 2019-08-24     3.544304     3.968254\n",
       "24 2019-08-25     1.449275     1.767305\n",
       "25 2019-08-26     2.216066     3.698225\n",
       "26 2019-08-27     3.516174     2.083333\n",
       "27 2019-08-28     2.861953     3.822630\n",
       "28 2019-08-29     3.292894     3.013183\n",
       "29 2019-08-30     1.836735     4.489796\n",
       "30 2019-08-31     1.430615     2.506964"
      ]
     },
     "execution_count": 35,
     "metadata": {},
     "output_type": "execute_result"
    }
   ],
   "source": [
    "conversion_A_b = experimentoA[['date', 'conversion']].merge(experimentoB[['date', 'conversion']], how = 'outer', on = 'date', suffixes = ['A', 'B'])\n",
    "conversion_A_b"
   ]
  },
  {
   "cell_type": "code",
   "execution_count": 36,
   "metadata": {},
   "outputs": [
    {
     "data": {
      "text/html": [
       "<div>\n",
       "<style scoped>\n",
       "    .dataframe tbody tr th:only-of-type {\n",
       "        vertical-align: middle;\n",
       "    }\n",
       "\n",
       "    .dataframe tbody tr th {\n",
       "        vertical-align: top;\n",
       "    }\n",
       "\n",
       "    .dataframe thead th {\n",
       "        text-align: right;\n",
       "    }\n",
       "</style>\n",
       "<table border=\"1\" class=\"dataframe\">\n",
       "  <thead>\n",
       "    <tr style=\"text-align: right;\">\n",
       "      <th></th>\n",
       "      <th>conversionA</th>\n",
       "      <th>conversionB</th>\n",
       "    </tr>\n",
       "  </thead>\n",
       "  <tbody>\n",
       "    <tr>\n",
       "      <th>count</th>\n",
       "      <td>31.000000</td>\n",
       "      <td>31.000000</td>\n",
       "    </tr>\n",
       "    <tr>\n",
       "      <th>mean</th>\n",
       "      <td>2.804718</td>\n",
       "      <td>3.282377</td>\n",
       "    </tr>\n",
       "    <tr>\n",
       "      <th>std</th>\n",
       "      <td>1.026511</td>\n",
       "      <td>1.089179</td>\n",
       "    </tr>\n",
       "    <tr>\n",
       "      <th>min</th>\n",
       "      <td>1.430615</td>\n",
       "      <td>0.949796</td>\n",
       "    </tr>\n",
       "    <tr>\n",
       "      <th>25%</th>\n",
       "      <td>1.921051</td>\n",
       "      <td>2.614450</td>\n",
       "    </tr>\n",
       "    <tr>\n",
       "      <th>50%</th>\n",
       "      <td>2.639752</td>\n",
       "      <td>3.325416</td>\n",
       "    </tr>\n",
       "    <tr>\n",
       "      <th>75%</th>\n",
       "      <td>3.404534</td>\n",
       "      <td>3.856779</td>\n",
       "    </tr>\n",
       "    <tr>\n",
       "      <th>max</th>\n",
       "      <td>4.986150</td>\n",
       "      <td>5.962060</td>\n",
       "    </tr>\n",
       "  </tbody>\n",
       "</table>\n",
       "</div>"
      ],
      "text/plain": [
       "       conversionA  conversionB\n",
       "count    31.000000    31.000000\n",
       "mean      2.804718     3.282377\n",
       "std       1.026511     1.089179\n",
       "min       1.430615     0.949796\n",
       "25%       1.921051     2.614450\n",
       "50%       2.639752     3.325416\n",
       "75%       3.404534     3.856779\n",
       "max       4.986150     5.962060"
      ]
     },
     "execution_count": 36,
     "metadata": {},
     "output_type": "execute_result"
    }
   ],
   "source": [
    "conversion_A_b.describe()"
   ]
  },
  {
   "cell_type": "code",
   "execution_count": 37,
   "metadata": {},
   "outputs": [
    {
     "data": {
      "image/png": "[encoded data removed]",
      "text/plain": [
       "<Figure size 640x480 with 2 Axes>"
      ]
     },
     "metadata": {},
     "output_type": "display_data"
    }
   ],
   "source": [
    "fig, axs = plt.subplots(ncols=2)\n",
    "\n",
    "# Using histplot, which works with axes\n",
    "sns.histplot(conversion_A_b['conversionA'], ax=axs[0], label='A', kde=True)\n",
    "sns.histplot(conversion_A_b['conversionB'], ax=axs[1], label='B', kde=True)\n",
    "axs[0].legend()\n",
    "axs[1].legend()\n",
    "axs[0].set_title(\"Conversion Distribution A\")\n",
    "axs[1].set_title(\"Conversion Distribution B\")\n",
    "plt.show()"
   ]
  },
  {
   "cell_type": "markdown",
   "metadata": {},
   "source": [
    "En este grafico de histograma se observa una clara distribucion diferente ya que la media para A es de 2.804718 y para B 3.282377 por lo tanto no hay una diferencia significativa"
   ]
  },
  {
   "cell_type": "code",
   "execution_count": 38,
   "metadata": {},
   "outputs": [
    {
     "data": {
      "image/png": "[encoded data removed]",
      "text/plain": [
       "<Figure size 640x480 with 1 Axes>"
      ]
     },
     "metadata": {},
     "output_type": "display_data"
    }
   ],
   "source": [
    "plt.plot(conversion_A_b['date'], conversion_A_b['conversionA']/\n",
    "        conversion_A_b['conversionB']-1)\n",
    "plt.xticks(rotation = 45)\n",
    "plt.title('')\n",
    "plt.axhline(y = 0, color = 'red', linestyle = '--')\n",
    "plt.axhline(y = 0.1, color = 'black', linestyle = '--')\n",
    "plt.show()"
   ]
  },
  {
   "cell_type": "markdown",
   "metadata": {},
   "source": [
    "En este grafico se observa la conversion entre A y B, donde la linea roja hacia abajo nos muestra la relacion entre A con B y en las lineas punteadas negras es el maximo para A, donde tambien aqui entre la linae roja y negra nos muestra la diferencia de conversion, siendo mayor para B por ejemplo el 2019-08-04 B supero en un 50% al grupo A"
   ]
  },
  {
   "cell_type": "markdown",
   "metadata": {},
   "source": [
    "#### Una ves obtenida la tasa de convergencia, que para nuestro caso es lo mas relevante, mostraremos el comportamiento de los usuarios respecto a las ordenes, las ordenes por pedidos asi como las pruebas de hipotesis para saber si debemos considerar a uno de los grupos como líder; Parar la prueba y concluir que no hay diferencia entre los grupos o  continuar la prueba."
   ]
  },
  {
   "cell_type": "code",
   "execution_count": 52,
   "metadata": {},
   "outputs": [
    {
     "data": {
      "text/html": [
       "<div>\n",
       "<style scoped>\n",
       "    .dataframe tbody tr th:only-of-type {\n",
       "        vertical-align: middle;\n",
       "    }\n",
       "\n",
       "    .dataframe tbody tr th {\n",
       "        vertical-align: top;\n",
       "    }\n",
       "\n",
       "    .dataframe thead th {\n",
       "        text-align: right;\n",
       "    }\n",
       "</style>\n",
       "<table border=\"1\" class=\"dataframe\">\n",
       "  <thead>\n",
       "    <tr style=\"text-align: right;\">\n",
       "      <th></th>\n",
       "      <th>transactionId</th>\n",
       "      <th>visitorId</th>\n",
       "      <th>date</th>\n",
       "      <th>revenue</th>\n",
       "      <th>group</th>\n",
       "    </tr>\n",
       "  </thead>\n",
       "  <tbody>\n",
       "    <tr>\n",
       "      <th>0</th>\n",
       "      <td>3667963787</td>\n",
       "      <td>3312258926</td>\n",
       "      <td>2019-08-15</td>\n",
       "      <td>30.4</td>\n",
       "      <td>B</td>\n",
       "    </tr>\n",
       "    <tr>\n",
       "      <th>1</th>\n",
       "      <td>2804400009</td>\n",
       "      <td>3642806036</td>\n",
       "      <td>2019-08-15</td>\n",
       "      <td>15.2</td>\n",
       "      <td>B</td>\n",
       "    </tr>\n",
       "    <tr>\n",
       "      <th>2</th>\n",
       "      <td>2961555356</td>\n",
       "      <td>4069496402</td>\n",
       "      <td>2019-08-15</td>\n",
       "      <td>10.2</td>\n",
       "      <td>A</td>\n",
       "    </tr>\n",
       "    <tr>\n",
       "      <th>3</th>\n",
       "      <td>3797467345</td>\n",
       "      <td>1196621759</td>\n",
       "      <td>2019-08-15</td>\n",
       "      <td>155.1</td>\n",
       "      <td>B</td>\n",
       "    </tr>\n",
       "    <tr>\n",
       "      <th>4</th>\n",
       "      <td>2282983706</td>\n",
       "      <td>2322279887</td>\n",
       "      <td>2019-08-15</td>\n",
       "      <td>40.5</td>\n",
       "      <td>B</td>\n",
       "    </tr>\n",
       "    <tr>\n",
       "      <th>...</th>\n",
       "      <td>...</td>\n",
       "      <td>...</td>\n",
       "      <td>...</td>\n",
       "      <td>...</td>\n",
       "      <td>...</td>\n",
       "    </tr>\n",
       "    <tr>\n",
       "      <th>1192</th>\n",
       "      <td>2662137336</td>\n",
       "      <td>3733762160</td>\n",
       "      <td>2019-08-14</td>\n",
       "      <td>100.8</td>\n",
       "      <td>B</td>\n",
       "    </tr>\n",
       "    <tr>\n",
       "      <th>1193</th>\n",
       "      <td>2203539145</td>\n",
       "      <td>370388673</td>\n",
       "      <td>2019-08-14</td>\n",
       "      <td>50.1</td>\n",
       "      <td>A</td>\n",
       "    </tr>\n",
       "    <tr>\n",
       "      <th>1194</th>\n",
       "      <td>1807773912</td>\n",
       "      <td>573423106</td>\n",
       "      <td>2019-08-14</td>\n",
       "      <td>165.3</td>\n",
       "      <td>A</td>\n",
       "    </tr>\n",
       "    <tr>\n",
       "      <th>1195</th>\n",
       "      <td>1947021204</td>\n",
       "      <td>1614305549</td>\n",
       "      <td>2019-08-14</td>\n",
       "      <td>5.5</td>\n",
       "      <td>A</td>\n",
       "    </tr>\n",
       "    <tr>\n",
       "      <th>1196</th>\n",
       "      <td>3936777065</td>\n",
       "      <td>2108080724</td>\n",
       "      <td>2019-08-15</td>\n",
       "      <td>3120.1</td>\n",
       "      <td>B</td>\n",
       "    </tr>\n",
       "  </tbody>\n",
       "</table>\n",
       "<p>1197 rows × 5 columns</p>\n",
       "</div>"
      ],
      "text/plain": [
       "      transactionId   visitorId       date  revenue group\n",
       "0        3667963787  3312258926 2019-08-15     30.4     B\n",
       "1        2804400009  3642806036 2019-08-15     15.2     B\n",
       "2        2961555356  4069496402 2019-08-15     10.2     A\n",
       "3        3797467345  1196621759 2019-08-15    155.1     B\n",
       "4        2282983706  2322279887 2019-08-15     40.5     B\n",
       "...             ...         ...        ...      ...   ...\n",
       "1192     2662137336  3733762160 2019-08-14    100.8     B\n",
       "1193     2203539145   370388673 2019-08-14     50.1     A\n",
       "1194     1807773912   573423106 2019-08-14    165.3     A\n",
       "1195     1947021204  1614305549 2019-08-14      5.5     A\n",
       "1196     3936777065  2108080724 2019-08-15   3120.1     B\n",
       "\n",
       "[1197 rows x 5 columns]"
      ]
     },
     "execution_count": 52,
     "metadata": {},
     "output_type": "execute_result"
    }
   ],
   "source": [
    "order"
   ]
  },
  {
   "cell_type": "code",
   "execution_count": 40,
   "metadata": {},
   "outputs": [
    {
     "data": {
      "text/html": [
       "<div>\n",
       "<style scoped>\n",
       "    .dataframe tbody tr th:only-of-type {\n",
       "        vertical-align: middle;\n",
       "    }\n",
       "\n",
       "    .dataframe tbody tr th {\n",
       "        vertical-align: top;\n",
       "    }\n",
       "\n",
       "    .dataframe thead th {\n",
       "        text-align: right;\n",
       "    }\n",
       "</style>\n",
       "<table border=\"1\" class=\"dataframe\">\n",
       "  <thead>\n",
       "    <tr style=\"text-align: right;\">\n",
       "      <th></th>\n",
       "      <th>userId</th>\n",
       "      <th>ordenes</th>\n",
       "    </tr>\n",
       "  </thead>\n",
       "  <tbody>\n",
       "    <tr>\n",
       "      <th>1023</th>\n",
       "      <td>4256040402</td>\n",
       "      <td>11</td>\n",
       "    </tr>\n",
       "    <tr>\n",
       "      <th>591</th>\n",
       "      <td>2458001652</td>\n",
       "      <td>11</td>\n",
       "    </tr>\n",
       "    <tr>\n",
       "      <th>569</th>\n",
       "      <td>2378935119</td>\n",
       "      <td>9</td>\n",
       "    </tr>\n",
       "    <tr>\n",
       "      <th>487</th>\n",
       "      <td>2038680547</td>\n",
       "      <td>8</td>\n",
       "    </tr>\n",
       "    <tr>\n",
       "      <th>44</th>\n",
       "      <td>199603092</td>\n",
       "      <td>5</td>\n",
       "    </tr>\n",
       "    <tr>\n",
       "      <th>...</th>\n",
       "      <td>...</td>\n",
       "      <td>...</td>\n",
       "    </tr>\n",
       "    <tr>\n",
       "      <th>359</th>\n",
       "      <td>1484903144</td>\n",
       "      <td>1</td>\n",
       "    </tr>\n",
       "    <tr>\n",
       "      <th>360</th>\n",
       "      <td>1485964287</td>\n",
       "      <td>1</td>\n",
       "    </tr>\n",
       "    <tr>\n",
       "      <th>361</th>\n",
       "      <td>1494664757</td>\n",
       "      <td>1</td>\n",
       "    </tr>\n",
       "    <tr>\n",
       "      <th>362</th>\n",
       "      <td>1495112755</td>\n",
       "      <td>1</td>\n",
       "    </tr>\n",
       "    <tr>\n",
       "      <th>1030</th>\n",
       "      <td>4283872382</td>\n",
       "      <td>1</td>\n",
       "    </tr>\n",
       "  </tbody>\n",
       "</table>\n",
       "<p>1031 rows × 2 columns</p>\n",
       "</div>"
      ],
      "text/plain": [
       "          userId  ordenes\n",
       "1023  4256040402       11\n",
       "591   2458001652       11\n",
       "569   2378935119        9\n",
       "487   2038680547        8\n",
       "44     199603092        5\n",
       "...          ...      ...\n",
       "359   1484903144        1\n",
       "360   1485964287        1\n",
       "361   1494664757        1\n",
       "362   1495112755        1\n",
       "1030  4283872382        1\n",
       "\n",
       "[1031 rows x 2 columns]"
      ]
     },
     "execution_count": 40,
     "metadata": {},
     "output_type": "execute_result"
    }
   ],
   "source": [
    "ordenes_por_usuarios = order.drop(['group', 'revenue', 'date'], axis=1).groupby('visitorId', as_index=False).agg({\n",
    "    'transactionId': 'nunique'\n",
    "})\n",
    "ordenes_por_usuarios.columns = ['userId', 'ordenes'] \n",
    "ordenes_por_usuarios.sort_values(ascending=False, by='ordenes')"
   ]
  },
  {
   "cell_type": "code",
   "execution_count": 41,
   "metadata": {},
   "outputs": [],
   "source": [
    "x_values = pd.Series(range(0, len(ordenes_por_usuarios)))"
   ]
  },
  {
   "cell_type": "code",
   "execution_count": 42,
   "metadata": {},
   "outputs": [
    {
     "data": {
      "text/plain": [
       "<matplotlib.collections.PathCollection at 0x7fd6b25c9190>"
      ]
     },
     "execution_count": 42,
     "metadata": {},
     "output_type": "execute_result"
    },
    {
     "data": {
      "image/png": "[encoded data removed]",
      "text/plain": [
       "<Figure size 640x480 with 1 Axes>"
      ]
     },
     "metadata": {},
     "output_type": "display_data"
    }
   ],
   "source": [
    "plt.scatter(x_values, ordenes_por_usuarios['ordenes'])"
   ]
  },
  {
   "cell_type": "markdown",
   "metadata": {},
   "source": [
    "En este grafico de dispersion mostramos que existen  alrededor de 1000 usuarios de los cuales pocos llegan a tener por arriba de 6 ordenes por ususario, de lo cual la gran mayoria de ususarios suelen estar entre 1 y 2 ordenes por usuario"
   ]
  },
  {
   "cell_type": "code",
   "execution_count": 43,
   "metadata": {},
   "outputs": [
    {
     "data": {
      "text/plain": [
       "array([1., 2., 4.])"
      ]
     },
     "execution_count": 43,
     "metadata": {},
     "output_type": "execute_result"
    }
   ],
   "source": [
    "np.percentile(ordenes_por_usuarios['ordenes'], [90,95,99])"
   ]
  },
  {
   "cell_type": "markdown",
   "metadata": {},
   "source": [
    "El percentil 90 es 1, lo que significa que el 90% de los usuarios tiene menos de 1 orden\n",
    "\n",
    "El percentil 95 es 2, lo que significa que el 90% de los usuarios tiene menos de 2 ordenes\n",
    "\n",
    "El percentil 99 es 4, lo que significa que el 90% de los usuarios tiene menos de 4 ordenes"
   ]
  },
  {
   "cell_type": "code",
   "execution_count": 44,
   "metadata": {},
   "outputs": [
    {
     "data": {
      "text/html": [
       "<div>\n",
       "<style scoped>\n",
       "    .dataframe tbody tr th:only-of-type {\n",
       "        vertical-align: middle;\n",
       "    }\n",
       "\n",
       "    .dataframe tbody tr th {\n",
       "        vertical-align: top;\n",
       "    }\n",
       "\n",
       "    .dataframe thead th {\n",
       "        text-align: right;\n",
       "    }\n",
       "</style>\n",
       "<table border=\"1\" class=\"dataframe\">\n",
       "  <thead>\n",
       "    <tr style=\"text-align: right;\">\n",
       "      <th></th>\n",
       "      <th>revenue</th>\n",
       "      <th>transactionId</th>\n",
       "    </tr>\n",
       "  </thead>\n",
       "  <tbody>\n",
       "    <tr>\n",
       "      <th>402</th>\n",
       "      <td>19920.4</td>\n",
       "      <td>1</td>\n",
       "    </tr>\n",
       "    <tr>\n",
       "      <th>401</th>\n",
       "      <td>3120.1</td>\n",
       "      <td>1</td>\n",
       "    </tr>\n",
       "    <tr>\n",
       "      <th>400</th>\n",
       "      <td>1450.2</td>\n",
       "      <td>1</td>\n",
       "    </tr>\n",
       "    <tr>\n",
       "      <th>399</th>\n",
       "      <td>1425.8</td>\n",
       "      <td>1</td>\n",
       "    </tr>\n",
       "    <tr>\n",
       "      <th>398</th>\n",
       "      <td>1335.6</td>\n",
       "      <td>1</td>\n",
       "    </tr>\n",
       "    <tr>\n",
       "      <th>...</th>\n",
       "      <td>...</td>\n",
       "      <td>...</td>\n",
       "    </tr>\n",
       "    <tr>\n",
       "      <th>4</th>\n",
       "      <td>5.4</td>\n",
       "      <td>2</td>\n",
       "    </tr>\n",
       "    <tr>\n",
       "      <th>3</th>\n",
       "      <td>5.3</td>\n",
       "      <td>2</td>\n",
       "    </tr>\n",
       "    <tr>\n",
       "      <th>2</th>\n",
       "      <td>5.2</td>\n",
       "      <td>4</td>\n",
       "    </tr>\n",
       "    <tr>\n",
       "      <th>1</th>\n",
       "      <td>5.1</td>\n",
       "      <td>2</td>\n",
       "    </tr>\n",
       "    <tr>\n",
       "      <th>0</th>\n",
       "      <td>5.0</td>\n",
       "      <td>1</td>\n",
       "    </tr>\n",
       "  </tbody>\n",
       "</table>\n",
       "<p>403 rows × 2 columns</p>\n",
       "</div>"
      ],
      "text/plain": [
       "     revenue  transactionId\n",
       "402  19920.4              1\n",
       "401   3120.1              1\n",
       "400   1450.2              1\n",
       "399   1425.8              1\n",
       "398   1335.6              1\n",
       "..       ...            ...\n",
       "4        5.4              2\n",
       "3        5.3              2\n",
       "2        5.2              4\n",
       "1        5.1              2\n",
       "0        5.0              1\n",
       "\n",
       "[403 rows x 2 columns]"
      ]
     },
     "execution_count": 44,
     "metadata": {},
     "output_type": "execute_result"
    }
   ],
   "source": [
    "precio_por_pedidos = order.drop(['group', 'visitorId', 'date'], axis=1).groupby('revenue', as_index=False).agg({\n",
    "    'transactionId': 'nunique'\n",
    "})\n",
    "precio_por_pedidos.sort_values(ascending=False, by='revenue')"
   ]
  },
  {
   "cell_type": "code",
   "execution_count": 45,
   "metadata": {},
   "outputs": [],
   "source": [
    "x_values = pd.Series(range(0, len(precio_por_pedidos)))"
   ]
  },
  {
   "cell_type": "code",
   "execution_count": 46,
   "metadata": {},
   "outputs": [
    {
     "data": {
      "text/plain": [
       "<matplotlib.collections.PathCollection at 0x7fd6b25a2fa0>"
      ]
     },
     "execution_count": 46,
     "metadata": {},
     "output_type": "execute_result"
    },
    {
     "data": {
      "image/png": "[encoded data removed]",
      "text/plain": [
       "<Figure size 640x480 with 1 Axes>"
      ]
     },
     "metadata": {},
     "output_type": "display_data"
    }
   ],
   "source": [
    "plt.scatter(x_values, precio_por_pedidos['revenue'])"
   ]
  },
  {
   "cell_type": "code",
   "execution_count": 47,
   "metadata": {},
   "outputs": [
    {
     "data": {
      "text/plain": [
       "array([ 484.4  ,  673.73 , 1333.292])"
      ]
     },
     "execution_count": 47,
     "metadata": {},
     "output_type": "execute_result"
    }
   ],
   "source": [
    "np.percentile(precio_por_pedidos['revenue'], [90,95,99])"
   ]
  },
  {
   "cell_type": "markdown",
   "metadata": {},
   "source": [
    "El 90% de los pedidos tiene un precio menor o igual a 484.4\n",
    "\n",
    "EL 95% de los pedidos tiene un precio menor o igual a  673.73\n",
    "\n",
    "EL 99% de los pedidos tiene un precio menor o igual a 1333.292"
   ]
  },
  {
   "cell_type": "code",
   "execution_count": 48,
   "metadata": {
    "scrolled": true
   },
   "outputs": [
    {
     "name": "stdout",
     "output_type": "stream",
     "text": [
      "Levene's test statistic: 0.0035001404977649\n",
      "P-value: 0.9530196964879643\n",
      "No se pudo rechazar la hipótesis nula: no hay razón para pensar que las proporciones son diferentes\n"
     ]
    }
   ],
   "source": [
    "from scipy.stats import levene\n",
    "stat, p_value = levene(conversion_A_b['conversionA'], conversion_A_b['conversionB'])\n",
    "print(f\"Levene's test statistic: {stat}\")\n",
    "print(f\"P-value: {p_value}\")\n",
    "alpha = 0.5\n",
    "if (p_value < alpha):\n",
    "    print(\"Rechazar la hipótesis nula: hay una diferencia significativa entre las proporciones\")\n",
    "else:\n",
    "    print(\"No se pudo rechazar la hipótesis nula: no hay razón para pensar que las proporciones son diferentes\")"
   ]
  },
  {
   "cell_type": "code",
   "execution_count": 49,
   "metadata": {},
   "outputs": [
    {
     "name": "stdout",
     "output_type": "stream",
     "text": [
      "La media de conversion es: -1.7769345331895534\n",
      "El valor de alpha para la conversion_A_b es: 0.08066583149981561\n"
     ]
    }
   ],
   "source": [
    "t_stat, p_val = ss.ttest_ind (conversion_A_b['conversionA'], conversion_A_b['conversionB'], equal_var=False)\n",
    "print(f'La media de conversion es: {t_stat}') \n",
    "print (f'El valor de alpha para la conversion_A_b es: {p_val}')"
   ]
  },
  {
   "cell_type": "markdown",
   "metadata": {},
   "source": [
    "El valor negativo del estadístico t indica que la media de conversionA es más baja que la media de conversionB. El valor-p es de 0.0807 siendo mayor a alpha (0.05). Esto significa que no hay suficiente evidencia estadística para rechazar la hipótesis nula. Por tanto no podemos concluir que hay una diferencia significativa entre conversionA y conversionB"
   ]
  },
  {
   "cell_type": "code",
   "execution_count": 50,
   "metadata": {},
   "outputs": [
    {
     "name": "stdout",
     "output_type": "stream",
     "text": [
      "El promedio de los pedidos para el grupo A es de: 16.419354838709676\n",
      "El promedio de los pedidos para el grupo B es de: 19.161290322580644\n"
     ]
    }
   ],
   "source": [
    "grupo = [\"A\", \"B\"]\n",
    "\n",
    "for grupos in grupo:\n",
    "    promedio = fct_experiment[fct_experiment[\"group\"] == grupos][\"ordenes\"].mean()\n",
    "    print(f\"El promedio de los pedidos para el grupo {grupos} es de: {promedio}\")"
   ]
  },
  {
   "cell_type": "code",
   "execution_count": 246,
   "metadata": {},
   "outputs": [
    {
     "name": "stdout",
     "output_type": "stream",
     "text": [
      "         date  tamano_promedio_A  tamano_promedio_B\n",
      "0  2019-08-01          98.547826          66.252632\n",
      "1  2019-08-02          75.175000         109.325000\n",
      "2  2019-08-03          75.633333         112.925000\n",
      "3  2019-08-04          82.550000         110.786667\n",
      "4  2019-08-05          82.420833          69.014286\n",
      "5  2019-08-06          44.935294         137.800000\n",
      "6  2019-08-07         116.029412         149.373913\n",
      "7  2019-08-08          98.000000         105.026087\n",
      "8  2019-08-09         203.953846          85.552381\n",
      "9  2019-08-10         159.166667          76.127273\n",
      "10 2019-08-11          91.608333          66.246154\n",
      "11 2019-08-12         172.833333          80.442857\n",
      "12 2019-08-13         292.635714          90.952381\n",
      "13 2019-08-14          45.390476         119.495000\n",
      "14 2019-08-15         104.384615         179.686207\n",
      "15 2019-08-16          88.838889          95.905263\n",
      "16 2019-08-17         102.642857          91.535714\n",
      "17 2019-08-18          71.325000          81.214286\n",
      "18 2019-08-19         135.868182        1050.709524\n",
      "19 2019-08-20          93.600000         116.230000\n",
      "20 2019-08-21         128.528571         191.592308\n",
      "21 2019-08-22         134.283333         102.432000\n",
      "22 2019-08-23          63.113043          90.657143\n",
      "23 2019-08-24         139.442857          96.093333\n",
      "24 2019-08-25         119.300000         104.608333\n",
      "25 2019-08-26         154.050000         116.016000\n",
      "26 2019-08-27         120.824000         153.600000\n",
      "27 2019-08-28          94.270588          46.264000\n",
      "28 2019-08-29         195.236842         108.225000\n",
      "29 2019-08-30         136.544444         151.027273\n",
      "30 2019-08-31          90.500000         112.677778\n"
     ]
    }
   ],
   "source": [
    "ventas_totales_A_B[\"tamano_promedio_A\"] = ventas_totales_A_B[\"ventas_totalesA\"] / ventas_totales_A_B[\"ordenesA\"]\n",
    "ventas_totales_A_B[\"tamano_promedio_B\"] = ventas_totales_A_B[\"ventas_totalesB\"] / ventas_totales_A_B[\"ordenesB\"]\n",
    "\n",
    "print(ventas_totales_A_B[[\"date\", \"tamano_promedio_A\", \"tamano_promedio_B\"]])"
   ]
  },
  {
   "cell_type": "code",
   "execution_count": 250,
   "metadata": {},
   "outputs": [
    {
     "name": "stdout",
     "output_type": "stream",
     "text": [
      "Levene's test statistic: 0.0\n",
      "P-value: 1.0\n",
      "No se pudo rechazar la hipótesis nula: no hay razón para pensar que las proporciones son diferentes\n"
     ]
    }
   ],
   "source": [
    "from scipy.stats import levene\n",
    "stat, p_value = levene(ventas_totales_A_B['tamano_promedio_A'], ventas_totales_A_B['tamano_promedio_A'])\n",
    "print(f\"Levene's test statistic: {stat}\")\n",
    "print(f\"P-value: {p_value}\")\n",
    "alpha = 0.5\n",
    "if (p_value < alpha):\n",
    "    print(\"Rechazar la hipótesis nula: hay una diferencia significativa entre las proporciones\")\n",
    "else:\n",
    "    print(\"No se pudo rechazar la hipótesis nula: no hay razón para pensar que las proporciones son diferentes\")"
   ]
  },
  {
   "cell_type": "code",
   "execution_count": 249,
   "metadata": {},
   "outputs": [
    {
     "name": "stdout",
     "output_type": "stream",
     "text": [
      "Estadístico t: -0.6549532003397549\n",
      "Valor p: 0.5150010519953879\n"
     ]
    }
   ],
   "source": [
    "from scipy.stats import ttest_ind\n",
    "\n",
    "# Prueba t-test para comparar las medias de los dos grupos\n",
    "t_stat, p_value = ttest_ind(ventas_totales_A_B[\"tamano_promedio_A\"], ventas_totales_A_B[\"tamano_promedio_B\"])\n",
    "\n",
    "# Mostrar resultados\n",
    "print(\"Estadístico t:\", t_stat)\n",
    "print(\"Valor p:\", p_value)"
   ]
  },
  {
   "cell_type": "code",
   "execution_count": 223,
   "metadata": {},
   "outputs": [
    {
     "data": {
      "text/plain": [
       "0     23\n",
       "2     20\n",
       "4     24\n",
       "6     12\n",
       "8     24\n",
       "10    17\n",
       "12    17\n",
       "14    15\n",
       "16    13\n",
       "18    15\n",
       "20    12\n",
       "22    21\n",
       "24    14\n",
       "26    21\n",
       "28    13\n",
       "30    18\n",
       "32     7\n",
       "34    16\n",
       "36    22\n",
       "38    10\n",
       "40    21\n",
       "42    12\n",
       "44    23\n",
       "46    14\n",
       "48     9\n",
       "50    16\n",
       "52    25\n",
       "54    17\n",
       "56    19\n",
       "58     9\n",
       "60    10\n",
       "Name: ordenes, dtype: int64"
      ]
     },
     "execution_count": 223,
     "metadata": {},
     "output_type": "execute_result"
    }
   ],
   "source": [
    "alpha=0.05\n",
    "sample_1 = fct_experiment.query(\"group == 'A'\")[\"ordenes\"]\n",
    "sample_1"
   ]
  },
  {
   "cell_type": "code",
   "execution_count": 228,
   "metadata": {},
   "outputs": [
    {
     "data": {
      "text/plain": [
       "1     19\n",
       "3     24\n",
       "5     16\n",
       "7     15\n",
       "9     21\n",
       "11    25\n",
       "13    23\n",
       "15    23\n",
       "17    21\n",
       "19    22\n",
       "21    13\n",
       "23    21\n",
       "25    21\n",
       "27    20\n",
       "29    29\n",
       "31    19\n",
       "33    14\n",
       "35     7\n",
       "37    21\n",
       "39    20\n",
       "41    13\n",
       "43    25\n",
       "45    14\n",
       "47    15\n",
       "49    12\n",
       "51    25\n",
       "53    15\n",
       "55    25\n",
       "57    16\n",
       "59    22\n",
       "61    18\n",
       "Name: ordenes, dtype: int64"
      ]
     },
     "execution_count": 228,
     "metadata": {},
     "output_type": "execute_result"
    }
   ],
   "source": [
    "alpha=0.05\n",
    "sample_2 = fct_experiment.query(\"group == 'B'\")[\"ordenes\"]\n",
    "sample_2"
   ]
  },
  {
   "cell_type": "code",
   "execution_count": 229,
   "metadata": {},
   "outputs": [
    {
     "name": "stdout",
     "output_type": "stream",
     "text": [
      "p-value: 0.03449858839747806\n",
      "p-value: 0.6897878109197454\n"
     ]
    }
   ],
   "source": [
    "from scipy import stats as st\n",
    "\n",
    "resultados=st.ttest_ind(sample_1, sample_2, equal_var=False)\n",
    "resultados_levene=st.levene(sample_1, sample_2)\n",
    "print(f\"p-value: {resultados.pvalue}\")\n",
    "print(f\"p-value: {resultados_levene.pvalue}\")"
   ]
  },
  {
   "cell_type": "code",
   "execution_count": 230,
   "metadata": {},
   "outputs": [
    {
     "name": "stdout",
     "output_type": "stream",
     "text": [
      "podemos rechazar la hipotesis nula 1\n"
     ]
    }
   ],
   "source": [
    "if resultados.pvalue < alpha:\n",
    "    print(\"podemos rechazar la hipotesis nula 1\")\n",
    "else:\n",
    "    print(\"No podemos rechazar la hipotesis nula\")"
   ]
  },
  {
   "cell_type": "code",
   "execution_count": 231,
   "metadata": {},
   "outputs": [
    {
     "name": "stdout",
     "output_type": "stream",
     "text": [
      "No podemos rechazar la hipotesis nula\n"
     ]
    }
   ],
   "source": [
    "if resultados_levene.pvalue < alpha:\n",
    "    print(\"podemos rechazar la hipotesis nula 2\")\n",
    "else:\n",
    "    print(\"No podemos rechazar la hipotesis nula\")"
   ]
  },
  {
   "cell_type": "code",
   "execution_count": 66,
   "metadata": {},
   "outputs": [
    {
     "data": {
      "text/html": [
       "<div>\n",
       "<style scoped>\n",
       "    .dataframe tbody tr th:only-of-type {\n",
       "        vertical-align: middle;\n",
       "    }\n",
       "\n",
       "    .dataframe tbody tr th {\n",
       "        vertical-align: top;\n",
       "    }\n",
       "\n",
       "    .dataframe thead th {\n",
       "        text-align: right;\n",
       "    }\n",
       "</style>\n",
       "<table border=\"1\" class=\"dataframe\">\n",
       "  <thead>\n",
       "    <tr style=\"text-align: right;\">\n",
       "      <th></th>\n",
       "      <th>transactionId</th>\n",
       "      <th>visitorId</th>\n",
       "      <th>date</th>\n",
       "      <th>revenue</th>\n",
       "      <th>group</th>\n",
       "    </tr>\n",
       "  </thead>\n",
       "  <tbody>\n",
       "    <tr>\n",
       "      <th>0</th>\n",
       "      <td>3667963787</td>\n",
       "      <td>3312258926</td>\n",
       "      <td>2019-08-15</td>\n",
       "      <td>30.4</td>\n",
       "      <td>B</td>\n",
       "    </tr>\n",
       "    <tr>\n",
       "      <th>1</th>\n",
       "      <td>2804400009</td>\n",
       "      <td>3642806036</td>\n",
       "      <td>2019-08-15</td>\n",
       "      <td>15.2</td>\n",
       "      <td>B</td>\n",
       "    </tr>\n",
       "    <tr>\n",
       "      <th>2</th>\n",
       "      <td>2961555356</td>\n",
       "      <td>4069496402</td>\n",
       "      <td>2019-08-15</td>\n",
       "      <td>10.2</td>\n",
       "      <td>A</td>\n",
       "    </tr>\n",
       "    <tr>\n",
       "      <th>3</th>\n",
       "      <td>3797467345</td>\n",
       "      <td>1196621759</td>\n",
       "      <td>2019-08-15</td>\n",
       "      <td>155.1</td>\n",
       "      <td>B</td>\n",
       "    </tr>\n",
       "    <tr>\n",
       "      <th>4</th>\n",
       "      <td>2282983706</td>\n",
       "      <td>2322279887</td>\n",
       "      <td>2019-08-15</td>\n",
       "      <td>40.5</td>\n",
       "      <td>B</td>\n",
       "    </tr>\n",
       "    <tr>\n",
       "      <th>...</th>\n",
       "      <td>...</td>\n",
       "      <td>...</td>\n",
       "      <td>...</td>\n",
       "      <td>...</td>\n",
       "      <td>...</td>\n",
       "    </tr>\n",
       "    <tr>\n",
       "      <th>1192</th>\n",
       "      <td>2662137336</td>\n",
       "      <td>3733762160</td>\n",
       "      <td>2019-08-14</td>\n",
       "      <td>100.8</td>\n",
       "      <td>B</td>\n",
       "    </tr>\n",
       "    <tr>\n",
       "      <th>1193</th>\n",
       "      <td>2203539145</td>\n",
       "      <td>370388673</td>\n",
       "      <td>2019-08-14</td>\n",
       "      <td>50.1</td>\n",
       "      <td>A</td>\n",
       "    </tr>\n",
       "    <tr>\n",
       "      <th>1194</th>\n",
       "      <td>1807773912</td>\n",
       "      <td>573423106</td>\n",
       "      <td>2019-08-14</td>\n",
       "      <td>165.3</td>\n",
       "      <td>A</td>\n",
       "    </tr>\n",
       "    <tr>\n",
       "      <th>1195</th>\n",
       "      <td>1947021204</td>\n",
       "      <td>1614305549</td>\n",
       "      <td>2019-08-14</td>\n",
       "      <td>5.5</td>\n",
       "      <td>A</td>\n",
       "    </tr>\n",
       "    <tr>\n",
       "      <th>1196</th>\n",
       "      <td>3936777065</td>\n",
       "      <td>2108080724</td>\n",
       "      <td>2019-08-15</td>\n",
       "      <td>3120.1</td>\n",
       "      <td>B</td>\n",
       "    </tr>\n",
       "  </tbody>\n",
       "</table>\n",
       "<p>1197 rows × 5 columns</p>\n",
       "</div>"
      ],
      "text/plain": [
       "      transactionId   visitorId       date  revenue group\n",
       "0        3667963787  3312258926 2019-08-15     30.4     B\n",
       "1        2804400009  3642806036 2019-08-15     15.2     B\n",
       "2        2961555356  4069496402 2019-08-15     10.2     A\n",
       "3        3797467345  1196621759 2019-08-15    155.1     B\n",
       "4        2282983706  2322279887 2019-08-15     40.5     B\n",
       "...             ...         ...        ...      ...   ...\n",
       "1192     2662137336  3733762160 2019-08-14    100.8     B\n",
       "1193     2203539145   370388673 2019-08-14     50.1     A\n",
       "1194     1807773912   573423106 2019-08-14    165.3     A\n",
       "1195     1947021204  1614305549 2019-08-14      5.5     A\n",
       "1196     3936777065  2108080724 2019-08-15   3120.1     B\n",
       "\n",
       "[1197 rows x 5 columns]"
      ]
     },
     "execution_count": 66,
     "metadata": {},
     "output_type": "execute_result"
    }
   ],
   "source": [
    "order"
   ]
  },
  {
   "cell_type": "code",
   "execution_count": 65,
   "metadata": {},
   "outputs": [
    {
     "data": {
      "image/png": "[encoded data removed]",
      "text/plain": [
       "<Figure size 640x480 with 1 Axes>"
      ]
     },
     "metadata": {},
     "output_type": "display_data"
    },
    {
     "data": {
      "image/png": "[encoded data removed]",
      "text/plain": [
       "<Figure size 640x480 with 1 Axes>"
      ]
     },
     "metadata": {},
     "output_type": "display_data"
    }
   ],
   "source": [
    "sns.histplot(order['revenue'], bins=50, kde=True)\n",
    "plt.title(\"Distribución de Revenue\")\n",
    "plt.xlabel(\"Revenue\")\n",
    "plt.ylabel(\"Frecuencia\")\n",
    "plt.show()\n",
    "\n",
    "# Boxplot\n",
    "sns.boxplot(x=order['revenue'])\n",
    "plt.title(\"Boxplot de Revenue\")\n",
    "plt.show()"
   ]
  },
  {
   "cell_type": "markdown",
   "metadata": {},
   "source": [
    "como se puede observar en las graficas y principalmente en la de boxplot, tenemos datos atipicos superioresa los cuales debemos eliminar para observar si estos provocaran una modificacion en la prueba de hipotesis"
   ]
  },
  {
   "cell_type": "code",
   "execution_count": 69,
   "metadata": {},
   "outputs": [
    {
     "name": "stdout",
     "output_type": "stream",
     "text": [
      "Percentil inferior (1%): 5.5\n",
      "Percentil superior (99%): 900.9039999999999\n"
     ]
    }
   ],
   "source": [
    "# Calcular el percentil inferior (1%) y superior (99%)\n",
    "lower_percentile = np.percentile(order['revenue'], 1)\n",
    "upper_percentile = np.percentile(order['revenue'], 99)\n",
    "\n",
    "print(f\"Percentil inferior (1%): {lower_percentile}\")\n",
    "print(f\"Percentil superior (99%): {upper_percentile}\")"
   ]
  },
  {
   "cell_type": "markdown",
   "metadata": {},
   "source": [
    "Se utilizan los percentiles (por ejemplo, el 1% inferior y el 1% superior) para detectar valores atípicos en la columna revenue (donde se encuntran los precios)\n",
    "\n",
    "Percentil inferior (1%) es : 5.5\n",
    "Esto significa que el 1% de los valores más bajos son menores o iguales a 5.5. siendo este el extremo inferior\n",
    "\n",
    "Percentil superior (99%): 900.90\n",
    "Esto significa que el 1% de los valores más altos de revenue superan los 900.90. Los pedidos que generan ingresos mayores a este valor son considerados valores atípicos hacia el extremo superior."
   ]
  },
  {
   "cell_type": "code",
   "execution_count": 71,
   "metadata": {},
   "outputs": [
    {
     "name": "stdout",
     "output_type": "stream",
     "text": [
      "Número de filas antes: 1197\n",
      "Número de filas después: 1174\n"
     ]
    }
   ],
   "source": [
    "filtered_data = order[(order['revenue'] >= lower_percentile) & (order['revenue'] <= upper_percentile)]\n",
    "\n",
    "# Ver el número de filas antes y después\n",
    "print(f\"Número de filas antes: {len(order)}\")\n",
    "print(f\"Número de filas después: {len(filtered_data)}\")"
   ]
  },
  {
   "cell_type": "code",
   "execution_count": 74,
   "metadata": {},
   "outputs": [
    {
     "data": {
      "image/png": "[encoded data removed]",
      "text/plain": [
       "<Figure size 640x480 with 1 Axes>"
      ]
     },
     "metadata": {},
     "output_type": "display_data"
    }
   ],
   "source": [
    "sns.histplot(filtered_data['revenue'], bins=50, kde=True)\n",
    "plt.title(\"Distribución de Revenue (Sin Outliers)\")\n",
    "plt.xlabel(\"Revenue\")\n",
    "plt.ylabel(\"Frecuencia\")\n",
    "plt.show()"
   ]
  },
  {
   "cell_type": "code",
   "execution_count": 77,
   "metadata": {},
   "outputs": [
    {
     "name": "stdout",
     "output_type": "stream",
     "text": [
      "Valor p para normalidad (Grupo A): 3.993343799432663e-31\n",
      "Valor p para normalidad (Grupo B): 1.1218577190886174e-32\n",
      "Al menos un grupo no sigue una distribución normal. Usaremos Mann-Whitney U.\n",
      "Estadístico: 169230.0\n",
      "Valor p: 0.7187329981164927\n"
     ]
    }
   ],
   "source": [
    "group_A = filtered_data[filtered_data['group'] == 'A']['revenue']\n",
    "group_B = filtered_data[filtered_data['group'] == 'B']['revenue']\n",
    "\n",
    "# Prueba de normalidad (Shapiro-Wilk)\n",
    "_, p_value_A = shapiro(group_A)\n",
    "_, p_value_B = shapiro(group_B)\n",
    "\n",
    "print(f\"Valor p para normalidad (Grupo A): {p_value_A}\")\n",
    "print(f\"Valor p para normalidad (Grupo B): {p_value_B}\")\n",
    "\n",
    "if p_value_A > 0.05 and p_value_B > 0.05:\n",
    "    print(\"Ambos grupos siguen una distribución normal. Usaremos la prueba t.\")\n",
    "    # Prueba t de Student\n",
    "    t_stat, p_value = ttest_ind(group_A, group_B, equal_var=False)\n",
    "else:\n",
    "    print(\"Al menos un grupo no sigue una distribución normal. Usaremos Mann-Whitney U.\")\n",
    "    # Prueba Mann-Whitney U\n",
    "    t_stat, p_value = mannwhitneyu(group_A, group_B)\n",
    "\n",
    "print(f\"Estadístico: {t_stat}\")\n",
    "print(f\"Valor p: {p_value}\")"
   ]
  },
  {
   "cell_type": "markdown",
   "metadata": {},
   "source": [
    "Prueba de Shapiro-Wilk:\n",
    "\n",
    "Se utiliza para verificar si los datos siguen una distribución normal. Para  este caso el Grupo A tiene un valor p de 3.993e-31 (muy pequeño), indicando que los datos no son normales.\n",
    "Grupo B tiene un valor p de 1.121e-32 (también muy pequeño), lo que confirma que tampoco sigue una distribución normal.\n",
    "Debido a que ambos grupos no tienen una distribución normal, no es apropiado usar pruebas paramétricas como la t-test, que asume normalidad. En su lugar, usamos una prueba no paramétrica.\n",
    "\n",
    "Valor estadístico de Mann-Whitney U:\n",
    "\n",
    "El valor del estadístico es 169230.0. Este número no se interpreta directamente; sirve como base para calcular el valor p.\n",
    "Valor p: 0.7187. Dado que el valor p es mayor que 0.05, no se puede rechazar la hipótesis nula. Por tanto no hay evidencia suficiente para concluir que existe una diferencia significativa en los ingresos (revenue) entre los grupos A y B."
   ]
  },
  {
   "cell_type": "code",
   "execution_count": 78,
   "metadata": {},
   "outputs": [
    {
     "name": "stdout",
     "output_type": "stream",
     "text": [
      "Estadístico t: -0.15195430380626543\n",
      "Valor p: 0.8792497697317376\n"
     ]
    }
   ],
   "source": [
    "from scipy.stats import ttest_ind\n",
    "\n",
    "# Separar los datos por grupo\n",
    "group_A = filtered_data[filtered_data['group'] == 'A']['revenue']\n",
    "group_B = filtered_data[filtered_data['group'] == 'B']['revenue']\n",
    "\n",
    "# Realizar la prueba t\n",
    "t_stat, p_value = ttest_ind(group_A, group_B, equal_var=False)\n",
    "\n",
    "print(f\"Estadístico t: {t_stat}\")\n",
    "print(f\"Valor p: {p_value}\")"
   ]
  },
  {
   "cell_type": "markdown",
   "metadata": {},
   "source": [
    "Apesar de que no es buena opcion realizar la prueba t, se ha comprobado para saber el comportamiento de los datos sobre esta prueba en la cual. No se rechaza la hipótesis nula: No hay evidencia estadística para concluir que existe una diferencia significativa entre los ingresos promedio (revenue) de los grupos A y B"
   ]
  },
  {
   "cell_type": "code",
   "execution_count": 80,
   "metadata": {},
   "outputs": [
    {
     "data": {
      "image/png": "[encoded data removed]",
      "text/plain": [
       "<Figure size 640x480 with 1 Axes>"
      ]
     },
     "metadata": {},
     "output_type": "display_data"
    }
   ],
   "source": [
    "# Visualizar distribuciones por grupo\n",
    "sns.boxplot(x='group', y='revenue', data=filtered_data)\n",
    "plt.title(\"Distribución de Revenue por Grupo\")\n",
    "plt.xlabel(\"Grupo\")\n",
    "plt.ylabel(\"Revenue\")\n",
    "plt.show()"
   ]
  },
  {
   "cell_type": "markdown",
   "metadata": {},
   "source": [
    "finalmete realizamos graficas boxplot para mostrar la distribucion de Revenue por grupo donde se puede visualizar que no hay una diferencia significativa entre los precios"
   ]
  },
  {
   "cell_type": "markdown",
   "metadata": {},
   "source": [
    "# conclusion\n",
    "\n",
    "Realizamos una prueba de hipotesis para que el depeartamento de Marketing pueda aumenta los ingresos, para esto se hizo una limpieza de datos, donde encontramos que existen visitantes que se encontraban en el grupo A como en el grupo B.\n",
    "Se realizo el metodo ICE y RICE para saber que prueba de hipotesis podimamos considerar mejor justo para obtener un aumento de ingreso, para esto se tomo a considera utilizar el metodo RICE ya que cuenta con mas robustes en la prueba y podemos tener una mejor eficiencia al tomar una decision, Con esto se asume que lo mejor a trabajar seria en 'Add two new channels for attracting traffic. This will bring 30% more users.'\n",
    "Posterior mente se realiza la conversion entre el grupo A y B para saber cual es mas eficiente, con los datos observados en las grafica se muestra que no existe visualmente una diferencia significativa, sin embargo con esto no podemos concluir por lo cual hemos realizado pruebas de hipotesis.\n",
    "Se realizaron histogramas de los cuales se obtuvo que, no existe una clara distribucion diferente ya que la media para A es de 2.804718 y para B 3.282377 por lo tanto no hay una diferencia significativa,sin embargo no se pude concluir con estos datos hasta obtener datos estadisticos en los cuales el estadístico t indica que la media de conversionA es más baja que la media de conversionB. Por lo cual no hay suficiente evidencia estadística para rechazar la hipótesis nula \n",
    "El tamaño pequeño del efecto y el valor p relativamente alto, es posible que estemos cometiendo un error tipo II, es decir, no hemos detectado una diferencia real debido a la falta de poder estadístico. Apesar de que no existe una diferiecnia significativa en las medias. En el caso de los precio se ha removido los datos atipicos para saber si estos tienen algun efecto positivo o negativo en los resultados y volver a aplicar laspruebas de hipotesis. En las pruebas estadisticas realizadas el valor p es mayor que 0.05, por tanto se puede rechazar la hipótesis nula, es decir no hay evidencia suficiente para concluir que existe una diferencia significativa en los ingresos (revenue) entre los grupos A y B.\n",
    "En base a los resultados de las pruebas de hipótesis para saber que  grupo es mejor y si la diferencia de mejora es significativa concluimos que ambos grupos tienen un rendimiento estadísticamente similar, esto implica que, desde el punto de vista de los datos, no podemos afirmar que uno de los grupos supere al otro de manera significativa.\n",
    "no hay diferencia entre los grupos"
   ]
  }
 ],
 "metadata": {
  "ExecuteTimeLog": [
   {
    "duration": 11,
    "start_time": "2024-11-14T17:50:30.417Z"
   },
   {
    "duration": 2448,
    "start_time": "2024-11-14T17:50:35.571Z"
   },
   {
    "duration": 16,
    "start_time": "2024-11-14T17:50:38.907Z"
   },
   {
    "duration": 14,
    "start_time": "2024-11-14T17:50:43.569Z"
   },
   {
    "duration": 388,
    "start_time": "2024-11-14T17:51:00.570Z"
   },
   {
    "duration": 4,
    "start_time": "2024-11-14T17:51:48.817Z"
   },
   {
    "duration": 54,
    "start_time": "2024-11-14T17:51:53.359Z"
   },
   {
    "duration": 156,
    "start_time": "2024-11-14T19:32:18.787Z"
   },
   {
    "duration": 2673,
    "start_time": "2024-11-14T19:32:25.858Z"
   },
   {
    "duration": 87,
    "start_time": "2024-11-14T19:32:28.533Z"
   },
   {
    "duration": 10,
    "start_time": "2024-11-14T19:32:35.899Z"
   },
   {
    "duration": 17,
    "start_time": "2024-11-14T19:34:19.646Z"
   },
   {
    "duration": 10,
    "start_time": "2024-11-14T19:34:21.516Z"
   },
   {
    "duration": 9,
    "start_time": "2024-11-14T19:34:32.161Z"
   },
   {
    "duration": 11,
    "start_time": "2024-11-14T19:35:30.843Z"
   },
   {
    "duration": 5,
    "start_time": "2024-11-14T19:35:32.413Z"
   },
   {
    "duration": 11,
    "start_time": "2024-11-14T19:37:54.878Z"
   },
   {
    "duration": 2,
    "start_time": "2024-11-14T19:38:21.545Z"
   },
   {
    "duration": 11,
    "start_time": "2024-11-14T19:38:22.674Z"
   },
   {
    "duration": 6,
    "start_time": "2024-11-14T19:38:23.305Z"
   },
   {
    "duration": 391,
    "start_time": "2024-11-14T19:39:15.596Z"
   },
   {
    "duration": 15,
    "start_time": "2024-11-14T19:39:27.490Z"
   },
   {
    "duration": 6,
    "start_time": "2024-11-14T19:39:44.706Z"
   },
   {
    "duration": 8,
    "start_time": "2024-11-14T19:40:03.650Z"
   },
   {
    "duration": 3,
    "start_time": "2024-11-14T19:44:51.765Z"
   },
   {
    "duration": 9,
    "start_time": "2024-11-14T19:45:05.320Z"
   },
   {
    "duration": 13,
    "start_time": "2024-11-14T19:45:22.542Z"
   },
   {
    "duration": 12,
    "start_time": "2024-11-14T19:45:34.573Z"
   },
   {
    "duration": 3,
    "start_time": "2024-11-14T19:45:36.448Z"
   },
   {
    "duration": 10,
    "start_time": "2024-11-14T19:45:38.326Z"
   },
   {
    "duration": 14,
    "start_time": "2024-11-14T19:45:48.238Z"
   },
   {
    "duration": 12,
    "start_time": "2024-11-14T19:46:06.132Z"
   },
   {
    "duration": 3,
    "start_time": "2024-11-14T19:48:05.482Z"
   },
   {
    "duration": 10,
    "start_time": "2024-11-14T19:48:07.450Z"
   },
   {
    "duration": 12,
    "start_time": "2024-11-14T19:48:12.758Z"
   },
   {
    "duration": 11,
    "start_time": "2024-11-14T19:48:15.015Z"
   },
   {
    "duration": 6,
    "start_time": "2024-11-14T19:48:52.117Z"
   },
   {
    "duration": 5,
    "start_time": "2024-11-14T19:51:24.394Z"
   },
   {
    "duration": 10,
    "start_time": "2024-11-14T19:51:30.349Z"
   },
   {
    "duration": 63,
    "start_time": "2024-11-14T19:52:00.520Z"
   },
   {
    "duration": 13,
    "start_time": "2024-11-14T19:52:10.728Z"
   },
   {
    "duration": 2,
    "start_time": "2024-11-14T19:53:09.565Z"
   },
   {
    "duration": 13,
    "start_time": "2024-11-14T19:53:11.038Z"
   },
   {
    "duration": 9,
    "start_time": "2024-11-14T19:53:12.575Z"
   },
   {
    "duration": 6,
    "start_time": "2024-11-14T19:53:22.937Z"
   },
   {
    "duration": 8,
    "start_time": "2024-11-14T19:53:33.185Z"
   },
   {
    "duration": 10,
    "start_time": "2024-11-14T19:53:44.489Z"
   },
   {
    "duration": 8,
    "start_time": "2024-11-14T19:53:46.174Z"
   },
   {
    "duration": 11,
    "start_time": "2024-11-14T19:54:01.758Z"
   },
   {
    "duration": 9,
    "start_time": "2024-11-14T19:54:06.814Z"
   },
   {
    "duration": 3,
    "start_time": "2024-11-14T19:54:09.455Z"
   },
   {
    "duration": 12,
    "start_time": "2024-11-14T19:54:28.750Z"
   },
   {
    "duration": 12,
    "start_time": "2024-11-14T19:54:39.556Z"
   },
   {
    "duration": 13,
    "start_time": "2024-11-14T19:54:56.520Z"
   },
   {
    "duration": 11,
    "start_time": "2024-11-14T19:55:12.652Z"
   },
   {
    "duration": 2,
    "start_time": "2024-11-14T19:56:19.073Z"
   },
   {
    "duration": 7,
    "start_time": "2024-11-14T19:56:55.629Z"
   },
   {
    "duration": 2,
    "start_time": "2024-11-14T19:58:55.978Z"
   },
   {
    "duration": 3,
    "start_time": "2024-11-14T19:59:31.506Z"
   },
   {
    "duration": 7,
    "start_time": "2024-11-14T20:00:16.319Z"
   },
   {
    "duration": 7,
    "start_time": "2024-11-14T20:00:20.427Z"
   },
   {
    "duration": 2,
    "start_time": "2024-11-14T20:00:30.623Z"
   },
   {
    "duration": 5,
    "start_time": "2024-11-14T20:00:33.731Z"
   },
   {
    "duration": 4,
    "start_time": "2024-11-14T20:00:55.823Z"
   },
   {
    "duration": 124,
    "start_time": "2024-11-14T20:01:05.271Z"
   },
   {
    "duration": 35,
    "start_time": "2024-11-14T20:01:09.954Z"
   },
   {
    "duration": 5,
    "start_time": "2024-11-14T20:01:18.237Z"
   },
   {
    "duration": 4,
    "start_time": "2024-11-14T20:01:27.423Z"
   },
   {
    "duration": 3,
    "start_time": "2024-11-14T20:01:31.165Z"
   },
   {
    "duration": 19,
    "start_time": "2024-11-14T20:04:40.448Z"
   },
   {
    "duration": 4,
    "start_time": "2024-11-14T20:04:46.369Z"
   },
   {
    "duration": 6,
    "start_time": "2024-11-14T20:04:53.564Z"
   },
   {
    "duration": 5,
    "start_time": "2024-11-14T20:06:24.720Z"
   },
   {
    "duration": 5,
    "start_time": "2024-11-14T20:06:56.453Z"
   },
   {
    "duration": 21,
    "start_time": "2024-11-14T20:09:18.455Z"
   },
   {
    "duration": 16,
    "start_time": "2024-11-14T20:09:25.017Z"
   },
   {
    "duration": 12,
    "start_time": "2024-11-14T20:09:53.094Z"
   },
   {
    "duration": 11,
    "start_time": "2024-11-14T20:15:11.022Z"
   },
   {
    "duration": 2,
    "start_time": "2024-11-14T23:28:47.481Z"
   },
   {
    "duration": 13,
    "start_time": "2024-11-14T23:37:46.819Z"
   },
   {
    "duration": 4,
    "start_time": "2024-11-14T23:37:55.212Z"
   },
   {
    "duration": 14,
    "start_time": "2024-11-14T23:38:03.009Z"
   },
   {
    "duration": 12,
    "start_time": "2024-11-14T23:39:04.312Z"
   },
   {
    "duration": 10,
    "start_time": "2024-11-14T23:39:18.876Z"
   },
   {
    "duration": 2,
    "start_time": "2024-11-14T23:40:04.249Z"
   },
   {
    "duration": 16,
    "start_time": "2024-11-14T23:56:04.622Z"
   },
   {
    "duration": 16,
    "start_time": "2024-11-14T23:56:09.582Z"
   },
   {
    "duration": 17,
    "start_time": "2024-11-14T23:56:52.173Z"
   },
   {
    "duration": 12,
    "start_time": "2024-11-14T23:57:29.527Z"
   },
   {
    "duration": 8,
    "start_time": "2024-11-14T23:57:36.273Z"
   },
   {
    "duration": 15,
    "start_time": "2024-11-14T23:57:43.057Z"
   },
   {
    "duration": 9,
    "start_time": "2024-11-15T00:13:54.625Z"
   },
   {
    "duration": 10,
    "start_time": "2024-11-15T00:14:22.699Z"
   },
   {
    "duration": 2605,
    "start_time": "2024-11-15T03:50:43.605Z"
   },
   {
    "duration": 20,
    "start_time": "2024-11-15T03:50:46.213Z"
   },
   {
    "duration": 10,
    "start_time": "2024-11-15T03:50:46.235Z"
   },
   {
    "duration": 3,
    "start_time": "2024-11-15T03:50:46.247Z"
   },
   {
    "duration": 12,
    "start_time": "2024-11-15T03:50:46.252Z"
   },
   {
    "duration": 13,
    "start_time": "2024-11-15T03:50:46.267Z"
   },
   {
    "duration": 13,
    "start_time": "2024-11-15T03:50:46.281Z"
   },
   {
    "duration": 33,
    "start_time": "2024-11-15T03:50:46.295Z"
   },
   {
    "duration": 10,
    "start_time": "2024-11-15T03:50:46.330Z"
   },
   {
    "duration": 2,
    "start_time": "2024-11-15T03:50:46.343Z"
   },
   {
    "duration": 10,
    "start_time": "2024-11-15T03:50:46.347Z"
   },
   {
    "duration": 2,
    "start_time": "2024-11-15T03:50:46.359Z"
   },
   {
    "duration": 4,
    "start_time": "2024-11-15T03:50:46.362Z"
   },
   {
    "duration": 9,
    "start_time": "2024-11-15T03:50:46.367Z"
   },
   {
    "duration": 3,
    "start_time": "2024-11-15T03:50:46.378Z"
   },
   {
    "duration": 10,
    "start_time": "2024-11-15T03:50:46.424Z"
   },
   {
    "duration": 2,
    "start_time": "2024-11-15T03:50:46.436Z"
   },
   {
    "duration": 10,
    "start_time": "2024-11-15T03:50:46.440Z"
   },
   {
    "duration": 8,
    "start_time": "2024-11-15T03:50:46.452Z"
   },
   {
    "duration": 11,
    "start_time": "2024-11-15T03:50:46.462Z"
   },
   {
    "duration": 14,
    "start_time": "2024-11-15T03:56:25.228Z"
   },
   {
    "duration": 6,
    "start_time": "2024-11-15T04:08:14.089Z"
   },
   {
    "duration": 20,
    "start_time": "2024-11-15T04:10:27.585Z"
   },
   {
    "duration": 11,
    "start_time": "2024-11-15T04:11:13.831Z"
   },
   {
    "duration": 9,
    "start_time": "2024-11-15T04:11:29.400Z"
   },
   {
    "duration": 2,
    "start_time": "2024-11-15T04:13:02.472Z"
   },
   {
    "duration": 16,
    "start_time": "2024-11-15T04:13:02.477Z"
   },
   {
    "duration": 9,
    "start_time": "2024-11-15T04:13:02.494Z"
   },
   {
    "duration": 3,
    "start_time": "2024-11-15T04:13:02.505Z"
   },
   {
    "duration": 9,
    "start_time": "2024-11-15T04:13:02.510Z"
   },
   {
    "duration": 12,
    "start_time": "2024-11-15T04:13:02.521Z"
   },
   {
    "duration": 9,
    "start_time": "2024-11-15T04:13:02.534Z"
   },
   {
    "duration": 10,
    "start_time": "2024-11-15T04:13:02.545Z"
   },
   {
    "duration": 2,
    "start_time": "2024-11-15T04:13:02.558Z"
   },
   {
    "duration": 6,
    "start_time": "2024-11-15T04:13:02.562Z"
   },
   {
    "duration": 2,
    "start_time": "2024-11-15T04:13:02.570Z"
   },
   {
    "duration": 3,
    "start_time": "2024-11-15T04:13:02.574Z"
   },
   {
    "duration": 49,
    "start_time": "2024-11-15T04:13:02.578Z"
   },
   {
    "duration": 2,
    "start_time": "2024-11-15T04:13:02.629Z"
   },
   {
    "duration": 11,
    "start_time": "2024-11-15T04:13:02.633Z"
   },
   {
    "duration": 2,
    "start_time": "2024-11-15T04:13:02.646Z"
   },
   {
    "duration": 13,
    "start_time": "2024-11-15T04:13:02.651Z"
   },
   {
    "duration": 11,
    "start_time": "2024-11-15T04:13:02.666Z"
   },
   {
    "duration": 6,
    "start_time": "2024-11-15T04:13:02.678Z"
   },
   {
    "duration": 50,
    "start_time": "2024-11-15T04:13:02.685Z"
   },
   {
    "duration": 287,
    "start_time": "2024-11-15T04:14:23.022Z"
   },
   {
    "duration": 11,
    "start_time": "2024-11-15T04:14:32.542Z"
   },
   {
    "duration": 9,
    "start_time": "2024-11-15T04:14:44.817Z"
   },
   {
    "duration": 9,
    "start_time": "2024-11-15T04:14:49.999Z"
   },
   {
    "duration": 12,
    "start_time": "2024-11-15T04:14:52.663Z"
   },
   {
    "duration": 14,
    "start_time": "2024-11-15T04:14:56.554Z"
   },
   {
    "duration": 10,
    "start_time": "2024-11-15T04:15:02.018Z"
   },
   {
    "duration": 8,
    "start_time": "2024-11-15T04:15:05.438Z"
   },
   {
    "duration": 18,
    "start_time": "2024-11-15T04:15:07.583Z"
   },
   {
    "duration": 6,
    "start_time": "2024-11-15T04:16:51.375Z"
   },
   {
    "duration": 16,
    "start_time": "2024-11-15T04:16:55.703Z"
   },
   {
    "duration": 15,
    "start_time": "2024-11-15T04:17:17.847Z"
   },
   {
    "duration": 16,
    "start_time": "2024-11-15T04:17:28.674Z"
   },
   {
    "duration": 14,
    "start_time": "2024-11-15T04:26:23.801Z"
   },
   {
    "duration": 12,
    "start_time": "2024-11-15T04:26:37.056Z"
   },
   {
    "duration": 14,
    "start_time": "2024-11-15T04:27:18.897Z"
   },
   {
    "duration": 4,
    "start_time": "2024-11-15T04:30:28.289Z"
   },
   {
    "duration": 7,
    "start_time": "2024-11-15T04:30:32.369Z"
   },
   {
    "duration": 14,
    "start_time": "2024-11-15T04:30:46.488Z"
   },
   {
    "duration": 10,
    "start_time": "2024-11-15T04:32:51.214Z"
   },
   {
    "duration": 4,
    "start_time": "2024-11-15T04:36:59.578Z"
   },
   {
    "duration": 6,
    "start_time": "2024-11-15T04:37:34.659Z"
   },
   {
    "duration": 7,
    "start_time": "2024-11-15T04:37:42.649Z"
   },
   {
    "duration": 20,
    "start_time": "2024-11-15T04:38:06.785Z"
   },
   {
    "duration": 150,
    "start_time": "2024-11-15T04:46:23.068Z"
   },
   {
    "duration": 56,
    "start_time": "2024-11-15T04:46:55.971Z"
   },
   {
    "duration": 41,
    "start_time": "2024-11-15T04:47:05.691Z"
   },
   {
    "duration": 21,
    "start_time": "2024-11-15T04:47:09.534Z"
   },
   {
    "duration": 17,
    "start_time": "2024-11-15T04:47:17.219Z"
   },
   {
    "duration": 10,
    "start_time": "2024-11-15T04:47:46.916Z"
   },
   {
    "duration": 10,
    "start_time": "2024-11-15T04:47:55.210Z"
   },
   {
    "duration": 4,
    "start_time": "2024-11-15T04:52:24.667Z"
   },
   {
    "duration": 3,
    "start_time": "2024-11-15T04:52:32.908Z"
   },
   {
    "duration": 7,
    "start_time": "2024-11-15T04:52:39.587Z"
   },
   {
    "duration": 18,
    "start_time": "2024-11-15T04:52:43.819Z"
   },
   {
    "duration": 10,
    "start_time": "2024-11-15T04:54:47.693Z"
   },
   {
    "duration": 14,
    "start_time": "2024-11-15T04:54:55.740Z"
   },
   {
    "duration": 3,
    "start_time": "2024-11-15T04:58:21.356Z"
   },
   {
    "duration": 14,
    "start_time": "2024-11-15T04:58:26.647Z"
   },
   {
    "duration": 14,
    "start_time": "2024-11-15T04:58:38.975Z"
   },
   {
    "duration": 2475,
    "start_time": "2024-11-16T20:14:20.874Z"
   },
   {
    "duration": 27,
    "start_time": "2024-11-16T20:14:23.352Z"
   },
   {
    "duration": 9,
    "start_time": "2024-11-16T20:14:23.380Z"
   },
   {
    "duration": 2,
    "start_time": "2024-11-16T20:14:23.392Z"
   },
   {
    "duration": 11,
    "start_time": "2024-11-16T20:14:23.396Z"
   },
   {
    "duration": 22,
    "start_time": "2024-11-16T20:14:23.408Z"
   },
   {
    "duration": 9,
    "start_time": "2024-11-16T20:14:23.432Z"
   },
   {
    "duration": 11,
    "start_time": "2024-11-16T20:14:23.442Z"
   },
   {
    "duration": 8,
    "start_time": "2024-11-16T20:14:23.454Z"
   },
   {
    "duration": 2,
    "start_time": "2024-11-16T20:14:23.466Z"
   },
   {
    "duration": 10,
    "start_time": "2024-11-16T20:14:23.469Z"
   },
   {
    "duration": 2,
    "start_time": "2024-11-16T20:14:23.480Z"
   },
   {
    "duration": 4,
    "start_time": "2024-11-16T20:14:23.484Z"
   },
   {
    "duration": 11,
    "start_time": "2024-11-16T20:14:23.524Z"
   },
   {
    "duration": 2,
    "start_time": "2024-11-16T20:14:23.536Z"
   },
   {
    "duration": 9,
    "start_time": "2024-11-16T20:14:23.539Z"
   },
   {
    "duration": 2,
    "start_time": "2024-11-16T20:14:23.550Z"
   },
   {
    "duration": 11,
    "start_time": "2024-11-16T20:14:23.553Z"
   },
   {
    "duration": 8,
    "start_time": "2024-11-16T20:14:23.566Z"
   },
   {
    "duration": 10,
    "start_time": "2024-11-16T20:14:23.576Z"
   },
   {
    "duration": 2,
    "start_time": "2024-11-16T20:14:23.625Z"
   },
   {
    "duration": 5,
    "start_time": "2024-11-16T20:14:23.629Z"
   },
   {
    "duration": 9,
    "start_time": "2024-11-16T20:14:23.637Z"
   },
   {
    "duration": 7,
    "start_time": "2024-11-16T20:14:23.648Z"
   },
   {
    "duration": 8,
    "start_time": "2024-11-16T20:14:23.657Z"
   },
   {
    "duration": 3,
    "start_time": "2024-11-16T20:14:23.667Z"
   },
   {
    "duration": 11,
    "start_time": "2024-11-16T20:14:23.671Z"
   },
   {
    "duration": 10,
    "start_time": "2024-11-16T20:18:53.761Z"
   },
   {
    "duration": 5,
    "start_time": "2024-11-16T20:19:47.657Z"
   },
   {
    "duration": 10,
    "start_time": "2024-11-16T20:20:03.331Z"
   },
   {
    "duration": 5,
    "start_time": "2024-11-16T20:21:52.980Z"
   },
   {
    "duration": 129,
    "start_time": "2024-11-16T20:23:21.273Z"
   },
   {
    "duration": 138,
    "start_time": "2024-11-16T20:23:37.276Z"
   },
   {
    "duration": 139,
    "start_time": "2024-11-16T20:23:52.126Z"
   },
   {
    "duration": 134,
    "start_time": "2024-11-16T20:24:23.854Z"
   },
   {
    "duration": 132,
    "start_time": "2024-11-16T20:25:26.262Z"
   },
   {
    "duration": 407,
    "start_time": "2024-11-16T20:25:43.555Z"
   },
   {
    "duration": 138,
    "start_time": "2024-11-16T20:25:54.665Z"
   },
   {
    "duration": 133,
    "start_time": "2024-11-16T20:26:08.642Z"
   },
   {
    "duration": 134,
    "start_time": "2024-11-16T20:26:23.989Z"
   },
   {
    "duration": 134,
    "start_time": "2024-11-16T20:26:31.567Z"
   },
   {
    "duration": 131,
    "start_time": "2024-11-16T20:26:37.057Z"
   },
   {
    "duration": 6,
    "start_time": "2024-11-16T20:28:38.165Z"
   },
   {
    "duration": 6,
    "start_time": "2024-11-16T20:29:02.416Z"
   },
   {
    "duration": 3,
    "start_time": "2024-11-16T20:32:24.187Z"
   },
   {
    "duration": 150,
    "start_time": "2024-11-16T21:09:20.920Z"
   },
   {
    "duration": 7,
    "start_time": "2024-11-16T21:10:03.158Z"
   },
   {
    "duration": 4,
    "start_time": "2024-11-16T21:10:15.749Z"
   },
   {
    "duration": 141,
    "start_time": "2024-11-16T21:10:30.078Z"
   },
   {
    "duration": 177,
    "start_time": "2024-11-16T21:10:47.861Z"
   },
   {
    "duration": 232,
    "start_time": "2024-11-16T21:11:03.341Z"
   },
   {
    "duration": 157,
    "start_time": "2024-11-16T21:11:36.876Z"
   },
   {
    "duration": 158,
    "start_time": "2024-11-16T21:11:50.143Z"
   },
   {
    "duration": 168,
    "start_time": "2024-11-16T21:12:31.477Z"
   },
   {
    "duration": 167,
    "start_time": "2024-11-16T21:12:50.999Z"
   },
   {
    "duration": 2,
    "start_time": "2024-11-16T21:15:52.527Z"
   },
   {
    "duration": 3,
    "start_time": "2024-11-16T21:18:43.479Z"
   },
   {
    "duration": 19,
    "start_time": "2024-11-16T21:18:48.934Z"
   },
   {
    "duration": 12,
    "start_time": "2024-11-16T21:18:56.314Z"
   },
   {
    "duration": 6,
    "start_time": "2024-11-16T21:18:59.453Z"
   },
   {
    "duration": 17,
    "start_time": "2024-11-16T21:19:02.761Z"
   },
   {
    "duration": 4,
    "start_time": "2024-11-16T21:30:49.558Z"
   },
   {
    "duration": 5,
    "start_time": "2024-11-16T21:31:19.276Z"
   },
   {
    "duration": 150,
    "start_time": "2024-11-16T21:32:24.812Z"
   },
   {
    "duration": 148,
    "start_time": "2024-11-16T21:32:49.947Z"
   },
   {
    "duration": 143,
    "start_time": "2024-11-16T21:32:58.290Z"
   },
   {
    "duration": 140,
    "start_time": "2024-11-16T21:33:27.957Z"
   },
   {
    "duration": 169,
    "start_time": "2024-11-16T21:36:26.211Z"
   },
   {
    "duration": 171,
    "start_time": "2024-11-16T21:36:31.813Z"
   },
   {
    "duration": 165,
    "start_time": "2024-11-16T21:37:06.730Z"
   },
   {
    "duration": 212,
    "start_time": "2024-11-16T21:37:36.492Z"
   },
   {
    "duration": 4,
    "start_time": "2024-11-16T21:38:51.733Z"
   },
   {
    "duration": 276,
    "start_time": "2024-11-16T21:38:56.614Z"
   },
   {
    "duration": 3,
    "start_time": "2024-11-16T21:48:36.993Z"
   },
   {
    "duration": 5,
    "start_time": "2024-11-16T21:48:39.131Z"
   },
   {
    "duration": 17,
    "start_time": "2024-11-16T21:48:52.946Z"
   },
   {
    "duration": 17,
    "start_time": "2024-11-16T21:49:04.465Z"
   },
   {
    "duration": 23,
    "start_time": "2024-11-16T21:49:08.146Z"
   },
   {
    "duration": 7,
    "start_time": "2024-11-16T21:50:04.648Z"
   },
   {
    "duration": 13,
    "start_time": "2024-11-16T21:50:09.105Z"
   },
   {
    "duration": 8,
    "start_time": "2024-11-16T21:50:20.842Z"
   },
   {
    "duration": 6,
    "start_time": "2024-11-16T21:50:38.427Z"
   },
   {
    "duration": 148,
    "start_time": "2024-11-16T21:52:39.896Z"
   },
   {
    "duration": 139,
    "start_time": "2024-11-16T21:52:54.092Z"
   },
   {
    "duration": 214,
    "start_time": "2024-11-16T21:53:08.310Z"
   },
   {
    "duration": 177,
    "start_time": "2024-11-16T21:54:34.035Z"
   },
   {
    "duration": 177,
    "start_time": "2024-11-16T21:54:42.430Z"
   },
   {
    "duration": 190,
    "start_time": "2024-11-16T21:55:08.106Z"
   },
   {
    "duration": 4,
    "start_time": "2024-11-16T22:02:19.933Z"
   },
   {
    "duration": 3,
    "start_time": "2024-11-16T22:02:33.996Z"
   },
   {
    "duration": 7,
    "start_time": "2024-11-16T22:02:40.813Z"
   },
   {
    "duration": 11,
    "start_time": "2024-11-16T22:02:45.095Z"
   },
   {
    "duration": 5,
    "start_time": "2024-11-16T22:03:26.645Z"
   },
   {
    "duration": 3,
    "start_time": "2024-11-16T22:03:31.389Z"
   },
   {
    "duration": 3,
    "start_time": "2024-11-16T22:03:48.677Z"
   },
   {
    "duration": 3,
    "start_time": "2024-11-16T22:03:53.092Z"
   },
   {
    "duration": 3,
    "start_time": "2024-11-16T22:04:03.239Z"
   },
   {
    "duration": 12,
    "start_time": "2024-11-16T22:04:24.564Z"
   },
   {
    "duration": 3,
    "start_time": "2024-11-16T22:07:10.742Z"
   },
   {
    "duration": 3,
    "start_time": "2024-11-16T22:07:15.544Z"
   },
   {
    "duration": 118,
    "start_time": "2024-11-16T22:07:27.584Z"
   },
   {
    "duration": 120,
    "start_time": "2024-11-16T22:07:39.304Z"
   },
   {
    "duration": 122,
    "start_time": "2024-11-16T22:07:57.967Z"
   },
   {
    "duration": 223,
    "start_time": "2024-11-16T22:09:01.856Z"
   },
   {
    "duration": 233,
    "start_time": "2024-11-16T22:09:06.918Z"
   },
   {
    "duration": 214,
    "start_time": "2024-11-16T22:09:12.842Z"
   },
   {
    "duration": 215,
    "start_time": "2024-11-16T22:09:36.362Z"
   },
   {
    "duration": 212,
    "start_time": "2024-11-16T22:09:41.163Z"
   },
   {
    "duration": 204,
    "start_time": "2024-11-16T22:13:11.086Z"
   },
   {
    "duration": 195,
    "start_time": "2024-11-16T22:13:15.297Z"
   },
   {
    "duration": 196,
    "start_time": "2024-11-16T22:13:22.598Z"
   },
   {
    "duration": 3,
    "start_time": "2024-11-16T22:15:12.142Z"
   },
   {
    "duration": 14,
    "start_time": "2024-11-16T22:20:59.043Z"
   },
   {
    "duration": 13,
    "start_time": "2024-11-16T22:21:11.064Z"
   },
   {
    "duration": 708,
    "start_time": "2024-11-16T22:21:17.699Z"
   },
   {
    "duration": 13,
    "start_time": "2024-11-16T22:21:25.449Z"
   },
   {
    "duration": 35,
    "start_time": "2024-11-16T22:22:01.850Z"
   },
   {
    "duration": 14,
    "start_time": "2024-11-16T22:22:28.306Z"
   },
   {
    "duration": 13,
    "start_time": "2024-11-16T22:22:39.577Z"
   },
   {
    "duration": 10,
    "start_time": "2024-11-16T22:23:21.086Z"
   },
   {
    "duration": 35,
    "start_time": "2024-11-16T22:23:57.439Z"
   },
   {
    "duration": 11,
    "start_time": "2024-11-16T22:24:09.696Z"
   },
   {
    "duration": 36,
    "start_time": "2024-11-16T22:24:29.073Z"
   },
   {
    "duration": 35,
    "start_time": "2024-11-16T22:25:01.322Z"
   },
   {
    "duration": 13,
    "start_time": "2024-11-16T22:25:07.906Z"
   },
   {
    "duration": 35,
    "start_time": "2024-11-16T22:25:12.828Z"
   },
   {
    "duration": 133,
    "start_time": "2024-11-16T22:25:45.492Z"
   },
   {
    "duration": 36,
    "start_time": "2024-11-16T22:26:22.417Z"
   },
   {
    "duration": 6,
    "start_time": "2024-11-16T22:26:59.330Z"
   },
   {
    "duration": 10,
    "start_time": "2024-11-16T22:27:14.602Z"
   },
   {
    "duration": 6,
    "start_time": "2024-11-16T22:28:52.388Z"
   },
   {
    "duration": 10,
    "start_time": "2024-11-16T22:28:56.434Z"
   },
   {
    "duration": 17,
    "start_time": "2024-11-16T22:29:28.054Z"
   },
   {
    "duration": 11,
    "start_time": "2024-11-16T22:29:56.597Z"
   },
   {
    "duration": 24,
    "start_time": "2024-11-16T22:33:15.294Z"
   },
   {
    "duration": 13,
    "start_time": "2024-11-16T22:33:22.635Z"
   },
   {
    "duration": 3,
    "start_time": "2024-11-16T22:34:11.563Z"
   },
   {
    "duration": 13,
    "start_time": "2024-11-16T22:34:16.283Z"
   },
   {
    "duration": 13,
    "start_time": "2024-11-16T22:34:30.076Z"
   },
   {
    "duration": 92,
    "start_time": "2024-11-16T22:34:46.739Z"
   },
   {
    "duration": 3,
    "start_time": "2024-11-16T22:34:50.802Z"
   },
   {
    "duration": 15,
    "start_time": "2024-11-16T22:34:56.744Z"
   },
   {
    "duration": 92,
    "start_time": "2024-11-16T22:35:41.203Z"
   },
   {
    "duration": 3,
    "start_time": "2024-11-16T22:39:01.452Z"
   },
   {
    "duration": 2,
    "start_time": "2024-11-16T22:40:21.084Z"
   },
   {
    "duration": 26,
    "start_time": "2024-11-17T04:10:12.138Z"
   },
   {
    "duration": 6,
    "start_time": "2024-11-17T04:10:57.822Z"
   },
   {
    "duration": 164,
    "start_time": "2024-11-18T13:20:50.194Z"
   },
   {
    "duration": 11,
    "start_time": "2024-11-18T13:21:03.864Z"
   },
   {
    "duration": 2480,
    "start_time": "2024-11-18T13:21:10.863Z"
   },
   {
    "duration": 21,
    "start_time": "2024-11-18T13:21:13.347Z"
   },
   {
    "duration": 9,
    "start_time": "2024-11-18T13:21:13.370Z"
   },
   {
    "duration": 3,
    "start_time": "2024-11-18T13:21:13.381Z"
   },
   {
    "duration": 15,
    "start_time": "2024-11-18T13:21:13.389Z"
   },
   {
    "duration": 12,
    "start_time": "2024-11-18T13:21:13.405Z"
   },
   {
    "duration": 9,
    "start_time": "2024-11-18T13:21:13.419Z"
   },
   {
    "duration": 9,
    "start_time": "2024-11-18T13:21:13.430Z"
   },
   {
    "duration": 50,
    "start_time": "2024-11-18T13:21:13.441Z"
   },
   {
    "duration": 2,
    "start_time": "2024-11-18T13:21:13.494Z"
   },
   {
    "duration": 9,
    "start_time": "2024-11-18T13:21:13.497Z"
   },
   {
    "duration": 2,
    "start_time": "2024-11-18T13:21:13.508Z"
   },
   {
    "duration": 4,
    "start_time": "2024-11-18T13:21:13.511Z"
   },
   {
    "duration": 8,
    "start_time": "2024-11-18T13:21:13.519Z"
   },
   {
    "duration": 2,
    "start_time": "2024-11-18T13:21:13.529Z"
   },
   {
    "duration": 60,
    "start_time": "2024-11-18T13:21:13.533Z"
   },
   {
    "duration": 5,
    "start_time": "2024-11-18T13:21:13.594Z"
   },
   {
    "duration": 12,
    "start_time": "2024-11-18T13:21:13.601Z"
   },
   {
    "duration": 9,
    "start_time": "2024-11-18T13:21:13.614Z"
   },
   {
    "duration": 9,
    "start_time": "2024-11-18T13:21:13.624Z"
   },
   {
    "duration": 2,
    "start_time": "2024-11-18T13:21:13.635Z"
   },
   {
    "duration": 4,
    "start_time": "2024-11-18T13:21:13.639Z"
   },
   {
    "duration": 50,
    "start_time": "2024-11-18T13:21:13.645Z"
   },
   {
    "duration": 7,
    "start_time": "2024-11-18T13:21:13.698Z"
   },
   {
    "duration": 9,
    "start_time": "2024-11-18T13:21:13.707Z"
   },
   {
    "duration": 2,
    "start_time": "2024-11-18T13:21:13.717Z"
   },
   {
    "duration": 12,
    "start_time": "2024-11-18T13:21:13.722Z"
   },
   {
    "duration": 5,
    "start_time": "2024-11-18T13:21:13.736Z"
   },
   {
    "duration": 6,
    "start_time": "2024-11-18T13:21:13.787Z"
   },
   {
    "duration": 214,
    "start_time": "2024-11-18T13:21:13.795Z"
   },
   {
    "duration": 6,
    "start_time": "2024-11-18T13:21:14.011Z"
   },
   {
    "duration": 3,
    "start_time": "2024-11-18T13:21:14.018Z"
   },
   {
    "duration": 168,
    "start_time": "2024-11-18T13:21:14.022Z"
   },
   {
    "duration": 2,
    "start_time": "2024-11-18T13:21:14.192Z"
   },
   {
    "duration": 12,
    "start_time": "2024-11-18T13:21:14.197Z"
   },
   {
    "duration": 250,
    "start_time": "2024-11-18T13:21:14.211Z"
   },
   {
    "duration": 3,
    "start_time": "2024-11-18T13:21:14.462Z"
   },
   {
    "duration": 28,
    "start_time": "2024-11-18T13:21:14.466Z"
   },
   {
    "duration": 6,
    "start_time": "2024-11-18T13:21:14.496Z"
   },
   {
    "duration": 162,
    "start_time": "2024-11-18T13:21:14.504Z"
   },
   {
    "duration": 2,
    "start_time": "2024-11-18T13:21:14.672Z"
   },
   {
    "duration": 21,
    "start_time": "2024-11-18T13:21:14.676Z"
   },
   {
    "duration": 8,
    "start_time": "2024-11-18T13:21:14.699Z"
   },
   {
    "duration": 240,
    "start_time": "2024-11-18T13:21:14.708Z"
   },
   {
    "duration": 2,
    "start_time": "2024-11-18T13:21:14.951Z"
   },
   {
    "duration": 33,
    "start_time": "2024-11-18T13:21:14.955Z"
   },
   {
    "duration": 3,
    "start_time": "2024-11-18T13:21:14.989Z"
   },
   {
    "duration": 109,
    "start_time": "2024-11-18T13:21:14.993Z"
   },
   {
    "duration": 2,
    "start_time": "2024-11-18T13:21:15.104Z"
   },
   {
    "duration": 4,
    "start_time": "2024-11-18T13:21:15.108Z"
   },
   {
    "duration": 13,
    "start_time": "2024-11-18T13:21:20.682Z"
   },
   {
    "duration": 198,
    "start_time": "2024-11-18T13:28:09.367Z"
   },
   {
    "duration": 143,
    "start_time": "2024-11-18T13:28:25.575Z"
   },
   {
    "duration": 3,
    "start_time": "2024-11-18T13:28:36.867Z"
   },
   {
    "duration": 11,
    "start_time": "2024-11-18T13:28:36.872Z"
   },
   {
    "duration": 8,
    "start_time": "2024-11-18T13:28:36.884Z"
   },
   {
    "duration": 3,
    "start_time": "2024-11-18T13:28:36.894Z"
   },
   {
    "duration": 10,
    "start_time": "2024-11-18T13:28:36.900Z"
   },
   {
    "duration": 11,
    "start_time": "2024-11-18T13:28:36.912Z"
   },
   {
    "duration": 9,
    "start_time": "2024-11-18T13:28:36.925Z"
   },
   {
    "duration": 51,
    "start_time": "2024-11-18T13:28:36.936Z"
   },
   {
    "duration": 9,
    "start_time": "2024-11-18T13:28:36.989Z"
   },
   {
    "duration": 1,
    "start_time": "2024-11-18T13:28:37.001Z"
   },
   {
    "duration": 6,
    "start_time": "2024-11-18T13:28:37.004Z"
   },
   {
    "duration": 2,
    "start_time": "2024-11-18T13:28:37.012Z"
   },
   {
    "duration": 4,
    "start_time": "2024-11-18T13:28:37.016Z"
   },
   {
    "duration": 8,
    "start_time": "2024-11-18T13:28:37.024Z"
   },
   {
    "duration": 2,
    "start_time": "2024-11-18T13:28:37.034Z"
   },
   {
    "duration": 56,
    "start_time": "2024-11-18T13:28:37.038Z"
   },
   {
    "duration": 2,
    "start_time": "2024-11-18T13:28:37.095Z"
   },
   {
    "duration": 12,
    "start_time": "2024-11-18T13:28:37.099Z"
   },
   {
    "duration": 8,
    "start_time": "2024-11-18T13:28:37.113Z"
   },
   {
    "duration": 9,
    "start_time": "2024-11-18T13:28:37.122Z"
   },
   {
    "duration": 2,
    "start_time": "2024-11-18T13:28:37.133Z"
   },
   {
    "duration": 5,
    "start_time": "2024-11-18T13:28:37.136Z"
   },
   {
    "duration": 9,
    "start_time": "2024-11-18T13:28:37.187Z"
   },
   {
    "duration": 8,
    "start_time": "2024-11-18T13:28:37.197Z"
   },
   {
    "duration": 8,
    "start_time": "2024-11-18T13:28:37.207Z"
   },
   {
    "duration": 3,
    "start_time": "2024-11-18T13:28:37.216Z"
   },
   {
    "duration": 11,
    "start_time": "2024-11-18T13:28:37.221Z"
   },
   {
    "duration": 4,
    "start_time": "2024-11-18T13:28:37.234Z"
   },
   {
    "duration": 47,
    "start_time": "2024-11-18T13:28:37.240Z"
   },
   {
    "duration": 150,
    "start_time": "2024-11-18T13:28:37.289Z"
   },
   {
    "duration": 6,
    "start_time": "2024-11-18T13:28:37.441Z"
   },
   {
    "duration": 2,
    "start_time": "2024-11-18T13:28:37.449Z"
   },
   {
    "duration": 163,
    "start_time": "2024-11-18T13:28:37.453Z"
   },
   {
    "duration": 2,
    "start_time": "2024-11-18T13:28:37.618Z"
   },
   {
    "duration": 14,
    "start_time": "2024-11-18T13:28:37.623Z"
   },
   {
    "duration": 226,
    "start_time": "2024-11-18T13:28:37.639Z"
   },
   {
    "duration": 2,
    "start_time": "2024-11-18T13:28:37.871Z"
   },
   {
    "duration": 24,
    "start_time": "2024-11-18T13:28:37.874Z"
   },
   {
    "duration": 6,
    "start_time": "2024-11-18T13:28:37.899Z"
   },
   {
    "duration": 161,
    "start_time": "2024-11-18T13:28:37.907Z"
   },
   {
    "duration": 2,
    "start_time": "2024-11-18T13:28:38.074Z"
   },
   {
    "duration": 13,
    "start_time": "2024-11-18T13:28:38.086Z"
   },
   {
    "duration": 11,
    "start_time": "2024-11-18T13:28:38.102Z"
   },
   {
    "duration": 171,
    "start_time": "2024-11-18T13:28:38.114Z"
   },
   {
    "duration": 1,
    "start_time": "2024-11-18T13:28:38.286Z"
   },
   {
    "duration": 0,
    "start_time": "2024-11-18T13:28:38.288Z"
   },
   {
    "duration": 0,
    "start_time": "2024-11-18T13:28:38.289Z"
   },
   {
    "duration": 0,
    "start_time": "2024-11-18T13:28:38.290Z"
   },
   {
    "duration": 0,
    "start_time": "2024-11-18T13:28:38.291Z"
   },
   {
    "duration": 0,
    "start_time": "2024-11-18T13:28:38.292Z"
   },
   {
    "duration": 0,
    "start_time": "2024-11-18T13:28:38.293Z"
   },
   {
    "duration": 449,
    "start_time": "2024-11-18T13:28:59.824Z"
   },
   {
    "duration": 638,
    "start_time": "2024-11-18T13:29:10.968Z"
   },
   {
    "duration": 347,
    "start_time": "2024-11-18T13:30:38.566Z"
   },
   {
    "duration": 330,
    "start_time": "2024-11-18T13:31:10.959Z"
   },
   {
    "duration": 326,
    "start_time": "2024-11-18T13:31:37.647Z"
   },
   {
    "duration": 347,
    "start_time": "2024-11-18T13:31:53.871Z"
   },
   {
    "duration": 338,
    "start_time": "2024-11-18T13:32:30.175Z"
   },
   {
    "duration": 346,
    "start_time": "2024-11-18T13:32:40.472Z"
   },
   {
    "duration": 334,
    "start_time": "2024-11-18T13:34:29.000Z"
   },
   {
    "duration": 430,
    "start_time": "2024-11-18T13:34:37.696Z"
   },
   {
    "duration": 238,
    "start_time": "2024-11-18T13:36:47.096Z"
   },
   {
    "duration": 13,
    "start_time": "2024-11-18T13:36:51.756Z"
   },
   {
    "duration": 3,
    "start_time": "2024-11-18T13:36:54.879Z"
   },
   {
    "duration": 95,
    "start_time": "2024-11-18T13:36:57.074Z"
   },
   {
    "duration": 5,
    "start_time": "2024-11-18T13:37:00.375Z"
   },
   {
    "duration": 17,
    "start_time": "2024-11-18T13:38:44.440Z"
   },
   {
    "duration": 17,
    "start_time": "2024-11-18T13:40:16.168Z"
   },
   {
    "duration": 4,
    "start_time": "2024-11-18T13:40:21.240Z"
   },
   {
    "duration": 4,
    "start_time": "2024-11-18T13:40:31.008Z"
   },
   {
    "duration": 13,
    "start_time": "2024-11-18T13:40:35.185Z"
   },
   {
    "duration": 5,
    "start_time": "2024-11-18T13:41:14.992Z"
   },
   {
    "duration": 13,
    "start_time": "2024-11-18T13:46:35.570Z"
   },
   {
    "duration": 12,
    "start_time": "2024-11-18T13:47:13.985Z"
   },
   {
    "duration": 3,
    "start_time": "2024-11-18T13:47:24.344Z"
   },
   {
    "duration": 4,
    "start_time": "2024-11-18T13:47:33.192Z"
   },
   {
    "duration": 4,
    "start_time": "2024-11-18T13:48:34.301Z"
   },
   {
    "duration": 17,
    "start_time": "2024-11-18T13:48:42.065Z"
   },
   {
    "duration": 4,
    "start_time": "2024-11-18T13:48:58.828Z"
   },
   {
    "duration": 4,
    "start_time": "2024-11-18T13:51:58.481Z"
   },
   {
    "duration": 5,
    "start_time": "2024-11-18T13:52:06.745Z"
   },
   {
    "duration": 13,
    "start_time": "2024-11-18T14:22:50.492Z"
   },
   {
    "duration": 4,
    "start_time": "2024-11-18T14:23:38.511Z"
   },
   {
    "duration": 4,
    "start_time": "2024-11-18T14:24:11.172Z"
   },
   {
    "duration": 2,
    "start_time": "2024-11-18T14:28:51.435Z"
   },
   {
    "duration": 2,
    "start_time": "2024-11-18T14:44:54.364Z"
   },
   {
    "duration": 5,
    "start_time": "2024-11-18T14:48:28.939Z"
   },
   {
    "duration": 3,
    "start_time": "2024-11-18T14:48:42.434Z"
   },
   {
    "duration": 5,
    "start_time": "2024-11-18T14:48:52.367Z"
   },
   {
    "duration": 17,
    "start_time": "2024-11-18T14:48:56.054Z"
   },
   {
    "duration": 4,
    "start_time": "2024-11-18T14:49:07.795Z"
   },
   {
    "duration": 3,
    "start_time": "2024-11-18T14:50:16.808Z"
   },
   {
    "duration": 3,
    "start_time": "2024-11-18T14:50:45.375Z"
   },
   {
    "duration": 4,
    "start_time": "2024-11-18T15:16:42.088Z"
   },
   {
    "duration": 5,
    "start_time": "2024-11-18T15:16:57.732Z"
   },
   {
    "duration": 11,
    "start_time": "2024-11-18T15:21:33.648Z"
   },
   {
    "duration": 11,
    "start_time": "2024-11-18T15:24:23.452Z"
   },
   {
    "duration": 10,
    "start_time": "2024-11-18T15:24:36.931Z"
   },
   {
    "duration": 22,
    "start_time": "2024-11-18T15:25:31.584Z"
   },
   {
    "duration": 619,
    "start_time": "2024-11-18T15:25:48.980Z"
   },
   {
    "duration": 17,
    "start_time": "2024-11-18T15:26:05.208Z"
   },
   {
    "duration": 11,
    "start_time": "2024-11-18T15:26:16.251Z"
   },
   {
    "duration": 101,
    "start_time": "2024-11-18T15:29:42.823Z"
   },
   {
    "duration": 12,
    "start_time": "2024-11-18T15:30:39.013Z"
   },
   {
    "duration": 11,
    "start_time": "2024-11-18T15:32:55.413Z"
   },
   {
    "duration": 134,
    "start_time": "2024-11-18T15:33:14.375Z"
   },
   {
    "duration": 11,
    "start_time": "2024-11-18T15:33:23.121Z"
   },
   {
    "duration": 20,
    "start_time": "2024-11-18T15:35:54.652Z"
   },
   {
    "duration": 6,
    "start_time": "2024-11-18T15:36:12.785Z"
   },
   {
    "duration": 9,
    "start_time": "2024-11-18T15:37:42.693Z"
   },
   {
    "duration": 11,
    "start_time": "2024-11-18T15:38:22.575Z"
   },
   {
    "duration": 11,
    "start_time": "2024-11-18T15:39:05.305Z"
   },
   {
    "duration": 12,
    "start_time": "2024-11-18T15:39:16.351Z"
   },
   {
    "duration": 3,
    "start_time": "2024-11-18T15:39:49.613Z"
   },
   {
    "duration": 84,
    "start_time": "2024-11-18T15:40:08.409Z"
   },
   {
    "duration": 42,
    "start_time": "2024-11-18T15:40:37.962Z"
   },
   {
    "duration": 45,
    "start_time": "2024-11-18T15:40:47.857Z"
   },
   {
    "duration": 111,
    "start_time": "2024-11-18T15:41:15.534Z"
   },
   {
    "duration": 37,
    "start_time": "2024-11-18T15:42:25.531Z"
   },
   {
    "duration": 11,
    "start_time": "2024-11-18T15:42:34.681Z"
   },
   {
    "duration": 11,
    "start_time": "2024-11-18T15:42:48.935Z"
   },
   {
    "duration": 12,
    "start_time": "2024-11-18T15:43:16.129Z"
   },
   {
    "duration": 11,
    "start_time": "2024-11-18T15:43:45.496Z"
   },
   {
    "duration": 12,
    "start_time": "2024-11-18T15:44:10.078Z"
   },
   {
    "duration": 46,
    "start_time": "2024-11-18T15:44:21.074Z"
   },
   {
    "duration": 3,
    "start_time": "2024-11-18T15:44:26.489Z"
   },
   {
    "duration": 13,
    "start_time": "2024-11-18T15:44:26.494Z"
   },
   {
    "duration": 8,
    "start_time": "2024-11-18T15:44:26.509Z"
   },
   {
    "duration": 3,
    "start_time": "2024-11-18T15:44:26.520Z"
   },
   {
    "duration": 10,
    "start_time": "2024-11-18T15:44:26.525Z"
   },
   {
    "duration": 12,
    "start_time": "2024-11-18T15:44:26.537Z"
   },
   {
    "duration": 44,
    "start_time": "2024-11-18T15:44:26.550Z"
   },
   {
    "duration": 10,
    "start_time": "2024-11-18T15:44:26.596Z"
   },
   {
    "duration": 8,
    "start_time": "2024-11-18T15:44:26.608Z"
   },
   {
    "duration": 2,
    "start_time": "2024-11-18T15:44:26.618Z"
   },
   {
    "duration": 6,
    "start_time": "2024-11-18T15:44:26.625Z"
   },
   {
    "duration": 2,
    "start_time": "2024-11-18T15:44:26.633Z"
   },
   {
    "duration": 4,
    "start_time": "2024-11-18T15:44:26.636Z"
   },
   {
    "duration": 8,
    "start_time": "2024-11-18T15:44:26.687Z"
   },
   {
    "duration": 4,
    "start_time": "2024-11-18T15:44:26.697Z"
   },
   {
    "duration": 9,
    "start_time": "2024-11-18T15:44:26.702Z"
   },
   {
    "duration": 2,
    "start_time": "2024-11-18T15:44:26.713Z"
   },
   {
    "duration": 10,
    "start_time": "2024-11-18T15:44:26.717Z"
   },
   {
    "duration": 8,
    "start_time": "2024-11-18T15:44:26.729Z"
   },
   {
    "duration": 48,
    "start_time": "2024-11-18T15:44:26.739Z"
   },
   {
    "duration": 3,
    "start_time": "2024-11-18T15:44:26.788Z"
   },
   {
    "duration": 5,
    "start_time": "2024-11-18T15:44:26.794Z"
   },
   {
    "duration": 9,
    "start_time": "2024-11-18T15:44:26.801Z"
   },
   {
    "duration": 9,
    "start_time": "2024-11-18T15:44:26.811Z"
   },
   {
    "duration": 8,
    "start_time": "2024-11-18T15:44:26.821Z"
   },
   {
    "duration": 3,
    "start_time": "2024-11-18T15:44:26.831Z"
   },
   {
    "duration": 12,
    "start_time": "2024-11-18T15:44:26.836Z"
   },
   {
    "duration": 40,
    "start_time": "2024-11-18T15:44:26.849Z"
   },
   {
    "duration": 5,
    "start_time": "2024-11-18T15:44:26.893Z"
   },
   {
    "duration": 157,
    "start_time": "2024-11-18T15:44:26.899Z"
   },
   {
    "duration": 7,
    "start_time": "2024-11-18T15:44:27.058Z"
   },
   {
    "duration": 3,
    "start_time": "2024-11-18T15:44:27.066Z"
   },
   {
    "duration": 142,
    "start_time": "2024-11-18T15:44:27.087Z"
   },
   {
    "duration": 2,
    "start_time": "2024-11-18T15:44:27.231Z"
   },
   {
    "duration": 13,
    "start_time": "2024-11-18T15:44:27.235Z"
   },
   {
    "duration": 212,
    "start_time": "2024-11-18T15:44:27.249Z"
   },
   {
    "duration": 3,
    "start_time": "2024-11-18T15:44:27.463Z"
   },
   {
    "duration": 13,
    "start_time": "2024-11-18T15:44:27.487Z"
   },
   {
    "duration": 6,
    "start_time": "2024-11-18T15:44:27.502Z"
   },
   {
    "duration": 156,
    "start_time": "2024-11-18T15:44:27.509Z"
   },
   {
    "duration": 2,
    "start_time": "2024-11-18T15:44:27.667Z"
   },
   {
    "duration": 24,
    "start_time": "2024-11-18T15:44:27.671Z"
   },
   {
    "duration": 11,
    "start_time": "2024-11-18T15:44:27.696Z"
   },
   {
    "duration": 370,
    "start_time": "2024-11-18T15:44:27.708Z"
   },
   {
    "duration": 7,
    "start_time": "2024-11-18T15:44:28.080Z"
   },
   {
    "duration": 239,
    "start_time": "2024-11-18T15:44:28.089Z"
   },
   {
    "duration": 3,
    "start_time": "2024-11-18T15:44:28.330Z"
   },
   {
    "duration": 11,
    "start_time": "2024-11-18T15:44:28.334Z"
   },
   {
    "duration": 10,
    "start_time": "2024-11-18T15:44:28.346Z"
   },
   {
    "duration": 2,
    "start_time": "2024-11-18T15:44:28.358Z"
   },
   {
    "duration": 114,
    "start_time": "2024-11-18T15:44:28.362Z"
   },
   {
    "duration": 2,
    "start_time": "2024-11-18T15:44:28.486Z"
   },
   {
    "duration": 4,
    "start_time": "2024-11-18T15:44:28.490Z"
   },
   {
    "duration": 3,
    "start_time": "2024-11-18T15:44:28.496Z"
   },
   {
    "duration": 10,
    "start_time": "2024-11-18T15:44:28.500Z"
   },
   {
    "duration": 12,
    "start_time": "2024-11-18T15:44:28.512Z"
   },
   {
    "duration": 2,
    "start_time": "2024-11-18T15:44:28.525Z"
   },
   {
    "duration": 78,
    "start_time": "2024-11-18T15:44:28.529Z"
   },
   {
    "duration": 0,
    "start_time": "2024-11-18T15:44:28.609Z"
   },
   {
    "duration": 0,
    "start_time": "2024-11-18T15:44:28.610Z"
   },
   {
    "duration": 0,
    "start_time": "2024-11-18T15:44:28.611Z"
   },
   {
    "duration": 0,
    "start_time": "2024-11-18T15:44:28.613Z"
   },
   {
    "duration": 0,
    "start_time": "2024-11-18T15:44:28.614Z"
   },
   {
    "duration": 0,
    "start_time": "2024-11-18T15:44:28.615Z"
   },
   {
    "duration": 0,
    "start_time": "2024-11-18T15:44:28.616Z"
   },
   {
    "duration": 12,
    "start_time": "2024-11-18T15:44:54.084Z"
   },
   {
    "duration": 108,
    "start_time": "2024-11-18T15:45:00.859Z"
   },
   {
    "duration": 39,
    "start_time": "2024-11-18T15:45:12.662Z"
   },
   {
    "duration": 3,
    "start_time": "2024-11-18T15:46:11.979Z"
   },
   {
    "duration": 11,
    "start_time": "2024-11-18T15:46:11.984Z"
   },
   {
    "duration": 7,
    "start_time": "2024-11-18T15:46:11.997Z"
   },
   {
    "duration": 2,
    "start_time": "2024-11-18T15:46:12.007Z"
   },
   {
    "duration": 10,
    "start_time": "2024-11-18T15:46:12.013Z"
   },
   {
    "duration": 11,
    "start_time": "2024-11-18T15:46:12.024Z"
   },
   {
    "duration": 9,
    "start_time": "2024-11-18T15:46:12.036Z"
   },
   {
    "duration": 49,
    "start_time": "2024-11-18T15:46:12.046Z"
   },
   {
    "duration": 9,
    "start_time": "2024-11-18T15:46:12.097Z"
   },
   {
    "duration": 2,
    "start_time": "2024-11-18T15:46:12.108Z"
   },
   {
    "duration": 6,
    "start_time": "2024-11-18T15:46:12.112Z"
   },
   {
    "duration": 2,
    "start_time": "2024-11-18T15:46:12.119Z"
   },
   {
    "duration": 4,
    "start_time": "2024-11-18T15:46:12.123Z"
   },
   {
    "duration": 8,
    "start_time": "2024-11-18T15:46:12.130Z"
   },
   {
    "duration": 2,
    "start_time": "2024-11-18T15:46:12.140Z"
   },
   {
    "duration": 9,
    "start_time": "2024-11-18T15:46:12.186Z"
   },
   {
    "duration": 2,
    "start_time": "2024-11-18T15:46:12.197Z"
   },
   {
    "duration": 10,
    "start_time": "2024-11-18T15:46:12.201Z"
   },
   {
    "duration": 8,
    "start_time": "2024-11-18T15:46:12.214Z"
   },
   {
    "duration": 8,
    "start_time": "2024-11-18T15:46:12.223Z"
   },
   {
    "duration": 2,
    "start_time": "2024-11-18T15:46:12.232Z"
   },
   {
    "duration": 5,
    "start_time": "2024-11-18T15:46:12.236Z"
   },
   {
    "duration": 51,
    "start_time": "2024-11-18T15:46:12.243Z"
   },
   {
    "duration": 8,
    "start_time": "2024-11-18T15:46:12.296Z"
   },
   {
    "duration": 8,
    "start_time": "2024-11-18T15:46:12.306Z"
   },
   {
    "duration": 2,
    "start_time": "2024-11-18T15:46:12.316Z"
   },
   {
    "duration": 11,
    "start_time": "2024-11-18T15:46:12.320Z"
   },
   {
    "duration": 5,
    "start_time": "2024-11-18T15:46:12.333Z"
   },
   {
    "duration": 5,
    "start_time": "2024-11-18T15:46:12.339Z"
   },
   {
    "duration": 173,
    "start_time": "2024-11-18T15:46:12.345Z"
   },
   {
    "duration": 7,
    "start_time": "2024-11-18T15:46:12.520Z"
   },
   {
    "duration": 2,
    "start_time": "2024-11-18T15:46:12.529Z"
   },
   {
    "duration": 167,
    "start_time": "2024-11-18T15:46:12.533Z"
   },
   {
    "duration": 2,
    "start_time": "2024-11-18T15:46:12.702Z"
   },
   {
    "duration": 14,
    "start_time": "2024-11-18T15:46:12.706Z"
   },
   {
    "duration": 229,
    "start_time": "2024-11-18T15:46:12.722Z"
   },
   {
    "duration": 2,
    "start_time": "2024-11-18T15:46:12.953Z"
   },
   {
    "duration": 31,
    "start_time": "2024-11-18T15:46:12.957Z"
   },
   {
    "duration": 5,
    "start_time": "2024-11-18T15:46:12.990Z"
   },
   {
    "duration": 176,
    "start_time": "2024-11-18T15:46:12.997Z"
   },
   {
    "duration": 3,
    "start_time": "2024-11-18T15:46:13.178Z"
   },
   {
    "duration": 16,
    "start_time": "2024-11-18T15:46:13.187Z"
   },
   {
    "duration": 11,
    "start_time": "2024-11-18T15:46:13.205Z"
   },
   {
    "duration": 401,
    "start_time": "2024-11-18T15:46:13.218Z"
   },
   {
    "duration": 2,
    "start_time": "2024-11-18T15:46:13.621Z"
   },
   {
    "duration": 334,
    "start_time": "2024-11-18T15:46:13.625Z"
   },
   {
    "duration": 2,
    "start_time": "2024-11-18T15:46:13.961Z"
   },
   {
    "duration": 9,
    "start_time": "2024-11-18T15:46:13.986Z"
   },
   {
    "duration": 10,
    "start_time": "2024-11-18T15:46:13.996Z"
   },
   {
    "duration": 3,
    "start_time": "2024-11-18T15:46:14.007Z"
   },
   {
    "duration": 114,
    "start_time": "2024-11-18T15:46:14.011Z"
   },
   {
    "duration": 2,
    "start_time": "2024-11-18T15:46:14.128Z"
   },
   {
    "duration": 4,
    "start_time": "2024-11-18T15:46:14.132Z"
   },
   {
    "duration": 3,
    "start_time": "2024-11-18T15:46:14.137Z"
   },
   {
    "duration": 9,
    "start_time": "2024-11-18T15:46:14.142Z"
   },
   {
    "duration": 36,
    "start_time": "2024-11-18T15:46:14.152Z"
   },
   {
    "duration": 2,
    "start_time": "2024-11-18T15:46:14.190Z"
   },
   {
    "duration": 125,
    "start_time": "2024-11-18T15:46:14.194Z"
   },
   {
    "duration": 43,
    "start_time": "2024-11-18T15:46:14.321Z"
   },
   {
    "duration": 0,
    "start_time": "2024-11-18T15:46:14.366Z"
   },
   {
    "duration": 0,
    "start_time": "2024-11-18T15:46:14.367Z"
   },
   {
    "duration": 0,
    "start_time": "2024-11-18T15:46:14.368Z"
   },
   {
    "duration": 0,
    "start_time": "2024-11-18T15:46:14.370Z"
   },
   {
    "duration": 0,
    "start_time": "2024-11-18T15:46:14.386Z"
   },
   {
    "duration": 0,
    "start_time": "2024-11-18T15:46:14.388Z"
   },
   {
    "duration": 109,
    "start_time": "2024-11-18T15:46:54.738Z"
   },
   {
    "duration": 5,
    "start_time": "2024-11-18T15:47:10.679Z"
   },
   {
    "duration": 4,
    "start_time": "2024-11-18T15:49:35.159Z"
   },
   {
    "duration": 5,
    "start_time": "2024-11-18T15:49:42.906Z"
   },
   {
    "duration": 2,
    "start_time": "2024-11-18T15:49:47.519Z"
   },
   {
    "duration": 4,
    "start_time": "2024-11-18T15:57:04.331Z"
   },
   {
    "duration": 5,
    "start_time": "2024-11-18T16:03:22.169Z"
   },
   {
    "duration": 5,
    "start_time": "2024-11-18T16:03:25.308Z"
   },
   {
    "duration": 4,
    "start_time": "2024-11-18T16:03:49.633Z"
   },
   {
    "duration": 3,
    "start_time": "2024-11-18T16:03:51.745Z"
   },
   {
    "duration": 2561,
    "start_time": "2024-11-19T06:03:00.019Z"
   },
   {
    "duration": 22,
    "start_time": "2024-11-19T06:03:02.582Z"
   },
   {
    "duration": 9,
    "start_time": "2024-11-19T06:03:02.606Z"
   },
   {
    "duration": 2,
    "start_time": "2024-11-19T06:03:02.618Z"
   },
   {
    "duration": 18,
    "start_time": "2024-11-19T06:03:02.622Z"
   },
   {
    "duration": 12,
    "start_time": "2024-11-19T06:03:02.642Z"
   },
   {
    "duration": 10,
    "start_time": "2024-11-19T06:03:02.656Z"
   },
   {
    "duration": 11,
    "start_time": "2024-11-19T06:03:02.667Z"
   },
   {
    "duration": 9,
    "start_time": "2024-11-19T06:03:02.679Z"
   },
   {
    "duration": 2,
    "start_time": "2024-11-19T06:03:02.691Z"
   },
   {
    "duration": 41,
    "start_time": "2024-11-19T06:03:02.695Z"
   },
   {
    "duration": 2,
    "start_time": "2024-11-19T06:03:02.738Z"
   },
   {
    "duration": 6,
    "start_time": "2024-11-19T06:03:02.742Z"
   },
   {
    "duration": 11,
    "start_time": "2024-11-19T06:03:02.749Z"
   },
   {
    "duration": 3,
    "start_time": "2024-11-19T06:03:02.761Z"
   },
   {
    "duration": 10,
    "start_time": "2024-11-19T06:03:02.765Z"
   },
   {
    "duration": 18,
    "start_time": "2024-11-19T06:03:02.776Z"
   },
   {
    "duration": 20,
    "start_time": "2024-11-19T06:03:02.796Z"
   },
   {
    "duration": 21,
    "start_time": "2024-11-19T06:03:02.818Z"
   },
   {
    "duration": 8,
    "start_time": "2024-11-19T06:03:02.841Z"
   },
   {
    "duration": 11,
    "start_time": "2024-11-19T06:03:02.852Z"
   },
   {
    "duration": 2,
    "start_time": "2024-11-19T06:03:02.865Z"
   },
   {
    "duration": 6,
    "start_time": "2024-11-19T06:03:02.869Z"
   },
   {
    "duration": 11,
    "start_time": "2024-11-19T06:03:02.877Z"
   },
   {
    "duration": 45,
    "start_time": "2024-11-19T06:03:02.889Z"
   },
   {
    "duration": 8,
    "start_time": "2024-11-19T06:03:02.936Z"
   },
   {
    "duration": 2,
    "start_time": "2024-11-19T06:03:02.946Z"
   },
   {
    "duration": 12,
    "start_time": "2024-11-19T06:03:02.954Z"
   },
   {
    "duration": 5,
    "start_time": "2024-11-19T06:03:02.968Z"
   },
   {
    "duration": 7,
    "start_time": "2024-11-19T06:03:02.974Z"
   },
   {
    "duration": 183,
    "start_time": "2024-11-19T06:03:02.982Z"
   },
   {
    "duration": 6,
    "start_time": "2024-11-19T06:03:03.167Z"
   },
   {
    "duration": 4,
    "start_time": "2024-11-19T06:03:03.175Z"
   },
   {
    "duration": 163,
    "start_time": "2024-11-19T06:03:03.180Z"
   },
   {
    "duration": 2,
    "start_time": "2024-11-19T06:03:03.345Z"
   },
   {
    "duration": 13,
    "start_time": "2024-11-19T06:03:03.349Z"
   },
   {
    "duration": 244,
    "start_time": "2024-11-19T06:03:03.364Z"
   },
   {
    "duration": 2,
    "start_time": "2024-11-19T06:03:03.610Z"
   },
   {
    "duration": 29,
    "start_time": "2024-11-19T06:03:03.614Z"
   },
   {
    "duration": 6,
    "start_time": "2024-11-19T06:03:03.645Z"
   },
   {
    "duration": 171,
    "start_time": "2024-11-19T06:03:03.653Z"
   },
   {
    "duration": 3,
    "start_time": "2024-11-19T06:03:03.825Z"
   },
   {
    "duration": 12,
    "start_time": "2024-11-19T06:03:03.830Z"
   },
   {
    "duration": 11,
    "start_time": "2024-11-19T06:03:03.844Z"
   },
   {
    "duration": 392,
    "start_time": "2024-11-19T06:03:03.856Z"
   },
   {
    "duration": 2,
    "start_time": "2024-11-19T06:03:04.250Z"
   },
   {
    "duration": 232,
    "start_time": "2024-11-19T06:03:04.255Z"
   },
   {
    "duration": 3,
    "start_time": "2024-11-19T06:03:04.489Z"
   },
   {
    "duration": 11,
    "start_time": "2024-11-19T06:03:04.494Z"
   },
   {
    "duration": 27,
    "start_time": "2024-11-19T06:03:04.506Z"
   },
   {
    "duration": 3,
    "start_time": "2024-11-19T06:03:04.535Z"
   },
   {
    "duration": 182,
    "start_time": "2024-11-19T06:03:04.539Z"
   },
   {
    "duration": 3,
    "start_time": "2024-11-19T06:03:04.731Z"
   },
   {
    "duration": 6,
    "start_time": "2024-11-19T06:03:04.735Z"
   },
   {
    "duration": 2,
    "start_time": "2024-11-19T06:03:04.743Z"
   },
   {
    "duration": 12,
    "start_time": "2024-11-19T06:03:04.746Z"
   },
   {
    "duration": 2,
    "start_time": "2024-11-19T06:03:04.760Z"
   },
   {
    "duration": 140,
    "start_time": "2024-11-19T06:03:04.764Z"
   },
   {
    "duration": 5,
    "start_time": "2024-11-19T06:03:04.906Z"
   },
   {
    "duration": 3,
    "start_time": "2024-11-19T06:03:04.913Z"
   },
   {
    "duration": 5,
    "start_time": "2024-11-19T06:03:04.932Z"
   },
   {
    "duration": 5,
    "start_time": "2024-11-19T06:03:04.939Z"
   },
   {
    "duration": 3,
    "start_time": "2024-11-19T06:03:04.945Z"
   },
   {
    "duration": 5,
    "start_time": "2024-11-19T06:03:04.950Z"
   },
   {
    "duration": 4,
    "start_time": "2024-11-19T06:03:04.956Z"
   },
   {
    "duration": 3,
    "start_time": "2024-11-19T06:03:04.962Z"
   },
   {
    "duration": 4,
    "start_time": "2024-11-19T06:03:04.966Z"
   },
   {
    "duration": 166,
    "start_time": "2024-11-20T04:15:54.121Z"
   },
   {
    "duration": 2591,
    "start_time": "2024-11-20T04:16:04.243Z"
   },
   {
    "duration": 22,
    "start_time": "2024-11-20T04:16:06.836Z"
   },
   {
    "duration": 9,
    "start_time": "2024-11-20T04:16:06.860Z"
   },
   {
    "duration": 2,
    "start_time": "2024-11-20T04:16:06.872Z"
   },
   {
    "duration": 12,
    "start_time": "2024-11-20T04:16:06.876Z"
   },
   {
    "duration": 10,
    "start_time": "2024-11-20T04:16:06.890Z"
   },
   {
    "duration": 31,
    "start_time": "2024-11-20T04:16:06.902Z"
   },
   {
    "duration": 11,
    "start_time": "2024-11-20T04:16:06.935Z"
   },
   {
    "duration": 10,
    "start_time": "2024-11-20T04:16:06.948Z"
   },
   {
    "duration": 10,
    "start_time": "2024-11-20T04:16:06.963Z"
   },
   {
    "duration": 4,
    "start_time": "2024-11-20T04:16:06.975Z"
   },
   {
    "duration": 11,
    "start_time": "2024-11-20T04:16:06.982Z"
   },
   {
    "duration": 45,
    "start_time": "2024-11-20T04:16:06.995Z"
   },
   {
    "duration": 5,
    "start_time": "2024-11-20T04:16:07.041Z"
   },
   {
    "duration": 11,
    "start_time": "2024-11-20T04:16:07.048Z"
   },
   {
    "duration": 8,
    "start_time": "2024-11-20T04:16:07.060Z"
   },
   {
    "duration": 13,
    "start_time": "2024-11-20T04:16:07.070Z"
   },
   {
    "duration": 5,
    "start_time": "2024-11-20T04:16:07.085Z"
   },
   {
    "duration": 46,
    "start_time": "2024-11-20T04:16:07.092Z"
   },
   {
    "duration": 8,
    "start_time": "2024-11-20T04:16:07.139Z"
   },
   {
    "duration": 10,
    "start_time": "2024-11-20T04:16:07.148Z"
   },
   {
    "duration": 12,
    "start_time": "2024-11-20T04:16:07.159Z"
   },
   {
    "duration": 7,
    "start_time": "2024-11-20T04:16:07.172Z"
   },
   {
    "duration": 5,
    "start_time": "2024-11-20T04:16:07.181Z"
   },
   {
    "duration": 239,
    "start_time": "2024-11-20T04:16:07.188Z"
   },
   {
    "duration": 7,
    "start_time": "2024-11-20T04:16:07.430Z"
   },
   {
    "duration": 153,
    "start_time": "2024-11-20T04:16:07.439Z"
   },
   {
    "duration": 12,
    "start_time": "2024-11-20T04:16:07.597Z"
   },
   {
    "duration": 9,
    "start_time": "2024-11-20T04:26:00.255Z"
   },
   {
    "duration": 341,
    "start_time": "2024-11-20T04:27:01.014Z"
   },
   {
    "duration": 253,
    "start_time": "2024-11-20T04:27:16.080Z"
   },
   {
    "duration": 245,
    "start_time": "2024-11-20T04:39:51.001Z"
   },
   {
    "duration": 7,
    "start_time": "2024-11-20T04:40:02.857Z"
   },
   {
    "duration": 202,
    "start_time": "2024-11-20T04:41:15.681Z"
   },
   {
    "duration": 123,
    "start_time": "2024-11-20T04:42:05.499Z"
   },
   {
    "duration": 17,
    "start_time": "2024-11-20T04:44:08.686Z"
   },
   {
    "duration": 20,
    "start_time": "2024-11-20T04:44:56.485Z"
   },
   {
    "duration": 842,
    "start_time": "2024-11-20T04:45:18.778Z"
   },
   {
    "duration": 155,
    "start_time": "2024-11-20T04:46:11.810Z"
   },
   {
    "duration": 8,
    "start_time": "2024-11-20T04:46:45.972Z"
   },
   {
    "duration": 226,
    "start_time": "2024-11-20T04:47:40.972Z"
   },
   {
    "duration": 247,
    "start_time": "2024-11-20T04:50:00.471Z"
   },
   {
    "duration": 2,
    "start_time": "2024-11-20T04:51:23.927Z"
   },
   {
    "duration": 14,
    "start_time": "2024-11-20T05:20:25.296Z"
   },
   {
    "duration": 19,
    "start_time": "2024-11-20T05:21:00.474Z"
   },
   {
    "duration": 17,
    "start_time": "2024-11-20T05:21:11.690Z"
   },
   {
    "duration": 3,
    "start_time": "2024-11-20T05:21:15.966Z"
   },
   {
    "duration": 19,
    "start_time": "2024-11-20T05:21:15.974Z"
   },
   {
    "duration": 8,
    "start_time": "2024-11-20T05:21:15.996Z"
   },
   {
    "duration": 3,
    "start_time": "2024-11-20T05:21:16.007Z"
   },
   {
    "duration": 11,
    "start_time": "2024-11-20T05:21:16.012Z"
   },
   {
    "duration": 12,
    "start_time": "2024-11-20T05:21:16.026Z"
   },
   {
    "duration": 9,
    "start_time": "2024-11-20T05:21:16.040Z"
   },
   {
    "duration": 13,
    "start_time": "2024-11-20T05:21:16.052Z"
   },
   {
    "duration": 10,
    "start_time": "2024-11-20T05:21:16.067Z"
   },
   {
    "duration": 8,
    "start_time": "2024-11-20T05:21:16.079Z"
   },
   {
    "duration": 50,
    "start_time": "2024-11-20T05:21:16.089Z"
   },
   {
    "duration": 11,
    "start_time": "2024-11-20T05:21:16.142Z"
   },
   {
    "duration": 17,
    "start_time": "2024-11-20T05:21:16.155Z"
   },
   {
    "duration": 5,
    "start_time": "2024-11-20T05:21:16.174Z"
   },
   {
    "duration": 7,
    "start_time": "2024-11-20T05:21:16.183Z"
   },
   {
    "duration": 12,
    "start_time": "2024-11-20T05:21:16.192Z"
   },
   {
    "duration": 11,
    "start_time": "2024-11-20T05:21:16.232Z"
   },
   {
    "duration": 10,
    "start_time": "2024-11-20T05:21:16.245Z"
   },
   {
    "duration": 5,
    "start_time": "2024-11-20T05:21:16.257Z"
   },
   {
    "duration": 10,
    "start_time": "2024-11-20T05:21:16.264Z"
   },
   {
    "duration": 8,
    "start_time": "2024-11-20T05:21:16.276Z"
   },
   {
    "duration": 10,
    "start_time": "2024-11-20T05:21:16.286Z"
   },
   {
    "duration": 46,
    "start_time": "2024-11-20T05:21:16.297Z"
   },
   {
    "duration": 6,
    "start_time": "2024-11-20T05:21:16.345Z"
   },
   {
    "duration": 6,
    "start_time": "2024-11-20T05:21:16.353Z"
   },
   {
    "duration": 171,
    "start_time": "2024-11-20T05:21:16.361Z"
   },
   {
    "duration": 7,
    "start_time": "2024-11-20T05:21:16.535Z"
   },
   {
    "duration": 230,
    "start_time": "2024-11-20T05:21:16.544Z"
   },
   {
    "duration": 14,
    "start_time": "2024-11-20T05:21:16.776Z"
   },
   {
    "duration": 9,
    "start_time": "2024-11-20T05:21:16.792Z"
   },
   {
    "duration": 320,
    "start_time": "2024-11-20T05:21:16.803Z"
   },
   {
    "duration": 245,
    "start_time": "2024-11-20T05:21:17.125Z"
   },
   {
    "duration": 14,
    "start_time": "2024-11-20T05:21:17.373Z"
   },
   {
    "duration": 7,
    "start_time": "2024-11-20T05:21:17.389Z"
   },
   {
    "duration": 166,
    "start_time": "2024-11-20T05:21:17.398Z"
   },
   {
    "duration": 14,
    "start_time": "2024-11-20T05:21:17.566Z"
   },
   {
    "duration": 11,
    "start_time": "2024-11-20T05:21:17.583Z"
   },
   {
    "duration": 385,
    "start_time": "2024-11-20T05:21:17.596Z"
   },
   {
    "duration": 223,
    "start_time": "2024-11-20T05:21:17.983Z"
   },
   {
    "duration": 13,
    "start_time": "2024-11-20T05:21:18.207Z"
   },
   {
    "duration": 12,
    "start_time": "2024-11-20T05:21:18.232Z"
   },
   {
    "duration": 3,
    "start_time": "2024-11-20T05:21:18.249Z"
   },
   {
    "duration": 132,
    "start_time": "2024-11-20T05:21:18.254Z"
   },
   {
    "duration": 9,
    "start_time": "2024-11-20T05:21:18.388Z"
   },
   {
    "duration": 13,
    "start_time": "2024-11-20T05:21:18.399Z"
   },
   {
    "duration": 3,
    "start_time": "2024-11-20T05:21:18.414Z"
   },
   {
    "duration": 128,
    "start_time": "2024-11-20T05:21:18.431Z"
   },
   {
    "duration": 7,
    "start_time": "2024-11-20T05:21:18.561Z"
   },
   {
    "duration": 5,
    "start_time": "2024-11-20T05:23:55.641Z"
   },
   {
    "duration": 3,
    "start_time": "2024-11-20T05:24:02.857Z"
   },
   {
    "duration": 8,
    "start_time": "2024-11-20T05:24:06.433Z"
   },
   {
    "duration": 7,
    "start_time": "2024-11-20T05:24:23.369Z"
   },
   {
    "duration": 5,
    "start_time": "2024-11-20T05:24:38.880Z"
   },
   {
    "duration": 5,
    "start_time": "2024-11-20T05:24:43.601Z"
   },
   {
    "duration": 6,
    "start_time": "2024-11-20T05:26:43.690Z"
   },
   {
    "duration": 4,
    "start_time": "2024-11-20T05:26:48.653Z"
   },
   {
    "duration": 4,
    "start_time": "2024-11-20T05:27:07.699Z"
   },
   {
    "duration": 5,
    "start_time": "2024-11-20T05:27:13.939Z"
   },
   {
    "duration": 4,
    "start_time": "2024-11-20T05:28:07.691Z"
   },
   {
    "duration": 4,
    "start_time": "2024-11-20T05:30:48.389Z"
   },
   {
    "duration": 369,
    "start_time": "2024-11-20T05:41:27.645Z"
   },
   {
    "duration": 4,
    "start_time": "2024-11-20T05:42:21.365Z"
   },
   {
    "duration": 4,
    "start_time": "2024-11-20T05:43:31.581Z"
   },
   {
    "duration": 16,
    "start_time": "2024-11-20T05:52:20.537Z"
   },
   {
    "duration": 555,
    "start_time": "2024-11-20T05:53:42.559Z"
   },
   {
    "duration": 20,
    "start_time": "2024-11-20T05:54:01.919Z"
   },
   {
    "duration": 3,
    "start_time": "2024-11-20T05:59:41.687Z"
   },
   {
    "duration": 6,
    "start_time": "2024-11-20T05:59:46.264Z"
   },
   {
    "duration": 14,
    "start_time": "2024-11-20T05:59:49.399Z"
   },
   {
    "duration": 14,
    "start_time": "2024-11-20T06:00:25.799Z"
   },
   {
    "duration": 17,
    "start_time": "2024-11-20T06:00:58.911Z"
   },
   {
    "duration": 21,
    "start_time": "2024-11-20T06:04:08.117Z"
   },
   {
    "duration": 3,
    "start_time": "2024-11-20T06:04:30.721Z"
   },
   {
    "duration": 17,
    "start_time": "2024-11-20T06:04:30.726Z"
   },
   {
    "duration": 13,
    "start_time": "2024-11-20T06:04:30.746Z"
   },
   {
    "duration": 4,
    "start_time": "2024-11-20T06:04:30.761Z"
   },
   {
    "duration": 12,
    "start_time": "2024-11-20T06:04:30.768Z"
   },
   {
    "duration": 11,
    "start_time": "2024-11-20T06:04:30.782Z"
   },
   {
    "duration": 10,
    "start_time": "2024-11-20T06:04:30.795Z"
   },
   {
    "duration": 13,
    "start_time": "2024-11-20T06:04:30.831Z"
   },
   {
    "duration": 10,
    "start_time": "2024-11-20T06:04:30.845Z"
   },
   {
    "duration": 11,
    "start_time": "2024-11-20T06:04:30.857Z"
   },
   {
    "duration": 7,
    "start_time": "2024-11-20T06:04:30.872Z"
   },
   {
    "duration": 9,
    "start_time": "2024-11-20T06:04:30.881Z"
   },
   {
    "duration": 10,
    "start_time": "2024-11-20T06:04:30.892Z"
   },
   {
    "duration": 3,
    "start_time": "2024-11-20T06:04:30.933Z"
   },
   {
    "duration": 18,
    "start_time": "2024-11-20T06:04:30.938Z"
   },
   {
    "duration": 9,
    "start_time": "2024-11-20T06:04:30.958Z"
   },
   {
    "duration": 11,
    "start_time": "2024-11-20T06:04:30.972Z"
   },
   {
    "duration": 5,
    "start_time": "2024-11-20T06:04:30.985Z"
   },
   {
    "duration": 9,
    "start_time": "2024-11-20T06:04:30.992Z"
   },
   {
    "duration": 35,
    "start_time": "2024-11-20T06:04:31.002Z"
   },
   {
    "duration": 13,
    "start_time": "2024-11-20T06:04:31.041Z"
   },
   {
    "duration": 18,
    "start_time": "2024-11-20T06:04:31.057Z"
   },
   {
    "duration": 6,
    "start_time": "2024-11-20T06:04:31.077Z"
   },
   {
    "duration": 5,
    "start_time": "2024-11-20T06:04:31.085Z"
   },
   {
    "duration": 194,
    "start_time": "2024-11-20T06:04:31.092Z"
   },
   {
    "duration": 6,
    "start_time": "2024-11-20T06:04:31.290Z"
   },
   {
    "duration": 168,
    "start_time": "2024-11-20T06:04:31.298Z"
   },
   {
    "duration": 16,
    "start_time": "2024-11-20T06:04:31.469Z"
   },
   {
    "duration": 22,
    "start_time": "2024-11-20T06:11:39.935Z"
   },
   {
    "duration": 12,
    "start_time": "2024-11-20T06:19:31.485Z"
   },
   {
    "duration": 24,
    "start_time": "2024-11-20T06:20:30.741Z"
   },
   {
    "duration": 3,
    "start_time": "2024-11-20T06:22:41.320Z"
   },
   {
    "duration": 17,
    "start_time": "2024-11-20T06:22:45.735Z"
   },
   {
    "duration": 3,
    "start_time": "2024-11-20T06:22:57.984Z"
   },
   {
    "duration": 15,
    "start_time": "2024-11-20T06:22:57.989Z"
   },
   {
    "duration": 8,
    "start_time": "2024-11-20T06:22:58.006Z"
   },
   {
    "duration": 3,
    "start_time": "2024-11-20T06:22:58.016Z"
   },
   {
    "duration": 13,
    "start_time": "2024-11-20T06:22:58.024Z"
   },
   {
    "duration": 24,
    "start_time": "2024-11-20T06:22:58.040Z"
   },
   {
    "duration": 15,
    "start_time": "2024-11-20T06:22:58.066Z"
   },
   {
    "duration": 11,
    "start_time": "2024-11-20T06:22:58.083Z"
   },
   {
    "duration": 9,
    "start_time": "2024-11-20T06:22:58.096Z"
   },
   {
    "duration": 7,
    "start_time": "2024-11-20T06:22:58.107Z"
   },
   {
    "duration": 25,
    "start_time": "2024-11-20T06:22:58.116Z"
   },
   {
    "duration": 11,
    "start_time": "2024-11-20T06:22:58.143Z"
   },
   {
    "duration": 13,
    "start_time": "2024-11-20T06:22:58.156Z"
   },
   {
    "duration": 4,
    "start_time": "2024-11-20T06:22:58.171Z"
   },
   {
    "duration": 12,
    "start_time": "2024-11-20T06:22:58.177Z"
   },
   {
    "duration": 41,
    "start_time": "2024-11-20T06:22:58.191Z"
   },
   {
    "duration": 15,
    "start_time": "2024-11-20T06:22:58.237Z"
   },
   {
    "duration": 6,
    "start_time": "2024-11-20T06:22:58.254Z"
   },
   {
    "duration": 11,
    "start_time": "2024-11-20T06:22:58.262Z"
   },
   {
    "duration": 11,
    "start_time": "2024-11-20T06:22:58.275Z"
   },
   {
    "duration": 8,
    "start_time": "2024-11-20T06:22:58.288Z"
   },
   {
    "duration": 42,
    "start_time": "2024-11-20T06:22:58.298Z"
   },
   {
    "duration": 7,
    "start_time": "2024-11-20T06:22:58.343Z"
   },
   {
    "duration": 6,
    "start_time": "2024-11-20T06:22:58.352Z"
   },
   {
    "duration": 168,
    "start_time": "2024-11-20T06:22:58.360Z"
   },
   {
    "duration": 7,
    "start_time": "2024-11-20T06:22:58.535Z"
   },
   {
    "duration": 243,
    "start_time": "2024-11-20T06:22:58.547Z"
   },
   {
    "duration": 14,
    "start_time": "2024-11-20T06:22:58.792Z"
   },
   {
    "duration": 8,
    "start_time": "2024-11-20T06:22:58.808Z"
   },
   {
    "duration": 305,
    "start_time": "2024-11-20T06:22:58.836Z"
   },
   {
    "duration": 263,
    "start_time": "2024-11-20T06:22:59.143Z"
   },
   {
    "duration": 30,
    "start_time": "2024-11-20T06:22:59.408Z"
   },
   {
    "duration": 8,
    "start_time": "2024-11-20T06:22:59.439Z"
   },
   {
    "duration": 174,
    "start_time": "2024-11-20T06:22:59.449Z"
   },
   {
    "duration": 21,
    "start_time": "2024-11-20T06:22:59.625Z"
   },
   {
    "duration": 16,
    "start_time": "2024-11-20T06:22:59.647Z"
   },
   {
    "duration": 445,
    "start_time": "2024-11-20T06:22:59.665Z"
   },
   {
    "duration": 392,
    "start_time": "2024-11-20T06:23:00.112Z"
   },
   {
    "duration": 9,
    "start_time": "2024-11-20T06:23:00.509Z"
   },
   {
    "duration": 13,
    "start_time": "2024-11-20T06:23:00.532Z"
   },
   {
    "duration": 7,
    "start_time": "2024-11-20T06:23:00.548Z"
   },
   {
    "duration": 127,
    "start_time": "2024-11-20T06:23:00.557Z"
   },
   {
    "duration": 5,
    "start_time": "2024-11-20T06:23:00.686Z"
   },
   {
    "duration": 11,
    "start_time": "2024-11-20T06:23:00.692Z"
   },
   {
    "duration": 5,
    "start_time": "2024-11-20T06:23:00.705Z"
   },
   {
    "duration": 170,
    "start_time": "2024-11-20T06:23:00.711Z"
   },
   {
    "duration": 5,
    "start_time": "2024-11-20T06:23:00.883Z"
   },
   {
    "duration": 5,
    "start_time": "2024-11-20T06:23:00.889Z"
   },
   {
    "duration": 4,
    "start_time": "2024-11-20T06:23:00.895Z"
   },
   {
    "duration": 5,
    "start_time": "2024-11-20T06:23:00.901Z"
   },
   {
    "duration": 49,
    "start_time": "2024-11-20T06:23:00.909Z"
   },
   {
    "duration": 9,
    "start_time": "2024-11-20T06:23:25.630Z"
   },
   {
    "duration": 3,
    "start_time": "2024-11-20T06:23:37.606Z"
   },
   {
    "duration": 5,
    "start_time": "2024-11-20T06:26:26.535Z"
   },
   {
    "duration": 3,
    "start_time": "2024-11-20T06:35:51.146Z"
   },
   {
    "duration": 23,
    "start_time": "2024-11-20T06:35:58.427Z"
   },
   {
    "duration": 22,
    "start_time": "2024-11-20T06:36:07.929Z"
   },
   {
    "duration": 26,
    "start_time": "2024-11-20T06:36:12.848Z"
   },
   {
    "duration": 5,
    "start_time": "2024-11-20T06:37:57.188Z"
   },
   {
    "duration": 5,
    "start_time": "2024-11-20T06:38:54.298Z"
   },
   {
    "duration": 422,
    "start_time": "2024-11-20T06:47:36.612Z"
   },
   {
    "duration": 6,
    "start_time": "2024-11-20T06:49:00.301Z"
   },
   {
    "duration": 6,
    "start_time": "2024-11-20T06:49:25.915Z"
   },
   {
    "duration": 6,
    "start_time": "2024-11-20T06:49:43.498Z"
   },
   {
    "duration": 6,
    "start_time": "2024-11-20T06:49:47.906Z"
   },
   {
    "duration": 7,
    "start_time": "2024-11-20T06:51:08.364Z"
   },
   {
    "duration": 7,
    "start_time": "2024-11-20T06:51:34.436Z"
   },
   {
    "duration": 8,
    "start_time": "2024-11-20T06:52:26.572Z"
   },
   {
    "duration": 7,
    "start_time": "2024-11-20T06:52:30.848Z"
   },
   {
    "duration": 5,
    "start_time": "2024-11-20T06:53:23.723Z"
   },
   {
    "duration": 5,
    "start_time": "2024-11-20T06:53:30.001Z"
   },
   {
    "duration": 6,
    "start_time": "2024-11-20T06:53:36.276Z"
   },
   {
    "duration": 7,
    "start_time": "2024-11-20T07:00:29.061Z"
   },
   {
    "duration": 4,
    "start_time": "2024-11-20T07:02:20.610Z"
   },
   {
    "duration": 3,
    "start_time": "2024-11-20T07:03:06.884Z"
   },
   {
    "duration": 3,
    "start_time": "2024-11-20T07:03:26.248Z"
   },
   {
    "duration": 6,
    "start_time": "2024-11-20T07:06:53.556Z"
   },
   {
    "duration": 8,
    "start_time": "2024-11-20T07:18:30.984Z"
   },
   {
    "duration": 12,
    "start_time": "2024-11-20T07:18:57.714Z"
   },
   {
    "duration": 275,
    "start_time": "2024-11-20T07:20:38.797Z"
   },
   {
    "duration": 41,
    "start_time": "2024-11-20T07:20:47.782Z"
   },
   {
    "duration": 18,
    "start_time": "2024-11-20T07:20:53.046Z"
   },
   {
    "duration": 680,
    "start_time": "2024-11-20T07:21:37.000Z"
   },
   {
    "duration": 14,
    "start_time": "2024-11-20T07:22:00.022Z"
   },
   {
    "duration": 26,
    "start_time": "2024-11-20T07:23:41.358Z"
   },
   {
    "duration": 11,
    "start_time": "2024-11-20T07:26:28.239Z"
   },
   {
    "duration": 6,
    "start_time": "2024-11-20T07:27:54.007Z"
   },
   {
    "duration": 13,
    "start_time": "2024-11-20T07:37:49.584Z"
   },
   {
    "duration": 24,
    "start_time": "2024-11-20T07:38:33.227Z"
   },
   {
    "duration": 19,
    "start_time": "2024-11-20T07:39:18.564Z"
   },
   {
    "duration": 8,
    "start_time": "2024-11-20T07:39:24.160Z"
   },
   {
    "duration": 21,
    "start_time": "2024-11-20T07:39:40.233Z"
   },
   {
    "duration": 15,
    "start_time": "2024-11-20T07:39:49.416Z"
   },
   {
    "duration": 5,
    "start_time": "2024-11-20T07:39:57.480Z"
   },
   {
    "duration": 5,
    "start_time": "2024-11-20T07:42:27.259Z"
   },
   {
    "duration": 17,
    "start_time": "2024-11-20T07:46:25.937Z"
   },
   {
    "duration": 2459,
    "start_time": "2024-11-21T03:55:20.893Z"
   },
   {
    "duration": 23,
    "start_time": "2024-11-21T03:55:23.354Z"
   },
   {
    "duration": 9,
    "start_time": "2024-11-21T03:55:23.379Z"
   },
   {
    "duration": 3,
    "start_time": "2024-11-21T03:55:23.390Z"
   },
   {
    "duration": 14,
    "start_time": "2024-11-21T03:55:23.395Z"
   },
   {
    "duration": 11,
    "start_time": "2024-11-21T03:55:23.411Z"
   },
   {
    "duration": 8,
    "start_time": "2024-11-21T03:55:23.424Z"
   },
   {
    "duration": 11,
    "start_time": "2024-11-21T03:55:23.434Z"
   },
   {
    "duration": 9,
    "start_time": "2024-11-21T03:55:23.447Z"
   },
   {
    "duration": 8,
    "start_time": "2024-11-21T03:55:23.458Z"
   },
   {
    "duration": 4,
    "start_time": "2024-11-21T03:55:23.468Z"
   },
   {
    "duration": 9,
    "start_time": "2024-11-21T03:55:23.510Z"
   },
   {
    "duration": 9,
    "start_time": "2024-11-21T03:55:23.521Z"
   },
   {
    "duration": 4,
    "start_time": "2024-11-21T03:55:23.531Z"
   },
   {
    "duration": 12,
    "start_time": "2024-11-21T03:55:23.537Z"
   },
   {
    "duration": 8,
    "start_time": "2024-11-21T03:55:23.551Z"
   },
   {
    "duration": 50,
    "start_time": "2024-11-21T03:55:23.560Z"
   },
   {
    "duration": 6,
    "start_time": "2024-11-21T03:55:23.611Z"
   },
   {
    "duration": 10,
    "start_time": "2024-11-21T03:55:23.618Z"
   },
   {
    "duration": 7,
    "start_time": "2024-11-21T03:55:23.629Z"
   },
   {
    "duration": 8,
    "start_time": "2024-11-21T03:55:23.638Z"
   },
   {
    "duration": 12,
    "start_time": "2024-11-21T03:55:23.647Z"
   },
   {
    "duration": 4,
    "start_time": "2024-11-21T03:55:23.660Z"
   },
   {
    "duration": 4,
    "start_time": "2024-11-21T03:55:23.666Z"
   },
   {
    "duration": 151,
    "start_time": "2024-11-21T03:55:23.709Z"
   },
   {
    "duration": 6,
    "start_time": "2024-11-21T03:55:23.862Z"
   },
   {
    "duration": 156,
    "start_time": "2024-11-21T03:55:23.870Z"
   },
   {
    "duration": 13,
    "start_time": "2024-11-21T03:55:24.030Z"
   },
   {
    "duration": 7,
    "start_time": "2024-11-21T03:55:24.045Z"
   },
   {
    "duration": 338,
    "start_time": "2024-11-21T03:55:24.054Z"
   },
   {
    "duration": 222,
    "start_time": "2024-11-21T03:55:24.394Z"
   },
   {
    "duration": 14,
    "start_time": "2024-11-21T03:55:24.618Z"
   },
   {
    "duration": 5,
    "start_time": "2024-11-21T03:55:24.633Z"
   },
   {
    "duration": 228,
    "start_time": "2024-11-21T03:55:24.641Z"
   },
   {
    "duration": 12,
    "start_time": "2024-11-21T03:55:24.871Z"
   },
   {
    "duration": 10,
    "start_time": "2024-11-21T03:55:24.885Z"
   },
   {
    "duration": 358,
    "start_time": "2024-11-21T03:55:24.897Z"
   },
   {
    "duration": 214,
    "start_time": "2024-11-21T03:55:25.257Z"
   },
   {
    "duration": 10,
    "start_time": "2024-11-21T03:55:25.473Z"
   },
   {
    "duration": 25,
    "start_time": "2024-11-21T03:55:25.484Z"
   },
   {
    "duration": 3,
    "start_time": "2024-11-21T03:55:25.510Z"
   },
   {
    "duration": 111,
    "start_time": "2024-11-21T03:55:25.514Z"
   },
   {
    "duration": 5,
    "start_time": "2024-11-21T03:55:25.626Z"
   },
   {
    "duration": 11,
    "start_time": "2024-11-21T03:55:25.634Z"
   },
   {
    "duration": 2,
    "start_time": "2024-11-21T03:55:25.648Z"
   },
   {
    "duration": 128,
    "start_time": "2024-11-21T03:55:25.652Z"
   },
   {
    "duration": 4,
    "start_time": "2024-11-21T03:55:25.782Z"
   },
   {
    "duration": 4,
    "start_time": "2024-11-21T03:55:25.788Z"
   },
   {
    "duration": 6,
    "start_time": "2024-11-21T03:55:25.808Z"
   },
   {
    "duration": 6,
    "start_time": "2024-11-21T03:55:25.815Z"
   },
   {
    "duration": 8,
    "start_time": "2024-11-21T03:58:09.430Z"
   },
   {
    "duration": 12,
    "start_time": "2024-11-21T04:01:16.337Z"
   },
   {
    "duration": 5,
    "start_time": "2024-11-21T04:04:33.841Z"
   },
   {
    "duration": 4,
    "start_time": "2024-11-21T04:04:56.207Z"
   },
   {
    "duration": 4,
    "start_time": "2024-11-21T04:04:59.303Z"
   },
   {
    "duration": 5,
    "start_time": "2024-11-21T04:05:03.644Z"
   },
   {
    "duration": 11,
    "start_time": "2024-11-21T04:05:06.593Z"
   },
   {
    "duration": 15,
    "start_time": "2024-11-21T04:05:47.232Z"
   },
   {
    "duration": 8,
    "start_time": "2024-11-21T04:06:14.544Z"
   },
   {
    "duration": 5,
    "start_time": "2024-11-21T04:06:45.341Z"
   },
   {
    "duration": 7,
    "start_time": "2024-11-21T04:07:54.633Z"
   },
   {
    "duration": 374,
    "start_time": "2024-11-21T04:15:36.121Z"
   },
   {
    "duration": 687,
    "start_time": "2024-11-21T04:16:29.681Z"
   },
   {
    "duration": 356,
    "start_time": "2024-11-21T04:16:50.819Z"
   },
   {
    "duration": 383,
    "start_time": "2024-11-21T04:18:22.020Z"
   },
   {
    "duration": 11,
    "start_time": "2024-11-21T04:19:02.245Z"
   },
   {
    "duration": 356,
    "start_time": "2024-11-21T04:20:09.818Z"
   },
   {
    "duration": 330,
    "start_time": "2024-11-21T04:21:16.145Z"
   },
   {
    "duration": 4,
    "start_time": "2024-11-21T04:27:51.059Z"
   },
   {
    "duration": 5,
    "start_time": "2024-11-21T04:28:19.730Z"
   },
   {
    "duration": 5,
    "start_time": "2024-11-21T04:29:19.347Z"
   },
   {
    "duration": 267,
    "start_time": "2024-11-21T04:29:32.130Z"
   },
   {
    "duration": 315,
    "start_time": "2024-11-21T04:29:52.964Z"
   },
   {
    "duration": 250,
    "start_time": "2024-11-21T04:30:09.674Z"
   },
   {
    "duration": 9,
    "start_time": "2024-11-21T04:32:48.339Z"
   },
   {
    "duration": 24,
    "start_time": "2024-11-21T04:34:17.834Z"
   },
   {
    "duration": 9,
    "start_time": "2024-11-21T04:34:36.485Z"
   },
   {
    "duration": 6,
    "start_time": "2024-11-21T04:42:12.238Z"
   },
   {
    "duration": 97,
    "start_time": "2024-11-21T04:48:10.966Z"
   },
   {
    "duration": 206,
    "start_time": "2024-11-21T04:48:26.092Z"
   }
  ],
  "kernelspec": {
   "display_name": "Python 3 (ipykernel)",
   "language": "python",
   "name": "python3"
  },
  "language_info": {
   "codemirror_mode": {
    "name": "ipython",
    "version": 3
   },
   "file_extension": ".py",
   "mimetype": "text/x-python",
   "name": "python",
   "nbconvert_exporter": "python",
   "pygments_lexer": "ipython3",
   "version": "3.11.7"
  },
  "toc": {
   "base_numbering": 1,
   "nav_menu": {},
   "number_sections": true,
   "sideBar": true,
   "skip_h1_title": true,
   "title_cell": "Table of Contents",
   "title_sidebar": "Contents",
   "toc_cell": false,
   "toc_position": {
    "height": "calc(100% - 180px)",
    "left": "10px",
    "top": "150px",
    "width": "345.81px"
   },
   "toc_section_display": true,
   "toc_window_display": false
  }
 },
 "nbformat": 4,
 "nbformat_minor": 4
}
